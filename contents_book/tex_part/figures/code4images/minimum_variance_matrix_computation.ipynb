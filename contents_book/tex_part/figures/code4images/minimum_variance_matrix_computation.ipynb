{
 "cells": [
  {
   "cell_type": "code",
   "execution_count": 1,
   "id": "0731e047-0c7d-4a44-a8b0-371564987e7f",
   "metadata": {},
   "outputs": [],
   "source": [
    "using LinearAlgebra, Random, PyPlot\n",
    "#rc(\"axes.spines\", top=false, right=false)\n",
    "rc(\"font\", family=\"Arial\")"
   ]
  },
  {
   "cell_type": "code",
   "execution_count": 11,
   "id": "599ba31e-2e87-4e30-ab04-ec4c6f93e42a",
   "metadata": {},
   "outputs": [],
   "source": [
    "t1 = 224*1e-3 # time const of eye dynamics (s)\n",
    "t2 = 13*1e-3  # another time const of eye dynamics (s)\n",
    "tm = 10*1e-3\n",
    "dt = 1e-3     # simulation time step (s)\n",
    "T = 4*1e-3  # movement duration (s)\n",
    "Tp = 3*1e-3  # post-movement duration (s)\n",
    "\n",
    "# 2nd order\n",
    "x0 = zeros(2) # initial state (pos=0, vel=0)\n",
    "xf = [10, 0]  # final state (pos=10, vel=0)\n",
    "Ac = [0 1; -1/(t1*t2) -1/t1-1/t2];\n",
    "Bc = [0, 1]\n",
    "\n",
    "n = size(x0)[1]\n",
    "ntm = round(Int, T/dt)\n",
    "ntp = round(Int, Tp/dt)\n",
    "nt = ntm + ntp # total time steps    \n",
    "\n",
    "A = I(n) + Ac * dt\n",
    "B = Bc*dt\n",
    "\n",
    "# Compute A^p * B and store\n",
    "Apow_B = zeros(n, nt)\n",
    "Apow_B[:, 1] = B\n",
    "for t in 1:nt-1\n",
    "    Apow_B[:, t+1] = A * Apow_B[:, t]\n",
    "end"
   ]
  },
  {
   "cell_type": "code",
   "execution_count": 13,
   "id": "af99d967-99ef-41b5-9201-6ab11e5b9493",
   "metadata": {
    "scrolled": true
   },
   "outputs": [],
   "source": [
    "M = NaN * ones(nt+1, nt+1)\n",
    "for i in ntm:nt\n",
    "    for j in 0:i-1\n",
    "        M[i+1, j+1] = Apow_B[1, i-j]# + 5e-6\n",
    "    end\n",
    "end"
   ]
  },
  {
   "cell_type": "code",
   "execution_count": 14,
   "id": "5b8402cd-a6d0-453a-80ee-59a9f88fe06a",
   "metadata": {},
   "outputs": [],
   "source": [
    "M2 = zeros(nt+1, nt+1)\n",
    "for i in 0:nt-1\n",
    "    for j in max(i+1, ntm):nt\n",
    "        M2[j+1, i+1] = Apow_B[1, j-i] + 5e-6\n",
    "    end\n",
    "end"
   ]
  },
  {
   "cell_type": "markdown",
   "id": "438a0ce0-31e1-4bec-a81b-2c1a9e9e4cee",
   "metadata": {},
   "source": [
    "横方向の和から縦方向の和に変換．"
   ]
  },
  {
   "cell_type": "code",
   "execution_count": 20,
   "id": "8843ffb3-f617-4229-8022-54b6ef656b57",
   "metadata": {},
   "outputs": [
    {
     "data": {
      "image/png": "[encoded data removed]",
      "text/plain": [
       "Figure(PyObject <Figure size 350x350 with 1 Axes>)"
      ]
     },
     "metadata": {},
     "output_type": "display_data"
    }
   ],
   "source": [
    "fig, ax = subplots(figsize=(3.5,3.5))\n",
    "ax.set_title(L\"$(\\mathbf{A}^{t-t'-1} \\mathbf{B}) (\\mathbf{A}^{t-t'-1} \\mathbf{B})^{\\top}$\"*\"\\n\"*L\"$_{(T_m\\leq t \\leq T,\\ 0\\leq t' \\leq t-1)}$\", math_fontfamily=\"cm\")\n",
    "ax.pcolormesh(M, edgecolors=\"k\", linewidth=0.5)\n",
    "ax.set_xticks(Array(1:nt+1).-0.5, Array(0:nt))\n",
    "ax.set_yticks(Array(1:nt+1).-0.5, Array(0:nt))\n",
    "ax.axvline(ntm+1, color=\"tab:red\", lw=1)#, linestyle=\"dashed\")\n",
    "ax.axhline(ntm+1, color=\"tab:red\", lw=1)#, linestyle=\"dashed\")\n",
    "#ax.annotate(\"a\", (0, 0), (1, 1), arrowprops=Dict(:arrowstyle => \"-|>\")) \n",
    "ax.invert_yaxis()\n",
    "ax.tick_params(top=true, labeltop=true, bottom=false, labelbottom=false)\n",
    "ax.set_aspect(\"equal\")\n",
    "ax.set_ylabel(L\"$t$\", math_fontfamily=\"cm\", fontsize=12)\n",
    "ax.set_xlabel(L\"$t'$\", math_fontfamily=\"cm\", fontsize=12)\n",
    "fig.tight_layout()\n",
    "fig.savefig(\"minimum_variance.svg\", dpi=300)"
   ]
  },
  {
   "cell_type": "code",
   "execution_count": 15,
   "id": "83714310-fd82-40ea-9891-bbceeb90f0d5",
   "metadata": {},
   "outputs": [
    {
     "data": {
      "image/png": "[encoded data removed]",
      "text/plain": [
       "Figure(PyObject <Figure size 350x350 with 1 Axes>)"
      ]
     },
     "metadata": {},
     "output_type": "display_data"
    }
   ],
   "source": [
    "fig, ax = subplots(figsize=(3.5,3.5))\n",
    "ax.set_title(L\"$(\\mathbf{A}^{t-t'-1} \\mathbf{B}) (\\mathbf{A}^{t-t'-1} \\mathbf{B})^{\\top}$\"*\"\\n\"*L\"$_{(T_m\\leq t \\leq T,\\ 1\\leq t' \\leq t-1)}$\", math_fontfamily=\"cm\")\n",
    "ax.pcolormesh(M2, edgecolors=\"k\", linewidth=0.5)\n",
    "ax.set_xticks(Array(1:nt+1).-0.5, Array(0:nt))\n",
    "ax.set_yticks(Array(1:nt+1).-0.5, Array(0:nt))\n",
    "ax.axvline(ntm+1, color=\"white\", lw=1)#, linestyle=\"dashed\")\n",
    "ax.axhline(ntm+1, color=\"white\", lw=1)#, linestyle=\"dashed\")\n",
    "#ax.annotate(\"a\", (0, 0), (1, 1), arrowprops=Dict(:arrowstyle => \"-|>\")) \n",
    "#ax.invert_yaxis()\n",
    "ax.set_aspect(\"equal\")\n",
    "ax.set_ylabel(L\"$t$\", math_fontfamily=\"cm\", fontsize=12)\n",
    "ax.set_xlabel(L\"$t'$\", math_fontfamily=\"cm\", fontsize=12)\n",
    "fig.tight_layout()"
   ]
  }
 ],
 "metadata": {
  "kernelspec": {
   "display_name": "Julia 1.11.4",
   "language": "julia",
   "name": "julia-1.11"
  },
  "language_info": {
   "file_extension": ".jl",
   "mimetype": "application/julia",
   "name": "julia",
   "version": "1.11.4"
  }
 },
 "nbformat": 4,
 "nbformat_minor": 5
}
