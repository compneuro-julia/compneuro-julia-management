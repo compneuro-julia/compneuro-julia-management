{
 "cells": [
  {
   "cell_type": "markdown",
   "id": "cedca4a5-1681-45c8-9a50-0f693ca1e77f",
   "metadata": {},
   "source": [
    "#### パーセプトロンの学習\n",
    "静的離散時間モデルの機能を理解するために、前々項で触れたパーセプトロンおよびその学習則について紹介する。再掲になるが、出力が1つの現代的なパーセプトロンでは、$n$ 個のシナプス前細胞の活動をベクトル $\\mathbf{x} = [x_1, x_2, \\dots, x_n]^\\top \\in \\mathbb{R}^n$、シナプス重みを $\\mathbf{w} = [w_1, w_2, \\dots, w_n]^\\top \\in \\mathbb{R}^n$、定常項（バイアス項）を $b \\in \\mathbb{R}$、シナプス後細胞の出力を $y \\in \\mathbb{R}$ とすると、\n",
    "\n",
    "$$\n",
    "\\hat{y} = f(\\mathbf{w}^\\top \\mathbf{x} + b) = f\\left(\\sum_{i=1}^n w_i x_i + b\\right)\n",
    "$$\n",
    "\n",
    "となる。データセット $\\mathcal{D}=\\{\\mathbf{x}^{(i)}, y^{(i)}\\}_{i=1}^N$ が与えられているとき、モデルは入力 $\\mathbf{x}^{(i)}$ に対して対応する出力 $y^{(i)}$ を生成するように学習される。ここで、$y$ は望ましい出力（教師信号）、$\\hat{y}$ はモデルが出力した推定値である。\n",
    "\n",
    "活性化関数 $f(\\cdot)$ には Heaviside の階段関数 $H(\\cdot)$ を用いる \\footnote{符号関数 $\\mathrm{sgn}(\\cdot)$ を用いる場合は$y, \\hat{y} \\in \\{\\pm 1\\}$ となる．Heaviside の階段関数を用いる場合に比べて，誤差の大きさが2倍になる $(|1-(-1)|/|1-0|=2)$ ため，学習率 $\\eta$ に $\\frac{1}{2}$ を掛ければ同等の学習則となる}．この場合，出力と教師信号の値域は $y, \\hat{y} \\in \\{0, 1\\}$ となる．重みの更新則は次のように表される：\n",
    "\n",
    "$$\n",
    "\\begin{aligned}\n",
    "\\hat{y} &= f(\\mathbf{w}^\\top \\mathbf{x} + b) \\\\\n",
    "\\delta &= y - \\hat{y} \\\\\n",
    "\\Delta \\mathbf{w} &= \\eta \\delta \\mathbf{x} \\\\\n",
    "\\Delta b &= \\eta \\delta\n",
    "\\end{aligned}\n",
    "$$\n",
    "\n",
    "ここで、$\\delta$ は誤差信号を表す。\n",
    "\n",
    "パーセプトロンの学習則は、誤りを訂正するという直感に基づいて導出される。入力がベクトル $\\mathbf{x} \\in \\mathbb{R}^n$、出力が $\\hat{y} = \\mathrm{sgn}(\\mathbf{w}^\\top \\mathbf{x} + b)$、教師信号が $y \\in \\{-1, +1\\}$ の2値分類問題を考える。ここでの目的は、入力 $\\mathbf{x}$ に対して出力 $\\hat{y}$ が教師信号 $y$ に一致するように重み $\\mathbf{w}$ およびバイアス $b$ を調整することである。\n",
    "\n",
    "パーセプトロンでは、予測が正しかった場合、すなわち $\\hat{y} = y$ のときには重みの更新を行わない。一方で、予測が誤っていた場合、すなわち $\\hat{y} \\ne y$ のときには、その誤りを訂正する方向に重みを更新する。たとえば、本来のラベルが $y = +1$ であるにもかかわらず出力が $\\hat{y} = -1$ であった場合、現在の重みベクトルは入力ベクトルに反対方向の反応を示していることになる。したがって、このときは重みベクトルを入力ベクトルの方向に動かす必要がある。逆に、本来のラベルが $y = -1$ にもかかわらず $\\hat{y} = +1$ と予測された場合には、重みベクトルを入力ベクトルの逆方向に動かす必要がある。\n",
    "\n",
    "このように、分類誤りが生じたときに、重みベクトルを $y\\mathbf{x}$ の方向へ調整するという規則を設けることで、学習が進行する。この重みの更新は、学習率 $\\eta > 0$ を用いて次のように表される：\n",
    "\n",
    "$$\n",
    "\\Delta \\mathbf{w} = \\eta y \\mathbf{x}, \\quad \\Delta b = \\eta y\n",
    "$$\n",
    "\n",
    "この更新則は分類誤りが生じたときにのみ適用される。一方で、すべての入力に対して同一の形式で書くためには、誤差信号 $\\delta = y - \\hat{y}$ を導入し、\n",
    "\n",
    "$$\n",
    "\\Delta \\mathbf{w} = \\eta \\delta \\mathbf{x}, \\quad \\Delta b = \\eta \\delta\n",
    "$$\n",
    "\n",
    "と表すこともできる。ただし、$\\hat{y} \\in \\{-1, +1\\} $ の場合、正解時には $\\delta = 0$ となるため、結局誤った予測に対してのみ重みが更新されるという性質は保たれる。このようにして、活性化関数の微分や連続性に依存せず、幾何的な直観に基づく単純なルールとして、パーセプトロンの学習則は定式化される。\n"
   ]
  },
  {
   "cell_type": "code",
   "execution_count": 2,
   "id": "b98c7a38",
   "metadata": {},
   "outputs": [],
   "source": [
    "using Random, PyPlot, ProgressMeter\n",
    "rc(\"axes.spines\", top=false, right=false)"
   ]
  },
  {
   "cell_type": "code",
   "execution_count": 3,
   "id": "21f6ce18",
   "metadata": {},
   "outputs": [],
   "source": [
    "N = 400 # num of inputs\n",
    "dims = 2  # dims of inputs \n",
    "Random.seed!(1234);"
   ]
  },
  {
   "cell_type": "code",
   "execution_count": 4,
   "id": "7b93ef2a",
   "metadata": {},
   "outputs": [],
   "source": [
    "X = [randn(Int(N/2), dims);  3.0 .+ randn(Int(N/2), dims)];\n",
    "y = [zeros(Int(N/2)); ones(Int(N/2))];"
   ]
  },
  {
   "cell_type": "code",
   "execution_count": 5,
   "id": "6dbc24ec",
   "metadata": {},
   "outputs": [
    {
     "data": {
      "image/png": "[encoded data removed]",
      "text/plain": [
       "Figure(PyObject <Figure size 300x300 with 1 Axes>)"
      ]
     },
     "metadata": {},
     "output_type": "display_data"
    }
   ],
   "source": [
    "fig, ax = subplots(figsize=(3, 3))\n",
    "for i in [0, 1]\n",
    "    ax.scatter(X[y.==i, 1], X[y.==i, 2])\n",
    "end\n",
    "ax.set_xlabel(L\"$x_1$\"); ax.set_ylabel(L\"$x_2$\"); \n",
    "tight_layout()"
   ]
  },
  {
   "cell_type": "code",
   "execution_count": 7,
   "id": "4dbaff93",
   "metadata": {},
   "outputs": [
    {
     "data": {
      "text/plain": [
       "step (generic function with 1 method)"
      ]
     },
     "execution_count": 7,
     "metadata": {},
     "output_type": "execute_result"
    }
   ],
   "source": [
    "step(x) = 1.0(x > 0)"
   ]
  },
  {
   "cell_type": "code",
   "execution_count": null,
   "id": "f2eda91d-fc5c-45bb-8cc4-3534ec83fd71",
   "metadata": {},
   "outputs": [],
   "source": [
    "struct Perceptron\n",
    "    W\n",
    "    b\n",
    "end"
   ]
  },
  {
   "cell_type": "code",
   "execution_count": 37,
   "id": "853cb526-625e-4a8b-a4df-4afdbff1a15d",
   "metadata": {},
   "outputs": [
    {
     "data": {
      "text/plain": [
       "perceptron"
      ]
     },
     "execution_count": 37,
     "metadata": {},
     "output_type": "execute_result"
    }
   ],
   "source": [
    "function perceptron(X, y; init_w=nothing, f=step, lr=0.1, num_iters=100)\n",
    "    num_samples, n = size(X)\n",
    "    m = 1\n",
    "    if init_w == nothing\n",
    "        W = randn(n, m)\n",
    "        b = randn()\n",
    "    end\n",
    "    loss = zeros(num_iters);\n",
    "    lr /= num_samples\n",
    "    for t in 1:num_iters\n",
    "        ŷ = f.(X * W .+ b)\n",
    "        e = y - ŷ\n",
    "        loss[t] = sum(e.^2) \n",
    "        W[:, :] += lr * e' * X\n",
    "        b += lr * sum(e)\n",
    "    end\n",
    "    return W, b\n",
    "end"
   ]
  },
  {
   "cell_type": "code",
   "execution_count": 35,
   "id": "deb13d23-0536-4510-bd34-5e22086cdc26",
   "metadata": {},
   "outputs": [
    {
     "data": {
      "text/plain": [
       "0.00025"
      ]
     },
     "execution_count": 35,
     "metadata": {},
     "output_type": "execute_result"
    }
   ],
   "source": [
    "num_samples, n = size(X)\n",
    "m = 1\n",
    "W = randn(n, m)\n",
    "b = randn()\n",
    "lr = 0.1\n",
    "f = step\n",
    "lr /= num_samples"
   ]
  },
  {
   "cell_type": "code",
   "execution_count": null,
   "id": "373705de-4a44-487a-bb32-784a2745efbd",
   "metadata": {},
   "outputs": [],
   "source": [
    "e = y - ŷ\n",
    "loss[t] = sum(e.^2) \n",
    "#W[:, :] += lr * e' * X\n",
    "#b[:] .+= lr * sum(e)"
   ]
  },
  {
   "cell_type": "code",
   "execution_count": 38,
   "id": "f6e8b617",
   "metadata": {},
   "outputs": [
    {
     "ename": "LoadError",
     "evalue": "DimensionMismatch: dimensions must match: a has dims (Base.OneTo(2), Base.OneTo(1)), b has dims (Base.OneTo(1), Base.OneTo(2)), mismatch at 1",
     "output_type": "error",
     "traceback": [
      "DimensionMismatch: dimensions must match: a has dims (Base.OneTo(2), Base.OneTo(1)), b has dims (Base.OneTo(1), Base.OneTo(2)), mismatch at 1",
      "",
      "Stacktrace:",
      " [1] promote_shape",
      "   @ .\\indices.jl:178 [inlined]",
      " [2] promote_shape(a::Matrix{Float64}, b::Matrix{Float64})",
      "   @ Base .\\indices.jl:169",
      " [3] +(A::Matrix{Float64}, Bs::Matrix{Float64})",
      "   @ Base .\\arraymath.jl:14",
      " [4] perceptron(X::Matrix{Float64}, y::Vector{Float64}; init_w::Nothing, f::Function, lr::Float64, num_iters::Int64)",
      "   @ Main .\\In[37]:14",
      " [5] perceptron(X::Matrix{Float64}, y::Vector{Float64})",
      "   @ Main .\\In[37]:1",
      " [6] top-level scope",
      "   @ In[38]:1"
     ]
    }
   ],
   "source": [
    "W, b = perceptron(X, y)"
   ]
  },
  {
   "cell_type": "code",
   "execution_count": 15,
   "id": "5f5a341e",
   "metadata": {},
   "outputs": [
    {
     "data": {
      "image/png": "[encoded data removed]",
      "text/plain": [
       "Figure(PyObject <Figure size 300x200 with 1 Axes>)"
      ]
     },
     "metadata": {},
     "output_type": "display_data"
    }
   ],
   "source": [
    "figure(figsize=(3,2))\n",
    "plot(loss)\n",
    "xlabel(\"Iteration\"); ylabel(\"Loss\")\n",
    "tight_layout()"
   ]
  },
  {
   "cell_type": "code",
   "execution_count": 16,
   "id": "cd74d277",
   "metadata": {},
   "outputs": [],
   "source": [
    "ŷ = step.(W * X' .+ b)'; # prediction"
   ]
  },
  {
   "cell_type": "code",
   "execution_count": 17,
   "id": "0fd90a27",
   "metadata": {},
   "outputs": [],
   "source": [
    "p1 = X[ŷ[:, 1] .== 0, :]\n",
    "p2 = X[ŷ[:, 1] .== 1, :];"
   ]
  },
  {
   "cell_type": "markdown",
   "id": "e95927bd",
   "metadata": {},
   "source": [
    "ax + by + c = 0  \n",
    "y = -a/b x - c/b"
   ]
  },
  {
   "cell_type": "code",
   "execution_count": 18,
   "id": "73e07e30",
   "metadata": {},
   "outputs": [],
   "source": [
    "xx = -3:0.01:6\n",
    "yy = -W[1]/W[2]*xx .- b / W[2];"
   ]
  },
  {
   "cell_type": "code",
   "execution_count": 20,
   "id": "27f3c012",
   "metadata": {},
   "outputs": [
    {
     "data": {
      "image/png": "[encoded data removed]",
      "text/plain": [
       "Figure(PyObject <Figure size 400x400 with 1 Axes>)"
      ]
     },
     "metadata": {},
     "output_type": "display_data"
    }
   ],
   "source": [
    "figure(figsize=(4, 4))\n",
    "scatter(p1[:, 1], p1[:, 2])\n",
    "scatter(p2[:, 1], p2[:, 2])\n",
    "plot(xx, yy, color=\"k\")\n",
    "xlabel(L\"$x_1$\"); ylabel(L\"$x_2$\"); \n",
    "tight_layout()"
   ]
  },
  {
   "cell_type": "markdown",
   "id": "cc293014-f4d0-4277-9e8f-89d3644e34e4",
   "metadata": {},
   "source": [
    "ここで，$\\eta > 0$ は学習率，$y^{(i)}$ は正解ラベルである．この更新則により，パーセプトロンは誤分類を修正する方向に重みを調整する．\n",
    "\n",
    "もし訓練データが**線形分離可能**であるならば，このアルゴリズムは有限回の更新で必ず収束する（**パーセプトロン収束定理**）．ただし，データが線形分離不可能な場合は，収束せずに振動を続けることがある．\n",
    "\n",
    "本項では，機能的な離散モデルの例としてパーセプトロンの学習を扱った．学習則の導出は分類誤りに対して重みベクトルを修正する，という単純なものである．本項で扱ったパーセプトロンは微分不可能な関数を活性化関数に持つため，最適化の概念から学習則を記述することは線形回帰モデルやロジスティック回帰モデルなどに比べると難しい．しかし，現代的に**直通推定量** (Straight-Through Estimator; STE) と呼ばれる概念を導入することで導出することは可能である．STEに関してはここでは深く触れず，第7章で改めて紹介を行う．"
   ]
  },
  {
   "cell_type": "markdown",
   "id": "2b91d940-2c0f-43f6-9026-bfd4ddf42d6c",
   "metadata": {},
   "source": [
    "https://www.cs.utexas.edu/~gdurrett/courses/fa2022/perc-lr-connections.pdf\n",
    "\n",
    "<https://en.wikipedia.org/wiki/Perceptron>\n",
    "\n",
    "<https://arxiv.org/abs/2012.03642>\n",
    "\n",
    "\n",
    "perceptronは0/1 or -1/1のどちらか\n",
    "\n",
    "UNDERSTANDING STRAIGHT-THROUGH ESTIMATOR IN TRAINING ACTIVATION QUANTIZED NEURAL NETS\n",
    "\n",
    "Yoshua Bengio, Nicholas L´eonard, and Aaron Courville. Estimating or propagating gradients through stochastic neurons for conditional computation. arXiv preprint arXiv:1308.3432, 2013.\n",
    "\n",
    "Hinton (2012) in his lecture 15b\n",
    "\n",
    "G. Hinton. Neural networks for machine learning, 2012.\n",
    "<https://www.cs.toronto.edu/~hinton/coursera_lectures.html>\n",
    "\n",
    "delta rule"
   ]
  }
 ],
 "metadata": {
  "kernelspec": {
   "display_name": "Julia 1.11.4",
   "language": "julia",
   "name": "julia-1.11"
  },
  "language_info": {
   "file_extension": ".jl",
   "mimetype": "application/julia",
   "name": "julia",
   "version": "1.11.4"
  }
 },
 "nbformat": 4,
 "nbformat_minor": 5
}
