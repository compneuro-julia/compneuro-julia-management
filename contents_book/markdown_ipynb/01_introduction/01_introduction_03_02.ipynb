{
 "cells": [
  {
   "cell_type": "markdown",
   "id": "92471ded",
   "metadata": {},
   "source": [
    "# 線形代数\n",
    "\n",
    "本節ではJuliaでの線形代数における操作の取り扱いに関して説明する．Juliaにおける線形代数の記法は概ねMATLABと同様であり，処理を簡便に記載できる．\n",
    "\n",
    "### 行列およびベクトルの作成\n",
    "Juliaは列ベクトルが基本．$\\mathbf{a}=[a_1, a_2, \\ldots, a_n]^\\top$"
   ]
  },
  {
   "cell_type": "code",
   "execution_count": null,
   "id": "7b1423e0-dddf-4d15-bb78-43acfbbca2c9",
   "metadata": {},
   "outputs": [],
   "source": [
    "v = [1.0, 2.0, 3.0]  # 列ベクトル"
   ]
  },
  {
   "cell_type": "markdown",
   "id": "fd5c9d73-9d72-48ba-a0b7-29dca42f4d65",
   "metadata": {},
   "source": [
    "$$\n",
    "\\begin{equation}\n",
    "\\mathbf{A} =\\left[\\begin{array}{ccc}\n",
    "a_{11} & \\cdots & a_{1n} \\\\\n",
    "\\vdots & \\ddots & \\vdots  \\\\\n",
    "a_{1n} & \\cdots & a_{nn}\n",
    "\\end{array}\\right]\n",
    "\\in \\mathbb{R}^n\n",
    "\\end{equation}\n",
    "$$\n",
    "\n",
    "行列$\\mathbf{A}$の$(i, j)$成分を$\\mathbf{A}_{ij}=a_{ij}$とする．"
   ]
  },
  {
   "cell_type": "code",
   "execution_count": null,
   "id": "7bde6cf9-c88e-4490-9362-73c3f7b836d4",
   "metadata": {},
   "outputs": [
    {
     "data": {
      "text/plain": [
       "3×3 Matrix{Int64}:\n",
       " 1  2  3\n",
       " 4  5  6\n",
       " 7  8  9"
      ]
     },
     "execution_count": 3,
     "metadata": {},
     "output_type": "execute_result"
    }
   ],
   "source": [
    "# 行列の定義\n",
    "A = [1 2 3; 4 5 6; 7 8 9]  # 3x3 行列"
   ]
  },
  {
   "cell_type": "code",
   "execution_count": 13,
   "id": "919a44df-abdc-4472-88aa-e8055c6fb4cc",
   "metadata": {},
   "outputs": [
    {
     "data": {
      "text/plain": [
       "3×3 Matrix{Float64}:\n",
       " 0.0  0.0  0.0\n",
       " 0.0  0.0  0.0\n",
       " 0.0  0.0  0.0"
      ]
     },
     "execution_count": 13,
     "metadata": {},
     "output_type": "execute_result"
    }
   ],
   "source": [
    "zeros(3, 3)"
   ]
  },
  {
   "cell_type": "code",
   "execution_count": 14,
   "id": "8a0a2a28-b7b0-41b3-b61d-6d3916d12849",
   "metadata": {},
   "outputs": [
    {
     "data": {
      "text/plain": [
       "3×2 Matrix{Float64}:\n",
       " 1.0  1.0\n",
       " 1.0  1.0\n",
       " 1.0  1.0"
      ]
     },
     "execution_count": 14,
     "metadata": {},
     "output_type": "execute_result"
    }
   ],
   "source": [
    "ones(3, 2)"
   ]
  },
  {
   "cell_type": "code",
   "execution_count": 17,
   "id": "358d69c0-7e65-4db0-a082-f023d62b8b1a",
   "metadata": {},
   "outputs": [
    {
     "data": {
      "text/plain": [
       "2×3 Matrix{Int64}:\n",
       " 5  5  5\n",
       " 5  5  5"
      ]
     },
     "execution_count": 17,
     "metadata": {},
     "output_type": "execute_result"
    }
   ],
   "source": [
    "fill(5, 2, 3)"
   ]
  },
  {
   "cell_type": "markdown",
   "id": "5495757f-1c25-4b77-9163-18908c1b7a1e",
   "metadata": {},
   "source": [
    "### 行列の基本演算\n",
    "加減算"
   ]
  },
  {
   "cell_type": "code",
   "execution_count": 6,
   "id": "dc6afb21-f961-4760-8f8e-924ec628d233",
   "metadata": {},
   "outputs": [
    {
     "data": {
      "text/plain": [
       "3×3 Matrix{Int64}:\n",
       " 9  8  7\n",
       " 6  5  4\n",
       " 3  2  1"
      ]
     },
     "execution_count": 6,
     "metadata": {},
     "output_type": "execute_result"
    }
   ],
   "source": [
    "B = [9 8 7; 6 5 4; 3 2 1]"
   ]
  },
  {
   "cell_type": "code",
   "execution_count": 26,
   "id": "a272883c-df4c-48c2-84bf-5722be4091d6",
   "metadata": {},
   "outputs": [
    {
     "data": {
      "text/plain": [
       "3×3 Matrix{Int64}:\n",
       " 10  10  10\n",
       " 10  10  10\n",
       " 10  10  10"
      ]
     },
     "execution_count": 26,
     "metadata": {},
     "output_type": "execute_result"
    }
   ],
   "source": [
    "A + B  # 要素ごとに加算"
   ]
  },
  {
   "cell_type": "code",
   "execution_count": 27,
   "id": "a5f5a757-4f1c-4a15-8cd3-a10ecfe06df5",
   "metadata": {},
   "outputs": [
    {
     "data": {
      "text/plain": [
       "3×3 Matrix{Int64}:\n",
       " -8  -6  -4\n",
       " -2   0   2\n",
       "  4   6   8"
      ]
     },
     "execution_count": 27,
     "metadata": {},
     "output_type": "execute_result"
    }
   ],
   "source": [
    "A - B  # 要素ごとに減算"
   ]
  },
  {
   "cell_type": "code",
   "execution_count": 28,
   "id": "60bc3dbf-2b96-4f6d-bba8-67915b7365a1",
   "metadata": {},
   "outputs": [
    {
     "data": {
      "text/plain": [
       "3×3 Matrix{Int64}:\n",
       "  2   4   6\n",
       "  8  10  12\n",
       " 14  16  18"
      ]
     },
     "execution_count": 28,
     "metadata": {},
     "output_type": "execute_result"
    }
   ],
   "source": [
    "# スカラー倍\n",
    "2 * A  # 各要素を2倍"
   ]
  },
  {
   "cell_type": "markdown",
   "id": "4f933085-c1ea-42d0-9bd6-afde009185a3",
   "metadata": {},
   "source": [
    "乗じる2つの変数が行列同士の場合，`*`は行列積を実行する．`.*`を用いる場合は要素積（アダマール積）を実行する．これはMATLABと同様であり，Pythonとは異なる．"
   ]
  },
  {
   "cell_type": "code",
   "execution_count": 29,
   "id": "2c78c3aa-e2c9-47b2-97d1-5cccb9ba22e4",
   "metadata": {},
   "outputs": [
    {
     "data": {
      "text/plain": [
       "3×3 Matrix{Int64}:\n",
       "  30   24  18\n",
       "  84   69  54\n",
       " 138  114  90"
      ]
     },
     "execution_count": 29,
     "metadata": {},
     "output_type": "execute_result"
    }
   ],
   "source": [
    "# 行列積\n",
    "A * B  # 行列積（ドット積ではない）"
   ]
  },
  {
   "cell_type": "code",
   "execution_count": 30,
   "id": "ea4a41b8-5eed-434b-8f67-7246d579a2c7",
   "metadata": {},
   "outputs": [
    {
     "data": {
      "text/plain": [
       "3×3 Matrix{Int64}:\n",
       "  9  16  21\n",
       " 24  25  24\n",
       " 21  16   9"
      ]
     },
     "execution_count": 30,
     "metadata": {},
     "output_type": "execute_result"
    }
   ],
   "source": [
    "A .* B "
   ]
  },
  {
   "cell_type": "markdown",
   "id": "56410c1e-128f-4225-a1f5-eecbc5ce64f2",
   "metadata": {},
   "source": [
    "### 転置と共役転置\n",
    "転置行列や複素共役転置も簡単に計算"
   ]
  },
  {
   "cell_type": "code",
   "execution_count": 19,
   "id": "aff56db5-e83e-49a3-9660-a7df2d186bd2",
   "metadata": {},
   "outputs": [
    {
     "data": {
      "text/plain": [
       "3×3 transpose(::Matrix{Int64}) with eltype Int64:\n",
       " 1  4  7\n",
       " 2  5  8\n",
       " 3  6  9"
      ]
     },
     "execution_count": 19,
     "metadata": {},
     "output_type": "execute_result"
    }
   ],
   "source": [
    "# 転置\n",
    "At = transpose(A)"
   ]
  },
  {
   "cell_type": "code",
   "execution_count": 32,
   "id": "99f41562-679b-4583-9de1-cba8fa86611d",
   "metadata": {},
   "outputs": [
    {
     "data": {
      "text/plain": [
       "3×3 adjoint(::Matrix{Int64}) with eltype Int64:\n",
       " 1  4  7\n",
       " 2  5  8\n",
       " 3  6  9"
      ]
     },
     "execution_count": 32,
     "metadata": {},
     "output_type": "execute_result"
    }
   ],
   "source": [
    "# 共役転置（複素数を扱う場合）\n",
    "Ac = A'"
   ]
  },
  {
   "cell_type": "code",
   "execution_count": 31,
   "id": "24fe6e05-51c4-4e83-a7f5-e7cfd410931d",
   "metadata": {},
   "outputs": [
    {
     "data": {
      "text/plain": [
       "3×3 Matrix{Complex{Int64}}:\n",
       " 1+9im  2+8im  3+7im\n",
       " 4+6im  5+5im  6+4im\n",
       " 7+3im  8+2im  9+1im"
      ]
     },
     "execution_count": 31,
     "metadata": {},
     "output_type": "execute_result"
    }
   ],
   "source": [
    "C = A + B .* im"
   ]
  },
  {
   "cell_type": "code",
   "execution_count": 33,
   "id": "e65e24af-764e-40e0-9061-2770164a3795",
   "metadata": {},
   "outputs": [
    {
     "data": {
      "text/plain": [
       "3×3 adjoint(::Matrix{Complex{Int64}}) with eltype Complex{Int64}:\n",
       " 1-9im  4-6im  7-3im\n",
       " 2-8im  5-5im  8-2im\n",
       " 3-7im  6-4im  9-1im"
      ]
     },
     "execution_count": 33,
     "metadata": {},
     "output_type": "execute_result"
    }
   ],
   "source": [
    "Cc = C'"
   ]
  },
  {
   "cell_type": "code",
   "execution_count": null,
   "id": "c4a28d0c-d561-4b10-9dce-62eaf7f98e0a",
   "metadata": {},
   "outputs": [],
   "source": [
    "using LinearAlgebra"
   ]
  },
  {
   "cell_type": "code",
   "execution_count": null,
   "id": "9d1c9ff0-3e3a-499a-9e67-9b470dda9c63",
   "metadata": {},
   "outputs": [],
   "source": []
  },
  {
   "cell_type": "code",
   "execution_count": null,
   "id": "4c614bc0-0c2b-4a1b-b77c-5724b8dd6a02",
   "metadata": {},
   "outputs": [],
   "source": []
  },
  {
   "cell_type": "markdown",
   "id": "6c00aa6d-eaa9-4983-8283-bcb730dc6cb3",
   "metadata": {},
   "source": [
    "Juliaは線形代数に非常に強力なサポートを提供しており、行列やベクトルの操作を効率的かつ直感的に行うことができます。以下に、よく使われる線形代数の操作を具体例を交えながら説明します。\n"
   ]
  },
  {
   "cell_type": "markdown",
   "id": "ea886dfb-486c-48c6-ad87-519ff8c36f51",
   "metadata": {},
   "source": [
    "も簡単に計算"
   ]
  },
  {
   "cell_type": "markdown",
   "id": "04f65598-c913-4e40-a311-2d537f38be72",
   "metadata": {},
   "source": [
    "\n",
    "\n",
    "### 4. **逆行列と行列式**\n",
    "Juliaは逆行列や行列式も計算できます。ただし、逆行列は直接計算するよりも、線形方程式を解く方法が推奨さ"
   ]
  },
  {
   "cell_type": "markdown",
   "id": "b39dfa2b-f6ac-4176-87bb-de08429a1830",
   "metadata": {},
   "source": [
    "``julia\n",
    "# 逆行列\n",
    "inv_A = inv(A)  # A が正則行列である場合のみ\n",
    "\n",
    "# 行列式\n",
    "det_A = d"
   ]
  },
  {
   "cell_type": "markdown",
   "id": "cfb08bd6-62bc-4408-8805-0c041d8d304b",
   "metadata": {},
   "source": [
    "  # A の行列式\n",
    "```\n",
    "\n",
    "---\n",
    "\n",
    "### 5. **固有値と固有ベクトル**\n",
    "行列の固有値および固有ベクトルの計算。\n",
    "\n",
    "```julia\n",
    "eigvals_A = eigvals(A)        # 固有値\n",
    "eigvecs_A = eigvecs(A)        # 固有ベクトル\n",
    "eig_A = eigen(A)              # 固有値と固有ベクトルのペア\n",
    "```\n",
    "\n",
    "---\n",
    "\n",
    "### 6. **線形方程式の解法**\n",
    "線形方程式 \\( Ax = b \\) の解を効率的に求めます。\n",
    "\n",
    "```julia\n",
    "b = [1, 2, 3]\n",
    "x = A \\ b  # A*x = b の解を計算\n",
    "```\n",
    "\n",
    "---\n",
    "\n",
    "### 7. **特異値分解（SVD）**\n",
    "特異値分解により、行列を分解できます。\n",
    "\n",
    "```julia\n",
    "U, S, V = svd(A)\n",
    "# U, S, V の意味:\n",
    "# A = U * Diagonal(S) * V'\n",
    "```\n",
    "\n",
    "---\n",
    "\n",
    "### 8. **クロネッカー積**\n",
    "2つの行列のクロネッカー積を計算します。\n",
    "\n",
    "```julia\n",
    "kron_A_B = kron(A, B)\n",
    "```\n",
    "\n",
    "---\n",
    "\n",
    "### 9. **行列の部分選択**\n",
    "Juliaでは行列の一部を簡単に抽出できます。\n",
    "\n",
    "```julia\n",
    "# 特定の行や列を選択\n",
    "row1 = A[1, :]   # A の第1行\n",
    "col2 = A[:, 2]   # A の第2列\n",
    "\n",
    "# サブマトリックス\n",
    "sub_A = A[1:2, 2:3]  # 1-2行, 2-3列の部分行列\n",
    "```\n",
    "\n",
    "---\n",
    "\n",
    "### 10. **行列のランクと条件数**\n",
    "行列の性質を調べる際に役立ちます。\n",
    "\n",
    "```julia\n",
    "rank_A = rank(A)       # A のランク\n",
    "cond_A = cond(A)       # A の条件数\n",
    "```\n",
    "\n",
    "---\n",
    "\n",
    "### まとめ\n",
    "Juliaでは、線形代数の演算が高度に最適化されており、`LinearAlgebra` モジュールを使うことでさらに多くの機能を利用できます。例えば、特定の分解手法や数値計算を行う際に役立ちます。\n",
    "\n",
    "```julia\n",
    "using LinearAlgebra\n",
    "```\n",
    "\n",
    "このモジュールをインポートすると、さらに多くの高度な関数や操作を使用できます！"
   ]
  },
  {
   "cell_type": "code",
   "execution_count": 1,
   "id": "447f4d29",
   "metadata": {},
   "outputs": [],
   "source": [
    "using LinearAlgebra"
   ]
  },
  {
   "cell_type": "markdown",
   "id": "41504532",
   "metadata": {},
   "source": [
    "## 要素ごとの演算\n",
    "### 行列の行・列ごとの正規化\n",
    "シミュレーションにおいてニューロン間の重み行列を行あるいは列ごとに正規化 (weight normalization)する場合がある．これは各ニューロンへの入力の大きさを同じにする働きや重みの発散を防ぐ役割がある．以下では行ごとの和を1にする．"
   ]
  },
  {
   "cell_type": "code",
   "execution_count": 4,
   "id": "611c01c1",
   "metadata": {},
   "outputs": [
    {
     "data": {
      "text/plain": [
       "3×3 Matrix{Float64}:\n",
       " 0.346295  0.323508  0.962472\n",
       " 0.406592  0.679734  0.552339\n",
       " 0.927452  0.788856  0.981346"
      ]
     },
     "execution_count": 4,
     "metadata": {},
     "output_type": "execute_result"
    }
   ],
   "source": [
    "W = rand(3,3)"
   ]
  },
  {
   "cell_type": "code",
   "execution_count": 5,
   "id": "4d6817c3",
   "metadata": {},
   "outputs": [
    {
     "data": {
      "text/plain": [
       "3×3 Matrix{Float64}:\n",
       " 0.206086  0.180519  0.385582\n",
       " 0.24197   0.379295  0.221276\n",
       " 0.551943  0.440186  0.393143"
      ]
     },
     "execution_count": 5,
     "metadata": {},
     "output_type": "execute_result"
    }
   ],
   "source": [
    "Wnormed = W ./ sum(W, dims=1)"
   ]
  },
  {
   "cell_type": "code",
   "execution_count": 6,
   "id": "ef1005ef",
   "metadata": {},
   "outputs": [
    {
     "name": "stdout",
     "output_type": "stream",
     "text": [
      "[1.0 1.0 1.0]\n"
     ]
    }
   ],
   "source": [
    "println(sum(Wnormed, dims=1))"
   ]
  },
  {
   "cell_type": "markdown",
   "id": "dfcef77a",
   "metadata": {},
   "source": [
    "### 行列の結合 (concatenate)\n",
    "行列の結合はMATLABに近い形式で行うことができる．まず，2つの行列A, Bを用意する．"
   ]
  },
  {
   "cell_type": "code",
   "execution_count": 7,
   "id": "324d63ac",
   "metadata": {},
   "outputs": [
    {
     "data": {
      "text/plain": [
       "2×2 Matrix{Int64}:\n",
       " 1  2\n",
       " 3  4"
      ]
     },
     "execution_count": 7,
     "metadata": {},
     "output_type": "execute_result"
    }
   ],
   "source": [
    "A = [1 2; 3 4]"
   ]
  },
  {
   "cell_type": "code",
   "execution_count": 8,
   "id": "a638ea49",
   "metadata": {},
   "outputs": [
    {
     "data": {
      "text/plain": [
       "2×3 Matrix{Int64}:\n",
       " 4  5  6\n",
       " 7  8  9"
      ]
     },
     "execution_count": 8,
     "metadata": {},
     "output_type": "execute_result"
    }
   ],
   "source": [
    "B = [4 5 6; 7 8 9]"
   ]
  },
  {
   "cell_type": "markdown",
   "id": "6ee33fe1",
   "metadata": {},
   "source": [
    "### 水平結合 (Horizontal concatenation)\n",
    "`hcat`を使うやり方と，`[ ]`を使うやり方がある．"
   ]
  },
  {
   "cell_type": "code",
   "execution_count": 10,
   "id": "2fce5bcd",
   "metadata": {},
   "outputs": [
    {
     "data": {
      "text/plain": [
       "2×5 Matrix{Int64}:\n",
       " 1  2  4  5  6\n",
       " 3  4  7  8  9"
      ]
     },
     "execution_count": 10,
     "metadata": {},
     "output_type": "execute_result"
    }
   ],
   "source": [
    "H1 = hcat(A,B)"
   ]
  },
  {
   "cell_type": "code",
   "execution_count": 10,
   "id": "35c8344b",
   "metadata": {},
   "outputs": [
    {
     "data": {
      "text/plain": [
       "2×5 Matrix{Int64}:\n",
       " 1  2  4  5  6\n",
       " 3  4  7  8  9"
      ]
     },
     "execution_count": 10,
     "metadata": {},
     "output_type": "execute_result"
    }
   ],
   "source": [
    "H2 = [A B]"
   ]
  },
  {
   "cell_type": "markdown",
   "id": "a9173428",
   "metadata": {},
   "source": [
    "なお，MATLABのように次のようにすると正しく結合はされない．"
   ]
  },
  {
   "cell_type": "code",
   "execution_count": 11,
   "id": "92c19136",
   "metadata": {},
   "outputs": [
    {
     "data": {
      "text/plain": [
       "2-element Vector{Matrix{Int64}}:\n",
       " [1 2; 3 4]\n",
       " [4 5 6; 7 8 9]"
      ]
     },
     "execution_count": 11,
     "metadata": {},
     "output_type": "execute_result"
    }
   ],
   "source": [
    "H3 = [A, B]"
   ]
  },
  {
   "cell_type": "markdown",
   "id": "f74ea51b",
   "metadata": {},
   "source": [
    "### 垂直結合 (Vertical concatenation)\n",
    "\n",
    "aaa"
   ]
  },
  {
   "cell_type": "code",
   "execution_count": 12,
   "id": "aa98f7b6",
   "metadata": {},
   "outputs": [
    {
     "data": {
      "text/plain": [
       "5×2 Matrix{Int64}:\n",
       " 1  2\n",
       " 3  4\n",
       " 4  7\n",
       " 5  8\n",
       " 6  9"
      ]
     },
     "execution_count": 12,
     "metadata": {},
     "output_type": "execute_result"
    }
   ],
   "source": [
    "V1 = vcat(A, B')"
   ]
  },
  {
   "cell_type": "code",
   "execution_count": 13,
   "id": "9d91327a",
   "metadata": {},
   "outputs": [
    {
     "data": {
      "text/plain": [
       "5×2 Matrix{Int64}:\n",
       " 1  2\n",
       " 3  4\n",
       " 4  7\n",
       " 5  8\n",
       " 6  9"
      ]
     },
     "execution_count": 13,
     "metadata": {},
     "output_type": "execute_result"
    }
   ],
   "source": [
    "V2 = [A; B']"
   ]
  },
  {
   "cell_type": "code",
   "execution_count": 14,
   "id": "d1ccd9c5",
   "metadata": {},
   "outputs": [
    {
     "data": {
      "text/plain": [
       "5×4 Matrix{Int64}:\n",
       " 1  2  1  2\n",
       " 3  4  3  4\n",
       " 4  7  4  7\n",
       " 5  8  5  8\n",
       " 6  9  6  9"
      ]
     },
     "execution_count": 14,
     "metadata": {},
     "output_type": "execute_result"
    }
   ],
   "source": [
    "[V2 [A;B']]"
   ]
  },
  {
   "cell_type": "markdown",
   "id": "d9737a02",
   "metadata": {},
   "source": [
    "## 配列に新しい軸を追加\n",
    "要はnumpyでの`A[None, :]`や`A[np.newaxis, :]`のようなことがしたい場合．やや面倒だが，`reshape`を使うか，`[CartesianIndex()]`を用いる．"
   ]
  },
  {
   "cell_type": "code",
   "execution_count": 15,
   "id": "92092ff7",
   "metadata": {},
   "outputs": [
    {
     "data": {
      "text/plain": [
       "3-element Vector{Float64}:\n",
       " 0.9225597515419179\n",
       " 0.658120481093438\n",
       " 0.41401801671066496"
      ]
     },
     "execution_count": 15,
     "metadata": {},
     "output_type": "execute_result"
    }
   ],
   "source": [
    "v = rand(3)"
   ]
  },
  {
   "cell_type": "code",
   "execution_count": 16,
   "id": "e4b77537",
   "metadata": {},
   "outputs": [
    {
     "data": {
      "text/plain": [
       "1×3 Matrix{Float64}:\n",
       " 0.92256  0.65812  0.414018"
      ]
     },
     "execution_count": 16,
     "metadata": {},
     "output_type": "execute_result"
    }
   ],
   "source": [
    "newaxis = [CartesianIndex()]\n",
    "v1 = v[newaxis, :]"
   ]
  },
  {
   "cell_type": "markdown",
   "id": "b885abcd",
   "metadata": {},
   "source": [
    "### 単位行列\n",
    "\n",
    "aaa"
   ]
  },
  {
   "cell_type": "code",
   "execution_count": 17,
   "id": "277919b6",
   "metadata": {},
   "outputs": [
    {
     "data": {
      "text/plain": [
       "UniformScaling{Bool}\n",
       "true*I"
      ]
     },
     "execution_count": 17,
     "metadata": {},
     "output_type": "execute_result"
    }
   ],
   "source": [
    "I"
   ]
  },
  {
   "cell_type": "code",
   "execution_count": 18,
   "id": "c8fd7a93",
   "metadata": {},
   "outputs": [
    {
     "data": {
      "text/plain": [
       "3×3 Diagonal{Bool, Vector{Bool}}:\n",
       " 1  ⋅  ⋅\n",
       " ⋅  1  ⋅\n",
       " ⋅  ⋅  1"
      ]
     },
     "execution_count": 18,
     "metadata": {},
     "output_type": "execute_result"
    }
   ],
   "source": [
    "I(3)"
   ]
  },
  {
   "cell_type": "markdown",
   "id": "73243532",
   "metadata": {},
   "source": [
    "### 対角行列\n",
    "\n",
    "aaa"
   ]
  },
  {
   "cell_type": "markdown",
   "id": "795286df",
   "metadata": {},
   "source": [
    "### 線形行列方程式\n",
    "\n",
    "$\\mathbf{A}\\mathbf{x}=\\mathbf{b}$は$\\mathbf{A}$が正則の場合，逆行列が存在し，$\\mathbf{x}=\\mathbf{A}^{-1}\\mathbf{b}$が解となる．"
   ]
  },
  {
   "cell_type": "code",
   "execution_count": 33,
   "id": "cd510319",
   "metadata": {},
   "outputs": [
    {
     "data": {
      "text/plain": [
       "2-element Vector{Float64}:\n",
       " 0.5002132597166149\n",
       " 0.03509562556923285"
      ]
     },
     "execution_count": 33,
     "metadata": {},
     "output_type": "execute_result"
    }
   ],
   "source": [
    "A = rand(2,2)\n",
    "b = rand(2)"
   ]
  },
  {
   "cell_type": "code",
   "execution_count": 34,
   "id": "b764c68f",
   "metadata": {},
   "outputs": [
    {
     "data": {
      "text/plain": [
       "2-element Vector{Float64}:\n",
       " -0.1805788303672428\n",
       "  0.8082531148175677"
      ]
     },
     "execution_count": 34,
     "metadata": {},
     "output_type": "execute_result"
    }
   ],
   "source": [
    "x = inv(A) * b"
   ]
  },
  {
   "cell_type": "markdown",
   "id": "d6901bce",
   "metadata": {},
   "source": [
    "Juliaではバックスラッシュ演算子 `\\`を用いることで明示的に逆行列を計算せずに解を求めることができる．"
   ]
  },
  {
   "cell_type": "code",
   "execution_count": 35,
   "id": "e8f372d7",
   "metadata": {},
   "outputs": [
    {
     "data": {
      "text/plain": [
       "2-element Vector{Float64}:\n",
       " -0.1805788303672428\n",
       "  0.8082531148175676"
      ]
     },
     "execution_count": 35,
     "metadata": {},
     "output_type": "execute_result"
    }
   ],
   "source": [
    "x = A \\ b"
   ]
  },
  {
   "cell_type": "markdown",
   "id": "b053767c",
   "metadata": {},
   "source": [
    "## Roth's column lemma\n",
    "\n",
    "Roth's column lemmaは，例えば，$A, B, C$が与えられていて，$X$を未知とするときの方程式 $AXB = C$を考えると，この方程式は\n",
    "\n",
    "$$\n",
    "\\begin{equation}\n",
    "(B^\\top \\otimes A)\\text{vec}(X) = \\text{vec}(AXB)=\\text{vec}(C)\n",
    "\\end{equation}\n",
    "$$\n",
    "\n",
    "の形に書き下すことができる，というものである．$\\text{vec}(\\cdot)$はvec作用素（行列を列ベクトル化する作用素）である．`vec(X) = vcat(X...)`で実現できる．Roth's column lemmaを用いれば，$AXB = C$の解は\n",
    "\n",
    "$$\n",
    "\\begin{equation}\n",
    "X = \\text{vec}^{-1}\\left((B^\\top \\otimes A)^{-1}\\text{vec}(C)\\right)\n",
    "\\end{equation}\n",
    "$$\n",
    "\n",
    "として得られる．ただし，$\\text{vec}(\\cdot)^{-1}$は列ベクトルを行列に戻す作用素(inverse of the vectorization operator)である．`reshape()`で実現できる．2つの作用素をまとめると，\n",
    "\n",
    "$$\n",
    "\\begin{align}\n",
    "\\text{vec} &: R^{m\\times n}\\to R^{mn}\\\\\n",
    "\\text{vec}^{−1} &: R^{mn}\\to R^{m\\times n}\n",
    "\\end{align}\n",
    "$$\n",
    "\n",
    "であり，$\\text{vec}^{−1}\\left(\\text{vec}(X)\\right)=X\\ (\\text{for all}\\ X\\in R^{m\\times n})，\\text{vec}\\left(\\text{vec}^{−1}(x)\\right)=x\\ (\\text{for all}\\ x \\in R^{mn})$となる．"
   ]
  },
  {
   "cell_type": "code",
   "execution_count": 21,
   "id": "3e24b1fc",
   "metadata": {},
   "outputs": [],
   "source": [
    "using LinearAlgebra, Kronecker, Random"
   ]
  },
  {
   "cell_type": "code",
   "execution_count": 22,
   "id": "2534e200",
   "metadata": {},
   "outputs": [
    {
     "data": {
      "text/plain": [
       "4×4 Matrix{Float64}:\n",
       " 1.0  5.0   9.0  13.0\n",
       " 2.0  6.0  10.0  14.0\n",
       " 3.0  7.0  11.0  15.0\n",
       " 4.0  8.0  12.0  16.0"
      ]
     },
     "execution_count": 22,
     "metadata": {},
     "output_type": "execute_result"
    }
   ],
   "source": [
    "m = 4\n",
    "A = randn(m, m)\n",
    "B = randn(m, m)\n",
    "C = convert(Array{Float64}, reshape(1:16, (m, m)))"
   ]
  },
  {
   "cell_type": "code",
   "execution_count": 23,
   "id": "1637e4e7",
   "metadata": {},
   "outputs": [
    {
     "data": {
      "text/plain": [
       "4×4 Matrix{Float64}:\n",
       "  25.5193   -29.5701     5.09719  -18.3365\n",
       " -61.7388    71.768    -12.3934    44.6203\n",
       "   5.53255   -6.36443    1.09258   -3.92298\n",
       "   6.70725   -7.05331    1.14599   -4.0074"
      ]
     },
     "execution_count": 23,
     "metadata": {},
     "output_type": "execute_result"
    }
   ],
   "source": [
    "X = reshape((B' ⊗ A) \\ vec(C), (m, m))"
   ]
  },
  {
   "cell_type": "code",
   "execution_count": 24,
   "id": "9e4f39b8",
   "metadata": {},
   "outputs": [
    {
     "data": {
      "text/plain": [
       "4×4 Matrix{Float64}:\n",
       " 1.0  5.0   9.0  13.0\n",
       " 2.0  6.0  10.0  14.0\n",
       " 3.0  7.0  11.0  15.0\n",
       " 4.0  8.0  12.0  16.0"
      ]
     },
     "execution_count": 24,
     "metadata": {},
     "output_type": "execute_result"
    }
   ],
   "source": [
    "A * X * B"
   ]
  },
  {
   "cell_type": "markdown",
   "id": "b280c02b",
   "metadata": {},
   "source": [
    "### 配列の1次元化\n",
    "配列を一次元化(flatten)する方法．まずは3次元配列を作成する．"
   ]
  },
  {
   "cell_type": "code",
   "execution_count": 25,
   "id": "1a8367e4",
   "metadata": {},
   "outputs": [
    {
     "data": {
      "text/plain": [
       "2×2×2 Array{Float64, 3}:\n",
       "[:, :, 1] =\n",
       " 0.915692  0.18149\n",
       " 0.132838  0.0376235\n",
       "\n",
       "[:, :, 2] =\n",
       " 0.807789  0.297739\n",
       " 0.569867  0.705417"
      ]
     },
     "execution_count": 25,
     "metadata": {},
     "output_type": "execute_result"
    }
   ],
   "source": [
    "B = rand(2, 2, 2)"
   ]
  },
  {
   "cell_type": "markdown",
   "id": "94dac8ad",
   "metadata": {},
   "source": [
    "用意されている`flatten`を素直に用いると次のようになる．"
   ]
  },
  {
   "cell_type": "code",
   "execution_count": 26,
   "id": "d8708566",
   "metadata": {},
   "outputs": [
    {
     "data": {
      "text/plain": [
       "8-element Vector{Float64}:\n",
       " 0.9156924090979948\n",
       " 0.13283838898511735\n",
       " 0.18149003405285813\n",
       " 0.03762345094967079\n",
       " 0.8077889408656388\n",
       " 0.5698673388911334\n",
       " 0.297739498855886\n",
       " 0.7054169935372759"
      ]
     },
     "execution_count": 26,
     "metadata": {},
     "output_type": "execute_result"
    }
   ],
   "source": [
    "import Base.Iterators: flatten\n",
    "collect(flatten(B))"
   ]
  },
  {
   "cell_type": "markdown",
   "id": "33fdcbf5",
   "metadata": {},
   "source": [
    "ただし，単に`B[:]`とするだけでもよい．"
   ]
  },
  {
   "cell_type": "code",
   "execution_count": 27,
   "id": "f5219ddb",
   "metadata": {},
   "outputs": [
    {
     "data": {
      "text/plain": [
       "8-element Vector{Float64}:\n",
       " 0.9156924090979948\n",
       " 0.13283838898511735\n",
       " 0.18149003405285813\n",
       " 0.03762345094967079\n",
       " 0.8077889408656388\n",
       " 0.5698673388911334\n",
       " 0.297739498855886\n",
       " 0.7054169935372759"
      ]
     },
     "execution_count": 27,
     "metadata": {},
     "output_type": "execute_result"
    }
   ],
   "source": [
    "B[:]"
   ]
  },
  {
   "cell_type": "markdown",
   "id": "5b1e2325",
   "metadata": {},
   "source": [
    "### reshapeにおける残りの次元の指定\n",
    "numpyにおいては(2, 3, 5)次元の配列に対し，reshape(-1, 5)を行うと(6, 5)次元の配列となった．これと同様なことは，Juliaでは:を使うことで実装できる．"
   ]
  },
  {
   "cell_type": "code",
   "execution_count": 28,
   "id": "8a1a6d37",
   "metadata": {},
   "outputs": [
    {
     "data": {
      "text/plain": [
       "6×5 Matrix{Float64}:\n",
       " 0.286014   0.923302  0.174386   0.10705    0.744143\n",
       " 0.457232   0.234084  0.149783   0.684196   0.21295\n",
       " 0.308209   0.712286  0.903116   0.487475   6.84179e-6\n",
       " 0.0566201  0.526367  0.235321   0.0381212  0.336639\n",
       " 0.0933628  0.980388  0.0258844  0.0371784  0.849971\n",
       " 0.384149   0.628456  0.077691   0.970843   0.678124"
      ]
     },
     "execution_count": 28,
     "metadata": {},
     "output_type": "execute_result"
    }
   ],
   "source": [
    "a = rand(2,3,5)\n",
    "b = reshape(a, (:, 5))"
   ]
  },
  {
   "cell_type": "markdown",
   "id": "6951eb55",
   "metadata": {},
   "source": [
    "## Array{Array{Float64, x},1}をArray{Float64, x+1}に変換\n",
    "numpyでは`array([matrix for i in range()])`などを用いると，1次元配列のリストを2次元配列に変換できた．Juliaでも同様にする場合は`hcat(...)`や`cat(...)`を用いる．`...`はsplat operatorと呼ばれる．"
   ]
  },
  {
   "cell_type": "code",
   "execution_count": 11,
   "id": "d1d48954",
   "metadata": {},
   "outputs": [
    {
     "name": "stdout",
     "output_type": "stream",
     "text": [
      "Type : Vector{Vector{Float64}}\n",
      "Size : (5,)\n"
     ]
    }
   ],
   "source": [
    "A1 = [i*rand(3) for i=1:5]\n",
    "\n",
    "println(\"Type : \", typeof(A1))\n",
    "println(\"Size : \", size(A1))"
   ]
  },
  {
   "cell_type": "code",
   "execution_count": 12,
   "id": "5558d01d",
   "metadata": {},
   "outputs": [
    {
     "name": "stdout",
     "output_type": "stream",
     "text": [
      "Type : Adjoint{Float64, Matrix{Float64}}\n",
      "Size : (5, 3)\n"
     ]
    }
   ],
   "source": [
    "A2 = hcat(A1...)'\n",
    "\n",
    "println(\"Type : \", typeof(A2))\n",
    "println(\"Size : \", size(A2))"
   ]
  },
  {
   "cell_type": "code",
   "execution_count": 13,
   "id": "200022e1",
   "metadata": {},
   "outputs": [
    {
     "data": {
      "text/plain": [
       "3×5 Matrix{Float64}:\n",
       " 0.399752  1.0085    0.36412    0.66242   1.06852\n",
       " 0.250858  0.946007  1.07921    0.627488  0.179271\n",
       " 0.75941   0.899138  0.0960996  3.52572   0.717514"
      ]
     },
     "execution_count": 13,
     "metadata": {},
     "output_type": "execute_result"
    }
   ],
   "source": [
    "stack(A1)"
   ]
  },
  {
   "cell_type": "markdown",
   "id": "fe10b5cf",
   "metadata": {},
   "source": [
    "以下は多次元配列の場合．`cat(...)`で配列を結合し，`permitedims`で転置する．"
   ]
  },
  {
   "cell_type": "code",
   "execution_count": 14,
   "id": "df877c52",
   "metadata": {},
   "outputs": [
    {
     "name": "stdout",
     "output_type": "stream",
     "text": [
      "Type : Vector{Array{Float64, 3}}\n",
      "Size : (6,)\n"
     ]
    }
   ],
   "source": [
    "B1 = [i*rand(3, 4, 5) for i=1:6]\n",
    "\n",
    "println(\"Type : \", typeof(B1))\n",
    "println(\"Size : \", size(B1))"
   ]
  },
  {
   "cell_type": "code",
   "execution_count": 15,
   "id": "08bcac06",
   "metadata": {},
   "outputs": [
    {
     "data": {
      "text/plain": [
       "3×4×5×6 Array{Float64, 4}:\n",
       "[:, :, 1, 1] =\n",
       " 0.88996    0.418819  0.317106  0.809881\n",
       " 0.0656426  0.403243  0.748969  0.656944\n",
       " 0.0165343  0.21815   0.20768   0.271664\n",
       "\n",
       "[:, :, 2, 1] =\n",
       " 0.924109  0.874625  0.548064   0.0665163\n",
       " 0.438622  0.808703  0.881086   0.777017\n",
       " 0.740098  0.48068   0.0283703  0.667576\n",
       "\n",
       "[:, :, 3, 1] =\n",
       " 0.316527   0.26011   0.453848  0.33607\n",
       " 0.610262   0.285777  0.888585  0.645278\n",
       " 0.0159621  0.470272  0.430346  0.686911\n",
       "\n",
       "[:, :, 4, 1] =\n",
       " 0.306327  0.521515   0.125245  0.28525\n",
       " 0.436886  0.397245   0.876463  0.822274\n",
       " 0.391734  0.0093844  0.210796  0.080409\n",
       "\n",
       "[:, :, 5, 1] =\n",
       " 0.720239  0.597256   0.00176386  0.287453\n",
       " 0.59386   0.0274512  0.321321    0.0833419\n",
       " 0.655899  0.303632   0.787094    0.543664\n",
       "\n",
       "[:, :, 1, 2] =\n",
       " 1.52439   0.524795  0.0910437  1.94272\n",
       " 0.955208  0.638171  1.8238     0.30505\n",
       " 0.634682  1.17551   0.770143   1.01951\n",
       "\n",
       "[:, :, 2, 2] =\n",
       " 1.55138   1.10778   0.825705  1.71204\n",
       " 0.778812  0.167395  1.05283   0.496133\n",
       " 1.49202   1.04271   0.768803  0.888104\n",
       "\n",
       "[:, :, 3, 2] =\n",
       " 1.57256   0.362477  0.987483  0.768631\n",
       " 1.94081   1.344     0.137258  1.23047\n",
       " 0.188979  0.793865  0.76025   0.558448\n",
       "\n",
       "[:, :, 4, 2] =\n",
       " 1.56428    0.349541  0.907228  0.551257\n",
       " 0.0598789  0.608847  0.178587  1.83449\n",
       " 1.39614    0.92944   0.609819  0.369434\n",
       "\n",
       "[:, :, 5, 2] =\n",
       " 1.46451  0.698757  0.257167  1.13523\n",
       " 1.90936  0.587094  1.79273   0.535054\n",
       " 0.63959  1.75057   1.10514   1.80024\n",
       "\n",
       "[:, :, 1, 3] =\n",
       " 2.39584  0.324164  1.74676   1.35733\n",
       " 1.7207   0.144594  0.343904  2.37319\n",
       " 2.62666  0.168394  2.88495   1.9154\n",
       "\n",
       "[:, :, 2, 3] =\n",
       " 1.9677    2.87961   1.96704  0.867237\n",
       " 1.89466   2.17317   1.50039  0.387591\n",
       " 0.155398  0.376322  2.01483  1.58617\n",
       "\n",
       "[:, :, 3, 3] =\n",
       " 0.167492  2.95293   1.86561  2.43932\n",
       " 1.82734   0.985729  2.29529  2.66207\n",
       " 0.528923  1.58292   2.37377  2.40504\n",
       "\n",
       "[:, :, 4, 3] =\n",
       " 2.74134  0.0518728  0.345255  1.26673\n",
       " 2.35339  0.0249801  0.858517  2.88582\n",
       " 2.12268  0.96       0.723985  1.52997\n",
       "\n",
       "[:, :, 5, 3] =\n",
       " 2.83398   0.694443  0.598329  0.729414\n",
       " 0.624493  2.07602   1.31222   1.2702\n",
       " 0.796103  0.572787  0.797189  2.51299\n",
       "\n",
       "[:, :, 1, 4] =\n",
       " 1.46751  1.47563  3.04088  3.80627\n",
       " 3.07408  2.99604  3.69522  2.13379\n",
       " 2.11139  3.23237  1.98099  2.09582\n",
       "\n",
       "[:, :, 2, 4] =\n",
       " 0.412196  3.86739    1.4051    2.75114\n",
       " 2.94004   3.20301    0.296766  0.222383\n",
       " 3.21486   0.0395058  0.552863  2.58788\n",
       "\n",
       "[:, :, 3, 4] =\n",
       " 2.70044  2.21041  3.52705   0.727296\n",
       " 0.91456  3.2226   3.82373   1.4074\n",
       " 3.13616  3.13658  0.330075  0.0344954\n",
       "\n",
       "[:, :, 4, 4] =\n",
       " 3.30181  3.35825  3.28717   1.25415\n",
       " 1.6306   3.27834  0.260342  1.02253\n",
       " 3.57028  2.18016  0.854409  3.9699\n",
       "\n",
       "[:, :, 5, 4] =\n",
       " 3.73104  3.11372  0.948956  0.718564\n",
       " 1.32246  3.47632  1.89129   3.02821\n",
       " 1.1886   3.6657   0.703906  3.63052\n",
       "\n",
       "[:, :, 1, 5] =\n",
       " 4.54075  4.11371  0.865309  3.61641\n",
       " 1.17843  2.32359  3.40058   4.19308\n",
       " 2.82815  4.94534  2.44516   2.08957\n",
       "\n",
       "[:, :, 2, 5] =\n",
       " 1.93973  1.06067  1.64007   3.57131\n",
       " 4.34119  4.36608  0.241168  0.0655764\n",
       " 2.85547  2.73876  4.01211   3.50433\n",
       "\n",
       "[:, :, 3, 5] =\n",
       " 0.545141  0.120245  1.2887   4.80195\n",
       " 3.53376   4.83037   1.79706  3.48993\n",
       " 3.03275   4.28879   1.7707   1.91026\n",
       "\n",
       "[:, :, 4, 5] =\n",
       " 4.70091  3.23968  1.20852  4.23932\n",
       " 3.54115  3.19075  1.91554  1.02991\n",
       " 1.86595  3.22341  3.05072  3.05978\n",
       "\n",
       "[:, :, 5, 5] =\n",
       " 1.84798   1.28311   4.81296  2.04469\n",
       " 0.373411  1.06052   4.2899   0.954725\n",
       " 4.59676   0.160808  1.58396  3.56051\n",
       "\n",
       "[:, :, 1, 6] =\n",
       " 0.981247    5.74285  4.33641  0.397288\n",
       " 0.00737349  4.93684  2.41447  0.440869\n",
       " 0.862491    4.52457  5.12091  4.53781\n",
       "\n",
       "[:, :, 2, 6] =\n",
       " 0.460174  5.97078   3.92445  5.71072\n",
       " 5.50241   0.575818  3.3802   4.74823\n",
       " 3.44502   3.3458    3.1195   0.563531\n",
       "\n",
       "[:, :, 3, 6] =\n",
       " 3.19706   4.09554   0.895392  5.1414\n",
       " 5.84708   5.43967   2.54962   5.0533\n",
       " 0.352629  0.200952  0.496654  5.7511\n",
       "\n",
       "[:, :, 4, 6] =\n",
       " 0.392204  1.69312   5.48683  0.874287\n",
       " 4.72632   4.70637   1.20864  3.17975\n",
       " 1.42709   0.670438  5.88614  4.88048\n",
       "\n",
       "[:, :, 5, 6] =\n",
       " 4.81313  3.62939  3.10386  2.59265\n",
       " 2.68798  5.64427  2.99339  3.83071\n",
       " 1.96035  3.09336  3.55476  0.824868"
      ]
     },
     "execution_count": 15,
     "metadata": {},
     "output_type": "execute_result"
    }
   ],
   "source": [
    "stack(B1)"
   ]
  },
  {
   "cell_type": "code",
   "execution_count": 32,
   "id": "ccd15342",
   "metadata": {},
   "outputs": [
    {
     "name": "stdout",
     "output_type": "stream",
     "text": [
      "Type : Array{Float64, 4}\n",
      "Size : (6, 3, 4, 5)\n"
     ]
    }
   ],
   "source": [
    "B2 = permutedims(cat(B1..., dims=4), [4, 1, 2, 3])\n",
    "\n",
    "println(\"Type : \", typeof(B2))\n",
    "println(\"Size : \", size(B2))"
   ]
  }
 ],
 "metadata": {
  "kernelspec": {
   "display_name": "Julia 1.11.4",
   "language": "julia",
   "name": "julia-1.11"
  },
  "language_info": {
   "file_extension": ".jl",
   "mimetype": "application/julia",
   "name": "julia",
   "version": "1.11.4"
  }
 },
 "nbformat": 4,
 "nbformat_minor": 5
}
