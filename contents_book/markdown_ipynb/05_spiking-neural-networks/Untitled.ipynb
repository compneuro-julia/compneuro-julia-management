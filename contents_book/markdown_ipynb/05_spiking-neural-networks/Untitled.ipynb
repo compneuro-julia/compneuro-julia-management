{
 "cells": [
  {
   "cell_type": "code",
   "execution_count": null,
   "id": "6ac6d8aa-f965-4733-9137-f1e7894a3344",
   "metadata": {},
   "outputs": [],
   "source": []
  }
 ],
 "metadata": {
  "kernelspec": {
   "display_name": "Julia 1.11.4",
   "language": "julia",
   "name": "julia-1.11"
  },
  "language_info": {
   "file_extension": ".jl",
   "mimetype": "application/julia",
   "name": "julia",
   "version": "1.11.4"
  }
 },
 "nbformat": 4,
 "nbformat_minor": 5
}
