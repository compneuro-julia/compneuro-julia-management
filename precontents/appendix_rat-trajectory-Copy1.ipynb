{
 "cells": [
  {
   "cell_type": "markdown",
   "metadata": {},
   "source": [
    "## Appendix：ラット自由行動下の軌跡のシミュレーション"
   ]
  },
  {
   "cell_type": "markdown",
   "metadata": {},
   "source": [
    "([Raudies & Hasselmo, PLoS Comput Biol. 2012](https://journals.plos.org/ploscompbiol/article?id=10.1371/journal.pcbi.1002553)) の擬似コードに従って作成．"
   ]
  },
  {
   "cell_type": "code",
   "execution_count": 1,
   "metadata": {},
   "outputs": [],
   "source": [
    "using PyPlot, LinearAlgebra, Random, Distributions"
   ]
  },
  {
   "cell_type": "code",
   "execution_count": 2,
   "metadata": {},
   "outputs": [],
   "source": [
    "ROOM_LEN = 2.2        # Width and height of environment (meters)\n",
    "r = ROOM_LEN/2\n",
    "PERIMETER_DIST = 0.03 # Perimeter region distance to walls (meters)\n",
    "σv = 0.13            # Forward velocity Rayleigh distribution scale (m/sec)\n",
    "μω = 0.0            # Rotation velocity Gaussian distribution mean (rad/sec)\n",
    "σω = (330 / 360) * 2π # Rotation velocity Gaussian distribution standard deviation (rad/sec)\n",
    "Δt = 0.02            # Simulation-step time increment (seconds)\n",
    "ρdecel = 0.75;       # Velocity reduction factor when located in the perimeter"
   ]
  },
  {
   "cell_type": "code",
   "execution_count": 3,
   "metadata": {},
   "outputs": [],
   "source": [
    "wrap(x) = mod(x, 2π); # limit 0~2π angle"
   ]
  },
  {
   "cell_type": "markdown",
   "metadata": {},
   "source": [
    "Juliaの余りの関数は `rem(x, y)` と `mod(x, y)`がある。Juliaの`x % y`は`rem`と同じだが、Pythonの場合は`mod`と同じなので、注意。"
   ]
  },
  {
   "cell_type": "code",
   "execution_count": 14,
   "metadata": {},
   "outputs": [
    {
     "name": "stdout",
     "output_type": "stream",
     "text": [
      "% : -1, rem : -1, mod : 1\n"
     ]
    }
   ],
   "source": [
    "println(\"% : \", -1 % 2, \", rem : \", rem(-1, 2), \", mod : \", mod(-1, 2))"
   ]
  },
  {
   "cell_type": "markdown",
   "metadata": {},
   "source": [
    "並進速度をレイリー分布，回転速度を正規分布に従うようにランダムにする．\n",
    "\n",
    "壁の接ベクトルとラットの距離をdWall, 壁の法線ベクトルとラットの頭方向の角度の差をaWallとする．なお，壁とはラットの自己速度ベクトルと壁全体との交点である．\n",
    "\n",
    "- ラットの自己速度ベクトルと壁全体との交点を求める．\n",
    "- 交点の接ベクトルと法線ベクトルを求める．\n",
    "- 接ベクトルとの距離をdWallとする．\n",
    "- 法線ベクトルと成す角をaWallとする．"
   ]
  },
  {
   "cell_type": "code",
   "execution_count": 34,
   "metadata": {},
   "outputs": [],
   "source": [
    "# for square room of size ROOM_LEN x ROOM_LEN\n",
    "# d:dist, a:angle\n",
    "function minDistAngleSquare(pos, θ)\n",
    "    if 7π/4 ≤ θ < 2π || 0 ≤ θ < π/4\n",
    "        dWall, aWall = ROOM_LEN - pos[1], θ\n",
    "    elseif π/4 ≤ θ < 3π/4\n",
    "        dWall, aWall = ROOM_LEN - pos[2], θ + 0.5π\n",
    "    elseif 3π/4 ≤ θ < 5π/4\n",
    "        dWall, aWall = pos[1], θ + π\n",
    "    elseif 5π/4 ≤ θ < 7π/4\n",
    "        dWall, aWall = pos[2], θ + 1.5π\n",
    "    end\n",
    "    aWall = wrap(aWall)\n",
    "    return dWall, aWall\n",
    "end;"
   ]
  },
  {
   "cell_type": "code",
   "execution_count": 4,
   "metadata": {},
   "outputs": [],
   "source": [
    "# for square room of size ROOM_LEN x ROOM_LEN\n",
    "# d:dist, a:angle\n",
    "function minDistAngleCircle(pos, θ, r)\n",
    "    pos = pos .- r\n",
    "    vec = [cos(θ), sin(θ)]\n",
    "    k = pos[1]*sin(θ) - pos[2]*cos(θ)\n",
    "    ipos = [k*sin(θ), - k*cos(θ)] .+ sqrt(r^2 - k^2) * vec # pos of intersection\n",
    "    dWall = abs(ipos[1]*(pos[1]-ipos[1])+ipos[2]*(pos[2]-ipos[2]))\n",
    "    aWall = sign(ipos[2])*acos(ipos[1]/r) - θ\n",
    "    return dWall, aWall\n",
    "end;"
   ]
  },
  {
   "cell_type": "code",
   "execution_count": 35,
   "metadata": {},
   "outputs": [],
   "source": [
    "function generateRatTrajectory(num_steps)\n",
    "    # store arrays\n",
    "    Position, Velocity = zeros(num_steps, 2), zeros(num_steps, 2)\n",
    "    Speed, θ = zeros(num_steps), zeros(num_steps) # Forward speed, head direction\n",
    "\n",
    "    # initial values\n",
    "    θ[1], Speed[1] = rand() * 2π, 0\n",
    "    Position[1, :] = [r, r] #clamp.(rand(2) * ROOM_LEN, -0.1, ROOM_LEN-0.1)\n",
    "    Velocity[1, :] = Speed[1] * [sin(θ[1]), cos(θ[1])]\n",
    "    \n",
    "    # iteration of trajectory\n",
    "    for i in 1:num_steps-1\n",
    "        #dWall, aWall = minDistAngleCircle(Position[i, :], θ[i], r)\n",
    "        #println(\"dWall:\", dWall, \", aWall:\", aWall)\n",
    "        dWall, aWall = minDistAngleSquare(Position[i, :], θ[i])\n",
    "        if (dWall < PERIMETER_DIST) && (abs(aWall) < π)\n",
    "            Speed[i+1] = ρdecel * Speed[i] # deceleration\n",
    "            θ[i+1] = wrap(sign(aWall) * (π - abs(aWall))+ (μω + randn()*σω)) #* Δt) # turn\n",
    "        else\n",
    "            Speed[i+1] = rand(Rayleigh(σv))\n",
    "            θ[i+1] = wrap(θ[i] + (μω + randn()*σω) * Δt)\n",
    "        end\n",
    "        Position[i+1, :] = Position[i, :] + Velocity[i, :] * Δt\n",
    "        Velocity[i+1, :] = Speed[i+1] * [sin(θ[i+1]), cos(θ[i+1])]\n",
    "    end\n",
    "    return Position, Velocity, Speed, θ\n",
    "end;"
   ]
  },
  {
   "cell_type": "code",
   "execution_count": 36,
   "metadata": {},
   "outputs": [],
   "source": [
    "num_timesteps = 10000\n",
    "Position, Velocity, Speed, θ = generateRatTrajectory(num_timesteps);"
   ]
  },
  {
   "cell_type": "markdown",
   "metadata": {},
   "source": [
    "黒点から始まり、赤点に終わる。"
   ]
  },
  {
   "cell_type": "code",
   "execution_count": 8,
   "metadata": {},
   "outputs": [
    {
     "data": {
      "text/plain": [
       "0.0:0.06346651825433926:6.283185307179586"
      ]
     },
     "execution_count": 8,
     "metadata": {},
     "output_type": "execute_result"
    }
   ],
   "source": [
    "Θ = range(0, 2pi, length=100)"
   ]
  },
  {
   "cell_type": "code",
   "execution_count": 37,
   "metadata": {},
   "outputs": [
    {
     "data": {
      "image/png": "[encoded data removed]",
      "text/plain": [
       "Figure(PyObject <Figure size 400x400 with 1 Axes>)"
      ]
     },
     "metadata": {},
     "output_type": "display_data"
    }
   ],
   "source": [
    "figure(figsize=(4, 4))\n",
    "title(\"Rat trajectory pathway\")\n",
    "#plot(r.+cos.(Θ), r.+sin.(Θ))\n",
    "xlabel(\"x (meters)\"); ylabel(\"y (meters)\")\n",
    "#xlim((0, ROOM_LEN+0.01)); ylim((0, ROOM_LEN))\n",
    "plot(Position[1, 1], Position[1, 2], \"ko\", label=\"Start\")\n",
    "plot(Position[end, 1], Position[end, 2], \"ro\", label=\"Goal\")\n",
    "plot(Position[:, 1], Position[:, 2], color=\"k\", alpha=0.3)\n",
    "legend()\n",
    "tight_layout()"
   ]
  },
  {
   "cell_type": "code",
   "execution_count": null,
   "metadata": {},
   "outputs": [],
   "source": [
    "\n",
    "X = -1:0.1:1"
   ]
  },
  {
   "cell_type": "code",
   "execution_count": null,
   "metadata": {},
   "outputs": [],
   "source": [
    "figure(figsize=(5, 4.5))\n",
    "axvline(x=0, color=\"gray\", linestyle=\"dashed\", linewidth=2)\n",
    "axhline(y=0, color=\"gray\", linestyle=\"dashed\", linewidth=2)\n",
    "plot(cos.(Θ), sin.(Θ))\n",
    "plot(X, ipos[2]/ipos[1]*X)\n",
    "plot(X, tan(θ) * (X.-pos[1]) .+pos[2])\n",
    "plot(X, -ipos[1]/ipos[2] * (X.-ipos[1]) .+ipos[2])\n",
    "quiver(pos[1], pos[2], cos(θ), sin(θ), color=\"red\") \n",
    "quiver(pos[1], pos[2], sin(θ), -cos(θ))\n",
    "quiver(ipos[1], ipos[2], ipos[1], ipos[2])\n",
    "quiver(ipos[1], ipos[2], ipos[2], -ipos[1])\n",
    "scatter(hpos[1], hpos[2])\n",
    "scatter(ipos[1], ipos[2])\n",
    "ylim(-1, 1);\n",
    "xlim(-1, 1);\n",
    "tight_layout()"
   ]
  }
 ],
 "metadata": {
  "kernelspec": {
   "display_name": "Julia 1.6.0",
   "language": "julia",
   "name": "julia-1.6"
  },
  "language_info": {
   "file_extension": ".jl",
   "mimetype": "application/julia",
   "name": "julia",
   "version": "1.6.0"
  }
 },
 "nbformat": 4,
 "nbformat_minor": 4
}
