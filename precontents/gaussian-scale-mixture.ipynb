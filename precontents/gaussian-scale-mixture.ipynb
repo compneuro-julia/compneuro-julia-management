{
 "cells": [
  {
   "cell_type": "markdown",
   "id": "666e8f2b",
   "metadata": {},
   "source": [
    "# Gaussian Scale Mixture model\n",
    "\n",
    "\n",
    "- Orbán, Gergő, Pietro Berkes, József Fiser, and Máté Lengyel. 2016. “Neural Variability and Sampling-Based Probabilistic Representations in the Visual Cortex.” Neuron 92 (2): 530–43.\n",
    "- Echeveste, Rodrigo, Laurence Aitchison, Guillaume Hennequin, and Máté Lengyel. 2020. “Cortical-like Dynamics in Recurrent Circuits Optimized for Sampling-Based Probabilistic Inference.” Nature Neuroscience 23 (9): 1138–49.\n",
    "- Echeveste, Rodrigo, Guillaume Hennequin, and Máté Lengyel. 2017. “Asymptotic Scaling Properties of the Posterior Mean and Variance in the Gaussian Scale Mixture Model.” arXiv [q-bio.QM]. arXiv. https://doi.org/10.48550/ARXIV.1706.00925.\n",
    "\n",
    "$$\n",
    "\\mathrm{P}\\left(\\mathbf{x}\\mid\\mathbf{y}, z\\right)=\\mathcal{N}\\left(z \\mathbf{A} \\mathbf{y}, \\sigma_{\\mathbf{x}}^{2} \\mathbf{I}\\right)\n",
    "$$\n",
    "\n",
    "$$\n",
    "\\mathrm{P}\\left(\\mathbf{y}\\right)=\\mathcal{N}\\left(\\mathbf{0}, \\mathbf{C}\\right)\n",
    "$$\n",
    "\n",
    "$$\n",
    "\\begin{aligned}\n",
    "\\mathrm{P}(z \\mid \\mathbf{x}) &\\propto \\mathrm{P}(z) \\mathcal{N}\\left(0, z^{2} \\mathbf{A C A}^{\\top}+\\sigma_{x}^{2} \\mathbf{I}\\right) \\\\\n",
    "\\mathrm{P}(\\mathbf{y} \\mid z, \\mathbf{x})&=\\mathcal{N}(\\mu(z, \\mathbf{x}), \\Sigma(z))\n",
    "\\end{aligned}\n",
    "$$"
   ]
  },
  {
   "cell_type": "code",
   "execution_count": null,
   "id": "68b64333",
   "metadata": {},
   "outputs": [],
   "source": []
  },
  {
   "cell_type": "code",
   "execution_count": null,
   "id": "9b163349",
   "metadata": {},
   "outputs": [],
   "source": []
  }
 ],
 "metadata": {
  "kernelspec": {
   "display_name": "Julia 1.7.2",
   "language": "julia",
   "name": "julia-1.7"
  },
  "language_info": {
   "file_extension": ".jl",
   "mimetype": "application/julia",
   "name": "julia",
   "version": "1.7.2"
  }
 },
 "nbformat": 4,
 "nbformat_minor": 5
}
