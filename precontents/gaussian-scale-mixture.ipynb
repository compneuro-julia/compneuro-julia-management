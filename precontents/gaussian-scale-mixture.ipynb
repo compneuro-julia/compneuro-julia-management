{
 "cells": [
  {
   "cell_type": "markdown",
   "id": "634b97da",
   "metadata": {},
   "source": [
    "# Gaussian Scale Mixture model\n",
    "\n",
    "\n",
    "- Orbán, Gergő, Pietro Berkes, József Fiser, and Máté Lengyel. 2016. “Neural Variability and Sampling-Based Probabilistic Representations in the Visual Cortex.” Neuron 92 (2): 530–43.\n",
    "- Echeveste, Rodrigo, Laurence Aitchison, Guillaume Hennequin, and Máté Lengyel. 2020. “Cortical-like Dynamics in Recurrent Circuits Optimized for Sampling-Based Probabilistic Inference.” Nature Neuroscience 23 (9): 1138–49.\n",
    "- Echeveste, Rodrigo, Guillaume Hennequin, and Máté Lengyel. 2017. “Asymptotic Scaling Properties of the Posterior Mean and Variance in the Gaussian Scale Mixture Model.” arXiv [q-bio.QM]. arXiv. https://doi.org/10.48550/ARXIV.1706.00925.\n",
    "\n",
    "$$\n",
    "\\mathrm{P}\\left(\\mathbf{x}\\mid\\mathbf{y}, z\\right)=\\mathcal{N}\\left(z \\mathbf{A} \\mathbf{y}, \\sigma_{\\mathbf{x}}^{2} \\mathbf{I}\\right)\n",
    "$$\n",
    "\n",
    "$$\n",
    "\\mathrm{P}\\left(\\mathbf{y}\\right)=\\mathcal{N}\\left(\\mathbf{0}, \\mathbf{C}\\right)\n",
    "$$\n",
    "\n",
    "$$\n",
    "\\begin{aligned}\n",
    "\\mathrm{P}(z \\mid \\mathbf{x}) &\\propto \\mathrm{P}(z) \\mathcal{N}\\left(0, z^{2} \\mathbf{A C A}^{\\top}+\\sigma_{x}^{2} \\mathbf{I}\\right) \\\\\n",
    "\\mathrm{P}(\\mathbf{y} \\mid z, \\mathbf{x})&=\\mathcal{N}(\\mu(z, \\mathbf{x}), \\Sigma(z))\n",
    "\\end{aligned}\n",
    "$$"
   ]
  },
  {
   "cell_type": "markdown",
   "id": "5e5b14d8",
   "metadata": {},
   "source": [
    "### 重み行列の作成"
   ]
  },
  {
   "cell_type": "code",
   "execution_count": 1,
   "id": "0a57e3d5",
   "metadata": {},
   "outputs": [],
   "source": [
    "using PyPlot, LinearAlgebra, Random, Distributions\n",
    "Random.seed!(114514)\n",
    "rc(\"axes.spines\", top=false, right=false)"
   ]
  },
  {
   "cell_type": "code",
   "execution_count": 2,
   "id": "2e3adc5e",
   "metadata": {},
   "outputs": [],
   "source": [
    "function gabor(x, y, θ, σ=1, λ=2, ψ=0)\n",
    "    xθ = x * cos(θ) + y * sin(θ)\n",
    "    yθ = -x * sin(θ) + y * cos(θ)\n",
    "    return exp(-.5(xθ^2 + yθ^2)/σ^2) * cos(2π/λ * xθ + ψ)\n",
    "end;"
   ]
  },
  {
   "cell_type": "code",
   "execution_count": 3,
   "id": "ccd17569",
   "metadata": {},
   "outputs": [],
   "source": [
    "L = 16      # width/height of input image\n",
    "dim_x = L^2 # dimension of the observed variable x\n",
    "dim_y = 50  # dimension of the hidden variable y\n",
    "\n",
    "A = zeros(dim_x, dim_y) # weight matrix\n",
    "p = range(-3, 3, length=L) # position\n",
    "for i in 1:dim_y\n",
    "    θ = π * i/dim_y\n",
    "    gb = gabor.(p', p, θ)\n",
    "    gb /= norm(gb) # normalization\n",
    "    A[:, i] = gb[:] # flatten\n",
    "end;"
   ]
  },
  {
   "cell_type": "markdown",
   "id": "8bc50892",
   "metadata": {},
   "source": [
    "重み行列$\\mathbf{A}$の一部を描画してみよう．"
   ]
  },
  {
   "cell_type": "code",
   "execution_count": 4,
   "id": "7c5de363",
   "metadata": {},
   "outputs": [
    {
     "data": {
      "image/png": "[encoded data removed]",
      "text/plain": [
       "Figure(PyObject <Figure size 300x100 with 5 Axes>)"
      ]
     },
     "metadata": {},
     "output_type": "display_data"
    },
    {
     "name": "stderr",
     "output_type": "stream",
     "text": [
      "┌ Warning: `vendor()` is deprecated, use `BLAS.get_config()` and inspect the output instead\n",
      "│   caller = npyinitialize() at numpy.jl:67\n",
      "└ @ PyCall C:\\Users\\yamta\\.julia\\packages\\PyCall\\3fwVL\\src\\numpy.jl:67\n"
     ]
    }
   ],
   "source": [
    "idx = trunc.(Int, range(1, 50, length=5))\n",
    "figure(figsize=(3,1))\n",
    "for i in 1:5\n",
    "    subplot(1,5,i)\n",
    "    title(string((i-1)*45-90)*\"°\")\n",
    "    imshow(reshape(A[:, idx[i]], 16,16), cmap=\"gray\")\n",
    "    axis(\"off\")\n",
    "end\n",
    "tight_layout()"
   ]
  },
  {
   "cell_type": "markdown",
   "id": "d746408c",
   "metadata": {},
   "source": [
    "### $y$の事前分布の分散共分散行列$\\mathbf{C}$の作成\n",
    "フーリエ基底を用いて共分散行列を作る．"
   ]
  },
  {
   "cell_type": "code",
   "execution_count": 5,
   "id": "8d276660",
   "metadata": {},
   "outputs": [],
   "source": [
    "# Produces a matrix whose columns are a set of discreete fourier base vectors        \n",
    "function fourier_base(m)\n",
    "    base = zeros(m, m)\n",
    "    ω = 2π/m\n",
    "    x = 0:m-1\n",
    "    for i in 1:m\n",
    "        n = trunc((i-1)/2)\n",
    "        base[i, :] = (i-1)%2==0 ? cos.(n*ω*x) : sin.(n*ω*x) # true -> cos, false -> sin\n",
    "        base[i, :] /= norm(base[i, :]) + 1e-8 # normalization\n",
    "    end\n",
    "    return base' # transpose\n",
    "end;"
   ]
  },
  {
   "cell_type": "code",
   "execution_count": 6,
   "id": "8857566c",
   "metadata": {
    "lines_to_next_cell": 1
   },
   "outputs": [
    {
     "data": {
      "text/plain": [
       "get_C_from_fourier (generic function with 1 method)"
      ]
     },
     "execution_count": 6,
     "metadata": {},
     "output_type": "execute_result"
    }
   ],
   "source": [
    "# Create an input covariance C with the right symmetry from the fourier base\n",
    "function get_C_from_fourier(base, epsilon, decay_length)\n",
    "    m = size(base)[1]\n",
    "    C = epsilon * I # regularizer\n",
    "    for i in 1:m\n",
    "        v = base[:, i]\n",
    "        λ = 20*exp(-trunc((i-1)/2)/decay_length)\n",
    "        C += λ * v * v'\n",
    "    end\n",
    "    C .-= 0.25    \n",
    "    C .*= (4.0 / maximum(C))\n",
    "    return Symmetric(C)\n",
    "end"
   ]
  },
  {
   "cell_type": "code",
   "execution_count": 7,
   "id": "07e1af62",
   "metadata": {},
   "outputs": [],
   "source": [
    "B = fourier_base(dim_y) # create the base matrix B\n",
    "\n",
    "# build C from B\n",
    "decay_length = dim_y / 50.0 # for the eigenvalues of C\n",
    "epsilon = 0.01 # regularizer for C\n",
    "C = get_C_from_fourier(B, epsilon, decay_length);"
   ]
  },
  {
   "cell_type": "code",
   "execution_count": 8,
   "id": "210495ab",
   "metadata": {
    "scrolled": true
   },
   "outputs": [
    {
     "data": {
      "image/png": "[encoded data removed]",
      "text/plain": [
       "Figure(PyObject <Figure size 550x200 with 3 Axes>)"
      ]
     },
     "metadata": {},
     "output_type": "display_data"
    }
   ],
   "source": [
    "fig, ax = subplots(1, 2, figsize=(5.5, 2))\n",
    "ax[1].set_title(L\"$\\mathbf{B}$\")\n",
    "ax[1].imshow(B, origin=\"lower\", cmap=\"bwr\")\n",
    "ax[2].set_title(L\"$\\mathbf{C}$\")\n",
    "im = ax[2].imshow(C, origin=\"lower\", cmap=\"bwr\", vmin=-4, vmax=4, extent=(-90, 90, -90, 90))\n",
    "ax[2].set_xticks([-90,0,90]); ax[2].set_yticks([-90,0,90]); \n",
    "fig.colorbar(im);"
   ]
  },
  {
   "cell_type": "markdown",
   "id": "676183be",
   "metadata": {},
   "source": [
    "### 事後分布等の関数\n",
    "$x$を取得する関数を記述する．"
   ]
  },
  {
   "cell_type": "code",
   "execution_count": 9,
   "id": "48743c09",
   "metadata": {
    "lines_to_next_cell": 1
   },
   "outputs": [
    {
     "data": {
      "text/plain": [
       "get_post_moments (generic function with 1 method)"
      ]
     },
     "execution_count": 9,
     "metadata": {},
     "output_type": "execute_result"
    }
   ],
   "source": [
    "function P_x_giv_yz(y, z, A, σx)\n",
    "    x_mean = z*A*y\n",
    "    noise = σx * randn(size(x_mean))\n",
    "    return x_mean + noise\n",
    "end\n",
    "\n",
    "μ_z(z, σₓ², Σ_post, A, x) = (z/σₓ²) * Σ_post * A' * x\n",
    "Σ_z(z, σₓ², C_inv, ATA) = inv(C_inv + (z^2 / σₓ²) * ATA)\n",
    "\n",
    "function get_post_moments(x, z_MAP, σₓ², A, ATA, C_inv)\n",
    "    Σ = Σ_z(z_MAP, σₓ², C_inv, ATA)\n",
    "    μ = μ_z(z_MAP, σₓ², Σ, A, x)\n",
    "    return μ, Σ\n",
    "end"
   ]
  },
  {
   "cell_type": "code",
   "execution_count": 10,
   "id": "f7b2e37e",
   "metadata": {
    "lines_to_next_cell": 1
   },
   "outputs": [],
   "source": [
    "log_P_z(z, k, θ) = logpdf.(Gamma(k, θ), z);"
   ]
  },
  {
   "cell_type": "code",
   "execution_count": 11,
   "id": "912a59ef",
   "metadata": {
    "lines_to_next_cell": 1
   },
   "outputs": [
    {
     "data": {
      "text/plain": [
       "P_z_giv_x (generic function with 1 method)"
      ]
     },
     "execution_count": 11,
     "metadata": {},
     "output_type": "execute_result"
    }
   ],
   "source": [
    "function P_z_giv_x(z_range, x, ACAT, σₓ², k, θ)\n",
    "    n_contrasts = length(z_range)\n",
    "    dim_x = length(x)\n",
    "    log_p = zeros(n_contrasts)\n",
    "    x_mean = zeros(dim_x)\n",
    "    dz = z_range[2] - z_range[1]\n",
    "    for i in 1:n_contrasts\n",
    "        Cov = z_range[i]^2 * ACAT + σₓ² * I\n",
    "        log_p[i] = log_P_z(z_range[i], k, θ) + logpdf(MvNormal(x_mean, Symmetric(Cov)), x)\n",
    "    end\n",
    "    p = exp.(log_p .- maximum(log_p))\n",
    "    p /= sum(p) * dz\n",
    "    return p   \n",
    "end"
   ]
  },
  {
   "cell_type": "markdown",
   "id": "b4fc2014",
   "metadata": {},
   "source": [
    "### シミュレーション"
   ]
  },
  {
   "cell_type": "code",
   "execution_count": 12,
   "id": "1d2d13b0",
   "metadata": {},
   "outputs": [],
   "source": [
    "ATA = A' * A\n",
    "ACAT = A * C * A'\n",
    "\n",
    "σₓ = 1.0 # Noise of the x process\n",
    "σₓ² = σₓ^2\n",
    "k, θ = 2.0, 2.0 # Parameter of the gamma dist. for z. (Shape, Scale)\n",
    "\n",
    "y_mean = zeros(dim_y) # The mean is 0 for y\n",
    "C_inv = inv(C); # We will need the inverse of C"
   ]
  },
  {
   "cell_type": "markdown",
   "id": "518395c2",
   "metadata": {},
   "source": [
    "入力データの作成"
   ]
  },
  {
   "cell_type": "code",
   "execution_count": 13,
   "id": "38090e18",
   "metadata": {},
   "outputs": [],
   "source": [
    "Z = [0.0, 0.5, 2.0];\n",
    "n_targets = size(Z)[1]\n",
    "y = rand(MvNormal(y_mean, Symmetric(C)), 1) # sampling from P(y)=N(0, C)\n",
    "X = hcat(map((z) -> P_x_giv_yz(y, z, A, σₓ), Z)...)';"
   ]
  },
  {
   "cell_type": "code",
   "execution_count": 14,
   "id": "f870f752",
   "metadata": {},
   "outputs": [
    {
     "data": {
      "image/png": "[encoded data removed]",
      "text/plain": [
       "Figure(PyObject <Figure size 400x200 with 3 Axes>)"
      ]
     },
     "metadata": {},
     "output_type": "display_data"
    }
   ],
   "source": [
    "x_min, x_max = minimum(X), maximum(X)\n",
    "\n",
    "figure(figsize=(4,2))\n",
    "for alpha in 1:n_targets\n",
    "    subplot(1, n_targets, alpha)\n",
    "    title(L\"$z$: \"*string(Z[alpha]))\n",
    "    imshow(reshape(X[alpha, :], 16, 16), \n",
    "        vmin=x_min, vmax=x_max, cmap=\"gray\")\n",
    "end\n",
    "tight_layout()"
   ]
  },
  {
   "cell_type": "markdown",
   "id": "a12f1fda",
   "metadata": {},
   "source": [
    "`Symmetric(Cov)` or `Matrix(Hermitian(Cov)))`"
   ]
  },
  {
   "cell_type": "code",
   "execution_count": 15,
   "id": "5ea8517d",
   "metadata": {},
   "outputs": [],
   "source": [
    "# We compute the moments of the posteriors\n",
    "μ_post = zeros(n_targets, dim_y)\n",
    "σ_post = zeros(n_targets, dim_y)\n",
    "Σ_post = zeros(n_targets, dim_y, dim_y)\n",
    "\n",
    "z_range = range(0, 5.0, length=100) # range of z for MAP estimation\n",
    "Z_MAP = zeros(n_targets) # MAP estimated z\n",
    "\n",
    "for alpha in 1:n_targets\n",
    "    p_z = P_z_giv_x(z_range, X[alpha, :], ACAT, σₓ², k, θ)\n",
    "\n",
    "    # Moments at MAP contrast\n",
    "    Z_MAP[alpha] = z_range[argmax(p_z)]\n",
    "    μ_post[alpha, :], Σ_post[alpha, :, :] = get_post_moments(X[alpha, :], Z_MAP[alpha], σₓ², A, ATA, C_inv)\n",
    "    σ_post[alpha, :] = sqrt.(diag(Σ_post[alpha, :, :]))\n",
    "end"
   ]
  },
  {
   "cell_type": "markdown",
   "id": "f552b8a0",
   "metadata": {},
   "source": [
    "### 結果"
   ]
  },
  {
   "cell_type": "code",
   "execution_count": 16,
   "id": "9219a0b5",
   "metadata": {},
   "outputs": [
    {
     "data": {
      "image/png": "[encoded data removed]",
      "text/plain": [
       "Figure(PyObject <Figure size 400x200 with 2 Axes>)"
      ]
     },
     "metadata": {},
     "output_type": "display_data"
    }
   ],
   "source": [
    "figure(figsize=(4,2))\n",
    "subplot(1,2,1)\n",
    "for alpha in 1:n_targets\n",
    "    plot(μ_post[alpha, :])\n",
    "end\n",
    "subplot(1,2,2)\n",
    "for alpha in 1:n_targets\n",
    "    plot(σ_post[alpha, :])\n",
    "end\n",
    "tight_layout()"
   ]
  },
  {
   "cell_type": "markdown",
   "id": "115a9884",
   "metadata": {},
   "source": [
    "#### $\\Sigma$"
   ]
  },
  {
   "cell_type": "code",
   "execution_count": 17,
   "id": "d9dcb51a",
   "metadata": {},
   "outputs": [
    {
     "data": {
      "image/png": "[encoded data removed]",
      "text/plain": [
       "Figure(PyObject <Figure size 400x200 with 3 Axes>)"
      ]
     },
     "metadata": {},
     "output_type": "display_data"
    }
   ],
   "source": [
    "figure(figsize=(4,2))\n",
    "for alpha in 1:n_targets\n",
    "    subplot(1,n_targets,alpha)\n",
    "    title(L\"$z$: \"*string(Z[alpha]))\n",
    "    imshow(Σ_post[alpha, :, :], origin=\"lower\", cmap=\"bwr\", vmin=-1, vmax=1)\n",
    "end\n",
    "tight_layout()"
   ]
  },
  {
   "cell_type": "markdown",
   "id": "5d8b6401",
   "metadata": {},
   "source": [
    "### output"
   ]
  },
  {
   "cell_type": "code",
   "execution_count": 18,
   "id": "4f4ea8e5",
   "metadata": {},
   "outputs": [
    {
     "data": {
      "text/plain": [
       "\"uTh = 1.9\\nthGam = 2\\nsigmaX = 0.7945\\nm = 10\\nalpha = 1.4\\nbeta = 1.1\\n\""
      ]
     },
     "execution_count": 18,
     "metadata": {},
     "output_type": "execute_result"
    }
   ],
   "source": [
    "\"\"\"\n",
    "uTh = 1.9\n",
    "thGam = 2\n",
    "sigmaX = 0.7945\n",
    "m = 10\n",
    "alpha = 1.4\n",
    "beta = 1.1\n",
    "\"\"\""
   ]
  },
  {
   "cell_type": "code",
   "execution_count": 19,
   "id": "7ca02e32",
   "metadata": {},
   "outputs": [],
   "source": [
    "membrane_potential(y, α=1.4) = sign(y) * abs(y)^α\n",
    "firing_rate(u, β=1.1, m=10, uθ=1.9) = m * max.(0, u-uθ)^β;"
   ]
  },
  {
   "cell_type": "code",
   "execution_count": 20,
   "id": "343708c8",
   "metadata": {},
   "outputs": [],
   "source": [
    "nt = 100\n",
    "u = zeros(n_targets, dim_y, nt)\n",
    "for alpha in 1:n_targets\n",
    "    μ = μ_post[alpha, :]\n",
    "    Σ = Σ_post[alpha, :, :]\n",
    "    d = MvNormal(μ, Symmetric(Σ))\n",
    "    sample = rand(d, nt)\n",
    "    u[alpha, :, :] = membrane_potential.(sample)\n",
    "end"
   ]
  },
  {
   "cell_type": "markdown",
   "id": "d3581110",
   "metadata": {},
   "source": [
    "ToDo: 円を描く．\n",
    "https://matplotlib.org/stable/gallery/statistics/confidence_ellipse.html"
   ]
  },
  {
   "cell_type": "code",
   "execution_count": 21,
   "id": "63c2635e",
   "metadata": {},
   "outputs": [
    {
     "data": {
      "image/png": "[encoded data removed]",
      "text/plain": [
       "Figure(PyObject <Figure size 500x200 with 3 Axes>)"
      ]
     },
     "metadata": {},
     "output_type": "display_data"
    }
   ],
   "source": [
    "fig, ax = subplots(1, 3, figsize=(5, 2), sharey=\"all\")\n",
    "for alpha in 1:n_targets\n",
    "    ax[alpha].set_title(\"z: \"*string(Z[alpha]))\n",
    "    ax[alpha].scatter(u[alpha, 1, :], u[alpha, 2, :], alpha=0.5, s=5)\n",
    "    ax[alpha].scatter(mean(u[alpha, 1, :]), mean(u[alpha, 2, :]), color=\"tab:red\")\n",
    "    ax[alpha].set_xlim(-10,10)\n",
    "    ax[alpha].set_ylim(-10,10)\n",
    "end\n",
    "fig.supxlabel(\"Neuron #1\")\n",
    "fig.supylabel(\"Neuron #2\")\n",
    "tight_layout()"
   ]
  }
 ],
 "metadata": {
  "jupytext": {
   "cell_metadata_filter": "-all",
   "encoding": "# -*- coding: utf-8 -*-",
   "main_language": "python",
   "notebook_metadata_filter": "-all",
   "text_representation": {
    "extension": ".py",
    "format_name": "light"
   }
  },
  "kernelspec": {
   "display_name": "Julia 1.7.2",
   "language": "julia",
   "name": "julia-1.7"
  },
  "language_info": {
   "file_extension": ".jl",
   "mimetype": "application/julia",
   "name": "julia",
   "version": "1.7.2"
  }
 },
 "nbformat": 4,
 "nbformat_minor": 5
}
