{
 "cells": [
  {
   "cell_type": "markdown",
   "id": "666e8f2b",
   "metadata": {},
   "source": [
    "# Gaussian scale mixture"
   ]
  },
  {
   "cell_type": "code",
   "execution_count": null,
   "id": "68b64333",
   "metadata": {},
   "outputs": [],
   "source": []
  },
  {
   "cell_type": "code",
   "execution_count": null,
   "id": "9b163349",
   "metadata": {},
   "outputs": [],
   "source": []
  }
 ],
 "metadata": {
  "kernelspec": {
   "display_name": "Julia 1.7.2",
   "language": "julia",
   "name": "julia-1.7"
  },
  "language_info": {
   "file_extension": ".jl",
   "mimetype": "application/julia",
   "name": "julia",
   "version": "1.7.2"
  }
 },
 "nbformat": 4,
 "nbformat_minor": 5
}
