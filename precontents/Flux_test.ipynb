{
 "cells": [
  {
   "cell_type": "markdown",
   "metadata": {},
   "source": [
    "# Flux.jlでRNN\n",
    "\n",
    "https://www.juliabloggers.com/a-basic-rnn/\n",
    "\n",
    "https://github.com/FluxML/model-zoo"
   ]
  },
  {
   "cell_type": "markdown",
   "metadata": {},
   "source": [
    "## Generate Data"
   ]
  },
  {
   "cell_type": "code",
   "execution_count": 2,
   "metadata": {},
   "outputs": [],
   "source": [
    "using Random"
   ]
  },
  {
   "cell_type": "code",
   "execution_count": 1,
   "metadata": {},
   "outputs": [
    {
     "data": {
      "text/plain": [
       "generate_data (generic function with 1 method)"
      ]
     },
     "execution_count": 1,
     "metadata": {},
     "output_type": "execute_result"
    }
   ],
   "source": [
    "function generate_data(num_samples)\n",
    "    train_data = [rand(1.0:10.0, rand(2:7)) for i in 1:num_samples]\n",
    "    train_labels = (v -> sum(v)).(train_data)\n",
    "\n",
    "    test_data = 2 .* train_data\n",
    "    test_labels = 2 .* train_labels\n",
    "\n",
    "    train_data, train_labels, test_data, test_labels\n",
    "end"
   ]
  },
  {
   "cell_type": "markdown",
   "metadata": {},
   "source": [
    "##  Create The Model"
   ]
  },
  {
   "cell_type": "code",
   "execution_count": 3,
   "metadata": {},
   "outputs": [
    {
     "name": "stderr",
     "output_type": "stream",
     "text": [
      "┌ Info: Precompiling Flux [587475ba-b771-5e3f-ad9e-33799f191a9c]\n",
      "└ @ Base loading.jl:1278\n"
     ]
    },
    {
     "name": "stdout",
     "output_type": "stream",
     "text": [
      "\u001b[32m\u001b[1mDownloading\u001b[22m\u001b[39m artifact: CUDA102\n",
      "\u001b[?25l\u001b[1A\u001b[2K\u001b[?25h\u001b[32m\u001b[1mDownloading\u001b[22m\u001b[39m artifact: CUDNN_CUDA102\n",
      "\u001b[?25l\u001b[1A\u001b[2K\u001b[?25h\u001b[32m\u001b[1mDownloading\u001b[22m\u001b[39m artifact: CUTENSOR_CUDA102\n",
      "\u001b[?25l\u001b[1A\u001b[2K\u001b[?25h"
     ]
    }
   ],
   "source": [
    "using Flux"
   ]
  },
  {
   "cell_type": "code",
   "execution_count": 4,
   "metadata": {},
   "outputs": [
    {
     "data": {
      "text/plain": [
       "Recur(RNNCell(1, 1, #5))"
      ]
     },
     "execution_count": 4,
     "metadata": {},
     "output_type": "execute_result"
    }
   ],
   "source": [
    "simple_rnn = Flux.RNN(1, 1, (x -> x))"
   ]
  },
  {
   "cell_type": "code",
   "execution_count": 5,
   "metadata": {},
   "outputs": [
    {
     "data": {
      "text/plain": [
       "50"
      ]
     },
     "execution_count": 5,
     "metadata": {},
     "output_type": "execute_result"
    }
   ],
   "source": [
    "using Flux: @epochs\n",
    "\n",
    "num_samples = 1000\n",
    "num_epochs = 50"
   ]
  },
  {
   "cell_type": "code",
   "execution_count": 6,
   "metadata": {},
   "outputs": [
    {
     "data": {
      "text/plain": [
       "Recur(RNNCell(1, 1, #7))"
      ]
     },
     "execution_count": 6,
     "metadata": {},
     "output_type": "execute_result"
    }
   ],
   "source": [
    "# generate our test data with the data generation function from above\n",
    "train_data, train_labels, test_data, test_labels = generate_data(num_samples)\n",
    "simple_rnn = Flux.RNN(1, 1, (x -> x))"
   ]
  },
  {
   "cell_type": "code",
   "execution_count": 7,
   "metadata": {},
   "outputs": [
    {
     "data": {
      "text/plain": [
       "eval_model (generic function with 1 method)"
      ]
     },
     "execution_count": 7,
     "metadata": {},
     "output_type": "execute_result"
    }
   ],
   "source": [
    "function eval_model(x)\n",
    "    out = simple_rnn.(x)[end]\n",
    "    Flux.reset!(simple_rnn)\n",
    "    return out\n",
    "end"
   ]
  },
  {
   "cell_type": "code",
   "execution_count": 8,
   "metadata": {},
   "outputs": [
    {
     "name": "stdout",
     "output_type": "stream",
     "text": [
      "Training loss before = 60893.60434684237\n",
      "Test loss before = 122420.30913953678\n"
     ]
    }
   ],
   "source": [
    "loss(x, y) = abs(sum((eval_model(x) .- y)))\n",
    "\n",
    "ps = Flux.params(simple_rnn)\n",
    "\n",
    "# use the ADAM optimizer. It's a pretty good one!\n",
    "opt = Flux.ADAM()\n",
    "\n",
    "println(\"Training loss before = \", sum(loss.(train_data, train_labels)))\n",
    "println(\"Test loss before = \", sum(loss.(test_data, test_labels)))"
   ]
  },
  {
   "cell_type": "code",
   "execution_count": 9,
   "metadata": {},
   "outputs": [
    {
     "name": "stderr",
     "output_type": "stream",
     "text": [
      "┌ Info: Epoch 1\n",
      "└ @ Main C:\\Users\\yamta\\.julia\\packages\\Flux\\05b38\\src\\optimise\\train.jl:114\n"
     ]
    },
    {
     "name": "stdout",
     "output_type": "stream",
     "text": [
      "sum(loss.(test_data, test_labels)) = 122185.13194356892\n",
      "sum(loss.(test_data, test_labels)) = 50602.97853921002\n"
     ]
    },
    {
     "name": "stderr",
     "output_type": "stream",
     "text": [
      "┌ Info: Epoch 2\n",
      "└ @ Main C:\\Users\\yamta\\.julia\\packages\\Flux\\05b38\\src\\optimise\\train.jl:114\n"
     ]
    },
    {
     "name": "stdout",
     "output_type": "stream",
     "text": [
      "sum(loss.(test_data, test_labels)) = 9579.718361095947\n"
     ]
    },
    {
     "name": "stderr",
     "output_type": "stream",
     "text": [
      "┌ Info: Epoch 3\n",
      "└ @ Main C:\\Users\\yamta\\.julia\\packages\\Flux\\05b38\\src\\optimise\\train.jl:114\n"
     ]
    },
    {
     "name": "stdout",
     "output_type": "stream",
     "text": [
      "sum(loss.(test_data, test_labels)) = 8315.15643725877\n"
     ]
    },
    {
     "name": "stderr",
     "output_type": "stream",
     "text": [
      "┌ Info: Epoch 4\n",
      "└ @ Main C:\\Users\\yamta\\.julia\\packages\\Flux\\05b38\\src\\optimise\\train.jl:114\n"
     ]
    },
    {
     "name": "stdout",
     "output_type": "stream",
     "text": [
      "sum(loss.(test_data, test_labels)) = 7546.378205671473\n"
     ]
    },
    {
     "name": "stderr",
     "output_type": "stream",
     "text": [
      "┌ Info: Epoch 5\n",
      "└ @ Main C:\\Users\\yamta\\.julia\\packages\\Flux\\05b38\\src\\optimise\\train.jl:114\n"
     ]
    },
    {
     "name": "stdout",
     "output_type": "stream",
     "text": [
      "sum(loss.(test_data, test_labels)) = 6810.183951943045\n"
     ]
    },
    {
     "name": "stderr",
     "output_type": "stream",
     "text": [
      "┌ Info: Epoch 6\n",
      "└ @ Main C:\\Users\\yamta\\.julia\\packages\\Flux\\05b38\\src\\optimise\\train.jl:114\n"
     ]
    },
    {
     "name": "stdout",
     "output_type": "stream",
     "text": [
      "sum(loss.(test_data, test_labels)) = 5999.728843972561\n"
     ]
    },
    {
     "name": "stderr",
     "output_type": "stream",
     "text": [
      "┌ Info: Epoch 7\n",
      "└ @ Main C:\\Users\\yamta\\.julia\\packages\\Flux\\05b38\\src\\optimise\\train.jl:114\n"
     ]
    },
    {
     "name": "stdout",
     "output_type": "stream",
     "text": [
      "sum(loss.(test_data, test_labels)) = 5385.899285481914\n"
     ]
    },
    {
     "name": "stderr",
     "output_type": "stream",
     "text": [
      "┌ Info: Epoch 8\n",
      "└ @ Main C:\\Users\\yamta\\.julia\\packages\\Flux\\05b38\\src\\optimise\\train.jl:114\n"
     ]
    },
    {
     "name": "stdout",
     "output_type": "stream",
     "text": [
      "sum(loss.(test_data, test_labels)) = 4767.912806135723\n"
     ]
    },
    {
     "name": "stderr",
     "output_type": "stream",
     "text": [
      "┌ Info: Epoch 9\n",
      "└ @ Main C:\\Users\\yamta\\.julia\\packages\\Flux\\05b38\\src\\optimise\\train.jl:114\n"
     ]
    },
    {
     "name": "stdout",
     "output_type": "stream",
     "text": [
      "sum(loss.(test_data, test_labels)) = 3835.6939709043177\n"
     ]
    },
    {
     "name": "stderr",
     "output_type": "stream",
     "text": [
      "┌ Info: Epoch 10\n",
      "└ @ Main C:\\Users\\yamta\\.julia\\packages\\Flux\\05b38\\src\\optimise\\train.jl:114\n"
     ]
    },
    {
     "name": "stdout",
     "output_type": "stream",
     "text": [
      "sum(loss.(test_data, test_labels)) = 2964.399765264607\n"
     ]
    },
    {
     "name": "stderr",
     "output_type": "stream",
     "text": [
      "┌ Info: Epoch 11\n",
      "└ @ Main C:\\Users\\yamta\\.julia\\packages\\Flux\\05b38\\src\\optimise\\train.jl:114\n"
     ]
    },
    {
     "name": "stdout",
     "output_type": "stream",
     "text": [
      "sum(loss.(test_data, test_labels)) = 2175.9858431897237\n"
     ]
    },
    {
     "name": "stderr",
     "output_type": "stream",
     "text": [
      "┌ Info: Epoch 12\n",
      "└ @ Main C:\\Users\\yamta\\.julia\\packages\\Flux\\05b38\\src\\optimise\\train.jl:114\n",
      "┌ Info: Epoch 13\n",
      "└ @ Main C:\\Users\\yamta\\.julia\\packages\\Flux\\05b38\\src\\optimise\\train.jl:114\n"
     ]
    },
    {
     "name": "stdout",
     "output_type": "stream",
     "text": [
      "sum(loss.(test_data, test_labels)) = 1407.6860375724978\n",
      "sum(loss.(test_data, test_labels)) = 466.0686293698433\n"
     ]
    },
    {
     "name": "stderr",
     "output_type": "stream",
     "text": [
      "┌ Info: Epoch 14\n",
      "└ @ Main C:\\Users\\yamta\\.julia\\packages\\Flux\\05b38\\src\\optimise\\train.jl:114\n"
     ]
    },
    {
     "name": "stdout",
     "output_type": "stream",
     "text": [
      "sum(loss.(test_data, test_labels)) = 219.541676628021\n"
     ]
    },
    {
     "name": "stderr",
     "output_type": "stream",
     "text": [
      "┌ Info: Epoch 15\n",
      "└ @ Main C:\\Users\\yamta\\.julia\\packages\\Flux\\05b38\\src\\optimise\\train.jl:114\n"
     ]
    },
    {
     "name": "stdout",
     "output_type": "stream",
     "text": [
      "sum(loss.(test_data, test_labels)) = 60.676452242215916\n"
     ]
    },
    {
     "name": "stderr",
     "output_type": "stream",
     "text": [
      "┌ Info: Epoch 16\n",
      "└ @ Main C:\\Users\\yamta\\.julia\\packages\\Flux\\05b38\\src\\optimise\\train.jl:114\n",
      "┌ Info: Epoch 17\n",
      "└ @ Main C:\\Users\\yamta\\.julia\\packages\\Flux\\05b38\\src\\optimise\\train.jl:114\n"
     ]
    },
    {
     "name": "stdout",
     "output_type": "stream",
     "text": [
      "sum(loss.(test_data, test_labels)) = 50.21757394452742\n",
      "sum(loss.(test_data, test_labels)) = 39.93966921727469\n"
     ]
    },
    {
     "name": "stderr",
     "output_type": "stream",
     "text": [
      "┌ Info: Epoch 18\n",
      "└ @ Main C:\\Users\\yamta\\.julia\\packages\\Flux\\05b38\\src\\optimise\\train.jl:114\n"
     ]
    },
    {
     "name": "stdout",
     "output_type": "stream",
     "text": [
      "sum(loss.(test_data, test_labels)) = 117.75765106902307\n"
     ]
    },
    {
     "name": "stderr",
     "output_type": "stream",
     "text": [
      "┌ Info: Epoch 19\n",
      "└ @ Main C:\\Users\\yamta\\.julia\\packages\\Flux\\05b38\\src\\optimise\\train.jl:114\n"
     ]
    },
    {
     "name": "stdout",
     "output_type": "stream",
     "text": [
      "sum(loss.(test_data, test_labels)) = 20.63285573435144\n"
     ]
    },
    {
     "name": "stderr",
     "output_type": "stream",
     "text": [
      "┌ Info: Epoch 20\n",
      "└ @ Main C:\\Users\\yamta\\.julia\\packages\\Flux\\05b38\\src\\optimise\\train.jl:114\n"
     ]
    },
    {
     "name": "stdout",
     "output_type": "stream",
     "text": [
      "sum(loss.(test_data, test_labels)) = 111.60663515657038\n"
     ]
    },
    {
     "name": "stderr",
     "output_type": "stream",
     "text": [
      "┌ Info: Epoch 21\n",
      "└ @ Main C:\\Users\\yamta\\.julia\\packages\\Flux\\05b38\\src\\optimise\\train.jl:114\n",
      "┌ Info: Epoch 22\n",
      "└ @ Main C:\\Users\\yamta\\.julia\\packages\\Flux\\05b38\\src\\optimise\\train.jl:114\n"
     ]
    },
    {
     "name": "stdout",
     "output_type": "stream",
     "text": [
      "sum(loss.(test_data, test_labels)) = 9.88091768983044\n",
      "sum(loss.(test_data, test_labels)) = 19.489352641001314\n"
     ]
    },
    {
     "name": "stderr",
     "output_type": "stream",
     "text": [
      "┌ Info: Epoch 23\n",
      "└ @ Main C:\\Users\\yamta\\.julia\\packages\\Flux\\05b38\\src\\optimise\\train.jl:114\n"
     ]
    },
    {
     "name": "stdout",
     "output_type": "stream",
     "text": [
      "sum(loss.(test_data, test_labels)) = 14.570188744432366\n"
     ]
    },
    {
     "name": "stderr",
     "output_type": "stream",
     "text": [
      "┌ Info: Epoch 24\n",
      "└ @ Main C:\\Users\\yamta\\.julia\\packages\\Flux\\05b38\\src\\optimise\\train.jl:114\n"
     ]
    },
    {
     "name": "stdout",
     "output_type": "stream",
     "text": [
      "sum(loss.(test_data, test_labels)) = 25.41309618592338\n"
     ]
    },
    {
     "name": "stderr",
     "output_type": "stream",
     "text": [
      "┌ Info: Epoch 25\n",
      "└ @ Main C:\\Users\\yamta\\.julia\\packages\\Flux\\05b38\\src\\optimise\\train.jl:114\n"
     ]
    },
    {
     "name": "stdout",
     "output_type": "stream",
     "text": [
      "sum(loss.(test_data, test_labels)) = 4.430830750730983\n"
     ]
    },
    {
     "name": "stderr",
     "output_type": "stream",
     "text": [
      "┌ Info: Epoch 26\n",
      "└ @ Main C:\\Users\\yamta\\.julia\\packages\\Flux\\05b38\\src\\optimise\\train.jl:114\n"
     ]
    },
    {
     "name": "stdout",
     "output_type": "stream",
     "text": [
      "sum(loss.(test_data, test_labels)) = 85.97691950395873\n"
     ]
    },
    {
     "name": "stderr",
     "output_type": "stream",
     "text": [
      "┌ Info: Epoch 27\n",
      "└ @ Main C:\\Users\\yamta\\.julia\\packages\\Flux\\05b38\\src\\optimise\\train.jl:114\n"
     ]
    },
    {
     "name": "stdout",
     "output_type": "stream",
     "text": [
      "sum(loss.(test_data, test_labels)) = 56.30208064651693\n"
     ]
    },
    {
     "name": "stderr",
     "output_type": "stream",
     "text": [
      "┌ Info: Epoch 28\n",
      "└ @ Main C:\\Users\\yamta\\.julia\\packages\\Flux\\05b38\\src\\optimise\\train.jl:114\n",
      "┌ Info: Epoch 29\n",
      "└ @ Main C:\\Users\\yamta\\.julia\\packages\\Flux\\05b38\\src\\optimise\\train.jl:114\n"
     ]
    },
    {
     "name": "stdout",
     "output_type": "stream",
     "text": [
      "sum(loss.(test_data, test_labels)) = 127.70030155786422\n",
      "sum(loss.(test_data, test_labels)) = 4.648479264658563\n"
     ]
    },
    {
     "name": "stderr",
     "output_type": "stream",
     "text": [
      "┌ Info: Epoch 30\n",
      "└ @ Main C:\\Users\\yamta\\.julia\\packages\\Flux\\05b38\\src\\optimise\\train.jl:114\n"
     ]
    },
    {
     "name": "stdout",
     "output_type": "stream",
     "text": [
      "sum(loss.(test_data, test_labels)) = 23.31395590225572\n"
     ]
    },
    {
     "name": "stderr",
     "output_type": "stream",
     "text": [
      "┌ Info: Epoch 31\n",
      "└ @ Main C:\\Users\\yamta\\.julia\\packages\\Flux\\05b38\\src\\optimise\\train.jl:114\n"
     ]
    },
    {
     "name": "stdout",
     "output_type": "stream",
     "text": [
      "sum(loss.(test_data, test_labels)) = 22.308025472001773\n"
     ]
    },
    {
     "name": "stderr",
     "output_type": "stream",
     "text": [
      "┌ Info: Epoch 32\n",
      "└ @ Main C:\\Users\\yamta\\.julia\\packages\\Flux\\05b38\\src\\optimise\\train.jl:114\n"
     ]
    },
    {
     "name": "stdout",
     "output_type": "stream",
     "text": [
      "sum(loss.(test_data, test_labels)) = 56.94773638588923\n"
     ]
    },
    {
     "name": "stderr",
     "output_type": "stream",
     "text": [
      "┌ Info: Epoch 33\n",
      "└ @ Main C:\\Users\\yamta\\.julia\\packages\\Flux\\05b38\\src\\optimise\\train.jl:114\n"
     ]
    },
    {
     "name": "stdout",
     "output_type": "stream",
     "text": [
      "sum(loss.(test_data, test_labels)) = 75.94996208865192\n"
     ]
    },
    {
     "name": "stderr",
     "output_type": "stream",
     "text": [
      "┌ Info: Epoch 34\n",
      "└ @ Main C:\\Users\\yamta\\.julia\\packages\\Flux\\05b38\\src\\optimise\\train.jl:114\n"
     ]
    },
    {
     "name": "stdout",
     "output_type": "stream",
     "text": [
      "sum(loss.(test_data, test_labels)) = 156.20153746593473\n"
     ]
    },
    {
     "name": "stderr",
     "output_type": "stream",
     "text": [
      "┌ Info: Epoch 35\n",
      "└ @ Main C:\\Users\\yamta\\.julia\\packages\\Flux\\05b38\\src\\optimise\\train.jl:114\n"
     ]
    },
    {
     "name": "stdout",
     "output_type": "stream",
     "text": [
      "sum(loss.(test_data, test_labels)) = 104.40696220938855\n"
     ]
    },
    {
     "name": "stderr",
     "output_type": "stream",
     "text": [
      "┌ Info: Epoch 36\n",
      "└ @ Main C:\\Users\\yamta\\.julia\\packages\\Flux\\05b38\\src\\optimise\\train.jl:114\n"
     ]
    },
    {
     "name": "stdout",
     "output_type": "stream",
     "text": [
      "sum(loss.(test_data, test_labels)) = 16.810683590949697\n"
     ]
    },
    {
     "name": "stderr",
     "output_type": "stream",
     "text": [
      "┌ Info: Epoch 37\n",
      "└ @ Main C:\\Users\\yamta\\.julia\\packages\\Flux\\05b38\\src\\optimise\\train.jl:114\n"
     ]
    },
    {
     "name": "stdout",
     "output_type": "stream",
     "text": [
      "sum(loss.(test_data, test_labels)) = 71.06113466220454\n"
     ]
    },
    {
     "name": "stderr",
     "output_type": "stream",
     "text": [
      "┌ Info: Epoch 38\n",
      "└ @ Main C:\\Users\\yamta\\.julia\\packages\\Flux\\05b38\\src\\optimise\\train.jl:114\n"
     ]
    },
    {
     "name": "stdout",
     "output_type": "stream",
     "text": [
      "sum(loss.(test_data, test_labels)) = 83.23519764665002\n"
     ]
    },
    {
     "name": "stderr",
     "output_type": "stream",
     "text": [
      "┌ Info: Epoch 39\n",
      "└ @ Main C:\\Users\\yamta\\.julia\\packages\\Flux\\05b38\\src\\optimise\\train.jl:114\n"
     ]
    },
    {
     "name": "stdout",
     "output_type": "stream",
     "text": [
      "sum(loss.(test_data, test_labels)) = 150.88547368324691\n"
     ]
    },
    {
     "name": "stderr",
     "output_type": "stream",
     "text": [
      "┌ Info: Epoch 40\n",
      "└ @ Main C:\\Users\\yamta\\.julia\\packages\\Flux\\05b38\\src\\optimise\\train.jl:114\n"
     ]
    },
    {
     "name": "stdout",
     "output_type": "stream",
     "text": [
      "sum(loss.(test_data, test_labels)) = 101.99075242264308\n"
     ]
    },
    {
     "name": "stderr",
     "output_type": "stream",
     "text": [
      "┌ Info: Epoch 41\n",
      "└ @ Main C:\\Users\\yamta\\.julia\\packages\\Flux\\05b38\\src\\optimise\\train.jl:114\n"
     ]
    },
    {
     "name": "stdout",
     "output_type": "stream",
     "text": [
      "sum(loss.(test_data, test_labels)) = 90.01889395357225\n"
     ]
    },
    {
     "name": "stderr",
     "output_type": "stream",
     "text": [
      "┌ Info: Epoch 42\n",
      "└ @ Main C:\\Users\\yamta\\.julia\\packages\\Flux\\05b38\\src\\optimise\\train.jl:114\n"
     ]
    },
    {
     "name": "stdout",
     "output_type": "stream",
     "text": [
      "sum(loss.(test_data, test_labels)) = 13.842676666718035\n"
     ]
    },
    {
     "name": "stderr",
     "output_type": "stream",
     "text": [
      "┌ Info: Epoch 43\n",
      "└ @ Main C:\\Users\\yamta\\.julia\\packages\\Flux\\05b38\\src\\optimise\\train.jl:114\n"
     ]
    },
    {
     "name": "stdout",
     "output_type": "stream",
     "text": [
      "sum(loss.(test_data, test_labels)) = 6.558015501136127\n"
     ]
    },
    {
     "name": "stderr",
     "output_type": "stream",
     "text": [
      "┌ Info: Epoch 44\n",
      "└ @ Main C:\\Users\\yamta\\.julia\\packages\\Flux\\05b38\\src\\optimise\\train.jl:114\n"
     ]
    },
    {
     "name": "stdout",
     "output_type": "stream",
     "text": [
      "sum(loss.(test_data, test_labels)) = 47.35076637602955\n"
     ]
    },
    {
     "name": "stderr",
     "output_type": "stream",
     "text": [
      "┌ Info: Epoch 45\n",
      "└ @ Main C:\\Users\\yamta\\.julia\\packages\\Flux\\05b38\\src\\optimise\\train.jl:114\n",
      "┌ Info: Epoch 46\n",
      "└ @ Main C:\\Users\\yamta\\.julia\\packages\\Flux\\05b38\\src\\optimise\\train.jl:114\n"
     ]
    },
    {
     "name": "stdout",
     "output_type": "stream",
     "text": [
      "sum(loss.(test_data, test_labels)) = 101.93264343165279\n",
      "sum(loss.(test_data, test_labels)) = 22.764304933979723\n"
     ]
    },
    {
     "name": "stderr",
     "output_type": "stream",
     "text": [
      "┌ Info: Epoch 47\n",
      "└ @ Main C:\\Users\\yamta\\.julia\\packages\\Flux\\05b38\\src\\optimise\\train.jl:114\n"
     ]
    },
    {
     "name": "stdout",
     "output_type": "stream",
     "text": [
      "sum(loss.(test_data, test_labels)) = 134.96251790609983\n"
     ]
    },
    {
     "name": "stderr",
     "output_type": "stream",
     "text": [
      "┌ Info: Epoch 48\n",
      "└ @ Main C:\\Users\\yamta\\.julia\\packages\\Flux\\05b38\\src\\optimise\\train.jl:114\n"
     ]
    },
    {
     "name": "stdout",
     "output_type": "stream",
     "text": [
      "sum(loss.(test_data, test_labels)) = 7.988061752712836\n"
     ]
    },
    {
     "name": "stderr",
     "output_type": "stream",
     "text": [
      "┌ Info: Epoch 49\n",
      "└ @ Main C:\\Users\\yamta\\.julia\\packages\\Flux\\05b38\\src\\optimise\\train.jl:114\n"
     ]
    },
    {
     "name": "stdout",
     "output_type": "stream",
     "text": [
      "sum(loss.(test_data, test_labels)) = 37.64791955158063\n"
     ]
    },
    {
     "name": "stderr",
     "output_type": "stream",
     "text": [
      "┌ Info: Epoch 50\n",
      "└ @ Main C:\\Users\\yamta\\.julia\\packages\\Flux\\05b38\\src\\optimise\\train.jl:114\n"
     ]
    }
   ],
   "source": [
    "# callback function during training\n",
    "evalcb() = @show(sum(loss.(test_data, test_labels)))\n",
    "\n",
    "@epochs num_epochs Flux.train!(loss, ps, zip(train_data, train_labels), opt, cb = Flux.throttle(evalcb, 1))"
   ]
  },
  {
   "cell_type": "code",
   "execution_count": 10,
   "metadata": {},
   "outputs": [
    {
     "name": "stdout",
     "output_type": "stream",
     "text": [
      "Test loss after = 30.506389102767205\n"
     ]
    }
   ],
   "source": [
    "# after training, evaluate the loss\n",
    "println(\"Test loss after = \", sum(loss.(test_data, test_labels)))"
   ]
  }
 ],
 "metadata": {
  "kernelspec": {
   "display_name": "Julia 1.5.0",
   "language": "julia",
   "name": "julia-1.5"
  },
  "language_info": {
   "file_extension": ".jl",
   "mimetype": "application/julia",
   "name": "julia",
   "version": "1.5.0"
  }
 },
 "nbformat": 4,
 "nbformat_minor": 4
}
