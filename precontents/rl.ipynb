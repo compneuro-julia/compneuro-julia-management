{
 "cells": [
  {
   "cell_type": "code",
   "execution_count": 6,
   "id": "c93070ef-dff9-48fb-8973-929bdfe29713",
   "metadata": {},
   "outputs": [],
   "source": [
    "using Random, LinearAlgebra"
   ]
  },
  {
   "cell_type": "code",
   "execution_count": 43,
   "id": "59f21c7a-a6da-4aa9-a351-06abc379d250",
   "metadata": {},
   "outputs": [
    {
     "data": {
      "text/plain": [
       "0.9"
      ]
     },
     "execution_count": 43,
     "metadata": {},
     "output_type": "execute_result"
    }
   ],
   "source": [
    "# 迷路の定義 (0: 空きマス, 1: 壁, 2: スタート, 3: ゴール)\n",
    "maze = [\n",
    "    2  0  0  0  0;\n",
    "    1  1  1  1  0;\n",
    "    0  0  0  1  0;\n",
    "    0  1  0  0  0;\n",
    "    3  1  1  1  0\n",
    "]\n",
    "\n",
    "# 可能な移動方向\n",
    "actions = [(0, 1), (1, 0), (0, -1), (-1, 0)]  # 右, 下, 左, 上\n",
    "\n",
    "epsilon = 0.1   # ε-greedy 方策の確率\n",
    "alpha = 0.5     # 学習率\n",
    "gamma = 0.9     # 割引率"
   ]
  },
  {
   "cell_type": "code",
   "execution_count": 44,
   "id": "61952e7d-cf08-4ce9-8a5b-66c1c6ca54ab",
   "metadata": {},
   "outputs": [
    {
     "data": {
      "text/plain": [
       "choose_action (generic function with 1 method)"
      ]
     },
     "execution_count": 44,
     "metadata": {},
     "output_type": "execute_result"
    }
   ],
   "source": [
    "global q_table = Dict()\n",
    "\n",
    "# 状態をキーとしてQ値を取得\n",
    "function get_q_value(state, action)\n",
    "    return get(q_table, (state, action), 0.0)\n",
    "end\n",
    "\n",
    "# Q学習の更新式\n",
    "function update_q_value(state, action, reward, next_state)\n",
    "    max_q_next = maximum([get_q_value(next_state, a) for a in actions])\n",
    "    q_table[(state, action)] = get_q_value(state, action) + alpha * (reward + gamma * max_q_next - get_q_value(state, action))\n",
    "end\n",
    "\n",
    "# エージェントの移動\n",
    "function move(state, action)\n",
    "    new_state = (state[1] + action[1], state[2] + action[2])\n",
    "    if 1 <= new_state[1] <= size(maze, 1) && 1 <= new_state[2] <= size(maze, 2) && maze[new_state...] != 1\n",
    "        return new_state\n",
    "    end\n",
    "    return state  # 壁にぶつかったらそのまま\n",
    "end\n",
    "\n",
    "# ε-greedy 方策で行動選択\n",
    "function choose_action(state)\n",
    "    if rand() < epsilon\n",
    "        return rand(actions)  # ランダム行動\n",
    "    else\n",
    "        return argmax(a -> get_q_value(state, a), actions)  # 最大Q値の行動\n",
    "    end\n",
    "end"
   ]
  },
  {
   "cell_type": "code",
   "execution_count": 45,
   "id": "cf3dce36-6bd0-4da5-ab94-bb7f315708e1",
   "metadata": {},
   "outputs": [
    {
     "data": {
      "text/plain": [
       "train (generic function with 2 methods)"
      ]
     },
     "execution_count": 45,
     "metadata": {},
     "output_type": "execute_result"
    }
   ],
   "source": [
    "# 学習実行\n",
    "function train(num_episodes=500)\n",
    "    for _ in 1:num_episodes\n",
    "        state = findfirst(x -> x == 2, maze)  # スタート位置\n",
    "        while maze[state[1], state[2]] != 3\n",
    "            action = choose_action(state)\n",
    "            next_state = move(state, action)\n",
    "            reward = maze[next_state[1], next_state[2]] == 3 ? 1.0 : -0.01\n",
    "            update_q_value(state, action, reward, next_state)\n",
    "            state = next_state\n",
    "        end\n",
    "    end\n",
    "end"
   ]
  },
  {
   "cell_type": "code",
   "execution_count": 47,
   "id": "e9ee7645-fab2-4f9c-a369-d33c1125f0f0",
   "metadata": {},
   "outputs": [],
   "source": [
    "train()"
   ]
  },
  {
   "cell_type": "code",
   "execution_count": 48,
   "id": "f5201370-334c-4561-a2aa-075674286134",
   "metadata": {},
   "outputs": [
    {
     "data": {
      "text/plain": [
       "print_solution (generic function with 1 method)"
      ]
     },
     "execution_count": 48,
     "metadata": {},
     "output_type": "execute_result"
    }
   ],
   "source": [
    "# 迷路の解答パスを表示\n",
    "function print_solution()\n",
    "    state = findfirst(x -> x == 2, maze)\n",
    "    solution = fill(\" \", size(maze))\n",
    "    solution[state[1], state[2]] = \"S\"\n",
    "    while maze[state[1], state[2]] != 3\n",
    "        action = argmax(a -> get_q_value(state, a), actions)\n",
    "        state = move(state, action)\n",
    "        solution[state[1], state[2]] = maze[state[1], state[2]] == 3 ? \"G\" : \".\"\n",
    "    end\n",
    "    println(join([join(row, \" \") for row in eachrow(solution)], \"\\n\"))\n",
    "end"
   ]
  },
  {
   "cell_type": "code",
   "execution_count": 49,
   "id": "f1148631-3fd9-42bb-9a55-ba39c9ffc195",
   "metadata": {},
   "outputs": [
    {
     "name": "stdout",
     "output_type": "stream",
     "text": [
      "S . . . .\n",
      "        .\n",
      ". . .   .\n",
      ".   . . .\n",
      "G        \n"
     ]
    }
   ],
   "source": [
    "print_solution()"
   ]
  }
 ],
 "metadata": {
  "kernelspec": {
   "display_name": "Julia 1.10.4",
   "language": "julia",
   "name": "julia-1.10"
  },
  "language_info": {
   "file_extension": ".jl",
   "mimetype": "application/julia",
   "name": "julia",
   "version": "1.10.4"
  }
 },
 "nbformat": 4,
 "nbformat_minor": 5
}
