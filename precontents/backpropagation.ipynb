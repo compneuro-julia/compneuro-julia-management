{
 "cells": [
  {
   "cell_type": "markdown",
   "metadata": {},
   "source": [
    "# 勾配法と誤差逆伝播法"
   ]
  },
  {
   "cell_type": "markdown",
   "metadata": {},
   "source": [
    "### Setup"
   ]
  },
  {
   "cell_type": "code",
   "execution_count": 1,
   "metadata": {},
   "outputs": [],
   "source": [
    "using Base: @kwdef\n",
    "using Parameters: @unpack # or using UnPack\n",
    "using LinearAlgebra, Random, Statistics, PyPlot, ProgressMeter"
   ]
  },
  {
   "cell_type": "markdown",
   "metadata": {},
   "source": [
    "### NN modelの実装：Zipser-Andersenモデルを例にして\n",
    "> A back-propagation programmed network that simulates response properties of a subset of posterior parietal neurons\n",
    "\n",
    "https://www.nature.com/articles/331679a0"
   ]
  },
  {
   "cell_type": "markdown",
   "metadata": {},
   "source": [
    "Xavier Weight Initializationを用いて初期化(？)\n",
    "\n",
    "> Understanding the difficulty of training deep feedforward neural networks\n",
    "\n",
    "Understanding the difficulty of training deep feedforward neural networks - Glorot, X. & Bengio, Y. (2010)\n",
    "(Glorot & Bengio, 2010)でxavier_uniformとxavier_normal"
   ]
  },
  {
   "cell_type": "code",
   "execution_count": 2,
   "metadata": {},
   "outputs": [],
   "source": [
    "@kwdef mutable struct NN{FT}\n",
    "    n_batch::UInt32 # batch size\n",
    "    n_in::UInt32 # number of input units\n",
    "    n_hid::UInt32 # number of hidden units\n",
    "    n_out::UInt32 # number of output units\n",
    "    \n",
    "    params::Dict{Any, Any} # weights and bias\n",
    "    grads::Dict{Any, Any} = Dict() # gradient of params\n",
    "end;\n",
    "\n",
    "function NN(n_batch, n_in, n_hid, n_out)\n",
    "    params = Dict()\n",
    "    params[\"W1\"] = 2(rand(n_in, n_hid) .- 0.5) * sqrt(6 / (n_in + n_hid))\n",
    "    params[\"W2\"] = 2(rand(n_hid, n_out) .- 0.5) * sqrt(6 / (n_hid + n_out))\n",
    "    #params[\"W1\"] = 2(rand(n_in, n_hid) .- 0.5) / sqrt(n_in)\n",
    "    #params[\"W2\"] = 2(rand(n_hid, n_out) .- 0.5) / sqrt(n_hid)\n",
    "    params[\"b1\"] = zeros(1, n_hid)\n",
    "    params[\"b2\"] = zeros(1, n_out)\n",
    "    return NN{Float32}(n_batch=n_batch, n_in=n_in, n_hid=n_hid, n_out=n_out, params=params)\n",
    "end;"
   ]
  },
  {
   "cell_type": "markdown",
   "metadata": {},
   "source": [
    "### Optimizerの作成"
   ]
  },
  {
   "cell_type": "markdown",
   "metadata": {},
   "source": [
    "abstract typeとして`Optimizer`タイプを作成する．"
   ]
  },
  {
   "cell_type": "code",
   "execution_count": 3,
   "metadata": {},
   "outputs": [],
   "source": [
    "abstract type Optimizer\n",
    "end"
   ]
  },
  {
   "cell_type": "markdown",
   "metadata": {},
   "source": [
    "SGD optimizerの実装"
   ]
  },
  {
   "cell_type": "code",
   "execution_count": 4,
   "metadata": {},
   "outputs": [
    {
     "data": {
      "text/plain": [
       "optimizer_update! (generic function with 1 method)"
      ]
     },
     "execution_count": 4,
     "metadata": {},
     "output_type": "execute_result"
    }
   ],
   "source": [
    "# SGD optimizer\n",
    "@kwdef struct SGD{FT} <: Optimizer\n",
    "    η::FT = 1e-2\n",
    "end\n",
    "\n",
    "function optimizer_update!(param, grad, optimizer::SGD)\n",
    "    @unpack η = optimizer\n",
    "    param[:, :] -= η * grad\n",
    "end"
   ]
  },
  {
   "cell_type": "markdown",
   "metadata": {},
   "source": [
    "Adam optimizerの実装"
   ]
  },
  {
   "cell_type": "code",
   "execution_count": 5,
   "metadata": {},
   "outputs": [
    {
     "data": {
      "text/plain": [
       "optimizer_update! (generic function with 2 methods)"
      ]
     },
     "execution_count": 5,
     "metadata": {},
     "output_type": "execute_result"
    }
   ],
   "source": [
    "# Adam optimizer\n",
    "@kwdef mutable struct Adam{FT} <: Optimizer\n",
    "    α::FT  = 1e-4\n",
    "    β1::FT = 0.9\n",
    "    β2::FT = 0.999\n",
    "    ϵ::FT = 1e-8\n",
    "    ms = Dict()\n",
    "    vs = Dict()\n",
    "end\n",
    "\n",
    "# Adam optimizer\n",
    "function optimizer_update!(param, grad, optimizer::Adam)\n",
    "    @unpack α, β1, β2, ϵ, ms, vs = optimizer\n",
    "    key = objectid(param)\n",
    "    if !haskey(ms, key) \n",
    "        ms[key] = zeros(size(param))\n",
    "        vs[key] = zeros(size(param))\n",
    "    end\n",
    "    \n",
    "    m, v = ms[key], vs[key]\n",
    "\n",
    "    m += (1 - β1) * (grad - m)\n",
    "    v += (1 - β2) * (grad .* grad - v)\n",
    "    param[:, :] -= α * m ./ (sqrt.(v) .+ ϵ)\n",
    "end"
   ]
  },
  {
   "cell_type": "markdown",
   "metadata": {},
   "source": [
    "### 順伝播・逆伝播の実装\n",
    "活性化関数の実装．本節ではsigmoidのみ扱う．"
   ]
  },
  {
   "cell_type": "code",
   "execution_count": 6,
   "metadata": {},
   "outputs": [],
   "source": [
    "sigmoid(x) = 1 / (1 + exp(-x));\n",
    "relu(x) = x .* (x .> 0);"
   ]
  },
  {
   "cell_type": "markdown",
   "metadata": {},
   "source": [
    "順伝播(feedforward propagation)\n",
    "$$\n",
    "\\begin{align}\n",
    "\\text{入力層 : }&\\mathbf{z}^{(0)}=\\mathbf{x}\\\\\n",
    "\\text{隠れ層 : }&\\mathbf{z}^{(\\ell)}=f\\left(\\mathbf{a}^{(\\ell)}\\right)\\\\\n",
    "&\\mathbf{a}^{(\\ell+1)}=W^{(\\ell+1)}\\mathbf{z}^{(\\ell)}+\\mathbf{b}^{(\\ell+1)}\\\\\n",
    "\\text{出力層 : }&\\hat{\\mathbf{y}}=\\mathbf{z}^{(L)}\n",
    "\\end{align}\n",
    "$$\n",
    "\n",
    "逆伝播(backward propagation)\n",
    "$$\n",
    "\\begin{align}\n",
    "\\text{目的関数 : }&\\mathcal{L}=\\frac{1}{2}\\left\\|\\hat{\\mathbf{y}}-\\mathbf{y}\\right\\|^{2}\\\\\n",
    "\\text{最急降下法 : }&\\Delta W^{(\\ell)}=-\\eta \\frac{\\partial \\mathcal{L}}{\\partial W^{(\\ell)}}\\\\\n",
    "&\\Delta \\mathbf{b}^{(\\ell)}=-\\eta \\frac{\\partial \\mathcal{L}}{\\partial \\mathbf{b}^{(\\ell)}}\\\\\n",
    "\\text{誤差逆伝播法 : }&\\frac{\\partial \\mathcal{L}}{\\partial \\hat{\\mathbf{y}}}=\\frac{\\partial \\mathcal{L}}{\\partial \\mathbf{z}^{(L)}}=\\hat{\\mathbf{y}}-\\mathbf{y}\\\\\n",
    "&\\delta^{(L)}=\\frac{\\partial \\mathcal{L}}{\\partial \\mathbf{z}^{(L)}} \\frac{\\partial \\mathbf{z}^{(L)}}{\\partial \\mathbf{a}^{(L)}}=\\left(\\hat{\\mathbf{y}}-\\mathbf{y}\\right) \\odot f^{\\prime}\\left(\\mathbf{a}^{(L)}\\right)\\\\\n",
    "&\\mathbf{\\delta}^{(\\ell)}=\\frac{\\partial \\mathcal{L}}{\\partial \\mathbf{z}^{(\\ell)}} \\frac{\\partial \\mathbf{z}^{(\\ell)}}{\\partial \\mathbf{a}^{(\\ell)}}=\\left(W^{(\\ell+1)}\\right)^\\top \\delta^{(\\ell+1)} \\odot f^{\\prime}\\left(\\mathbf{a}^{(\\ell)}\\right)\\\\\n",
    "&\\frac{\\partial \\mathcal{L}}{\\partial W^{(\\ell)}}=\\frac{\\partial \\mathcal{L}}{\\partial \\mathbf{z}^{(\\ell)}} \\frac{\\partial \\mathbf{z}^{(\\ell)}}{\\partial \\mathbf{a}^{(\\ell)}} \\frac{\\partial \\mathbf{a}^{(\\ell)}}{\\partial W^{(\\ell)}}=\\delta^{(\\ell)}\\left(\\mathbf{z}^{(\\ell-1)}\\right)^\\top\\\\\n",
    "&\\frac{\\partial \\mathcal{L}}{\\partial \\mathbf{b}^{(\\ell)}}=\\frac{\\partial \\mathcal{L}}{\\partial \\mathbf{z}^{(\\ell)}} \\frac{\\partial \\mathbf{z}^{(\\ell)}}{\\partial \\mathbf{a}^{(\\ell)}} \\frac{\\partial \\mathbf{a}^{(\\ell)}}{\\partial \\mathbf{b}^{(\\ell)}}=\\delta^{(\\ell)}\n",
    "\\end{align}\n",
    "$$\n",
    "\n",
    "バッチ処理を考慮すると，行列を乗ずる順番が変わる．"
   ]
  },
  {
   "cell_type": "markdown",
   "metadata": {},
   "source": [
    "$$\n",
    "\\frac{d}{dx} \\text{Sigmoid}(x) = \\text{Sigmoid}(x) \\cdot \\left(1 - \\text{Sigmoid}(x)\\right)\n",
    "$$"
   ]
  },
  {
   "cell_type": "code",
   "execution_count": 7,
   "metadata": {},
   "outputs": [
    {
     "data": {
      "text/plain": [
       "update! (generic function with 3 methods)"
      ]
     },
     "execution_count": 7,
     "metadata": {},
     "output_type": "execute_result"
    }
   ],
   "source": [
    "function update!(variable::NN, x::Array, y::Array, training::Bool, optimizer::Optimizer=SGD(), losstype::String=\"binary_crossentropy\")\n",
    "    @unpack n_batch, params, grads = variable \n",
    "    W1, W2, b1, b2 = params[\"W1\"], params[\"W2\"], params[\"b1\"], params[\"b2\"]\n",
    "    \n",
    "    # feedforward\n",
    "    h = sigmoid.(x * W1 .+ b1) # hidden\n",
    "    ŷ = sigmoid.(h * W2 .+ b2) # output\n",
    "    error = ŷ - y\n",
    "    \n",
    "    if training # backward \n",
    "        if losstype == \"binary_crossentropy\"\n",
    "            δ2 = error \n",
    "        elseif losstype == \"squared_error\"\n",
    "            δ2 = error .* ŷ .* (1.0 .- ŷ)\n",
    "        end\n",
    "        δ1 = δ2 * W2' .* h .* (1.0 .- h)\n",
    "\n",
    "        # get gradients\n",
    "        grads[\"W1\"] = x' * δ1\n",
    "        grads[\"W2\"] = h' * δ2\n",
    "        grads[\"b1\"] = sum(δ1, dims=1)\n",
    "        grads[\"b2\"] = sum(δ2, dims=1)\n",
    "\n",
    "        # update params\n",
    "        for key in keys(nn.params) \n",
    "            optimizer_update!(params[key], grads[key] / n_batch, optimizer)\n",
    "        end\n",
    "    end\n",
    "    return error, ŷ, h\n",
    "end"
   ]
  },
  {
   "cell_type": "markdown",
   "metadata": {},
   "source": [
    "### データセットの生成"
   ]
  },
  {
   "cell_type": "code",
   "execution_count": 8,
   "metadata": {},
   "outputs": [
    {
     "data": {
      "text/plain": [
       "Gaussian2d (generic function with 4 methods)"
      ]
     },
     "execution_count": 8,
     "metadata": {},
     "output_type": "execute_result"
    }
   ],
   "source": [
    "# Gaussian 2d\n",
    "function Gaussian2d(pos, sizex=8, sizey=8, σ=1)\n",
    "    x, y = 0:sizex-1, 0:sizey-1\n",
    "    X, Y = [i for i in x, j in 1:length(y)], [j for i in 1:length(x), j in y]\n",
    "    x0, y0 = pos\n",
    "    return exp.(-((X .- x0) .^2 + (Y .- y0) .^2) / 2σ^2)\n",
    "end"
   ]
  },
  {
   "cell_type": "markdown",
   "metadata": {},
   "source": [
    "入力は64+2=66ユニットとする．原論文ではmonotonic formatを採用した32ユニットであり，-40度から傾き正あるいは負．0度をピークとして減少あるいは上昇の4種類ある．1次関数で記述可能であるため，簡単のために省略した．\n",
    "\n",
    "Zipser-Andersenモデル。 a 3層構造のネットワークで、2組の入力ユニットは網膜性位置細胞（左下）と眼球運動細胞（右下）を表す。隠れユニットは、第3グループのPPC細胞の行動をモデル化したものである。出力層のユニット（2つのバージョン）は、頭頂部の位置をエンコードする細胞を表しています。b 領域7aの視覚ニューロンの受容野は、焦点付近に単一のピークを持つ。 c 領域7aの目の位置を表す30個のユニットを合成し、その発火率を眼球の水平・垂直方向のずれの関数としてプロットしたもの。\n",
    "\n",
    "> The influence of the angle of gaze upon the excitability of the light- sensitive neurons of the posterior parietal cortex\n",
    "\n",
    "スポットサイズを$w$とする．$1/e$の代わりに$1/2$とすれば半値全幅(FWHM)となる．$G(X+w/2)=G/e$より，$\\sigma=\\frac{\\sqrt{2}w}{4}$\n",
    "ガウシアンのピークから1/eに減弱するのが15度．10度間隔で8x8．左右：-40度から40度"
   ]
  },
  {
   "cell_type": "code",
   "execution_count": 9,
   "metadata": {},
   "outputs": [],
   "source": [
    "# dataset parameter\n",
    "θmax = 40.0 # degree, θ∈[-θmax, θmax]\n",
    "Δθ = 10.0 # degree\n",
    "stimuli_size = Int(2θmax / Δθ)\n",
    "w = 15.0 # degree; 1/e width\n",
    "σ = √2w/(4Δθ);\n",
    "\n",
    "# training parameter\n",
    "n_data = 10000\n",
    "n_traindata = Int(n_data*0.90)\n",
    "n_batch = 25 # batch size\n",
    "n_iter_per_epoch = Int(n_traindata/n_batch)\n",
    "n_epoch = 1000; # number of epoch\n",
    "\n",
    "# generate positions\n",
    "Random.seed!(0)\n",
    "retinal_pos = (rand(n_data, 2) .- 0.5) * 2θmax # ∈ [-40, 40]\n",
    "head_centered_pos = (rand(n_data, 2) .- 0.5) * 2θmax # ∈ [-40, 40]\n",
    "eye_pos = head_centered_pos - retinal_pos; # ∈ [-80, 80]\n",
    "\n",
    "# convert\n",
    "input_retina = [hcat(Gaussian2d((retinal_pos[i, :] .+ θmax)/Δθ, stimuli_size, stimuli_size, σ)...) for i in 1:n_data];\n",
    "input_retina = vcat(input_retina...)\n",
    "eye_pos /= 2θmax;\n",
    "\n",
    "# concat\n",
    "x_data = hcat(input_retina, eye_pos) #_encoded)\n",
    "y_data = vcat([hcat(Gaussian2d((head_centered_pos[i, :] .+ θmax)/Δθ, stimuli_size, stimuli_size, σ)...) for i in 1:n_data]...);\n",
    "\n",
    "# split\n",
    "x_traindata = x_data[1:n_traindata, :]\n",
    "y_traindata = y_data[1:n_traindata, :]\n",
    "x_testdata = x_data[n_traindata+1:end, :]\n",
    "y_testdata = y_data[n_traindata+1:end, :];"
   ]
  },
  {
   "cell_type": "markdown",
   "metadata": {},
   "source": [
    "モデルの定義"
   ]
  },
  {
   "cell_type": "code",
   "execution_count": 10,
   "metadata": {},
   "outputs": [],
   "source": [
    "# model parameter\n",
    "n_in = stimuli_size^2 + 2 # number of inputs\n",
    "n_hid = 16   # number of hidden units\n",
    "n_out = stimuli_size^2   # number of outputs\n",
    "η = 1e-2  # learning rate\n",
    "losstype = \"binary_crossentropy\" # \"squared_error\"\n",
    "\n",
    "nn = NN(n_batch, n_in, n_hid, n_out);\n",
    "optimizer = SGD(η=η); \n",
    "#optimizer = Adam();"
   ]
  },
  {
   "cell_type": "code",
   "execution_count": 11,
   "metadata": {},
   "outputs": [
    {
     "name": "stderr",
     "output_type": "stream",
     "text": [
      "\u001b[32mTraining...100%|████████████████████████████████████████| Time: 0:00:30\u001b[39m\n"
     ]
    }
   ],
   "source": [
    "error_arr = zeros(Float32, n_epoch); # memory array of each epoch error\n",
    "\n",
    "@showprogress \"Training...\" for e in 1:n_epoch\n",
    "    for iter in 1:n_iter_per_epoch\n",
    "        idx = (iter-1)*n_batch+1:iter*n_batch\n",
    "        error, _, _ = update!(nn, x_traindata[idx, :], y_traindata[idx, :], true, optimizer, losstype)\n",
    "        error_arr[e] += sum(error .^ 2)\n",
    "    end \n",
    "    error_arr[e] /= n_traindata\n",
    "end"
   ]
  },
  {
   "cell_type": "code",
   "execution_count": 12,
   "metadata": {},
   "outputs": [
    {
     "data": {
      "image/png": "[encoded data removed]",
      "text/plain": [
       "Figure(PyObject <Figure size 400x200 with 1 Axes>)"
      ]
     },
     "metadata": {},
     "output_type": "display_data"
    }
   ],
   "source": [
    "figure(figsize=(4,2))\n",
    "semilogy(error_arr)\n",
    "ylabel(\"Error\"); xlabel(\"Epoch\"); xlim(0, n_epoch)\n",
    "tight_layout()"
   ]
  },
  {
   "cell_type": "markdown",
   "metadata": {},
   "source": [
    "出力をテスト"
   ]
  },
  {
   "cell_type": "code",
   "execution_count": 13,
   "metadata": {},
   "outputs": [
    {
     "data": {
      "image/png": "[encoded data removed]",
      "text/plain": [
       "Figure(PyObject <Figure size 600x200 with 3 Axes>)"
      ]
     },
     "metadata": {},
     "output_type": "display_data"
    }
   ],
   "source": [
    "x, y = x_testdata[1:2, :], y_testdata[1:2, :]\n",
    "error, ŷ, h = update!(nn, x, y, false);\n",
    "\n",
    "id = 1\n",
    "figure(figsize=(6,2))\n",
    "ax1 = subplot(1,3,1)\n",
    "title(\"input\")\n",
    "ax1.imshow(reshape(x[id, 1:64], (stimuli_size, stimuli_size))', interpolation=\"gaussian\", extent=[-θmax, θmax, θmax, -θmax])\n",
    "ax1.add_patch(plt.Circle((x[id, 65:66])*2θmax, radius=2, color=\"tab:red\", fill=false))\n",
    "xlabel(\"x\"); ylabel(\"y\");\n",
    "\n",
    "ax2 = subplot(1,3,2)\n",
    "title(\"output\")\n",
    "ax2.imshow(reshape(ŷ[id, :], (stimuli_size, stimuli_size))', interpolation=\"gaussian\", extent=[-θmax, θmax, θmax, -θmax])\n",
    "ax2.add_patch(plt.Circle((x[id, 65:66])*2θmax, radius=2, color=\"tab:red\", fill=false))\n",
    "xlabel(\"x\");\n",
    "\n",
    "ax3 = subplot(1,3,3)\n",
    "title(\"target\")\n",
    "ax3.imshow(reshape(y[id, :], (stimuli_size, stimuli_size))', interpolation=\"gaussian\", extent=[-θmax, θmax, θmax, -θmax])\n",
    "ax3.add_patch(plt.Circle((x[id, 65:66])*2θmax, radius=2, color=\"tab:red\", fill=false))\n",
    "xlabel(\"x\");\n",
    "\n",
    "tight_layout()"
   ]
  },
  {
   "cell_type": "markdown",
   "metadata": {},
   "source": [
    "ゲインフィールドの描画．"
   ]
  },
  {
   "cell_type": "code",
   "execution_count": 14,
   "metadata": {},
   "outputs": [
    {
     "data": {
      "image/png": "[encoded data removed]",
      "text/plain": [
       "Figure(PyObject <Figure size 320x300 with 16 Axes>)"
      ]
     },
     "metadata": {},
     "output_type": "display_data"
    }
   ],
   "source": [
    "# Plot Gain fields\n",
    "figure(figsize=(3.2, 3))\n",
    "suptitle(\"Gain fields\", fontsize=12)\n",
    "subplots_adjust(hspace=0.1, wspace=0.1, top=0.925)\n",
    "for i in 1:n_hid\n",
    "    subplot(4, 4, i)\n",
    "    imshow(reshape(nn.params[\"W1\"][1:stimuli_size^2, i], (stimuli_size, stimuli_size)), cmap=\"hot\")\n",
    "    axis(\"off\")\n",
    "end"
   ]
  },
  {
   "cell_type": "markdown",
   "metadata": {},
   "source": [
    "### Monotonic formatによる位置のエンコーディング"
   ]
  },
  {
   "cell_type": "code",
   "execution_count": 15,
   "metadata": {},
   "outputs": [
    {
     "data": {
      "image/png": "[encoded data removed]",
      "text/plain": [
       "Figure(PyObject <Figure size 500x300 with 2 Axes>)"
      ]
     },
     "metadata": {},
     "output_type": "display_data"
    }
   ],
   "source": [
    "get_line(p1, p2) = [(p2[2]-p1[2])/(p2[1]-p1[1]), (p2[1]*p1[2] - p1[1]*p2[2])/(p2[1]-p1[1])] # [slope, intercept]\n",
    "eye_pos_coding(x; linear_param) = relu(linear_param[1, :] * x .+ linear_param[2, :])\n",
    "\n",
    "x = -2θmax:1:2θmax\n",
    "slope_param = hcat([get_line([80, 1], [-80, -2(i-1)/stimuli_size]) for i in 1:stimuli_size]...)\n",
    "y = hcat(eye_pos_coding.(x; linear_param=slope_param)...)\n",
    "eye_pos_encoded = eye_pos_coding(-10; linear_param=slope_param)\n",
    "\n",
    "figure(figsize=(5,3))\n",
    "subplot(2,1,1)\n",
    "plot(x, y')\n",
    "xlabel(\"Eye position\"); ylabel(\"Firing rate\")\n",
    "\n",
    "subplot(2,1,2)\n",
    "title(L\"Eye position $=-10^\\circ$\")\n",
    "imshow(eye_pos_encoded[:, :]')\n",
    "xlabel(\"Units\"); \n",
    "tight_layout()"
   ]
  },
  {
   "cell_type": "markdown",
   "metadata": {},
   "source": [
    "\n",
    "\n",
    "a, 領域7aのモデル化に用いたバックプロパゲーションネットワーク。視覚入力は、1eの幅が15度のガウス型受容野を持つ64個のユニットで構成されています。各受容野の中心は、10度間隔の8×8配列の位置を占めている。陰影はシングルスポット刺激に対する活動レベルを表しており、陰影が濃いほど活動率が高いことを示している。各ユニットは、説明のために局所的に配列されていますが、各隠れユニットは64個の網膜入力ユニットのすべてから入力を受けるので、このパターンはモデルの一側面ではありません。視線位置の入力は、水平方向の位置をコードする2セット（負の傾きに対応するものと正の傾きに対応するもの）と垂直方向の位置をコードする2セットの8ユニットからなる4セットで構成されています。濃淡は活動のレベルを表しています。境界線は説明のためだけに並べられており、隠れた層で利用可能な情報を表すものではない。各眼球位置セルは、隠れ層のすべてのユニットに投影される。右がガウス型、左がモノトニック型の2つの出力形式を使用した。ガウシアン形式のユニットは、ガウシアンシェーディングされた受容野を頭部中心の座標にプロットしたものです。1eの幅は15度で、頭部座標空間の8×8の配列を中心に、10度の間隔で配置されています。単調なフォーマットのユニットは、頭の中心座標における刺激の位置の線形関数である発火率を持っています。頭部を中心とした垂直方向の位置には2セット、水平方向の位置には2セット、それぞれ逆の傾きを持つ8個のユニットが4セット用意されています。ここでも濃淡は活動の度合いを表しており、地形的な順序は説明のためだけのものである。また、Wを含む小さなボックスは、逆伝播によって重みが学習されるシナプスの位置を示している。各隠れユニットは、出力層のすべてのセルに投影される。隠れたユニットと出力層のユニットの出力活動はロジスティック関数によって計算される： output= 1 ( 1 + e-\"\"'), ここで net= (入力の加重和) +bias. 接続の矢印は活動の伝播の方向を示しており，エラーは逆方向に伝播していく． バックプロパゲーション法は、多次元のシナプス重み空間において誤差の勾配降下を実施することにより、シナプス重みの変更が常にネットワークを低誤差に向かわせることを保証する。\n",
    "\n",
    "https://www.vis.caltech.edu/documents/9416/neural_networks.pdf\n",
    "https://www.frontiersin.org/articles/10.3389/fnint.2015.00072/full"
   ]
  },
  {
   "cell_type": "markdown",
   "metadata": {},
   "source": [
    "私たちは、3層構造のネットワーク（図4）を使用しました。このネットワークは、任意の眼球と網膜の位置のペアが与えられたときに、視覚ターゲットを頭部中心の座標にマッピングするように訓練されています。第1層（入力層）には、視覚刺激を表すユニットの配列と、眼球位置を表すユニットのセットの2つのセクションがあります。第2層は、入力を出力にマッピングする隠れユニットで構成されています。各隠れユニットは、すべての入力ユニットからの入力を受け、第3出力層のすべてのユニットに投影します。\n",
    "\n",
    "隠れ層と出力層の各ユニットの出力は、入力のシナプス強度加重和にバイアス項を加えたS字型（ロジスティック）関数として計算されます。 学習パラダイムは逆伝搬学習を用いており、入力と所望の出力を選択し、入力をネットワークの第1層に適用し、それが生み出す活動をネットワークを通して出力ユニットに伝搬させる。その後、実際の出力が希望の出力から差し引かれ、エラーが生成されます。この誤差を利用して，出力層ユニットと隠れ層ユニットのシナプスの重みを，逆伝播の手順で調整する。トレーニングは、すべてのウェイトをランダムにした状態で開始されるため、誤差が大きくなり、その誤差が望ましいレベルになるまでトレーニングサイクルを繰り返すことになる。\n",
    "\n",
    "ネットワークへの網膜の位置と眼球の位置の入力は，視覚刺激のみと眼球の位置のみに反応する後頭頂皮質の細胞の特性を用いてモデル化した．視覚入力は、1eの幅が15度、各ピークが10度離れた64個のガウス型の受容野が8×8の配列で構成されていた。視線位置の入力は、8個のユニットが4セットあり、水平方向と垂直方向の視線位置の正負の傾きをそれぞれ1セットずつ持ちます。 出力層では、頭部を中心とした座標で位置を表す2つの表現を用いた。1つ（図4aの出力2）は、網膜入力の表現と同様に、各ユニットがガウス型の受容野を持つガウス形式で、位置を網膜座標ではなく頭の中心座標でコーディングしたものです。もう1つ（図4aの出力1）は単調なフォーマットで、各ニューロンの活動は、頭の中心座標における刺激の位置の線形関数となります。ガウシアン形式では、網膜の入力配列と同様の64ユニットの配列を用い、モノトニック形式では、眼球位置の入力配列と同様の32ユニットの配列を用いました。ガウシアン形式とモノトニック形式が選ばれたのは、脳細胞のコーディング形式として最も一般的なものだからです。また，モノトニック形式は，入力の眼球位置コードと同じ表現になるという興味深い特徴がある。このため，動物が視覚刺激をフェーブした場合，結果として得られる眼球位置信号は，刺激の正しい位置を頭部中心の座標で示す教師として使用することができる。\n",
    "\n",
    "モデルネットワークは，ランダムに選択された入力眼球位置と網膜位置のペアを用いて学習されました。出力ユニットの学習に用いた教師信号（所望の出力）は，入力によって暗示される頭部を中心とした座標における真の空間位置であり，単調またはガウス形式で表された．ネットワークの学習は早く、1,000回の試行で、網膜ユニットの中心間の距離に相当する精度に達した。トレーニングを続けると、誤差は減少し続けたが、その割合は低くなった。\n",
    "\n",
    "Eye positionは8 x 4set．\n",
    "\n",
    "視線位置の入力は、水平方向の位置をコーディングする2セット（負の傾きに対応するものと正の傾きに対応するもの）と垂直方向の位置をコーディングする2セット、それぞれ8ユニットの4セットで構成されています。濃淡は活動のレベルを表す。境界線は説明のためだけに並べられており、隠れた層で利用可能な情報を表すものではない。各眼球位置セルは、隠れ層のすべてのユニットに投影される。右側がガウス型、左側が単調型の2種類の出力形式を使用した。ガウシアン形式のユニットには、ガウシアンシェーディングされた受容野が頭部中心の座標にプロットされています。\n",
    "\n",
    "出力型にはgaussian output 形式（右）とmonotonic format（左）がある．"
   ]
  }
 ],
 "metadata": {
  "kernelspec": {
   "display_name": "Julia 1.6.0-beta1",
   "language": "julia",
   "name": "julia-1.6"
  },
  "language_info": {
   "file_extension": ".jl",
   "mimetype": "application/julia",
   "name": "julia",
   "version": "1.6.0"
  }
 },
 "nbformat": 4,
 "nbformat_minor": 4
}
