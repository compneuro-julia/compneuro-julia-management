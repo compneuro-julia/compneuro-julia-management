{
 "cells": [
  {
   "cell_type": "markdown",
   "id": "92471ded",
   "metadata": {},
   "source": [
    "# 線形代数"
   ]
  },
  {
   "cell_type": "code",
   "execution_count": 1,
   "id": "447f4d29",
   "metadata": {},
   "outputs": [],
   "source": [
    "using LinearAlgebra"
   ]
  },
  {
   "cell_type": "code",
   "execution_count": null,
   "id": "b736734b",
   "metadata": {},
   "outputs": [],
   "source": []
  },
  {
   "cell_type": "markdown",
   "id": "c28536cc",
   "metadata": {},
   "source": [
    "### ベクトル\n",
    "Juliaは列ベクトルが基本．\n",
    "\n",
    "$$\n",
    "\\mathbf{a}=[]\n",
    "$$"
   ]
  },
  {
   "cell_type": "code",
   "execution_count": 2,
   "id": "88b0db5f",
   "metadata": {},
   "outputs": [
    {
     "data": {
      "text/plain": [
       "3-element Vector{Int64}:\n",
       " 1\n",
       " 2\n",
       " 3"
      ]
     },
     "execution_count": 2,
     "metadata": {},
     "output_type": "execute_result"
    }
   ],
   "source": [
    "a = [1, 2, 3]"
   ]
  },
  {
   "cell_type": "code",
   "execution_count": null,
   "id": "be9867df",
   "metadata": {},
   "outputs": [],
   "source": []
  },
  {
   "cell_type": "markdown",
   "id": "0eb52433",
   "metadata": {},
   "source": [
    "### 行列\n",
    "\n",
    "$$\n",
    "\\begin{aligned}\n",
    "\\mathbf{A} =\\left[\\begin{array}{ccc}\n",
    "a_{11} & \\cdots & a_{1n} \\\\\n",
    "\\vdots & \\ddots & \\vdots  \\\\\n",
    "a_{1n} & \\cdots & a_{nn}\n",
    "\\end{array}\\right]\n",
    "\\end{aligned} \\in \\mathbb{R}^n\n",
    "$$\n",
    "\n",
    "行列$\\mathbf{A}$の$(i, j)$成分を$\\mathbf{A}_{ij}=a_{ij}$とする．"
   ]
  },
  {
   "cell_type": "code",
   "execution_count": null,
   "id": "5ab0985a",
   "metadata": {},
   "outputs": [],
   "source": [
    "A = []"
   ]
  },
  {
   "cell_type": "code",
   "execution_count": null,
   "id": "38475ea6",
   "metadata": {},
   "outputs": [],
   "source": []
  },
  {
   "cell_type": "markdown",
   "id": "41504532",
   "metadata": {},
   "source": [
    "## 要素ごとの演算\n",
    "### 行列の行・列ごとの正規化\n",
    "シミュレーションにおいてニューロン間の重み行列を行あるいは列ごとに正規化 (weight normalization)する場合がある．これは各ニューロンへの入力の大きさを同じにする働きや重みの発散を防ぐ役割がある．以下では行ごとの和を1にする．"
   ]
  },
  {
   "cell_type": "code",
   "execution_count": null,
   "id": "611c01c1",
   "metadata": {},
   "outputs": [],
   "source": [
    "W = rand(3,3)"
   ]
  },
  {
   "cell_type": "code",
   "execution_count": null,
   "id": "4d6817c3",
   "metadata": {},
   "outputs": [],
   "source": [
    "Wnormed = W ./ sum(W, dims=1)"
   ]
  },
  {
   "cell_type": "code",
   "execution_count": null,
   "id": "ef1005ef",
   "metadata": {},
   "outputs": [],
   "source": [
    "println(sum(Wnormed, dims=1))"
   ]
  },
  {
   "cell_type": "markdown",
   "id": "dfcef77a",
   "metadata": {},
   "source": [
    "### 行列の結合 (concatenate)\n",
    "行列の結合はMATLABに近い形式で行うことができる．まず，2つの行列A, Bを用意する．"
   ]
  },
  {
   "cell_type": "code",
   "execution_count": null,
   "id": "324d63ac",
   "metadata": {},
   "outputs": [],
   "source": [
    "A = [1 2; 3 4]"
   ]
  },
  {
   "cell_type": "code",
   "execution_count": null,
   "id": "a638ea49",
   "metadata": {},
   "outputs": [],
   "source": [
    "B = [4 5 6; 7 8 9]"
   ]
  },
  {
   "cell_type": "markdown",
   "id": "6ee33fe1",
   "metadata": {},
   "source": [
    "### 水平結合 (Horizontal concatenation)\n",
    "`hcat`を使うやり方と，`[ ]`を使うやり方がある．"
   ]
  },
  {
   "cell_type": "code",
   "execution_count": null,
   "id": "2fce5bcd",
   "metadata": {},
   "outputs": [],
   "source": [
    "H1 = hcat(A,B)"
   ]
  },
  {
   "cell_type": "code",
   "execution_count": null,
   "id": "35c8344b",
   "metadata": {},
   "outputs": [],
   "source": [
    "H2 = [A B]"
   ]
  },
  {
   "cell_type": "markdown",
   "id": "a9173428",
   "metadata": {},
   "source": [
    "なお，MATLABのように次のようにすると正しく結合はされない．"
   ]
  },
  {
   "cell_type": "code",
   "execution_count": null,
   "id": "92c19136",
   "metadata": {},
   "outputs": [],
   "source": [
    "H3 = [A, B]"
   ]
  },
  {
   "cell_type": "markdown",
   "id": "f74ea51b",
   "metadata": {},
   "source": [
    "### 垂直結合 (Vertical concatenation)"
   ]
  },
  {
   "cell_type": "code",
   "execution_count": null,
   "id": "aa98f7b6",
   "metadata": {},
   "outputs": [],
   "source": [
    "V1 = vcat(A, B')"
   ]
  },
  {
   "cell_type": "code",
   "execution_count": null,
   "id": "9d91327a",
   "metadata": {},
   "outputs": [],
   "source": [
    "V2 = [A; B']"
   ]
  },
  {
   "cell_type": "code",
   "execution_count": null,
   "id": "d1ccd9c5",
   "metadata": {},
   "outputs": [],
   "source": [
    "[V2 [A;B']]"
   ]
  },
  {
   "cell_type": "markdown",
   "id": "d9737a02",
   "metadata": {},
   "source": [
    "## 配列に新しい軸を追加\n",
    "要はnumpyでの`A[None, :]`や`A[np.newaxis, :]`のようなことがしたい場合．やや面倒だが，`reshape`を使うか，`[CartesianIndex()]`を用いる．"
   ]
  },
  {
   "cell_type": "code",
   "execution_count": null,
   "id": "92092ff7",
   "metadata": {},
   "outputs": [],
   "source": [
    "v = rand(3)"
   ]
  },
  {
   "cell_type": "code",
   "execution_count": null,
   "id": "e4b77537",
   "metadata": {},
   "outputs": [],
   "source": [
    "newaxis = [CartesianIndex()]\n",
    "v1 = v[newaxis, :]"
   ]
  },
  {
   "cell_type": "code",
   "execution_count": null,
   "id": "cda61c7a",
   "metadata": {},
   "outputs": [],
   "source": []
  },
  {
   "cell_type": "code",
   "execution_count": null,
   "id": "de861bbd",
   "metadata": {},
   "outputs": [],
   "source": []
  },
  {
   "cell_type": "markdown",
   "id": "b885abcd",
   "metadata": {},
   "source": [
    "### 単位行列"
   ]
  },
  {
   "cell_type": "code",
   "execution_count": 3,
   "id": "277919b6",
   "metadata": {},
   "outputs": [
    {
     "data": {
      "text/plain": [
       "UniformScaling{Bool}\n",
       "true*I"
      ]
     },
     "execution_count": 3,
     "metadata": {},
     "output_type": "execute_result"
    }
   ],
   "source": [
    "I"
   ]
  },
  {
   "cell_type": "code",
   "execution_count": null,
   "id": "c8fd7a93",
   "metadata": {},
   "outputs": [],
   "source": []
  },
  {
   "cell_type": "markdown",
   "id": "73243532",
   "metadata": {},
   "source": [
    "### 対角行列"
   ]
  },
  {
   "cell_type": "markdown",
   "id": "795286df",
   "metadata": {},
   "source": [
    "### 線形行列方程式\n",
    "\n",
    "$$\n",
    "\\mathbf{A}\\mathbf{x}=\\mathbf{b}\n",
    "$$\n",
    "\n",
    "$\\mathbf{A}$が正則の場合，逆行列が存在し，\n",
    "\n",
    "$$\n",
    "\\mathbf{x}=\\mathbf{A}^{-1}\\mathbf{b}\n",
    "$$"
   ]
  },
  {
   "cell_type": "code",
   "execution_count": null,
   "id": "b764c68f",
   "metadata": {},
   "outputs": [],
   "source": [
    "x = inv(A) * b"
   ]
  },
  {
   "cell_type": "markdown",
   "id": "d6901bce",
   "metadata": {},
   "source": [
    "Juliaではバックスラッシュ演算子 `\\`を用いることで明示的に逆行列を計算せずに解を求めることができる．"
   ]
  },
  {
   "cell_type": "code",
   "execution_count": null,
   "id": "e8f372d7",
   "metadata": {},
   "outputs": [],
   "source": [
    "x = A \\ b"
   ]
  },
  {
   "cell_type": "code",
   "execution_count": null,
   "id": "e7144274",
   "metadata": {},
   "outputs": [],
   "source": []
  },
  {
   "cell_type": "code",
   "execution_count": null,
   "id": "6e3b40f7",
   "metadata": {},
   "outputs": [],
   "source": []
  },
  {
   "cell_type": "markdown",
   "id": "b053767c",
   "metadata": {},
   "source": [
    "## Roth's column lemma\n",
    "\n",
    "Roth's column lemmaは，例えば，$A, B, C$が与えられていて，$X$を未知とするときの方程式 $AXB = C$を考えると，この方程式は\n",
    "\n",
    "$$\n",
    "(B^\\top \\otimes A)\\text{vec}(X) = \\text{vec}(AXB)=\\text{vec}(C)\n",
    "$$\n",
    "\n",
    "の形に書き下すことができる，というものである．$\\text{vec}(\\cdot)$はvec作用素（行列を列ベクトル化する作用素）である．`vec(X) = vcat(X...)`で実現できる．Roth's column lemmaを用いれば，$AXB = C$の解は\n",
    "\n",
    "$$\n",
    "X = \\text{vec}^{-1}\\left((B^\\top \\otimes A)^{-1}\\text{vec}(C)\\right)\n",
    "$$\n",
    "\n",
    "として得られる．ただし，$\\text{vec}(\\cdot)^{-1}$は列ベクトルを行列に戻す作用素(inverse of the vectorization operator)である．`reshape()`で実現できる．2つの作用素をまとめると，\n",
    "\n",
    "$$\n",
    "\\begin{align}\n",
    "\\text{vec} &: R^{m\\times n}\\to R^{mn}\\\\\n",
    "\\text{vec}^{−1} &: R^{mn}\\to R^{m×n}\n",
    "\\end{align}\n",
    "$$\n",
    "\n",
    "であり，$\\text{vec}^{−1}\\left(\\text{vec}(X)\\right)=X\\ (\\text{for all}\\ X\\in R^{m\\times n})，\\text{vec}\\left(\\text{vec}^{−1}(x)\\right)=x\\ (\\text{for all}\\ x \\in R^{mn})$となる．"
   ]
  },
  {
   "cell_type": "code",
   "execution_count": null,
   "id": "3e24b1fc",
   "metadata": {},
   "outputs": [],
   "source": [
    "using LinearAlgebra, Kronecker, Random"
   ]
  },
  {
   "cell_type": "code",
   "execution_count": null,
   "id": "2534e200",
   "metadata": {},
   "outputs": [],
   "source": [
    "m = 4\n",
    "A = randn(m, m)\n",
    "B = randn(m, m)\n",
    "C = convert(Array{Float64}, reshape(1:16, (m, m)))"
   ]
  },
  {
   "cell_type": "code",
   "execution_count": null,
   "id": "1637e4e7",
   "metadata": {},
   "outputs": [],
   "source": [
    "X = reshape((B' ⊗ A) \\ vec(C), (m, m))"
   ]
  },
  {
   "cell_type": "code",
   "execution_count": null,
   "id": "9e4f39b8",
   "metadata": {},
   "outputs": [],
   "source": [
    "A * X * B"
   ]
  },
  {
   "cell_type": "code",
   "execution_count": null,
   "id": "b8644877",
   "metadata": {},
   "outputs": [],
   "source": []
  },
  {
   "cell_type": "code",
   "execution_count": null,
   "id": "0685d090",
   "metadata": {},
   "outputs": [],
   "source": []
  },
  {
   "cell_type": "markdown",
   "id": "b280c02b",
   "metadata": {},
   "source": [
    "### 配列の1次元化\n",
    "配列を一次元化(flatten)する方法．まずは3次元配列を作成する．"
   ]
  },
  {
   "cell_type": "code",
   "execution_count": null,
   "id": "1a8367e4",
   "metadata": {},
   "outputs": [],
   "source": [
    "B = rand(2, 2, 2)"
   ]
  },
  {
   "cell_type": "markdown",
   "id": "94dac8ad",
   "metadata": {},
   "source": [
    "用意されている`flatten`を素直に用いると次のようになる．"
   ]
  },
  {
   "cell_type": "code",
   "execution_count": null,
   "id": "d8708566",
   "metadata": {},
   "outputs": [],
   "source": [
    "import Base.Iterators: flatten\n",
    "collect(flatten(B))"
   ]
  },
  {
   "cell_type": "markdown",
   "id": "33fdcbf5",
   "metadata": {},
   "source": [
    "ただし，単に`B[:]`とするだけでもよい．"
   ]
  },
  {
   "cell_type": "code",
   "execution_count": null,
   "id": "f5219ddb",
   "metadata": {},
   "outputs": [],
   "source": [
    "B[:]"
   ]
  },
  {
   "cell_type": "code",
   "execution_count": null,
   "id": "d656ed01",
   "metadata": {},
   "outputs": [],
   "source": []
  },
  {
   "cell_type": "markdown",
   "id": "5b1e2325",
   "metadata": {},
   "source": [
    "### reshapeにおける残りの次元の指定\n",
    "numpyにおいては(2, 3, 5)次元の配列に対し，reshape(-1, 5)を行うと(6, 5)次元の配列となった．これと同様なことは，Juliaでは:を使うことで実装できる．"
   ]
  },
  {
   "cell_type": "code",
   "execution_count": null,
   "id": "8a1a6d37",
   "metadata": {},
   "outputs": [],
   "source": [
    "a = rand(2,3,5)\n",
    "b = reshape(a, (:, 5))"
   ]
  }
 ],
 "metadata": {
  "kernelspec": {
   "display_name": "Julia 1.8.0-rc1",
   "language": "julia",
   "name": "julia-1.8"
  },
  "language_info": {
   "file_extension": ".jl",
   "mimetype": "application/julia",
   "name": "julia",
   "version": "1.8.0"
  }
 },
 "nbformat": 4,
 "nbformat_minor": 5
}
