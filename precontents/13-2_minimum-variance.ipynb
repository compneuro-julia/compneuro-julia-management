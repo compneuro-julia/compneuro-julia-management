{
 "cells": [
  {
   "cell_type": "markdown",
   "metadata": {},
   "source": [
    "# 13.2 最小分散モデル\n",
    "(Harris & Wolpert, 1998)\n",
    "minimum-variance model\n",
    "\n",
    "田中先生の<https://motorcontrol.jp/mc13/MC2019_2_OptimalControlStochastic.pdf>に記載のコードを参考にして作成した。"
   ]
  },
  {
   "cell_type": "markdown",
   "metadata": {},
   "source": [
    "## 2次計画法\n",
    "https://www.math.ucla.edu/~wotaoyin/math273a/slides/Lec3_gradient_descent_273a_2015_f.pdf\n",
    "https://en.wikipedia.org/wiki/Quadratic_programming#Equality_constraints\n",
    "https://en.wikipedia.org/wiki/Conjugate_gradient_method"
   ]
  },
  {
   "cell_type": "code",
   "execution_count": 2,
   "metadata": {},
   "outputs": [],
   "source": [
    "using LinearAlgebra"
   ]
  },
  {
   "cell_type": "code",
   "execution_count": 3,
   "metadata": {},
   "outputs": [
    {
     "ename": "LoadError",
     "evalue": "UndefVarError: expm not defined",
     "output_type": "error",
     "traceback": [
      "UndefVarError: expm not defined",
      "",
      "Stacktrace:",
      " [1] top-level scope at In[3]:15",
      " [2] include_string(::Function, ::Module, ::String, ::String) at .\\loading.jl:1091"
     ]
    }
   ],
   "source": [
    "t1 = 224/1000 # time const of eye dynamics\n",
    "t2 = 13/1000  # another time const of eye dynamics\n",
    "tm = 10/1000\n",
    "dt = 1/1000   # simulation time step\n",
    "tf = 50/1000  # movement duration\n",
    "tp = 20/1000  # post-movement duration\n",
    "K = tf/dt\n",
    "L = tp/dt\n",
    "x0 = [0; 0; 0]  # initial state\n",
    "xf = [10; 0; 0] # final state\n",
    "Ac = [0 1 0; \n",
    "    0 0 1; \n",
    "    -1/(t1*t2*tm) -1/(t1*t2)-1/(t1*tm)-1/(t2*tm) -1/t1-1/t2-1/tm];\n",
    "Bc = [0; 0; 1];\n",
    "A = expm(Ac*dt);\n",
    "B = inv(Ac)*(eye(3)-expm(Ac*dt))*Bc;\n",
    "Q = zeros(K+L);"
   ]
  },
  {
   "cell_type": "code",
   "execution_count": null,
   "metadata": {},
   "outputs": [],
   "source": [
    "# calculation of Q\n",
    "for ell=0:K+L-1\n",
    "    if ell<K\n",
    "        for k=K:K+L-1\n",
    "        tmpQ = A^(k-ell-1)*B*B'*A'^(k-ell-1);\n",
    "        Q(ell+1, ell+1) = Q(ell+1, ell+1) + tmpQ(1,1);\n",
    "        end\n",
    "    else\n",
    "        for k=ell+1:K+L-1\n",
    "        tmpQ = A^(k-ell-1)*B*B'*A'^(k-ell-1);\n",
    "        Q(ell+1, ell+1) = Q(ell, ell) + tmpQ(1,1);\n",
    "        end\n",
    "    end\n",
    "end"
   ]
  },
  {
   "cell_type": "code",
   "execution_count": null,
   "metadata": {},
   "outputs": [],
   "source": [
    "# calculation of C\n",
    "C = [];\n",
    "for p=1:L+1\n",
    "    Ctmp = [];\n",
    "    for q=1:K+L\n",
    "        if K-1-(q-1)+(p-1)>0\n",
    "            Ctmp = [Ctmp A^(K-1-(q-1)+(p-1))*B];\n",
    "        elseif K-1-(q-1)+(p-1)==0\n",
    "            Ctmp = [Ctmp B];\n",
    "        else\n",
    "            Ctmp = [Ctmp zeros(3,1)];\n",
    "        end\n",
    "    end\n",
    "    C = [C; Ctmp];\n",
    "end"
   ]
  },
  {
   "cell_type": "markdown",
   "metadata": {},
   "source": [
    "x = quadprog(H,f,A,b,Aeq,beq) は追加の制約 Aeq*x = beq に従って上記の問題を解きます。Aeq は double 型の行列で、beq は double 型のベクトルです。不等式が存在しない場合は A = [] および b = [] と設定してください。"
   ]
  },
  {
   "cell_type": "code",
   "execution_count": null,
   "metadata": {},
   "outputs": [],
   "source": [
    "# calculation of d\n",
    "d = [];\n",
    "for ell=0:L\n",
    "    d = [d; xf-A^(K+ell)*x0];\n",
    "end\n",
    "\n",
    "# solution by quadratic programming\n",
    "u = quadprog(Q, [], [], [], C, d);\n",
    "\n",
    "# forward solution\n",
    "x = zeros(3, K+L);\n",
    "x(:,1) = x0;\n",
    "for k=1:K+L-1\n",
    "    x(:,k+1) = A*x(:,k) + B*u(k);\n",
    "end"
   ]
  },
  {
   "cell_type": "code",
   "execution_count": null,
   "metadata": {},
   "outputs": [],
   "source": [
    "figure(1);\n",
    "subplot(211); hold on; plot(x(1,:), 'k', 'linewidth', 2);\n",
    "set(gca, 'plotboxaspectratio', [1.5 1 1]);\n",
    "xlabel('time (ms)'); ylabel('eye position (deg)');\n",
    "subplot(212); hold on; plot(x(2,:), 'k', 'linewidth', 2)\n",
    "set(gca, 'plotboxaspectratio', [1.5 1 1]);\n",
    "xlabel('time (ms)'); ylabel('eye velocity (deg/s)');"
   ]
  }
 ],
 "metadata": {
  "kernelspec": {
   "display_name": "Julia 1.5.0",
   "language": "julia",
   "name": "julia-1.5"
  },
  "language_info": {
   "file_extension": ".jl",
   "mimetype": "application/julia",
   "name": "julia",
   "version": "1.5.0"
  }
 },
 "nbformat": 4,
 "nbformat_minor": 4
}
