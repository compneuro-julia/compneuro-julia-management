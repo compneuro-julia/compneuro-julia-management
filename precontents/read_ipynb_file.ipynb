{
 "cells": [
  {
   "cell_type": "code",
   "execution_count": 10,
   "id": "896a4096",
   "metadata": {},
   "outputs": [],
   "source": [
    "import codecs\n",
    "import json"
   ]
  },
  {
   "cell_type": "code",
   "execution_count": 3,
   "id": "1352db83",
   "metadata": {},
   "outputs": [],
   "source": [
    "ipynb_file = \"hebbian-learning-ica.ipynb\""
   ]
  },
  {
   "cell_type": "code",
   "execution_count": 12,
   "id": "434b4628",
   "metadata": {},
   "outputs": [],
   "source": [
    "f = codecs.open(ipynb_file, 'r', encoding=\"utf8\")"
   ]
  },
  {
   "cell_type": "code",
   "execution_count": 13,
   "id": "436a0da0",
   "metadata": {},
   "outputs": [],
   "source": [
    "source = f.read()\n",
    "y = json.loads(source)"
   ]
  },
  {
   "cell_type": "code",
   "execution_count": 15,
   "id": "e28dc437",
   "metadata": {},
   "outputs": [
    {
     "data": {
      "text/plain": [
       "dict_keys(['cells', 'metadata', 'nbformat', 'nbformat_minor'])"
      ]
     },
     "execution_count": 15,
     "metadata": {},
     "output_type": "execute_result"
    }
   ],
   "source": [
    "y.keys()"
   ]
  },
  {
   "cell_type": "code",
   "execution_count": 17,
   "id": "4a988a8d",
   "metadata": {},
   "outputs": [
    {
     "data": {
      "text/plain": [
       "16"
      ]
     },
     "execution_count": 17,
     "metadata": {},
     "output_type": "execute_result"
    }
   ],
   "source": [
    "len(y['cells'])"
   ]
  },
  {
   "cell_type": "code",
   "execution_count": 18,
   "id": "9af7c38c",
   "metadata": {},
   "outputs": [
    {
     "data": {
      "text/plain": [
       "{'cell_type': 'markdown',\n",
       " 'id': 'a9208de1',\n",
       " 'metadata': {},\n",
       " 'source': ['# Hebb則と教師なし学習 (1) 主成分分析\\n',\n",
       "  '## Hebb則\\n',\n",
       "  '\\n',\n",
       "  'Hebb_1949_The_Organization_of_Behavior\\n',\n",
       "  '\\n',\n",
       "  '```{note}\\n',\n",
       "  '日本語訳されている：行動の機構――脳メカニズムから心理学へ\\n',\n",
       "  '```\\n',\n",
       "  '\\n',\n",
       "  '> Let us assume then that the persistence or repetition of a reverberatory activity (or \"trace\") tends to induce lasting cellular changes that add to its stability The assumption\\' can be precisely stated as follows When an axon of cell A is near enough to excite a cell B and repeatedly or persistently takes part in firing It, some growth process or metabolic change takes place sn one or both cells such that A\\'s efficiency, as one of the cats firing B, is increased\\n',\n",
       "  '\\n',\n",
       "  'Hebb則はShatzにより\"cells that fire together wire together\" (共に活動する細胞は共に結合する)と韻を踏みながら短く言い換えられている．\\n',\n",
       "  '\\n',\n",
       "  '> Shatz, C. J. 1992. “The Developing Brain.” Scientific American 267 (3): 60–67.\\n',\n",
       "  '\\n',\n",
       "  '数式でHebb則を表してみよう．シナプス前活動を$\\\\mathbf{x}\\\\in \\\\mathbb{R}^n$, 後活動を$\\\\mathbf{y}\\\\in \\\\mathbb{R}^m$, 重み行列を$\\\\mathbf{W}\\\\in \\\\mathbb{R}^{m\\\\times n}$とし，$\\\\mathbf{y}=\\\\mathbf{W}\\\\mathbf{x}$が成り立つとする．このようなモデルを線形ニューロンモデル (Linear neuron model)という．このとき，Hebb則は\\n',\n",
       "  '\\n',\n",
       "  '$$\\n',\n",
       "  '\\\\frac{d\\\\mathbf{W}}{dt}=\\\\mathbf{y}\\\\mathbf{x}^\\\\top=(\\\\text{post})\\\\cdot (\\\\text{pre})^\\\\top\\n',\n",
       "  '$$\\n',\n",
       "  '\\n',\n",
       "  'として表される．\\n',\n",
       "  '\\n',\n",
       "  'このHebb則は数学的に導出されたものではないが，特定の目的関数を神経活動及び重みを変化させて最適化するようなネットワークを構築すれば自然に出現する (本書ではこれに該当するIsingモデル，Amari-Hopfieldモデル，Boltzmannマシン，スパース符号化モデル，予測符号化モデルを取り上げる．もちろんこれ以外のモデルでも現れる)．こうしたモデルでは，先に目的関数$\\\\mathcal{L}$を定義し，その目的関数を最小化するような神経活動$\\\\mathbf{z}$および重み行列$\\\\mathbf{W}$のダイナミクスをそれぞれ,\\n',\n",
       "  '\\n',\n",
       "  '$$\\n',\n",
       "  '\\\\frac{d \\\\mathbf{z}}{dt}\\\\propto-\\\\frac{\\\\partial \\\\mathcal{L}}{\\\\partial \\\\mathbf{z}},\\\\ \\\\frac{d \\\\mathbf{W}}{dt}\\\\propto-\\\\frac{\\\\partial \\\\mathcal{L}}{\\\\partial \\\\mathbf{W}}\\n',\n",
       "  '$$\\n',\n",
       "  '\\n',\n",
       "  'として導出する．また，先に神経細胞の活動ダイナミクスを定義し，積分することで目的関数$\\\\mathcal{L}$を導出できる(Isomura et al., 2022)．この場合，$\\\\mathcal{L}$を重み行列で微分することでHebb則が導出できる．次のような連続時間線形ニューロンモデルを考えよう (記号は先ほどと同様である)．\\n',\n",
       "  '\\n',\n",
       "  '$$\\n',\n",
       "  '\\\\frac{d\\\\mathbf{y}}{dt}=\\\\mathbf{W}\\\\mathbf{x}\\n',\n",
       "  '$$\\n',\n",
       "  '\\n',\n",
       "  'ここで$\\\\dfrac{\\\\partial\\\\mathcal{L}}{\\\\partial\\\\mathbf{y}}:=-\\\\dfrac{d\\\\mathbf{y}}{dt}$となるような目的関数 $\\\\mathcal{L}\\\\in \\\\mathbb{R}$を仮定すると，\\n',\n",
       "  '\\n',\n",
       "  '$$\\n',\n",
       "  '\\\\mathcal{L}=-\\\\int \\\\mathbf{W}\\\\mathbf{x}\\\\ d\\\\mathbf{y}=-\\\\mathbf{y}^\\\\top \\\\mathbf{W}\\\\mathbf{x}\\n',\n",
       "  '$$\\n',\n",
       "  '\\n',\n",
       "  'となる．これをさらに$\\\\mathbf{W}$で微分すると，\\n',\n",
       "  '\\n',\n",
       "  '$$\\n',\n",
       "  '\\\\dfrac{\\\\partial\\\\mathcal{L}}{\\\\partial\\\\mathbf{W}}=-\\\\mathbf{y}\\\\mathbf{x}^\\\\top\\\\Rightarrow\\n',\n",
       "  '\\\\frac{d\\\\mathbf{W}}{dt}=-\\\\dfrac{\\\\partial\\\\mathcal{L}}{\\\\partial\\\\mathbf{W}}=\\\\mathbf{y}\\\\mathbf{x}^\\\\top\\n',\n",
       "  '$$\\n',\n",
       "  '\\n',\n",
       "  'となり，Hebb則が導出できる．\\n',\n",
       "  '\\n',\n",
       "  'また実験的にはLTPとして Bliss and Lømo (1973)により発見されている．']}"
      ]
     },
     "execution_count": 18,
     "metadata": {},
     "output_type": "execute_result"
    }
   ],
   "source": [
    "y['cells'][0]"
   ]
  }
 ],
 "metadata": {
  "kernelspec": {
   "display_name": "Python 3 (ipykernel)",
   "language": "python",
   "name": "python3"
  },
  "language_info": {
   "codemirror_mode": {
    "name": "ipython",
    "version": 3
   },
   "file_extension": ".py",
   "mimetype": "text/x-python",
   "name": "python",
   "nbconvert_exporter": "python",
   "pygments_lexer": "ipython3",
   "version": "3.10.9"
  }
 },
 "nbformat": 4,
 "nbformat_minor": 5
}
