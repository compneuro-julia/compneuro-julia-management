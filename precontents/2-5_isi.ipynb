{
 "cells": [
  {
   "cell_type": "markdown",
   "metadata": {},
   "source": [
    "# 2.5 Inter-spike interval モデル\n",
    "これまで紹介したモデルでは、入力に対する膜電位などの時間変化に基づき発火が起こるかどうか、ということを考えてきました。この節では、発火が生じるまでの過程を考慮せず、発火の時間間隔(**inter-spike interval, ISI**)の統計による現象論的モデルを考えます(これを**Inter-spike interval (ISI)** モデルと呼びます)。ISIモデルは**点過程(point process)** という統計的モデルに基づいており、各モデルにはISIが従う分布の名称がついています。この節では、使用頻度の高い **ポアソン過程 (Poisson process) モデル**、ポアソン過程モデルにおいて不応期を考慮した **死時間付きポアソン過程 (Poisson process with dead time, PPD) モデル**、皮質の定常発火においてポアソン過程モデルよりも当てはまりがよいとされる **ガンマ過程 (Gamma process) モデル**について説明します。\n",
    "\n",
    "なお、SNNにおいて、ISIモデルは主に画像入力の際に**連続値からスパイク列へのエンコード**に用いられます。"
   ]
  },
  {
   "cell_type": "markdown",
   "metadata": {},
   "source": [
    "## 2.5.1 ポアソン過程モデル\n",
    "### 点過程とポアソン過程\n",
    "時間に応じて変化する確率変数のことを**確率過程(stochastic process)** といいます。さらに確率過程の中で、連続時間軸上において離散的に生起する点事象の系列を**点過程(point process)** といいます。スパイクは離散的に起こるので、点過程を用いてモデル化ができるという話です。\n",
    "\n",
    "ポアソン過程 (Poisson process)は点過程の1つです。ポアソン過程モデルはスパイクの発生をポアソン過程でモデル化したもので、このモデルによって生じるスパイクをポアソンスパイク(Poisson spike)と呼びます。ポアソン過程では、時刻$t$までに起こった点の数$N(t)$はポアソン分布に従います。すなわち、点が起こる確率が強度$\\lambda$のポアソン分布に従う場合, 時刻$t$までに事象が$n$回起こる確率は$P[N(t)=n]=\\dfrac{(\\lambda t)^{n}}{n !} e^{-\\lambda t}$となります. \n",
    "\n",
    "ポアソン過程において点が起こる回数がポアソン分布に従うことは、ポアソン過程という名称の由来です。これを定義とする場合もあれば、次の4条件を満たす点過程をポアソン過程とするという定義もあります。\n",
    "\n",
    "- 時刻0における初期の点の数は0 : $P[N(0)=0]=1$ \n",
    "- $[t, t+\\Delta t)$に点が1つ生じる確率 : $P[N(t+\\Delta t)-N(t)=1]=\\lambda(t)\\Delta t+o(\\Delta t)$\n",
    "- 微小時間$\\Delta t$の間に点は2つ以上生じない : $P[N(t+\\Delta t)-N(t)=2]=o(\\Delta t)$\n",
    "- 任意の時点$t_1 < t_2 < \\cdots< t_n$に対して，増分 $N(t_2)-N(t_1), N(t_3)-N(t_2), \\cdots, N(t_n)-N(t_{n−1})$は互いに独立である．\n",
    "\n",
    "ただし, $o(\\cdot)$はLandauの記号(Landauのsmall o)であり, $o(x)$は$x\\to 0$のとき、$o(x)/x\\to 0$となる微小な量を表します。ポアソン過程に従ってスパイクが生じるとする場合、条件2の強度関数$\\lambda(t)$は**発火率**を意味します(また実装において有用)。条件3は不応期より小さいタイムステップにおいては、1つのタイムステップにおいて1つしかスパイクは生じないということを表します。条件4はスパイクは独立に発生する、ということを意味します。また、これらの条件から$N(t)$の分布は強度母数$\\lambda(t)$のポアソン分布に従うことが示せます。\n",
    "\n",
    "強度関数(点がスパイクの場合、発火率)が$\\lambda(t)=\\lambda$ (定数)となる場合は点の時間間隔(点がスパイクの場合、ISI)の確率変数$T$が強度母数$\\lambda$の **指数分布**に従います。なお、指数分布の確率密度関数は確率変数を$T$とするとき、\n",
    "\n",
    "$$\n",
    "f(t;\\lambda )=\\left\\{{\\begin{array}{ll}\\lambda e^{-\\lambda t}&(t\\geq 0)\\\\0&(t<0)\\end{array}}\\right.\n",
    "$$\n",
    "\n",
    "となります。このことは4条件とChapman-Kolmogorovの式により求められますが、ややこしいので, $P[N(t)=n]=\\dfrac{(\\lambda t)^{n}}{n !} e^{-\\lambda t}$から導出できることを簡単に示します。指数分布の累積分布関数を$F(t; \\lambda)$とすると、\n",
    "\n",
    "$$\n",
    "F(t; \\lambda) = P(T<t)=1-P(T>t)=1-P(N(t)=0)=1-e^{-\\lambda t}\n",
    "$$\n",
    "\n",
    "となります。よって\n",
    "\n",
    "$$\n",
    "f(t; \\lambda)=\\frac{dF(t; \\lambda)}{dt}=\\lambda e^{-\\lambda t}\n",
    "$$\n",
    "\n",
    "となります。"
   ]
  },
  {
   "cell_type": "markdown",
   "metadata": {},
   "source": [
    "### 定常ポアソン過程\n",
    "ここからポアソン過程によるスパイクのシミュレーションを実装していきます。実装方法にはISIが指数分布に従うことを利用したものと、ポアソン過程の条件2を利用したものの2通りがあります。実装は後者が楽で計算量も少ないですが、後のガンマ過程のために前者の実装を先に行います。\\par\n",
    "ISIが指数分布に従うことを利用してポアソン過程モデルの実装を行います。SNNのシミュレーションにおいてスパイク列$S$はタイムステップごとに発火しているかの$\\{0,1\\}$配列で保持しておくと楽に扱うことができます\\footnote{もちろん発火時刻で記録しておく方がメモリを節約できますが、計算量が多くなります。}。手順としては、まずISIを指数分布に従う乱数とします。次にISIを累積することで発火時刻を得ます。最後に発火時間を整数値に丸めてindexとすることで$\\{0, 1\\}$のスパイク列が得られます。ISIの取得には\\texttt{numpy.random.exponential()}を用います。ややこしいのですが、この関数は引数として\\texttt{scale}と\\texttt{size}を受け取りますが、この\\texttt{scale}は指数分布の確率密度関数を$f(t; \\frac{1}{\\beta}) = \\frac{1}{\\beta} e^{-t/\\beta}$とした際の$\\beta = 1/\\lambda$です(この時、平均は$\\beta$となります)。よって発火率を\\texttt{fr}(1/s), 単位時間を\\texttt{dt}(s)としたときのISIは\n",
    "\\texttt{isi = np.random.exponential(1/(fr*dt))}として得ることができます。"
   ]
  },
  {
   "cell_type": "code",
   "execution_count": null,
   "metadata": {},
   "outputs": [],
   "source": [
    "np.random.seed(seed=0)\n",
    "dt = 1e-3; T = 1; nt = round(T/dt) # シミュレーション時間\n",
    "n_neurons = 10 # ニューロンの数\n",
    "fr = 30 # ポアソンスパイクの発火率(Hz)\n",
    "isi = np.random.exponential(1/(fr*dt),\n",
    "                            size=(round(nt*1.5/fr), n_neurons))\n",
    "spike_time = np.cumsum(isi, axis=0) # ISIを累積\n",
    "spike_time[spike_time > nt - 1] = 0 # ntを超える場合を0に\n",
    "spike_time = spike_time.astype(np.int32) # float to int\n",
    "spikes = np.zeros((nt, n_neurons)) # スパイク記録変数\n",
    "for i in range(n_neurons):    \n",
    "    spikes[spike_time[:, i], i] = 1\n",
    "spikes[0] = 0 # (spike_time=0)の発火を削除\n",
    "print(\"Num. of spikes:\", np.sum(spikes))\n",
    "print(\"Firing rate:\", np.sum(spikes)/(n_neurons*T))\n",
    "# 描画\n",
    "t = np.arange(nt)*dt\n",
    "plt.figure(figsize=(5, 4))\n",
    "for i in range(n_neurons):    \n",
    "    plt.plot(t, spikes[:, i]*(i+1), 'ko', markersize=2)\n",
    "plt.xlabel('Time (s)'); plt.ylabel('Neuron index') \n",
    "plt.xlim(0, T); plt.ylim(0.5, n_neurons+0.5)\n",
    "plt.show()"
   ]
  },
  {
   "cell_type": "markdown",
   "metadata": {},
   "source": [
    "結果は図のようになります。\n",
    "\n",
    "次に2番目のポアソン過程モデルの実装を行います。こちらは$\\lambda$を発火率とした場合, 区間$[t, t+\\Delta t]$の間にポアソンスパイクが発生する確率は$\\lambda \\Delta t$となることを利用します。これはポアソン過程の条件ですが、ポアソン分布から導けることを簡単に示しておきます。事象が起こる確率が強度$\\lambda$のポアソン分布に従う場合, 時刻$t$までに事象が$n$回起こる確率は$P[N(t)=n]=\\dfrac{(\\lambda t)^{n}}{n !} e^{-\\lambda t}$となります. よって, 微小時間$\\Delta t$において事象が$1$回起こる確率は\n",
    "$$P[N(\\Delta t)=1]=\\dfrac{\\lambda \\Delta t}{1 !} e^{-\\lambda \\Delta t}\\simeq \\lambda \\Delta t+o(\\Delta t)$$\n",
    "となります. ただし, $e^{-\\lambda \\Delta t}$についてはマクローリン展開による近似を行っています. このことから, 一様分布$U(0,1)$に従う乱数$\\xi$を取得し, $\\xi<\\lambda dt$なら発火$(y=1)$, それ以外では$(y=0)$となるようにすればポアソンスパイクを実装できます.\n"
   ]
  },
  {
   "cell_type": "code",
   "execution_count": null,
   "metadata": {},
   "outputs": [],
   "source": [
    "np.random.seed(seed=0)\n",
    "dt = 1e-3; T = 1; nt = round(T/dt) # シミュレーション時間\n",
    "n_neurons = 10 # ニューロンの数\n",
    "fr = 30 # ポアソンスパイクの発火率(Hz)\n",
    "\n",
    "# スパイク記録変数\n",
    "spikes = np.where(np.random.rand(nt, n_neurons) < fr*dt, 1, 0)\n",
    "\n",
    "print(\"Num. of spikes:\", np.sum(spikes))\n",
    "print(\"Firing rate:\", np.sum(spikes)/(n_neurons*T))\n",
    "# 描画\n",
    "t = np.arange(nt)*dt\n",
    "plt.figure(figsize=(5, 4))\n",
    "for i in range(n_neurons):    \n",
    "    plt.plot(t, spikes[:, i]*(i+1), 'ko', markersize=2)\n",
    "plt.xlabel('Time (s)'); plt.ylabel('Neuron index') \n",
    "plt.xlim(0, T); plt.ylim(0.5, n_neurons+0.5)\n",
    "plt.show()"
   ]
  },
  {
   "cell_type": "markdown",
   "metadata": {},
   "source": [
    "結果は図\\ref{fig:poisson_process}のようになります。\n",
    "\\caption{ポアソン過程モデルによる10個のニューロンのスパイクの1秒間のシミュレーション。(左)ISIの累積により発火時刻を求める手法。(右)$\\Delta t$間の発火確率が$\\lambda\\Delta t$であることを利用する方法。結果は同一ですが、実行速度は右の方が速いです。}"
   ]
  },
  {
   "cell_type": "markdown",
   "metadata": {},
   "source": [
    "なお、ここでは全時間における発火をまとめて計算していますが、タイムステップごとに発火の有無を計算することもできます。前者は発火情報を保持するためのメモリが必要ですが、計算時間は短くて済みます。後者はメモリの節約になりますが、計算時間は長くなります。そのため、これら2つの方法はメモリと計算時間のトレードオフとなります。また、他には発火情報を疎行列(sparse matrix)の形式で保持しておくとメモリの節約になると思われます。"
   ]
  },
  {
   "cell_type": "markdown",
   "metadata": {},
   "source": [
    "### 非定常ポアソン過程\n",
    "これまでの実装は発火率$\\lambda$が一定であるとする、定常ポアソン過程 (homogeneous poisson process)でしたが、ここからは発火率$\\lambda(t)$が時間変化するとする、非定常ポアソン過程 (inhomogeneous poisson process)を行います。とはいえ、定常ポアソン過程における発火率を、時間についての関数で置き換えるだけで実装できます。以下は$\\lambda(t)=\\sin^2(\\alpha t)$(ただし$\\alpha$は定数)とした場合の実装です"
   ]
  },
  {
   "cell_type": "code",
   "execution_count": null,
   "metadata": {},
   "outputs": [],
   "source": [
    "np.random.seed(seed=0)\n",
    "dt = 1e-3; T = 1; nt = round(T/dt) # シミュレーション時間\n",
    "n_neuron = 10 # ニューロンの数\n",
    "t = np.arange(nt)*dt\n",
    "\n",
    "# ポアソンスパイクの発火率(Hz)\n",
    "fr = np.expand_dims(30*np.sin(10*t)**2, 1)\n",
    "\n",
    "# スパイク記録変数\n",
    "spikes = np.where(np.random.rand(nt, n_neuron) < fr*dt, 1, 0)\n",
    "\n",
    "print(\"Num. of spikes:\", np.sum(spikes))\n",
    "# 描画\n",
    "plt.figure(figsize=(5, 4))\n",
    "plt.subplot(2,1,1)\n",
    "plt.plot(t, fr[:, 0], color=\"k\")\n",
    "plt.ylabel('Firing rate (Hz)') \n",
    "plt.xlim(0, T)\n",
    "\n",
    "plt.subplot(2,1,2)\n",
    "for i in range(n_neuron):    \n",
    "    plt.plot(t, spikes[:, i]*(i+1), 'ko', markersize=2,\n",
    "             rasterized=True)\n",
    "plt.xlabel('Time (s)'); plt.ylabel('Neuron index') \n",
    "plt.xlim(0, T); plt.ylim(0.5, n_neuron+0.5)\n",
    "plt.show()"
   ]
  },
  {
   "cell_type": "markdown",
   "metadata": {},
   "source": [
    "結果は図\\ref{fig:ipp}のようになります。\n",
    "\\begin{figure}[htbp]\n",
    " \\begin{minipage}{0.5\\hsize}\n",
    "  \\begin{center}\n",
    "   \\includegraphics[width=65mm]{figs/inhomogenous_poisson_process.pdf}\n",
    "   \\caption{非定常ポアソン過程による10個のニューロンのスパイクの1秒間のシミュレーション。(上)発火率$\\lambda(t)$の時間変化, (下)ラスタープロット。}"
   ]
  },
  {
   "cell_type": "markdown",
   "metadata": {},
   "source": [
    "## 2.5.2 死時間付きポアソン過程モデル (Poisson process with dead time, PPD)\n",
    "ポアソン過程は簡易的で有用ですが、不応期を考慮していません。そのため、時には生理的範疇を超えたバースト発火が起こる場合もあります。そこで、ポアソン過程において不応期のようなイベントの生起が起こらない\\textbf{死時間(dead time)}\\footnote{例えば、ガイガー・カウンター(Geiger counter)などの放射線の検出器には放射線の到達を機器の物理的特性として検出できない時間(つまり死時間)があります。そのため放射線の到達数がポアソン分布に従うとした場合、放射線測定装置のモデルとしてPPDが用いられます。}\n",
    "を考慮した\\textbf{死時間付きポアソン過程 (Poisson process with dead time, PPD)}というモデルを導入します。\\par\n",
    "実装においてはLIFニューロンの時と同じような不応期の処理をします。つまり、現在が不応期かどうかを判断し、不応期なら発火を許可しないようにします"
   ]
  },
  {
   "cell_type": "code",
   "execution_count": null,
   "metadata": {},
   "outputs": [],
   "source": [
    "np.random.seed(seed=0)\n",
    "dt = 1e-3; T = 1; nt = round(T/dt) # シミュレーション時間\n",
    "n_neurons = 10 # ニューロンの数\n",
    "tref = 5e-3 # 不応期 (s)\n",
    "fr = 30 # ポアソンスパイクの発火率(Hz)\n",
    "spikes = np.zeros((nt, n_neurons)) #スパイク記録変数\n",
    "tlast = np.zeros(n_neurons) # 発火時刻の記録変数\n",
    "for i in range(nt):\n",
    "    s = np.where(np.random.rand(n_neurons) < fr*dt, 1, 0)\n",
    "    spikes[i] = ((dt*i) > (tlast + tref))*s\n",
    "    tlast = tlast*(1-s) + dt*i*s # 発火時刻の更新\n",
    "\n",
    "print(\"Num. of spikes:\", np.sum(spikes))\n",
    "print(\"Firing rate:\", np.sum(spikes)/(n_neurons*T))\n",
    "# 描画\n",
    "t = np.arange(nt)*dt\n",
    "plt.figure(figsize=(5, 4))\n",
    "for i in range(n_neurons):    \n",
    "    plt.plot(t, spikes[:, i]*(i+1), 'ko', markersize=2)\n",
    "plt.xlabel('Time (s)'); plt.ylabel('Neuron index') \n",
    "plt.xlim(0, T); plt.ylim(0.5, n_neurons+0.5)\n",
    "plt.show()"
   ]
  },
  {
   "cell_type": "markdown",
   "metadata": {},
   "source": [
    "## 2.5.3 ガンマ過程モデル\n",
    "ガンマ過程(gamma process)は点の時間間隔がガンマ分布に従うとするモデルです。ガンマ過程はポアソン過程よりも皮質における定常発火への当てはまりが良いとされています(Shinomoto, et al., 2003; Maimon,\\& Assad,2009).\n",
    "\n",
    "時間間隔の確率変数を$T$とした場合、ガンマ分布の確率密度関数は\n",
    "\\begin{equation}\n",
    "f(t;k,\\theta) =  t^{k-1}\\frac{e^{-t/\\theta}}{\\theta^k\\Gamma(k)}\n",
    "\\end{equation}\n",
    "と表されます。ただし、$t > 0$であり、 2つの母数は$k, \\theta > 0$です。また、$\\Gamma (\\cdot)$はガンマ関数であり、\n",
    "\\begin{equation}\n",
    "\\Gamma (k)=\\int _{0}^{\\infty }x^{k-1}e^{-x}\\,dx\n",
    "\\end{equation}\n",
    "と定義されます。ガンマ分布の平均は$k\\theta$ですが、発火率はISIの平均の逆数なので、$\\lambda=1/k\\theta$となります。また、$k=1$のとき、ガンマ分布は指数分布となります。さらに$k$が正整数のとき、ガンマ分布はアーラン分布となります。\\par\n",
    "ガンマ過程モデルの実装はポアソン過程モデルのISIを累積する手法と同様に書くことができ、\\texttt{numpy.random.exponential()}を\\texttt{numpy.random.gamma()}に置き換えるだけです(もちろん多少の修正は必要とします)。また、ガンマ分布の描画にガンマ関数を用いるので、\\texttt{import scipy.special as sps}によりガンマ関数の関数\\texttt{sps.gamma()}を使用できるようにします"
   ]
  },
  {
   "cell_type": "code",
   "execution_count": null,
   "metadata": {},
   "outputs": [],
   "source": [
    "import scipy.special as sps\n",
    "np.random.seed(seed=0)\n",
    "dt = 1e-3; T = 1; nt = round(T/dt) # シミュレーション時間\n",
    "n_neurons = 10 # ニューロンの数\n",
    "fr = 30 # ガンマスパイクの発火率(Hz)\n",
    "k = 12 # k=1のときはポアソン過程に一致\n",
    "theta = 1/(k*(fr*dt)) # fr = 1/(k*theta)\n",
    "isi = np.random.gamma(shape=k, scale=theta,\n",
    "                      size=(round(nt*1.5/fr), n_neurons))\n",
    "spike_time = np.cumsum(isi, axis=0) # ISIを累積\n",
    "spike_time[spike_time > nt - 1] = -1 # ntを超える場合を0に\n",
    "spike_time = spike_time.astype(np.int32) # float to int\n",
    "spikes = np.zeros((nt, n_neurons)) # スパイク記録変数\n",
    "for i in range(n_neurons):    \n",
    "    spikes[spike_time[:, i], i] = 1\n",
    "spikes[0] = 0 # (spike_time=0)の発火を削除\n",
    "print(\"Num. of spikes:\", np.sum(spikes))\n",
    "print(\"Firing rate:\", np.sum(spikes)/(n_neurons*T))\n",
    "\n",
    "# 描画\n",
    "plt.figure(figsize=(5, 5))\n",
    "t = np.arange(nt)*dt\n",
    "plt.subplot(2,1,1)\n",
    "count, bins, ignored = plt.hist(isi.flatten(),\n",
    "                                50, density=True,\n",
    "                                color=\"gray\", alpha=0.5)\n",
    "y = bins**(k-1)*(np.exp(-bins/theta) / (sps.gamma(k)*theta**k))\n",
    "plt.plot(bins, y, linewidth=2, color=\"k\")\n",
    "plt.title('k='+str(k)) \n",
    "plt.xlabel('ISI (ms)') \n",
    "plt.ylabel('Probability density') \n",
    "\n",
    "plt.subplot(2,1,2)\n",
    "for i in range(n_neurons):    \n",
    "    plt.plot(t, spikes[:, i]*(i+1), 'ko', markersize=2)\n",
    "plt.xlabel('Time (s)'); plt.ylabel('Neuron index') \n",
    "plt.xlim(0, T); plt.ylim(0.5, n_neurons+0.5)\n",
    "plt.show()"
   ]
  },
  {
   "cell_type": "markdown",
   "metadata": {},
   "source": [
    "ガンマ過程モデルによる10個のニューロンのスパイクの1秒間のシミュレーション。上段はISIの分布(横軸の単位がmsであることに注意)。下段はラスタープロット。左の$k=1$の場合はポアソン過程モデルと同じです。右は$k=12$とした場合です。}\n",
    "\\label{fig:gamma_process}\n",
    "\\end{figure}\n",
    "なお、前述したようにガンマ過程モデルの方がポアソン過程モデルよりも皮質ニューロンのモデルとしては優れていますが、入力画像のエンコーディングをガンマ過程モデルにすることでSNNの認識精度が向上するかどうかはまだ十分に研究されていません。また、(Deger, et al., 2012)ではPPDやガンマ過程の重ね合わせによるスパイク列を生成するアルゴリズムを考案しています。"
   ]
  }
 ],
 "metadata": {
  "kernelspec": {
   "display_name": "Julia 1.4.0",
   "language": "julia",
   "name": "julia-1.4"
  },
  "language_info": {
   "file_extension": ".jl",
   "mimetype": "application/julia",
   "name": "julia",
   "version": "1.4.0"
  }
 },
 "nbformat": 4,
 "nbformat_minor": 4
}
