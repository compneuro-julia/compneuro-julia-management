{
 "cells": [
  {
   "cell_type": "code",
   "execution_count": 1,
   "id": "0a57e3d5",
   "metadata": {},
   "outputs": [],
   "source": [
    "import numpy as np\n",
    "import scipy as sp\n",
    "from scipy.stats import gamma, multivariate_normal\n",
    "import matplotlib.pylab as plt\n",
    "import sys, os"
   ]
  },
  {
   "cell_type": "markdown",
   "id": "d746408c",
   "metadata": {},
   "source": [
    "random patchesの生成"
   ]
  },
  {
   "cell_type": "code",
   "execution_count": 2,
   "id": "0091977a",
   "metadata": {},
   "outputs": [],
   "source": [
    "# Produces a matrix whose columns are a set of discreete fourier base vectors        \n",
    "def get_fourier_base(m):\n",
    "    base = np.empty([m,m])\n",
    "    L = 2*np.pi/(1.0*m)\n",
    "    \n",
    "    for j in range(m):\n",
    "        f = j//2\n",
    "        if (j%2 == 0):\n",
    "            for i in range(m):\n",
    "                base[j][i] = np.cos(L*f*i)\n",
    "        else:\n",
    "            for i in range(m):\n",
    "                base[j][i] = np.sin(L*f*i)\n",
    "        norm = np.linalg.norm(base[j])\n",
    "        if (norm != 0):\n",
    "            base[j] = base[j]/norm\n",
    "    return base.T"
   ]
  },
  {
   "cell_type": "code",
   "execution_count": 3,
   "id": "8857566c",
   "metadata": {
    "lines_to_next_cell": 1
   },
   "outputs": [],
   "source": [
    "# Create an input covariance C with the right symmetry\n",
    "# from the fourier base\n",
    "def get_C_from_fourier(epsilon,base, decay_length):\n",
    "    m = len(base)\n",
    "    C = epsilon * np.identity(m) # Regularizer\n",
    "    for i in range(m):\n",
    "        v = base[:,i]\n",
    "        lbda = 20*np.exp(-(1.0*(i//2))/decay_length)\n",
    "        C = np.add(C,lbda*np.outer(v,v))\n",
    "    C = C - 0.25    \n",
    "    C =  C * (4.0/C[0,0])\n",
    "    return C    "
   ]
  },
  {
   "cell_type": "markdown",
   "id": "1ce52781",
   "metadata": {},
   "source": [
    "Get x from y and z"
   ]
  },
  {
   "cell_type": "code",
   "execution_count": 4,
   "id": "48743c09",
   "metadata": {
    "lines_to_next_cell": 1
   },
   "outputs": [],
   "source": [
    "def get_x(y,z,A,s_x):\n",
    "    x_mean = z*np.dot(A,y)\n",
    "    noise = np.random.normal(scale=s_x, size=len(x_mean))\n",
    "    return np.add(x_mean,noise)"
   ]
  },
  {
   "cell_type": "markdown",
   "id": "676183be",
   "metadata": {},
   "source": [
    "Functions to compute mean and covariance of the posterior"
   ]
  },
  {
   "cell_type": "code",
   "execution_count": 5,
   "id": "35ca4f49",
   "metadata": {
    "lines_to_next_cell": 1
   },
   "outputs": [],
   "source": [
    "def get_post_moments(x,z_MAP,s_x_2,A,ATA,C_inv):\n",
    "    Sigma = get_Sigma_z(z_MAP,s_x_2,C_inv,ATA)\n",
    "    mu = get_mu_z(z_MAP,s_x_2,Sigma,A,x)\n",
    "    return (mu, Sigma) "
   ]
  },
  {
   "cell_type": "code",
   "execution_count": 6,
   "id": "949144aa",
   "metadata": {
    "lines_to_next_cell": 1
   },
   "outputs": [],
   "source": [
    "def get_mu_z(z,s_x_2,Sigma_post,A,x):\n",
    "    mu = (z/s_x_2)*np.dot(Sigma_post,np.dot(A.T,x))\n",
    "    return mu "
   ]
  },
  {
   "cell_type": "code",
   "execution_count": 7,
   "id": "5a746ed8",
   "metadata": {
    "lines_to_next_cell": 1
   },
   "outputs": [],
   "source": [
    "def get_Sigma_z(z,s_x_2,C_inv,ATA):\n",
    "    M = np.add(C_inv,(z*z/s_x_2)*ATA)\n",
    "    return np.linalg.inv(M)"
   ]
  },
  {
   "cell_type": "code",
   "execution_count": 8,
   "id": "9f00a89c",
   "metadata": {
    "lines_to_next_cell": 1
   },
   "outputs": [],
   "source": [
    "def get_post_moments_full_inference(x,p_z,s_x_2,A,ATA,C_inv):\n",
    "    threshold = 10000.0\n",
    "    dy = len(C_inv)\n",
    "    n_points = len(p_z[0])\n",
    "    mu_post = np.zeros(dy)\n",
    "    Sigma_post = np.zeros((dy,dy))\n",
    "    i_p_max = np.argmax(p_z[1])\n",
    "    p_max = p_z[1,i_p_max]\n",
    "    i_min = 0\n",
    "    dz = p_z[0,1] - p_z[0,0]\n",
    "    for i in range(i_p_max,-1,-1):\n",
    "        if (p_z[1,i] <= (p_max/threshold)):\n",
    "            i_min = i\n",
    "            break\n",
    "    i_max = n_points\n",
    "    for i in range(i_p_max,n_points):\n",
    "        if (p_z[1,i] <= (p_max/threshold)):\n",
    "            i_max = i\n",
    "            break\n",
    "            \n",
    "    for i in range(i_min,i_max):\n",
    "        z = p_z[0,i]\n",
    "        Sigma = get_Sigma_z(z,s_x_2,C_inv,ATA)\n",
    "        mu = get_mu_z(z,s_x_2,Sigma,A,x)\n",
    "        mu_post += (mu * p_z[1,i])\n",
    "        # E[Var]_z + Var(mu)_z\n",
    "        Sigma_post += ((Sigma + np.outer(mu,mu))* p_z[1,i])\n",
    "    \n",
    "    mu_post *= dz\n",
    "    Sigma_post *= dz        \n",
    "    # Substracting E(mu)E(mu)T\n",
    "    Sigma_post -= np.outer(mu_post, mu_post)\n",
    "    return (mu_post, Sigma_post) "
   ]
  },
  {
   "cell_type": "code",
   "execution_count": 9,
   "id": "f7b2e37e",
   "metadata": {
    "lines_to_next_cell": 1
   },
   "outputs": [],
   "source": [
    "def log_P_z (z, k, theta):\n",
    "    return sp.stats.gamma.logpdf(z, k, loc=0, scale=theta)"
   ]
  },
  {
   "cell_type": "code",
   "execution_count": 10,
   "id": "912a59ef",
   "metadata": {
    "lines_to_next_cell": 1
   },
   "outputs": [],
   "source": [
    "def P_z_giv_x (z_range,x,ACAT,s_x_2, k, theta):\n",
    "    n_contrasts = len(z_range)\n",
    "    D_x = len(x)\n",
    "    log_p = np.empty([n_contrasts])\n",
    "    mean = np.zeros([D_x])\n",
    "    dz = z_range[1] - z_range[0]\n",
    "    for i in range(n_contrasts):\n",
    "        Cov = np.add(z_range[i]*z_range[i]*ACAT,s_x_2*np.identity(D_x))\n",
    "        log_p[i] = log_P_z(z_range[i], k, theta) + multivariate_normal.logpdf(x, mean, Cov)\n",
    "    \n",
    "    max_lp = np.amax(log_p)\n",
    "    p = np.exp(log_p-max_lp)\n",
    "    norm = np.sum(p) * dz\n",
    "    p = p/norm\n",
    "    \n",
    "    return p   "
   ]
  },
  {
   "cell_type": "markdown",
   "id": "b4fc2014",
   "metadata": {},
   "source": [
    "## Main"
   ]
  },
  {
   "cell_type": "code",
   "execution_count": 11,
   "id": "fd02dd69",
   "metadata": {},
   "outputs": [],
   "source": [
    "baseline = 3.0 # We add this to the means only in the targets folder\n",
    "input_case = \"sampled\" # \"bumps\" #\n",
    "np.random.seed(seed=912345678)\n",
    "\n",
    "x_noise = False # True # If true we add noise to x\n",
    "FILTER_FILE = \"filters.npy\""
   ]
  },
  {
   "cell_type": "code",
   "execution_count": 12,
   "id": "1d2d13b0",
   "metadata": {},
   "outputs": [],
   "source": [
    "# We first import the filters, since this determines the dimensionality\n",
    "A = np.load(FILTER_FILE)\n",
    "ATA = np.dot(A.T,A)\n",
    "\n",
    "\n",
    "D_x = len(A)              # Dimensionality of the observed variable x\n",
    "D_y = len(A[0])           # Dimensionality of the hidden variable y\n",
    "L = int(np.sqrt(D_x))          # Side length of the square image represented by x\n",
    "\n",
    "h_scale = 1.0/15.0\n",
    "\n",
    "# We create the basis matrix B\n",
    "B = get_fourier_base(D_y)\n",
    "\n",
    "# We build C from B\n",
    "decay_length = D_y / 50.0 # for the eigenvalues of C\n",
    "epsilon = 0.01 # regularizer for C\n",
    "C = get_C_from_fourier(epsilon,B, decay_length)\n",
    "\n",
    "d = 0.0 * np.sqrt(C[0,0]) # average mean of y in units of sd's \n",
    "\n",
    "ACAT = np.dot(np.dot(A,C),A.T)\n",
    "\n",
    "# We generate the dataset\n",
    "\n",
    "n_targets = 6            # N° of points in the dataset (or total observation time)\n",
    "\n",
    "# Dist params:\n",
    "s_x = 10.0                # Noise of the x process\n",
    "s_x_2 = s_x**2\n",
    "k = 2.0                   # Shape parameter of the gamma dist. for z\n",
    "theta = 2.0               # Scale parameter of the gamma dist. for z\n",
    "\n",
    "# Mean and covariance of y:\n",
    "y_mean = np.zeros(D_y)            # The mean is 0 for y\n",
    "\n",
    "# We will need the inverse of C\n",
    "C_inv = np.linalg.inv(C)"
   ]
  },
  {
   "cell_type": "code",
   "execution_count": 13,
   "id": "7ba2ed84",
   "metadata": {},
   "outputs": [],
   "source": [
    "np.save(\"C.npy\", C)"
   ]
  },
  {
   "cell_type": "code",
   "execution_count": 14,
   "id": "e9b8b41a",
   "metadata": {},
   "outputs": [
    {
     "data": {
      "text/plain": [
       "<matplotlib.image.AxesImage at 0x1bc97ecc700>"
      ]
     },
     "execution_count": 14,
     "metadata": {},
     "output_type": "execute_result"
    },
    {
     "data": {
      "image/png": "[encoded data removed]",
      "text/plain": [
       "<Figure size 432x288 with 1 Axes>"
      ]
     },
     "metadata": {
      "needs_background": "light"
     },
     "output_type": "display_data"
    }
   ],
   "source": [
    "plt.imshow(C)"
   ]
  },
  {
   "cell_type": "code",
   "execution_count": 15,
   "id": "c61fecf4",
   "metadata": {},
   "outputs": [
    {
     "data": {
      "text/plain": [
       "(4.000000000000002, -0.41659256930137645)"
      ]
     },
     "execution_count": 15,
     "metadata": {},
     "output_type": "execute_result"
    }
   ],
   "source": [
    "C.max(), C.min()"
   ]
  },
  {
   "cell_type": "code",
   "execution_count": 16,
   "id": "9eda87e9",
   "metadata": {},
   "outputs": [
    {
     "name": "stdout",
     "output_type": "stream",
     "text": [
      "[0.    0.125 0.25  0.5   1.    2.   ]\n",
      "Sampling y\n",
      "Obtaining x from y (without noise)\n"
     ]
    }
   ],
   "source": [
    "x_array = np.empty([n_targets,D_x])\n",
    "\n",
    "# Drawing samples for y and setting contrast levels (we fix those)\n",
    "y_array = np.empty([n_targets,D_y])\n",
    "#z_array = np.random.gamma(shape = k, scale=theta, size = n_targets)\n",
    "\n",
    "#if input_case == \"sampled\": z_array = np.array([0.0,0.0,0.5,0.5,1.0,1.0])\n",
    "z_array = np.array([0.0,0.125,0.25,0.5,1.0,2.0])\n",
    "print(z_array)\n",
    "#np.savetxt(results_location+\"/z_array\",z_array)\n",
    "\n",
    "if input_case == \"sampled\":\n",
    "    print(\"Sampling y\")\n",
    "    # P(y) = N(0, C)\n",
    "    a = np.random.multivariate_normal(mean = y_mean + d, cov = C, size = 1) \n",
    "    for alpha in range(n_targets):\n",
    "        y_array[alpha] = a\n",
    "\n",
    "elif input_case == \"bumps\":\n",
    "    center = D_y//2\n",
    "    sigma = 0.15*D_y\n",
    "    print(\"Creating y bumps\")\n",
    "    for i in range(D_y):\n",
    "        y_array[0,i] = 6*np.exp(-0.5*((i-center)/sigma)**2.0)\n",
    "\n",
    "    y_array[0] -= np.mean(y_array[0])\n",
    "    y_array[0] *= (np.sqrt(C[0,0])/np.std(y_array[0]))\n",
    "    y_array[0] += d\n",
    "    for alpha in range(n_targets):\n",
    "        y_array[alpha] = y_array[0] # same\n",
    "\n",
    "else:\n",
    "    print(\"Unknown input case!\")\n",
    "    sys.exit()\n",
    "\n",
    "# We now get the x samples\n",
    "if x_noise:\n",
    "    print(\"Obtaining x from y (with noise)\")\n",
    "    for alpha in range(n_targets):\n",
    "        x_array[alpha] = get_x(y_array[alpha],z_array[alpha],A,s_x)\n",
    "else:\n",
    "    print(\"Obtaining x from y (without noise)\")\n",
    "    for alpha in range(n_targets):\n",
    "        x_array[alpha] = z_array[alpha]*np.dot(A,y_array[alpha])\n",
    "\n",
    "scale = np.amax(np.abs(x_array))"
   ]
  },
  {
   "cell_type": "code",
   "execution_count": 17,
   "id": "dff15626",
   "metadata": {},
   "outputs": [
    {
     "data": {
      "text/plain": [
       "-1.8546026919783856"
      ]
     },
     "execution_count": 17,
     "metadata": {},
     "output_type": "execute_result"
    }
   ],
   "source": [
    "y_array.min()"
   ]
  },
  {
   "cell_type": "code",
   "execution_count": 18,
   "id": "15e359a9",
   "metadata": {},
   "outputs": [
    {
     "data": {
      "text/plain": [
       "2.0420427595497816"
      ]
     },
     "execution_count": 18,
     "metadata": {},
     "output_type": "execute_result"
    }
   ],
   "source": [
    "y_array.max()"
   ]
  },
  {
   "cell_type": "code",
   "execution_count": 19,
   "id": "bfdcefe0",
   "metadata": {},
   "outputs": [
    {
     "name": "stdout",
     "output_type": "stream",
     "text": [
      "Computing posterior moments\n",
      "Target 0\n",
      "Target 1\n",
      "Target 2\n",
      "Target 3\n",
      "Target 4\n",
      "Target 5\n"
     ]
    }
   ],
   "source": [
    "# We compute the moments of the posteriors\n",
    "\"\"\"\n",
    "mu_post_array_true_z = np.empty([n_targets,D_y])\n",
    "Sigma_post_array_true_z = np.empty([n_targets,D_y,D_y])\n",
    "std_post_array_true_z = np.empty([n_targets,D_y])\n",
    "\"\"\"\n",
    "\n",
    "mu_post_array_z_MAP = np.empty([n_targets,D_y])\n",
    "Sigma_post_array_z_MAP = np.empty([n_targets,D_y,D_y])\n",
    "std_post_array_z_MAP = np.empty([n_targets,D_y])\n",
    "\n",
    "\"\"\"\n",
    "mu_post_array_full_inf = np.empty([n_targets,D_y])\n",
    "Sigma_post_array_full_inf = np.empty([n_targets,D_y,D_y])\n",
    "std_post_array_full_inf = np.empty([n_targets,D_y])\n",
    "\"\"\"\n",
    "\n",
    "z_min = 0.0\n",
    "z_max = 5.0\n",
    "n_points = 201\n",
    "z_range = np.linspace(z_min, z_max, num=n_points, endpoint=True)\n",
    "\n",
    "z_MAP_array = np.empty([n_targets])\n",
    "\n",
    "print(\"Computing posterior moments\")\n",
    "\n",
    "for alpha in range(n_targets):\n",
    "    print(\"Target \"+str(alpha))\n",
    "    p_z = P_z_giv_x(z_range,x_array[alpha],ACAT,s_x_2, k, theta)\n",
    "\n",
    "    # Moments at MAP contrast\n",
    "    z_MAP_array[alpha] = z_range[np.argmax(p_z)]\n",
    "    mu_post_array_z_MAP[alpha],Sigma_post_array_z_MAP[alpha] = get_post_moments(\n",
    "                                            x_array[alpha],z_MAP_array[alpha],s_x_2,A,ATA,C_inv)\n",
    "    std_post_array_z_MAP[alpha] = np.sqrt(np.diag(Sigma_post_array_z_MAP[alpha]))\n",
    "\n",
    "    # Full inference \n",
    "    \"\"\"\n",
    "    mu_post_array_full_inf[alpha],Sigma_post_array_full_inf[alpha] = get_post_moments_full_inference(x_array[alpha],p_z,s_x_2,A,ATA,C_inv)\n",
    "\n",
    "    std_post_array_full_inf[alpha] = np.sqrt(np.diag(Sigma_post_array_full_inf[alpha]))\n",
    "    \"\"\""
   ]
  },
  {
   "cell_type": "markdown",
   "id": "f552b8a0",
   "metadata": {},
   "source": [
    "## 結果\n",
    "#### 入力\n",
    "\n",
    "`z_array`が入力作成時に使われたもの．"
   ]
  },
  {
   "cell_type": "code",
   "execution_count": 20,
   "id": "c054a5bd",
   "metadata": {},
   "outputs": [],
   "source": [
    "x_min, x_max = x_array.min(), x_array.max()"
   ]
  },
  {
   "cell_type": "code",
   "execution_count": 21,
   "id": "3d5494b8",
   "metadata": {},
   "outputs": [
    {
     "data": {
      "text/plain": [
       "(-11.033795899347764, 11.77745511081183)"
      ]
     },
     "execution_count": 21,
     "metadata": {},
     "output_type": "execute_result"
    }
   ],
   "source": [
    "x_min, x_max "
   ]
  },
  {
   "cell_type": "code",
   "execution_count": 22,
   "id": "eb4db324",
   "metadata": {},
   "outputs": [],
   "source": [
    "np.save(\"x_array.npy\", x_array)"
   ]
  },
  {
   "cell_type": "code",
   "execution_count": 23,
   "id": "f870f752",
   "metadata": {},
   "outputs": [
    {
     "data": {
      "image/png": "[encoded data removed]",
      "text/plain": [
       "<Figure size 576x144 with 6 Axes>"
      ]
     },
     "metadata": {
      "needs_background": "light"
     },
     "output_type": "display_data"
    }
   ],
   "source": [
    "plt.figure(figsize=(8,2))\n",
    "for alpha in range(n_targets):\n",
    "    plt.subplot(1, n_targets ,alpha+1)\n",
    "    plt.title(\"z: \"+str(z_array[alpha]))\n",
    "    plt.imshow(x_array[alpha].reshape(16, 16), \n",
    "               vmin=x_min, vmax=x_max, cmap=\"gray\")\n",
    "plt.tight_layout()"
   ]
  },
  {
   "cell_type": "markdown",
   "id": "521bf6d2",
   "metadata": {},
   "source": [
    "#### mu, std"
   ]
  },
  {
   "cell_type": "code",
   "execution_count": 24,
   "id": "9219a0b5",
   "metadata": {},
   "outputs": [
    {
     "data": {
      "image/png": "[encoded data removed]",
      "text/plain": [
       "<Figure size 432x216 with 2 Axes>"
      ]
     },
     "metadata": {
      "needs_background": "light"
     },
     "output_type": "display_data"
    }
   ],
   "source": [
    "plt.figure(figsize=(6,3))\n",
    "plt.subplot(1,2,1)\n",
    "for i in range(n_targets):\n",
    "    plt.plot(mu_post_array_z_MAP[i])\n",
    "\n",
    "plt.subplot(1,2,2)\n",
    "for i in range(n_targets):\n",
    "    plt.plot(std_post_array_z_MAP[i])\n",
    "plt.tight_layout()"
   ]
  },
  {
   "cell_type": "markdown",
   "id": "115a9884",
   "metadata": {},
   "source": [
    "#### Sigma"
   ]
  },
  {
   "cell_type": "code",
   "execution_count": 25,
   "id": "d9dcb51a",
   "metadata": {},
   "outputs": [
    {
     "data": {
      "image/png": "[encoded data removed]",
      "text/plain": [
       "<Figure size 576x144 with 6 Axes>"
      ]
     },
     "metadata": {
      "needs_background": "light"
     },
     "output_type": "display_data"
    }
   ],
   "source": [
    "plt.figure(figsize=(8,2))\n",
    "for alpha in range(n_targets):\n",
    "    plt.subplot(1,n_targets,alpha+1)\n",
    "    plt.title(\"z: \"+str(z_array[alpha]))\n",
    "    plt.imshow(Sigma_post_array_z_MAP[alpha],\n",
    "               vmin=-1, vmax=1,cmap=\"bwr\")\n",
    "plt.tight_layout()"
   ]
  },
  {
   "cell_type": "code",
   "execution_count": 26,
   "id": "5f545281",
   "metadata": {
    "scrolled": true
   },
   "outputs": [
    {
     "data": {
      "image/png": "[encoded data removed]",
      "text/plain": [
       "<Figure size 432x216 with 1 Axes>"
      ]
     },
     "metadata": {
      "needs_background": "light"
     },
     "output_type": "display_data"
    }
   ],
   "source": [
    "plt.figure(figsize=(6,3))\n",
    "for i in range(n_targets):\n",
    "    plt.plot(y_array[i])"
   ]
  },
  {
   "cell_type": "markdown",
   "id": "5d8b6401",
   "metadata": {},
   "source": [
    "### output"
   ]
  },
  {
   "cell_type": "code",
   "execution_count": 27,
   "id": "4f4ea8e5",
   "metadata": {},
   "outputs": [
    {
     "data": {
      "text/plain": [
       "'\\nuTh = 1.9\\nthGam = 2\\nsigmaX = 0.7945\\nm = 10\\nalpha = 1.4\\nbeta = 1.1\\n'"
      ]
     },
     "execution_count": 27,
     "metadata": {},
     "output_type": "execute_result"
    }
   ],
   "source": [
    "\"\"\"\n",
    "uTh = 1.9\n",
    "thGam = 2\n",
    "sigmaX = 0.7945\n",
    "m = 10\n",
    "alpha = 1.4\n",
    "beta = 1.1\n",
    "\"\"\""
   ]
  },
  {
   "cell_type": "code",
   "execution_count": 28,
   "id": "7ca02e32",
   "metadata": {},
   "outputs": [],
   "source": [
    "def membrane_potential(y, alpha=1.4):\n",
    "    return np.sign(y)*np.abs(y)**alpha"
   ]
  },
  {
   "cell_type": "code",
   "execution_count": 29,
   "id": "001b0698",
   "metadata": {},
   "outputs": [],
   "source": [
    "def firing_rate(u, beta=1.1, m=10, uTh=1.9):\n",
    "    return m*np.maximum(0, u-uTh)**beta"
   ]
  },
  {
   "cell_type": "code",
   "execution_count": 30,
   "id": "343708c8",
   "metadata": {},
   "outputs": [],
   "source": [
    "nt = 500\n",
    "u_list = []\n",
    "for alpha in range(n_targets):\n",
    "    mu = mu_post_array_z_MAP[alpha]\n",
    "    Sigma = Sigma_post_array_z_MAP[alpha]\n",
    "    sample = np.random.multivariate_normal(mean=mu, cov=Sigma, size=nt)\n",
    "    u = membrane_potential(sample)\n",
    "    u_list.append(u)"
   ]
  },
  {
   "cell_type": "code",
   "execution_count": 34,
   "id": "63c2635e",
   "metadata": {},
   "outputs": [
    {
     "data": {
      "image/png": "[encoded data removed]",
      "text/plain": [
       "<Figure size 360x288 with 6 Axes>"
      ]
     },
     "metadata": {
      "needs_background": "light"
     },
     "output_type": "display_data"
    }
   ],
   "source": [
    "fig, ax = plt.subplots(2, 3, figsize=(5, 4), sharex=\"all\", sharey=\"all\")#, dpi=300)\n",
    "for i in range(2):\n",
    "    for j in range(3):\n",
    "        alpha = i*3 + j\n",
    "        u = u_list[alpha]\n",
    "        ax[i, j].set_title(\"z: \"+str(z_array[alpha]))\n",
    "        ax[i, j].scatter(u[:, 0], u[:, 5], alpha=0.5, s=5)\n",
    "        ax[i, j].scatter(u[:, 0].mean(), u[:, 5].mean())\n",
    "        ax[i, j].set_xlim(-10,10)\n",
    "        ax[i, j].set_ylim(-10,10)\n",
    "fig.supxlabel(\"Neuron #1\")\n",
    "fig.supylabel(\"Neuron #2\")\n",
    "plt.tight_layout()"
   ]
  }
 ],
 "metadata": {
  "jupytext": {
   "cell_metadata_filter": "-all",
   "encoding": "# -*- coding: utf-8 -*-",
   "main_language": "python",
   "notebook_metadata_filter": "-all",
   "text_representation": {
    "extension": ".py",
    "format_name": "light"
   }
  },
  "kernelspec": {
   "display_name": "Python 3",
   "language": "python",
   "name": "python3"
  },
  "language_info": {
   "codemirror_mode": {
    "name": "ipython",
    "version": 3
   },
   "file_extension": ".py",
   "mimetype": "text/x-python",
   "name": "python",
   "nbconvert_exporter": "python",
   "pygments_lexer": "ipython3",
   "version": "3.9.1"
  }
 },
 "nbformat": 4,
 "nbformat_minor": 5
}
