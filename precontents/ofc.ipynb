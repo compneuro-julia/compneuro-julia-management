{
 "cells": [
  {
   "cell_type": "markdown",
   "metadata": {},
   "source": [
    "# 最適フィードバック制御モデル (optimal feedback control; OFC)"
   ]
  },
  {
   "cell_type": "markdown",
   "metadata": {},
   "source": [
    "## 最適フィードバック制御モデルの構造\n",
    "> Todorov, E. (2005) Stochastic optimal control and estimation methods adapted to the noise characteristics of the sensorimotor system. *Neural Computation* 17(5): 1084-1108\n",
    "\n",
    "本節はTodorovの[MATLABコード](https://homes.cs.washington.edu/~todorov/software/gLQG.zip)を元にしている (現状ほぼJuliaへの単なる移植であることを明言しておく)．\n",
    "\n",
    "**最適フィードバック制御モデル(optimal feedback control; OFC)** の特徴として目標軌道を必要としないことが挙げられる．**Kalman フィルタ**による状態推定と**線形2次レギュレーター(LQR: linear-quadratic regurator)** により推定された状態に基づいて運動指令を生成という2つの流れが基本となる．"
   ]
  },
  {
   "cell_type": "markdown",
   "metadata": {},
   "source": [
    "### 系の状態変化\n",
    "\n",
    "$$\n",
    "\\begin{aligned}\n",
    "&\\text {Dynamics} \\quad \\mathbf{x}_{t+1}=A \\mathbf{x}_{t}+B \\mathbf{u}_{t}+\\boldsymbol{\\xi}_{t}+\\sum_{i=1}^{c} \\varepsilon_{t}^{i} C_{i} \\mathbf{u}_{t}\\\\\n",
    "&\\text {Feedback} \\quad \\mathbf{y}_{t}=H \\mathbf{x}_{t}+\\omega_{t}+\\sum_{i=1}^{d} \\epsilon_{t}^{i} D_{i} \\mathbf{x}_{t}\\\\\n",
    "&\\text{Cost per step}\\quad \\mathbf{x}_{t}^\\top Q_{t} \\mathbf{x}_{t}+\\mathbf{u}_{t}^\\top R \\mathbf{u}_{t}\n",
    "\\end{aligned}\n",
    "$$\n",
    "\n",
    "### LQG\n",
    "加法ノイズしかない場合($C=D=0$)，制御問題は**線形2次ガウシアン(LQG: linear-quadratic-Gaussian)制御**と呼ばれる．\n",
    "\n",
    "\n",
    "#### 運動制御 (Linear-Quadratic Regulator)\n",
    "\n",
    "$$\n",
    "\\begin{align}\n",
    "\\mathbf{u}_{t}&=-L_{t} \\widehat{\\mathbf{x}}_{t}\\\\\n",
    "L_{t}&=\\left(R+B^{\\top} S_{t+1} B\\right)^{-1} B^{\\top} S_{t+1} A\\\\\n",
    "S_{t}&=Q_{t}+A^{\\top} S_{t+1}\\left(A-B L_{t}\\right)\\\\\n",
    "\\end{align}\n",
    "$$\n",
    "\n",
    "#### 状態推定 (Kalman Filter)\n",
    "\n",
    "$$\n",
    "\\begin{align}\n",
    "\\widehat{\\mathbf{x}}_{t+1}&=A \\widehat{\\mathbf{x}}_{t}+B \\mathbf{u}_{t}+K_{t}\\left(\\mathbf{y}_{t}-H \\widehat{\\mathbf{x}}_{t}\\right)+\\boldsymbol{\\eta}_{t} \\\\ \n",
    "K_{t}&=A \\Sigma_{t} H^{\\top}\\left(H \\Sigma_{t} H^{\\top}+\\Omega^{\\omega}\\right)^{-1} \\\\ \n",
    "\\Sigma_{t+1}&=\\Omega^{\\xi}+\\left(A-K_{t} H\\right) \\Sigma_{t} A^{\\top}\n",
    "\\end{align}\n",
    "$$\n",
    "\n",
    "この場合に限り，運動制御と状態推定を独立させることができる．"
   ]
  },
  {
   "cell_type": "markdown",
   "metadata": {},
   "source": [
    "### 一般化LQG\n",
    "状態および制御依存ノイズがある場合，"
   ]
  },
  {
   "cell_type": "markdown",
   "metadata": {},
   "source": [
    "## 実装\n",
    "ライブラリの読み込みと関数の定義．"
   ]
  },
  {
   "cell_type": "code",
   "execution_count": 1,
   "metadata": {},
   "outputs": [],
   "source": [
    "using Base: @kwdef\n",
    "using Parameters: @unpack\n",
    "using LinearAlgebra, Kronecker, Random, BlockDiagonals, PyPlot\n",
    "rc(\"axes.spines\", top=false, right=false)\n",
    "rc(\"font\", family=\"Arial\") "
   ]
  },
  {
   "cell_type": "code",
   "execution_count": 5,
   "metadata": {},
   "outputs": [
    {
     "data": {
      "text/plain": [
       "SaccadeModelParameter"
      ]
     },
     "execution_count": 5,
     "metadata": {},
     "output_type": "execute_result"
    }
   ],
   "source": [
    "@kwdef struct SaccadeModelParameter\n",
    "    n = 4 # number of dims\n",
    "    p = 3 # \n",
    "    i = 0.25 # kgm^2, \n",
    "    b = 0.2 # kgm^2/s\n",
    "    ta = 0.03 # s\n",
    "    te = 0.04 # s\n",
    "    L0 = 0.35 # m\n",
    "\n",
    "    bu = 1 / (ta * te * i)\n",
    "    α1 = bu * b\n",
    "    α2 = 1/(ta * te) + (1/ta + 1/te) * b/i\n",
    "    α3 = b/i + 1/ta + 1/te\n",
    "\n",
    "    A = [zeros(p) I(p); -[0, α1, α2, α3]']\n",
    "    B = [zeros(p); bu]\n",
    "    C = [I(p) zeros(p)]\n",
    "    D = Diagonal([1e-3, 1e-2, 5e-2])\n",
    "\n",
    "    Y = 0.02 * B\n",
    "    G = 0.03 * I(n)\n",
    "\n",
    "    Q = Diagonal([1.0, 0.01, 0, 0]) \n",
    "    R = 0.0001\n",
    "    U = Diagonal([1.0, 0.1, 0.01, 0])\n",
    "end"
   ]
  },
  {
   "cell_type": "code",
   "execution_count": 6,
   "metadata": {},
   "outputs": [],
   "source": [
    "param = SaccadeModelParameter();\n",
    "#L, K = infinite_horizon_ofc(param);"
   ]
  },
  {
   "cell_type": "markdown",
   "metadata": {},
   "source": [
    "### シミュレーション"
   ]
  },
  {
   "cell_type": "markdown",
   "metadata": {},
   "source": [
    "H -> Cに置き換え\n",
    "$\\boldsymbol{S}_{T}=Q$"
   ]
  },
  {
   "cell_type": "markdown",
   "metadata": {},
   "source": [
    "信号依存ノイズ Yが入っている場合はどうすべきか．LQGとは異なってくるので導出必要．xiのノイズがappendixの式になし．"
   ]
  },
  {
   "cell_type": "markdown",
   "metadata": {},
   "source": [
    "$$\n",
    "\\begin{aligned}\n",
    "&\\mathbf{u}_{t}=-L_{t} \\hat{\\mathbf{x}}_{t} \\\\\n",
    "&L_{t}=\\left(B^\\top S_{t+1}^{\\mathbf{x}} B+R+\\sum_{n} C_{n}^\\top\\left(S_{t+1}^{\\mathbf{x}}+S_{t+1}^{\\mathrm{e}}\\right) C_{n}\\right)^{-1} B^\\top S_{t+1}^{\\mathbf{x}} A \\\\\n",
    "&S_{t}^{\\mathbf{x}}=Q_{t}+A^\\top S_{t+1}^{\\mathbf{x}}\\left(A-B L_{t}\\right) ; \\quad S_{T}^{\\mathbf{x}}=Q_{T} \\\\\n",
    "&S_{t}^{\\mathrm{e}}=A^\\top S_{t+1}^{\\mathbf{x}} B L_t+\\left(A-K_{t} H\\right)^\\top S_{t+1}^{\\mathrm{e}}\\left(A-K_{t} H\\right) ; \\quad S_{T}^{\\mathrm{e}}=0\n",
    "\\end{aligned}\n",
    "$$"
   ]
  },
  {
   "cell_type": "markdown",
   "metadata": {},
   "source": [
    "$$\n",
    "\\begin{aligned}\n",
    "\\hat{\\mathbf{x}}_{t+1} &=A \\hat{\\mathbf{x}}_{t}+B \\mathbf{u}_{t}+K_{t}\\left(\\mathbf{y}_{t}-H \\hat{\\mathbf{x}}_{t}\\right) \\\\\n",
    "K_{t} &=A \\Sigma_{t}^{\\mathrm{e}} H^\\top\\left(H \\Sigma_{t}^{\\mathrm{e}} H^\\top+\\Omega^{\\omega}\\right)^{-1} \\\\\n",
    "\\Sigma_{t+1}^{\\mathrm{e}} &=\\left(A-K_{t} H\\right) \\Sigma_{t}^{\\mathrm{e}} A^\\top+\\sum_{n} C_{n} L_{t} \\Sigma_{t}^{\\hat{x}} L_{t}^\\top C_{n}^\\top ; \\quad \\Sigma_{1}^{\\mathrm{e}}=\\Sigma_{1} \\\\\n",
    "\\Sigma_{t+1}^{\\hat{\\mathbf{x}}} &=K_{t} H \\Sigma_{t}^{\\mathrm{e}} A^\\top+\\left(A-B L_{t}\\right) \\Sigma_{t}^{\\hat{\\mathbf{x}}}\\left(A-B L_{t}\\right)^\\top ; \\quad \\Sigma_{1}^{\\hat{\\mathbf{x}}}=\\hat{\\mathbf{x}}_{1} \\hat{\\mathbf{x}}_{1}^\\top\n",
    "\\end{aligned}\n",
    "$$"
   ]
  },
  {
   "cell_type": "code",
   "execution_count": 7,
   "metadata": {},
   "outputs": [],
   "source": [
    "@unpack n, p, A, B, C, D, Y, G, Q, R, U = param;"
   ]
  },
  {
   "cell_type": "code",
   "execution_count": 8,
   "metadata": {},
   "outputs": [
    {
     "data": {
      "text/plain": [
       "4-element Vector{Float64}:\n",
       "  0.0\n",
       "  0.0\n",
       "  0.0\n",
       " 66.66666666666667"
      ]
     },
     "execution_count": 8,
     "metadata": {},
     "output_type": "execute_result"
    }
   ],
   "source": [
    "Y"
   ]
  },
  {
   "cell_type": "code",
   "execution_count": 13,
   "metadata": {},
   "outputs": [
    {
     "data": {
      "text/plain": [
       "1"
      ]
     },
     "execution_count": 13,
     "metadata": {},
     "output_type": "execute_result"
    }
   ],
   "source": [
    "Sˣ = 1\n",
    "Sᵉ = 1\n",
    "Σˣ̂ = 1 # \\Sigma TAB \\^x TAB \\hat TAB\n",
    "Σᵉ = 1"
   ]
  },
  {
   "cell_type": "code",
   "execution_count": null,
   "metadata": {},
   "outputs": [],
   "source": [
    "Sˣᵉ = "
   ]
  },
  {
   "cell_type": "code",
   "execution_count": null,
   "metadata": {},
   "outputs": [],
   "source": [
    "L = zeros(nt-1, n) # Feedback gains\n",
    "K = zeros(nt-1, n, p) # Kalman gains\n",
    "Sˣ = zeros(nt, n, n)\n",
    "Sᵉ = zeros(nt, n, n)\n",
    "Σˣ̂ = zeros(nt, n, n) # \\Sigma TAB \\^x TAB \\hat TAB\n",
    "Σᵉ = zeros(nt, n, n)\n",
    "\n",
    "S[end, :, :] = Q\n",
    "for t in nt-1:-1:1\n",
    "    L[t, :] = (R + B' * S[t+1, :, :] * B + (Sˣ[t+1, :, :] + Sᵉ[t+1, :, :])) \\ B' * S[t+1, :, :] * A\n",
    "    AmKC = A - K[t, :, :] * C\n",
    "    AmBL = A - B * L[t, :]'\n",
    "    Sˣ[t, :, :] = Q + A' * Sˣ[t+1, :, :] * AmBL\n",
    "    Sᵉ[t, :, :] = A' * Sˣ[t+1, :, :] * B * L[t, :] + AmKC' * Sᵉ[t+1, :, :] * AmKC\n",
    "end\n",
    "\n",
    "for t in 1:nt-1\n",
    "    K[t, :, :] = A * Σᵉ[t, :, :] * C' / (C * Σᵉ[t, :, :] * C' + D)\n",
    "    AmKC = A - K[t, :, :] * C\n",
    "    AmBL = A - B * L[t, :]'\n",
    "    Σᵉ[t+1, :, :] = G + AmKC * Σᵉ[t, :, :] * A' + \n",
    "    Σˣ̂[t+1, :, :] = K[t, :, :] * C * Σᵉ[t, :, :] + AmBL * Σˣ̂[t, :, :] * AmBL'\n",
    "end\n"
   ]
  },
  {
   "cell_type": "code",
   "execution_count": 15,
   "metadata": {},
   "outputs": [
    {
     "data": {
      "text/plain": [
       "2"
      ]
     },
     "execution_count": 15,
     "metadata": {},
     "output_type": "execute_result"
    }
   ],
   "source": [
    "function generalized_LQG(param::SaccadeModelParameter, L, K, dt=0.001, T=2.0)\n",
    "    @unpack n, p, A, B, C, D, Y, G, Q, R, U = param;\n",
    "    \n",
    "    nt = round(Int, T/dt)\n",
    "    \n",
    "    A = I + A * dt\n",
    "    B = B * dt\n",
    "    C = C * dt\n",
    "    D = sqrt(dt) * D\n",
    "    G = sqrt(dt) * G\n",
    "    \n",
    "    L = zeros(nt-1, n) # Feedback gains\n",
    "    K = zeros(nt-1, n, p) # Kalman gains\n",
    "    S = zeros(nt, n, n)\n",
    "    Σ = zeros(nt, n, n);\n",
    "\n",
    "    S[end, :, :] = Q\n",
    "    for t in nt-1:-1:1\n",
    "        L[t, :] = (R + B' * S[t+1, :, :] * B) \\ B' * S[t+1, :, :] * A\n",
    "        Sˣ = 1\n",
    "        Sᵉ = 1\n",
    "        S[t, :, :] = Q + A' * S[t+1, :, :] * (A - B * L[t, :]')\n",
    "    end\n",
    "\n",
    "    for t in 1:nt-1\n",
    "        K[t, :, :] = A * Σ[t, :, :] * C' / (C * Σ[t, :, :] * C' + D)\n",
    "        Σ[t+1, :, :] = G + (A - K[t, :, :] * C) * Σ[t, :, :] * A'\n",
    "    end\n",
    "    return L, K\n",
    "end"
   ]
  },
  {
   "cell_type": "code",
   "execution_count": 8,
   "metadata": {},
   "outputs": [],
   "source": [
    "function LQG(param::SaccadeModelParameter, L, K, dt=0.001, T=2.0)\n",
    "    @unpack n, p, A, B, C, D, Y, G, Q, R, U = param;\n",
    "    \n",
    "    nt = round(Int, T/dt)\n",
    "    \n",
    "    A = I + A * dt\n",
    "    B = B * dt\n",
    "    C = C * dt\n",
    "    D = sqrt(dt) * D\n",
    "    G = sqrt(dt) * G\n",
    "    \n",
    "    L = zeros(nt-1, n) # Feedback gains\n",
    "    K = zeros(nt-1, n, p) # Kalman gains\n",
    "    S = zeros(nt, n, n)\n",
    "    Σ = zeros(nt, n, n);\n",
    "\n",
    "    S[end, :, :] = Q\n",
    "    for t in nt-1:-1:1\n",
    "        L[t, :] = (R + B' * S[t+1, :, :] * B) \\ B' * S[t+1, :, :] * A\n",
    "        S[t, :, :] = Q + A' * S[t+1, :, :] * (A - B * L[t, :]') # ToDo: Lのtranspose導出\n",
    "    end\n",
    "\n",
    "    for t in 1:nt-1\n",
    "        K[t, :, :] = A * Σ[t, :, :] * C' / (C * Σ[t, :, :] * C' + D)\n",
    "        Σ[t+1, :, :] = G + (A - K[t, :, :] * C) * Σ[t, :, :] * A'\n",
    "    end\n",
    "    return L, K\n",
    "end"
   ]
  },
  {
   "cell_type": "code",
   "execution_count": 9,
   "metadata": {},
   "outputs": [
    {
     "data": {
      "text/plain": [
       "simulation (generic function with 4 methods)"
      ]
     },
     "execution_count": 9,
     "metadata": {},
     "output_type": "execute_result"
    }
   ],
   "source": [
    "function simulation(param::SaccadeModelParameter, L, K, dt=0.001, T=2.0, init_pos=-0.5; noisy=false)\n",
    "    @unpack n, A, B, C, D, Y, G, Q, R, U = param\n",
    "    nt = round(Int, T/dt)\n",
    "    X = zeros(n, nt)\n",
    "    u = zeros(nt)\n",
    "    X[1, 1] = init_pos # m; initial position (target position is zero)\n",
    "\n",
    "    if noisy\n",
    "        sqrtdt = √dt\n",
    "        X̂ = zeros(n, nt)\n",
    "        X̂[1, 1] = X[1, 1]\n",
    "        for t in 1:nt-1\n",
    "            u[t] = -L[t, :]' * X̂[:, t]\n",
    "            X[:, t+1] = X[:,t] + (A * X[:,t] + B * u[t]) * dt + sqrtdt * (Y * u[t] * randn() + G * randn(n))\n",
    "            dy = C * X[:,t] * dt + D * sqrtdt * randn(n-1)\n",
    "            X̂[:, t+1] = X̂[:,t] + (A * X̂[:,t] + B * u[t]) * dt + K[t, :, :] * (dy - C * X̂[:,t] * dt)\n",
    "        end\n",
    "    else\n",
    "        for t in 1:nt-1\n",
    "            u[t] = -L[t, :]' * X[:, t]\n",
    "            X[:, t+1] = X[:, t] + (A * X[:, t] + B * u[t]) * dt\n",
    "        end\n",
    "    end\n",
    "    return X, u\n",
    "end"
   ]
  },
  {
   "cell_type": "markdown",
   "metadata": {},
   "source": [
    "理想状況でのシミュレーション"
   ]
  },
  {
   "cell_type": "code",
   "execution_count": 10,
   "metadata": {},
   "outputs": [],
   "source": [
    "Xa, ua = simulation(param, L, K, dt, T, noisy=false);"
   ]
  },
  {
   "cell_type": "markdown",
   "metadata": {},
   "source": [
    "### ノイズを含むシミュレーション"
   ]
  },
  {
   "cell_type": "code",
   "execution_count": 11,
   "metadata": {},
   "outputs": [],
   "source": [
    "n = 4\n",
    "nsim = 10\n",
    "XSimAll = []\n",
    "uSimAll = []\n",
    "for i in 1:nsim\n",
    "    XSim, u = simulation(param, L, K, dt, T, noisy=true);\n",
    "    push!(XSimAll, XSim)\n",
    "    push!(uSimAll, u)\n",
    "end"
   ]
  },
  {
   "cell_type": "markdown",
   "metadata": {},
   "source": [
    "### 結果の描画"
   ]
  },
  {
   "cell_type": "code",
   "execution_count": 12,
   "metadata": {},
   "outputs": [
    {
     "data": {
      "image/png": "[encoded data removed]",
      "text/plain": [
       "Figure(PyObject <Figure size 1000x300 with 3 Axes>)"
      ]
     },
     "metadata": {},
     "output_type": "display_data"
    }
   ],
   "source": [
    "tarray = collect(dt:dt:T)\n",
    "label = [L\"Position ($m$)\", L\"Velocity ($m/s$)\", L\"Acceleration ($m/s^2$)\", L\"Jerk ($m/s^3$)\"]\n",
    "\n",
    "fig, ax = subplots(1, 3, figsize=(10, 3))\n",
    "for i in 1:2\n",
    "    for j in 1:nsim\n",
    "        ax[i].plot(tarray, XSimAll[j][i,:]', \"tab:gray\", alpha=0.5)\n",
    "    end\n",
    "    \n",
    "    ax[i].plot(tarray, Xa[i,:], \"tab:red\")\n",
    "    ax[i].set_ylabel(label[i]); ax[i].set_xlabel(L\"Time ($s$)\"); ax[i].set_xlim(0, T); ax[i].grid()\n",
    "end\n",
    "\n",
    "for j in 1:nsim\n",
    "    ax[3].plot(tarray, uSimAll[j], \"tab:gray\", alpha=0.5)\n",
    "end\n",
    "ax[3].plot(tarray, ua, \"tab:red\")\n",
    "ax[3].set_ylabel(L\"Control signal ($N\\cdot m$)\"); ax[3].set_xlabel(L\"Time ($s$)\"); ax[3].set_xlim(0, T); ax[3].grid()\n",
    "\n",
    "tight_layout()"
   ]
  },
  {
   "cell_type": "markdown",
   "metadata": {},
   "source": [
    "## 参考文献\n",
    "```{bibliography}\n",
    ":filter: docname in docnames\n",
    "```"
   ]
  }
 ],
 "metadata": {
  "kernelspec": {
   "display_name": "Julia 1.8.0-rc1",
   "language": "julia",
   "name": "julia-1.8"
  },
  "language_info": {
   "file_extension": ".jl",
   "mimetype": "application/julia",
   "name": "julia",
   "version": "1.8.0"
  }
 },
 "nbformat": 4,
 "nbformat_minor": 4
}
