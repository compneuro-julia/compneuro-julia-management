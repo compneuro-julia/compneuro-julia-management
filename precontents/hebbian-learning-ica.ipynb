{
 "cells": [
  {
   "cell_type": "markdown",
   "id": "a9208de1",
   "metadata": {},
   "source": [
    "# Hebb則と教師なし学習 (1) 主成分分析\n",
    "## Hebb則\n",
    "\n",
    "Hebb_1949_The_Organization_of_Behavior\n",
    "\n",
    "```{note}\n",
    "日本語訳されている：行動の機構――脳メカニズムから心理学へ\n",
    "```\n",
    "\n",
    "> Let us assume then that the persistence or repetition of a reverberatory activity (or \"trace\") tends to induce lasting cellular changes that add to its stability The assumption' can be precisely stated as follows When an axon of cell A is near enough to excite a cell B and repeatedly or persistently takes part in firing It, some growth process or metabolic change takes place sn one or both cells such that A's efficiency, as one of the cats firing B, is increased\n",
    "\n",
    "Hebb則はShatzにより\"cells that fire together wire together\" (共に活動する細胞は共に結合する)と韻を踏みながら短く言い換えられている．\n",
    "\n",
    "> Shatz, C. J. 1992. “The Developing Brain.” Scientific American 267 (3): 60–67.\n",
    "\n",
    "数式でHebb則を表してみよう．シナプス前活動を$\\mathbf{x}\\in \\mathbb{R}^n$, 後活動を$\\mathbf{y}\\in \\mathbb{R}^m$, 重み行列を$\\mathbf{W}\\in \\mathbb{R}^{m\\times n}$とし，$\\mathbf{y}=\\mathbf{W}\\mathbf{x}$が成り立つとする．このようなモデルを線形ニューロンモデル (Linear neuron model)という．このとき，Hebb則は\n",
    "\n",
    "$$\n",
    "\\frac{d\\mathbf{W}}{dt}=\\mathbf{y}\\mathbf{x}^\\top=(\\text{post})\\cdot (\\text{pre})^\\top\n",
    "$$\n",
    "\n",
    "として表される．\n",
    "\n",
    "このHebb則は数学的に導出されたものではないが，特定の目的関数を神経活動及び重みを変化させて最適化するようなネットワークを構築すれば自然に出現する (本書ではこれに該当するIsingモデル，Amari-Hopfieldモデル，Boltzmannマシン，スパース符号化モデル，予測符号化モデルを取り上げる．もちろんこれ以外のモデルでも現れる)．こうしたモデルでは，先に目的関数$\\mathcal{L}$を定義し，その目的関数を最小化するような神経活動$\\mathbf{z}$および重み行列$\\mathbf{W}$のダイナミクスをそれぞれ,\n",
    "\n",
    "$$\n",
    "\\frac{d \\mathbf{z}}{dt}\\propto-\\frac{\\partial \\mathcal{L}}{\\partial \\mathbf{z}},\\ \\frac{d \\mathbf{W}}{dt}\\propto-\\frac{\\partial \\mathcal{L}}{\\partial \\mathbf{W}}\n",
    "$$\n",
    "\n",
    "として導出する．また，先に神経細胞の活動ダイナミクスを定義し，積分することで目的関数$\\mathcal{L}$を導出できる(Isomura et al., 2022)．この場合，$\\mathcal{L}$を重み行列で微分することでHebb則が導出できる．次のような連続時間線形ニューロンモデルを考えよう (記号は先ほどと同様である)．\n",
    "\n",
    "$$\n",
    "\\frac{d\\mathbf{y}}{dt}=\\mathbf{W}\\mathbf{x}\n",
    "$$\n",
    "\n",
    "ここで$\\dfrac{\\partial\\mathcal{L}}{\\partial\\mathbf{y}}:=-\\dfrac{d\\mathbf{y}}{dt}$となるような目的関数 $\\mathcal{L}\\in \\mathbb{R}$を仮定すると，\n",
    "\n",
    "$$\n",
    "\\mathcal{L}=-\\int \\mathbf{W}\\mathbf{x}\\ d\\mathbf{y}=-\\mathbf{y}^\\top \\mathbf{W}\\mathbf{x}\n",
    "$$\n",
    "\n",
    "となる．これをさらに$\\mathbf{W}$で微分すると，\n",
    "\n",
    "$$\n",
    "\\dfrac{\\partial\\mathcal{L}}{\\partial\\mathbf{W}}=-\\mathbf{y}\\mathbf{x}^\\top\\Rightarrow\n",
    "\\frac{d\\mathbf{W}}{dt}=-\\dfrac{\\partial\\mathcal{L}}{\\partial\\mathbf{W}}=\\mathbf{y}\\mathbf{x}^\\top\n",
    "$$\n",
    "\n",
    "となり，Hebb則が導出できる．\n",
    "\n",
    "また実験的にはLTPとして Bliss and Lømo (1973)により発見されている．"
   ]
  },
  {
   "cell_type": "markdown",
   "id": "47489355",
   "metadata": {},
   "source": [
    "## 主成分分析 (Principal component analysis; PCA)\n",
    "\n",
    "主成分分析の解説書く．SVDでの実装．"
   ]
  },
  {
   "cell_type": "code",
   "execution_count": 1,
   "id": "8ca8ac5f",
   "metadata": {},
   "outputs": [],
   "source": [
    "using PyPlot, Random, Distributions, LinearAlgebra, FFTW\n",
    "rc(\"axes.spines\", top=false, right=false)"
   ]
  },
  {
   "cell_type": "code",
   "execution_count": 2,
   "id": "56fe5a8c",
   "metadata": {},
   "outputs": [],
   "source": [
    "function HebbianPCA(X; n_components=10, η=1e-6, maxiter=200, func=identity, orthogonal=true)\n",
    "    # X : n x m -> Y : n_components x m\n",
    "    n = size(X)[1]\n",
    "    X = (X .- mean(X, dims=2)) ./ std(X, dims=2) # normalization\n",
    "    Y = nothing\n",
    "    W = randn(n_components, n) # initialize weight\n",
    "    W ./= sqrt.(sum(W.^2, dims=2)) # normalization\n",
    "    for _ in 1:maxiter\n",
    "        Y = func.(W * X)\n",
    "        if orthogonal\n",
    "            W .+= η * (Y * X' - LowerTriangular(Y * Y') * W) # Sanger's rule\n",
    "        else\n",
    "            W .+= η * (Y * X' - Diagonal(Y * Y') * W) # Oja's rule\n",
    "        end\n",
    "    end\n",
    "    return Y, W\n",
    "end;"
   ]
  },
  {
   "cell_type": "code",
   "execution_count": 3,
   "id": "8b443f65",
   "metadata": {},
   "outputs": [],
   "source": [
    "using MAT"
   ]
  },
  {
   "cell_type": "code",
   "execution_count": 14,
   "id": "5c55b7c5",
   "metadata": {},
   "outputs": [],
   "source": [
    "# datasets from http://www.rctn.org/bruno/sparsenet/\n",
    "mat_images_raw = matopen(\"../contents/_static/datasets/IMAGES_RAW.mat\")\n",
    "imgs = read(mat_images_raw, \"IMAGESr\")\n",
    "#mat_images = matopen(\"../contents/_static/datasets/IMAGES.mat\")\n",
    "#imgs = read(mat_images, \"IMAGES\")\n",
    "\n",
    "#close(mat_images)\n",
    "close(mat_images_raw)"
   ]
  },
  {
   "cell_type": "code",
   "execution_count": 21,
   "id": "98a781b6",
   "metadata": {},
   "outputs": [
    {
     "data": {
      "text/plain": [
       "5000"
      ]
     },
     "execution_count": 21,
     "metadata": {},
     "output_type": "execute_result"
    }
   ],
   "source": [
    "batch_size = 5000"
   ]
  },
  {
   "cell_type": "code",
   "execution_count": 22,
   "id": "1f3fbeeb",
   "metadata": {},
   "outputs": [
    {
     "data": {
      "text/plain": [
       "16"
      ]
     },
     "execution_count": 22,
     "metadata": {},
     "output_type": "execute_result"
    }
   ],
   "source": [
    "sz = 16"
   ]
  },
  {
   "cell_type": "code",
   "execution_count": 23,
   "id": "501ca9c7",
   "metadata": {},
   "outputs": [
    {
     "data": {
      "text/plain": [
       "(512, 512, 10)"
      ]
     },
     "execution_count": 23,
     "metadata": {},
     "output_type": "execute_result"
    }
   ],
   "source": [
    "H, W, num_images = size(imgs)"
   ]
  },
  {
   "cell_type": "code",
   "execution_count": 24,
   "id": "378c87a9",
   "metadata": {},
   "outputs": [
    {
     "data": {
      "text/plain": [
       "256"
      ]
     },
     "execution_count": 24,
     "metadata": {},
     "output_type": "execute_result"
    }
   ],
   "source": [
    "num_inputs = sz^2"
   ]
  },
  {
   "cell_type": "code",
   "execution_count": 25,
   "id": "1ef72555",
   "metadata": {},
   "outputs": [],
   "source": [
    "# Get the coordinates of the upper left corner of clopping image randomly.\n",
    "beginx = rand(1:W-sz, batch_size)\n",
    "beginy = rand(1:H-sz, batch_size)\n",
    "\n",
    "inputs = zeros(batch_size, num_inputs)  # Input image patches\n",
    "\n",
    "# Get images randomly\n",
    "for i in 1:batch_size        \n",
    "    idx = rand(1:num_images)\n",
    "    img = imgs[:, :, idx]\n",
    "    clop = img[beginy[i]:beginy[i]+sz-1, beginx[i]:beginx[i]+sz-1][:]\n",
    "    inputs[i, :] = clop .- mean(clop)\n",
    "end"
   ]
  },
  {
   "cell_type": "code",
   "execution_count": 26,
   "id": "23999a4d",
   "metadata": {},
   "outputs": [
    {
     "name": "stdout",
     "output_type": "stream",
     "text": [
      "  8.924531 seconds (42.04 k allocations: 4.127 GiB, 2.55% gc time)\n"
     ]
    }
   ],
   "source": [
    "@time Ypi, Wpi = HebbianPCA(inputs', n_components=25, η=1e-6, maxiter=2000, orthogonal=true)#, func=relu);"
   ]
  },
  {
   "cell_type": "code",
   "execution_count": 27,
   "id": "44a887fc",
   "metadata": {},
   "outputs": [
    {
     "data": {
      "text/plain": [
       "(25, 256)"
      ]
     },
     "execution_count": 27,
     "metadata": {},
     "output_type": "execute_result"
    }
   ],
   "source": [
    "size(Wpi)"
   ]
  },
  {
   "cell_type": "code",
   "execution_count": 28,
   "id": "720df4f4",
   "metadata": {},
   "outputs": [],
   "source": [
    "W_pca = reshape(Wpi, (25, sz, sz));"
   ]
  },
  {
   "cell_type": "code",
   "execution_count": 29,
   "id": "604823e9",
   "metadata": {},
   "outputs": [
    {
     "data": {
      "image/png": "[encoded data removed]",
      "text/plain": [
       "Figure(PyObject <Figure size 400x400 with 25 Axes>)"
      ]
     },
     "metadata": {},
     "output_type": "display_data"
    }
   ],
   "source": [
    "figure(figsize=(4,4))\n",
    "suptitle(\"Dimensionally reduced activities (PCA)\", fontsize=14)\n",
    "for i in 1:25\n",
    "    subplot(5,5,i)\n",
    "    imshow(W_pca[i, :, :], cmap=\"turbo\")\n",
    "    axis(\"off\")\n",
    "end\n",
    "tight_layout()"
   ]
  },
  {
   "cell_type": "markdown",
   "id": "d96e6cd3",
   "metadata": {},
   "source": [
    "## 参考文献\n",
    "```{bibliography}\n",
    ":filter: docname in docnames\n",
    "```"
   ]
  }
 ],
 "metadata": {
  "kernelspec": {
   "display_name": "Julia 1.8.0-rc1",
   "language": "julia",
   "name": "julia-1.8"
  },
  "language_info": {
   "file_extension": ".jl",
   "mimetype": "application/julia",
   "name": "julia",
   "version": "1.8.0"
  }
 },
 "nbformat": 4,
 "nbformat_minor": 5
}
