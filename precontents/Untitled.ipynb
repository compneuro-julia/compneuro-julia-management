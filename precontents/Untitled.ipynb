{
 "cells": [
  {
   "cell_type": "code",
   "execution_count": 1,
   "id": "993b784a",
   "metadata": {},
   "outputs": [
    {
     "data": {
      "text/plain": [
       "PurPurStruct"
      ]
     },
     "execution_count": 1,
     "metadata": {},
     "output_type": "execute_result"
    }
   ],
   "source": [
    "#Base.@kwdef struct PurPurStruct\n",
    "@kwdef struct PurPurStruct\n",
    "    a ::Float64 = 0\n",
    "    b ::Array{Float64,1} = rand(3)\n",
    "end"
   ]
  },
  {
   "cell_type": "code",
   "execution_count": 2,
   "id": "2d11818f",
   "metadata": {},
   "outputs": [
    {
     "data": {
      "text/plain": [
       "PurPurStruct(0.0, [0.7044680484420159, 0.4306951942967773, 0.7708242416899442])"
      ]
     },
     "execution_count": 2,
     "metadata": {},
     "output_type": "execute_result"
    }
   ],
   "source": [
    "test = PurPurStruct()"
   ]
  },
  {
   "cell_type": "code",
   "execution_count": null,
   "id": "557a608d",
   "metadata": {},
   "outputs": [],
   "source": []
  }
 ],
 "metadata": {
  "kernelspec": {
   "display_name": "Julia 1.9.2",
   "language": "julia",
   "name": "julia-1.9"
  },
  "language_info": {
   "file_extension": ".jl",
   "mimetype": "application/julia",
   "name": "julia",
   "version": "1.9.2"
  }
 },
 "nbformat": 4,
 "nbformat_minor": 5
}
