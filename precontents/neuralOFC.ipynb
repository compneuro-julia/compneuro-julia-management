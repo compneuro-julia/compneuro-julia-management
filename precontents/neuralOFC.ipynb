{
 "cells": [
  {
   "cell_type": "code",
   "execution_count": 2,
   "id": "d2ace2b7-31d6-4a3f-927e-8102bca69267",
   "metadata": {},
   "outputs": [],
   "source": [
    "\"\"\" Script to produce Figs. 6 and S10-14 \"\"\"\n",
    "from ofc import System, parmap\n",
    "import matplotlib.pyplot as plt\n",
    "import numpy as np\n",
    "from scipy.ndimage import median_filter\n",
    "from scipy.optimize import minimize\n",
    "from scipy.stats import gaussian_kde"
   ]
  },
  {
   "cell_type": "code",
   "execution_count": 3,
   "id": "04082000-2582-4167-97ea-414086b522cb",
   "metadata": {},
   "outputs": [],
   "source": [
    "# Okabe & Ito's colorblind friendly palette\n",
    "colors = [\"#E69F00\", \"#56B4E9\", \"#009E73\", \"#F0E442\", \"#0072B2\", \"#D55E00\", \"#CC79A7\", \"#000000\"]\n",
    "plt.rc('axes', prop_cycle=plt.cycler('color', colors))\n",
    "plt.rc('font', size=18)\n",
    "plt.rc('legend', **{'fontsize': 12})\n",
    "\n",
    "T = 111\n",
    "v = 1e-4\n",
    "q = 200\n",
    "force = 2e-3\n",
    "\n",
    "delay = 5\n",
    "dt = 1  # 10 msec\n",
    "A0 = np.array([[1, 0, dt, 0, 0, 0],\n",
    "               [0, 1, 0, dt, 0, 0],\n",
    "               [0, 0, 1, 0, dt, 0],\n",
    "               [0, 0, 0, 1, 0, dt],\n",
    "               [0, 0, 0, 0, 1, 0],\n",
    "               [0, 0, 0, 0, 0, 1]])\n",
    "B = np.array([[0, 0],\n",
    "              [0, 0],\n",
    "              [0, 0],\n",
    "              [0, 0],\n",
    "              [dt, 0],\n",
    "              [0, dt]])\n",
    "m = len(A0)\n",
    "C = np.eye(m)\n",
    "n = len(C)\n",
    "V = v * np.diag([1, 1, .1, .1, .01, .01])\n",
    "W = V\n",
    "Q = 1e-5 * np.diag([1, 1, q, q, 0, 0])\n",
    "R = np.eye(2)\n",
    "\n",
    "nullfield = System(A0, B, C, V, W, Q, R, T)\n",
    "A = A0.astype(float)\n",
    "A[2:4, 2:4] += force*np.array([[-10.1, -11.2],\n",
    "                               [-11.2, 11.1]])\n",
    "forcefield = System(A, B, C, V, W, Q, R, T)"
   ]
  },
  {
   "cell_type": "code",
   "execution_count": 9,
   "id": "acd162ff-a00a-4520-b3ba-a66a7527bc03",
   "metadata": {},
   "outputs": [
    {
     "ename": "UnpicklingError",
     "evalue": "Failed to interpret file 'L_nullfield.npy' as a pickle",
     "output_type": "error",
     "traceback": [
      "\u001b[1;31m---------------------------------------------------------------------------\u001b[0m",
      "\u001b[1;31mUnpicklingError\u001b[0m                           Traceback (most recent call last)",
      "File \u001b[1;32m~\\AppData\\Local\\Programs\\Python\\Python312\\Lib\\site-packages\\numpy\\lib\\npyio.py:465\u001b[0m, in \u001b[0;36mload\u001b[1;34m(file, mmap_mode, allow_pickle, fix_imports, encoding, max_header_size)\u001b[0m\n\u001b[0;32m    464\u001b[0m \u001b[38;5;28;01mtry\u001b[39;00m:\n\u001b[1;32m--> 465\u001b[0m     \u001b[38;5;28;01mreturn\u001b[39;00m \u001b[43mpickle\u001b[49m\u001b[38;5;241;43m.\u001b[39;49m\u001b[43mload\u001b[49m\u001b[43m(\u001b[49m\u001b[43mfid\u001b[49m\u001b[43m,\u001b[49m\u001b[43m \u001b[49m\u001b[38;5;241;43m*\u001b[39;49m\u001b[38;5;241;43m*\u001b[39;49m\u001b[43mpickle_kwargs\u001b[49m\u001b[43m)\u001b[49m\n\u001b[0;32m    466\u001b[0m \u001b[38;5;28;01mexcept\u001b[39;00m \u001b[38;5;167;01mException\u001b[39;00m \u001b[38;5;28;01mas\u001b[39;00m e:\n",
      "\u001b[1;31mUnpicklingError\u001b[0m: invalid load key, '\\x0a'.",
      "\nThe above exception was the direct cause of the following exception:\n",
      "\u001b[1;31mUnpicklingError\u001b[0m                           Traceback (most recent call last)",
      "Cell \u001b[1;32mIn[9], line 1\u001b[0m\n\u001b[1;32m----> 1\u001b[0m L \u001b[38;5;241m=\u001b[39m \u001b[43mnp\u001b[49m\u001b[38;5;241;43m.\u001b[39;49m\u001b[43mload\u001b[49m\u001b[43m(\u001b[49m\u001b[38;5;124;43m'\u001b[39;49m\u001b[38;5;124;43mL_nullfield.npy\u001b[39;49m\u001b[38;5;124;43m'\u001b[39;49m\u001b[43m,\u001b[49m\u001b[43m \u001b[49m\u001b[43mallow_pickle\u001b[49m\u001b[38;5;241;43m=\u001b[39;49m\u001b[38;5;28;43;01mTrue\u001b[39;49;00m\u001b[43m)\u001b[49m\n",
      "File \u001b[1;32m~\\AppData\\Local\\Programs\\Python\\Python312\\Lib\\site-packages\\numpy\\lib\\npyio.py:467\u001b[0m, in \u001b[0;36mload\u001b[1;34m(file, mmap_mode, allow_pickle, fix_imports, encoding, max_header_size)\u001b[0m\n\u001b[0;32m    465\u001b[0m     \u001b[38;5;28;01mreturn\u001b[39;00m pickle\u001b[38;5;241m.\u001b[39mload(fid, \u001b[38;5;241m*\u001b[39m\u001b[38;5;241m*\u001b[39mpickle_kwargs)\n\u001b[0;32m    466\u001b[0m \u001b[38;5;28;01mexcept\u001b[39;00m \u001b[38;5;167;01mException\u001b[39;00m \u001b[38;5;28;01mas\u001b[39;00m e:\n\u001b[1;32m--> 467\u001b[0m     \u001b[38;5;28;01mraise\u001b[39;00m pickle\u001b[38;5;241m.\u001b[39mUnpicklingError(\n\u001b[0;32m    468\u001b[0m         \u001b[38;5;124mf\u001b[39m\u001b[38;5;124m\"\u001b[39m\u001b[38;5;124mFailed to interpret file \u001b[39m\u001b[38;5;132;01m{\u001b[39;00mfile\u001b[38;5;132;01m!r}\u001b[39;00m\u001b[38;5;124m as a pickle\u001b[39m\u001b[38;5;124m\"\u001b[39m) \u001b[38;5;28;01mfrom\u001b[39;00m \u001b[38;5;21;01me\u001b[39;00m\n",
      "\u001b[1;31mUnpicklingError\u001b[0m: Failed to interpret file 'L_nullfield.npy' as a pickle"
     ]
    }
   ],
   "source": [
    "L = np.load('L_nullfield.npy', allow_pickle=True)"
   ]
  },
  {
   "cell_type": "code",
   "execution_count": 11,
   "id": "ee00d30a-aca2-46ad-99f4-a936fab294c7",
   "metadata": {},
   "outputs": [
    {
     "ename": "NameError",
     "evalue": "name 'L' is not defined",
     "output_type": "error",
     "traceback": [
      "\u001b[1;31m---------------------------------------------------------------------------\u001b[0m",
      "\u001b[1;31mNameError\u001b[0m                                 Traceback (most recent call last)",
      "Cell \u001b[1;32mIn[11], line 13\u001b[0m\n\u001b[0;32m     10\u001b[0m     plt\u001b[38;5;241m.\u001b[39mgca()\u001b[38;5;241m.\u001b[39mset_aspect(\u001b[38;5;241m1\u001b[39m)\n\u001b[0;32m     11\u001b[0m     \u001b[38;5;28;01mfor\u001b[39;00m seed \u001b[38;5;129;01min\u001b[39;00m \u001b[38;5;28mrange\u001b[39m(\u001b[38;5;241m8\u001b[39m\u001b[38;5;241m*\u001b[39mi, \u001b[38;5;241m8\u001b[39m\u001b[38;5;241m*\u001b[39mi\u001b[38;5;241m+\u001b[39m\u001b[38;5;241m5\u001b[39m):\n\u001b[0;32m     12\u001b[0m         U, X, Y, Xpre, Xpost, Xhat, _ \u001b[38;5;241m=\u001b[39m nullfield\u001b[38;5;241m.\u001b[39mLQG(\n\u001b[1;32m---> 13\u001b[0m             seed, ABCLhat\u001b[38;5;241m=\u001b[39m(A0, B, C, \u001b[43mL\u001b[49m),\n\u001b[0;32m     14\u001b[0m             actor\u001b[38;5;241m=\u001b[39m\u001b[38;5;124m\"\u001b[39m\u001b[38;5;124m-np.array(\u001b[39m\u001b[38;5;124m\"\u001b[39m \u001b[38;5;241m+\u001b[39m \u001b[38;5;28mstr\u001b[39m(nullfield\u001b[38;5;241m.\u001b[39mK[\u001b[38;5;241m0\u001b[39m]\u001b[38;5;241m.\u001b[39mtolist()) \u001b[38;5;241m+\u001b[39m \u001b[38;5;124m\"\u001b[39m\u001b[38;5;124m).dot(Xhat[t])\u001b[39m\u001b[38;5;124m\"\u001b[39m,\n\u001b[0;32m     15\u001b[0m             delay\u001b[38;5;241m=\u001b[39mdelay, x0\u001b[38;5;241m=\u001b[39mx0, multiplicative_noise\u001b[38;5;241m=\u001b[39mmultiplicative_noise)\n\u001b[0;32m     16\u001b[0m         plt\u001b[38;5;241m.\u001b[39mscatter(\u001b[38;5;241m*\u001b[39mnp\u001b[38;5;241m.\u001b[39mtranspose(X[:Tplot, :\u001b[38;5;241m2\u001b[39m]\u001b[38;5;241m-\u001b[39mnp\u001b[38;5;241m.\u001b[39marray(x0[:\u001b[38;5;241m2\u001b[39m])), s\u001b[38;5;241m=\u001b[39m\u001b[38;5;241m5\u001b[39m, c\u001b[38;5;241m=\u001b[39m\u001b[38;5;124m'\u001b[39m\u001b[38;5;124mC\u001b[39m\u001b[38;5;132;01m%g\u001b[39;00m\u001b[38;5;124m'\u001b[39m \u001b[38;5;241m%\u001b[39m i)\n\u001b[0;32m     17\u001b[0m plt\u001b[38;5;241m.\u001b[39myticks([\u001b[38;5;241m-\u001b[39m\u001b[38;5;241m10\u001b[39m, \u001b[38;5;241m-\u001b[39m\u001b[38;5;241m5\u001b[39m, \u001b[38;5;241m0\u001b[39m, \u001b[38;5;241m5\u001b[39m, \u001b[38;5;241m10\u001b[39m])\n",
      "\u001b[1;31mNameError\u001b[0m: name 'L' is not defined"
     ]
    },
    {
     "data": {
      "image/png": "[encoded data removed]",
      "text/plain": [
       "<Figure size 620x600 with 1 Axes>"
      ]
     },
     "metadata": {},
     "output_type": "display_data"
    }
   ],
   "source": [
    "multiplicative_noise = 0\n",
    "#for multiplicative_noise in (0,1):\n",
    "# Fig 6\n",
    "Tplot = 51\n",
    "plt.figure(figsize=(6.2, 6))\n",
    "plt.gca().set_aspect(1)\n",
    "for i in range(8):\n",
    "    alpha = i*np.pi/4\n",
    "    x0 = 10 * np.array([np.cos(alpha), np.sin(alpha)] + [0]*(m-2))  # [cm]\n",
    "    plt.gca().set_aspect(1)\n",
    "    for seed in range(8*i, 8*i+5):\n",
    "        U, X, Y, Xpre, Xpost, Xhat, _ = nullfield.LQG(\n",
    "            seed, ABCLhat=(A0, B, C, L),\n",
    "            actor=\"-np.array(\" + str(nullfield.K[0].tolist()) + \").dot(Xhat[t])\",\n",
    "            delay=delay, x0=x0, multiplicative_noise=multiplicative_noise)\n",
    "        plt.scatter(*np.transpose(X[:Tplot, :2]-np.array(x0[:2])), s=5, c='C%g' % i)\n",
    "plt.yticks([-10, -5, 0, 5, 10])\n",
    "plt.xlabel('Displacement [cm]')\n",
    "plt.ylabel('Displacement [cm]', labelpad=-5)\n",
    "plt.tight_layout(pad=.05)\n",
    "#plt.savefig('fig/forcefield_fig6' + ('', '_multNoise')[multiplicative_noise] + '.pdf')"
   ]
  },
  {
   "cell_type": "code",
   "execution_count": null,
   "id": "96a4ccb7-9671-4856-bb9f-d8d97e7bf6f7",
   "metadata": {},
   "outputs": [],
   "source": [
    "# Fig 7\n",
    "plt.figure(figsize=(5, 6))\n",
    "plt.gca().set_aspect(1)\n",
    "for i in range(8):\n",
    "    alpha = i*np.pi/4\n",
    "    x0 = 10 * np.array([np.cos(alpha), np.sin(alpha)] + [0]*(m-2))\n",
    "    plt.gca().add_patch(plt.Circle(x0[:2], .8, fc='w', ec='k', zorder=-11))\n",
    "    for seed in range(8*i, 8*i+3):\n",
    "        U, X, Y, Xpre, Xpost, Xhat, _ = forcefield.LQG(\n",
    "            seed, ABCLhat=(A0, B, C, L),\n",
    "            actor=\"-np.array(\" + str(nullfield.K[0].tolist()) + \").dot(Xhat[t])\",\n",
    "            delay=delay, x0=x0, T=(111, 121)[multiplicative_noise], asymptoticL=True,\n",
    "            multiplicative_noise=multiplicative_noise)\n",
    "        plt.scatter(*np.transpose(X[:, :2]-np.array(x0[:2])), s=5, c='C%g' % i)\n",
    "plt.xlabel('Displacement [cm]')\n",
    "plt.ylabel('Displacement [cm]', labelpad=-5)\n",
    "plt.tight_layout(pad=.05)\n",
    "plt.savefig('fig/forcefield_fig7' + ('', '_multNoise')[multiplicative_noise] + '.pdf')"
   ]
  }
 ],
 "metadata": {
  "kernelspec": {
   "display_name": "Python 3 (ipykernel)",
   "language": "python",
   "name": "python3"
  },
  "language_info": {
   "codemirror_mode": {
    "name": "ipython",
    "version": 3
   },
   "file_extension": ".py",
   "mimetype": "text/x-python",
   "name": "python",
   "nbconvert_exporter": "python",
   "pygments_lexer": "ipython3",
   "version": "3.12.0"
  }
 },
 "nbformat": 4,
 "nbformat_minor": 5
}
