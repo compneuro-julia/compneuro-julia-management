{
 "cells": [
  {
   "cell_type": "markdown",
   "metadata": {},
   "source": [
    "# 誤差逆伝播法：Zipser-Andersenモデルを例にして\n",
    "\n",
    "https://link.springer.com/article/10.1007/s11023-017-9443-4/figures/5\n",
    "\n",
    "Zipser-Andersenモデル。 a 3層構造のネットワークで、2組の入力ユニットは網膜性位置細胞（左下）と眼球運動細胞（右下）を表す。隠れユニットは、第3グループのPPC細胞の行動をモデル化したものである。出力層のユニット（2つのバージョン）は、頭頂部の位置をエンコードする細胞を表しています。b 領域7aの視覚ニューロンの受容野は、焦点付近に単一のピークを持つ。 c 領域7aの目の位置を表す30個のユニットを合成し、その発火率を眼球の水平・垂直方向のずれの関数としてプロットしたもの。\n",
    "\n",
    "> The influence of the angle of gaze upon the excitability of the light- sensitive neurons of the posterior parietal cortex\n",
    "\n",
    "\n",
    "スポットサイズを$w$とする．$1/e$の代わりに$1/2$とすれば半値全幅(FWHM)となる．$G(X+w/2)=G/e$より，$\\sigma=\\frac{\\sqrt{2}w}{4}$\n",
    "\n",
    "-40度から傾き正あるいは負．0度をピークとして減少あるいは上昇の4種類ある．今回は１次関数で記述可能なものを採用．\n",
    "\n",
    "The monotonic format units have firing rates that are a linear function of position of the stimulus in head-centred coordinates"
   ]
  },
  {
   "cell_type": "markdown",
   "metadata": {},
   "source": [
    "### Setup"
   ]
  },
  {
   "cell_type": "code",
   "execution_count": 1,
   "metadata": {},
   "outputs": [],
   "source": [
    "using Base: @kwdef\n",
    "using Parameters: @unpack # or using UnPack\n",
    "using LinearAlgebra, Random, Statistics, PyPlot, ProgressMeter"
   ]
  },
  {
   "cell_type": "markdown",
   "metadata": {},
   "source": [
    "### NN modelの実装"
   ]
  },
  {
   "cell_type": "code",
   "execution_count": 2,
   "metadata": {},
   "outputs": [
    {
     "data": {
      "text/plain": [
       "sigmoid (generic function with 1 method)"
      ]
     },
     "execution_count": 2,
     "metadata": {},
     "output_type": "execute_result"
    }
   ],
   "source": [
    "sigmoid(x) = 1 / (1 + exp(-x))"
   ]
  },
  {
   "cell_type": "code",
   "execution_count": 3,
   "metadata": {},
   "outputs": [],
   "source": [
    "@kwdef mutable struct NN{FT}\n",
    "    n_batch::UInt32 # batch size\n",
    "    n_in::UInt32 # number of input units\n",
    "    n_hid::UInt32 # number of hidden units\n",
    "    n_out::UInt32 # number of output units\n",
    "    \n",
    "    # weights\n",
    "    # Xavier Weight Initialization\n",
    "    W1::Array{FT} = 2(rand(n_in, n_hid) .- 0.5) / sqrt(n_in)\n",
    "    W2::Array{FT} = 2(rand(n_hid, n_out) .- 0.5) / sqrt(n_hid)\n",
    "    b1::Array{FT} = zeros(1, n_hid)\n",
    "    b2::Array{FT} = zeros(1, n_out)\n",
    "end"
   ]
  },
  {
   "cell_type": "markdown",
   "metadata": {},
   "source": [
    "順伝播(feedforward propagation)\n",
    "$$\n",
    "\\begin{align}\n",
    "\\text{入力層 : }&\\mathbf{z}^{(0)}=\\mathbf{x}\\\\\n",
    "\\text{隠れ層 : }&\\mathbf{z}^{(\\ell)}=f\\left(\\mathbf{a}^{(\\ell)}\\right)\\\\\n",
    "&\\mathbf{a}^{(\\ell+1)}=W^{(\\ell+1)}\\mathbf{z}^{(\\ell)}+\\mathbf{b}^{(\\ell+1)}\\\\\n",
    "\\text{出力層 : }&\\hat{\\mathbf{y}}=\\mathbf{z}^{(L)}\n",
    "\\end{align}\n",
    "$$\n",
    "\n",
    "逆伝播(backward propagation)\n",
    "$$\n",
    "\\begin{align}\n",
    "\\text{目的関数 : }&\\mathcal{L}=\\frac{1}{2}\\left\\|\\hat{\\mathbf{y}}-\\mathbf{y}\\right\\|^{2}\\\\\n",
    "\\text{最急降下法 : }&\\Delta W^{(\\ell)}=-\\eta \\frac{\\partial \\mathcal{L}}{\\partial W^{(\\ell)}}\\\\\n",
    "&\\Delta \\mathbf{b}^{(\\ell)}=-\\eta \\frac{\\partial \\mathcal{L}}{\\partial \\mathbf{b}^{(\\ell)}}\\\\\n",
    "\\text{誤差逆伝播法 : }&\\frac{\\partial \\mathcal{L}}{\\partial \\hat{\\mathbf{y}}}=\\frac{\\partial \\mathcal{L}}{\\partial \\mathbf{z}^{(L)}}=\\hat{\\mathbf{y}}-\\mathbf{y}\\\\\n",
    "&\\delta^{(L)}=\\frac{\\partial \\mathcal{L}}{\\partial \\mathbf{z}^{(L)}} \\frac{\\partial \\mathbf{z}^{(L)}}{\\partial \\mathbf{a}^{(L)}}=\\left(\\hat{\\mathbf{y}}-\\mathbf{y}\\right) \\odot f^{\\prime}\\left(\\mathbf{a}^{(L)}\\right)\\\\\n",
    "&\\mathbf{\\delta}^{(\\ell)}=\\frac{\\partial \\mathcal{L}}{\\partial \\mathbf{z}^{(\\ell)}} \\frac{\\partial \\mathbf{z}^{(\\ell)}}{\\partial \\mathbf{a}^{(\\ell)}}=\\left(W^{(\\ell+1)}\\right)^\\top \\delta^{(\\ell+1)} \\odot f^{\\prime}\\left(\\mathbf{a}^{(\\ell)}\\right)\\\\\n",
    "&\\frac{\\partial \\mathcal{L}}{\\partial W^{(\\ell)}}=\\frac{\\partial \\mathcal{L}}{\\partial \\mathbf{z}^{(\\ell)}} \\frac{\\partial \\mathbf{z}^{(\\ell)}}{\\partial \\mathbf{a}^{(\\ell)}} \\frac{\\partial \\mathbf{a}^{(\\ell)}}{\\partial W^{(\\ell)}}=\\delta^{(\\ell)}\\left(\\mathbf{z}^{(\\ell-1)}\\right)^\\top\\\\\n",
    "&\\frac{\\partial \\mathcal{L}}{\\partial \\mathbf{b}^{(\\ell)}}=\\frac{\\partial \\mathcal{L}}{\\partial \\mathbf{z}^{(\\ell)}} \\frac{\\partial \\mathbf{z}^{(\\ell)}}{\\partial \\mathbf{a}^{(\\ell)}} \\frac{\\partial \\mathbf{a}^{(\\ell)}}{\\partial \\mathbf{b}^{(\\ell)}}=\\delta^{(\\ell)}\n",
    "\\end{align}\n",
    "$$\n",
    "\n",
    "バッチ処理を考慮すると，行列を乗ずる順番が変わる．"
   ]
  },
  {
   "cell_type": "code",
   "execution_count": 167,
   "metadata": {},
   "outputs": [
    {
     "data": {
      "text/plain": [
       "update! (generic function with 2 methods)"
      ]
     },
     "execution_count": 167,
     "metadata": {},
     "output_type": "execute_result"
    }
   ],
   "source": [
    "function update!(variable::NN, η, x::Array, y::Array, training::Bool) #, memory)\n",
    "    @unpack n_batch, n_in, n_hid, n_out, W1, W2, b1, b2 = variable \n",
    "    # feedforward\n",
    "    h = sigmoid.(x * W1 .+ b1) # hidden\n",
    "    ŷ = sigmoid.(h * W2 .+ b2) # output\n",
    "    error = ŷ - y\n",
    "    \n",
    "    if training \n",
    "        # backward\n",
    "        # d/dx sigmoid(x) = sigmoid(x) * (1 - sigmoid(x))\n",
    "        # cross entropy error\n",
    "        δ2 = error #.* ŷ .* (1.0 .- ŷ)\n",
    "        δ1 = δ2 * W2' .* h .* (1.0 .- h)\n",
    "\n",
    "        # update weights and bias\n",
    "        η̄ = η/ n_batch\n",
    "        W1[:, :] -= η̄ * x' * δ1\n",
    "        W2[:, :] -= η̄ * h' * δ2\n",
    "        b1[:, :] -= η̄ * sum(δ1, dims=1)\n",
    "        b2[:, :] -= η̄ * sum(δ2, dims=1)\n",
    "        \"\"\"\n",
    "        Adam_update_weights(W1, x' * δ1/ n_batch, memory)\n",
    "        Adam_update_weights(W2, h' * δ2/ n_batch, memory)\n",
    "        Adam_update_weights(b1, sum(δ1, dims=1)/ n_batch, memory)\n",
    "        Adam_update_weights(b2, sum(δ2, dims=1)/ n_batch, memory)\n",
    "        \"\"\"\n",
    "    end\n",
    "    return error, ŷ, h\n",
    "end"
   ]
  },
  {
   "cell_type": "markdown",
   "metadata": {},
   "source": [
    "### datasetの作成"
   ]
  },
  {
   "cell_type": "code",
   "execution_count": 5,
   "metadata": {},
   "outputs": [
    {
     "data": {
      "text/plain": [
       "GaussianMask (generic function with 1 method)"
      ]
     },
     "execution_count": 5,
     "metadata": {},
     "output_type": "execute_result"
    }
   ],
   "source": [
    "# Gaussian mask s\n",
    "function GaussianMask(pos; sizex=8, sizey=8, σ=1)\n",
    "    x = 0:sizex-1\n",
    "    y = 0:sizey-1\n",
    "    X = [i for i in x, j in 1:length(y)]\n",
    "    Y = [j for i in 1:length(x), j in y]\n",
    "    \n",
    "    x0, y0 = pos\n",
    "    mask = exp.(-((X .- x0) .^2 + (Y .- y0) .^2) / (2.0*(σ^2)))\n",
    "    return mask ./ sum(mask)\n",
    "end"
   ]
  },
  {
   "cell_type": "markdown",
   "metadata": {},
   "source": [
    "ガウシアンのピークから1/eに減弱するのが15度．10度間隔で8x8．左右：-40度から40度\n",
    "\n",
    "入力は64+32=96ユニット"
   ]
  },
  {
   "cell_type": "markdown",
   "metadata": {},
   "source": [
    "### 学習"
   ]
  },
  {
   "cell_type": "code",
   "execution_count": 77,
   "metadata": {},
   "outputs": [],
   "source": [
    "# dataset parameter\n",
    "θmax = 40.0 # degree, θ∈[-θmax, θmax]\n",
    "Δθ = 10.0 # degree\n",
    "stimuli_size = Int(2θmax / Δθ)\n",
    "w = 15.0 # degree; 1/e width\n",
    "σ = √2w/(4Δθ);\n",
    "\n",
    "# model parameter\n",
    "n_in = stimuli_size^2 + 2 #96    # number of inputs 64 + 32\n",
    "n_hid = 16   # number of hidden units\n",
    "n_out = stimuli_size^2   # number of outputs\n",
    "η = 1e-2  # learning rate\n",
    "\n",
    "# training parameter\n",
    "n_data = 10000\n",
    "n_batch = 20 # batch size\n",
    "n_iter_per_epoch = Int(n_data/n_batch)\n",
    "n_epoch = 1000 # number of epoch"
   ]
  },
  {
   "cell_type": "markdown",
   "metadata": {},
   "source": [
    "データセットの生成．"
   ]
  },
  {
   "cell_type": "code",
   "execution_count": 164,
   "metadata": {},
   "outputs": [],
   "source": [
    "retinal_pos = (rand(n_data, 2) .- 0.5) * 2θmax # ∈ [-40, 40]\n",
    "head_centered_pos = (rand(n_data, 2) .- 0.5) * 2θmax # ∈ [-40, 40]\n",
    "eye_pos = head_centered_pos - retinal_pos; # ∈ [-80, 80]\n",
    "\n",
    "# convert\n",
    "input_retina = [hcat(GaussianMask((retinal_pos[i, :] .+ θmax)/Δθ, sizex=stimuli_size, sizey=stimuli_size, σ=σ)...) for i in 1:n_data];\n",
    "input_retina = vcat(input_retina...)\n",
    "eye_pos /= 2θmax;\n",
    "#eye_pos_encoded = hcat([vcat(vcat([eye_pos_coding.(eye_pos[i, :]; linear_param=pos_slope_param), eye_pos_coding.(-eye_pos[1, :]; linear_param=pos_slope_param)]...)...) for i in 1:n_data]...)';\n",
    "\n",
    "# concat\n",
    "x_data = hcat(input_retina, eye_pos) #_encoded)\n",
    "y_data = vcat([hcat(GaussianMask((head_centered_pos[i, :] .+ θmax)/Δθ, sizex=stimuli_size, sizey=stimuli_size, σ=σ)...) for i in 1:n_data]...);"
   ]
  },
  {
   "cell_type": "markdown",
   "metadata": {},
   "source": [
    "モデルの定義"
   ]
  },
  {
   "cell_type": "code",
   "execution_count": 165,
   "metadata": {},
   "outputs": [],
   "source": [
    "nn = NN{Float32}(n_batch=n_batch, n_in=n_in, n_hid=n_hid, n_out=n_out);\n",
    "#memory = Adam_memory{Float32}();"
   ]
  },
  {
   "cell_type": "code",
   "execution_count": 168,
   "metadata": {},
   "outputs": [
    {
     "name": "stderr",
     "output_type": "stream",
     "text": [
      "\u001b[32mTraining...100%|████████████████████████████████████████| Time: 0:00:40\u001b[39m\n"
     ]
    }
   ],
   "source": [
    "error_arr = zeros(Float32, n_epoch); # memory array of each epoch error\n",
    "\n",
    "@showprogress \"Training...\" for e in 1:n_epoch\n",
    "    for iter in 1:n_iter_per_epoch\n",
    "        idx = (iter-1)*n_batch+1:iter*n_batch\n",
    "        x = x_data[idx, :]\n",
    "        y = y_data[idx, :]\n",
    "        \n",
    "        error, _, _ = update!(nn, η, x, y, true) #, memory)\n",
    "        error_arr[e] += sum(error .^ 2)\n",
    "    end \n",
    "    error_arr[e] /= n_data\n",
    "end"
   ]
  },
  {
   "cell_type": "code",
   "execution_count": 169,
   "metadata": {},
   "outputs": [
    {
     "data": {
      "image/png": "[encoded data removed]",
      "text/plain": [
       "Figure(PyObject <Figure size 400x200 with 1 Axes>)"
      ]
     },
     "metadata": {},
     "output_type": "display_data"
    }
   ],
   "source": [
    "figure(figsize=(4,2))\n",
    "semilogy(error_arr[10:end])\n",
    "ylabel(\"Error\"); xlabel(\"Epoch\"); xlim(0, n_epoch)\n",
    "tight_layout()"
   ]
  },
  {
   "cell_type": "code",
   "execution_count": 170,
   "metadata": {},
   "outputs": [],
   "source": [
    "x = x_data[1:2, :]\n",
    "y = y_data[1:2, :]\n",
    "\n",
    "error, ŷ, h = update!(nn, η, x, y, false);"
   ]
  },
  {
   "cell_type": "code",
   "execution_count": 171,
   "metadata": {},
   "outputs": [
    {
     "data": {
      "image/png": "[encoded data removed]",
      "text/plain": [
       "Figure(PyObject <Figure size 600x200 with 3 Axes>)"
      ]
     },
     "metadata": {},
     "output_type": "display_data"
    }
   ],
   "source": [
    "id = 2\n",
    "figure(figsize=(6,2))\n",
    "ax1 = subplot(1,3,1)\n",
    "title(\"input\")\n",
    "ax1.imshow(reshape(x[id, 1:64], (stimuli_size, stimuli_size))', interpolation=\"gaussian\", extent=[-θmax, θmax, θmax, -θmax])\n",
    "ax1.add_patch(plt.Circle((x[id, 65:66])*2θmax, radius=2, color=\"tab:red\", fill=false))\n",
    "xlabel(\"x\"); ylabel(\"y\");\n",
    "\n",
    "ax2 = subplot(1,3,2)\n",
    "title(\"output\")\n",
    "ax2.imshow(reshape(ŷ[id, :], (stimuli_size, stimuli_size))', interpolation=\"gaussian\", extent=[-θmax, θmax, θmax, -θmax])\n",
    "ax2.add_patch(plt.Circle((x[id, 65:66])*2θmax, radius=2, color=\"tab:red\", fill=false))\n",
    "xlabel(\"x\");\n",
    "\n",
    "ax3 = subplot(1,3,3)\n",
    "title(\"target\")\n",
    "ax3.imshow(reshape(y[id, :], (stimuli_size, stimuli_size))', interpolation=\"gaussian\", extent=[-θmax, θmax, θmax, -θmax])\n",
    "ax3.add_patch(plt.Circle((x[id, 65:66])*2θmax, radius=2, color=\"tab:red\", fill=false))\n",
    "xlabel(\"x\");\n",
    "\n",
    "tight_layout()"
   ]
  },
  {
   "cell_type": "code",
   "execution_count": 172,
   "metadata": {},
   "outputs": [
    {
     "data": {
      "image/png": "[encoded data removed]",
      "text/plain": [
       "Figure(PyObject <Figure size 320x300 with 16 Axes>)"
      ]
     },
     "metadata": {},
     "output_type": "display_data"
    }
   ],
   "source": [
    "# Plot Receptive fields\n",
    "figure(figsize=(3.2, 3))\n",
    "subplots_adjust(hspace=0.1, wspace=0.1)\n",
    "for i in 1:n_hid\n",
    "    subplot(4, 4, i)\n",
    "    imshow(reshape(nn.W1[1:stimuli_size^2, i], (stimuli_size, stimuli_size)), cmap=\"hot\") #, interpolation=\"gaussian\")\n",
    "    axis(\"off\")\n",
    "end\n",
    "suptitle(\"Gain fields\", fontsize=12)\n",
    "subplots_adjust(top=0.925)"
   ]
  },
  {
   "cell_type": "markdown",
   "metadata": {},
   "source": [
    "> A back-propagation programmed network that simulates response properties of a subset of posterior parietal neurons\n",
    "\n",
    "https://www.nature.com/articles/331679a0\n",
    "\n",
    "a, 領域7aのモデル化に用いたバックプロパゲーションネットワーク。視覚入力は、1eの幅が15度のガウス型受容野を持つ64個のユニットで構成されています。各受容野の中心は、10度間隔の8×8配列の位置を占めている。陰影はシングルスポット刺激に対する活動レベルを表しており、陰影が濃いほど活動率が高いことを示している。各ユニットは、説明のために局所的に配列されていますが、各隠れユニットは64個の網膜入力ユニットのすべてから入力を受けるので、このパターンはモデルの一側面ではありません。視線位置の入力は、水平方向の位置をコードする2セット（負の傾きに対応するものと正の傾きに対応するもの）と垂直方向の位置をコードする2セットの8ユニットからなる4セットで構成されています。濃淡は活動のレベルを表しています。境界線は説明のためだけに並べられており、隠れた層で利用可能な情報を表すものではない。各眼球位置セルは、隠れ層のすべてのユニットに投影される。右がガウス型、左がモノトニック型の2つの出力形式を使用した。ガウシアン形式のユニットは、ガウシアンシェーディングされた受容野を頭部中心の座標にプロットしたものです。1eの幅は15度で、頭部座標空間の8×8の配列を中心に、10度の間隔で配置されています。単調なフォーマットのユニットは、頭の中心座標における刺激の位置の線形関数である発火率を持っています。頭部を中心とした垂直方向の位置には2セット、水平方向の位置には2セット、それぞれ逆の傾きを持つ8個のユニットが4セット用意されています。ここでも濃淡は活動の度合いを表しており、地形的な順序は説明のためだけのものである。また、Wを含む小さなボックスは、逆伝播によって重みが学習されるシナプスの位置を示している。各隠れユニットは、出力層のすべてのセルに投影される。隠れたユニットと出力層のユニットの出力活動はロジスティック関数によって計算される： output= 1 ( 1 + e-\"\"'), ここで net= (入力の加重和) +bias. 接続の矢印は活動の伝播の方向を示しており，エラーは逆方向に伝播していく． バックプロパゲーション法は、多次元のシナプス重み空間において誤差の勾配降下を実施することにより、シナプス重みの変更が常にネットワークを低誤差に向かわせることを保証する。\n",
    "\n",
    "https://www.vis.caltech.edu/documents/9416/neural_networks.pdf\n",
    "https://www.frontiersin.org/articles/10.3389/fnint.2015.00072/full"
   ]
  },
  {
   "cell_type": "markdown",
   "metadata": {},
   "source": [
    "私たちは、3層構造のネットワーク（図4）を使用しました。このネットワークは、任意の眼球と網膜の位置のペアが与えられたときに、視覚ターゲットを頭部中心の座標にマッピングするように訓練されています。第1層（入力層）には、視覚刺激を表すユニットの配列と、眼球位置を表すユニットのセットの2つのセクションがあります。第2層は、入力を出力にマッピングする隠れユニットで構成されています。各隠れユニットは、すべての入力ユニットからの入力を受け、第3出力層のすべてのユニットに投影します。\n",
    "\n",
    "隠れ層と出力層の各ユニットの出力は、入力のシナプス強度加重和にバイアス項を加えたS字型（ロジスティック）関数として計算されます。 学習パラダイムは逆伝搬学習を用いており、入力と所望の出力を選択し、入力をネットワークの第1層に適用し、それが生み出す活動をネットワークを通して出力ユニットに伝搬させる。その後、実際の出力が希望の出力から差し引かれ、エラーが生成されます。この誤差を利用して，出力層ユニットと隠れ層ユニットのシナプスの重みを，逆伝播の手順で調整する。トレーニングは、すべてのウェイトをランダムにした状態で開始されるため、誤差が大きくなり、その誤差が望ましいレベルになるまでトレーニングサイクルを繰り返すことになる。\n",
    "\n",
    "ネットワークへの網膜の位置と眼球の位置の入力は，視覚刺激のみと眼球の位置のみに反応する後頭頂皮質の細胞の特性を用いてモデル化した．視覚入力は、1eの幅が15度、各ピークが10度離れた64個のガウス型の受容野が8×8の配列で構成されていた。視線位置の入力は、8個のユニットが4セットあり、水平方向と垂直方向の視線位置の正負の傾きをそれぞれ1セットずつ持ちます。 出力層では、頭部を中心とした座標で位置を表す2つの表現を用いた。1つ（図4aの出力2）は、網膜入力の表現と同様に、各ユニットがガウス型の受容野を持つガウス形式で、位置を網膜座標ではなく頭の中心座標でコーディングしたものです。もう1つ（図4aの出力1）は単調なフォーマットで、各ニューロンの活動は、頭の中心座標における刺激の位置の線形関数となります。ガウシアン形式では、網膜の入力配列と同様の64ユニットの配列を用い、モノトニック形式では、眼球位置の入力配列と同様の32ユニットの配列を用いました。ガウシアン形式とモノトニック形式が選ばれたのは、脳細胞のコーディング形式として最も一般的なものだからです。また，モノトニック形式は，入力の眼球位置コードと同じ表現になるという興味深い特徴がある。このため，動物が視覚刺激をフェーブした場合，結果として得られる眼球位置信号は，刺激の正しい位置を頭部中心の座標で示す教師として使用することができる。\n",
    "\n",
    "モデルネットワークは，ランダムに選択された入力眼球位置と網膜位置のペアを用いて学習されました。出力ユニットの学習に用いた教師信号（所望の出力）は，入力によって暗示される頭部を中心とした座標における真の空間位置であり，単調またはガウス形式で表された．ネットワークの学習は早く、1,000回の試行で、網膜ユニットの中心間の距離に相当する精度に達した。トレーニングを続けると、誤差は減少し続けたが、その割合は低くなった。\n",
    "\n",
    "Eye positionは8 x 4set．\n",
    "\n",
    "視線位置の入力は、水平方向の位置をコーディングする2セット（負の傾きに対応するものと正の傾きに対応するもの）と垂直方向の位置をコーディングする2セット、それぞれ8ユニットの4セットで構成されています。濃淡は活動のレベルを表す。境界線は説明のためだけに並べられており、隠れた層で利用可能な情報を表すものではない。各眼球位置セルは、隠れ層のすべてのユニットに投影される。右側がガウス型、左側が単調型の2種類の出力形式を使用した。ガウシアン形式のユニットには、ガウシアンシェーディングされた受容野が頭部中心の座標にプロットされています。\n",
    "\n",
    "出力型にはgaussian output 形式（右）とmonotonic format（左）がある．"
   ]
  },
  {
   "cell_type": "markdown",
   "metadata": {},
   "source": [
    "### old functions"
   ]
  },
  {
   "cell_type": "code",
   "execution_count": null,
   "metadata": {},
   "outputs": [],
   "source": [
    "dsigmoid(x) = sigmoid(x) * (1 - sigmoid(x)) # derivative of sigmoid "
   ]
  },
  {
   "cell_type": "code",
   "execution_count": null,
   "metadata": {},
   "outputs": [],
   "source": [
    "relu(x) = x .* (x .> 0)\n",
    "get_line(p1, p2) = [(p2[2]-p1[2])/(p2[1]-p1[1]), (p2[1]*p1[2] - p1[1]*p2[2])/(p2[1]-p1[1])] # [slope, intercept]\n",
    "eye_pos_coding(x; linear_param) = relu(linear_param[1, :] * x .+ linear_param[2, :])\n",
    "\n",
    "N = 8\n",
    "x = -80:1:80\n",
    "p2y = range(0, 2.0, length=N) # y of 2nd point\n",
    "pos_slope_param = hcat([get_line([80, 1], [-80, -p2y[i]]) for i in 1:N]...)\n",
    "#neg_slope_param = hcat([get_line([-40, 1], [40, -p2y[i]]) for i in 1:N]...)\n",
    "y_pos = hcat(eye_pos_coding.(x; linear_param=pos_slope_param)...)\n",
    "#y_neg = eye_pos_coding.(x; linear_param=neg_slope_param);\n",
    "\n",
    "eye_pos_encoded = eye_pos_coding(-10; linear_param=pos_slope_param)\n",
    "imshow(eye_pos_encoded[:, :]')\n",
    "\n",
    "figure(figsize=(4,2))\n",
    "plot(x, y_pos')\n",
    "xlabel(\"Eye position\"); ylabel(\"Firing rate\")\n",
    "tight_layout()"
   ]
  },
  {
   "cell_type": "code",
   "execution_count": null,
   "metadata": {},
   "outputs": [],
   "source": [
    "retinal_pos = (rand(2) .- 0.5) * 2θmax # ∈ [-40, 40]\n",
    "head_centered_pos = (rand(2) .- 0.5) * 2θmax # ∈ [-40, 40]\n",
    "eye_pos = head_centered_pos - retinal_pos; # ∈ [-80, 80]"
   ]
  },
  {
   "cell_type": "code",
   "execution_count": null,
   "metadata": {},
   "outputs": [],
   "source": [
    "input_retina = GaussianMask((retinal_pos .+ θmax)/Δθ, sizex=stimuli_size, sizey=stimuli_size, σ=2) #√2w/(4Δθ))\n",
    "figure(figsize=(2,2))\n",
    "imshow(input_retina) #, interpolation=\"gaussian\", extent=[-θmax, θmax, θmax, -θmax])\n",
    "tight_layout()"
   ]
  },
  {
   "cell_type": "markdown",
   "metadata": {},
   "source": [
    "### optimizer"
   ]
  },
  {
   "cell_type": "code",
   "execution_count": null,
   "metadata": {},
   "outputs": [],
   "source": [
    "# to Adam optimizer\n",
    "@kwdef mutable struct Adam_memory{FT}\n",
    "    ms = Dict()\n",
    "    vs = Dict()\n",
    "end\n",
    "\n",
    "# Adam optimizer\n",
    "function Adam_update_weights(param, grad, memory::Adam_memory; α=0.01, β1=0.9, β2=0.999, eps=1e-8)\n",
    "    @unpack ms, vs = memory\n",
    "    key = objectid(param)\n",
    "    if !haskey(ms, key) \n",
    "        ms[key] = zeros(size(param))\n",
    "        vs[key] = zeros(size(param))\n",
    "    end\n",
    "    \n",
    "    m, v = ms[key], vs[key]\n",
    "\n",
    "    m += (1 - β1) * (grad - m)\n",
    "    v += (1 - β2) * (grad .* grad - v)\n",
    "    param[:, :] -= α * m ./ (sqrt.(v) .+ eps)\n",
    "end"
   ]
  }
 ],
 "metadata": {
  "kernelspec": {
   "display_name": "Julia 1.6.0-beta1",
   "language": "julia",
   "name": "julia-1.6"
  },
  "language_info": {
   "file_extension": ".jl",
   "mimetype": "application/julia",
   "name": "julia",
   "version": "1.6.0"
  }
 },
 "nbformat": 4,
 "nbformat_minor": 4
}
