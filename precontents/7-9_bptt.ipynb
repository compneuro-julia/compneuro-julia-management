{
 "cells": [
  {
   "cell_type": "markdown",
   "metadata": {},
   "source": [
    "# 7.9 BPTT (backpropagation through time)"
   ]
  },
  {
   "cell_type": "code",
   "execution_count": null,
   "metadata": {},
   "outputs": [],
   "source": [
    "from pylab import *\n",
    "%matplotlib notebook\n",
    "\n",
    "def theta(x):\n",
    "    return 0.5*(1 + sign(x))\n",
    "\n",
    "\n",
    "def f(x):\n",
    "    return np.tanh(x)\n",
    "\n",
    "\n",
    "def df(x):\n",
    "    return 1/np.cosh(10*np.tanh(x/10))**2  # the tanh prevents oveflow"
   ]
  },
  {
   "cell_type": "code",
   "execution_count": null,
   "metadata": {},
   "outputs": [],
   "source": [
    "using Base: @kwdef\n",
    "using Parameters: @unpack # or using UnPack"
   ]
  },
  {
   "cell_type": "code",
   "execution_count": 1,
   "metadata": {},
   "outputs": [],
   "source": [
    "using Random"
   ]
  },
  {
   "cell_type": "code",
   "execution_count": 7,
   "metadata": {},
   "outputs": [
    {
     "data": {
      "text/plain": [
       "1.4142135623730951"
      ]
     },
     "execution_count": 7,
     "metadata": {},
     "output_type": "execute_result"
    }
   ],
   "source": [
    "sqrt(2)"
   ]
  },
  {
   "cell_type": "code",
   "execution_count": null,
   "metadata": {},
   "outputs": [],
   "source": [
    "@kwdef struct RNNParameter{FT}\n",
    "    α::FT = 1.0\n",
    "    τm::FT\n",
    "end"
   ]
  },
  {
   "cell_type": "code",
   "execution_count": null,
   "metadata": {},
   "outputs": [],
   "source": [
    "@kwdef mutable struct RNN{FT}\n",
    "    param::RNNParameter = RNNParameter{FT}()\n",
    "    n_in::UInt32\n",
    "    n_rec::UInt32\n",
    "    n_out::UInt32\n",
    "    h0::Array{FT}\n",
    "\n",
    "    # weights\n",
    "    w_in::Array{FT} = 0.1*(rand(n_rec, n_in) .- 1)\n",
    "    w_rec::Array{FT} = 1.5*randn(n_rec, n_rec)/sqrt(n_rec)\n",
    "    w_out::Array{FT} = 0.1*(2*rand(n_out, n_rec) .- 1)/sqrt(n_rec)\n",
    "end"
   ]
  },
  {
   "cell_type": "code",
   "execution_count": null,
   "metadata": {},
   "outputs": [],
   "source": [
    "function update!(variable::RNN, param::RNNParameter, inputs::Array, training::Bool)\n",
    "    @unpack num_units_lv0, num_units_lv1, num_units_lv2, num_lv1, k2, r, rh, U, Uh = variable\n",
    "    @unpack α, αh, var, vartd, inv_var, inv_vartd, k1, λ = param\n",
    "\n",
    "    \n",
    "    [eta3, eta2, eta1] = eta  # learning rates for w_in, w_rec, and w_out\n",
    "    t_max = np.shape(x)[0]  # number of timesteps\n",
    "\n",
    "    dw_in, dw_rec, dw_out = 0, 0, 0  # changes to weights\n",
    "\n",
    "    u = np.zeros((t_max, self.n_rec))  # input (feedforward plus recurrent)\n",
    "    h = np.zeros((t_max, self.n_rec))  # time-dependent RNN activity vector\n",
    "    h[0] = self.h0  # initial state\n",
    "    y = np.zeros((t_max, self.n_out))  # RNN output\n",
    "    err = np.zeros((t_max, self.n_out))  # readout error\n",
    "\n",
    "    for tt in range(t_max-1):\n",
    "        u[tt+1] = np.dot(self.w_rec, h[tt]) + np.dot(self.w_in, x[tt+1])\n",
    "        h[tt+1] = h[tt] + (-h[tt] + f(u[tt+1]))/self.tau_m\n",
    "        y[tt+1] = np.dot(self.w_out, h[tt+1])\n",
    "        err[tt+1] = y_[tt+1] - y[tt+1]  # readout error\n",
    "    end\n",
    "    \n",
    "    # backward pass for BPTT\n",
    "    if training \n",
    "        z = np.zeros((t_max, self.n_rec))\n",
    "        z[-1] = np.dot((self.w_out).T, err[-1])\n",
    "        for tt in range(t_max-1, 0, -1):\n",
    "            z[tt-1] = z[tt]*(1 - 1/self.tau_m)\n",
    "            z[tt-1] += np.dot((self.w_out).T, err[tt])\n",
    "            z[tt-1] += np.dot(z[tt]*df(u[tt]), self.w_rec)/self.tau_m\n",
    "\n",
    "            # Updates for the weights:\n",
    "            dw_out += eta1*np.outer(err[tt], h[tt])/t_max\n",
    "            dw_rec += eta2/(t_max*self.tau_m)*np.outer(z[tt]*df(u[tt]),\n",
    "                                                        h[tt-1])\n",
    "            dw_in += eta3/(t_max*self.tau_m)*np.outer(z[tt]*df(u[tt]),\n",
    "                                                       x[tt])\n",
    "        end\n",
    "        \n",
    "        # wait until end of trial to update weights\n",
    "        self.w_out = self.w_out + dw_out\n",
    "        self.w_rec = self.w_rec + dw_rec\n",
    "        self.w_in = self.w_in + dw_in\n",
    "    end\n",
    "        \n",
    "    # Calculate errors\n",
    "    error = inputs - fx # (3, 256)\n",
    "\n",
    "    return error\n",
    "end"
   ]
  }
 ],
 "metadata": {
  "kernelspec": {
   "display_name": "Julia 1.5.0",
   "language": "julia",
   "name": "julia-1.5"
  },
  "language_info": {
   "file_extension": ".jl",
   "mimetype": "application/julia",
   "name": "julia",
   "version": "1.5.0"
  }
 },
 "nbformat": 4,
 "nbformat_minor": 4
}
