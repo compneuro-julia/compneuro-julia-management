{
 "cells": [
  {
   "cell_type": "markdown",
   "id": "de0e9d4b",
   "metadata": {},
   "source": [
    "# short-term synaptic plasticity\n",
    "Circuit mechanisms for the maintenance and manipulation of information in working memory\n",
    "\n",
    "\\begin{gathered}\n",
    "\\frac{\\mathrm{d} x(t)}{\\mathrm{d} t}=\\frac{1-x(t)}{\\tau_{x}}-u(t) x(t) r(t) \\Delta t \\\\\n",
    "\\frac{\\mathrm{d} u(t)}{\\mathrm{d} t}=\\frac{U-u(t)}{\\tau_{u}}+U(1-u(t)) r(t) \\Delta t\n",
    "\\end{gathered}\n",
    "\n",
    "- STSP neurotransmitter time constant: $\\tau_x$ 200 ms/1,500 ms (facilitating/depressing)\n",
    "- STSP neurotransmitter utilization: $\\tau_u$ 1,500 ms/200 ms (facilitating/depressing)\n",
    "- STSP neurotransmitter increment: $U$ 0.15/0.45 (facilitating/depressing)\n",
    "- Time step (training and testing): $\\Delta t$ 10ms"
   ]
  },
  {
   "cell_type": "code",
   "execution_count": null,
   "id": "b20dfddd",
   "metadata": {},
   "outputs": [],
   "source": []
  }
 ],
 "metadata": {
  "kernelspec": {
   "display_name": "Julia 1.7.0",
   "language": "julia",
   "name": "julia-1.7"
  },
  "language_info": {
   "file_extension": ".jl",
   "mimetype": "application/julia",
   "name": "julia",
   "version": "1.7.0"
  }
 },
 "nbformat": 4,
 "nbformat_minor": 5
}
