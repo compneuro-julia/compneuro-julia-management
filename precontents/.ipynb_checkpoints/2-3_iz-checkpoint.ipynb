{
 "cells": [
  {
   "cell_type": "markdown",
   "metadata": {},
   "source": [
    "# 2.3 Izhikevich モデル\n",
    "## 2.3.1 Izhikevich モデルの単純な実装\n",
    "**Izhikevich モデル** (または**Simple model**)は([Izhikevich, 2003](https://www.izhikevich.org/publications/spikes.htm))で考案されたモデルである。HHモデルのような生理学的な知見に基づいたモデルは実際のニューロンの発火特性をよく再現できるが、式が複雑化するため、数学的な解析が難しく、計算量が増えるために大規模なシミュレーションも困難となる[^hh]。そこで、生理学的な正しさには目をつぶり、生体内でのニューロンの発火特性を再現するモデルが求められた。その特徴を持つのがIzhikevich モデルである (以下ではIzモデルと表記する)。Izモデルは 2変数しかない[^ber]簡素な微分方程式だが, 様々なニューロンの活動を模倣することができる。定式化にはいくつか種類があるが、ここでは[\"Dynamical Systems in Neuroscience\" (Izhikevich, 2007)](https://mitpress.mit.edu/books/dynamical-systems-neuroscience)のChapter 8で用いられている式を紹介する。\n",
    "\n",
    "$$\n",
    "\\begin{align}\n",
    "C\\frac{dv(t)}{dt}&=k\\left(v(t)-v_r\\right)\\left(v(t)-v_t\\right)-u(t)+I \\\\\n",
    "\\frac{du(t)}{dt}&=a\\left\\{b\\left(v(t)-v_{r}\\right)-u(t)\\right\\}\n",
    "\\end{align} \n",
    "$$\n",
    "\n",
    "````{margin}\n",
    "```{note}\n",
    "有名な式は\n",
    "\n",
    "$$\n",
    "\\begin{align}\n",
    "\\frac{dv(t)}{dt}&=0.04v(t)^2 + 5v(t)-u(t)+I \\\\\n",
    "\\frac{du(t)}{dt}&=a(bv(t)-u(t))\n",
    "\\end{align} \n",
    "$$\n",
    "\n",
    "であるが、ここではより生理学的な意味づけがされた式を用いた。\n",
    "```\n",
    "````\n",
    "ここで、$v$と$u$が変数であり, $v$は膜電位(membrane potential;単位はmV), $u$は回復電流(recovery current; 単位はpA)[^rec]である。また、$C$は膜容量(membrane capacitance; 単位はpF), $v_r$は静止膜電位(resting membrane potential; 単位はmV), $v_t$は閾値電位(instantaneous threshold\n",
    "potential; 単位はmV), $a$は回復時定数(recovery time constant; 単位はms$^{-1}$)の逆数 (これが大きいと$u$が元に戻る時間が短くなる), \n",
    "$b$は$u$の$v$に対する感受性(共鳴度合い,  resonance; 単位はpA/mV)である。 $k$はニューロンのゲインに関わる定数で、小さいと発火しやすくなる (単位はpA/mV). \n",
    "\n",
    "Izモデルの**閾値の取り扱い**はLIFモデルと異なり、HHモデルに近い。LIFモデルでは閾値を超えた時に膜電位をピーク電位まで上昇させ (この過程は無くてもよい)、続いて膜電位をリセットする。Izモデルの閾値は$v_t$だが, 膜電位のリセットは閾値を超えたかで判断せず、膜電位$v$がピーク電位$v_{\\text{peak}}$になったとき（または超えた時）に行う。そのためIzモデルの実際の閾値は膜電位の挙動が変化する(発火状態に移行する)、つまり分岐(bifurcation) が生じる点であり、パラメータの閾値$v_t$との間には差異がある。\n",
    "\n",
    "さて、膜電位がピーク電位$v_{\\text{peak}}$に達したとき (すなわちif $v \\geq v_{\\text{peak}}$)、$u, v$を次のようにリセットする[^burst]。\n",
    "\n",
    "$$\n",
    "\\begin{align} \n",
    "u&\\leftarrow u+d\\\\\n",
    "v&\\leftarrow v_{\\text{reset}}\n",
    "\\end{align}\n",
    "$$\n",
    "\n",
    "とする。ただし, $v_{\\text{reset}}$は過分極を考慮して静止膜電位$v_r$よりも小さい値とする。また、$d$はスパイク発火中に活性化される正味の外向き電流の合計を表し、発火後の膜電位の挙動に影響する (単位はpA)。\n",
    "\n",
    "以上を踏まえて, シミュレーションの例と実装は次のようになります。\n",
    "\n",
    "[^hh]: これに関しては必ずしも正しくない。計算機の発達によりHHモデルで大きなモデルをシミュレーションすることも可能である。\n",
    "[^ber]: 数値計算をする上では簡易的だが、if文が入るために解析をするのは難しくなる。(Bernardo, et al., 2008)を読むといいらしい。\n",
    "[^rec]: ここでの「回復」というのは脱分極した後の膜電位が静止膜電位へと戻る、という意味である (対義語はactivationで膜電位の上昇を意味する)。\n",
    "$u$は$v$の導関数において$v$の上昇を抑制するように$-u$で入っているため、$u$としてはK$^+$チャネル電流やNa$^+$チャネルの不活性化動態などが考えられる。\n",
    "[^burst]: バースト発火(bursting)の挙動を表現するためには、速い回復変数(fast recovery variable)と遅い回復変数(slow recovery variable)の2つが必要となる(従って膜電位も合わせて全部で3変数必要)。一方で、IzモデルではLIFモデルのようなif文によるリセットを用いているため、速い回復変数が必要なく、遅い回復変数$u$のみでバースト発火を表現できる。"
   ]
  },
  {
   "cell_type": "markdown",
   "metadata": {},
   "source": [
    "## 2.3.2 様々な発火パターンのシミュレーション\n",
    "次に様々な発火パターンを模倣するようにIzモデルの定数を変化させてみましょう。Intrinsically Bursting (IB)ニューロンとChattering (CH) ニューロン(または fast rhythmic bursting (FRB) ニューロン)のシミュレーションを行います。基本的には定数を変えるだけです。\n",
    "\n",
    "結果は\\ref{fig:Iz_2}のようになります。"
   ]
  }
 ],
 "metadata": {
  "kernelspec": {
   "display_name": "Julia 1.4.0",
   "language": "julia",
   "name": "julia-1.4"
  },
  "language_info": {
   "file_extension": ".jl",
   "mimetype": "application/julia",
   "name": "julia",
   "version": "1.4.0"
  }
 },
 "nbformat": 4,
 "nbformat_minor": 4
}
