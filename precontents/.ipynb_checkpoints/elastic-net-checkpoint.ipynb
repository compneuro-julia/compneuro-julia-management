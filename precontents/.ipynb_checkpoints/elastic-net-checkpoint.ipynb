{
 "cells": [
  {
   "cell_type": "markdown",
   "id": "485a2d63",
   "metadata": {},
   "source": [
    "# Elastic Network\n",
    "https://faculty.ucmerced.edu/mcarreira-perpinan/research/EN.html"
   ]
  },
  {
   "cell_type": "code",
   "execution_count": null,
   "id": "0620ddf1",
   "metadata": {},
   "outputs": [],
   "source": [
    "# Driver file for an EN simulation for cortical maps:\n",
    "# 2D cortex in stimulus space (VFx,VFy,OD,ORx,ORy) where VF = visual\n",
    "# field, OD = ocular dominance and OR = orientation.\n",
    "#\n",
    "# Note: the net is considered nonperiodic. For a periodic net, the\n",
    "# starting centroids and the VF variables of the training set must be\n",
    "# wrapped; thus, every VF variable must be coded using two variables.\n",
    "#\n",
    "# To set up the parameters (training set, initial centroids, net\n",
    "# configuration and training parameters), edit the lines enclosed by\n",
    "# \"USER VALUES\"; the most likely values to be edited are marked \"***\".\n",
    "# Alternatively, if the variable ENsetupdone is set to 'yes', no\n",
    "# parameters are set up; this is useful to use previously set parameters\n",
    "# (e.g. read from a file or set manually in Matlab).\n",
    "\n",
    "# ENtraining determines the training set Tr that is used at each iteration\n",
    "# in the ENcounter loop. It can be one of these:\n",
    "# - 'canonical': use T, i.e., a uniform grid in (VFx,VFy,OD,ORt).\n",
    "# - 'noisy': add uniform noise to the canonical T at each iteration.\n",
    "# - 'uniform1': generate a uniform sample in the (rectangular) domain of\n",
    "#   (VFx,VFy,OD,ORt,ORr) at each iteration.\n",
    "# - 'uniform2': like uniform1, but force OD to be binary in {-l,l}\n",
    "#   and ORr = r.\n",
    "# The canonical training set T is created independently of the value of\n",
    "# ENtraining and saved in ENfilename. It is used for plotting, as a\n",
    "# scaffolding for the underlying continuous set of training vectors.\n",
    "# 'noisy' and 'uniform*' approximate online training over the continuous\n",
    "# domain of (VFx,VFy,OD,ORt)."
   ]
  },
  {
   "cell_type": "code",
   "execution_count": 6,
   "id": "8fb9b1ae",
   "metadata": {},
   "outputs": [
    {
     "data": {
      "text/plain": [
       "0.1111111111111111"
      ]
     },
     "execution_count": 6,
     "metadata": {},
     "output_type": "execute_result"
    }
   ],
   "source": [
    "# VF: N points in [0,1], with interpoint separation dx, dy.\n",
    "Nx, Ny = 10, 10       # Number of points along VF ***\n",
    "rx, ry = [0 1], [0 1] # Range of VF\n",
    "dx = (rx[2]-rx[1])/(Nx-1) # Separation between points along VFx\n",
    "dy = (ry[2]-ry[1])/(Ny-1) # Separation between points along VFy"
   ]
  },
  {
   "cell_type": "code",
   "execution_count": 8,
   "id": "ca77b35f",
   "metadata": {},
   "outputs": [
    {
     "data": {
      "text/plain": [
       "1×2 Matrix{Float64}:\n",
       " 0.0  0.2"
      ]
     },
     "execution_count": 8,
     "metadata": {},
     "output_type": "execute_result"
    }
   ],
   "source": [
    "l = 0.14 # Half-separation between OD layers ***\n",
    "NOD = 2 # Number of points along OD\n",
    "rOD = [-l l] # Range of OD\n",
    "dOD = (rOD[2]-rOD[1])/(NOD-1) # Separation between points along OD\n",
    "\n",
    "# - OR: NOR values in a periodic interval [-pi/2,pi/2] with modulus r,\n",
    "#   coded as NOR Cartesian-coordinate pairs (ORx,ORy).\n",
    "NOR = 12 # Number of points along OR\n",
    "r = 0.2 # OR modulus ***\n",
    "rORt = [-pi/2 pi/2] # Range of ORtheta\n",
    "rORr = [0 r] # Range of ORr"
   ]
  },
  {
   "cell_type": "code",
   "execution_count": null,
   "id": "939e6e28",
   "metadata": {},
   "outputs": [],
   "source": [
    "tmp1 = linspace(rORt(1),rORt(2),NOR+1); \n",
    "tmp1 = tmp1(1:end-1);"
   ]
  },
  {
   "cell_type": "code",
   "execution_count": null,
   "id": "6fdf7e6d",
   "metadata": {},
   "outputs": [],
   "source": [
    "function ENtrset(mode, varargin)\n",
    "    if mode == \"grid\"\n",
    "        s = varargin{1};\n",
    "        D = length(varargin)-1;\n",
    "        [tmp{1:D}] = ndgrid(varargin{2:end});\n",
    "        N = prod(size(tmp{1}));\n",
    "        T = reshape(cat(D+1,tmp{:}),N,D) \n",
    "        T += (rand(size(T))-0.5*ones(size(T)))*diag(sparse(s));\n",
    "    elseif mode == \"uniform\"\n",
    "        R = varargin{1}; N = varargin{2};\n",
    "        minT = R(:,1)'; maxT = R(:,2)'; rangeT = maxT - minT;\n",
    "        T = rand(N,size(R,1))*diag(sparse(rangeT)) + minT(ones(N,1),:);        \n",
    "    return T\n",
    "end"
   ]
  },
  {
   "cell_type": "code",
   "execution_count": null,
   "id": "c1c294ff",
   "metadata": {},
   "outputs": [],
   "source": [
    "T = ENtrset('grid',zeros(1,5),...\n",
    "      linspace(rx(1),rx(2),Nx),...# VFx\n",
    "      linspace(ry(1),ry(2),Ny),...# VFy\n",
    "      linspace(rOD(1),rOD(2),NOD),...# OD\n",
    "      tmp1,...# ORtheta\n",
    "      linspace(rORr(1),rORr(2),1));# ORr"
   ]
  },
  {
   "cell_type": "code",
   "execution_count": null,
   "id": "49adb7e8",
   "metadata": {},
   "outputs": [],
   "source": [
    "[tmp1,tmp2] = pol2cart(2*T(:,4),T(:,5));\n",
    "T(:,4:5) = [tmp1 tmp2];# ORx, ORy\n",
    "# The training set is slightly noisy to avoid symmetry artifacts.\n",
    "T = T + (rand(size(T))-1)/10000;# Tiny noise\n",
    "[N,D] = size(T);\n",
    "\n",
    "# Elastic net configuration: 2D\n",
    "G = [64 64];# Number of centroids ***\n",
    "bc = \"nonperiodic\";# One of 'nonperiodic', 'periodic' ***\n",
    "p = 1;# Stencil order (of derivative) ***\n",
    "s = {[0 -1 1],[0;-1;1]};# Stencil list ***\n",
    "W = 64;# Net width along 1st var. (arbitrary units)\n",
    "L = length(G); M = prod(G);\n",
    "# For non-rectangular cortex shapes, create a suitable Pi here:\n",
    "Pi = [];# Don't disable any centroid\n",
    "[S,DD,knot,A,LL] = ENgridtopo(G,bc,Pi,s{:});\n",
    "normcte = ENstennorm(G,W,p,s{:});# Normalisation constant\n",
    "# $$$   # Use normcte = 1; when disregarding the step size and resolution:\n",
    "# $$$   normcte = 1;\n",
    "\n",
    "# Initial elastic net: retinotopic with some noise and random, uniform\n",
    "# OD and OR.\n",
    "mu = ENtrset('grid',ones(1,2)/20,...# Small noise\n",
    "       linspace(rx(1),rx(2),G(1)),...# VFx\n",
    "       linspace(ry(1),ry(2),G(2)));# VFy\n",
    "mu = [mu ENtrset('uniform',[-l l;...# OD\n",
    "        -pi/2 pi/2;...# ORtheta\n",
    "        0 r],size(mu,1))];# ORr\n",
    "[tmp1,tmp2] = pol2cart(2*mu(:,4),mu(:,5));\n",
    "mu(:,4:5) = [tmp1 tmp2];# ORx, ORy\n",
    "\n",
    "if ~isempty(Pi) mu(find(Pi==0),:) = 0; end;\n",
    "\n",
    "# Objective function weights\n",
    "alpha = 1;# Fitness term weight\n",
    "beta = 10;# Tension term weight\n",
    "betanorm = beta*normcte;# Normalised beta\n",
    "\n",
    "# Training parameters\n",
    "iters = 10;# No. of annealing iterations (saved)\n",
    "max_it = 5;# No. of annealing iterations (not saved) ***\n",
    "max_cyc = 1;# Number of cycles per annealing iteration\n",
    "min_K = eps;# Smallest K before K is taken as 0\n",
    "tol = -1;# Smallest centroid update\n",
    "method = 'Cholesky';# Training method\n",
    "Kin = 0.2;# Initial K ***\n",
    "Kend = 0.06;# Final K ***\n",
    "annrate = (Kend/Kin)^(1/(max_it*iters-1));# Annealing rate\n",
    "Ksched = Kin*[repmat(annrate^max_it,1,iters).^(0:iters-1)];\n",
    "\n",
    "# Simulation name ***\n",
    "ENfilename = ['s' num2str(p) 'b' num2str(beta)];"
   ]
  },
  {
   "cell_type": "code",
   "execution_count": null,
   "id": "e7ed92e9",
   "metadata": {},
   "outputs": [],
   "source": [
    "Tr = T;\n",
    "# Learning loop with processing of intermediate (historical) parameters:\n",
    "for ENcounter = 1:length(Ksched)\n",
    "  # Update parameters:\n",
    "  [mu,stats] = ENtr_ann(Tr,S,Pi,mu,Ksched(ENcounter),alpha,betanorm,...\n",
    "\t\t\tannrate,max_it,max_cyc,min_K,tol,method);\n",
    "  [tmp1,tmp2] = cart2pol(mu(:,4),mu(:,5));\n",
    "  tmp1 = tmp1 / 2;\n",
    "  murange = [mu tmp1 tmp2;murange];\n",
    "  murange = [min(murange);max(murange)];\n",
    "\n",
    "  # Process parameters:\n",
    "  switch ENproc\n",
    "   case {'var','varplot'}\n",
    "    ENlist(ENcounter+1).mu = mu;\n",
    "    ENlist(ENcounter+1).stats = stats;\n",
    "    if strcmp(ENproc,'varplot')\n",
    "      ENV1replay2(G,bc,ENlist,v,ENcounter+1,T,Pi,murange);\n",
    "    end\n",
    "   case {'save','saveplot'}\n",
    "    save(sprintf('#s#04d.mat',ENfilename,ENcounter),'mu','stats','murange');\n",
    "    if strcmp(ENproc,'saveplot')\n",
    "      ENV1replay2(G,bc,struct('mu',mu,'stats',stats),v,1,T,Pi,murange);\n",
    "    end\n",
    "   otherwise\n",
    "    # Do nothing.\n",
    "  end\n",
    "  \n",
    "end"
   ]
  }
 ],
 "metadata": {
  "kernelspec": {
   "display_name": "Julia 1.6.2",
   "language": "julia",
   "name": "julia-1.6"
  },
  "language_info": {
   "file_extension": ".jl",
   "mimetype": "application/julia",
   "name": "julia",
   "version": "1.6.2"
  }
 },
 "nbformat": 4,
 "nbformat_minor": 5
}
