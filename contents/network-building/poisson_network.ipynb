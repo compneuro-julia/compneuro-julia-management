{
 "cells": [
  {
   "cell_type": "code",
   "execution_count": 2,
   "id": "ad5abf5e-0690-42b5-a771-4abaefdf9503",
   "metadata": {},
   "outputs": [],
   "source": [
    "using Base: @kwdef\n",
    "#using Parameters: @unpack # or using UnPack\n",
    "using LinearAlgebra, Random, PyPlot, ProgressMeter\n",
    "#using LinearAlgebra, Random, Statistics, PyPlot, ProgressMeter\n",
    "#using BenchmarkTools; @btime\n",
    "rc(\"axes.spines\", top=false, right=false)"
   ]
  },
  {
   "cell_type": "code",
   "execution_count": 66,
   "id": "38e8d1f0-4abc-4893-9024-675d6753d1bb",
   "metadata": {},
   "outputs": [
    {
     "data": {
      "text/plain": [
       "isi_neuron (generic function with 1 method)"
      ]
     },
     "execution_count": 66,
     "metadata": {},
     "output_type": "execute_result"
    }
   ],
   "source": [
    "function isi_neuron(dt, T; n_neurons=10, fr=2)\n",
    "    # dt, T: sec\n",
    "    nt = round(Int, T/dt) # number of timesteps    \n",
    "    spikes = rand(nt, n_neurons) .< fr*dt #*1e-3\n",
    "    return 1.0*spikes\n",
    "end"
   ]
  },
  {
   "cell_type": "code",
   "execution_count": 258,
   "id": "d72c1be7-acc0-48fd-8dec-600a0ce062a6",
   "metadata": {
    "scrolled": true
   },
   "outputs": [],
   "source": [
    "n_neurons_exc = 800*2\n",
    "n_neurons_inh = 200*2\n",
    "dt = 1e-4 # sec\n",
    "T = 10\n",
    "spikes_exc = isi_neuron(dt, T, n_neurons=n_neurons_exc, fr=2);\n",
    "spikes_inh = isi_neuron(dt, T, n_neurons=n_neurons_inh, fr=5);"
   ]
  },
  {
   "cell_type": "code",
   "execution_count": 81,
   "id": "fc962ef8-34a5-4cd6-8530-212a68c0a541",
   "metadata": {},
   "outputs": [
    {
     "data": {
      "text/plain": [
       "double_exp_synapse (generic function with 2 methods)"
      ]
     },
     "execution_count": 81,
     "metadata": {},
     "output_type": "execute_result"
    }
   ],
   "source": [
    "# 二重指数関数型シナプス\n",
    "function double_exp_synapse(spikes, dt, T; tr=1e-4, td=2e-3)\n",
    "    nt, n_neurons = size(spikes)\n",
    "    r_double, hr = zero(spikes), zero(spikes)\n",
    "    for t in 1:nt-1\n",
    "        r_double[t+1, :] = r_double[t, :]*(1-dt/tr) + hr[t, :]*dt\n",
    "        hr[t+1, :] = hr[t, :]*(1-dt/td) + spikes[t, :]/(tr*td)\n",
    "    end\n",
    "    return r_double\n",
    "end"
   ]
  },
  {
   "cell_type": "code",
   "execution_count": 259,
   "id": "bc044ecc-c985-4937-8aa8-f73a4d06b381",
   "metadata": {
    "scrolled": true
   },
   "outputs": [],
   "source": [
    "r_exc = double_exp_synapse(spikes_exc, dt, T, tr=1e-4, td=2e-3);\n",
    "r_inh = double_exp_synapse(spikes_inh, dt, T, tr=5e-4, td=1e-2);"
   ]
  },
  {
   "cell_type": "code",
   "execution_count": 260,
   "id": "d99038a4-d0a8-413c-a781-f95575749912",
   "metadata": {},
   "outputs": [],
   "source": [
    "g_exc = sum(r_exc, dims=2);\n",
    "g_inh = sum(r_inh, dims=2);"
   ]
  },
  {
   "cell_type": "code",
   "execution_count": 261,
   "id": "943ccd92-9ba0-4e1c-8010-4bd08d762b98",
   "metadata": {},
   "outputs": [
    {
     "data": {
      "text/plain": [
       "1.5808125821056749"
      ]
     },
     "execution_count": 261,
     "metadata": {},
     "output_type": "execute_result"
    }
   ],
   "source": [
    "ei_ratio = sum(g_exc) / sum(g_inh)"
   ]
  },
  {
   "cell_type": "code",
   "execution_count": 262,
   "id": "819c273c-07ce-4ee3-bc79-9189450edea3",
   "metadata": {},
   "outputs": [
    {
     "data": {
      "text/plain": [
       "-80"
      ]
     },
     "execution_count": 262,
     "metadata": {},
     "output_type": "execute_result"
    }
   ],
   "source": [
    "v_rest = -65\n",
    "v_rev_exc = 0\n",
    "v_rev_inh = -80"
   ]
  },
  {
   "cell_type": "code",
   "execution_count": 263,
   "id": "848c4f1c-6cd4-4bbb-ad0e-afb29d598d3d",
   "metadata": {},
   "outputs": [],
   "source": [
    "lfps = []\n",
    "for target_ei_ratio in [2, 6]\n",
    "    alpha_inh = target_ei_ratio * ei_ratio\n",
    "    lfp = ((v_rest - v_rev_exc) * g_exc + (v_rest - v_rev_inh) * alpha_inh * g_inh) / (n_neurons_exc+n_neurons_inh);\n",
    "    push!(lfps, lfp)\n",
    "end"
   ]
  },
  {
   "cell_type": "code",
   "execution_count": 264,
   "id": "30078b84-4d20-4936-b4a3-2e8c2f46733a",
   "metadata": {},
   "outputs": [
    {
     "data": {
      "text/plain": [
       "2×100000 adjoint(::Matrix{Float64}) with eltype Float64:\n",
       " 0.0  0.0  0.0  -16.25  -15.4375  -14.1914  …  -78.826    -89.5441  -83.4923\n",
       " 0.0  0.0  0.0  -16.25  -15.4375  -13.2429       0.64974  -10.8608   -5.59405"
      ]
     },
     "execution_count": 264,
     "metadata": {},
     "output_type": "execute_result"
    }
   ],
   "source": [
    "lfps2 = cat(lfps..., dims=2)'"
   ]
  },
  {
   "cell_type": "code",
   "execution_count": 176,
   "id": "90ae8803-40bb-430e-9af4-c2e4249f1b61",
   "metadata": {},
   "outputs": [],
   "source": [
    "using DSP"
   ]
  },
  {
   "cell_type": "code",
   "execution_count": 265,
   "id": "f2c85876-7b6c-4e9d-a299-4c93839b0433",
   "metadata": {},
   "outputs": [
    {
     "data": {
      "text/plain": [
       "DSP.Periodograms.Periodogram{Float64, AbstractFFTs.Frequencies{Float64}, Vector{Float64}}([2038.6298008490987, 33.82888514365858, 23.584362334699435, 18.719859608056105, 13.032131095085727, 18.4266987494975, 27.581425656809962, 35.31152440287629, 20.674887792189107, 18.702274531940866  …  0.002990006405781037, 0.0036672593088421753, 0.005482103894126164, 0.005076111195981173, 0.005426121654453982, 0.004094135149834189, 0.005371997513860336, 0.0051491287328394066, 0.0033178535556589207, 0.002282778073600195], [0.0, 0.8, 1.6, 2.4000000000000004, 3.2, 4.0, 4.800000000000001, 5.6000000000000005, 6.4, 7.2  …  4992.8, 4993.6, 4994.400000000001, 4995.200000000001, 4996.0, 4996.8, 4997.6, 4998.400000000001, 4999.200000000001, 5000.0])"
      ]
     },
     "execution_count": 265,
     "metadata": {},
     "output_type": "execute_result"
    }
   ],
   "source": [
    "fs = 1/dt\n",
    "psd_lfp1 = DSP.Periodograms.welch_pgram(vec(lfps2[1, :]), fs=fs)\n",
    "psd_lfp2 = DSP.Periodograms.welch_pgram(vec(lfps2[2, :]), fs=fs)"
   ]
  },
  {
   "cell_type": "code",
   "execution_count": 266,
   "id": "617a3afe-1f53-4013-a0e9-695c34fdb8a5",
   "metadata": {},
   "outputs": [
    {
     "data": {
      "image/png": "[encoded data removed]",
      "text/plain": [
       "Figure(PyObject <Figure size 300x300 with 1 Axes>)"
      ]
     },
     "metadata": {},
     "output_type": "display_data"
    },
    {
     "data": {
      "text/plain": [
       "(0.0002, 0.05)"
      ]
     },
     "execution_count": 266,
     "metadata": {},
     "output_type": "execute_result"
    }
   ],
   "source": [
    "figure(figsize=(3,3))\n",
    "loglog(psd_lfp1.freq, (psd_lfp1.power/sum(psd_lfp1.power)), alpha=0.8)\n",
    "loglog(psd_lfp2.freq, (psd_lfp2.power/sum(psd_lfp2.power)), alpha=0.8)\n",
    "xlim(1, 150)\n",
    "ylim(2e-4, 5e-2)"
   ]
  }
 ],
 "metadata": {
  "kernelspec": {
   "display_name": "Julia 1.10.4",
   "language": "julia",
   "name": "julia-1.10"
  },
  "language_info": {
   "file_extension": ".jl",
   "mimetype": "application/julia",
   "name": "julia",
   "version": "1.10.4"
  }
 },
 "nbformat": 4,
 "nbformat_minor": 5
}
