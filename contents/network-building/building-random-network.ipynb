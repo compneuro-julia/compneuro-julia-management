{
 "cells": [
  {
   "cell_type": "markdown",
   "id": "a55f8904",
   "metadata": {},
   "source": [
    "# ランダム神経回路網の構築\n",
    "\n",
    "この節ではこれまでに実装したSNNの要素を組み合わせ、重みがランダムなネットワーク(random network)を構成してみましょう。作成するネットワークは2層から成り、1層目には10個のPoissonスパイクニューロン、2層目には1個のLIFニューロンがあるとします。1層目のニューロンから2層目のニューロンへのシナプス結合には、二重指数関数型シナプスを用います。目標は2層目のニューロンの膜電位と入力電流、1層目のニューロンのラスタープロット(raster plot)\\footnote{ラスタープロットはスパイク列を表す図で、各ニューロンが発火したことを点で表します。}を表示することです。\\par\n",
    "それではネットワークを構築してみましょう\\footnote{コードは\\texttt{./TrainingSNN/LIF\\_random\\_network.py}です。}。まず、ニューロンとシナプスのクラスを\\texttt{import}し、各種定数、入力のポアソンスパイク\\texttt{x}、結合重み\\texttt{W}、ニューロンとシナプスのモデルの各インスタンス(\\texttt{neurons}, \\texttt{synapses})、記録用の配列を定義します。注意点として、先ほどと同様に実行ファイルは\\texttt{Models}ディレクトリの親ディレクトリ内に置くようにしましょう。"
   ]
  },
  {
   "cell_type": "code",
   "execution_count": null,
   "id": "b9606c19",
   "metadata": {},
   "outputs": [],
   "source": [
    "from Models.Neurons import CurrentBasedLIF\n",
    "from Models.Synapses import DoubleExponentialSynapse\n",
    "\n",
    "np.random.seed(seed=0)\n",
    "\n",
    "dt = 1e-4; T = 1; nt = round(T/dt) # シミュレーション時間\n",
    "num_in = 10; num_out = 1 # 入力 / 出力ニューロンの数\n",
    "\n",
    "# 入力のポアソンスパイク\n",
    "fr_in = 30 # 入力のポアソンスパイクの発火率(Hz)\n",
    "x = np.where(np.random.rand(nt, num_in) < fr_in * dt, 1, 0)\n",
    "W = 0.2*np.random.randn(num_out, num_in) # ランダムな結合重み\n",
    "\n",
    "# モデル\n",
    "neurons = CurrentBasedLIF(N=num_out, dt=dt, tref=5e-3,\n",
    "                          tc_m=1e-2, vrest=-65, vreset=-60,\n",
    "                          vthr=-40, vpeak=30)\n",
    "synapses = DoubleExponentialSynapse(N=num_out, dt=dt, td=1e-2, tr=1e-2)\n",
    "\n",
    "# 記録用配列\n",
    "current = np.zeros((num_out, nt))\n",
    "voltage = np.zeros((num_out, nt))"
   ]
  },
  {
   "cell_type": "markdown",
   "id": "91525126",
   "metadata": {},
   "source": [
    "次に、\\texttt{for}ループ内でネットワークの流れを書き、シミュレーションを実行してみましょう。"
   ]
  },
  {
   "cell_type": "code",
   "execution_count": null,
   "id": "17194f9f",
   "metadata": {},
   "outputs": [],
   "source": [
    "neurons.initialize_states() # 状態の初期化\n",
    "for t in tqdm(range(nt)):\n",
    "    # 更新\n",
    "    I = synapses(np.dot(W, x[t]))\n",
    "    s = neurons(I)\n",
    "\n",
    "    # 記録\n",
    "    current[:, t] = I\n",
    "    voltage[:, t] = neurons.v_"
   ]
  },
  {
   "cell_type": "markdown",
   "id": "1b7fdc5a",
   "metadata": {},
   "source": [
    "ここでは、全結合は\\texttt{np.dot(W, x[t])}で表し、\\texttt{synapses}の出力はシナプス後電流とします。第二章で述べたように\\texttt{synapses}の出力が何を意味するのか、すなわちシナプス前細胞の神経伝達物質の放出量なのか、シナプス後細胞のチャネルの開口頻度なのかは場合によって変わるので、注意するようにしましょう。今回の場合はシナプス後細胞に注目したモデルとなっています。\\par\n",
    "最後にシミュレーションの結果を描画してみましょう。描画するのは前述したように2層目のニューロンの膜電位と入力電流、1層目のニューロンのラスタープロットです。"
   ]
  },
  {
   "cell_type": "markdown",
   "id": "e1304497",
   "metadata": {},
   "source": [
    "## ランダムネットワークのシミュレーション\n",
    "1000個のIzニューロン(興奮性800個, 抑制性200個)によるランダムネットワークのシミュレーションを行う．これは([Izhikevich, 2003](https://www.izhikevich.org/publications/spikes.htm))においてMATLABコードが示されており，それをJuliaに移植したものである．このシミュレーションではRS(regular spiking)ニューロンを興奮性細胞，FS(fast spiking)ニューロンを抑制性細胞のモデルとして用いている．"
   ]
  },
  {
   "cell_type": "code",
   "execution_count": null,
   "id": "0cb59cf9",
   "metadata": {},
   "outputs": [],
   "source": [
    "using Parameters: @unpack # or using UnPack\n",
    "using PyPlot\n",
    "rc(\"axes.spines\", top=false, right=false)"
   ]
  },
  {
   "cell_type": "code",
   "execution_count": null,
   "id": "c642534f",
   "metadata": {},
   "outputs": [],
   "source": [
    "# Excitatory neurons, Inhibitory neurons\n",
    "Ne, Ni = 800, 200;\n",
    "re, ri = rand(Ne,1), rand(Ni,1)\n",
    "a = [0.02ones(Ne,1); 0.02 .+ 0.08ri]\n",
    "b = [0.2ones(Ne,1); 0.25 .- 0.05ri]\n",
    "c = [-65 .+ 15re.^2; -65ones(Ni,1)]\n",
    "d = [8 .- 6re.^2; 2ones(Ni,1)]\n",
    "S = [0.5rand(Ne+Ni,Ne) -rand(Ne+Ni,Ni)] # synaptic weight\n",
    "v = -65ones(Ne+Ni,1)   # Initial values of v\n",
    "u = b .* v              # Initial values of u\n",
    "firings = []            # spike timings\n",
    "\n",
    "for t=1:1000 # simulation of 1000 ms\n",
    "    Ie = [5randn(Ne,1); 2randn(Ni,1)] # thalamic input\n",
    "    fired = findall(v[:, 1] .>= 30) # indices of spikes\n",
    "    firings = t==1 ? [t .+ 0*fired fired] : [firings; [t .+ 0*fired fired]]\n",
    "    v[fired] = c[fired]\n",
    "    u[fired] += d[fired]\n",
    "    Ie += sum(S[:,fired], dims=2)\n",
    "    v += 0.5(0.04v.^2 + 5v .+140 - u + Ie) # step 0.5 ms for numerical stability\n",
    "    v += 0.5(0.04v.^2 + 5v .+140 - u + Ie) \n",
    "    u += a .* (b .* v - u)\n",
    "end"
   ]
  },
  {
   "cell_type": "markdown",
   "id": "ac5cbd2d",
   "metadata": {},
   "source": [
    "膜電位の更新の際，`v`を2回に分けて更新しているが，これは数値的な安定性を高めるためである．計算量は上がるが，前述したモデルにおいても同様の処理を行う実装もある．\n",
    "\n",
    "シミュレーションの実行後，ネットワークを構成するニューロンの発火を描画する．これを**ラスタープロット** (raster plot)という．この図は横軸が時間，縦軸がニューロンの番号となっており，各ニューロンが発火したことを点で表している．"
   ]
  },
  {
   "cell_type": "code",
   "execution_count": null,
   "id": "592b7155",
   "metadata": {},
   "outputs": [],
   "source": [
    "figure(figsize=(6, 3))\n",
    "scatter(firings[:,1], firings[:,2], c=\"k\", s=1, alpha=0.5)\n",
    "xlabel(\"Time (ms)\"); ylabel(\"# neuron\"); xlim(0, 1000); ylim(0, 1000)\n",
    "tight_layout()"
   ]
  },
  {
   "cell_type": "markdown",
   "id": "b6b8c1e2",
   "metadata": {},
   "source": [
    "初めの400msぐらいまでは100msごとに約10Hzの$\\alpha$波が見られ，800ms付近には約40Hzの$\\gamma$波が見られる．"
   ]
  }
 ],
 "metadata": {
  "kernelspec": {
   "display_name": "Julia 1.9.2",
   "language": "julia",
   "name": "julia-1.9"
  },
  "language_info": {
   "file_extension": ".jl",
   "mimetype": "application/julia",
   "name": "julia",
   "version": "1.9.2"
  }
 },
 "nbformat": 4,
 "nbformat_minor": 5
}
