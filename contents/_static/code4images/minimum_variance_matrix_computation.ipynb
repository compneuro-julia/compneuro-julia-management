{
 "cells": [
  {
   "cell_type": "code",
   "execution_count": 1,
   "id": "0731e047-0c7d-4a44-a8b0-371564987e7f",
   "metadata": {},
   "outputs": [],
   "source": [
    "using LinearAlgebra, Random, PyPlot\n",
    "rc(\"axes.spines\", top=false, right=false)\n",
    "rc(\"font\", family=\"Arial\")"
   ]
  },
  {
   "cell_type": "code",
   "execution_count": 2,
   "id": "599ba31e-2e87-4e30-ab04-ec4c6f93e42a",
   "metadata": {},
   "outputs": [],
   "source": [
    "t1 = 224*1e-3 # time const of eye dynamics (s)\n",
    "t2 = 13*1e-3  # another time const of eye dynamics (s)\n",
    "tm = 10*1e-3\n",
    "dt = 1e-3     # simulation time step (s)\n",
    "T = 5*1e-3  # movement duration (s)\n",
    "Tp = 5*1e-3  # post-movement duration (s)\n",
    "\n",
    "# 2nd order\n",
    "x0 = zeros(2) # initial state (pos=0, vel=0)\n",
    "xf = [10, 0]  # final state (pos=10, vel=0)\n",
    "Ac = [0 1; -1/(t1*t2) -1/t1-1/t2];\n",
    "Bc = [0, 1]\n",
    "\n",
    "n = size(x0)[1]\n",
    "ntm = round(Int, T/dt)\n",
    "ntp = round(Int, Tp/dt)\n",
    "nt = ntm + ntp # total time steps    \n",
    "\n",
    "A = I(n) + Ac * dt\n",
    "B = Bc*dt\n",
    "\n",
    "# Compute A^p * B and store\n",
    "Apow_B = zeros(n, nt)\n",
    "Apow_B[:, 1] = B\n",
    "for t in 1:nt-1\n",
    "    Apow_B[:, t+1] = A * Apow_B[:, t]\n",
    "end"
   ]
  },
  {
   "cell_type": "code",
   "execution_count": 3,
   "id": "af99d967-99ef-41b5-9201-6ab11e5b9493",
   "metadata": {},
   "outputs": [],
   "source": [
    "M = zeros(nt, nt)\n",
    "for i in ntm+1:nt\n",
    "    for j in 1:i\n",
    "        M[i, j] = Apow_B[1, i-j+1] + 5e-6\n",
    "    end\n",
    "end"
   ]
  },
  {
   "cell_type": "markdown",
   "id": "438a0ce0-31e1-4bec-a81b-2c1a9e9e4cee",
   "metadata": {},
   "source": [
    "横方向の和から縦方向の和に変換．"
   ]
  },
  {
   "cell_type": "code",
   "execution_count": 5,
   "id": "8843ffb3-f617-4229-8022-54b6ef656b57",
   "metadata": {},
   "outputs": [
    {
     "data": {
      "image/png": "[encoded data removed]",
      "text/plain": [
       "Figure(PyObject <Figure size 300x300 with 1 Axes>)"
      ]
     },
     "metadata": {},
     "output_type": "display_data"
    }
   ],
   "source": [
    "fig, ax = subplots(figsize=(3,3))\n",
    "ax.pcolormesh(M, edgecolors=\"white\", linewidth=0.5)\n",
    "#ax.annotate(\"a\", (0, 0), (1, 1), arrowprops=Dict(:arrowstyle => \"-|>\")) \n",
    "#ax.set_aspect(\"equal\")\n",
    "ax.set_ylabel(L\"$t$\")\n",
    "ax.set_xlabel(L\"$t'$\")\n",
    "fig.tight_layout()"
   ]
  }
 ],
 "metadata": {
  "kernelspec": {
   "display_name": "Julia 1.11.4",
   "language": "julia",
   "name": "julia-1.11"
  },
  "language_info": {
   "file_extension": ".jl",
   "mimetype": "application/julia",
   "name": "julia",
   "version": "1.11.4"
  }
 },
 "nbformat": 4,
 "nbformat_minor": 5
}
