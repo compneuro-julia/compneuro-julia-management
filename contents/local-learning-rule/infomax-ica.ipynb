{
 "cells": [
  {
   "cell_type": "markdown",
   "id": "51c5ee7c-6e1e-404b-8f15-67ddb32a99ef",
   "metadata": {},
   "source": [
    "# Infomax and ICA"
   ]
  }
 ],
 "metadata": {
  "kernelspec": {
   "display_name": "Julia 1.10.4",
   "language": "julia",
   "name": "julia-1.10"
  },
  "language_info": {
   "file_extension": ".jl",
   "mimetype": "application/julia",
   "name": "julia",
   "version": "1.10.4"
  }
 },
 "nbformat": 4,
 "nbformat_minor": 5
}
