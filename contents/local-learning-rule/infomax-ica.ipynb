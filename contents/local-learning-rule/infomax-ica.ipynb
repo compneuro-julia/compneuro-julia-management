{
 "cells": [
  {
   "cell_type": "markdown",
   "id": "51c5ee7c-6e1e-404b-8f15-67ddb32a99ef",
   "metadata": {},
   "source": [
    "# Infomax and ICA"
   ]
  },
  {
   "cell_type": "code",
   "execution_count": null,
   "id": "4d206399-cced-4215-ad06-4422099df46e",
   "metadata": {},
   "outputs": [],
   "source": []
  },
  {
   "cell_type": "code",
   "execution_count": null,
   "id": "91f42eb5-ce3e-444c-bd02-329da56f4dfa",
   "metadata": {},
   "outputs": [],
   "source": []
  },
  {
   "cell_type": "code",
   "execution_count": null,
   "id": "e9d4840d-1ea3-49cf-b8a6-642d93f86b62",
   "metadata": {},
   "outputs": [],
   "source": []
  },
  {
   "cell_type": "code",
   "execution_count": null,
   "id": "77539c47-2fc9-4418-aa4f-4fe84b4e869c",
   "metadata": {},
   "outputs": [],
   "source": []
  }
 ],
 "metadata": {
  "kernelspec": {
   "display_name": "Julia 1.11.4",
   "language": "julia",
   "name": "julia-1.11"
  },
  "language_info": {
   "file_extension": ".jl",
   "mimetype": "application/julia",
   "name": "julia",
   "version": "1.11.4"
  }
 },
 "nbformat": 4,
 "nbformat_minor": 5
}
