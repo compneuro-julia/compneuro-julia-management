{
 "cells": [
  {
   "cell_type": "markdown",
   "id": "c163c7ab-f494-496c-8f51-867e9ac597c5",
   "metadata": {},
   "source": [
    "https://www.nature.com/articles/s41567-023-02332-9\n",
    "https://github.com/ChrisWLynn/Heavy_tailed_connectivity"
   ]
  },
  {
   "cell_type": "code",
   "execution_count": null,
   "id": "28488a6a-2e5a-4d87-ba6e-67e940d90a7a",
   "metadata": {},
   "outputs": [],
   "source": [
    "using PyPlot, Random, Distributions, LinearAlgebra, FFTW\n",
    "rc(\"axes.spines\", top=false, right=false)"
   ]
  },
  {
   "cell_type": "code",
   "execution_count": null,
   "id": "d5bf8546-6ff4-460d-b520-d704bad36ae9",
   "metadata": {},
   "outputs": [],
   "source": []
  },
  {
   "cell_type": "code",
   "execution_count": null,
   "id": "6c1d796c-7f12-487c-afb4-bce702ca239a",
   "metadata": {},
   "outputs": [],
   "source": [
    "threshold = 10^(-6) # Convergence threshold"
   ]
  },
  {
   "cell_type": "code",
   "execution_count": null,
   "id": "16e401f9-3267-4181-8164-c74c1bfa9036",
   "metadata": {},
   "outputs": [],
   "source": [
    "% Maximum number of steps:\n",
    "max_steps = 10^6;\n",
    "\n",
    "% Initialize activities:\n",
    "x = x0;\n",
    "\n",
    "% Loop until threshold is reached:\n",
    "diff = 1;\n",
    "count = 1;\n",
    "\n",
    "while diff > threshold\n",
    "    \n",
    "    % Change in activities:\n",
    "    dx = tanh(beta*(A*x + b)) - x;\n",
    "    diff = max(abs(dx));\n",
    "    \n",
    "    % Compute new magnetizations:\n",
    "    x = x + alpha*dx;"
   ]
  }
 ],
 "metadata": {
  "kernelspec": {
   "display_name": "Julia 1.9.4",
   "language": "julia",
   "name": "julia-1.9"
  },
  "language_info": {
   "file_extension": ".jl",
   "mimetype": "application/julia",
   "name": "julia",
   "version": "1.9.4"
  }
 },
 "nbformat": 4,
 "nbformat_minor": 5
}
