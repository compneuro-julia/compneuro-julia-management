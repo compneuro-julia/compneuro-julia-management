{
 "cells": [
  {
   "cell_type": "markdown",
   "metadata": {},
   "source": [
    "# Julia言語の基本構文\n",
    "## 変数\n",
    "変数への代入は`=`で行う．変数はUnicodeも使用可能であり，LaTeXコマンドとTABキーで入力することが可能である．"
   ]
  },
  {
   "cell_type": "markdown",
   "metadata": {},
   "source": [
    "https://discourse.julialang.org/t/allow-use-of-named-argument-syntax-for-positional-arguments/5287"
   ]
  },
  {
   "cell_type": "code",
   "execution_count": 1,
   "metadata": {},
   "outputs": [
    {
     "data": {
      "text/plain": [
       "2"
      ]
     },
     "execution_count": 1,
     "metadata": {},
     "output_type": "execute_result"
    }
   ],
   "source": [
    "x = 1\n",
    "α = 2 # \\alpha + TAB key"
   ]
  },
  {
   "cell_type": "markdown",
   "metadata": {},
   "source": [
    "$$\n",
    "\\begin{table}[h]\n",
    "\\centering\n",
    "\\begin{tabular}{|c|l|l|l|}\n",
    "\\hline\n",
    "演算子 & 説明 & 使用例 & 結果 \\\\\n",
    "\\hline\n",
    "`+` & 和 & aaa & aaa \\\\\n",
    "\\hline\n",
    "`-` & 差 & aaa & aaa \\\\\n",
    "\\hline\n",
    "`*` & 積 & aaa & aaa \\\\\n",
    "\\hline\n",
    "`.*` & 配列の要素積 & aaa & aaa \\\\\n",
    "\\hline\n",
    "`/` & 除算，右から逆行列をかける & aaa & aaa \\\\\n",
    "\\hline\n",
    "`\\` & 左から逆行列をかける & aaa & aaa \\\\\n",
    "\\hline\n",
    "\\end{tabular}\n",
    "\\end{table}\n",
    "$$"
   ]
  },
  {
   "cell_type": "markdown",
   "metadata": {},
   "source": [
    "`var`を用いることで，任意の文字列を変数にすることができる．"
   ]
  },
  {
   "cell_type": "code",
   "execution_count": 4,
   "metadata": {},
   "outputs": [
    {
     "data": {
      "text/plain": [
       "10"
      ]
     },
     "execution_count": 4,
     "metadata": {},
     "output_type": "execute_result"
    }
   ],
   "source": [
    "var\"log(1+θ)\" = 3"
   ]
  },
  {
   "cell_type": "markdown",
   "metadata": {},
   "source": [
    "## 条件分岐\n",
    "`if`構文を用いることで条件分岐が可能である．"
   ]
  },
  {
   "cell_type": "code",
   "execution_count": 2,
   "metadata": {},
   "outputs": [
    {
     "name": "stdout",
     "output_type": "stream",
     "text": [
      "positive"
     ]
    }
   ],
   "source": [
    "a = 2\n",
    "if a > 0\n",
    "    print(\"positive\")\n",
    "elseif a == 0\n",
    "    print(\"zero\")\n",
    "else\n",
    "    print(\"negative\")\n",
    "end"
   ]
  },
  {
   "cell_type": "markdown",
   "metadata": {},
   "source": [
    "## 再帰的処理\n",
    "再帰的な処理を行う場合には主に`for`loop 構文を用いる．"
   ]
  },
  {
   "cell_type": "code",
   "execution_count": 2,
   "metadata": {},
   "outputs": [
    {
     "name": "stdout",
     "output_type": "stream",
     "text": [
      "11\n"
     ]
    }
   ],
   "source": [
    "x = 1\n",
    "for i in 1:10\n",
    "    x += 1\n",
    "end\n",
    "println(x)"
   ]
  },
  {
   "cell_type": "markdown",
   "metadata": {},
   "source": [
    "## 関数\n",
    "`function`により関数を定義する．"
   ]
  },
  {
   "cell_type": "markdown",
   "metadata": {},
   "source": [
    "なお，慣習として関数への入力を変更する場合に!を付けることがある．関数内で配列を変更する場合には注意が必要である．以下に入力された配列を同じサイズの要素1の配列で置き換える，ということを目的として書かれた2つの関数がある．違いは`v`の後に`[:]`としているかどうかである．"
   ]
  },
  {
   "cell_type": "code",
   "execution_count": 1,
   "metadata": {},
   "outputs": [
    {
     "data": {
      "text/plain": [
       "right! (generic function with 1 method)"
      ]
     },
     "execution_count": 1,
     "metadata": {},
     "output_type": "execute_result"
    }
   ],
   "source": [
    "function wrong!(a::Array)\n",
    "    a = ones(size(a))\n",
    "end\n",
    "\n",
    "function right!(a::Array)\n",
    "    a[:] = ones(size(a))\n",
    "end"
   ]
  },
  {
   "cell_type": "markdown",
   "metadata": {},
   "source": [
    "実行すると`wrong!`の場合には入力された配列が変更されていないことがわかる．"
   ]
  },
  {
   "cell_type": "code",
   "execution_count": 2,
   "metadata": {},
   "outputs": [
    {
     "name": "stdout",
     "output_type": "stream",
     "text": [
      "v : [0.6280091741622842 0.9725327921727986; 0.5963608481273952 0.6912407844680865]\n",
      "wrong : [0.6280091741622842 0.9725327921727986; 0.5963608481273952 0.6912407844680865]\n",
      "right : [1.0 1.0; 1.0 1.0]\n"
     ]
    }
   ],
   "source": [
    "using Random\n",
    "v = rand(2, 2)\n",
    "println(\"v : \", v)\n",
    "\n",
    "wrong!(v)\n",
    "println(\"wrong : \", v)\n",
    "\n",
    "right!(v)\n",
    "println(\"right : \", v)"
   ]
  },
  {
   "cell_type": "markdown",
   "metadata": {},
   "source": [
    "## 数値計算\n",
    "\n",
    "broadcastingの回避を行うには以下のような方法がある．"
   ]
  },
  {
   "cell_type": "code",
   "execution_count": 34,
   "metadata": {},
   "outputs": [
    {
     "data": {
      "text/plain": [
       "foo (generic function with 1 method)"
      ]
     },
     "execution_count": 34,
     "metadata": {},
     "output_type": "execute_result"
    }
   ],
   "source": [
    "foo(a,b) = sum(a) + b"
   ]
  },
  {
   "cell_type": "code",
   "execution_count": 35,
   "metadata": {},
   "outputs": [
    {
     "name": "stdout",
     "output_type": "stream",
     "text": [
      "[6, 7, 8]\n",
      "[6, 7, 8]\n",
      "[6, 7, 8]\n"
     ]
    }
   ],
   "source": [
    "println(foo.(Ref([1,2]),[3,4,5]))\n",
    "println(foo.(([1,2],), [3,4,5]))\n",
    "println(foo.([[1,2]], [3,4,5]))"
   ]
  },
  {
   "cell_type": "markdown",
   "metadata": {},
   "source": [
    "## その他の関数について\n",
    "Juliaの余りの関数は `rem(x, y)` と `mod(x, y)`がある．Juliaの`x % y`は`rem`と同じだが，Pythonの場合は`mod`と同じなので注意．"
   ]
  },
  {
   "cell_type": "code",
   "execution_count": 1,
   "metadata": {},
   "outputs": [
    {
     "name": "stdout",
     "output_type": "stream",
     "text": [
      "% : -1, rem : -1, mod : 1\n"
     ]
    }
   ],
   "source": [
    "println(\"% : \", -1 % 2, \", rem : \", rem(-1, 2), \", mod : \", mod(-1, 2))"
   ]
  },
  {
   "cell_type": "markdown",
   "metadata": {},
   "source": [
    "Juliaでは、シンプルで読みやすい構文を持つため、制御構造（`if`文や`for`文など）も直感的に書くことができます。以下に基礎的な文法と使用例を挙げて説明します。\r\n",
    "\r\n",
    "---\r\n",
    "\r\n",
    "### 1. **`if` 文**\r\n",
    "条件分岐を行うための構文です。\r\n",
    "\r\n",
    "#### 基本構文:\r\n",
    "```julia\r\n",
    "if 条件\r\n",
    "    # 条件が真の場合に実行する処理\r\n",
    "elseif 別の条件\r\n",
    "    # 別の条件が真の場合に実行する処理\r\n",
    "else\r\n",
    "    # どの条件も真でない場合に実行する処理\r\n",
    "end\r\n",
    "```\r\n",
    "\r\n",
    "#### 例:\r\n",
    "```julia\r\n",
    "x = 10\r\n",
    "\r\n",
    "if x > 0\r\n",
    "    println(\"x は正の数です\")\r\n",
    "elseif x == 0\r\n",
    "    println(\"x は 0 です\")\r\n",
    "else\r\n",
    "    println(\"x は負の数です\")\r\n",
    "end\r\n",
    "```\r\n",
    "\r\n",
    "---\r\n",
    "\r\n",
    "### 2. **`for` 文**\r\n",
    "繰り返し処理を行います。\r\n",
    "\r\n",
    "#### 基本構文:\r\n",
    "```julia\r\n",
    "for 変数 in イテラブルオブジェクト\r\n",
    "    # 繰り返し処理\r\n",
    "end\r\n",
    "```\r\n",
    "\r\n",
    "#### 例:\r\n",
    "```julia\r\n",
    "# 配列をループ\r\n",
    "for i in [1, 2, 3, 4, 5]\r\n",
    "    println(i)\r\n",
    "end\r\n",
    "\r\n",
    "# 範囲をループ\r\n",
    "for i in 1:5  # 1 から 5 まで\r\n",
    "    println(i)\r\n",
    "end\r\n",
    "\r\n",
    "# ネストしたループ\r\n",
    "for i in 1:3, j in 1:2\r\n",
    "    println(\"i=$i, j=$j\")\r\n",
    "end\r\n",
    "```\r\n",
    "\r\n",
    "---\r\n",
    "\r\n",
    "### 3. **`while` 文**\r\n",
    "条件が真の間、処理を繰り返します。\r\n",
    "\r\n",
    "#### 基本構文:\r\n",
    "```julia\r\n",
    "while 条件\r\n",
    "    # 繰り返し処理\r\n",
    "end\r\n",
    "```\r\n",
    "\r\n",
    "#### 例:\r\n",
    "```julia\r\n",
    "n = 0\r\n",
    "while n < 5\r\n",
    "    println(n)\r\n",
    "    n += 1\r\n",
    "end\r\n",
    "```\r\n",
    "\r\n",
    "---\r\n",
    "\r\n",
    "### 4. **`break` と `continue`**\r\n",
    "ループを制御するためのキーワードです。\r\n",
    "\r\n",
    "- `break`: ループを完全に終了する。\r\n",
    "- `continue`: 残りの処理をスキップして次の繰り返しに移る。\r\n",
    "\r\n",
    "#### 例:\r\n",
    "```julia\r\n",
    "# break の例\r\n",
    "for i in 1:10\r\n",
    "    if i > 5\r\n",
    "        break\r\n",
    "    end\r\n",
    "    println(i)\r\n",
    "end\r\n",
    "\r\n",
    "# continue の例\r\n",
    "for i in 1:10\r\n",
    "    if i % 2 == 0\r\n",
    "        continue\r\n",
    "    end\r\n",
    "    println(i)  # 奇数のみ出力\r\n",
    "end\r\n",
    "```\r\n",
    "\r\n",
    "---\r\n",
    "\r\n",
    "### 5. **`try-catch`**\r\n",
    "例外処理を行うための構文です。\r\n",
    "\r\n",
    "#### 基本構文:\r\n",
    "```julia\r\n",
    "try\r\n",
    "    # 試行する処理\r\n",
    "catch エラーの種類\r\n",
    "    # エラーが発生した場合の処理\r\n",
    "finally\r\n",
    "    # 必ず実行する処理（オプション）\r\n",
    "end\r\n",
    "```\r\n",
    "\r\n",
    "#### 例:\r\n",
    "```julia\r\n",
    "try\r\n",
    "    x = 10 / 0  # ゼロ除算エラー\r\n",
    "catch e\r\n",
    "    println(\"エラーが発生しました: $e\")\r\n",
    "finally\r\n",
    "    println(\"終了処理を実行\")\r\n",
    "end\r\n",
    "```\r\n",
    "\r\n",
    "---\r\n",
    "\r\n",
    "### 6. **`function`（関数定義）**\r\n",
    "関数を定義する際の構文です。\r\n",
    "\r\n",
    "#### 基本構文:\r\n",
    "```julia\r\n",
    "function 関数名(引数1, 引数2, ...)\r\n",
    "    # 関数の処理\r\n",
    "    return 戻り値\r\n",
    "end\r\n",
    "```\r\n",
    "\r\n",
    "#### 例:\r\n",
    "```julia\r\n",
    "# 通常の関数定義\r\n",
    "function add(x, y)\r\n",
    "    return x + y\r\n",
    "end\r\n",
    "\r\n",
    "# 呼び出し\r\n",
    "println(add(2, 3))  # 結果: 5\r\n",
    "\r\n",
    "# 簡易的な関数定義（ワンライナー）\r\n",
    "multiply(x, y) = x * y\r\n",
    "println(multiply(2, 3))  # 結果: 6\r\n",
    "```\r\n",
    "\r\n",
    "---\r\n",
    "\r\n",
    "### 7. **複数の値の返却**\r\n",
    "Juliaでは関数で複数の値をタプルとして返すことができます。\r\n",
    "\r\n",
    "#### 例:\r\n",
    "```julia\r\n",
    "function stats(a, b)\r\n",
    "    sum = a + b\r\n",
    "    product = a * b\r\n",
    "    return sum, product\r\n",
    "end\r\n",
    "\r\n",
    "s, p = stats(3, 4)  # タプルを分解して受け取る\r\n",
    "println(\"合計: $s, 積: $p\")\r\n",
    "```\r\n",
    "\r\n",
    "---\r\n",
    "\r\n",
    "### 8. **`@` を使ったマクロ**\r\n",
    "Juliaでは、マクロを使ってコードの実行を拡張できます。\r\n",
    "\r\n",
    "#### 例:\r\n",
    "```julia\r\n",
    "# @time を使った処理時間の計測\r\n",
    "@time sum(1:1000000)\r\n",
    "```\r\n",
    "\r\n",
    "---\r\n",
    "\r\n",
    "### まとめ\r\n",
    "Juliaの制御構造や基本文法は非常にシンプルでありながら、柔軟性が高いのが特徴です。また、ベクトル化された操作や並列計算も簡単に組み込むことができるため、数値計算や科学技術計算に適しています。"
   ]
  },
  {
   "cell_type": "markdown",
   "metadata": {},
   "source": [
    "Juliaでは、`struct` を使用して独自のデータ型を定義することができます。`struct` はデータを整理してまとめるための強力なツールで、オブジェクト指向プログラミングに近い感覚で利用できます。以下に、`struct` の基本的な使い方と特徴を説明します。\r\n",
    "\r\n",
    "---\r\n",
    "\r\n",
    "## **1. `struct` の基本的な定義**\r\n",
    "Juliaの`struct`はフィールドを持つデータ型を定義します。\r\n",
    "\r\n",
    "### 基本構文:\r\n",
    "```julia\r\n",
    "struct Struct名\r\n",
    "    フィールド1::型\r\n",
    "    フィールド2::型\r\n",
    "    ...\r\n",
    "end\r\n",
    "```\r\n",
    "\r\n",
    "### 例:\r\n",
    "```julia\r\n",
    "struct Point\r\n",
    "    x::Float64\r\n",
    "    y::Float64\r\n",
    "end\r\n",
    "\r\n",
    "# インスタンスの作成\r\n",
    "p = Point(1.0, 2.0)\r\n",
    "\r\n",
    "# フィールドへのアクセス\r\n",
    "println(p.x)  # 出力: 1.0\r\n",
    "println(p.y)  # 出力: 2.0\r\n",
    "```\r\n",
    "\r\n",
    "---\r\n",
    "\r\n",
    "## **2. ミュータブルな構造体**\r\n",
    "デフォルトの`struct`はイミュータブル（不変）ですが、フィールドを変更可能にしたい場合は `mutable struct` を使います。\r\n",
    "\r\n",
    "### 例:\r\n",
    "```julia\r\n",
    "mutable struct MutablePoint\r\n",
    "    x::Float64\r\n",
    "    y::Float64\r\n",
    "end\r\n",
    "\r\n",
    "# インスタンスの作成\r\n",
    "mp = MutablePoint(1.0, 2.0)\r\n",
    "\r\n",
    "# フィールドの更新\r\n",
    "mp.x = 3.0\r\n",
    "println(mp.x)  # 出力: 3.0\r\n",
    "```\r\n",
    "\r\n",
    "---\r\n",
    "\r\n",
    "## **3. 型パラメータを使用したジェネリックな構造体**\r\n",
    "特定の型に依存しない柔軟な構造体を作成できます。\r\n",
    "\r\n",
    "### 例:\r\n",
    "```julia\r\n",
    "struct Point{T}\r\n",
    "    x::T\r\n",
    "    y::T\r\n",
    "end\r\n",
    "\r\n",
    "# Float64 型の Point\r\n",
    "p1 = Point{Float64}(1.0, 2.0)\r\n",
    "\r\n",
    "# Int 型の Point\r\n",
    "p2 = Point{Int}(1, 2)\r\n",
    "\r\n",
    "println(p1)  # 出力: Point{Float64}(1.0, 2.0)\r\n",
    "println(p2)  # 出力: Point{Int64}(1, 2)\r\n",
    "```\r\n",
    "\r\n",
    "型パラメータは複数使用することも可能です。\r\n",
    "\r\n",
    "```julia\r\n",
    "struct Pair{T, U}\r\n",
    "    first::T\r\n",
    "    second::U\r\n",
    "end\r\n",
    "\r\n",
    "p = Pair(1, \"one\")\r\n",
    "println(p)  # 出力: Pair{Int64, String}(1, \"one\")\r\n",
    "```\r\n",
    "\r\n",
    "---\r\n",
    "\r\n",
    "## **4. コンストラクタの定義**\r\n",
    "`struct` にはデフォルトでコンストラクタ（インスタンスを作成する関数）が用意されていますが、独自のコンストラクタを定義することも可能です。\r\n",
    "\r\n",
    "### 例:\r\n",
    "```julia\r\n",
    "struct Rectangle\r\n",
    "    width::Float64\r\n",
    "    height::Float64\r\n",
    "\r\n",
    "    # 独自のコンストラクタ\r\n",
    "    Rectangle(size::Float64) = new(size, size)\r\n",
    "end\r\n",
    "\r\n",
    "# 通常のコンストラクタ\r\n",
    "r1 = Rectangle(3.0, 4.0)\r\n",
    "\r\n",
    "# 独自のコンストラクタ\r\n",
    "r2 = Rectangle(5.0)\r\n",
    "\r\n",
    "println(r1)  # 出力: Rectangle(3.0, 4.0)\r\n",
    "println(r2)  # 出力: Rectangle(5.0, 5.0)\r\n",
    "```\r\n",
    "\r\n",
    "---\r\n",
    "\r\n",
    "## **5. フィールドを持たない構造体**\r\n",
    "フィールドを持たない空の構造体を定義することもできます。これはフラグや定数として役立つ場合があります。\r\n",
    "\r\n",
    "### 例:\r\n",
    "```julia\r\n",
    "struct Empty end\r\n",
    "\r\n",
    "e = Empty()\r\n",
    "println(e)  # 出力: Empty()\r\n",
    "```\r\n",
    "\r\n",
    "---\r\n",
    "\r\n",
    "## **6. メソッドの定義**\r\n",
    "`struct` を使って定義した型に関連するメソッドを定義することで、構造体を操作する方法を提供できます。\r\n",
    "\r\n",
    "### 例:\r\n",
    "```julia\r\n",
    "struct Circle\r\n",
    "    radius::Float64\r\n",
    "end\r\n",
    "\r\n",
    "# メソッドの定義\r\n",
    "area(c::Circle) = π * c.radius^2\r\n",
    "perimeter(c::Circle) = 2 * π * c.radius\r\n",
    "\r\n",
    "# 使用例\r\n",
    "c = Circle(3.0)\r\n",
    "println(area(c))       # 出力: 28.274333882308138\r\n",
    "println(perimeter(c))  # 出力: 18.84955592153876\r\n",
    "```\r\n",
    "\r\n",
    "---\r\n",
    "\r\n",
    "## **7. 型の比較**\r\n",
    "構造体のインスタンス同士を比較するためには、`Base` モジュールの関数をオーバーロードします。\r\n",
    "\r\n",
    "### 例:\r\n",
    "```julia\r\n",
    "struct Point\r\n",
    "    x::Float64\r\n",
    "    y::Float64\r\n",
    "end\r\n",
    "\r\n",
    "Base.:==(p1::Point, p2::Point) = p1.x == p2.x && p1.y == p2.y\r\n",
    "\r\n",
    "p1 = Point(1.0, 2.0)\r\n",
    "p2 = Point(1.0, 2.0)\r\n",
    "p3 = Point(2.0, 3.0)\r\n",
    "\r\n",
    "println(p1 == p2)  # 出力: true\r\n",
    "println(p1 == p3)  # 出力: false\r\n",
    "```\r\n",
    "\r\n",
    "---\r\n",
    "\r\n",
    "## **8. 構造体のデフォルト値**\r\n",
    "Juliaの`struct`ではデフォルト値を直接指定することはできませんが、デフォルト値を持つコンストラクタを作成することで対応可能です。\r\n",
    "\r\n",
    "### 例:\r\n",
    "```julia\r\n",
    "struct Point\r\n",
    "    x::Float64\r\n",
    "    y::Float64\r\n",
    "\r\n",
    "    # デフォルト値を指定するコンストラクタ\r\n",
    "    Point() = new(0.0, 0.0)\r\n",
    "end\r\n",
    "\r\n",
    "p = Point()\r\n",
    "println(p)  # 出力: Point(0.0, 0.0)\r\n",
    "```\r\n",
    "\r\n",
    "---\r\n",
    "\r\n",
    "## **9. `isbits` 構造体**\r\n",
    "すべてのフィールドが「プリミティブ型」またはイミュータブルである場合、`isbits` 構造体とみなされ、メモリ効率が向上します。\r\n",
    "\r\n",
    "### 例:\r\n",
    "```julia\r\n",
    "struct Point\r\n",
    "    x::Float64\r\n",
    "    y::Float64\r\n",
    "end\r\n",
    "\r\n",
    "println(isbits(Point))  # 出力: true\r\n",
    "```\r\n",
    "\r\n",
    "---\r\n",
    "\r\n",
    "## まとめ\r\n",
    "- Juliaの`struct`は簡単に独自のデータ型を定義できます。\r\n",
    "- `mutable struct` を使うとフィールドを変更可能にできます。\r\n",
    "- 型パラメータを使えば汎用的な構造体を定義できます。\r\n",
    "- コンストラクタやメソッドをカスタマイズすることで、柔軟な操作が可能です。\r\n",
    "\r\n",
    "これらを活用して、効率的で整理されたプログラムを書くことができます！"
   ]
  },
  {
   "cell_type": "markdown",
   "metadata": {},
   "source": [
    "基本的にmutable structは使用しない．structでは配列を新しく代入することはできないが，値を更新することは可能である．\n",
    "関数はone lineでかける．"
   ]
  }
 ],
 "metadata": {
  "kernelspec": {
   "display_name": "Julia 1.11.4",
   "language": "julia",
   "name": "julia-1.11"
  },
  "language_info": {
   "file_extension": ".jl",
   "mimetype": "application/julia",
   "name": "julia",
   "version": "1.11.4"
  }
 },
 "nbformat": 4,
 "nbformat_minor": 4
}
