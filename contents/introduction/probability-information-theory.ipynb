{
 "cells": [
  {
   "cell_type": "markdown",
   "id": "6cf3c83c",
   "metadata": {},
   "source": [
    "# 確率論"
   ]
  },
  {
   "cell_type": "markdown",
   "id": "45f981d1",
   "metadata": {},
   "source": [
    "\n",
    "## 期待値 (Expectation)\n",
    "\n",
    "$$\n",
    "\\mathbb{E}_{x\\sim p(x)}\\left[f(x)\\right]:=\\int f(x)p(x)dx\n",
    "$$\n",
    "\n",
    "$x\\sim p(x)$ が明示的な場合は $\\mathbb{E}_{p(x)}\\left[f(x)\\right]$ や $\\mathbb{E}\\left[f(x)\\right]$ と表す。\n",
    "\n",
    "## 情報量 (Information)\n",
    "出現頻度が低い事象は多くの情報量を持つ (Shannon, 1948)。\n",
    "\n",
    "$$\n",
    "\\mathbb{I}(x):=\\ln\\left(\\frac{1}{p(x)}\\right)=-\\ln p(x)\n",
    "$$\n",
    "\n",
    "$\\mathbf{I}$は単位行列なので注意。\n",
    "\n",
    "## 平均情報量 (エントロピー, entropy)\n",
    "\n",
    "$$\n",
    "\\begin{align}\n",
    "\\mathbb{H}(x)&:=\\mathbb{E}[-\\ln p(x)]\\\\\n",
    "\\mathbb{H}(x\\vert y)&:=\\mathbb{E}[-\\ln p(x\\vert y)]\n",
    "\\end{align}\n",
    "$$\n",
    "\n",
    "## Kullback-Leibler 情報量\n",
    "Kullback-Leibler (KL) divergence (Kullback and Leibler, 1951)\n",
    "\n",
    "$$\n",
    "\\begin{align}\n",
    "D_{\\text{KL}}\\left(p(x) \\Vert\\ q(x)\\right)&:=\\int p(x) \\ln \\frac{p(x)}{q(x)} dx\\\\\n",
    "&=\\int p(x) \\ln p(x) dx-\\int p(x) \\ln q(x) dx\\\\\n",
    "&=\\mathbb{E}_{x\\sim p(x)}[\\ln p(x)]-\\mathbb{E}_{x\\sim p(x)}[\\ln q(x)]\\\\\n",
    "&=-\\mathbb{H}(x)-\\mathbb{E}_{x\\sim p(x)}[\\ln q(x)]\n",
    "\\end{align}\n",
    "$$\n",
    "\n",
    "## 相互情報量 (Mutual information)\n"
   ]
  }
 ],
 "metadata": {
  "kernelspec": {
   "display_name": "Julia 1.8.0-rc1",
   "language": "julia",
   "name": "julia-1.8"
  },
  "language_info": {
   "file_extension": ".jl",
   "mimetype": "application/julia",
   "name": "julia",
   "version": "1.8.0"
  }
 },
 "nbformat": 4,
 "nbformat_minor": 5
}
