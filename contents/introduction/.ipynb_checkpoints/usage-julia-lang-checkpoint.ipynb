{
 "cells": [
  {
   "cell_type": "markdown",
   "metadata": {},
   "source": [
    "# Julia言語の基本構文\n",
    "## 変数\n",
    "aaa"
   ]
  },
  {
   "cell_type": "code",
   "execution_count": 1,
   "metadata": {},
   "outputs": [
    {
     "data": {
      "text/plain": [
       "2"
      ]
     },
     "execution_count": 1,
     "metadata": {},
     "output_type": "execute_result"
    }
   ],
   "source": [
    "x = 1\n",
    "α = 2 # \\alpha + TAB key"
   ]
  },
  {
   "cell_type": "markdown",
   "metadata": {},
   "source": [
    "|演算子|説明|使用例|結果|\n",
    "|:-|:-|:-|:-|\n",
    "|`+`|和|aaa|aaa|\n",
    "|`-`|差|aaa|aaa|\n",
    "|`*`|積|aaa|aaa|\n",
    "|`.*`|配列の要素積|aaa|aaa|\n",
    "|`/`|除算，右から逆行列をかける|aaa|aaa|\n",
    "|`\\`|左から逆行列をかける|aaa|aaa|\n"
   ]
  },
  {
   "cell_type": "markdown",
   "metadata": {},
   "source": [
    "`var`を用いることで，任意の文字列を変数にすることができる．"
   ]
  },
  {
   "cell_type": "code",
   "execution_count": 4,
   "metadata": {},
   "outputs": [
    {
     "data": {
      "text/plain": [
       "10"
      ]
     },
     "execution_count": 4,
     "metadata": {},
     "output_type": "execute_result"
    }
   ],
   "source": [
    "var\"log(1+θ)\" = 10"
   ]
  },
  {
   "cell_type": "markdown",
   "metadata": {},
   "source": [
    "Juliaの余りの関数は `rem(x, y)` と `mod(x, y)`がある．Juliaの`x % y`は`rem`と同じだが，Pythonの場合は`mod`と同じなので注意．"
   ]
  },
  {
   "cell_type": "code",
   "execution_count": null,
   "metadata": {},
   "outputs": [],
   "source": [
    "println(\"% : \", -1 % 2, \", rem : \", rem(-1, 2), \", mod : \", mod(-1, 2))"
   ]
  },
  {
   "cell_type": "markdown",
   "metadata": {},
   "source": [
    "## for loop\n",
    "aaa"
   ]
  },
  {
   "cell_type": "code",
   "execution_count": 2,
   "metadata": {},
   "outputs": [
    {
     "name": "stdout",
     "output_type": "stream",
     "text": [
      "11\n"
     ]
    }
   ],
   "source": [
    "x = 1\n",
    "for i in 1:10\n",
    "    x += 1\n",
    "end\n",
    "println(x)"
   ]
  },
  {
   "cell_type": "markdown",
   "metadata": {},
   "source": [
    "## 関数名の!記号\n",
    "単なる**慣習**として関数への入力を変更する場合に!を付ける．\n",
    "\n",
    "関数内で配列を変更する場合には注意が必要である．以下に入力された配列を同じサイズの要素1の配列で置き換える，ということを目的として書かれた2つの関数がある．違いは`v`の後に`[:]`としているかどうかである．"
   ]
  },
  {
   "cell_type": "code",
   "execution_count": 1,
   "metadata": {},
   "outputs": [
    {
     "data": {
      "text/plain": [
       "right! (generic function with 1 method)"
      ]
     },
     "execution_count": 1,
     "metadata": {},
     "output_type": "execute_result"
    }
   ],
   "source": [
    "function wrong!(a::Array)\n",
    "    a = ones(size(a))\n",
    "end\n",
    "\n",
    "function right!(a::Array)\n",
    "    a[:] = ones(size(a))\n",
    "end"
   ]
  },
  {
   "cell_type": "markdown",
   "metadata": {},
   "source": [
    "実行すると`wrong!`の場合には入力された配列が変更されていないことがわかる．"
   ]
  },
  {
   "cell_type": "code",
   "execution_count": 2,
   "metadata": {},
   "outputs": [
    {
     "name": "stdout",
     "output_type": "stream",
     "text": [
      "v : [0.6280091741622842 0.9725327921727986; 0.5963608481273952 0.6912407844680865]\n",
      "wrong : [0.6280091741622842 0.9725327921727986; 0.5963608481273952 0.6912407844680865]\n",
      "right : [1.0 1.0; 1.0 1.0]\n"
     ]
    }
   ],
   "source": [
    "using Random\n",
    "v = rand(2, 2)\n",
    "println(\"v : \", v)\n",
    "\n",
    "wrong!(v)\n",
    "println(\"wrong : \", v)\n",
    "\n",
    "right!(v)\n",
    "println(\"right : \", v)"
   ]
  },
  {
   "cell_type": "markdown",
   "metadata": {},
   "source": [
    "## broadcastingの回避\n",
    "aaa"
   ]
  },
  {
   "cell_type": "code",
   "execution_count": 34,
   "metadata": {},
   "outputs": [
    {
     "data": {
      "text/plain": [
       "foo (generic function with 1 method)"
      ]
     },
     "execution_count": 34,
     "metadata": {},
     "output_type": "execute_result"
    }
   ],
   "source": [
    "foo(a,b) = sum(a) + b"
   ]
  },
  {
   "cell_type": "code",
   "execution_count": 35,
   "metadata": {},
   "outputs": [
    {
     "name": "stdout",
     "output_type": "stream",
     "text": [
      "[6, 7, 8]\n",
      "[6, 7, 8]\n",
      "[6, 7, 8]\n"
     ]
    }
   ],
   "source": [
    "println(foo.(Ref([1,2]),[3,4,5]))\n",
    "println(foo.(([1,2],), [3,4,5]))\n",
    "println(foo.([[1,2]], [3,4,5]))"
   ]
  }
 ],
 "metadata": {
  "kernelspec": {
   "display_name": "Julia 1.8.5",
   "language": "julia",
   "name": "julia-1.8"
  },
  "language_info": {
   "file_extension": ".jl",
   "mimetype": "application/julia",
   "name": "julia",
   "version": "1.8.5"
  }
 },
 "nbformat": 4,
 "nbformat_minor": 4
}
