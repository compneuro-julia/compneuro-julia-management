{
 "cells": [
  {
   "cell_type": "markdown",
   "id": "92471ded",
   "metadata": {},
   "source": [
    "# 線形代数"
   ]
  },
  {
   "cell_type": "code",
   "execution_count": 1,
   "id": "447f4d29",
   "metadata": {},
   "outputs": [],
   "source": [
    "using LinearAlgebra"
   ]
  },
  {
   "cell_type": "markdown",
   "id": "c28536cc",
   "metadata": {},
   "source": [
    "### ベクトル\n",
    "Juliaは列ベクトルが基本．\n",
    "\n",
    "$$\n",
    "\\mathbf{a}=[a_1, a_2, \\ldots, a_n]^\\top\n",
    "$$"
   ]
  },
  {
   "cell_type": "code",
   "execution_count": 2,
   "id": "88b0db5f",
   "metadata": {},
   "outputs": [
    {
     "data": {
      "text/plain": [
       "3-element Vector{Int64}:\n",
       " 1\n",
       " 2\n",
       " 3"
      ]
     },
     "execution_count": 2,
     "metadata": {},
     "output_type": "execute_result"
    }
   ],
   "source": [
    "a = [1, 2, 3]"
   ]
  },
  {
   "cell_type": "markdown",
   "id": "0eb52433",
   "metadata": {},
   "source": [
    "### 行列\n",
    "\n",
    "$$\n",
    "\\begin{aligned}\n",
    "\\mathbf{A} =\\left[\\begin{array}{ccc}\n",
    "a_{11} & \\cdots & a_{1n} \\\\\n",
    "\\vdots & \\ddots & \\vdots  \\\\\n",
    "a_{1n} & \\cdots & a_{nn}\n",
    "\\end{array}\\right]\n",
    "\\end{aligned} \\in \\mathbb{R}^n\n",
    "$$\n",
    "\n",
    "行列$\\mathbf{A}$の$(i, j)$成分を$\\mathbf{A}_{ij}=a_{ij}$とする．"
   ]
  },
  {
   "cell_type": "code",
   "execution_count": 3,
   "id": "5ab0985a",
   "metadata": {},
   "outputs": [
    {
     "data": {
      "text/plain": [
       "Any[]"
      ]
     },
     "execution_count": 3,
     "metadata": {},
     "output_type": "execute_result"
    }
   ],
   "source": [
    "A = []"
   ]
  },
  {
   "cell_type": "markdown",
   "id": "41504532",
   "metadata": {},
   "source": [
    "## 要素ごとの演算\n",
    "### 行列の行・列ごとの正規化\n",
    "シミュレーションにおいてニューロン間の重み行列を行あるいは列ごとに正規化 (weight normalization)する場合がある．これは各ニューロンへの入力の大きさを同じにする働きや重みの発散を防ぐ役割がある．以下では行ごとの和を1にする．"
   ]
  },
  {
   "cell_type": "code",
   "execution_count": 4,
   "id": "611c01c1",
   "metadata": {},
   "outputs": [
    {
     "data": {
      "text/plain": [
       "3×3 Matrix{Float64}:\n",
       " 0.926253  0.353171   0.343478\n",
       " 0.62924   0.0944723  0.917437\n",
       " 0.680284  0.170864   0.654275"
      ]
     },
     "execution_count": 4,
     "metadata": {},
     "output_type": "execute_result"
    }
   ],
   "source": [
    "W = rand(3,3)"
   ]
  },
  {
   "cell_type": "code",
   "execution_count": 5,
   "id": "4d6817c3",
   "metadata": {},
   "outputs": [
    {
     "data": {
      "text/plain": [
       "3×3 Matrix{Float64}:\n",
       " 0.414287  0.571006  0.179344\n",
       " 0.281441  0.152742  0.479032\n",
       " 0.304272  0.276252  0.341624"
      ]
     },
     "execution_count": 5,
     "metadata": {},
     "output_type": "execute_result"
    }
   ],
   "source": [
    "Wnormed = W ./ sum(W, dims=1)"
   ]
  },
  {
   "cell_type": "code",
   "execution_count": 6,
   "id": "ef1005ef",
   "metadata": {},
   "outputs": [
    {
     "name": "stdout",
     "output_type": "stream",
     "text": [
      "[1.0 1.0 1.0]\n"
     ]
    }
   ],
   "source": [
    "println(sum(Wnormed, dims=1))"
   ]
  },
  {
   "cell_type": "markdown",
   "id": "dfcef77a",
   "metadata": {},
   "source": [
    "### 行列の結合 (concatenate)\n",
    "行列の結合はMATLABに近い形式で行うことができる．まず，2つの行列A, Bを用意する．"
   ]
  },
  {
   "cell_type": "code",
   "execution_count": 7,
   "id": "324d63ac",
   "metadata": {},
   "outputs": [
    {
     "data": {
      "text/plain": [
       "2×2 Matrix{Int64}:\n",
       " 1  2\n",
       " 3  4"
      ]
     },
     "execution_count": 7,
     "metadata": {},
     "output_type": "execute_result"
    }
   ],
   "source": [
    "A = [1 2; 3 4]"
   ]
  },
  {
   "cell_type": "code",
   "execution_count": 8,
   "id": "a638ea49",
   "metadata": {},
   "outputs": [
    {
     "data": {
      "text/plain": [
       "2×3 Matrix{Int64}:\n",
       " 4  5  6\n",
       " 7  8  9"
      ]
     },
     "execution_count": 8,
     "metadata": {},
     "output_type": "execute_result"
    }
   ],
   "source": [
    "B = [4 5 6; 7 8 9]"
   ]
  },
  {
   "cell_type": "markdown",
   "id": "6ee33fe1",
   "metadata": {},
   "source": [
    "### 水平結合 (Horizontal concatenation)\n",
    "`hcat`を使うやり方と，`[ ]`を使うやり方がある．"
   ]
  },
  {
   "cell_type": "code",
   "execution_count": 9,
   "id": "2fce5bcd",
   "metadata": {},
   "outputs": [
    {
     "data": {
      "text/plain": [
       "2×5 Matrix{Int64}:\n",
       " 1  2  4  5  6\n",
       " 3  4  7  8  9"
      ]
     },
     "execution_count": 9,
     "metadata": {},
     "output_type": "execute_result"
    }
   ],
   "source": [
    "H1 = hcat(A,B)"
   ]
  },
  {
   "cell_type": "code",
   "execution_count": 10,
   "id": "35c8344b",
   "metadata": {},
   "outputs": [
    {
     "data": {
      "text/plain": [
       "2×5 Matrix{Int64}:\n",
       " 1  2  4  5  6\n",
       " 3  4  7  8  9"
      ]
     },
     "execution_count": 10,
     "metadata": {},
     "output_type": "execute_result"
    }
   ],
   "source": [
    "H2 = [A B]"
   ]
  },
  {
   "cell_type": "markdown",
   "id": "a9173428",
   "metadata": {},
   "source": [
    "なお，MATLABのように次のようにすると正しく結合はされない．"
   ]
  },
  {
   "cell_type": "code",
   "execution_count": 11,
   "id": "92c19136",
   "metadata": {},
   "outputs": [
    {
     "data": {
      "text/plain": [
       "2-element Vector{Matrix{Int64}}:\n",
       " [1 2; 3 4]\n",
       " [4 5 6; 7 8 9]"
      ]
     },
     "execution_count": 11,
     "metadata": {},
     "output_type": "execute_result"
    }
   ],
   "source": [
    "H3 = [A, B]"
   ]
  },
  {
   "cell_type": "markdown",
   "id": "f74ea51b",
   "metadata": {},
   "source": [
    "### 垂直結合 (Vertical concatenation)"
   ]
  },
  {
   "cell_type": "code",
   "execution_count": 12,
   "id": "aa98f7b6",
   "metadata": {},
   "outputs": [
    {
     "data": {
      "text/plain": [
       "5×2 Matrix{Int64}:\n",
       " 1  2\n",
       " 3  4\n",
       " 4  7\n",
       " 5  8\n",
       " 6  9"
      ]
     },
     "execution_count": 12,
     "metadata": {},
     "output_type": "execute_result"
    }
   ],
   "source": [
    "V1 = vcat(A, B')"
   ]
  },
  {
   "cell_type": "code",
   "execution_count": 13,
   "id": "9d91327a",
   "metadata": {},
   "outputs": [
    {
     "data": {
      "text/plain": [
       "5×2 Matrix{Int64}:\n",
       " 1  2\n",
       " 3  4\n",
       " 4  7\n",
       " 5  8\n",
       " 6  9"
      ]
     },
     "execution_count": 13,
     "metadata": {},
     "output_type": "execute_result"
    }
   ],
   "source": [
    "V2 = [A; B']"
   ]
  },
  {
   "cell_type": "code",
   "execution_count": 14,
   "id": "d1ccd9c5",
   "metadata": {},
   "outputs": [
    {
     "data": {
      "text/plain": [
       "5×4 Matrix{Int64}:\n",
       " 1  2  1  2\n",
       " 3  4  3  4\n",
       " 4  7  4  7\n",
       " 5  8  5  8\n",
       " 6  9  6  9"
      ]
     },
     "execution_count": 14,
     "metadata": {},
     "output_type": "execute_result"
    }
   ],
   "source": [
    "[V2 [A;B']]"
   ]
  },
  {
   "cell_type": "markdown",
   "id": "d9737a02",
   "metadata": {},
   "source": [
    "## 配列に新しい軸を追加\n",
    "要はnumpyでの`A[None, :]`や`A[np.newaxis, :]`のようなことがしたい場合．やや面倒だが，`reshape`を使うか，`[CartesianIndex()]`を用いる．"
   ]
  },
  {
   "cell_type": "code",
   "execution_count": 15,
   "id": "92092ff7",
   "metadata": {},
   "outputs": [
    {
     "data": {
      "text/plain": [
       "3-element Vector{Float64}:\n",
       " 0.9225597515419179\n",
       " 0.658120481093438\n",
       " 0.41401801671066496"
      ]
     },
     "execution_count": 15,
     "metadata": {},
     "output_type": "execute_result"
    }
   ],
   "source": [
    "v = rand(3)"
   ]
  },
  {
   "cell_type": "code",
   "execution_count": 16,
   "id": "e4b77537",
   "metadata": {},
   "outputs": [
    {
     "data": {
      "text/plain": [
       "1×3 Matrix{Float64}:\n",
       " 0.92256  0.65812  0.414018"
      ]
     },
     "execution_count": 16,
     "metadata": {},
     "output_type": "execute_result"
    }
   ],
   "source": [
    "newaxis = [CartesianIndex()]\n",
    "v1 = v[newaxis, :]"
   ]
  },
  {
   "cell_type": "markdown",
   "id": "b885abcd",
   "metadata": {},
   "source": [
    "### 単位行列"
   ]
  },
  {
   "cell_type": "code",
   "execution_count": 17,
   "id": "277919b6",
   "metadata": {},
   "outputs": [
    {
     "data": {
      "text/plain": [
       "UniformScaling{Bool}\n",
       "true*I"
      ]
     },
     "execution_count": 17,
     "metadata": {},
     "output_type": "execute_result"
    }
   ],
   "source": [
    "I"
   ]
  },
  {
   "cell_type": "code",
   "execution_count": 18,
   "id": "c8fd7a93",
   "metadata": {},
   "outputs": [
    {
     "data": {
      "text/plain": [
       "3×3 Diagonal{Bool, Vector{Bool}}:\n",
       " 1  ⋅  ⋅\n",
       " ⋅  1  ⋅\n",
       " ⋅  ⋅  1"
      ]
     },
     "execution_count": 18,
     "metadata": {},
     "output_type": "execute_result"
    }
   ],
   "source": [
    "I(3)"
   ]
  },
  {
   "cell_type": "markdown",
   "id": "73243532",
   "metadata": {},
   "source": [
    "### 対角行列"
   ]
  },
  {
   "cell_type": "markdown",
   "id": "795286df",
   "metadata": {},
   "source": [
    "### 線形行列方程式\n",
    "\n",
    "$$\n",
    "\\mathbf{A}\\mathbf{x}=\\mathbf{b}\n",
    "$$\n",
    "\n",
    "$\\mathbf{A}$が正則の場合，逆行列が存在し，\n",
    "\n",
    "$$\n",
    "\\mathbf{x}=\\mathbf{A}^{-1}\\mathbf{b}\n",
    "$$"
   ]
  },
  {
   "cell_type": "code",
   "execution_count": 33,
   "id": "cd510319",
   "metadata": {},
   "outputs": [
    {
     "data": {
      "text/plain": [
       "2-element Vector{Float64}:\n",
       " 0.5002132597166149\n",
       " 0.03509562556923285"
      ]
     },
     "execution_count": 33,
     "metadata": {},
     "output_type": "execute_result"
    }
   ],
   "source": [
    "A = rand(2,2)\n",
    "b = rand(2)"
   ]
  },
  {
   "cell_type": "code",
   "execution_count": 34,
   "id": "b764c68f",
   "metadata": {},
   "outputs": [
    {
     "data": {
      "text/plain": [
       "2-element Vector{Float64}:\n",
       " -0.1805788303672428\n",
       "  0.8082531148175677"
      ]
     },
     "execution_count": 34,
     "metadata": {},
     "output_type": "execute_result"
    }
   ],
   "source": [
    "x = inv(A) * b"
   ]
  },
  {
   "cell_type": "markdown",
   "id": "d6901bce",
   "metadata": {},
   "source": [
    "Juliaではバックスラッシュ演算子 `\\`を用いることで明示的に逆行列を計算せずに解を求めることができる．"
   ]
  },
  {
   "cell_type": "code",
   "execution_count": 35,
   "id": "e8f372d7",
   "metadata": {},
   "outputs": [
    {
     "data": {
      "text/plain": [
       "2-element Vector{Float64}:\n",
       " -0.1805788303672428\n",
       "  0.8082531148175676"
      ]
     },
     "execution_count": 35,
     "metadata": {},
     "output_type": "execute_result"
    }
   ],
   "source": [
    "x = A \\ b"
   ]
  },
  {
   "cell_type": "markdown",
   "id": "b053767c",
   "metadata": {},
   "source": [
    "## Roth's column lemma\n",
    "\n",
    "Roth's column lemmaは，例えば，$A, B, C$が与えられていて，$X$を未知とするときの方程式 $AXB = C$を考えると，この方程式は\n",
    "\n",
    "$$\n",
    "(B^\\top \\otimes A)\\text{vec}(X) = \\text{vec}(AXB)=\\text{vec}(C)\n",
    "$$\n",
    "\n",
    "の形に書き下すことができる，というものである．$\\text{vec}(\\cdot)$はvec作用素（行列を列ベクトル化する作用素）である．`vec(X) = vcat(X...)`で実現できる．Roth's column lemmaを用いれば，$AXB = C$の解は\n",
    "\n",
    "$$\n",
    "X = \\text{vec}^{-1}\\left((B^\\top \\otimes A)^{-1}\\text{vec}(C)\\right)\n",
    "$$\n",
    "\n",
    "として得られる．ただし，$\\text{vec}(\\cdot)^{-1}$は列ベクトルを行列に戻す作用素(inverse of the vectorization operator)である．`reshape()`で実現できる．2つの作用素をまとめると，\n",
    "\n",
    "$$\n",
    "\\begin{align}\n",
    "\\text{vec} &: R^{m\\times n}\\to R^{mn}\\\\\n",
    "\\text{vec}^{−1} &: R^{mn}\\to R^{m×n}\n",
    "\\end{align}\n",
    "$$\n",
    "\n",
    "であり，$\\text{vec}^{−1}\\left(\\text{vec}(X)\\right)=X\\ (\\text{for all}\\ X\\in R^{m\\times n})，\\text{vec}\\left(\\text{vec}^{−1}(x)\\right)=x\\ (\\text{for all}\\ x \\in R^{mn})$となる．"
   ]
  },
  {
   "cell_type": "code",
   "execution_count": 21,
   "id": "3e24b1fc",
   "metadata": {},
   "outputs": [],
   "source": [
    "using LinearAlgebra, Kronecker, Random"
   ]
  },
  {
   "cell_type": "code",
   "execution_count": 22,
   "id": "2534e200",
   "metadata": {},
   "outputs": [
    {
     "data": {
      "text/plain": [
       "4×4 Matrix{Float64}:\n",
       " 1.0  5.0   9.0  13.0\n",
       " 2.0  6.0  10.0  14.0\n",
       " 3.0  7.0  11.0  15.0\n",
       " 4.0  8.0  12.0  16.0"
      ]
     },
     "execution_count": 22,
     "metadata": {},
     "output_type": "execute_result"
    }
   ],
   "source": [
    "m = 4\n",
    "A = randn(m, m)\n",
    "B = randn(m, m)\n",
    "C = convert(Array{Float64}, reshape(1:16, (m, m)))"
   ]
  },
  {
   "cell_type": "code",
   "execution_count": 23,
   "id": "1637e4e7",
   "metadata": {},
   "outputs": [
    {
     "data": {
      "text/plain": [
       "4×4 Matrix{Float64}:\n",
       "  25.5193   -29.5701     5.09719  -18.3365\n",
       " -61.7388    71.768    -12.3934    44.6203\n",
       "   5.53255   -6.36443    1.09258   -3.92298\n",
       "   6.70725   -7.05331    1.14599   -4.0074"
      ]
     },
     "execution_count": 23,
     "metadata": {},
     "output_type": "execute_result"
    }
   ],
   "source": [
    "X = reshape((B' ⊗ A) \\ vec(C), (m, m))"
   ]
  },
  {
   "cell_type": "code",
   "execution_count": 24,
   "id": "9e4f39b8",
   "metadata": {},
   "outputs": [
    {
     "data": {
      "text/plain": [
       "4×4 Matrix{Float64}:\n",
       " 1.0  5.0   9.0  13.0\n",
       " 2.0  6.0  10.0  14.0\n",
       " 3.0  7.0  11.0  15.0\n",
       " 4.0  8.0  12.0  16.0"
      ]
     },
     "execution_count": 24,
     "metadata": {},
     "output_type": "execute_result"
    }
   ],
   "source": [
    "A * X * B"
   ]
  },
  {
   "cell_type": "markdown",
   "id": "b280c02b",
   "metadata": {},
   "source": [
    "### 配列の1次元化\n",
    "配列を一次元化(flatten)する方法．まずは3次元配列を作成する．"
   ]
  },
  {
   "cell_type": "code",
   "execution_count": 25,
   "id": "1a8367e4",
   "metadata": {},
   "outputs": [
    {
     "data": {
      "text/plain": [
       "2×2×2 Array{Float64, 3}:\n",
       "[:, :, 1] =\n",
       " 0.915692  0.18149\n",
       " 0.132838  0.0376235\n",
       "\n",
       "[:, :, 2] =\n",
       " 0.807789  0.297739\n",
       " 0.569867  0.705417"
      ]
     },
     "execution_count": 25,
     "metadata": {},
     "output_type": "execute_result"
    }
   ],
   "source": [
    "B = rand(2, 2, 2)"
   ]
  },
  {
   "cell_type": "markdown",
   "id": "94dac8ad",
   "metadata": {},
   "source": [
    "用意されている`flatten`を素直に用いると次のようになる．"
   ]
  },
  {
   "cell_type": "code",
   "execution_count": 26,
   "id": "d8708566",
   "metadata": {},
   "outputs": [
    {
     "data": {
      "text/plain": [
       "8-element Vector{Float64}:\n",
       " 0.9156924090979948\n",
       " 0.13283838898511735\n",
       " 0.18149003405285813\n",
       " 0.03762345094967079\n",
       " 0.8077889408656388\n",
       " 0.5698673388911334\n",
       " 0.297739498855886\n",
       " 0.7054169935372759"
      ]
     },
     "execution_count": 26,
     "metadata": {},
     "output_type": "execute_result"
    }
   ],
   "source": [
    "import Base.Iterators: flatten\n",
    "collect(flatten(B))"
   ]
  },
  {
   "cell_type": "markdown",
   "id": "33fdcbf5",
   "metadata": {},
   "source": [
    "ただし，単に`B[:]`とするだけでもよい．"
   ]
  },
  {
   "cell_type": "code",
   "execution_count": 27,
   "id": "f5219ddb",
   "metadata": {},
   "outputs": [
    {
     "data": {
      "text/plain": [
       "8-element Vector{Float64}:\n",
       " 0.9156924090979948\n",
       " 0.13283838898511735\n",
       " 0.18149003405285813\n",
       " 0.03762345094967079\n",
       " 0.8077889408656388\n",
       " 0.5698673388911334\n",
       " 0.297739498855886\n",
       " 0.7054169935372759"
      ]
     },
     "execution_count": 27,
     "metadata": {},
     "output_type": "execute_result"
    }
   ],
   "source": [
    "B[:]"
   ]
  },
  {
   "cell_type": "markdown",
   "id": "5b1e2325",
   "metadata": {},
   "source": [
    "### reshapeにおける残りの次元の指定\n",
    "numpyにおいては(2, 3, 5)次元の配列に対し，reshape(-1, 5)を行うと(6, 5)次元の配列となった．これと同様なことは，Juliaでは:を使うことで実装できる．"
   ]
  },
  {
   "cell_type": "code",
   "execution_count": 28,
   "id": "8a1a6d37",
   "metadata": {},
   "outputs": [
    {
     "data": {
      "text/plain": [
       "6×5 Matrix{Float64}:\n",
       " 0.286014   0.923302  0.174386   0.10705    0.744143\n",
       " 0.457232   0.234084  0.149783   0.684196   0.21295\n",
       " 0.308209   0.712286  0.903116   0.487475   6.84179e-6\n",
       " 0.0566201  0.526367  0.235321   0.0381212  0.336639\n",
       " 0.0933628  0.980388  0.0258844  0.0371784  0.849971\n",
       " 0.384149   0.628456  0.077691   0.970843   0.678124"
      ]
     },
     "execution_count": 28,
     "metadata": {},
     "output_type": "execute_result"
    }
   ],
   "source": [
    "a = rand(2,3,5)\n",
    "b = reshape(a, (:, 5))"
   ]
  },
  {
   "cell_type": "markdown",
   "id": "6951eb55",
   "metadata": {},
   "source": [
    "## Array{Array{Float64, x},1}をArray{Float64, x+1}に変換\n",
    "numpyでは`array([matrix for i in range()])`などを用いると，1次元配列のリストを2次元配列に変換できた．Juliaでも同様にする場合は`hcat(...)`や`cat(...)`を用いる．`...`はsplat operatorと呼ばれる．"
   ]
  },
  {
   "cell_type": "code",
   "execution_count": 29,
   "id": "d1d48954",
   "metadata": {},
   "outputs": [
    {
     "name": "stdout",
     "output_type": "stream",
     "text": [
      "Type : Vector{Vector{Float64}}\n",
      "Size : (5,)\n"
     ]
    }
   ],
   "source": [
    "A1 = [i*rand(3) for i=1:5]\n",
    "\n",
    "println(\"Type : \", typeof(A1))\n",
    "println(\"Size : \", size(A1))"
   ]
  },
  {
   "cell_type": "code",
   "execution_count": 30,
   "id": "5558d01d",
   "metadata": {},
   "outputs": [
    {
     "name": "stdout",
     "output_type": "stream",
     "text": [
      "Type : Adjoint{Float64, Matrix{Float64}}\n",
      "Size : (5, 3)\n"
     ]
    }
   ],
   "source": [
    "A2 = hcat(A1...)'\n",
    "\n",
    "println(\"Type : \", typeof(A2))\n",
    "println(\"Size : \", size(A2))"
   ]
  },
  {
   "cell_type": "markdown",
   "id": "fe10b5cf",
   "metadata": {},
   "source": [
    "以下は多次元配列の場合．`cat(...)`で配列を結合し，`permitedims`で転置する．"
   ]
  },
  {
   "cell_type": "code",
   "execution_count": 31,
   "id": "df877c52",
   "metadata": {},
   "outputs": [
    {
     "name": "stdout",
     "output_type": "stream",
     "text": [
      "Type : Vector{Array{Float64, 3}}\n",
      "Size : (6,)\n"
     ]
    }
   ],
   "source": [
    "B1 = [i*rand(3, 4, 5) for i=1:6]\n",
    "\n",
    "println(\"Type : \", typeof(B1))\n",
    "println(\"Size : \", size(B1))"
   ]
  },
  {
   "cell_type": "code",
   "execution_count": 32,
   "id": "ccd15342",
   "metadata": {},
   "outputs": [
    {
     "name": "stdout",
     "output_type": "stream",
     "text": [
      "Type : Array{Float64, 4}\n",
      "Size : (6, 3, 4, 5)\n"
     ]
    }
   ],
   "source": [
    "B2 = permutedims(cat(B1..., dims=4), [4, 1, 2, 3])\n",
    "\n",
    "println(\"Type : \", typeof(B2))\n",
    "println(\"Size : \", size(B2))"
   ]
  }
 ],
 "metadata": {
  "kernelspec": {
   "display_name": "Julia 1.8.0-rc1",
   "language": "julia",
   "name": "julia-1.8"
  },
  "language_info": {
   "file_extension": ".jl",
   "mimetype": "application/julia",
   "name": "julia",
   "version": "1.8.0"
  }
 },
 "nbformat": 4,
 "nbformat_minor": 5
}
