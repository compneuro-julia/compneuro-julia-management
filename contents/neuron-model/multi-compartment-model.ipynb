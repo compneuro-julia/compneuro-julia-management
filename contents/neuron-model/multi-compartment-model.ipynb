{
 "cells": [
  {
   "cell_type": "markdown",
   "id": "45dc16b2",
   "metadata": {},
   "source": [
    "# マルチコンパートメントモデル\n",
    "multi-compartment model\n",
    "\n",
    "https://neuronaldynamics.epfl.ch/online/Ch3.S4.html\n",
    "\n",
    "backprop-action potentialまで実装する．"
   ]
  }
 ],
 "metadata": {
  "kernelspec": {
   "display_name": "Julia 1.11.4",
   "language": "julia",
   "name": "julia-1.11"
  },
  "language_info": {
   "file_extension": ".jl",
   "mimetype": "application/julia",
   "name": "julia",
   "version": "1.11.4"
  }
 },
 "nbformat": 4,
 "nbformat_minor": 5
}
