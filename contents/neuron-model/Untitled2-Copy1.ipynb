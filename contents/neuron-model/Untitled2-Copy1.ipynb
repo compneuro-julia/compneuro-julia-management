{
 "cells": [
  {
   "cell_type": "markdown",
   "id": "e037de05-3766-48c1-8e5b-e596d4934f90",
   "metadata": {},
   "source": [
    "基本的に、どちらの表記方法も数学的には同値ですが、$m_\\infty$ と $\\tau$（通常は $\\tau_m$ と書かれる）の形で表現することにはいくつかの利点があります。\n",
    "\n",
    "─────────────────────────────  \n",
    "【1. 数学的等価性】\n",
    "\n",
    "Hodgkin–Huxley型のゲート変数の時間発展は、しばしば以下の形で書かれます：\n",
    "\n",
    "$$\n",
    "\\frac{dm}{dt} = \\alpha_m (1 - m) - \\beta_m m.\n",
    "$$\n",
    "\n",
    "この微分方程式の定常状態（$\\frac{dm}{dt} = 0$）は\n",
    "\n",
    "$$\n",
    "m_\\infty = \\frac{\\alpha_m}{\\alpha_m + \\beta_m}\n",
    "$$\n",
    "\n",
    "となり、また時間定数は\n",
    "\n",
    "$$\n",
    "\\tau_m = \\frac{1}{\\alpha_m + \\beta_m}\n",
    "$$\n",
    "\n",
    "と定義できます。これらを用いると、微分方程式は\n",
    "\n",
    "$$\n",
    "\\frac{dm}{dt} = \\frac{m_\\infty - m}{\\tau_m}\n",
    "$$\n",
    "\n",
    "という形に書き換えることができます。したがって、数式的にはどちらの形も同じダイナミクスを表しています。\n",
    "\n",
    "─────────────────────────────  \n",
    "【2. $m_\\infty$ と $\\tau_m$ を用いる利点】\n",
    "\n",
    "1. **直感的な解釈**  \n",
    "   - $m_\\infty(V)$ は、特定の膜電位 $V$ におけるゲート変数の定常状態（すなわち、長時間その電位にとどまったときにチャネルがどれだけ開いているか）を直接示します。これは実験データと照らし合わせやすい量です。\n",
    "   - $\\tau_m(V)$ は、ゲート変数が新しい定常状態に到達する速さを表す時間定数であり、応答の速さや遅さを明示的に示します。\n",
    "\n",
    "2. **実装とパラメータ調整の簡便性**  \n",
    "   - 多くの実験データや文献では、$\\alpha_m$ や $\\beta_m$ そのものではなく、$m_\\infty$ と $\\tau_m$ の形で報告されることが多いです。モデル化の際に、直接これらの関数をフィッティングできるので、実際のデータとの対応が取りやすくなります。\n",
    "   - また、電位依存性の評価が明示的になるため、どの電位範囲でチャネルがどの程度開くのか、または変化速度がどれほどかを個別に調整・解析しやすいというメリットがあります。\n",
    "\n",
    "3. **数値シミュレーション上の利点**  \n",
    "   - $m_\\infty$ と $\\tau_m$ の形に書き換えることで、シミュレーション中に各時刻で「目標値」と「追従速度」が明確になり、数値計算での直感的な誤差評価や安定性の確認に役立ちます。\n",
    "   - 特にEuler法などのシンプルな数値解法を用いる際、更新式は\n",
    "     $$\n",
    "     m(t + \\Delta t) = m(t) + \\Delta t\\,\\frac{m_\\infty(V)-m(t)}{\\tau_m(V)}\n",
    "     $$\n",
    "     と書けるため、理解しやすく実装もシンプルです。\n",
    "\n",
    "【3. 結論】\n",
    "\n",
    "$\\alpha_m (1-m) - \\beta_m m$ という基本形はそのままでも計算可能ですが、$m_\\infty = \\frac{\\alpha_m}{\\alpha_m + \\beta_m}$ と $\\tau_m = \\frac{1}{\\alpha_m + \\beta_m}$ を使って再表現することで、  \n",
    "- ゲートの定常状態と時間スケールという観点から直感的に理解しやすくなる  \n",
    "- 実験データとの比較やパラメータフィッティングが容易になる  \n",
    "- シミュレーション実装上の利便性が向上する\n",
    "\n",
    "といったメリットがあります。そのため、実装の際には多くの場合で$m_\\infty$と$\\tau_m$の形で表現されるのが一般的となっています。"
   ]
  },
  {
   "cell_type": "code",
   "execution_count": 1,
   "id": "e74d637e-0934-450d-aec2-265cc9000229",
   "metadata": {},
   "outputs": [],
   "source": [
    "using PyPlot"
   ]
  },
  {
   "cell_type": "markdown",
   "id": "f2a279d3-40d8-4f8d-956d-478bc7088a81",
   "metadata": {},
   "source": [
    "soma ion channels"
   ]
  },
  {
   "cell_type": "code",
   "execution_count": null,
   "id": "61c4c36a-76b1-46d3-b982-d78a3ac04b54",
   "metadata": {},
   "outputs": [],
   "source": [
    "# Sodium channel\n",
    "function NaKinetics(V)\n",
    "    αm = (V + 40) / (10 * (1 - exp(-(V + 40) / 10)))\n",
    "    βm = 4 * exp(-(V + 65) / 18)\n",
    "    m∞ = αm / (αm + βm)\n",
    "    τm = 1e-3 / (αm + βm)\n",
    "    \n",
    "    αh = 0.07 * exp(-(V + 65) / 20)\n",
    "    βh = 1 / (1 + exp(-(V + 35) / 10))\n",
    "    h∞ = αh / (αh + βh)\n",
    "    τh = 1e-3 / (αh + βh)\n",
    "    return m∞, τm, h∞, τh\n",
    "end\n",
    "\n",
    "\n",
    "# Potassium delayed-rectifier\n",
    "function KKinetics(V)\n",
    "    αm = 0.01 * (V + 55) / (1 - exp(-(V + 55) / 10))\n",
    "    βm = 0.125 * exp(-(V + 65) / 80)\n",
    "    #m∞ = αm / (αm + βm)\n",
    "    #τm = 1e-3 / (αm + βm)  # ms → s の変換\n",
    "    return m∞, τm\n",
    "end"
   ]
  },
  {
   "cell_type": "markdown",
   "id": "ced55a0b-b485-4ff8-ad2e-3740169f7231",
   "metadata": {},
   "source": [
    "dendrite ionchannel"
   ]
  },
  {
   "cell_type": "code",
   "execution_count": null,
   "id": "865ad518-cd7f-437c-a256-74f7ac38c5d1",
   "metadata": {},
   "outputs": [],
   "source": [
    "# 実装？\n",
    "function NapKinetics(V)\n",
    "    T_adj = 2.3^((34 - 21) / 10)\n",
    "\n",
    "    #αm = 0.182 * (V + 38) / (1 - exp(-(V + 38) / 6))\n",
    "    #βm = -0.124 * (V + 38) / (1 - exp((V + 38) / 6))\n",
    "    m∞ = 1 / (1 + exp(-(V + 52.6) / 4.6))\n",
    "    τm = 1e-3 * 6 / (T_adj * (αm + βm))\n",
    "    \n",
    "    #αh = -2.88e-6 * (V + 17) / (1 - exp((V + 17) / 4.63))\n",
    "    #βh  = 6.94e-6 * (V + 64.4) / (1 - exp(- (V + 64.4) / 2.63))\n",
    "    h∞ = 1 / (1 + exp((V + 48.8) / 10))\n",
    "    τh = 1e-3 / (T_adj * (αh + βh))\n",
    "    return m∞, τm, h∞, τh\n",
    "end\n",
    "\n",
    "# Ca L-type channel\n",
    "function CaLKineticsW(V)\n",
    "    αm = 1.6 / (exp(-0.072 * (V - 5)) + 1)\n",
    "    βm = 0.02 * (V + 8.69) / (exp((V + 8.69)/5.36) - 1)\n",
    "    #m∞ = αm / (αm + βm)\n",
    "    #τm = 1e-3 / (αm + βm)   # 単位 ms -> s に変換\n",
    "    return m∞, τm\n",
    "end\n",
    "\n",
    "# Non-specific cation current\n",
    "function IhKinetics(V)\n",
    "    αm = (6.43 * (V + 154)) / (exp((V + 154) / 11.9) - 1)\n",
    "    βm = 193 * exp(V / 33.1)\n",
    "    #m∞ = αm / (αm + βm)\n",
    "    #τm = 1 / (αm + βm)\n",
    "    return m∞, τm\n",
    "end\n",
    "\n",
    "# Muscarinic K+ current\n",
    "function ImKinetics(V)\n",
    "    T_adj = 2.3^((34 - 21) / 10)\n",
    "    αm = 0.0033 * exp(0.1 * (V + 35))\n",
    "    βm = 0.0033 * exp(-0.1 * (V + 35))\n",
    "    #m∞ = αm / (αm + βm)\n",
    "    #τm = 1e-3 / (T_adj * (αm + βm))\n",
    "    return m∞, τm\n",
    "end\n",
    "\n",
    "# Slow inactivating K+ current\n",
    "function KslowKinetics(V)\n",
    "    T_adj = 2.3^((34 - 21) / 10)\n",
    "    m∞ = 1 / (1 + exp(-(V + 11) / 12))\n",
    "    h∞ = 1 / (1 + exp((V + 64) / 11))\n",
    "    if V < -50\n",
    "        τm = 1e-3 * (1.25 + 175.03 * exp(0.026 * (V + 10))) / T_adj\n",
    "    else\n",
    "        τm = 1e-3 * (1.25 + 13 * exp(-0.026 * (V + 10))) / T_adj\n",
    "    end\n",
    "    τh = 1e-3 * (360 + (1010 + 24 * (V + 65)) * exp(-((V + 85) / 48)^2)) / T_adj\n",
    "    return m∞, τm, h∞, τh\n",
    "end"
   ]
  },
  {
   "cell_type": "code",
   "execution_count": null,
   "id": "c983fe61-6938-454e-b27b-65dd2452e84b",
   "metadata": {},
   "outputs": [
    {
     "data": {
      "text/plain": [
       "CaLKineticsW (generic function with 1 method)"
      ]
     },
     "execution_count": 2,
     "metadata": {},
     "output_type": "execute_result"
    }
   ],
   "source": [
    "param\n",
    "m = \n",
    "h = "
   ]
  },
  {
   "cell_type": "code",
   "execution_count": null,
   "id": "64e370f2-9f46-4af4-a48d-f9d046dab540",
   "metadata": {},
   "outputs": [],
   "source": [
    "INa = \n",
    "IKd = \n",
    "Ils = \n",
    "\n",
    "INap = \n",
    "ICaL = \n",
    "Ih = \n",
    "IM = \n",
    "IKs = \n",
    "Ild = "
   ]
  },
  {
   "cell_type": "code",
   "execution_count": null,
   "id": "771de372-a6d4-416b-9878-3e9693c899ee",
   "metadata": {},
   "outputs": [],
   "source": [
    "dVs = dt / Cms * (-INa - IKd - Ils + (Vd - Vs) / R + Iinj_s)\n",
    "dVd = dt / Cmd * (-INap - ICaL - Ih - IM - IKs - Ild + (Vs - Vd) / R + Iinj_d)"
   ]
  }
 ],
 "metadata": {
  "kernelspec": {
   "display_name": "Julia 1.11.4",
   "language": "julia",
   "name": "julia-1.11"
  },
  "language_info": {
   "file_extension": ".jl",
   "mimetype": "application/julia",
   "name": "julia",
   "version": "1.11.4"
  }
 },
 "nbformat": 4,
 "nbformat_minor": 5
}
