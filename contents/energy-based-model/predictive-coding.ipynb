{
 "cells": [
  {
   "cell_type": "markdown",
   "metadata": {},
   "source": [
    "# 予測符号化\n",
    "## 観測世界の階層的予測\n",
    "**階層的予測符号化(hierarchical predictive coding; HPC)** は{cite:p}`Rao1999-zv`により導入された．構築するネットワークは入力層を含め，3層のネットワークとする．LGNへの入力として画像 $\\mathbf{x} \\in \\mathbb{R}^{n_0}$を考える．画像 $\\mathbf{x}$ の観測世界における隠れ変数，すなわち**潜在変数** (latent variable)を$\\mathbf{r} \\in \\mathbb{R}^{n_1}$とし，ニューロン群によって発火率で表現されているとする (真の変数と $\\mathbf{r}$は異なるので文字を分けるべきだが簡単のためにこう表す)．このとき，\n",
    "\n",
    "$$\n",
    "\\begin{equation}\n",
    "\\mathbf{x} = f(\\mathbf{U}\\mathbf{r}) + \\boldsymbol{\\epsilon}\n",
    "\\end{equation}\n",
    "$$\n",
    "\n",
    "が成立しているとする．ただし，$f(\\cdot)$は活性化関数 (activation function)，$\\mathbf{U} \\in \\mathbb{R}^{n_0 \\times n_1}$は重み行列である．\n",
    "$\\boldsymbol{\\epsilon} \\in \\mathbb{R}^{n_0}$ は $\\mathcal{N}(\\mathbf{0}, \\sigma^2 \\mathbf{I})$ からサンプリングされるとする．\n",
    "\n",
    "潜在変数 $\\mathbf{r}$はさらに高次 (higher-level)の潜在変数 $\\mathbf{r}^h$により，次式で表現される．\n",
    "\n",
    "$$\n",
    "\\begin{equation}\n",
    "\\mathbf{r} = \\mathbf{r}^{td}+\\boldsymbol{\\epsilon}^{td}=f(\\mathbf{U}^h \\mathbf{r}^h)+\\boldsymbol{\\epsilon}^{td}\n",
    "\\end{equation}\n",
    "$$\n",
    "\n",
    "ただし，Top-downの予測信号を $\\mathbf{r}^{td}:=f(\\mathbf{U}^h \\mathbf{r}^h)$とした．また，$\\mathbf{r}^{td} \\in \\mathbb{R}^{n_1}$, $\\mathbf{r}^{h} \\in \\mathbb{R}^{n_2}$, $\\mathbf{U}^h \\in \\mathbb{R}^{n_1 \\times n_2}$ である．\n",
    "$\\boldsymbol{\\epsilon}^{td} \\in \\mathbb{R}^{n_1}$は$\\mathcal{N}(\\mathbf{0}$, $\\sigma_{td}^2 \\mathbf{I}$) からサンプリングされるとする．\n",
    "\n",
    "話は飛ぶが，Predictive codingのネットワークの特徴は\n",
    "- 階層的な構造\n",
    "- 高次による低次の予測 (Feedback or Top-down信号)\n",
    "- 低次から高次への誤差信号の伝搬 (Feedforward or Bottom-up 信号)\n",
    "\n",
    "である．ここまでは高次表現による低次表現の予測，というFeedback信号について説明してきたが，この部分はSparse codingでも同じである．それではPredictive codingのもう一つの要となる，低次から高次への予測誤差の伝搬というFeedforward信号はどのように導かれるのだろうか．結論から言えば，これは**復元誤差 (reconstruction error)の最小化を行う再帰的ネットワーク (recurrent network)を考慮することで自然に導かれる**．"
   ]
  },
  {
   "cell_type": "markdown",
   "metadata": {},
   "source": [
    "## 損失関数と学習則\n",
    "### 事前分布の設定\n",
    "$\\mathbf{r}$の事前分布$p(\\mathbf{r})$はCauchy分布を用いる．$p(\\mathbf{r})$の負の対数事前分布を$g(\\mathbf{r}):=-\\log p(\\mathbf{r})$としておく．\n",
    "\n",
    "$$\n",
    "\\begin{align}\n",
    "p(\\mathbf{r})&=\\prod_i p(r_i)=\\prod_i \\exp\\left[-\\alpha \\ln(1+r_i^2)\\right]\\\\\n",
    "g(\\mathbf{r})&=-\\ln p(\\mathbf{r})=\\alpha \\sum_i \\ln(1+r_i^2)\\\\\n",
    "g'(\\mathbf{r})&=\\frac{\\partial g(\\mathbf{r})}{\\partial \\mathbf{r}}=\\left[\\frac{2\\alpha r_i}{1+r_i^2}\\right]_i\n",
    "\\end{align}\n",
    "$$\n",
    "\n",
    "次に重み行列$\\mathbf{U}$の事前分布 $p(\\mathbf{U})$はGaussian分布とする．$p(\\mathbf{U})$の負の対数事前分布を$h(\\mathbf{U}):=-\\ln p(\\mathbf{U})$とすると，次のように表される．\n",
    "\n",
    "$$\n",
    "\\begin{align}\n",
    "p(\\mathbf{U})&=\\exp(-\\lambda\\|\\mathbf{U}\\|^2_F)\\\\\n",
    "h(\\mathbf{U})&=-\\ln p(\\mathbf{U})=\\lambda\\|\\mathbf{U}\\|^2_F\\\\\n",
    "h'(\\mathbf{U})&=\\frac{\\partial h(\\mathbf{U})}{\\partial \\mathbf{U}}=2\\lambda \\mathbf{U}\n",
    "\\end{align}\n",
    "$$\n",
    "\n",
    "ただし，$\\|\\cdot \\| _ F^2$はフロベニウスノルムを意味する．\n",
    "\n",
    "### 損失関数の設定\n",
    "Sparse codingと同様に考えることにより，損失関数 $E$を次のように定義する．\n",
    "\n",
    "$$\n",
    "\\begin{align}\n",
    "E=\\underbrace{\\frac{1}{\\sigma^{2}}\\|\\mathbf{x}-f(\\mathbf{U} \\mathbf{r})\\|^2+\\frac{1}{\\sigma_{t d}^{2}}\\left\\|\\mathbf{r}-f(\\mathbf{U}^h \\mathbf{r}^h)\\right\\|^2}_{\\text{reconstruction error}}+\\underbrace{g(\\mathbf{r})+g(\\mathbf{r}^{h})+h(\\mathbf{U})+h(\\mathbf{U}^h)}_{\\text{sparsity penalty}}\n",
    "\\end{align}\n",
    "$$\n",
    "\n",
    "潜在変数 $\\mathbf{r}, \\mathbf{r}^h$ と 重み行列 $\\mathbf{U}, \\mathbf{U}^h$ のそれぞれに事前分布を仮定しているため，これらについてのMAP推定を行うことに相当する．\n",
    "\n",
    "### 再帰ネットワークの更新則\n",
    "簡単のために$\\mathbf{z}:=\\mathbf{U}\\mathbf{r}, \\mathbf{z}^h:=\\mathbf{U}^h\\mathbf{r}^h$とする．\n",
    "\n",
    "$$\n",
    "\\begin{align}\n",
    "\\frac{d \\mathbf{r}}{d t}&=-\\frac{k_{1}}{2} \\frac{\\partial E}{\\partial \\mathbf{r}}=k_{1}\\cdot\\Bigg(\\frac{1}{\\sigma^{2}} \\mathbf{U}^{T}\\bigg[\\frac{\\partial f(\\mathbf{z})}{\\partial \\mathbf{z}}\\odot\\underbrace{(\\mathbf{x}-f(\\mathbf{z}))}_{\\text{bottom-up error}}\\bigg]-\\frac{1}{\\sigma_{t d}^{2}}\\underbrace{\\left(\\mathbf{r}-f(\\mathbf{z}^h)\\right)}_{\\text{top-down error}}-\\frac{1}{2}g'(\\mathbf{r})\\Bigg)\\\\\n",
    "\\frac{d \\mathbf{r}^h}{d t}&=-\\frac{k_{1}}{2} \\frac{\\partial E}{\\partial \\mathbf{r}^h}=k_{1}\\cdot\\Bigg(\\frac{1}{\\sigma_{t d}^{2}}(\\mathbf{U}^h)^\\top\\bigg[\\frac{\\partial f(\\mathbf{z}^h)}{\\partial \\mathbf{z}^h}\\odot\\underbrace{\\left(\\mathbf{r}-f(\\mathbf{z}^h)\\right)}_{\\text{bottom-up error}}\\bigg]-\\frac{1}{2}g'(\\mathbf{r}^h)\\Bigg)\n",
    "\\end{align}\n",
    "$$\n",
    "\n",
    "ただし，$k_1$は更新率 (updating rate)である．または，発火率の時定数を$\\tau:=1/k_1$として，$k_1$は発火率の時定数$\\tau$の逆数であると捉えることもできる．ここで1番目の式において，中間表現 $\\mathbf{r}$ のダイナミクスはbottom-up errorとtop-down errorで記述されている．このようにbottom-up errorが $\\mathbf{r}$ への入力となることは自然に導出される．なお，top-down errorに関しては高次からの予測 (prediction)の項 $f(\\mathbf{x}^h)$とleaky-integratorとしての項 $-\\mathbf{r}$に分割することができる．また$\\mathbf{U}^\\top, (\\mathbf{U}^h)^\\top$は重み行列の転置となっており，bottom-upとtop-downの投射において対称な重み行列を用いることを意味している．$-g'(\\mathbf{r})$は発火率を抑制してスパースにすることを目的とする項だが，無理やり解釈をすると自己再帰的な抑制と言える．"
   ]
  },
  {
   "cell_type": "markdown",
   "metadata": {},
   "source": [
    "### 画像データの読み込み\n",
    "「スパース符号化」と同様にデータは<http://www.rctn.org/bruno/sparsenet/>からダウンロードできるファイルを用いる．"
   ]
  },
  {
   "cell_type": "code",
   "execution_count": 1,
   "metadata": {},
   "outputs": [],
   "source": [
    "using MAT\n",
    "\n",
    "# datasets from http://www.rctn.org/bruno/sparsenet/\n",
    "mat_images = matopen(\"../_static/datasets/IMAGES.mat\")\n",
    "imgs = read(mat_images, \"IMAGES\")\n",
    "\n",
    "close(mat_images)"
   ]
  },
  {
   "cell_type": "markdown",
   "metadata": {},
   "source": [
    "### モデルの定義\n",
    "必要なパッケージを読み込む．"
   ]
  },
  {
   "cell_type": "code",
   "execution_count": 2,
   "metadata": {},
   "outputs": [],
   "source": [
    "using Base: @kwdef\n",
    "using Parameters: @unpack # or using UnPack\n",
    "using LinearAlgebra, Random, Statistics, PyPlot, ProgressMeter"
   ]
  },
  {
   "cell_type": "markdown",
   "metadata": {},
   "source": [
    "モデルを定義する．"
   ]
  },
  {
   "cell_type": "code",
   "execution_count": 3,
   "metadata": {},
   "outputs": [],
   "source": [
    "@kwdef struct RBParameter{FT}\n",
    "    α::FT = 1.0\n",
    "    αh::FT = 0.05\n",
    "    σ²::FT = 1.0\n",
    "    σ²td::FT = 10\n",
    "    σ⁻²::FT = 1/σ²       \n",
    "    σ⁻²td::FT = 1/σ²td\n",
    "    k₁::FT = 0.3 # k_1: update rate\n",
    "    λ::FT = 0.02 # regularization parameter\n",
    "end\n",
    "\n",
    "@kwdef mutable struct RaoBallard1999Model{FT}\n",
    "    param::RBParameter = RBParameter{FT}()\n",
    "    num_units_lv0::UInt16 = 256 # number of units of level0\n",
    "    num_units_lv1::UInt16 = 32\n",
    "    num_units_lv2::UInt16 = 128\n",
    "    num_lv1::UInt16 = 3\n",
    "    k₂::FT = 0.2 # k_2: learning rate\n",
    "    r::Array{FT} = zeros(num_lv1, num_units_lv1) # activity of neurons\n",
    "    rh::Array{FT} = zeros(num_units_lv2) # activity of neurons\n",
    "    U::Array{FT} = randn(num_units_lv0, num_units_lv1) .* sqrt(2.0 / (num_units_lv0+num_units_lv1))\n",
    "    Uh::Array{FT} = randn(num_lv1*num_units_lv1, num_units_lv2) .* sqrt(2.0 / (num_lv1*num_units_lv1+num_units_lv2))\n",
    "end"
   ]
  },
  {
   "cell_type": "markdown",
   "metadata": {},
   "source": [
    "パラメータを更新する関数を定義する．"
   ]
  },
  {
   "cell_type": "code",
   "execution_count": 4,
   "metadata": {},
   "outputs": [
    {
     "data": {
      "text/plain": [
       "update! (generic function with 1 method)"
      ]
     },
     "execution_count": 4,
     "metadata": {},
     "output_type": "execute_result"
    }
   ],
   "source": [
    "function update!(variable::RaoBallard1999Model, param::RBParameter, inputs::Array, training::Bool)\n",
    "    @unpack num_units_lv0, num_units_lv1, num_units_lv2, num_lv1, k₂, r, rh, U, Uh = variable\n",
    "    @unpack α, αh, σ⁻², σ⁻²td, k₁, λ = param\n",
    "\n",
    "    r_reshaped = r[:] # (96)\n",
    "\n",
    "    fx = r * U' # (3, 256)\n",
    "    fxh = Uh * rh # (96, )\n",
    "\n",
    "    # Calculate errors\n",
    "    error = inputs - fx # (3, 256)\n",
    "    errorh = r_reshaped - fxh # (96, ) \n",
    "    errorh_reshaped = reshape(errorh, (num_lv1, num_units_lv1)) # (3, 32)\n",
    "\n",
    "    g_r = α * r ./ (1.0 .+ r .^ 2) # (3, 32)\n",
    "    g_rh = αh * rh ./ (1.0 .+ rh .^ 2) # (64, )\n",
    "\n",
    "    # Update r and rh\n",
    "    dr = k₁ * (σ⁻² * error * U - σ⁻²td * errorh_reshaped - g_r)\n",
    "    drh = k₁ * (σ⁻²td * Uh' * errorh - g_rh)\n",
    "    \n",
    "    r[:, :] += dr\n",
    "    rh[:] += drh\n",
    "    \n",
    "    if training \n",
    "        U[:, :] += k₂ * (σ⁻² * error' * r - num_lv1 * λ * U)\n",
    "        Uh[:, :] += k₂ * (σ⁻²td * errorh * rh' - λ * Uh)\n",
    "    end\n",
    "\n",
    "    return error, errorh, dr, drh\n",
    "end"
   ]
  },
  {
   "cell_type": "markdown",
   "metadata": {},
   "source": [
    "入力に乗じるGaussianフィルタを定義する．"
   ]
  },
  {
   "cell_type": "code",
   "execution_count": 5,
   "metadata": {},
   "outputs": [
    {
     "data": {
      "text/plain": [
       "gaussian_2d (generic function with 4 methods)"
      ]
     },
     "execution_count": 5,
     "metadata": {},
     "output_type": "execute_result"
    }
   ],
   "source": [
    "# Gaussian mask for inputs\n",
    "function gaussian_2d(sizex=16, sizey=16, sigma=5)\n",
    "    x, y = 0:sizex-1, 0:sizey-1\n",
    "    x0, y0 = (sizex-1)/2, (sizey-1)/2\n",
    "    f(x,y) = exp(-((x-x0)^2 + (y-y0)^2) / (2.0*(sigma^2)))\n",
    "    gau = f.(x', y)\n",
    "    return gau ./ sum(gau)\n",
    "end"
   ]
  },
  {
   "cell_type": "code",
   "execution_count": 6,
   "metadata": {},
   "outputs": [
    {
     "data": {
      "image/png": "[encoded data removed]",
      "text/plain": [
       "Figure(PyObject <Figure size 200x200 with 1 Axes>)"
      ]
     },
     "metadata": {},
     "output_type": "display_data"
    }
   ],
   "source": [
    "gau = gaussian_2d()\n",
    "figure(figsize=(2,2))\n",
    "title(\"Gaussian mask\")\n",
    "imshow(gau)\n",
    "tight_layout()"
   ]
  },
  {
   "cell_type": "markdown",
   "metadata": {},
   "source": [
    "損失関数を定義する．"
   ]
  },
  {
   "cell_type": "code",
   "execution_count": 7,
   "metadata": {},
   "outputs": [],
   "source": [
    "function calculate_total_error(error, errorh, variable::RaoBallard1999Model, param::RBParameter)\n",
    "    @unpack r, rh, U, Uh = variable\n",
    "    @unpack α, αh, σ⁻², σ⁻²td, k₁, λ = param\n",
    "    recon_error = σ⁻² * sum(error.^2) + σ⁻²td * sum(errorh.^2)\n",
    "    sparsity_r = α * sum(r.^2) + αh * sum(rh.^2)\n",
    "    sparsity_U = λ * (sum(U.^2) + sum(Uh.^2))\n",
    "    return recon_error + sparsity_r + sparsity_U\n",
    "end;"
   ]
  },
  {
   "cell_type": "markdown",
   "metadata": {},
   "source": [
    "シミュレーションを実行する関数を定義する．外側の`for loop`では画像パッチの作成と`r`の初期化を行う．内側の`for loop`では`r`が収束するまで更新を行い，収束したときに重み行列`Phi`を更新する．"
   ]
  },
  {
   "cell_type": "code",
   "execution_count": 8,
   "metadata": {},
   "outputs": [
    {
     "data": {
      "text/plain": [
       "run_simulation (generic function with 1 method)"
      ]
     },
     "execution_count": 8,
     "metadata": {},
     "output_type": "execute_result"
    }
   ],
   "source": [
    "function run_simulation(imgs, num_iter, nt_max, eps)\n",
    "    # Define model\n",
    "    model = RaoBallard1999Model{Float32}()\n",
    "    \n",
    "    # Simulation constants\n",
    "    H, W, num_images = size(imgs)\n",
    "    input_scale = 40 # scale factor of inputs\n",
    "    gmask = gaussian_2d() # Gaussian mask\n",
    "    errorarr = zeros(num_iter) # Vector to save errors    \n",
    "    \n",
    "    # Run simulation\n",
    "    @showprogress \"Computing...\" for iter in 1:num_iter\n",
    "        # Get images randomly\n",
    "        idx = rand(1:num_images)\n",
    "        img = imgs[:, :, idx]\n",
    "\n",
    "        # Get the coordinates of the upper left corner of clopping image randomly.\n",
    "        beginx = rand(1:W-27)\n",
    "        beginy = rand(1:H-17)\n",
    "        img_clopped = img[beginy:beginy+15, beginx:beginx+25]\n",
    "\n",
    "        # Clop three patches\n",
    "        inputs = stack([(gmask .* img_clopped[:, 1+i*5:i*5+16])[:] for i = 0:2])'\n",
    "        inputs = (inputs .- mean(inputs)) .* input_scale\n",
    "\n",
    "        # Reset states\n",
    "        model.r = inputs * model.U \n",
    "        model.rh = model.Uh' * model.r[:]\n",
    "\n",
    "        # Input an image patch until latent variables are converged \n",
    "        for i in 1:nt_max\n",
    "            # Update r and rh without update weights \n",
    "            error, errorh, dr, drh = update!(model, model.param, inputs, false)\n",
    "\n",
    "            # Compute norm of r and rh\n",
    "            dr_norm = sqrt(sum(dr.^2))\n",
    "            drh_norm = sqrt(sum(drh.^2))\n",
    "\n",
    "            # Check convergence of r and rh, then update weights\n",
    "            if dr_norm < eps && drh_norm < eps\n",
    "                error, errorh, dr, drh = update!(model, model.param, inputs, true)\n",
    "                errorarr[iter] = calculate_total_error(error, errorh, model, model.param) # Append errors\n",
    "                break\n",
    "            end\n",
    "\n",
    "            # If failure to convergence, break and print error\n",
    "            if i >= nt_max-2\n",
    "                println(\"Error at patch:\", iter)\n",
    "                println(dr_norm, drh_norm)\n",
    "                break\n",
    "            end\n",
    "        end\n",
    "\n",
    "\n",
    "        # Decay learning rate         \n",
    "        if iter % 40 == 39\n",
    "            model.k₂ /= 1.015\n",
    "        end\n",
    "\n",
    "        # Print moving average error\n",
    "        if iter % 1000 == 0\n",
    "            moving_average_error = mean(errorarr[iter-999:iter])\n",
    "            println(\"[\", iter, \"/\", num_iter, \"] Moving average error:\", moving_average_error)\n",
    "        end\n",
    "    end\n",
    "    return model, errorarr\n",
    "end"
   ]
  },
  {
   "cell_type": "markdown",
   "metadata": {},
   "source": [
    "シミュレーションの実行をする"
   ]
  },
  {
   "cell_type": "code",
   "execution_count": 9,
   "metadata": {
    "tags": [
     "remove-output"
    ]
   },
   "outputs": [
    {
     "name": "stderr",
     "output_type": "stream",
     "text": [
      "\u001b[32mComputing...  20%|████████                               |  ETA: 0:00:29\u001b[39m"
     ]
    },
    {
     "name": "stdout",
     "output_type": "stream",
     "text": [
      "[1000/5000] Moving average error:2.1547289002266714\n"
     ]
    },
    {
     "name": "stderr",
     "output_type": "stream",
     "text": [
      "\u001b[32mComputing...  40%|████████████████                       |  ETA: 0:00:15\u001b[39m"
     ]
    },
    {
     "name": "stdout",
     "output_type": "stream",
     "text": [
      "[2000/5000] Moving average error:1.748223298344561\n"
     ]
    },
    {
     "name": "stderr",
     "output_type": "stream",
     "text": [
      "\u001b[32mComputing...  60%|████████████████████████               |  ETA: 0:00:08\u001b[39m"
     ]
    },
    {
     "name": "stdout",
     "output_type": "stream",
     "text": [
      "[3000/5000] Moving average error:1.7267564357967808\n"
     ]
    },
    {
     "name": "stderr",
     "output_type": "stream",
     "text": [
      "\u001b[32mComputing...  80%|████████████████████████████████       |  ETA: 0:00:04\u001b[39m"
     ]
    },
    {
     "name": "stdout",
     "output_type": "stream",
     "text": [
      "[4000/5000] Moving average error:1.7687571867222744\n"
     ]
    },
    {
     "name": "stderr",
     "output_type": "stream",
     "text": [
      "\u001b[32mComputing... 100%|███████████████████████████████████████| Time: 0:00:17\u001b[39m\n"
     ]
    },
    {
     "name": "stdout",
     "output_type": "stream",
     "text": [
      "[5000/5000] Moving average error:1.6496190405759867\n"
     ]
    }
   ],
   "source": [
    "# Simulation constants\n",
    "num_iter = 5000 # number of iterations\n",
    "nt_max = 1000 # Maximum number of simulation time\n",
    "eps = 1e-3 # small value which determines convergence\n",
    "\n",
    "model, errorarr = run_simulation(imgs, num_iter, nt_max, eps);"
   ]
  },
  {
   "cell_type": "markdown",
   "metadata": {},
   "source": [
    "### 訓練中の損失の描画\n",
    "訓練中の損失の変化を描画してみよう．損失が低下し，学習が進行したことが分かる．"
   ]
  },
  {
   "cell_type": "code",
   "execution_count": 10,
   "metadata": {},
   "outputs": [
    {
     "data": {
      "image/png": "[encoded data removed]",
      "text/plain": [
       "Figure(PyObject <Figure size 400x200 with 1 Axes>)"
      ]
     },
     "metadata": {},
     "output_type": "display_data"
    }
   ],
   "source": [
    "function moving_average(x, n=100)\n",
    "    ret = cumsum(x)\n",
    "    ret[n:end] = ret[n:end] - ret[1:end-n+1]\n",
    "    return ret[n - 1:end] / n\n",
    "end\n",
    "\n",
    "# Plot error\n",
    "moving_average_error = moving_average(errorarr)\n",
    "figure(figsize=(4, 2))\n",
    "ylabel(\"Moving error\")\n",
    "xlabel(\"Iterations\")\n",
    "plot(1:size(moving_average_error)[1], moving_average_error)\n",
    "tight_layout()"
   ]
  },
  {
   "cell_type": "markdown",
   "metadata": {},
   "source": [
    "### 重み行列 (受容野)の描画\n",
    "学習後の重み行列 ($\\mathbf{U}$)を可視化してみよう．"
   ]
  },
  {
   "cell_type": "code",
   "execution_count": 11,
   "metadata": {},
   "outputs": [
    {
     "data": {
      "image/png": "[encoded data removed]",
      "text/plain": [
       "Figure(PyObject <Figure size 600x300 with 32 Axes>)"
      ]
     },
     "metadata": {},
     "output_type": "display_data"
    }
   ],
   "source": [
    "# Plot Receptive fields\n",
    "figure(figsize=(6, 3))\n",
    "subplots_adjust(hspace=0.1, wspace=0.1)\n",
    "for i in 1:32\n",
    "    subplot(4, 8, i)\n",
    "    imshow(reshape(model.U[:, i], (16, 16)), cmap=\"gray\")\n",
    "    axis(\"off\")\n",
    "end\n",
    "suptitle(\"Receptive fields of level 1\", fontsize=14)\n",
    "subplots_adjust(top=0.9)"
   ]
  },
  {
   "cell_type": "markdown",
   "metadata": {},
   "source": [
    "白色が**ON領域**(興奮)，黒色が**OFF領域**(抑制)を表す．Gaborフィルタ様の局所受容野が得られている．次に，Level2のニューロンの受容野は$\\mathbf{U}$と$\\mathbf{U}^h$の積を計算することで描画できる．"
   ]
  },
  {
   "cell_type": "code",
   "execution_count": 12,
   "metadata": {},
   "outputs": [
    {
     "data": {
      "image/png": "[encoded data removed]",
      "text/plain": [
       "Figure(PyObject <Figure size 700x300 with 24 Axes>)"
      ]
     },
     "metadata": {},
     "output_type": "display_data"
    }
   ],
   "source": [
    "# Plot Receptive fields of level 2\n",
    "zero_padding = zeros(80, 32)\n",
    "U0 = [model.U; zero_padding; zero_padding]\n",
    "U1 = [zero_padding; model.U; zero_padding]\n",
    "U2 = [zero_padding; zero_padding; model.U]\n",
    "U_ = [U0 U1 U2]\n",
    "Uh_ = U_ * model.Uh \n",
    "\n",
    "figure(figsize=(7, 3))\n",
    "subplots_adjust(hspace=0.1, wspace=0.1)\n",
    "for i in 1:24\n",
    "    subplot(4, 6, i)\n",
    "    imshow(reshape(Uh_[:, i], (16, 26)), cmap=\"gray\")\n",
    "    axis(\"off\")\n",
    "end\n",
    "\n",
    "suptitle(\"Receptive fields of level 2\", fontsize=14)\n",
    "subplots_adjust(top=0.9)"
   ]
  },
  {
   "cell_type": "markdown",
   "metadata": {},
   "source": [
    "## 参考文献\n",
    "```{bibliography}\n",
    ":filter: docname in docnames\n",
    "```"
   ]
  }
 ],
 "metadata": {
  "celltoolbar": "Tags",
  "kernelspec": {
   "display_name": "Julia 1.9.0",
   "language": "julia",
   "name": "julia-1.9"
  },
  "language_info": {
   "file_extension": ".jl",
   "mimetype": "application/julia",
   "name": "julia",
   "version": "1.9.0"
  }
 },
 "nbformat": 4,
 "nbformat_minor": 4
}
