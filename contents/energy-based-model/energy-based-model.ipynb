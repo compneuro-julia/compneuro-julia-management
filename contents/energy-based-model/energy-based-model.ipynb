{
 "cells": [
  {
   "cell_type": "markdown",
   "id": "6178ed2f",
   "metadata": {},
   "source": [
    "# エネルギーベースモデル\n",
    "本章では**エネルギーベースモデル (energy-based models; EBMs)** という枠組みに含まれるモデルを紹介する．エネルギーベースモデルではネットワークの状態をスカラー値に変換するエネルギー関数 (あるいはコスト関数) を定義し，推論時と学習時の双方においてエネルギーを最小化するようにネットワークの状態を更新する．{cite:p}`LeCun2006-dt`\n",
    "\n",
    "入力 $\\mathbf{x}\\in \\mathbb{R}^d$, エネルギー関数 $E_\\theta: \\mathbb{R}^d\\to \\mathbb{R}$を考える．\n",
    "\n",
    "$$\n",
    "\\begin{align}\n",
    "p_\\theta(\\mathbf{x})&=\\frac{\\exp(-E_\\theta(\\mathbf{x}))}{Z_\\theta}\\\\\n",
    "Z_\\theta &= \\int \\exp(-E_\\theta(\\mathbf{x})) d\\mathbf{x}\n",
    "\\end{align}\n",
    "$$\n",
    "\n",
    "$Z_\\theta$は分配関数．"
   ]
  },
  {
   "cell_type": "markdown",
   "id": "6c64b46c",
   "metadata": {},
   "source": [
    "## 参考文献\n",
    "```{bibliography}\n",
    ":filter: docname in docnames\n",
    "```"
   ]
  }
 ],
 "metadata": {
  "kernelspec": {
   "display_name": "Python 3 (ipykernel)",
   "language": "python",
   "name": "python3"
  },
  "language_info": {
   "codemirror_mode": {
    "name": "ipython",
    "version": 3
   },
   "file_extension": ".py",
   "mimetype": "text/x-python",
   "name": "python",
   "nbconvert_exporter": "python",
   "pygments_lexer": "ipython3",
   "version": "3.12.9"
  }
 },
 "nbformat": 4,
 "nbformat_minor": 5
}
