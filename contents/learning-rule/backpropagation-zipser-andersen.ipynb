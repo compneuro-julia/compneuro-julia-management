{
 "cells": [
  {
   "cell_type": "markdown",
   "metadata": {},
   "source": [
    "# 勾配法と誤差逆伝播法（Zipser-Andersenモデルを例にして）\n",
    "**誤差逆伝播法(back-propagation)** を **Zipser-Andersenモデル**([Zipser & Andersen, Nature. 1988](https://www.nature.com/articles/331679a0))を例にして解説する．"
   ]
  },
  {
   "cell_type": "markdown",
   "metadata": {},
   "source": [
    "## ニューラルネットワークモデル"
   ]
  },
  {
   "cell_type": "markdown",
   "metadata": {},
   "source": [
    "この節では入力層，隠れ層，出力層からなる3層ニューラルネットワークを実装する．"
   ]
  },
  {
   "cell_type": "code",
   "execution_count": 1,
   "metadata": {},
   "outputs": [],
   "source": [
    "using Base: @kwdef\n",
    "using Parameters: @unpack # or using UnPack\n",
    "using LinearAlgebra, Random, Statistics, PyPlot, ProgressMeter"
   ]
  },
  {
   "cell_type": "code",
   "execution_count": 2,
   "metadata": {},
   "outputs": [],
   "source": [
    "@kwdef mutable struct NN{FT}\n",
    "    n_batch::UInt32 # batch size\n",
    "    n_in::UInt32 # number of input units\n",
    "    n_hid::UInt32 # number of hidden units\n",
    "    n_out::UInt32 # number of output units\n",
    "    \n",
    "    params::Dict{Any, Any} # weights and bias\n",
    "    grads::Dict{Any, Any} = Dict() # gradient of params\n",
    "end;\n",
    "\n",
    "function NN(n_batch, n_in, n_hid, n_out)\n",
    "    params = Dict()\n",
    "    params[\"W1\"] = 2(rand(n_in, n_hid) .- 0.5) / sqrt(n_in)\n",
    "    params[\"W2\"] = 2(rand(n_hid, n_out) .- 0.5) / sqrt(n_hid)\n",
    "    params[\"b1\"] = zeros(1, n_hid)\n",
    "    params[\"b2\"] = zeros(1, n_out)\n",
    "    return NN{Float32}(n_batch=n_batch, n_in=n_in, n_hid=n_hid, n_out=n_out, params=params)\n",
    "end;"
   ]
  },
  {
   "cell_type": "markdown",
   "metadata": {},
   "source": [
    "mutable struct `NN`を用意し，**重みの初期化(weight initialization)** を行う同名の関数`NN`を用意する．重みの初期化の手法は複数ある(Glorot & Bengio, 2010)が，ここでは重みを$w$として，$w \\sim U\\left(-1/\\sqrt{n}, 1/\\sqrt{n}\\right)$とする．ただし，$n$は入力ユニット数である．"
   ]
  },
  {
   "cell_type": "markdown",
   "metadata": {},
   "source": [
    "### Optimizerの作成"
   ]
  },
  {
   "cell_type": "markdown",
   "metadata": {},
   "source": [
    "abstract typeとして`Optimizer`タイプを作成する．"
   ]
  },
  {
   "cell_type": "code",
   "execution_count": 3,
   "metadata": {},
   "outputs": [],
   "source": [
    "abstract type Optimizer\n",
    "end"
   ]
  },
  {
   "cell_type": "markdown",
   "metadata": {},
   "source": [
    "**確率的勾配降下法(stochastic gradient descent; SGD)** を実装する．"
   ]
  },
  {
   "cell_type": "code",
   "execution_count": 4,
   "metadata": {},
   "outputs": [
    {
     "data": {
      "text/plain": [
       "optimizer_update! (generic function with 1 method)"
      ]
     },
     "execution_count": 4,
     "metadata": {},
     "output_type": "execute_result"
    }
   ],
   "source": [
    "# SGD optimizer\n",
    "@kwdef struct SGD{FT} <: Optimizer\n",
    "    η::FT = 1e-2\n",
    "end\n",
    "\n",
    "function optimizer_update!(param, grad, optimizer::SGD)\n",
    "    @unpack η = optimizer\n",
    "    param[:, :] -= η * grad\n",
    "end"
   ]
  },
  {
   "cell_type": "markdown",
   "metadata": {},
   "source": [
    "次に**Adam** ([Kingma & Ba, 2014](https://arxiv.org/abs/1412.6980)) を実装する．"
   ]
  },
  {
   "cell_type": "code",
   "execution_count": 5,
   "metadata": {},
   "outputs": [
    {
     "data": {
      "text/plain": [
       "optimizer_update! (generic function with 2 methods)"
      ]
     },
     "execution_count": 5,
     "metadata": {},
     "output_type": "execute_result"
    }
   ],
   "source": [
    "# Adam optimizer\n",
    "@kwdef mutable struct Adam{FT} <: Optimizer\n",
    "    α::FT  = 1e-4\n",
    "    β1::FT = 0.9\n",
    "    β2::FT = 0.999\n",
    "    ϵ::FT = 1e-8\n",
    "    ms = Dict()\n",
    "    vs = Dict()\n",
    "end\n",
    "\n",
    "# Adam optimizer\n",
    "function optimizer_update!(param, grad, optimizer::Adam)\n",
    "    @unpack α, β1, β2, ϵ, ms, vs = optimizer\n",
    "    key = objectid(param)\n",
    "    if !haskey(ms, key) \n",
    "        ms[key], vs[key] = zeros(size(param)), zeros(size(param))\n",
    "    end    \n",
    "    m, v = ms[key], vs[key]\n",
    "    m += (1 - β1) * (grad - m)\n",
    "    v += (1 - β2) * (grad .* grad - v)\n",
    "    param[:, :] -= α * m ./ (sqrt.(v) .+ ϵ)\n",
    "end"
   ]
  },
  {
   "cell_type": "markdown",
   "metadata": {},
   "source": [
    "### 順伝播・逆伝播の実装\n",
    "活性化関数を用意する．今回はsigmoid関数のみ使用する．"
   ]
  },
  {
   "cell_type": "code",
   "execution_count": 6,
   "metadata": {},
   "outputs": [],
   "source": [
    "sigmoid(x) = 1 / (1 + exp(-x));\n",
    "relu(x) = x .* (x .> 0);"
   ]
  },
  {
   "cell_type": "markdown",
   "metadata": {},
   "source": [
    "$f(\\cdot)$を活性化関数とする．順伝播(feedforward propagation)は以下のようになる．\n",
    "\n",
    "$$\n",
    "\\begin{align}\n",
    "\\text{入力層 : }&\\mathbf{z}^{(0)}=\\mathbf{x}\\\\\n",
    "\\text{隠れ層 : }&\\mathbf{z}^{(\\ell)}=f\\left(\\mathbf{a}^{(\\ell)}\\right)\\\\\n",
    "&\\mathbf{a}^{(\\ell+1)}=W^{(\\ell+1)}\\mathbf{z}^{(\\ell)}+\\mathbf{b}^{(\\ell+1)}\\\\\n",
    "\\text{出力層 : }&\\hat{\\mathbf{y}}=\\mathbf{z}^{(L)}\n",
    "\\end{align}\n",
    "$$\n",
    "\n",
    "逆伝播(backward propagation)\n",
    "\n",
    "$$\n",
    "\\begin{align}\n",
    "\\text{目的関数 : }&\\mathcal{L}=\\frac{1}{2}\\left\\|\\hat{\\mathbf{y}}-\\mathbf{y}\\right\\|^{2}\\\\\n",
    "\\text{最急降下法 : }&\\Delta W^{(\\ell)}=-\\eta \\frac{\\partial \\mathcal{L}}{\\partial W^{(\\ell)}}\\\\\n",
    "&\\Delta \\mathbf{b}^{(\\ell)}=-\\eta \\frac{\\partial \\mathcal{L}}{\\partial \\mathbf{b}^{(\\ell)}}\\\\\n",
    "\\text{誤差逆伝播法 : }&\\frac{\\partial \\mathcal{L}}{\\partial \\hat{\\mathbf{y}}}=\\frac{\\partial \\mathcal{L}}{\\partial \\mathbf{z}^{(L)}}=\\hat{\\mathbf{y}}-\\mathbf{y}\\\\\n",
    "&\\delta^{(L)}=\\frac{\\partial \\mathcal{L}}{\\partial \\mathbf{z}^{(L)}} \\frac{\\partial \\mathbf{z}^{(L)}}{\\partial \\mathbf{a}^{(L)}}=\\left(\\hat{\\mathbf{y}}-\\mathbf{y}\\right) \\odot f^{\\prime}\\left(\\mathbf{a}^{(L)}\\right)\\\\\n",
    "&\\mathbf{\\delta}^{(\\ell)}=\\frac{\\partial \\mathcal{L}}{\\partial \\mathbf{z}^{(\\ell)}} \\frac{\\partial \\mathbf{z}^{(\\ell)}}{\\partial \\mathbf{a}^{(\\ell)}}=\\left(W^{(\\ell+1)}\\right)^\\top \\delta^{(\\ell+1)} \\odot f^{\\prime}\\left(\\mathbf{a}^{(\\ell)}\\right)\\\\\n",
    "&\\frac{\\partial \\mathcal{L}}{\\partial W^{(\\ell)}}=\\frac{\\partial \\mathcal{L}}{\\partial \\mathbf{z}^{(\\ell)}} \\frac{\\partial \\mathbf{z}^{(\\ell)}}{\\partial \\mathbf{a}^{(\\ell)}} \\frac{\\partial \\mathbf{a}^{(\\ell)}}{\\partial W^{(\\ell)}}=\\delta^{(\\ell)}\\left(\\mathbf{z}^{(\\ell-1)}\\right)^\\top\\\\\n",
    "&\\frac{\\partial \\mathcal{L}}{\\partial \\mathbf{b}^{(\\ell)}}=\\frac{\\partial \\mathcal{L}}{\\partial \\mathbf{z}^{(\\ell)}} \\frac{\\partial \\mathbf{z}^{(\\ell)}}{\\partial \\mathbf{a}^{(\\ell)}} \\frac{\\partial \\mathbf{a}^{(\\ell)}}{\\partial \\mathbf{b}^{(\\ell)}}=\\delta^{(\\ell)}\n",
    "\\end{align}\n",
    "$$\n",
    "\n",
    "バッチ処理を考慮すると，行列を乗ずる順番が変わる．"
   ]
  },
  {
   "cell_type": "code",
   "execution_count": 7,
   "metadata": {},
   "outputs": [
    {
     "data": {
      "text/plain": [
       "update! (generic function with 3 methods)"
      ]
     },
     "execution_count": 7,
     "metadata": {},
     "output_type": "execute_result"
    }
   ],
   "source": [
    "function update!(variable::NN, x::Array, y::Array, training::Bool, optimizer::Optimizer=SGD(), losstype::String=\"binary_crossentropy\")\n",
    "    @unpack n_batch, params, grads = variable \n",
    "    W1, W2, b1, b2 = params[\"W1\"], params[\"W2\"], params[\"b1\"], params[\"b2\"]\n",
    "    \n",
    "    # feedforward\n",
    "    h = sigmoid.(x * W1 .+ b1) # hidden\n",
    "    ŷ = sigmoid.(h * W2 .+ b2) # output\n",
    "    error = ŷ - y\n",
    "    \n",
    "    if training # backward \n",
    "        if losstype == \"binary_crossentropy\"\n",
    "            δ2 = error \n",
    "        elseif losstype == \"squared_error\"\n",
    "            δ2 = error .* ŷ .* (1.0 .- ŷ)\n",
    "        end\n",
    "        δ1 = δ2 * W2' .* h .* (1.0 .- h)\n",
    "\n",
    "        # get gradients\n",
    "        grads[\"W1\"] = x' * δ1\n",
    "        grads[\"W2\"] = h' * δ2\n",
    "        grads[\"b1\"] = sum(δ1, dims=1)\n",
    "        grads[\"b2\"] = sum(δ2, dims=1)\n",
    "\n",
    "        # update params\n",
    "        for key in keys(nn.params) \n",
    "            optimizer_update!(params[key], grads[key] / n_batch, optimizer)\n",
    "        end\n",
    "    end\n",
    "    return error, ŷ, h\n",
    "end"
   ]
  },
  {
   "cell_type": "markdown",
   "metadata": {},
   "source": [
    "$$\n",
    "\\frac{d}{dx} \\text{Sigmoid}(x) = \\text{Sigmoid}(x) \\cdot \\left(1 - \\text{Sigmoid}(x)\\right)\n",
    "$$\n",
    "であることに注意．"
   ]
  },
  {
   "cell_type": "markdown",
   "metadata": {},
   "source": [
    "## Zipser-Andersenモデル\n",
    "Zipser-Andersenモデル([Zipser & Andersen, Nature. 1988](https://www.nature.com/articles/331679a0))は頭頂葉の7a野のモデルであり，網膜座標系における物体の位置と眼球位置を入力として，頭部中心座標(head centered coordinate)に変換する．隠れ層はPPC(Posterior parietal cortex)の細胞のモデルになっている．"
   ]
  },
  {
   "cell_type": "markdown",
   "metadata": {},
   "source": [
    "### データセットの生成\n",
    "物体位置の表現にはGaussian形式とmonotonic形式があるが，簡単のために，Gaussian形式を用いる．なお，monotonic形式については末尾の補足を参照してほしい．"
   ]
  },
  {
   "cell_type": "code",
   "execution_count": 8,
   "metadata": {},
   "outputs": [
    {
     "data": {
      "text/plain": [
       "Gaussian2d (generic function with 4 methods)"
      ]
     },
     "execution_count": 8,
     "metadata": {},
     "output_type": "execute_result"
    }
   ],
   "source": [
    "# Gaussian 2d\n",
    "function Gaussian2d(pos, sizex=8, sizey=8, σ=1)\n",
    "    x, y = 0:sizex-1, 0:sizey-1\n",
    "    X, Y = [i for i in x, j in 1:length(y)], [j for i in 1:length(x), j in y]\n",
    "    x0, y0 = pos\n",
    "    return exp.(-((X .- x0) .^2 + (Y .- y0) .^2) / 2σ^2)\n",
    "end"
   ]
  },
  {
   "cell_type": "markdown",
   "metadata": {},
   "source": [
    "入力は64(網膜座標系での位置)+2(眼球位置信号)=66とする．眼球位置信号は原著ではmonotonic形式による32(=8ユニット×2(x, y方向)×2 (傾き正負))ユニットで構成されるが，簡単のために眼球位置信号も$x, y$の2次元とする．視覚刺激は-40度から40度までの範囲であり，10度で離散化する．よって，網膜座標系での位置は$8\\times 8$の行列で表現される．位置は2次元のGaussianで表現する．ただし，1/e幅（ピークから1/eに減弱する幅）は15度である．$1/e$の代わりに$1/2$とすれば半値全幅(FWHM)となる．スポットサイズを$w$，Gaussianを$G(x)$とすると．$G(x+w/2)=G/e$より，$\\sigma=\\frac{\\sqrt{2}w}{4}$と求まる．"
   ]
  },
  {
   "cell_type": "code",
   "execution_count": 15,
   "metadata": {},
   "outputs": [],
   "source": [
    "# dataset parameter\n",
    "θmax = 40.0 # degree, θ∈[-θmax, θmax]\n",
    "Δθ = 10.0 # degree\n",
    "stimuli_size = Int(2θmax / Δθ)\n",
    "w = 15.0 # degree; 1/e width\n",
    "σ = √2w/(4Δθ);\n",
    "\n",
    "# training parameter\n",
    "n_data = 10000\n",
    "n_traindata = Int(n_data*0.95)\n",
    "n_batch = 25 # batch size\n",
    "n_iter_per_epoch = Int(n_traindata/n_batch)\n",
    "n_epoch = 1000; # number of epoch"
   ]
  },
  {
   "cell_type": "code",
   "execution_count": 16,
   "metadata": {},
   "outputs": [],
   "source": [
    "# generate positions\n",
    "Random.seed!(0)\n",
    "retinal_pos = (rand(n_data, 2) .- 0.5) * 2θmax # ∈ [-40, 40]\n",
    "head_centered_pos = (rand(n_data, 2) .- 0.5) * 2θmax # ∈ [-40, 40]\n",
    "eye_pos = head_centered_pos - retinal_pos; # ∈ [-80, 80]\n",
    "\n",
    "# convert\n",
    "input_retina = [hcat(Gaussian2d((retinal_pos[i, :] .+ θmax)/Δθ, stimuli_size, stimuli_size, σ)...) for i in 1:n_data];\n",
    "input_retina = vcat(input_retina...)\n",
    "eye_pos /= 2θmax;\n",
    "\n",
    "# concat\n",
    "x_data = hcat(input_retina, eye_pos) #_encoded)\n",
    "y_data = vcat([hcat(Gaussian2d((head_centered_pos[i, :] .+ θmax)/Δθ, stimuli_size, stimuli_size, σ)...) for i in 1:n_data]...);\n",
    "\n",
    "# split\n",
    "x_traindata, y_traindata = x_data[1:n_traindata, :], y_data[1:n_traindata, :]\n",
    "x_testdata, y_testdata = x_data[n_traindata+1:end, :], y_data[n_traindata+1:end, :];"
   ]
  },
  {
   "cell_type": "markdown",
   "metadata": {},
   "source": [
    "モデルの定義を行う．"
   ]
  },
  {
   "cell_type": "code",
   "execution_count": 17,
   "metadata": {},
   "outputs": [],
   "source": [
    "# model parameter\n",
    "n_in = stimuli_size^2 + 2 # number of inputs\n",
    "n_hid = 16   # number of hidden units\n",
    "n_out = stimuli_size^2   # number of outputs\n",
    "η = 1e-2  # learning rate\n",
    "losstype = \"binary_crossentropy\" # \"squared_error\"\n",
    "\n",
    "nn = NN(n_batch, n_in, n_hid, n_out);\n",
    "optimizer = SGD(η=η); \n",
    "#optimizer = Adam();"
   ]
  },
  {
   "cell_type": "markdown",
   "metadata": {},
   "source": [
    "学習を行う．"
   ]
  },
  {
   "cell_type": "code",
   "execution_count": 19,
   "metadata": {
    "tags": [
     "remove-output"
    ]
   },
   "outputs": [
    {
     "name": "stderr",
     "output_type": "stream",
     "text": [
      "\u001b[32mTraining...100%|████████████████████████████████████████| Time: 0:00:26\u001b[39m\n"
     ]
    }
   ],
   "source": [
    "error_arr = zeros(Float32, n_epoch); # memory array of each epoch error\n",
    "\n",
    "@showprogress \"Training...\" for e in 1:n_epoch\n",
    "    for iter in 1:n_iter_per_epoch\n",
    "        idx = (iter-1)*n_batch+1:iter*n_batch\n",
    "        error, _, _ = update!(nn, x_traindata[idx, :], y_traindata[idx, :], true, optimizer, losstype)\n",
    "        error_arr[e] += sum(error .^ 2)\n",
    "    end \n",
    "    error_arr[e] /= n_traindata\n",
    "end"
   ]
  },
  {
   "cell_type": "markdown",
   "metadata": {},
   "source": [
    "損失の変化を描画する．"
   ]
  },
  {
   "cell_type": "code",
   "execution_count": 20,
   "metadata": {},
   "outputs": [
    {
     "data": {
      "image/png": "[encoded data removed]",
      "text/plain": [
       "Figure(PyObject <Figure size 400x200 with 1 Axes>)"
      ]
     },
     "metadata": {},
     "output_type": "display_data"
    }
   ],
   "source": [
    "figure(figsize=(4,2))\n",
    "semilogy(error_arr)\n",
    "ylabel(\"Error\"); xlabel(\"Epoch\"); xlim(0, n_epoch)\n",
    "tight_layout()"
   ]
  },
  {
   "cell_type": "markdown",
   "metadata": {},
   "source": [
    "テストデータを用いて，出力を確認する．"
   ]
  },
  {
   "cell_type": "code",
   "execution_count": 21,
   "metadata": {},
   "outputs": [
    {
     "data": {
      "image/png": "[encoded data removed]",
      "text/plain": [
       "Figure(PyObject <Figure size 600x200 with 3 Axes>)"
      ]
     },
     "metadata": {},
     "output_type": "display_data"
    }
   ],
   "source": [
    "x, y = x_testdata[1:2, :], y_testdata[1:2, :]\n",
    "error, ŷ, h = update!(nn, x, y, false);\n",
    "\n",
    "id = 1\n",
    "figure(figsize=(6,2))\n",
    "ax1 = subplot(1,3,1); title(\"input\")\n",
    "ax1.imshow(reshape(x[id, 1:64], (stimuli_size, stimuli_size))', interpolation=\"gaussian\", extent=[-θmax, θmax, θmax, -θmax])\n",
    "ax1.add_patch(plt.Circle((x[id, 65:66])*2θmax, radius=2, color=\"tab:red\", fill=false))\n",
    "xlabel(\"x\"); ylabel(\"y\");\n",
    "\n",
    "ax2 = subplot(1,3,2); title(\"output\")\n",
    "ax2.imshow(reshape(ŷ[id, :], (stimuli_size, stimuli_size))', interpolation=\"gaussian\", extent=[-θmax, θmax, θmax, -θmax])\n",
    "ax2.add_patch(plt.Circle((x[id, 65:66])*2θmax, radius=2, color=\"tab:red\", fill=false))\n",
    "xlabel(\"x\");\n",
    "\n",
    "ax3 = subplot(1,3,3); title(\"target\")\n",
    "ax3.imshow(reshape(y[id, :], (stimuli_size, stimuli_size))', interpolation=\"gaussian\", extent=[-θmax, θmax, θmax, -θmax])\n",
    "ax3.add_patch(plt.Circle((x[id, 65:66])*2θmax, radius=2, color=\"tab:red\", fill=false))\n",
    "xlabel(\"x\");\n",
    "\n",
    "tight_layout()"
   ]
  },
  {
   "cell_type": "markdown",
   "metadata": {},
   "source": [
    "重み`W1`におけるゲインフィールドの描画を行う．"
   ]
  },
  {
   "cell_type": "code",
   "execution_count": 22,
   "metadata": {},
   "outputs": [
    {
     "data": {
      "image/png": "[encoded data removed]",
      "text/plain": [
       "Figure(PyObject <Figure size 320x300 with 16 Axes>)"
      ]
     },
     "metadata": {},
     "output_type": "display_data"
    }
   ],
   "source": [
    "# Plot Gain fields\n",
    "figure(figsize=(3.2, 3))\n",
    "suptitle(\"Gain fields\", fontsize=12)\n",
    "subplots_adjust(hspace=0.1, wspace=0.1, top=0.925)\n",
    "for i in 1:n_hid\n",
    "    subplot(4, 4, i)\n",
    "    imshow(reshape(nn.params[\"W1\"][1:stimuli_size^2, i], (stimuli_size, stimuli_size)), cmap=\"hot\")\n",
    "    axis(\"off\")\n",
    "end"
   ]
  },
  {
   "cell_type": "markdown",
   "metadata": {},
   "source": [
    "## 補足：Monotonic formatによる位置のエンコーディング\n",
    "monotonic形式を入力の眼球位置と出力の頭部中心座標で用いるという仮定には，視覚刺激を中心窩で捉えた際，得られる眼球位置信号を頭部中心座標での位置の教師信号として使用できるという利点がある．([Andersen & Mountcastle, J. Neurosci. 1983](https://pubmed.ncbi.nlm.nih.gov/6827308/))では Parietal visual neurons (PVNs)の活動を調べ，傾き正あるいは負．0度をピークとして減少あるいは上昇の4種類あることを示した．前者は一次関数（とReLU関数）で記述可能である．"
   ]
  },
  {
   "cell_type": "code",
   "execution_count": 15,
   "metadata": {},
   "outputs": [
    {
     "data": {
      "image/png": "[encoded data removed]",
      "text/plain": [
       "Figure(PyObject <Figure size 500x300 with 2 Axes>)"
      ]
     },
     "metadata": {},
     "output_type": "display_data"
    }
   ],
   "source": [
    "get_line(p1, p2) = [(p2[2]-p1[2])/(p2[1]-p1[1]), (p2[1]*p1[2] - p1[1]*p2[2])/(p2[1]-p1[1])] # [slope, intercept]\n",
    "eye_pos_coding(x; linear_param) = relu(linear_param[1, :] * x .+ linear_param[2, :])\n",
    "\n",
    "x = -2θmax:1:2θmax\n",
    "slope_param = hcat([get_line([80, 1], [-80, -2(i-1)/stimuli_size]) for i in 1:stimuli_size]...)\n",
    "y = hcat(eye_pos_coding.(x; linear_param=slope_param)...)\n",
    "eye_pos_encoded = eye_pos_coding(-10; linear_param=slope_param)\n",
    "\n",
    "figure(figsize=(5,3))\n",
    "subplot(2,1,1); plot(x, y'); xlabel(\"Eye position\"); ylabel(\"Firing rate\")\n",
    "subplot(2,1,2); imshow(eye_pos_encoded[:, :]'); title(L\"Eye position $=-10^\\circ$\"); xlabel(\"Units\") \n",
    "tight_layout()"
   ]
  }
 ],
 "metadata": {
  "celltoolbar": "Tags",
  "kernelspec": {
   "display_name": "Julia 1.7.0",
   "language": "julia",
   "name": "julia-1.7"
  },
  "language_info": {
   "file_extension": ".jl",
   "mimetype": "application/julia",
   "name": "julia",
   "version": "1.6.2"
  }
 },
 "nbformat": 4,
 "nbformat_minor": 4
}
