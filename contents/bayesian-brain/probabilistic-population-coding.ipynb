{
 "cells": [
  {
   "cell_type": "markdown",
   "id": "172100eb",
   "metadata": {},
   "source": [
    "# 確率的集団符号化 (probabilistic population coding)\n",
    "\n",
    "Distributional Population Coding or distributed distributional codes (DDCs)\n",
    "\n",
    "ポアソン分布\n",
    "\n",
    "$$\n",
    "P(X=k)={\\frac  {e^{-\\lambda} \\lambda^k}{k!}}\n",
    "$$\n",
    "\n",
    "より，\n",
    "\n",
    "$$\n",
    "p(y \\mid \\mathbf{x}) \\propto \\prod_{i} \\frac{e^{-f_{i}(y)} f_{i}(y)^{x_{i}}}{x_{i} !} p(y)\n",
    "$$"
   ]
  },
  {
   "cell_type": "code",
   "execution_count": null,
   "id": "a7d1332a",
   "metadata": {},
   "outputs": [],
   "source": []
  },
  {
   "cell_type": "code",
   "execution_count": null,
   "id": "2fc5b07c",
   "metadata": {},
   "outputs": [],
   "source": []
  },
  {
   "cell_type": "code",
   "execution_count": null,
   "id": "9db2b41f",
   "metadata": {},
   "outputs": [],
   "source": []
  }
 ],
 "metadata": {
  "kernelspec": {
   "display_name": "Julia 1.8.0-rc1",
   "language": "julia",
   "name": "julia-1.8"
  },
  "language_info": {
   "file_extension": ".jl",
   "mimetype": "application/julia",
   "name": "julia",
   "version": "1.8.0"
  }
 },
 "nbformat": 4,
 "nbformat_minor": 5
}
