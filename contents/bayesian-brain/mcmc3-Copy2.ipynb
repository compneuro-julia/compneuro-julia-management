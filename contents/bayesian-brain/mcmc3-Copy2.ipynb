{
 "cells": [
  {
   "cell_type": "markdown",
   "metadata": {},
   "source": [
    "# マルコフ連鎖モンテカルロ法 (MCMC)\n",
    "前節では解析的に事後分布の計算をした．事後分布を近似的に推論する方法の1つに**マルコフ連鎖モンテカルロ法 (Markov chain Monte Carlo methods; MCMC)** がある．他の近似推論の手法としてはLaplace近似や変分推論（variational inference）などがある．MCMCは他の手法に比して，事後分布の推論だけでなく，確率分布を神経活動で表現する方法を提供するという利点がある．\n",
    "\n",
    "データを$X$とし，パラメータを$\\theta$とする．\n",
    "\n",
    "$$\n",
    "\\begin{equation}\n",
    "p(\\theta\\mid X)=\\frac{p(X\\mid \\theta)p(\\theta)}{\\int p(X\\mid \\theta)p(\\theta)d\\theta}\n",
    "\\end{equation}\n",
    "$$\n",
    "\n",
    "分母の積分計算$\\int p(X\\mid \\theta)p(\\theta)d\\theta$が求まればよい．\n",
    "\n",
    "### モンテカルロ法\n",
    "\n",
    "### マルコフ連鎖\n"
   ]
  },
  {
   "cell_type": "markdown",
   "metadata": {},
   "source": [
    "## Metropolis-Hastings法\n"
   ]
  },
  {
   "cell_type": "code",
   "execution_count": 1,
   "metadata": {},
   "outputs": [],
   "source": [
    "using Base: @kwdef\n",
    "using PyPlot, LinearAlgebra, Random, Distributions, ForwardDiff, KernelDensity, StatsBase\n",
    "rc(\"axes.spines\", top=false, right=false)"
   ]
  },
  {
   "cell_type": "markdown",
   "metadata": {},
   "source": [
    "Metropolis-Hastings法における採用・不採用アルゴリズム．"
   ]
  },
  {
   "cell_type": "code",
   "execution_count": 2,
   "metadata": {},
   "outputs": [],
   "source": [
    "# Metropolis-Hastings method; log_p: unnormalized log-posterior\n",
    "function gaussian_mh(log_p::Function, θ_init::Vector{Float64}, σ::Float64, num_iter::Int)\n",
    "    d = length(θ_init)\n",
    "    samples = zeros(d, num_iter)\n",
    "    num_accepted = 0\n",
    "    θ = θ_init # init position\n",
    "    for m in 1:num_iter\n",
    "        θ_ = rand(MvNormal(θ, σ*I))\n",
    "        mH = log_p(θ) + logpdf(MvNormal(θ, σ*I), θ_)       # initial Hamiltonian\n",
    "        mH_ = log_p(θ_) + logpdf(MvNormal(θ_, σ*I), θ)    # final Hamiltonian\n",
    "        \n",
    "        if min(1, exp(mH_ - mH)) > rand()\n",
    "            θ = θ_ # accept\n",
    "            num_accepted += 1\n",
    "        end\n",
    "        samples[:, m] = θ\n",
    "    end\n",
    "    return samples, num_accepted\n",
    "end;"
   ]
  },
  {
   "cell_type": "markdown",
   "metadata": {},
   "source": [
    "## ランジュバン・モンテカルロ法 (LMC)\n",
    "拡散過程\n",
    "\n",
    "$$\n",
    "\\begin{equation}\n",
    "{\\frac{d\\theta}{dt}}=\\nabla \\log p (\\theta)+{\\sqrt 2}{d{W}}\n",
    "\\end{equation}\n",
    "$$\n",
    "\n",
    "Euler–Maruyama法により，"
   ]
  },
  {
   "cell_type": "code",
   "execution_count": 3,
   "metadata": {},
   "outputs": [],
   "source": [
    "# Hamiltonian Monte Carlo method; log_p: unnormalized log-posterior\n",
    "function lmc(log_p::Function, θ_init::Vector{Float64}, ϵ::Float64, num_iter::Int; β=1)\n",
    "    grad(θ)= ForwardDiff.gradient(log_p, θ)\n",
    "    d = length(θ_init)\n",
    "    samples = zeros(d, num_iter)\n",
    "    num_accepted = 0\n",
    "    θ = θ_init # init position\n",
    "    ρ = sqrt(2*ϵ);\n",
    "    for m in 1:num_iter\n",
    "        θ += ϵ * β * grad(θ) + ρ * randn(d)\n",
    "        samples[:, m] = θ\n",
    "    end\n",
    "    return samples\n",
    "end;"
   ]
  },
  {
   "cell_type": "markdown",
   "metadata": {},
   "source": [
    "## ハミルトニアン・モンテカルロ法 (HMC法)\n",
    "\n",
    "LMCよりも一般的なMCMCの手法としてHamiltonianモンテカルロ法(Hamiltonian Monte Calro; HMC)あるいはハイブリッド・モンテカルロ法(Hybrid Monte Calro)がある．エネルギーポテンシャルの局面上をHamilton力学に従ってパラメータを運動させることにより高速にサンプリングする手法である．\n",
    "\n",
    "一般化座標を$\\mathbf{q}$, 一般化運動量を$\\mathbf{p}$とする．ポテンシャルエネルギーを$U(\\mathbf{q})$としたとき，古典力学（解析力学）において保存力のみが作用する場合の**ハミルトニアン (Hamiltonian)** $\\mathcal{H}(\\mathbf{q}, \\mathbf{p})$は\n",
    "\n",
    "$$\n",
    "\\begin{equation}\n",
    "\\mathcal{H}(\\mathbf{q}, \\mathbf{p}):=U(\\mathbf{q})+\\frac{1}{2}\\|\\mathbf{p}\\|^2\n",
    "\\end{equation}\n",
    "$$\n",
    "\n",
    "となる．このとき，次の2つの方程式が成り立つ．\n",
    "\n",
    "$$\n",
    "\\begin{equation}\n",
    "\\frac{d\\mathbf{q}}{dt}=\\frac{\\partial \\mathcal{H}}{\\partial \\mathbf{p}}=\\mathbf{p},\\quad\\frac{d\\mathbf{p}}{dt}=-\\frac{\\partial \\mathcal{H}}{\\partial \\mathbf{q}}=-\\frac{\\partial U}{\\partial \\mathbf{q}}\n",
    "\\end{equation}\n",
    "$$\n",
    "\n",
    "これを**ハミルトンの運動方程式(hamilton's equations of motion)** あるいは**正準方程式 (canonical equations)** という．\n",
    "\n",
    "\n",
    "\n",
    "リープフロッグ(leap frog)法により離散化する．"
   ]
  },
  {
   "cell_type": "code",
   "execution_count": 4,
   "metadata": {},
   "outputs": [],
   "source": [
    "function leapfrog(grad::Function, θ::Vector{Float64}, p::Vector{Float64}, ϵ::Float64, L::Int)\n",
    "    for l in 1:L\n",
    "        p += 0.5 * ϵ * grad(θ)\n",
    "        θ += ϵ * p\n",
    "        p += 0.5 * ϵ * grad(θ)\n",
    "    end\n",
    "    return θ, p\n",
    "end;"
   ]
  },
  {
   "cell_type": "code",
   "execution_count": 5,
   "metadata": {},
   "outputs": [],
   "source": [
    "# Hamiltonian Monte Carlo method; log_p: unnormalized log-posterior\n",
    "function hmc(log_p::Function, θ_init::Vector{Float64}, ϵ::Float64, L::Int, num_iter::Int)\n",
    "    grad(θ)= ForwardDiff.gradient(log_p, θ)\n",
    "    d = length(θ_init)\n",
    "    samples = zeros(d, num_iter)\n",
    "    num_accepted = 0\n",
    "    θ = θ_init # init position\n",
    "    for m in 1:num_iter\n",
    "        p = randn(d) # get momentum        \n",
    "        H = -log_p(θ) + 0.5 * p' * p        # initial Hamiltonian\n",
    "        θ_, p_ = leapfrog(grad, θ, p, ϵ, L) # update\n",
    "        H_ = -log_p(θ_) + 0.5 * p_' * p_    # final Hamiltonian\n",
    "        \n",
    "        if min(1, exp(H - H_)) > rand()\n",
    "            θ = θ_ # accept\n",
    "            num_accepted += 1\n",
    "        end\n",
    "        samples[:, m] = θ\n",
    "    end\n",
    "    return samples, num_accepted\n",
    "end;"
   ]
  },
  {
   "cell_type": "code",
   "execution_count": 35,
   "metadata": {},
   "outputs": [],
   "source": [
    "# Hamiltonian Monte Carlo method; log_p: unnormalized log-posterior\n",
    "function almc(log_p::Function, θ_init::Vector{Float64}, ϵ::Float64, num_iter::Int; β=1)\n",
    "    grad(θ)= ForwardDiff.gradient(log_p, θ)\n",
    "    d = length(θ_init)\n",
    "    samples = zeros(d, num_iter)\n",
    "    drift_term = zeros(num_iter)\n",
    "    #diff_term = zeros(num_iter)\n",
    "    num_accepted = 0\n",
    "    θ = θ_init # init position\n",
    "    ρ = sqrt(2*ϵ);\n",
    "    for m in 1:num_iter\n",
    "        θ += ϵ * β * grad(θ) .* (1 .+ 10 * ρ*randn(d))\n",
    "        samples[:, m] = θ\n",
    "    end\n",
    "    return samples\n",
    "end;"
   ]
  },
  {
   "cell_type": "markdown",
   "metadata": {},
   "source": [
    "## 線形回帰への適応\n"
   ]
  },
  {
   "cell_type": "code",
   "execution_count": 8,
   "metadata": {},
   "outputs": [],
   "source": [
    "# Generate Toy datas\n",
    "n_train, n_test = 50, 100 # sample size\n",
    "n_iter = 10000\n",
    "n_burn_in = round(Int, n_iter / 2)\n",
    "dims = 4 # dimensions\n",
    "σy = 0.2\n",
    "\n",
    "polynomial_expansion(x; degree=3) = stack([x .^ p for p in 0:degree]);\n",
    "\n",
    "Random.seed!(0);\n",
    "x = rand(n_train)\n",
    "y = sin.(2π*x) + σy * randn(n_train);\n",
    "ϕ = polynomial_expansion(x, degree=dims-1) # design matrix\n",
    "\n",
    "xtest = range(-0.1, 1.1, length=n_test)\n",
    "ytest = sin.(2π*xtest)\n",
    "ϕtest = polynomial_expansion(xtest, degree=dims-1);"
   ]
  },
  {
   "cell_type": "code",
   "execution_count": 9,
   "metadata": {},
   "outputs": [],
   "source": [
    "log_joint(w, ϕ, y, σy, μ₀, Σ₀) = sum(logpdf.(Normal.(ϕ * w, σy), y)) + logpdf(MvNormal(μ₀, Σ₀), w);"
   ]
  },
  {
   "cell_type": "code",
   "execution_count": 10,
   "metadata": {},
   "outputs": [
    {
     "data": {
      "text/plain": [
       "(0.005, 5.0)"
      ]
     },
     "execution_count": 10,
     "metadata": {},
     "output_type": "execute_result"
    }
   ],
   "source": [
    "α, β = 5e-3, 5.0"
   ]
  },
  {
   "cell_type": "code",
   "execution_count": 11,
   "metadata": {},
   "outputs": [],
   "source": [
    "w = randn(dims)\n",
    "μ₀ = zeros(dims)\n",
    "Σ₀ = 1/α * I;"
   ]
  },
  {
   "cell_type": "code",
   "execution_count": 12,
   "metadata": {},
   "outputs": [
    {
     "data": {
      "text/plain": [
       "ulp (generic function with 1 method)"
      ]
     },
     "execution_count": 12,
     "metadata": {},
     "output_type": "execute_result"
    }
   ],
   "source": [
    "ulp(w) = log_joint(w, ϕ, y, σy, μ₀, Σ₀)"
   ]
  },
  {
   "cell_type": "code",
   "execution_count": 13,
   "metadata": {},
   "outputs": [
    {
     "data": {
      "text/plain": [
       "4-element Vector{Float64}:\n",
       " 21.63668275657154\n",
       "  2.3512978351397225\n",
       "  4.110944423223151\n",
       " 12.557040811868173"
      ]
     },
     "execution_count": 13,
     "metadata": {},
     "output_type": "execute_result"
    }
   ],
   "source": [
    "w_init = rand(MvNormal(μ₀, Σ₀), 1)[:, 1]"
   ]
  },
  {
   "cell_type": "code",
   "execution_count": 36,
   "metadata": {},
   "outputs": [
    {
     "name": "stdout",
     "output_type": "stream",
     "text": [
      "  0.063729 seconds (169.51 k allocations: 53.323 MiB, 13.85% gc time, 4.71% compilation time)\n"
     ]
    },
    {
     "data": {
      "text/plain": [
       "4×10000 Matrix{Float64}:\n",
       " -12.5152    9.52701  -10.2574   …   -0.274951   -0.274418   -0.275015\n",
       "   2.22926  25.8114     6.07239      11.6635     11.664      11.6641\n",
       " -13.9576    0.46585  -23.0877      -33.9182    -33.9187    -33.9188\n",
       "  -4.82638   2.98076   -7.21683      22.7835     22.7841     22.7844"
      ]
     },
     "execution_count": 36,
     "metadata": {},
     "output_type": "execute_result"
    }
   ],
   "source": [
    "#@time samples, num_accepted = hmc(ulp, w_init, 1e-2, 10, n_iter)\n",
    "#@time samples = lmc(ulp, w_init, 1e-3, n_iter)\n",
    "@time samples_almc = almc(ulp, w_init, 1e-3, n_iter)\n",
    "#@time samples = almc2(ulp, w_init, ϕ, y, 1e-3, n_iter)"
   ]
  },
  {
   "cell_type": "code",
   "execution_count": 15,
   "metadata": {},
   "outputs": [],
   "source": [
    "#@time samples2, drift_term2, diff_term2 = lmc2(ulp, w_init, 1e-3, n_iter)"
   ]
  },
  {
   "cell_type": "code",
   "execution_count": 16,
   "metadata": {},
   "outputs": [],
   "source": [
    "#@time samples = lmc(ulp, w_init, 1e-3, n_iter)"
   ]
  },
  {
   "cell_type": "code",
   "execution_count": 17,
   "metadata": {
    "scrolled": true
   },
   "outputs": [],
   "source": [
    "#ratio = diff_term ./ drift_term\n",
    "#ratio2 = diff_term2 ./ drift_term2"
   ]
  },
  {
   "cell_type": "code",
   "execution_count": 18,
   "metadata": {},
   "outputs": [],
   "source": [
    "#semilogy(ratio2)\n",
    "#semilogy(ratio)"
   ]
  },
  {
   "cell_type": "code",
   "execution_count": 19,
   "metadata": {},
   "outputs": [],
   "source": [
    "#semilogy(ratio)"
   ]
  },
  {
   "cell_type": "code",
   "execution_count": 20,
   "metadata": {},
   "outputs": [],
   "source": [
    "#semilogy(diff_term)\n",
    "#semilogy(diff_term2)\n",
    "#axhline(1, color=\"tab:red\")"
   ]
  },
  {
   "cell_type": "code",
   "execution_count": 21,
   "metadata": {},
   "outputs": [],
   "source": [
    "#plot(samples[1, :])\n",
    "#plot(samples_almc[1, :])"
   ]
  },
  {
   "cell_type": "code",
   "execution_count": 37,
   "metadata": {},
   "outputs": [
    {
     "data": {
      "image/png": "[encoded data removed]",
      "text/plain": [
       "Figure(PyObject <Figure size 300x300 with 1 Axes>)"
      ]
     },
     "metadata": {},
     "output_type": "display_data"
    },
    {
     "data": {
      "text/plain": [
       "PyObject Text(24.4, 0.5, '$w_2$')"
      ]
     },
     "execution_count": 37,
     "metadata": {},
     "output_type": "execute_result"
    }
   ],
   "source": [
    "figure(figsize=(3,3))\n",
    "scatter(samples_almc[2, :], samples_almc[3, :], c=1:n_iter)\n",
    "xlabel(L\"$w_1$\")\n",
    "ylabel(L\"$w_2$\")\n",
    "#scatter(samples[1, :], samples[2, :], c=1:n_iter)"
   ]
  },
  {
   "cell_type": "code",
   "execution_count": 38,
   "metadata": {},
   "outputs": [],
   "source": [
    "#yhmc = ϕtest * samples[:, n_burn_in:end];\n",
    "yhmc = ϕtest * samples_almc[:, n_burn_in:end];\n",
    "yhmc_mean = mean(yhmc, dims=2)[:];\n",
    "yhmc_std = std(yhmc, dims=2)[:];"
   ]
  },
  {
   "cell_type": "code",
   "execution_count": 24,
   "metadata": {},
   "outputs": [],
   "source": [
    "#error = y .- ϕ * samples;\n",
    "#loss = sum(error .^ 2, dims=1)"
   ]
  },
  {
   "cell_type": "code",
   "execution_count": 39,
   "metadata": {},
   "outputs": [
    {
     "data": {
      "text/plain": [
       "1×10000 Matrix{Float64}:\n",
       " 15896.9  31958.4  16319.8  16045.3  …  2.05308  2.05301  2.05294  2.05292"
      ]
     },
     "execution_count": 39,
     "metadata": {},
     "output_type": "execute_result"
    }
   ],
   "source": [
    "error_almc = y .- ϕ * samples_almc;\n",
    "loss_almc = sum(error_almc .^ 2, dims=1)"
   ]
  },
  {
   "cell_type": "code",
   "execution_count": 40,
   "metadata": {},
   "outputs": [
    {
     "data": {
      "image/png": "[encoded data removed]",
      "text/plain": [
       "Figure(PyObject <Figure size 640x480 with 1 Axes>)"
      ]
     },
     "metadata": {},
     "output_type": "display_data"
    },
    {
     "data": {
      "text/plain": [
       "1-element Vector{PyCall.PyObject}:\n",
       " PyObject <matplotlib.lines.Line2D object at 0x0000020198D1D850>"
      ]
     },
     "execution_count": 40,
     "metadata": {},
     "output_type": "execute_result"
    }
   ],
   "source": [
    "#semilogy(loss[1, :])\n",
    "semilogy(loss_almc[1, :], alpha=0.5)"
   ]
  },
  {
   "cell_type": "code",
   "execution_count": 41,
   "metadata": {},
   "outputs": [
    {
     "data": {
      "image/png": "[encoded data removed]",
      "text/plain": [
       "Figure(PyObject <Figure size 500x350 with 1 Axes>)"
      ]
     },
     "metadata": {},
     "output_type": "display_data"
    }
   ],
   "source": [
    "figure(figsize=(5,3.5))\n",
    "title(\"Bayesian Linear Regression\")\n",
    "scatter(x, y, facecolor=\"None\", edgecolors=\"black\", s=25) # samples\n",
    "plot(xtest, ytest, \"--\", label=\"Actual\", color=\"tab:red\")  # regression line\n",
    "plot(xtest, yhmc_mean, label=\"Predicted mean\", color=\"tab:blue\")  # regression line\n",
    "fill_between(xtest, yhmc_mean+yhmc_std, yhmc_mean-yhmc_std, alpha=0.5, color=\"tab:gray\", label=\"Predicted std.\")\n",
    "for i in 1:10\n",
    "    plot(xtest, yhmc[:, end-i], alpha=0.3, color=\"tab:green\")\n",
    "end\n",
    "xlabel(\"x\"); ylabel(\"y\"); legend()\n",
    "xlim(-0.1, 1.1); tight_layout()"
   ]
  },
  {
   "cell_type": "code",
   "execution_count": null,
   "metadata": {},
   "outputs": [],
   "source": []
  },
  {
   "cell_type": "code",
   "execution_count": null,
   "metadata": {},
   "outputs": [],
   "source": []
  }
 ],
 "metadata": {
  "kernelspec": {
   "display_name": "Julia 1.11.4",
   "language": "julia",
   "name": "julia-1.11"
  },
  "language_info": {
   "file_extension": ".jl",
   "mimetype": "application/julia",
   "name": "julia",
   "version": "1.11.4"
  }
 },
 "nbformat": 4,
 "nbformat_minor": 4
}
