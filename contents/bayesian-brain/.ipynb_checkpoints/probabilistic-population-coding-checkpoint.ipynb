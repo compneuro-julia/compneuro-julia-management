{
 "cells": [
  {
   "cell_type": "markdown",
   "id": "172100eb",
   "metadata": {},
   "source": [
    "# 確率的集団符号化 (probabilistic population coding)\n",
    "\n",
    "Distributional Population Coding or distributed distributional codes (DDCs)\n",
    "\n",
    "ポアソン分布\n",
    "\n",
    "$$\n",
    "\\begin{equation}\n",
    "P(X=k)={\\frac  {e^{-\\lambda} \\lambda^k}{k!}}\n",
    "\\end{equation}\n",
    "$$\n",
    "\n",
    "より，\n",
    "\n",
    "$$\n",
    "\\begin{equation}\n",
    "p(y \\mid \\mathbf{x}) \\propto \\prod_{i} \\frac{e^{-f_{i}(y)} f_{i}(y)^{x_{i}}}{x_{i} !} p(y)\n",
    "\\end{equation}\n",
    "$$"
   ]
  }
 ],
 "metadata": {
  "kernelspec": {
   "display_name": "Julia 1.8.5",
   "language": "julia",
   "name": "julia-1.8"
  },
  "language_info": {
   "file_extension": ".jl",
   "mimetype": "application/julia",
   "name": "julia",
   "version": "1.8.5"
  }
 },
 "nbformat": 4,
 "nbformat_minor": 5
}
