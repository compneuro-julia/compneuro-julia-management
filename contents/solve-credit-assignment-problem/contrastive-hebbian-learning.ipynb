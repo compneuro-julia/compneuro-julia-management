{
 "cells": [
  {
   "cell_type": "markdown",
   "id": "29e0f255-12a6-4a90-8cc1-71ffb8f80eaa",
   "metadata": {},
   "source": [
    "# contrastive Hebbian learning(CHL)\n",
    "\n",
    "backpropとCHLは同等\n",
    "\n",
    "random feedback\n",
    "https://www.sciencedirect.com/science/article/pii/S089360801930019X\n",
    "\n",
    "Luczak, A., McNaughton, B. L., & Kubo, Y. (2022). Neurons learn by predicting future activity. Nature Machine Intelligence, 4(1), 62–72."
   ]
  }
 ],
 "metadata": {
  "kernelspec": {
   "display_name": "Julia 1.9.4",
   "language": "julia",
   "name": "julia-1.9"
  },
  "language_info": {
   "file_extension": ".jl",
   "mimetype": "application/julia",
   "name": "julia",
   "version": "1.9.4"
  }
 },
 "nbformat": 4,
 "nbformat_minor": 5
}
