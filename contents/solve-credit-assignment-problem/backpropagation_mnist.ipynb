{
 "cells": [
  {
   "cell_type": "markdown",
   "metadata": {},
   "source": [
    "# 勾配法と誤差逆伝播法\n",
    "ニューラルネットワークにおいて，効率よく各重みの勾配を推定することで貢献度割り当て問題を解決する方法が**誤差逆伝播法** (backpropagation) である．本節では入力層，隠れ層，出力層からなる多層ニューラルネットワークを実装し，誤差逆伝播法による勾配推定を用いて学習を行う．\n",
    "\n",
    "本書では誤差逆伝播法を用いない学習法を実施することも考慮し，数式と対応するような実装を行う．そのため，Deep Learningライブラリ (PyTorch, Flux.jl等) のようにLayerを定義し，それを繋げてモデルを定義するということや計算グラフの構築は行わない．"
   ]
  },
  {
   "cell_type": "code",
   "execution_count": 1,
   "metadata": {},
   "outputs": [],
   "source": [
    "using Base: @kwdef\n",
    "using LinearAlgebra, Random, PyPlot, ProgressMeter, Statistics\n",
    "rc(\"axes.spines\", top=false, right=false)"
   ]
  },
  {
   "cell_type": "markdown",
   "metadata": {},
   "source": [
    "活性化関数 (activation function) の構造体を`ActivationFunction` と定義する．この構造体には`forward` と `backward`の2種類の関数フィールド (field; 構造体の要素のこと) を持たせておく．2種類の関数はそれぞれ順伝播時と逆伝播時に使用する．"
   ]
  },
  {
   "cell_type": "code",
   "execution_count": 2,
   "metadata": {},
   "outputs": [],
   "source": [
    "struct ActivationFunction\n",
    "    forward::Function   # function for forward propagation\n",
    "    backward::Function  # function for back-propagation\n",
    "end"
   ]
  },
  {
   "cell_type": "markdown",
   "metadata": {},
   "source": [
    "また，次のコードにより，構造体のインスタンスを関数として使用できるようにしておく．これはcallable objectと呼ばれる．"
   ]
  },
  {
   "cell_type": "code",
   "execution_count": 3,
   "metadata": {},
   "outputs": [],
   "source": [
    "(f::ActivationFunction)(x) = f.forward(x)"
   ]
  },
  {
   "cell_type": "markdown",
   "metadata": {},
   "source": [
    "代表的な活性化関数を紹介する．なお，`backward` における `y` は `forward` での出力に対応する．これは活性化関数を作用させる前の変数 ($x$であり，膜電位に対応する) を保持しておかなくても良いようにするためである．\n",
    "\n",
    "シグモイド関数 (sigmoid function) あるいはロジスティック関数 (logistic function) の場合，\n",
    "\n",
    "$$\n",
    "\\begin{align}\n",
    "&\\textrm{forward: } y = \\frac{1}{1+e^{-x}}\\\\\n",
    "&\\textrm{backward: } \\frac{dy}{dx} =\\frac{e^{-x}}{(1+e^{-x})^2}= y\\cdot (1-y)\\\\\n",
    "\\end{align}\n",
    "$$\n",
    "\n",
    "tanh関数の場合，\n",
    "\n",
    "$$\n",
    "\\begin{align}\n",
    "&\\textrm{forward: } y = \\frac{e^x-e^{-x}}{e^x+e^{-x}}\\\\\n",
    "&\\textrm{backward: } \\frac{dy}{dx} =\\frac{(e^x+e^{-x})(e^x+e^{-x})-(e^x-e^{-x})(e^x-e^{-x})}{(e^x+e^{-x})^2}= 1-y^2\\\\\n",
    "\\end{align}\n",
    "$$\n",
    "\n",
    "ReLU関数 (rectified linear unit function, 正規化線形関数) あるいはランプ関数 (ramp function)の場合，\n",
    "\n",
    "$$\n",
    "\\begin{align}\n",
    "&\\textrm{forward: } y = \\max(x, 0)\\\\\n",
    "&\\textrm{backward: } \\frac{dy}{dx} = \\mathbf{1}_{x > 0}(x) = \\mathbf{1}_{y > 0}(y)\\\\\n",
    "\\end{align}\n",
    "$$\n",
    "\n",
    "ただし，$\\max(a, b)$は, $a, b$のうち，大きい値を返す関数である．また，$\\mathbf{1}_{A}(x)$ は指示関数 (indicator function)であり，$x\\in A$ ならば $\\mathbf{1}_A(x)=1$ であり，それ以外の場合は $\\mathbf{1}_A(x)=0$ となる関数である．ReLU関数は $x=0$ で折れ曲がるが，その他では線形であるため，区分線形関数 (piecewise linear function) の一種であると言える．\n",
    "\n",
    "これらの活性化関数を構造体 `ActivationFunction`を用いて実装する．"
   ]
  },
  {
   "cell_type": "code",
   "execution_count": 85,
   "metadata": {},
   "outputs": [
    {
     "data": {
      "text/plain": [
       "Identity (generic function with 1 method)"
      ]
     },
     "execution_count": 85,
     "metadata": {},
     "output_type": "execute_result"
    }
   ],
   "source": [
    "function Sigmoid()\n",
    "    ActivationFunction(\n",
    "        x -> 1.0 ./ (1.0 .+ exp.(-x)),\n",
    "        y -> y .* (1 .- y)\n",
    "    )\n",
    "end\n",
    "\n",
    "function Tanh()\n",
    "    ActivationFunction(\n",
    "        x -> tanh.(x),\n",
    "        y -> 1 .- y .^ 2\n",
    "    )\n",
    "end\n",
    "\n",
    "function ReLU()\n",
    "    ActivationFunction(\n",
    "        x -> max.(0, x),\n",
    "        y -> y .> 0\n",
    "    )\n",
    "end\n",
    "\n",
    "function LeakyReLU(a=0.01)\n",
    "    ActivationFunction(\n",
    "        x -> max.(0, x) + a * min.(0, x),\n",
    "        y -> (y .> 0) + a * (y .<= 0)\n",
    "    )\n",
    "end   \n",
    "\n",
    "function Identity()\n",
    "    ActivationFunction(\n",
    "        x -> x, # or use `identity` function\n",
    "        y -> fill!(similar(y), 1)\n",
    "    )\n",
    "end"
   ]
  },
  {
   "cell_type": "markdown",
   "metadata": {},
   "source": [
    "ニューラルネットワークのパラメータを保持する構造体を定義する．"
   ]
  },
  {
   "cell_type": "code",
   "execution_count": 5,
   "metadata": {},
   "outputs": [],
   "source": [
    "abstract type NeuralNet end\n",
    "(f::NeuralNet)(x) = forward!(f, x)"
   ]
  },
  {
   "cell_type": "markdown",
   "metadata": {},
   "source": [
    "ニューラルネットワーク内の学習可能なパラメータ (learnable parameter) を保持する構造体を定義する．各パラメータはそれ自体の値 (value) と損失関数に対する勾配 (gradient) を持つ．"
   ]
  },
  {
   "cell_type": "code",
   "execution_count": 6,
   "metadata": {},
   "outputs": [],
   "source": [
    "mutable struct Param\n",
    "    v::Array\n",
    "    grad::Array\n",
    "\n",
    "    Param(value) = new(value, zero(value))\n",
    "end"
   ]
  },
  {
   "cell_type": "code",
   "execution_count": 7,
   "metadata": {},
   "outputs": [],
   "source": [
    "struct MLP <: NeuralNet\n",
    "    L::Int # num. of layers\n",
    "    W::Vector{Param}; b::Vector{Param}   # weights and bias\n",
    "    z::Vector{Array}; δ::Vector{Array}   # state of forward/backward activity\n",
    "    f::Vector{ActivationFunction} # activation functions of layers\n",
    "\n",
    "    function MLP(n_units::Vector{Int}; f_hid::ActivationFunction=Sigmoid(), f_out::ActivationFunction=Identity())\n",
    "        L = length(n_units) - 1\n",
    "        # initialization of parameters\n",
    "        W = [Param(2 * (rand(n_units[l], n_units[l+1]) .- 0.5) * sqrt(6/n_units[l])) for l in 1:L] # He\n",
    "        #W = [Param(2 * (rand(n_units[l], n_units[l+1]) .- 0.5) * sqrt(6/(n_units[l]+n_units[l+1]))) for l in 1:L] # Xavier\n",
    "        b = [Param(zeros(1, n_units[l+1])) for l in 1:L]\n",
    "        \n",
    "        # initialization of forward / backward states\n",
    "        z, δ = Vector{Array}(undef, L+1), Vector{Array}(undef, L)\n",
    "        f = vcat([repeat([f_hid], L-1)..., f_out])\n",
    "        new(L, W, b, z, δ, f)\n",
    "    end\n",
    "end"
   ]
  },
  {
   "cell_type": "markdown",
   "metadata": {},
   "source": [
    "struct `MLP`を用意し，**重みの初期化(weight initialization)** を行う同名の関数`MLP`を用意する．重みの初期化に関しては，各層の出力および勾配の分散が一定となるような初期化をすることで学習が進行することが知られている．出力は活性化関数に依存するため，初期化についても活性化関数に応じて変更することが推奨され，sigmoid関数やtanh関数を用いる場合はXavierの初期化 \\citep{Glorot2010-iu}，ReLU関数を用いる場合はHeの初期化 \\citep{He2015-fs} が用いられる．入力ユニット数を $n_{\\textrm{in}}$, 出力ユニット数を $n_{\\textrm{out}}$ とすると，Xavierの初期化では重み $w$ の平均が0, 分散が $\\frac{2}{n_{\\textrm{in}}+n_{\\textrm{out}}}$ となるように一様分布 $U\\left(-\\sqrt{\\frac{6}{n_{\\textrm{in}}+n_{\\textrm{out}}}}, \\sqrt{\\frac{6}{n_{\\textrm{in}}+n_{\\textrm{out}}}}\\right)$ や正規分布 $\\mathcal{N}\\left(0, \\sqrt{\\frac{2}{n_{\\textrm{in}}+n_{\\textrm{out}}}}\\right)$ 等から重みをサンプリングする．Heの初期化ではReLUを用いる場合，重み $w$ の平均が0, 分散が$\\frac{2}{n_{\\textrm{in}}}$ あるいは $\\frac{2}{n_{\\textrm{out}}}$ となるようにし，前者の分散を使用する場合は一様分布 $U\\left(-\\sqrt{\\frac{6}{n_{\\textrm{in}}}}, \\sqrt{\\frac{6}{n_{\\textrm{in}}}}\\right)$ や正規分布 $\\mathcal{N}\\left(0, \\sqrt{\\frac{2}{n_{\\textrm{in}}}}\\right)$ 等から重みをサンプリングする．"
   ]
  },
  {
   "cell_type": "markdown",
   "metadata": {},
   "source": [
    "### 順伝播 (forward propagation)\n",
    "$f(\\cdot)$を活性化関数とする．順伝播(feedforward propagation)は以下のようになる．$(\\ell=1,\\ldots,L)$\n",
    "\n",
    "$$\n",
    "\\begin{align}\n",
    "\\text{入力層 : }&\\mathbf{z}_1=\\mathbf{x}\\\\\n",
    "\\text{隠れ層 : }&\\mathbf{a}_\\ell=W_\\ell \\mathbf{z}_\\ell +\\mathbf{b}_\\ell\\\\\n",
    "&\\mathbf{z}_{\\ell+1}=f_\\ell\\left(\\mathbf{a}_\\ell\\right)\\\\\n",
    "\\text{出力層 : }&\\hat{\\mathbf{y}}=\\mathbf{z}_{L+1}\n",
    "\\end{align}\n",
    "$$"
   ]
  },
  {
   "cell_type": "markdown",
   "metadata": {},
   "source": [
    "実装における取り回しの都合上，以下では$f:=f_\\ell\\ (1, \\ldots, L-1)$ とし，$g:=f_{L}$ は損失関数において記述されることとする．以下では`z[l]`は$\\mathbf{z}_\\ell \\ (1, \\ldots, L)$に対応するが，`z[L+1]`は$\\mathbf{z}_{L+1}$ではなく$\\mathbf{a}_{L}$に対応することに注意．\n",
    "\n",
    "とするか？混乱をきたしかねないし，余計な計算が増える．softmaxをどうするか．"
   ]
  },
  {
   "cell_type": "code",
   "execution_count": 8,
   "metadata": {},
   "outputs": [
    {
     "data": {
      "text/plain": [
       "forward! (generic function with 1 method)"
      ]
     },
     "execution_count": 8,
     "metadata": {},
     "output_type": "execute_result"
    }
   ],
   "source": [
    "# forward computation of MLP\n",
    "function forward!(mlp::MLP, x::Array)\n",
    "    (;L, f, W, b, z) = mlp\n",
    "    z[1] = x # input (n_batch x n_neurons)\n",
    "    for l in 1:L\n",
    "        z[l+1] = f[l](z[l] * W[l].v .+ b[l].v) # hidden layers\n",
    "    end\n",
    "    return z[L+1] # output\n",
    "end"
   ]
  },
  {
   "cell_type": "markdown",
   "metadata": {},
   "source": [
    "`W[l].v` は`l`番目の`Param`のインスタンスにおける`v`を取り出す操作である．"
   ]
  },
  {
   "cell_type": "markdown",
   "metadata": {},
   "source": [
    "### 逆伝播 (backward propagation)\n",
    "ニューラルネットワークの学習 (learning) あるいは訓練 (training) とは，目的関数 (objective function) あるいは損失関数 (loss function) と呼ばれる評価指標を可能な限り小さく (場合によっては大きく) するようなパラメータ集合 $\\Theta = \\{W_\\ell, b_\\ell\\}_{\\ell=1}^{L}$ を求める過程のことである．学習においてパラメータを最適化するアルゴリズムを**オプティマイザ** (optimizer) という．オプティマイザは多数提案されており，代表的なものを後ほど紹介する．まず，最も単純なオプティマイザである **勾配降下法** (gradient descent; GD) を紹介する．勾配降下法では全データを用いてパラメータ $\\theta \\in \\Theta$ の更新量 $\\Delta \\theta$ を \n",
    "\n",
    "$$\n",
    "\\Delta \\theta = -\\eta \\frac{\\partial \\mathcal{L}_{\\textrm{GD}}}{\\partial \\theta} = -\\frac{\\eta}{N} \\sum_{i=1}^N \\frac{\\partial \\mathcal{L}^{(i)}}{\\partial \\theta}\n",
    "$$\n",
    "\n",
    "として計算する (パラメータは$\\theta\\leftarrow \\theta + \\Delta \\theta$により更新される)．ただし，$\\mathcal{L}_{\\textrm{GD}}:=\\frac{1}{N}\\sum_{i=1}^N \\mathcal{L}^{(i)}$ であり，$\\mathcal{L}^{(i)}$は$i$ 番目のサンプルに対する目的関数であり，$N$ は全データのサンプル数を意味する．$\\eta$ は学習率 (learning rate) である．オプティマイザは一般的に勾配 $\\dfrac{\\partial \\mathcal{L}}{\\partial \\theta}$ の計算を必要とする．この計算を効率よく行う手法が**誤差逆伝播法** (backpropagation) である．誤差逆伝播法は連鎖律 (chain rule; 合成関数の微分の関係式) を用いて導くことができる．$\\mathbf{a}_\\ell=W_\\ell \\mathbf{z}_\\ell +\\mathbf{b}_\\ell$ および $\\mathbf{z}_{\\ell+1}=f_\\ell\\left(\\mathbf{a}_\\ell\\right)$ であることを踏まえると，"
   ]
  },
  {
   "cell_type": "markdown",
   "metadata": {},
   "source": [
    "$$\n",
    "\\begin{align}\n",
    "\\frac{\\partial \\mathcal{L}}{\\partial \\hat{\\mathbf{y}}}&=\\frac{\\partial \\mathcal{L}}{\\partial \\mathbf{z}_{L+1}}\\\\\n",
    "\\delta_L&:=\\frac{\\partial \\mathcal{L}}{\\partial \\mathbf{a}_L}=\\frac{\\partial \\mathcal{L}}{\\partial \\mathbf{z}_{L+1}} \\frac{\\partial \\mathbf{z}_{L+1}}{\\partial \\mathbf{a}_L}\\\\\n",
    "\\mathbf{\\delta}_\\ell&:=\\frac{\\partial \\mathcal{L}}{\\partial \\mathbf{a}_{\\ell}}=\\frac{\\partial \\mathcal{L}}{\\partial \\mathbf{z}_{\\ell+1}} \\frac{\\partial \\mathbf{z}_{\\ell+1}}{\\partial \\mathbf{a}_\\ell}\\\\\n",
    "&=\\left(\\frac{\\partial \\mathcal{L}}{\\partial \\mathbf{a}_{\\ell+1}}\\frac{\\partial \\mathbf{a}_{\\ell+1}}{\\partial \\mathbf{z}_{\\ell+1}}\\right)\\frac{\\partial \\mathbf{z}_{\\ell+1}}{\\partial \\mathbf{a}_{\\ell}}\\\\\n",
    "&={W_{\\ell+1}}^\\top \\delta_{\\ell+1} \\odot f_\\ell^{\\prime}\\left(\\mathbf{a}_{\\ell}\\right)\\\\\n",
    "\\frac{\\partial \\mathcal{L}}{\\partial W_\\ell}&=\\frac{\\partial \\mathcal{L}}{\\partial \\mathbf{z}_\\ell} \\frac{\\partial \\mathbf{z}_\\ell}{\\partial \\mathbf{a}_\\ell} \\frac{\\partial \\mathbf{a}_\\ell}{\\partial W_\\ell}=\\delta_\\ell \\mathbf{z}_\\ell^\\top\\\\\n",
    "\\frac{\\partial \\mathcal{L}}{\\partial \\mathbf{b}_\\ell}&=\\frac{\\partial \\mathcal{L}}{\\partial \\mathbf{z}_\\ell} \\frac{\\partial \\mathbf{z}_\\ell}{\\partial \\mathbf{a}_\\ell} \\frac{\\partial \\mathbf{a}_\\ell}{\\partial \\mathbf{b}_\\ell}=\\delta_\\ell\n",
    "\\end{align}\n",
    "$$"
   ]
  },
  {
   "cell_type": "markdown",
   "metadata": {},
   "source": [
    "が成り立つ．バッチ処理を考慮すると，行列を乗ずる順番が変わる．以下では$z=f(a), g(z)=f'(a)$として膜電位を使わず，発火率情報のみを使うようにしている．このようにできない関数もあるが，今回はこのように書き下せる活性化関数のみを扱う．"
   ]
  },
  {
   "cell_type": "code",
   "execution_count": 9,
   "metadata": {},
   "outputs": [
    {
     "data": {
      "text/plain": [
       "backward! (generic function with 1 method)"
      ]
     },
     "execution_count": 9,
     "metadata": {},
     "output_type": "execute_result"
    }
   ],
   "source": [
    "function backward!(mlp::MLP)\n",
    "    (;L, W, b, z, δ, f) = mlp\n",
    "    n_batch = size(z[1])[1]\n",
    "    # backprop\n",
    "    for l in L:-1:1\n",
    "        if l < L\n",
    "            δ[l] = δ[l+1] * W[l+1].v' .* f[l].backward(z[l+1])\n",
    "        end\n",
    "        W[l].grad = z[l]' * δ[l] / n_batch\n",
    "        b[l].grad = sum(δ[l], dims=1) / n_batch\n",
    "    end\n",
    "end"
   ]
  },
  {
   "cell_type": "markdown",
   "metadata": {},
   "source": [
    "### 損失関数\n",
    "回帰問題において，代表的に用いられるのが平均二乗誤差 (mean squared error) である．\n",
    "\n",
    "$$\n",
    "\\begin{align}\n",
    "\\hat{\\mathbf{y}} &= \\mathbf{z}_{L+1}\\\\\n",
    "\\mathcal{L}&:=\\frac{1}{2}\\left\\|\\hat{\\mathbf{y}}-\\mathbf{y}\\right\\|^{2}\\\\\n",
    "\\frac{\\partial \\mathcal{L}}{\\partial \\hat{\\mathbf{y}}}&=\\frac{\\partial \\mathcal{L}}{\\partial \\mathbf{z}_{L+1}}=\\hat{\\mathbf{y}}-\\mathbf{y}\\\\\n",
    "\\delta_L&=\\frac{\\partial \\mathcal{L}}{\\partial \\mathbf{a}_L}=\\frac{\\partial \\mathcal{L}}{\\partial \\mathbf{z}_{L+1}} \\frac{\\partial \\mathbf{z}_{L+1}}{\\partial \\mathbf{a}_L}=\\left(\\hat{\\mathbf{y}}-\\mathbf{y}\\right) \\odot f_L^{\\prime}\\left(\\mathbf{a}_L\\right)\\\\\n",
    "\\end{align}\n",
    "$$"
   ]
  },
  {
   "cell_type": "code",
   "execution_count": 10,
   "metadata": {},
   "outputs": [
    {
     "data": {
      "text/plain": [
       "squared_error! (generic function with 1 method)"
      ]
     },
     "execution_count": 10,
     "metadata": {},
     "output_type": "execute_result"
    }
   ],
   "source": [
    "function squared_error!(nn::NeuralNet, y::Array)\n",
    "    (;z, δ, f) = nn\n",
    "    ŷ = z[end]\n",
    "    n_batch = size(y)[1]\n",
    "    error = ŷ - y\n",
    "    loss = sum(error .^ 2) / n_batch\n",
    "    δ[end] = error .* f[end].backward(ŷ)\n",
    "    return loss\n",
    "end"
   ]
  },
  {
   "cell_type": "markdown",
   "metadata": {},
   "source": [
    "2クラス分類で用いられるのがバイナリ交差エントロピー (binary cross entropy) である．"
   ]
  },
  {
   "cell_type": "code",
   "execution_count": 11,
   "metadata": {},
   "outputs": [
    {
     "data": {
      "text/plain": [
       "binary_crossentropy! (generic function with 1 method)"
      ]
     },
     "execution_count": 11,
     "metadata": {},
     "output_type": "execute_result"
    }
   ],
   "source": [
    "clog(x) = max(log(x), -1e2) # clamped log\n",
    "\n",
    "function binary_crossentropy!(nn::NeuralNet, y::Array)\n",
    "    (;z, δ, f) = nn\n",
    "    @assert f[end] == Sigmoid # f[end] must be sigmoid function\n",
    "    ŷ = z[end]\n",
    "    n_batch = size(y)[1]\n",
    "    error = ŷ - y\n",
    "    loss = -sum(y .* clog.(ŷ) + (1 .- y) .* clog.(1 .- ŷ)) / n_batch\n",
    "    δ[end] = error\n",
    "    return loss\n",
    "end"
   ]
  },
  {
   "cell_type": "markdown",
   "metadata": {},
   "source": [
    "多クラス分類課題で用いられるのが，softmaxおよびcross entropy lossである．\n",
    "softmax関数は $\\mathbf{y} = \\text{softmax}(\\mathbf{z})$ とすると，各成分を以下のように定義される．\n",
    "\n",
    "$$\n",
    "\\begin{equation}\n",
    "y_i = \\frac{e^{z_i}}{\\sum_{j=1}^K e^{z_j}}\n",
    "\\end{equation}\n",
    "$$"
   ]
  },
  {
   "cell_type": "code",
   "execution_count": 12,
   "metadata": {},
   "outputs": [
    {
     "data": {
      "text/plain": [
       "cross_entropy_loss! (generic function with 2 methods)"
      ]
     },
     "execution_count": 12,
     "metadata": {},
     "output_type": "execute_result"
    }
   ],
   "source": [
    "function softmax(x; dims=2)\n",
    "    expx = exp.(x .- maximum(x, dims=dims))\n",
    "    return expx ./ sum(expx, dims=dims)\n",
    "end\n",
    "\n",
    "Softmax = ActivationFunction(softmax, identity);\n",
    "\n",
    "# t: labels (1 dims)\n",
    "function cross_entropy_loss!(nn::NeuralNet, t::Vector)\n",
    "    (;z, δ, f) = nn\n",
    "    @assert f[end] == Softmax # f[end] must be softmax function\n",
    "    ŷ = z[end]\n",
    "    n_batch = length(t)\n",
    "    idx = CartesianIndex.([(i, t[i]) for i in 1:n_batch])\n",
    "    loss = -sum(clog.(ŷ[idx])) / n_batch\n",
    "    grad = copy(ŷ)\n",
    "    grad[idx] .-= 1\n",
    "    δ[end] = grad / n_batch\n",
    "    return loss\n",
    "end\n",
    "\n",
    "# t: probability (2 dims)\n",
    "function cross_entropy_loss!(nn::NeuralNet, t::Array)\n",
    "    (;z, δ, f) = nn\n",
    "    @assert f[end] == Softmax # f[end] must be softmax function\n",
    "    ŷ = z[end]\n",
    "    n_batch = size(t)[1]\n",
    "    loss = -sum(t .* clog.(ŷ)) / n_batch\n",
    "    δ[end] = (ŷ - t) / n_batch\n",
    "    return loss\n",
    "end"
   ]
  },
  {
   "cell_type": "markdown",
   "metadata": {},
   "source": [
    "Softmaxのbackwardは基本的に使用しないため，適当に`identity`関数などを入れておく．"
   ]
  },
  {
   "cell_type": "markdown",
   "metadata": {},
   "source": [
    "### オプティマイザ\n",
    "abstract typeとして`Optimizer`タイプを作成する．"
   ]
  },
  {
   "cell_type": "code",
   "execution_count": 13,
   "metadata": {},
   "outputs": [],
   "source": [
    "abstract type Optimizer end"
   ]
  },
  {
   "cell_type": "markdown",
   "metadata": {},
   "source": [
    "勾配降下法は$N$が大きい場合，あるいは1つのサンプルのデータサイズが大きい場合は非効率であるので，ニューラルネットワークの学習においては，データの部分集合であるミニバッチ (mini-bacth) を用いた **確率的勾配降下法** (stochastic gradient descent; SGD) が用いられる．\n",
    "**確率的勾配降下法(stochastic gradient descent; SGD)** を実装する．"
   ]
  },
  {
   "cell_type": "code",
   "execution_count": 14,
   "metadata": {},
   "outputs": [
    {
     "data": {
      "text/plain": [
       "optimizer_update! (generic function with 1 method)"
      ]
     },
     "execution_count": 14,
     "metadata": {},
     "output_type": "execute_result"
    }
   ],
   "source": [
    "# SGD optimizer\n",
    "@kwdef struct SGD{FT} <: Optimizer\n",
    "    lr::FT=1e-2 # learning rate\n",
    "end\n",
    "\n",
    "function optimizer_update!(param::Param, optimizer::SGD; weight_decay=0)\n",
    "    (;lr) = optimizer\n",
    "    if weight_decay > 0\n",
    "        param.grad += weight_decay * param.v\n",
    "    end\n",
    "    param.v -= lr * param.grad\n",
    "end"
   ]
  },
  {
   "cell_type": "markdown",
   "metadata": {},
   "source": [
    "次に**Adam** {cite:p}`Kingma2014-fm` を実装する．"
   ]
  },
  {
   "cell_type": "code",
   "execution_count": 15,
   "metadata": {},
   "outputs": [
    {
     "data": {
      "text/plain": [
       "optimizer_update! (generic function with 2 methods)"
      ]
     },
     "execution_count": 15,
     "metadata": {},
     "output_type": "execute_result"
    }
   ],
   "source": [
    "# Adam optimizer\n",
    "@kwdef mutable struct Adam <: Optimizer\n",
    "    lr=1e-4; β1=0.9; β2=0.999; ϵ=1e-8\n",
    "    ms=Dict(); vs=Dict();\n",
    "end\n",
    "\n",
    "# Adam optimizer\n",
    "function optimizer_update!(param::Param, optimizer::Adam; weight_decay=0)\n",
    "    (;lr, β1, β2, ϵ, ms, vs) = optimizer\n",
    "    key = objectid(param)\n",
    "    if !haskey(ms, key) \n",
    "        ms[key], vs[key] = zero(param.v), zero(param.v)\n",
    "    end\n",
    "    if weight_decay > 0\n",
    "        param.v -= lr * weight_decay * param.v\n",
    "    end\n",
    "    m, v = ms[key], vs[key]\n",
    "    m += (1 - β1) * (param.grad - m)\n",
    "    v += (1 - β2) * (param.grad .* param.grad - v)\n",
    "    param.v -= lr * m ./ (sqrt.(v) .+ ϵ)\n",
    "end"
   ]
  },
  {
   "cell_type": "markdown",
   "metadata": {},
   "source": [
    "重みのL2正則化 (Weight decay) を加える．正則化があることにより，実際のニューロンの活動を人工神経回路で再現できる研究も複数ある．バイアス項にはweight decayをしないため，optimizerの構造体の外からweight decayの値を与えることとする．"
   ]
  },
  {
   "cell_type": "code",
   "execution_count": 16,
   "metadata": {},
   "outputs": [
    {
     "data": {
      "text/plain": [
       "optim_step! (generic function with 1 method)"
      ]
     },
     "execution_count": 16,
     "metadata": {},
     "output_type": "execute_result"
    }
   ],
   "source": [
    "function optim_step!(nn::NeuralNet, optimizer::Optimizer; weight_decay=0)\n",
    "    (;L, W, b) = nn\n",
    "    # update weights\n",
    "    for param in W\n",
    "        optimizer_update!(param, optimizer, weight_decay=weight_decay)\n",
    "    end\n",
    "\n",
    "    # update bias (without weight decay)\n",
    "    for param in b\n",
    "        optimizer_update!(param, optimizer, weight_decay=0)\n",
    "    end\n",
    "end"
   ]
  },
  {
   "cell_type": "code",
   "execution_count": 17,
   "metadata": {},
   "outputs": [
    {
     "data": {
      "text/plain": [
       "train_step! (generic function with 1 method)"
      ]
     },
     "execution_count": 17,
     "metadata": {},
     "output_type": "execute_result"
    }
   ],
   "source": [
    "function train_step!(nn::NeuralNet, x::Array, y::Array, loss_fun::Function; optimizer::Optimizer=SGD(), weight_decay=0)\n",
    "    _ = nn(x)\n",
    "    loss = loss_fun(nn, y)\n",
    "    backward!(nn)\n",
    "    optim_step!(nn, optimizer, weight_decay=weight_decay) # update params\n",
    "    return loss\n",
    "end"
   ]
  },
  {
   "cell_type": "markdown",
   "metadata": {},
   "source": [
    "## MNIST\n",
    "\n",
    "`MNIST` の代わりに`FashionMNIST` を用いることもできる．MNISTは易しい課題であるため，MNISTを訓練できるからと言って複雑な課題でも機能する保証はない．とは言え，基本的なデータセットであるため，"
   ]
  },
  {
   "cell_type": "code",
   "execution_count": 18,
   "metadata": {},
   "outputs": [],
   "source": [
    "using MLDatasets"
   ]
  },
  {
   "cell_type": "code",
   "execution_count": 57,
   "metadata": {
    "scrolled": true
   },
   "outputs": [],
   "source": [
    "trainset = MNIST(:train)\n",
    "testset = MNIST(:test)\n",
    "\n",
    "X_train, y_train = trainset[:] # return all observations\n",
    "y_train .+= 1; # 0-9 to 1-10"
   ]
  },
  {
   "cell_type": "markdown",
   "metadata": {},
   "source": [
    "初回実行時はデータセットのダウンロードを行うか`[y/n]` (yes/no) の入力を求められるので`y`と入力する．"
   ]
  },
  {
   "cell_type": "code",
   "execution_count": 23,
   "metadata": {},
   "outputs": [],
   "source": [
    "#X_mean = mean(X_train)\n",
    "#X_std = std(X_train)"
   ]
  },
  {
   "cell_type": "code",
   "execution_count": 58,
   "metadata": {},
   "outputs": [],
   "source": [
    "#X_train_normalized = (reshape(X_train, (:, length(trainset)))' .- X_mean) ./ X_std;\n",
    "X_train_normalized = Matrix(reshape(X_train, (:, length(trainset)))') #.- X_mean) ./ X_std;"
   ]
  },
  {
   "cell_type": "code",
   "execution_count": 59,
   "metadata": {},
   "outputs": [
    {
     "data": {
      "text/plain": [
       "(60000, 784)"
      ]
     },
     "execution_count": 59,
     "metadata": {},
     "output_type": "execute_result"
    }
   ],
   "source": [
    "size(X_train_normalized)"
   ]
  },
  {
   "cell_type": "code",
   "execution_count": 73,
   "metadata": {},
   "outputs": [],
   "source": [
    "# training θeter\n",
    "n_traindata = 60000 #or length(trainset)\n",
    "n_batch = 200 # batch size\n",
    "n_iter_per_epoch = round(Int, n_traindata/n_batch)\n",
    "n_epoch = 100; # number of epoch"
   ]
  },
  {
   "cell_type": "code",
   "execution_count": 106,
   "metadata": {},
   "outputs": [
    {
     "data": {
      "text/plain": [
       "true"
      ]
     },
     "execution_count": 106,
     "metadata": {},
     "output_type": "execute_result"
    }
   ],
   "source": [
    "n_classes = 10\n",
    "#n_hid = 128#36\n",
    "#nn1 = MLP([28^2, 100, n_classes], f_hid=LeakyReLU(), f_out=Softmax)\n",
    "nn1 = MLP([28^2, 100, 50, n_classes], f_hid=ReLU(), f_out=Softmax)\n",
    "loss_fun1 = cross_entropy_loss!\n",
    "\n",
    "lr = 1e-4  # learning rate\n",
    "weight_decay = 1e-4 # weight decay (L2 norm) strength\n",
    "optimizer1 = Adam(lr=lr); #SGD(lr=lr)# \n",
    "shuffle_data = true"
   ]
  },
  {
   "cell_type": "code",
   "execution_count": 107,
   "metadata": {
    "scrolled": true
   },
   "outputs": [
    {
     "name": "stdout",
     "output_type": "stream",
     "text": [
      "[001/100] train loss: 0.003438110223173517\n",
      "[002/100] train loss: 0.0013609936281982862\n",
      "[003/100] train loss: 0.001077225876930464\n",
      "[004/100] train loss: 0.0009061483246731504\n",
      "[005/100] train loss: 0.0007894606879116187\n",
      "[006/100] train loss: 0.0007032581270467751\n",
      "[007/100] train loss: 0.000634654533352238\n",
      "[008/100] train loss: 0.0005788150172848021\n",
      "[009/100] train loss: 0.0005327677748701048\n",
      "[010/100] train loss: 0.0004942835348048979\n",
      "[011/100] train loss: 0.0004622961624474385\n",
      "[012/100] train loss: 0.00043468685364104413\n",
      "[013/100] train loss: 0.0004099682670827161\n",
      "[014/100] train loss: 0.0003870731999475121\n",
      "[015/100] train loss: 0.00036769376019761335\n",
      "[016/100] train loss: 0.0003503262088194202\n",
      "[017/100] train loss: 0.0003370220124736802\n",
      "[018/100] train loss: 0.0003217413419335054\n",
      "[019/100] train loss: 0.00031024122788375993\n",
      "[020/100] train loss: 0.0002980338028579896\n",
      "[021/100] train loss: 0.00028901197289505774\n",
      "[022/100] train loss: 0.00027701144208815826\n",
      "[023/100] train loss: 0.0002698976674738769\n",
      "[024/100] train loss: 0.0002615214538704848\n",
      "[025/100] train loss: 0.0002512505178754944\n",
      "[026/100] train loss: 0.00024673115920395675\n",
      "[027/100] train loss: 0.00023688740176950536\n",
      "[028/100] train loss: 0.00023292425435256456\n",
      "[029/100] train loss: 0.00022407136402146545\n",
      "[030/100] train loss: 0.00022178888652356723\n",
      "[031/100] train loss: 0.0002156160851668178\n",
      "[032/100] train loss: 0.00020735543254327563\n",
      "[033/100] train loss: 0.0002014781206516255\n",
      "[034/100] train loss: 0.00019604933087916796\n",
      "[035/100] train loss: 0.0001907665418257627\n",
      "[036/100] train loss: 0.0001871607182553172\n",
      "[037/100] train loss: 0.00018526469424400493\n",
      "[038/100] train loss: 0.00017892901822447416\n",
      "[039/100] train loss: 0.0001763707218551509\n",
      "[040/100] train loss: 0.00017101427375957261\n",
      "[041/100] train loss: 0.00016770806145498704\n",
      "[042/100] train loss: 0.00016539326795797217\n",
      "[043/100] train loss: 0.00016277014108932706\n",
      "[044/100] train loss: 0.00015768559256696348\n",
      "[045/100] train loss: 0.00015759167218562357\n",
      "[046/100] train loss: 0.00015333206344407573\n",
      "[047/100] train loss: 0.0001506333218868484\n",
      "[048/100] train loss: 0.0001461985980002646\n",
      "[049/100] train loss: 0.0001461877840656234\n",
      "[050/100] train loss: 0.0001406344594743371\n",
      "[051/100] train loss: 0.00013933263296098832\n",
      "[052/100] train loss: 0.00013546724013916383\n",
      "[053/100] train loss: 0.00013457870627249806\n",
      "[054/100] train loss: 0.00013074651787983404\n",
      "[055/100] train loss: 0.0001288734898446922\n",
      "[056/100] train loss: 0.0001283469371151169\n",
      "[057/100] train loss: 0.00012550839207011574\n",
      "[058/100] train loss: 0.00012398452196832075\n",
      "[059/100] train loss: 0.00012231465546631504\n",
      "[060/100] train loss: 0.00011683055545177559\n",
      "[061/100] train loss: 0.0001155813535937912\n",
      "[062/100] train loss: 0.00011807193933212551\n",
      "[063/100] train loss: 0.00011318276852277113\n",
      "[064/100] train loss: 0.000112275999503234\n",
      "[065/100] train loss: 0.00010535282585817645\n",
      "[066/100] train loss: 0.00010666989808533566\n",
      "[067/100] train loss: 0.0001041740420648388\n",
      "[068/100] train loss: 0.00010021143863112368\n",
      "[069/100] train loss: 0.00010274944782272561\n",
      "[070/100] train loss: 0.00010070928679069146\n",
      "[071/100] train loss: 9.636080300487201e-5\n",
      "[072/100] train loss: 9.819472854154391e-5\n",
      "[073/100] train loss: 9.455403743837295e-5\n",
      "[074/100] train loss: 9.368376709326927e-5\n",
      "[075/100] train loss: 8.951119221404912e-5\n",
      "[076/100] train loss: 9.262714035587073e-5\n",
      "[077/100] train loss: 9.070814149882389e-5\n",
      "[078/100] train loss: 8.769642302894622e-5\n",
      "[079/100] train loss: 8.531852773881272e-5\n",
      "[080/100] train loss: 8.513557462711934e-5\n",
      "[081/100] train loss: 8.128564206748397e-5\n",
      "[082/100] train loss: 8.104156585821548e-5\n",
      "[083/100] train loss: 8.02177089309678e-5\n",
      "[084/100] train loss: 7.737909386469312e-5\n",
      "[085/100] train loss: 7.720659127274172e-5\n",
      "[086/100] train loss: 7.890566849587678e-5\n",
      "[087/100] train loss: 7.37849173292768e-5\n",
      "[088/100] train loss: 7.421339716535846e-5\n",
      "[089/100] train loss: 7.227594346385364e-5\n",
      "[090/100] train loss: 6.967233575425203e-5\n",
      "[091/100] train loss: 7.12634116741835e-5\n",
      "[092/100] train loss: 7.034609499415837e-5\n",
      "[093/100] train loss: 6.614479783703832e-5\n",
      "[094/100] train loss: 6.713932581486017e-5\n",
      "[095/100] train loss: 6.801648867820648e-5\n",
      "[096/100] train loss: 6.710766534596132e-5\n",
      "[097/100] train loss: 6.524348479952748e-5\n",
      "[098/100] train loss: 5.930409299823498e-5\n",
      "[099/100] train loss: 6.281641528548523e-5\n",
      "[100/100] train loss: 5.895601528410828e-5\n"
     ]
    }
   ],
   "source": [
    "error_arr = zeros(n_epoch); # memory array of each epoch error\n",
    "\n",
    "#@showprogress \"Training...\" \n",
    "for e in 1:n_epoch\n",
    "    if shuffle_data\n",
    "        shuffle_indices = shuffle(1:n_traindata)\n",
    "        X_train_normalized = X_train_normalized[shuffle_indices, :];\n",
    "        y_train = y_train[shuffle_indices]\n",
    "    end\n",
    "    for iter in 1:n_iter_per_epoch\n",
    "        idx = (iter-1)*n_batch+1:iter*n_batch\n",
    "        x, y = X_train_normalized[idx, :], y_train[idx]\n",
    "        loss = train_step!(nn1, x, y, loss_fun1, optimizer=optimizer1, weight_decay=weight_decay)\n",
    "        error_arr[e] += loss\n",
    "    end \n",
    "    error_arr[e] /= n_traindata\n",
    "    println(\"[$(lpad(e, ndigits(n_epoch), '0'))/$(n_epoch)] train loss: $(error_arr[e])\")\n",
    "end"
   ]
  },
  {
   "cell_type": "code",
   "execution_count": 108,
   "metadata": {},
   "outputs": [
    {
     "data": {
      "image/png": "[encoded data removed]",
      "text/plain": [
       "Figure(PyObject <Figure size 300x200 with 1 Axes>)"
      ]
     },
     "metadata": {},
     "output_type": "display_data"
    }
   ],
   "source": [
    "figure(figsize=(3,2))\n",
    "semilogy(1:n_epoch, error_arr)\n",
    "ylabel(\"Train loss\"); xlabel(\"Epoch\"); xlim(0, n_epoch)\n",
    "tight_layout()"
   ]
  },
  {
   "cell_type": "code",
   "execution_count": 109,
   "metadata": {},
   "outputs": [],
   "source": [
    "X_test, y_test = testset[:];"
   ]
  },
  {
   "cell_type": "code",
   "execution_count": 110,
   "metadata": {},
   "outputs": [
    {
     "data": {
      "text/plain": [
       "10000"
      ]
     },
     "execution_count": 110,
     "metadata": {},
     "output_type": "execute_result"
    }
   ],
   "source": [
    "n_test = length(testset)"
   ]
  },
  {
   "cell_type": "code",
   "execution_count": null,
   "metadata": {},
   "outputs": [],
   "source": [
    "size(nn1.W[1].v)"
   ]
  },
  {
   "cell_type": "markdown",
   "metadata": {},
   "source": [
    "Dying Relu現象"
   ]
  },
  {
   "cell_type": "code",
   "execution_count": null,
   "metadata": {},
   "outputs": [],
   "source": []
  },
  {
   "cell_type": "code",
   "execution_count": null,
   "metadata": {},
   "outputs": [],
   "source": [
    "\"\"\"\n",
    "weight = reshape(nn1.W[1].v', (64, 28, 28));\n",
    "\n",
    "fig, axes = subplots(6, 6, figsize=(6,6))\n",
    "axf = axes[:]\n",
    "for i in 1:n_hid\n",
    "    axf[i].imshow(weight[i, :, :], cmap=\"Greys\")\n",
    "    axf[i].axis(\"off\")\n",
    "end\n",
    "\"\"\""
   ]
  },
  {
   "cell_type": "code",
   "execution_count": null,
   "metadata": {},
   "outputs": [],
   "source": [
    "\"\"\"\n",
    "for i in 1:5\n",
    "    subplots()\n",
    "    imshow(x')\n",
    "end\n",
    "\"\"\""
   ]
  },
  {
   "cell_type": "code",
   "execution_count": 111,
   "metadata": {},
   "outputs": [],
   "source": [
    "#x_test = Matrix(reshape(((X_test .- X_mean) ./ X_std), (28^2, :))');\n",
    "x_test = Matrix(reshape(X_test, (28^2, :))');"
   ]
  },
  {
   "cell_type": "code",
   "execution_count": 112,
   "metadata": {},
   "outputs": [],
   "source": [
    "y_pred = nn1(x_test);"
   ]
  },
  {
   "cell_type": "code",
   "execution_count": 113,
   "metadata": {},
   "outputs": [],
   "source": [
    "t_pred = getindex.(argmax(y_pred, dims=2), 2) .- 1;"
   ]
  },
  {
   "cell_type": "code",
   "execution_count": 114,
   "metadata": {},
   "outputs": [
    {
     "data": {
      "text/plain": [
       "97.41"
      ]
     },
     "execution_count": 114,
     "metadata": {},
     "output_type": "execute_result"
    }
   ],
   "source": [
    "accuracy = sum(t_pred .== y_test) / n_test * 100"
   ]
  },
  {
   "cell_type": "code",
   "execution_count": 104,
   "metadata": {},
   "outputs": [],
   "source": [
    "confusion_matrix = zeros(n_classes, n_classes)\n",
    "for i in 1:n_test\n",
    "    confusion_matrix[y_test[i]+1, t_pred[i]+1] += 1\n",
    "end"
   ]
  },
  {
   "cell_type": "code",
   "execution_count": 105,
   "metadata": {},
   "outputs": [
    {
     "data": {
      "image/png": "[encoded data removed]",
      "text/plain": [
       "Figure(PyObject <Figure size 300x300 with 1 Axes>)"
      ]
     },
     "metadata": {},
     "output_type": "display_data"
    }
   ],
   "source": [
    "figure(figsize=(3,3))\n",
    "imshow(confusion_matrix)\n",
    "xlabel(\"Predicted labels\")\n",
    "ylabel(\"True labels\")\n",
    "tight_layout()"
   ]
  }
 ],
 "metadata": {
  "celltoolbar": "Tags",
  "kernelspec": {
   "display_name": "Julia 1.10.4",
   "language": "julia",
   "name": "julia-1.10"
  },
  "language_info": {
   "file_extension": ".jl",
   "mimetype": "application/julia",
   "name": "julia",
   "version": "1.10.4"
  }
 },
 "nbformat": 4,
 "nbformat_minor": 4
}
