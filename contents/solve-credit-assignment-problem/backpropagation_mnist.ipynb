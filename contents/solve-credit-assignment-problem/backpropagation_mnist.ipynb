{
 "cells": [
  {
   "cell_type": "markdown",
   "metadata": {},
   "source": [
    "# 勾配法と誤差逆伝播法\n",
    "ニューラルネットワークにおいて，効率よく各重みの勾配を推定することで貢献度割り当て問題を解決する方法が**誤差逆伝播法** (backpropagation) である．本節では入力層，隠れ層，出力層からなる多層ニューラルネットワークを実装し，誤差逆伝播法による勾配推定を用いて学習を行う．\n",
    "\n",
    "本書では誤差逆伝播法を用いない学習法を実施することも考慮し，数式と対応するような実装を行う．そのため，Deep Learningライブラリ (PyTorch, Flux.jl等) のようにLayerを定義し，それを繋げてモデルを定義するということや計算グラフの構築は行わない．"
   ]
  },
  {
   "cell_type": "code",
   "execution_count": 2,
   "metadata": {},
   "outputs": [],
   "source": [
    "using Base: @kwdef\n",
    "#using Parameters: @unpack # or using UnPack\n",
    "using LinearAlgebra, Random, PyPlot, ProgressMeter\n",
    "#using LinearAlgebra, Random, Statistics, PyPlot, ProgressMeter\n",
    "#using BenchmarkTools; @btime\n",
    "rc(\"axes.spines\", top=false, right=false)"
   ]
  },
  {
   "cell_type": "markdown",
   "metadata": {},
   "source": [
    "活性化関数 (activation function) の構造体を`ActivationFunction` と定義する．この構造体には`forward` と `backward`の2種類の関数フィールド (field; 構造体の要素のこと) を持たせておく．2種類の関数はそれぞれ順伝播時と逆伝播時に使用する．"
   ]
  },
  {
   "cell_type": "code",
   "execution_count": 3,
   "metadata": {},
   "outputs": [],
   "source": [
    "struct ActivationFunction\n",
    "    forward::Function   # function for forward propagation\n",
    "    backward::Function  # function for back-propagation\n",
    "end"
   ]
  },
  {
   "cell_type": "markdown",
   "metadata": {},
   "source": [
    "また，次のコードにより，構造体のインスタンスを関数として使用できるようにしておく．これはcallable objectと呼ばれる．"
   ]
  },
  {
   "cell_type": "code",
   "execution_count": 4,
   "metadata": {},
   "outputs": [],
   "source": [
    "(f::ActivationFunction)(x) = f.forward(x)"
   ]
  },
  {
   "cell_type": "markdown",
   "metadata": {},
   "source": [
    "代表的な活性化関数を紹介する．なお，`backward` における `y` は `forward` での出力に対応する．これは活性化関数を作用させる前の変数 ($x$であり，膜電位に対応する) を保持しておかなくても良いようにするためである．\n",
    "\n",
    "シグモイド関数 (sigmoid function) あるいはロジスティック関数 (logistic function) の場合，\n",
    "\n",
    "$$\n",
    "\\begin{align}\n",
    "&\\textrm{forward: } y = \\frac{1}{1+e^{-x}}\\\\\n",
    "&\\textrm{backward: } \\frac{dy}{dx} =\\frac{e^{-x}}{(1+e^{-x})^2}= y\\cdot (1-y)\\\\\n",
    "\\end{align}\n",
    "$$\n",
    "\n",
    "tanh関数の場合，\n",
    "\n",
    "$$\n",
    "\\begin{align}\n",
    "&\\textrm{forward: } y = \\frac{e^x-e^{-x}}{e^x+e^{-x}}\\\\\n",
    "&\\textrm{backward: } \\frac{dy}{dx} =\\frac{(e^x+e^{-x})(e^x+e^{-x})-(e^x-e^{-x})(e^x-e^{-x})}{(e^x+e^{-x})^2}= 1-y^2\\\\\n",
    "\\end{align}\n",
    "$$\n",
    "\n",
    "ReLU関数 (rectified linear unit function, 正規化線形関数) あるいはランプ関数 (ramp function)の場合，\n",
    "\n",
    "$$\n",
    "\\begin{align}\n",
    "&\\textrm{forward: } y = \\max(x, 0)\\\\\n",
    "&\\textrm{backward: } \\frac{dy}{dx} = \\mathbf{1}_{x > 0}(x) = \\mathbf{1}_{y > 0}(y)\\\\\n",
    "\\end{align}\n",
    "$$\n",
    "\n",
    "ただし，$\\max(a, b)$は, $a, b$のうち，大きい値を返す関数である．また，$\\mathbf{1}_{A}(x)$ は指示関数 (indicator function)であり，$x\\in A$ ならば $\\mathbf{1}_A(x)=1$ であり，それ以外の場合は $\\mathbf{1}_A(x)=0$ となる関数である．ReLU関数は $x=0$ で折れ曲がるが，その他では線形であるため，区分線形関数 (piecewise linear function) の一種であると言える．\n",
    "\n",
    "これらの活性化関数を構造体 `ActivationFunction`を用いて実装する．"
   ]
  },
  {
   "cell_type": "code",
   "execution_count": 5,
   "metadata": {},
   "outputs": [],
   "source": [
    "Sigmoid = ActivationFunction(\n",
    "    x -> 1.0 ./ (1.0 .+ exp.(-x)),\n",
    "    y -> y .* (1 .- y)\n",
    ")\n",
    "\n",
    "Tanh = ActivationFunction(\n",
    "    x -> tanh.(x),\n",
    "    y -> 1 .- y .^ 2\n",
    ")\n",
    "\n",
    "Relu = ActivationFunction(\n",
    "    x -> max.(0, x),\n",
    "    y -> y .> 0\n",
    ")\n",
    "\n",
    "Identity = ActivationFunction(\n",
    "    x -> x, # or use `identity` function\n",
    "    y -> fill!(similar(y), 1)\n",
    ");"
   ]
  },
  {
   "cell_type": "markdown",
   "metadata": {},
   "source": [
    "ニューラルネットワークのパラメータを保持する構造体を定義する．"
   ]
  },
  {
   "cell_type": "code",
   "execution_count": 6,
   "metadata": {},
   "outputs": [],
   "source": [
    "abstract type NeuralNet end\n",
    "(f::NeuralNet)(x) = forward!(f, x)"
   ]
  },
  {
   "cell_type": "markdown",
   "metadata": {},
   "source": [
    "ニューラルネットワーク内の学習可能なパラメータ (learnable parameter) を保持する構造体を定義する．各パラメータはそれ自体の値 (value) と損失関数に対する勾配 (gradient) を持つ．"
   ]
  },
  {
   "cell_type": "code",
   "execution_count": 7,
   "metadata": {},
   "outputs": [],
   "source": [
    "mutable struct Param\n",
    "    v::Array\n",
    "    grad::Array\n",
    "\n",
    "    Param(value) = new(value, zero(value))\n",
    "end"
   ]
  },
  {
   "cell_type": "code",
   "execution_count": 8,
   "metadata": {},
   "outputs": [],
   "source": [
    "struct MLP <: NeuralNet\n",
    "    L::Int # num. of layers\n",
    "    W::Vector{Param}; b::Vector{Param}   # weights and bias\n",
    "    z::Vector{Array}; δ::Vector{Array}   # state of forward/backward activity\n",
    "    f::Vector{ActivationFunction} # activation functions of layers\n",
    "\n",
    "    function MLP(n_units::Vector{Int}; f_hid::ActivationFunction=Sigmoid, f_out::ActivationFunction=Identity)\n",
    "        L = length(n_units) - 1\n",
    "        # initialization of parameters\n",
    "        #W = [Param(2 * (rand(n_units[l], n_units[l+1]) .- 0.5) * sqrt(6/n_units[l])) for l in 1:L] # He\n",
    "        W = [Param(2 * (rand(n_units[l], n_units[l+1]) .- 0.5) * sqrt(6/(n_units[l]+n_units[l+1]))) for l in 1:L] # Xavier\n",
    "        b = [Param(zeros(1, n_units[l+1])) for l in 1:L]\n",
    "        \n",
    "        # initialization of forward / backward states\n",
    "        z, δ = Vector{Array}(undef, L+1), Vector{Array}(undef, L)\n",
    "        f = vcat([repeat([f_hid], L-1)..., f_out])\n",
    "        new(L, W, b, z, δ, f)\n",
    "    end\n",
    "end"
   ]
  },
  {
   "cell_type": "markdown",
   "metadata": {},
   "source": [
    "struct `MLP`を用意し，**重みの初期化(weight initialization)** を行う同名の関数`MLP`を用意する．重みの初期化に関しては，各層の出力および勾配の分散が一定となるような初期化をすることで学習が進行することが知られている．出力は活性化関数に依存するため，初期化についても活性化関数に応じて変更することが推奨され，sigmoid関数やtanh関数を用いる場合はXavierの初期化 \\citep{Glorot2010-iu}，ReLU関数を用いる場合はHeの初期化 \\citep{He2015-fs} が用いられる．入力ユニット数を $n_{\\textrm{in}}$, 出力ユニット数を $n_{\\textrm{out}}$ とすると，Xavierの初期化では重み $w$ の平均が0, 分散が $\\frac{2}{n_{\\textrm{in}}+n_{\\textrm{out}}}$ となるように一様分布 $U\\left(-\\sqrt{\\frac{6}{n_{\\textrm{in}}+n_{\\textrm{out}}}}, \\sqrt{\\frac{6}{n_{\\textrm{in}}+n_{\\textrm{out}}}}\\right)$ や正規分布 $\\mathcal{N}\\left(0, \\sqrt{\\frac{2}{n_{\\textrm{in}}+n_{\\textrm{out}}}}\\right)$ 等から重みをサンプリングする．Heの初期化ではReLUを用いる場合，重み $w$ の平均が0, 分散が$\\frac{2}{n_{\\textrm{in}}}$ あるいは $\\frac{2}{n_{\\textrm{out}}}$ となるようにし，前者の分散を使用する場合は一様分布 $U\\left(-\\sqrt{\\frac{6}{n_{\\textrm{in}}}}, \\sqrt{\\frac{6}{n_{\\textrm{in}}}}\\right)$ や正規分布 $\\mathcal{N}\\left(0, \\sqrt{\\frac{2}{n_{\\textrm{in}}}}\\right)$ 等から重みをサンプリングする．"
   ]
  },
  {
   "cell_type": "markdown",
   "metadata": {},
   "source": [
    "### 順伝播 (forward propagation)\n",
    "$f(\\cdot)$を活性化関数とする．順伝播(feedforward propagation)は以下のようになる．$(\\ell=1,\\ldots,L)$\n",
    "\n",
    "$$\n",
    "\\begin{align}\n",
    "\\text{入力層 : }&\\mathbf{z}_1=\\mathbf{x}\\\\\n",
    "\\text{隠れ層 : }&\\mathbf{a}_\\ell=W_\\ell \\mathbf{z}_\\ell +\\mathbf{b}_\\ell\\\\\n",
    "&\\mathbf{z}_{\\ell+1}=f_\\ell\\left(\\mathbf{a}_\\ell\\right)\\\\\n",
    "\\text{出力層 : }&\\hat{\\mathbf{y}}=\\mathbf{z}_{L+1}\n",
    "\\end{align}\n",
    "$$"
   ]
  },
  {
   "cell_type": "markdown",
   "metadata": {},
   "source": [
    "実装における取り回しの都合上，以下では$f:=f_\\ell\\ (1, \\ldots, L-1)$ とし，$g:=f_{L}$ は損失関数において記述されることとする．以下では`z[l]`は$\\mathbf{z}_\\ell \\ (1, \\ldots, L)$に対応するが，`z[L+1]`は$\\mathbf{z}_{L+1}$ではなく$\\mathbf{a}_{L}$に対応することに注意．\n",
    "\n",
    "とするか？混乱をきたしかねないし，余計な計算が増える．softmaxをどうするか．"
   ]
  },
  {
   "cell_type": "code",
   "execution_count": 9,
   "metadata": {},
   "outputs": [
    {
     "data": {
      "text/plain": [
       "forward! (generic function with 1 method)"
      ]
     },
     "execution_count": 9,
     "metadata": {},
     "output_type": "execute_result"
    }
   ],
   "source": [
    "# forward computation of MLP\n",
    "function forward!(mlp::MLP, x::Array)\n",
    "    (;L, f, W, b, z) = mlp\n",
    "    z[1] = x # input (n_batch x n_neurons)\n",
    "    for l in 1:L\n",
    "        z[l+1] = f[l](z[l] * W[l].v .+ b[l].v) # hidden layers\n",
    "    end\n",
    "    return z[L+1] # output\n",
    "end"
   ]
  },
  {
   "cell_type": "markdown",
   "metadata": {},
   "source": [
    "`W[l].v` は`l`番目の`Param`のインスタンスにおける`v`を取り出す操作である．"
   ]
  },
  {
   "cell_type": "markdown",
   "metadata": {},
   "source": [
    "### 逆伝播 (backward propagation)\n",
    "ニューラルネットワークの学習 (learning) あるいは訓練 (training) とは，目的関数 (objective function) あるいは損失関数 (loss function) と呼ばれる評価指標を可能な限り小さく (場合によっては大きく) するようなパラメータ集合 $\\Theta = \\{W_\\ell, b_\\ell\\}_{\\ell=1}^{L}$ を求める過程のことである．学習においてパラメータを最適化するアルゴリズムを**オプティマイザ** (optimizer) という．オプティマイザは多数提案されており，代表的なものを後ほど紹介する．まず，最も単純なオプティマイザである **勾配降下法** (gradient descent; GD) を紹介する．勾配降下法では全データを用いてパラメータ $\\theta \\in \\Theta$ の更新量 $\\Delta \\theta$ を \n",
    "\n",
    "$$\n",
    "\\Delta \\theta = -\\eta \\frac{\\partial \\mathcal{L}_{\\textrm{GD}}}{\\partial \\theta} = -\\frac{\\eta}{N} \\sum_{i=1}^N \\frac{\\partial \\mathcal{L}^{(i)}}{\\partial \\theta}\n",
    "$$\n",
    "\n",
    "として計算する (パラメータは$\\theta\\leftarrow \\theta + \\Delta \\theta$により更新される)．ただし，$\\mathcal{L}_{\\textrm{GD}}:=\\frac{1}{N}\\sum_{i=1}^N \\mathcal{L}^{(i)}$ であり，$\\mathcal{L}^{(i)}$は$i$ 番目のサンプルに対する目的関数であり，$N$ は全データのサンプル数を意味する．$\\eta$ は学習率 (learning rate) である．オプティマイザは一般的に勾配 $\\dfrac{\\partial \\mathcal{L}}{\\partial \\theta}$ の計算を必要とする．この計算を効率よく行う手法が**誤差逆伝播法** (backpropagation) である．誤差逆伝播法は連鎖律 (chain rule; 合成関数の微分の関係式) を用いて導くことができる．$\\mathbf{a}_\\ell=W_\\ell \\mathbf{z}_\\ell +\\mathbf{b}_\\ell$ および $\\mathbf{z}_{\\ell+1}=f_\\ell\\left(\\mathbf{a}_\\ell\\right)$ であることを踏まえると，"
   ]
  },
  {
   "cell_type": "markdown",
   "metadata": {},
   "source": [
    "$$\n",
    "\\begin{align}\n",
    "\\frac{\\partial \\mathcal{L}}{\\partial \\hat{\\mathbf{y}}}&=\\frac{\\partial \\mathcal{L}}{\\partial \\mathbf{z}_{L+1}}\\\\\n",
    "\\delta_L&:=\\frac{\\partial \\mathcal{L}}{\\partial \\mathbf{a}_L}=\\frac{\\partial \\mathcal{L}}{\\partial \\mathbf{z}_{L+1}} \\frac{\\partial \\mathbf{z}_{L+1}}{\\partial \\mathbf{a}_L}\\\\\n",
    "\\mathbf{\\delta}_\\ell&:=\\frac{\\partial \\mathcal{L}}{\\partial \\mathbf{a}_{\\ell}}=\\frac{\\partial \\mathcal{L}}{\\partial \\mathbf{z}_{\\ell+1}} \\frac{\\partial \\mathbf{z}_{\\ell+1}}{\\partial \\mathbf{a}_\\ell}\\\\\n",
    "&=\\left(\\frac{\\partial \\mathcal{L}}{\\partial \\mathbf{a}_{\\ell+1}}\\frac{\\partial \\mathbf{a}_{\\ell+1}}{\\partial \\mathbf{z}_{\\ell+1}}\\right)\\frac{\\partial \\mathbf{z}_{\\ell+1}}{\\partial \\mathbf{a}_{\\ell}}\\\\\n",
    "&={W_{\\ell+1}}^\\top \\delta_{\\ell+1} \\odot f_\\ell^{\\prime}\\left(\\mathbf{a}_{\\ell}\\right)\\\\\n",
    "\\frac{\\partial \\mathcal{L}}{\\partial W_\\ell}&=\\frac{\\partial \\mathcal{L}}{\\partial \\mathbf{z}_\\ell} \\frac{\\partial \\mathbf{z}_\\ell}{\\partial \\mathbf{a}_\\ell} \\frac{\\partial \\mathbf{a}_\\ell}{\\partial W_\\ell}=\\delta_\\ell \\mathbf{z}_\\ell^\\top\\\\\n",
    "\\frac{\\partial \\mathcal{L}}{\\partial \\mathbf{b}_\\ell}&=\\frac{\\partial \\mathcal{L}}{\\partial \\mathbf{z}_\\ell} \\frac{\\partial \\mathbf{z}_\\ell}{\\partial \\mathbf{a}_\\ell} \\frac{\\partial \\mathbf{a}_\\ell}{\\partial \\mathbf{b}_\\ell}=\\delta_\\ell\n",
    "\\end{align}\n",
    "$$"
   ]
  },
  {
   "cell_type": "markdown",
   "metadata": {},
   "source": [
    "が成り立つ．バッチ処理を考慮すると，行列を乗ずる順番が変わる．以下では$z=f(a), g(z)=f'(a)$として膜電位を使わず，発火率情報のみを使うようにしている．このようにできない関数もあるが，今回はこのように書き下せる活性化関数のみを扱う．"
   ]
  },
  {
   "cell_type": "code",
   "execution_count": 10,
   "metadata": {},
   "outputs": [
    {
     "data": {
      "text/plain": [
       "backward! (generic function with 1 method)"
      ]
     },
     "execution_count": 10,
     "metadata": {},
     "output_type": "execute_result"
    }
   ],
   "source": [
    "function backward!(mlp::MLP)\n",
    "    (;L, W, b, z, δ, f) = mlp\n",
    "    n_batch = size(z[1])[1]\n",
    "    # backprop\n",
    "    for l in L:-1:1\n",
    "        if l < L\n",
    "            δ[l] = δ[l+1] * W[l+1].v' .* f[l].backward(z[l+1])\n",
    "        end\n",
    "        W[l].grad = z[l]' * δ[l] / n_batch\n",
    "        b[l].grad = sum(δ[l], dims=1) / n_batch\n",
    "    end\n",
    "end"
   ]
  },
  {
   "cell_type": "markdown",
   "metadata": {},
   "source": [
    "### 損失関数\n",
    "回帰問題において，代表的に用いられるのが平均二乗誤差 (mean squared error) である．\n",
    "\n",
    "$$\n",
    "\\begin{align}\n",
    "\\hat{\\mathbf{y}} &= \\mathbf{z}_{L+1}\\\\\n",
    "\\mathcal{L}&:=\\frac{1}{2}\\left\\|\\hat{\\mathbf{y}}-\\mathbf{y}\\right\\|^{2}\\\\\n",
    "\\frac{\\partial \\mathcal{L}}{\\partial \\hat{\\mathbf{y}}}&=\\frac{\\partial \\mathcal{L}}{\\partial \\mathbf{z}_{L+1}}=\\hat{\\mathbf{y}}-\\mathbf{y}\\\\\n",
    "\\delta_L&=\\frac{\\partial \\mathcal{L}}{\\partial \\mathbf{a}_L}=\\frac{\\partial \\mathcal{L}}{\\partial \\mathbf{z}_{L+1}} \\frac{\\partial \\mathbf{z}_{L+1}}{\\partial \\mathbf{a}_L}=\\left(\\hat{\\mathbf{y}}-\\mathbf{y}\\right) \\odot f_L^{\\prime}\\left(\\mathbf{a}_L\\right)\\\\\n",
    "\\end{align}\n",
    "$$"
   ]
  },
  {
   "cell_type": "code",
   "execution_count": 11,
   "metadata": {},
   "outputs": [
    {
     "data": {
      "text/plain": [
       "squared_error! (generic function with 1 method)"
      ]
     },
     "execution_count": 11,
     "metadata": {},
     "output_type": "execute_result"
    }
   ],
   "source": [
    "function squared_error!(nn::NeuralNet, y::Array)\n",
    "    (;z, δ, f) = nn\n",
    "    ŷ = z[end]\n",
    "    n_batch = size(y)[1]\n",
    "    error = ŷ - y\n",
    "    loss = sum(error .^ 2) / n_batch\n",
    "    δ[end] = error .* f[end].backward(ŷ)\n",
    "    return loss\n",
    "end"
   ]
  },
  {
   "cell_type": "markdown",
   "metadata": {},
   "source": [
    "2クラス分類で用いられるのがバイナリ交差エントロピー (binary cross entropy) である．"
   ]
  },
  {
   "cell_type": "code",
   "execution_count": 12,
   "metadata": {},
   "outputs": [
    {
     "data": {
      "text/plain": [
       "binary_crossentropy! (generic function with 1 method)"
      ]
     },
     "execution_count": 12,
     "metadata": {},
     "output_type": "execute_result"
    }
   ],
   "source": [
    "clog(x) = max(log(x), -1e2) # clamped log\n",
    "\n",
    "function binary_crossentropy!(nn::NeuralNet, y::Array)\n",
    "    (;z, δ, f) = nn\n",
    "    @assert f[end] == Sigmoid # f[end] must be sigmoid function\n",
    "    ŷ = z[end]\n",
    "    n_batch = size(y)[1]\n",
    "    error = ŷ - y\n",
    "    loss = -sum(y .* clog.(ŷ) + (1 .- y) .* clog.(1 .- ŷ)) / n_batch\n",
    "    δ[end] = error\n",
    "    return loss\n",
    "end"
   ]
  },
  {
   "cell_type": "markdown",
   "metadata": {},
   "source": [
    "多クラス分類課題で用いられるのが，softmaxおよびcross entropy lossである．\n",
    "softmax関数は $\\mathbf{y} = \\text{softmax}(\\mathbf{z})$ とすると，各成分を以下のように定義される．\n",
    "\n",
    "$$\n",
    "\\begin{equation}\n",
    "y_i = \\frac{e^{z_i}}{\\sum_{j=1}^K e^{z_j}}\n",
    "\\end{equation}\n",
    "$$"
   ]
  },
  {
   "cell_type": "code",
   "execution_count": 13,
   "metadata": {},
   "outputs": [
    {
     "data": {
      "text/plain": [
       "cross_entropy_loss! (generic function with 2 methods)"
      ]
     },
     "execution_count": 13,
     "metadata": {},
     "output_type": "execute_result"
    }
   ],
   "source": [
    "function softmax(x; dims=2)\n",
    "    expx = exp.(x .- maximum(x, dims=dims))\n",
    "    return expx ./ sum(expx, dims=dims)\n",
    "end\n",
    "\n",
    "Softmax = ActivationFunction(softmax, identity);\n",
    "\n",
    "# t: labels (1 dims)\n",
    "function cross_entropy_loss!(nn::NeuralNet, t::Vector)\n",
    "    (;z, δ, f) = nn\n",
    "    @assert f[end] == Softmax # f[end] must be softmax function\n",
    "    ŷ = z[end]\n",
    "    n_batch = length(t)\n",
    "    idx = CartesianIndex.([(i, t[i]) for i in 1:n_batch])\n",
    "    loss = -sum(clog.(ŷ[idx])) / n_batch\n",
    "    grad = copy(ŷ)\n",
    "    grad[idx] .-= 1\n",
    "    δ[end] = grad / n_batch\n",
    "    return loss\n",
    "end\n",
    "\n",
    "# t: probability (2 dims)\n",
    "function cross_entropy_loss!(nn::NeuralNet, t::Array)\n",
    "    (;z, δ, f) = nn\n",
    "    @assert f[end] == Softmax # f[end] must be softmax function\n",
    "    ŷ = z[end]\n",
    "    n_batch = size(t)[1]\n",
    "    loss = -sum(t .* clog.(ŷ)) / n_batch\n",
    "    δ[end] = (ŷ - t) / n_batch\n",
    "    return loss\n",
    "end"
   ]
  },
  {
   "cell_type": "markdown",
   "metadata": {},
   "source": [
    "Softmaxのbackwardは基本的に使用しないため，適当に`identity`関数などを入れておく．"
   ]
  },
  {
   "cell_type": "markdown",
   "metadata": {},
   "source": [
    "### オプティマイザ\n",
    "abstract typeとして`Optimizer`タイプを作成する．"
   ]
  },
  {
   "cell_type": "code",
   "execution_count": 14,
   "metadata": {},
   "outputs": [],
   "source": [
    "abstract type Optimizer end"
   ]
  },
  {
   "cell_type": "markdown",
   "metadata": {},
   "source": [
    "勾配降下法は$N$が大きい場合，あるいは1つのサンプルのデータサイズが大きい場合は非効率であるので，ニューラルネットワークの学習においては，データの部分集合であるミニバッチ (mini-bacth) を用いた **確率的勾配降下法** (stochastic gradient descent; SGD) が用いられる．\n",
    "**確率的勾配降下法(stochastic gradient descent; SGD)** を実装する．"
   ]
  },
  {
   "cell_type": "code",
   "execution_count": 15,
   "metadata": {},
   "outputs": [
    {
     "data": {
      "text/plain": [
       "optimizer_update! (generic function with 1 method)"
      ]
     },
     "execution_count": 15,
     "metadata": {},
     "output_type": "execute_result"
    }
   ],
   "source": [
    "# SGD optimizer\n",
    "@kwdef struct SGD{FT} <: Optimizer\n",
    "    lr::FT=1e-2 # learning rate\n",
    "end\n",
    "\n",
    "function optimizer_update!(param::Param, optimizer::SGD; weight_decay=0)\n",
    "    (;lr) = optimizer\n",
    "    if weight_decay > 0\n",
    "        param.grad += weight_decay * param.v\n",
    "    end\n",
    "    param.v -= lr * param.grad\n",
    "end"
   ]
  },
  {
   "cell_type": "markdown",
   "metadata": {},
   "source": [
    "次に**Adam** {cite:p}`Kingma2014-fm` を実装する．"
   ]
  },
  {
   "cell_type": "code",
   "execution_count": 16,
   "metadata": {},
   "outputs": [
    {
     "data": {
      "text/plain": [
       "optimizer_update! (generic function with 2 methods)"
      ]
     },
     "execution_count": 16,
     "metadata": {},
     "output_type": "execute_result"
    }
   ],
   "source": [
    "# Adam optimizer\n",
    "@kwdef mutable struct Adam <: Optimizer\n",
    "    lr=1e-4; β1=0.9; β2=0.999; ϵ=1e-8\n",
    "    ms=Dict(); vs=Dict();\n",
    "end\n",
    "\n",
    "# Adam optimizer\n",
    "function optimizer_update!(param::Param, optimizer::Adam; weight_decay=0)\n",
    "    (;lr, β1, β2, ϵ, ms, vs) = optimizer\n",
    "    key = objectid(param)\n",
    "    if !haskey(ms, key) \n",
    "        ms[key], vs[key] = zero(param.v), zero(param.v)\n",
    "    end\n",
    "    if weight_decay > 0\n",
    "        param.v -= lr * weight_decay * param.v\n",
    "    end\n",
    "    m, v = ms[key], vs[key]\n",
    "    m += (1 - β1) * (param.grad - m)\n",
    "    v += (1 - β2) * (param.grad .* param.grad - v)\n",
    "    param.v -= lr * m ./ (sqrt.(v) .+ ϵ)\n",
    "end"
   ]
  },
  {
   "cell_type": "markdown",
   "metadata": {},
   "source": [
    "重みのL2正則化 (Weight decay) を加える．正則化があることにより，実際のニューロンの活動を人工神経回路で再現できる研究も複数ある．バイアス項にはweight decayをしないため，optimizerの構造体の外からweight decayの値を与えることとする．"
   ]
  },
  {
   "cell_type": "code",
   "execution_count": 17,
   "metadata": {},
   "outputs": [
    {
     "data": {
      "text/plain": [
       "optim_step! (generic function with 1 method)"
      ]
     },
     "execution_count": 17,
     "metadata": {},
     "output_type": "execute_result"
    }
   ],
   "source": [
    "function optim_step!(nn::NeuralNet, optimizer::Optimizer; weight_decay=0)\n",
    "    (;L, W, b) = nn\n",
    "    # update weights\n",
    "    for param in W\n",
    "        optimizer_update!(param, optimizer, weight_decay=weight_decay)\n",
    "    end\n",
    "\n",
    "    # update bias (without weight decay)\n",
    "    for param in b\n",
    "        optimizer_update!(param, optimizer, weight_decay=0)\n",
    "    end\n",
    "end"
   ]
  },
  {
   "cell_type": "code",
   "execution_count": 18,
   "metadata": {},
   "outputs": [
    {
     "data": {
      "text/plain": [
       "train_step! (generic function with 1 method)"
      ]
     },
     "execution_count": 18,
     "metadata": {},
     "output_type": "execute_result"
    }
   ],
   "source": [
    "function train_step!(nn::NeuralNet, x::Array, y::Array, loss_fun::Function; optimizer::Optimizer=SGD(), weight_decay=0)\n",
    "    _ = nn(x)\n",
    "    loss = loss_fun(nn, y)\n",
    "    backward!(nn)\n",
    "    optim_step!(nn, optimizer, weight_decay=weight_decay) # update params\n",
    "    return loss\n",
    "end"
   ]
  },
  {
   "cell_type": "markdown",
   "metadata": {},
   "source": [
    "## MNIST"
   ]
  },
  {
   "cell_type": "code",
   "execution_count": 19,
   "metadata": {},
   "outputs": [],
   "source": [
    "using MLDatasets"
   ]
  },
  {
   "cell_type": "code",
   "execution_count": 20,
   "metadata": {
    "scrolled": true
   },
   "outputs": [
    {
     "data": {
      "text/plain": [
       "dataset MNIST:\n",
       "  metadata  =>    Dict{String, Any} with 3 entries\n",
       "  split     =>    :test\n",
       "  features  =>    28×28×10000 Array{Float32, 3}\n",
       "  targets   =>    10000-element Vector{Int64}"
      ]
     },
     "execution_count": 20,
     "metadata": {},
     "output_type": "execute_result"
    }
   ],
   "source": [
    "trainset = MNIST(:train)\n",
    "testset = MNIST(:test)"
   ]
  },
  {
   "cell_type": "markdown",
   "metadata": {},
   "source": [
    "初回はdownload時に[y/n]を聞かれる．"
   ]
  },
  {
   "cell_type": "code",
   "execution_count": 21,
   "metadata": {},
   "outputs": [
    {
     "data": {
      "text/plain": [
       "60000"
      ]
     },
     "execution_count": 21,
     "metadata": {},
     "output_type": "execute_result"
    }
   ],
   "source": [
    "length(trainset)"
   ]
  },
  {
   "cell_type": "code",
   "execution_count": 22,
   "metadata": {},
   "outputs": [
    {
     "data": {
      "text/plain": [
       "(features = Float32[0.0 0.0 … 0.0 0.0; 0.0 0.0 … 0.0 0.0; … ; 0.0 0.0 … 0.0 0.0; 0.0 0.0 … 0.0 0.0], targets = 5)"
      ]
     },
     "execution_count": 22,
     "metadata": {},
     "output_type": "execute_result"
    }
   ],
   "source": [
    "trainset[1]  # return first observation as a NamedTuple"
   ]
  },
  {
   "cell_type": "code",
   "execution_count": 23,
   "metadata": {
    "scrolled": true
   },
   "outputs": [],
   "source": [
    "X_train, y_train = trainset[:] # return all observations\n",
    "y_train .+= 1; # 0-9 to 1-10"
   ]
  },
  {
   "cell_type": "code",
   "execution_count": 30,
   "metadata": {},
   "outputs": [],
   "source": [
    "# training θeter\n",
    "n_traindata = 10000 #or length(trainset)\n",
    "n_batch = 100 # batch size\n",
    "n_iter_per_epoch = round(Int, n_traindata/n_batch)\n",
    "n_epoch = 100; # number of epoch"
   ]
  },
  {
   "cell_type": "code",
   "execution_count": 86,
   "metadata": {},
   "outputs": [],
   "source": [
    "n_classes = 10\n",
    "nn1 = MLP([28^2, 128, n_classes], f_hid=Relu, f_out=Softmax)\n",
    "loss_fun1 = cross_entropy_loss!\n",
    "\n",
    "lr = 0.01  # learning rate\n",
    "weight_decay = 0 # weight decay (L2 norm) strength\n",
    "optimizer1 = Adam(lr=lr); # SGD(lr=lr)#"
   ]
  },
  {
   "cell_type": "code",
   "execution_count": 87,
   "metadata": {},
   "outputs": [
    {
     "name": "stderr",
     "output_type": "stream",
     "text": [
      "\u001b[32mTraining... 100%|████████████████████████████████████████| Time: 0:00:31\u001b[39m\n"
     ]
    }
   ],
   "source": [
    "error_arr = zeros(n_epoch); # memory array of each epoch error\n",
    "\n",
    "@showprogress \"Training...\" for e in 1:n_epoch\n",
    "    for iter in 1:n_iter_per_epoch\n",
    "        idx = (iter-1)*n_batch+1:iter*n_batch\n",
    "        x, y = Matrix(reshape(X_train[:, :, idx], (:, n_batch))'), y_train[idx]\n",
    "        loss = train_step!(nn1, x, y, loss_fun1, optimizer=optimizer1, weight_decay=weight_decay)\n",
    "        error_arr[e] += loss\n",
    "    end \n",
    "    error_arr[e] /= n_traindata\n",
    "end"
   ]
  },
  {
   "cell_type": "code",
   "execution_count": 88,
   "metadata": {},
   "outputs": [
    {
     "data": {
      "image/png": "[encoded data removed]",
      "text/plain": [
       "Figure(PyObject <Figure size 300x200 with 1 Axes>)"
      ]
     },
     "metadata": {},
     "output_type": "display_data"
    }
   ],
   "source": [
    "figure(figsize=(3,2))\n",
    "semilogy(1:n_epoch, error_arr)\n",
    "ylabel(\"Train loss\"); xlabel(\"Epoch\"); xlim(0, n_epoch)\n",
    "tight_layout()"
   ]
  },
  {
   "cell_type": "code",
   "execution_count": 89,
   "metadata": {},
   "outputs": [
    {
     "data": {
      "text/plain": [
       "(features = Float32[0.0 0.0 … 0.0 0.0; 0.0 0.0 … 0.0 0.0; … ; 0.0 0.0 … 0.0 0.0; 0.0 0.0 … 0.0 0.0;;; 0.0 0.0 … 0.0 0.0; 0.0 0.0 … 0.0 0.0; … ; 0.0 0.0 … 0.0 0.0; 0.0 0.0 … 0.0 0.0;;; 0.0 0.0 … 0.0 0.0; 0.0 0.0 … 0.0 0.0; … ; 0.0 0.0 … 0.0 0.0; 0.0 0.0 … 0.0 0.0;;; … ;;; 0.0 0.0 … 0.0 0.0; 0.0 0.0 … 0.0 0.0; … ; 0.0 0.0 … 0.0 0.0; 0.0 0.0 … 0.0 0.0;;; 0.0 0.0 … 0.0 0.0; 0.0 0.0 … 0.0 0.0; … ; 0.0 0.0 … 0.0 0.0; 0.0 0.0 … 0.0 0.0;;; 0.0 0.0 … 0.0 0.0; 0.0 0.0 … 0.0 0.0; … ; 0.0 0.0 … 0.0 0.0; 0.0 0.0 … 0.0 0.0], targets = [7, 2, 1, 0, 4, 1, 4, 9, 5, 9  …  7, 8, 9, 0, 1, 2, 3, 4, 5, 6])"
      ]
     },
     "execution_count": 89,
     "metadata": {},
     "output_type": "execute_result"
    }
   ],
   "source": [
    "X_test, y_test = testset[:]"
   ]
  },
  {
   "cell_type": "code",
   "execution_count": 90,
   "metadata": {},
   "outputs": [
    {
     "data": {
      "text/plain": [
       "10000"
      ]
     },
     "execution_count": 90,
     "metadata": {},
     "output_type": "execute_result"
    }
   ],
   "source": [
    "n_test = length(testset)"
   ]
  },
  {
   "cell_type": "code",
   "execution_count": 81,
   "metadata": {},
   "outputs": [
    {
     "ename": "LoadError",
     "evalue": "ParseError:\n\u001b[90m# Error @ \u001b[0;0m\u001b]8;;file://D:/github/compneuro-julia-management/contents/solve-credit-assignment-problem/In[81]#3:15\u001b\\\u001b[90mIn[81]:3:15\u001b[0;0m\u001b]8;;\u001b\\\n    subplots()\n    imshow(x')\u001b[48;2;120;70;70m\u001b[0;0m\n\u001b[90m#             └ ── \u001b[0;0m\u001b[91mExpected `end`\u001b[0;0m",
     "output_type": "error",
     "traceback": [
      "ParseError:\n\u001b[90m# Error @ \u001b[0;0m\u001b]8;;file://D:/github/compneuro-julia-management/contents/solve-credit-assignment-problem/In[81]#3:15\u001b\\\u001b[90mIn[81]:3:15\u001b[0;0m\u001b]8;;\u001b\\\n    subplots()\n    imshow(x')\u001b[48;2;120;70;70m\u001b[0;0m\n\u001b[90m#             └ ── \u001b[0;0m\u001b[91mExpected `end`\u001b[0;0m",
      "",
      "Stacktrace:",
      " [1] top-level scope",
      "   @ In[81]:3"
     ]
    }
   ],
   "source": [
    "for i in 1:5\n",
    "    subplots()\n",
    "    imshow(x')"
   ]
  },
  {
   "cell_type": "code",
   "execution_count": 91,
   "metadata": {},
   "outputs": [],
   "source": [
    "x_test = Matrix(reshape(X_test, (28^2, :))');"
   ]
  },
  {
   "cell_type": "code",
   "execution_count": 92,
   "metadata": {},
   "outputs": [],
   "source": [
    "y_pred = nn1(x_test);"
   ]
  },
  {
   "cell_type": "code",
   "execution_count": 93,
   "metadata": {},
   "outputs": [],
   "source": [
    "t_pred = getindex.(argmax(y_pred, dims=2), 2) .- 1;"
   ]
  },
  {
   "cell_type": "code",
   "execution_count": 94,
   "metadata": {},
   "outputs": [
    {
     "data": {
      "text/plain": [
       "95.37"
      ]
     },
     "execution_count": 94,
     "metadata": {},
     "output_type": "execute_result"
    }
   ],
   "source": [
    "accuracy = sum(t_pred .== y_test) / n_test * 100"
   ]
  }
 ],
 "metadata": {
  "celltoolbar": "Tags",
  "kernelspec": {
   "display_name": "Julia 1.10.4",
   "language": "julia",
   "name": "julia-1.10"
  },
  "language_info": {
   "file_extension": ".jl",
   "mimetype": "application/julia",
   "name": "julia",
   "version": "1.10.4"
  }
 },
 "nbformat": 4,
 "nbformat_minor": 4
}
