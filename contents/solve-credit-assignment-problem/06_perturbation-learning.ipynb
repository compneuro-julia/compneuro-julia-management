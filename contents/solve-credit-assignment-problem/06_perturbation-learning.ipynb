{
 "cells": [
  {
   "cell_type": "markdown",
   "id": "efd56e09-e099-471c-80d2-9c1d5ad4f31c",
   "metadata": {},
   "source": [
    "https://www.science.org/doi/10.1126/sciadv.abh0146\n",
    "\n",
    "Chaotic neural dynamics facilitate probabilistic computations through sampling\n",
    "\n",
    "Effective Learning with Node Perturbation in Multi-Layer Neural Networks (fig1は図の参考になる．)\n",
    "On the stability and scalability of node perturbation learning\n",
    "Node perturbation learning without noiseless baseline\n",
    "\n",
    "どれも効率は良くない．\n",
    "\n",
    "### node perturbation (NP)"
   ]
  },
  {
   "cell_type": "markdown",
   "id": "1d44e54b-c2e1-4b65-adec-93205e2b0a8f",
   "metadata": {},
   "source": [
    "$$\n",
    "\\mathbf{z}_{\\ell+1}=f_\\ell\\left(\\mathbf{W}_\\ell \\mathbf{z}_\\ell +\\mathbf{b}_\\ell\\right)\n",
    "$$\n",
    "\n",
    "$$\n",
    "\\tilde{\\mathbf{z}}_{\\ell+1}=f_\\ell\\left(\\mathbf{W}_\\ell \\tilde{\\mathbf{z}}_\\ell +\\mathbf{b}_\\ell+\\xi_\\ell \\right)\n",
    "$$\n",
    "\n",
    "$$\n",
    "\\delta \\mathcal{L}=\\mathcal{L}(\\tilde{\\mathbf{z}}_{L})-\\mathcal{L}(\\mathbf{z}_{L})\n",
    "$$\n",
    "\n",
    "$$\n",
    "\\Delta W_\\ell =- \\delta \\mathcal{L} \\frac{\\xi_\\ell}{\\sigma^2} \\mathbf{z}_{\\ell}\n",
    "$$"
   ]
  },
  {
   "cell_type": "markdown",
   "id": "19aea6fd-3ed5-4c85-b965-37406814a471",
   "metadata": {},
   "source": [
    "### Weight perturbation (WP)\n",
    "https://journals.aps.org/prx/abstract/10.1103/PhysRevX.13.021006\n",
    "Weight Perturbation Learning Performs Similarly or Better than Node Perturbation on Broad Classes of Temporally Extended Tasks"
   ]
  },
  {
   "cell_type": "markdown",
   "id": "0cbab4e3-2df7-4753-bdd1-4bd7a1aa15e1",
   "metadata": {},
   "source": [
    "$$\n",
    "\\mathbf{z}_{\\ell+1}=f_\\ell\\left(\\mathbf{W}_\\ell \\mathbf{z}_\\ell +\\mathbf{b}_\\ell\\right)\n",
    "$$\n",
    "\n",
    "$$\n",
    "\\tilde{\\mathbf{z}}_{\\ell+1}=f_\\ell\\left((\\mathbf{W}_\\ell+\\xi_\\ell) \\tilde{\\mathbf{z}}_\\ell +\\mathbf{b}_\\ell \\right)\n",
    "$$\n",
    "\n",
    "$$\n",
    "\\delta \\mathcal{L}=\\mathcal{L}(\\tilde{\\mathbf{z}}_{L})-\\mathcal{L}(\\mathbf{z}_{L})\n",
    "$$\n",
    "\n",
    "$$\n",
    "\\Delta W_\\ell = -\\delta \\mathcal{L} \\frac{\\xi_\\ell}{\\sigma^2}\n",
    "$$"
   ]
  },
  {
   "cell_type": "markdown",
   "id": "3ad13840-9fea-41c7-b46c-95e322211ed2",
   "metadata": {},
   "source": [
    "### Directional Gradient Descent\n",
    "\n",
    "Can Forward Gradient Match Backpropagation?\n",
    "https://proceedings.mlr.press/v202/fournier23a.html\n",
    "\n",
    "https://oumpy.github.io/blog/2022/02/directional_gradient_optimization.html\n",
    "この記事では(Silver, et al., \"Learning by Directional Gradient Descent.\" ICLR. 2021)および(Baydin, et al., \"Gradients without Backpropagation\", arXiv, 2022)の解説&実装を行います．\r\n",
    "\r\n",
    "両者とも摂動 (perturbation) と方向微分(directional gradient) を用いて勾配を近似することで，誤差逆伝播法 (backpropagation)を用いずにニューラルネットワークを訓練するという手法を提案しています．gradient-free optimizationの一種とも言えるでしょう．以後，Silverらの提案手法をDODGE(Deep Online Directional Gradient Estimate), Baydinらの提案手法をFGD (Forward gradient descent)と呼ぶことにしま\n",
    "\n",
    "$$\n",
    "\\begin{align*}\r\n",
    "&\\textbf{if}\\ \\text{DODGE:}\\\\\r\n",
    "&\\quad \\mathbf{v} \\sim \\{-1, 1\\}^p\\\\\r\n",
    "&\\textbf{else if}\\ \\text{FGD:}\\\\\r\n",
    "&\\quad \\mathbf{v} \\sim \\mathcal{N}(0, \\mathbf{I})\\\\\r\n",
    "&g(\\boldsymbol{\\theta}, \\mathbf{x}) = (\\nabla L(\\boldsymbol{\\theta}, \\mathbf{x})\\cdot \\mathbf{v})\\cdot \\mathbf{v}\\\\\r\n",
    "&\\boldsymbol{\\theta} \\leftarrow \\boldsymbol{\\theta} - \\eta \\cdot g(\\boldsymbol{\\theta}, \\mathbf{x})\r\n",
    "\\end{align*}\n",
    "$$す．"
   ]
  },
  {
   "cell_type": "code",
   "execution_count": null,
   "id": "43fede2a-aba4-4b37-a7f4-05df1849cafa",
   "metadata": {},
   "outputs": [],
   "source": []
  },
  {
   "cell_type": "code",
   "execution_count": null,
   "id": "883fea7d-368f-45fd-b0ef-26bf49b25f20",
   "metadata": {},
   "outputs": [],
   "source": []
  },
  {
   "cell_type": "code",
   "execution_count": null,
   "id": "7b05ab89-7b97-4c40-b570-5b544d4da56a",
   "metadata": {},
   "outputs": [],
   "source": []
  }
 ],
 "metadata": {
  "kernelspec": {
   "display_name": "Julia 1.10.4",
   "language": "julia",
   "name": "julia-1.10"
  },
  "language_info": {
   "file_extension": ".jl",
   "mimetype": "application/julia",
   "name": "julia",
   "version": "1.10.4"
  }
 },
 "nbformat": 4,
 "nbformat_minor": 5
}
