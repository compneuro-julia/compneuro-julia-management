{
 "cells": [
  {
   "cell_type": "markdown",
   "metadata": {},
   "source": [
    "## 予測符号化による訓練\n",
    "入出力を固定 (clamp) する．電位固定法のようなものか？predictive codingと文字を合わせる．(Song et al., 2023)\n",
    "\n",
    "$x_0=s_{in}, x_{L+1}=s_{target}$とする．状態$x_l(t=0)=\\mathbf{0} (l=2, \\ldots, L)$に初期化する．予測誤差 $\\mathbf{\\epsilon}_l$ を次式で計算する．\n",
    "\n",
    "$$\n",
    "\\begin{equation}\n",
    "\\mathbf{\\epsilon}_l(t)=\\mathbf{z}_l(t)-\\mathbf{w}_{l-1}f(\\mathbf{z}_{l-1}(t))\\quad(l=1, \\ldots, L)\n",
    "\\end{equation}\n",
    "$$\n",
    "\n",
    "次に状態 $\\mathbf{z}_l(t)\\ (t=0, \\ldots, \\mathcal{T}-1)$ を次式で更新する．\n",
    "\n",
    "$$\n",
    "\\begin{equation}\n",
    "\\mathbf{z}_l(t+1)=\\mathbf{z}_l(t)+\\gamma (-\\mathbf{\\epsilon}_l + f'(\\mathbf{z}_l(t))) \\circ (\\mathbf{w}_l^\\top \\mathbf{\\epsilon}_{l+1}(t))\n",
    "\\end{equation}\n",
    "$$\n",
    "\n",
    "収束後，重みを次式で更新する．$n$を一つのsampleの番号として，\n",
    "\n",
    "$$\n",
    "\\begin{equation}\n",
    "\\mathbf{w}_l(n+1)=\\mathbf{w}_l(n)+\\eta \\mathbf{\\epsilon}_l(\\mathcal{T}) f(\\mathbf{z}_l(\\mathcal{T}))^\\top\n",
    "\\end{equation}\n",
    "$$\n",
    "\n",
    "として重みを更新する．"
   ]
  },
  {
   "cell_type": "code",
   "execution_count": 1,
   "metadata": {},
   "outputs": [],
   "source": [
    "using Base: @kwdef\n",
    "using LinearAlgebra, Random, PyPlot, ProgressMeter\n",
    "rc(\"axes.spines\", top=false, right=false)"
   ]
  },
  {
   "cell_type": "markdown",
   "metadata": {},
   "source": [
    "活性化関数 (activation function) の構造体を`ActivationFunction` と定義する．この構造体には`forward` と `backward`の2種類の関数フィールド (field; 構造体の要素のこと) を持たせておく．2種類の関数はそれぞれ順伝播時と逆伝播時に使用する．"
   ]
  },
  {
   "cell_type": "code",
   "execution_count": 2,
   "metadata": {},
   "outputs": [],
   "source": [
    "struct ActivationFunction\n",
    "    forward::Function   # function for forward propagation\n",
    "    backward::Function  # function for back-propagation\n",
    "end"
   ]
  },
  {
   "cell_type": "markdown",
   "metadata": {},
   "source": [
    "また，次のコードにより，構造体のインスタンスを関数として使用できるようにしておく．これはcallable objectと呼ばれる．"
   ]
  },
  {
   "cell_type": "code",
   "execution_count": 3,
   "metadata": {},
   "outputs": [],
   "source": [
    "(f::ActivationFunction)(x) = f.forward(x)"
   ]
  },
  {
   "cell_type": "code",
   "execution_count": 4,
   "metadata": {},
   "outputs": [],
   "source": [
    "Sigmoid = ActivationFunction(\n",
    "    x -> 1.0 ./ (1.0 .+ exp.(-x)),\n",
    "    y -> y .* (1 .- y)\n",
    ")\n",
    "\n",
    "Tanh = ActivationFunction(\n",
    "    x -> tanh.(x),\n",
    "    y -> 1 .- y .^ 2\n",
    ")\n",
    "\n",
    "Relu = ActivationFunction(\n",
    "    x -> max.(0, x),\n",
    "    y -> y .> 0\n",
    ")\n",
    "\n",
    "Identity = ActivationFunction(\n",
    "    x -> x, # or use `identity` function\n",
    "    y -> fill!(similar(y), 1)\n",
    ");"
   ]
  },
  {
   "cell_type": "markdown",
   "metadata": {},
   "source": [
    "ニューラルネットワークのパラメータを保持する構造体を定義する．"
   ]
  },
  {
   "cell_type": "code",
   "execution_count": 5,
   "metadata": {},
   "outputs": [],
   "source": [
    "abstract type NeuralNet end\n",
    "(f::NeuralNet)(x) = forward!(f, x)"
   ]
  },
  {
   "cell_type": "markdown",
   "metadata": {},
   "source": [
    "ニューラルネットワーク内の学習可能なパラメータ (learnable parameter) を保持する構造体を定義する．各パラメータはそれ自体の値 (value) と損失関数に対する勾配 (gradient) を持つ．"
   ]
  },
  {
   "cell_type": "code",
   "execution_count": 6,
   "metadata": {},
   "outputs": [],
   "source": [
    "mutable struct Param\n",
    "    v::Array\n",
    "    grad::Array\n",
    "\n",
    "    Param(value) = new(value, zero(value))\n",
    "end"
   ]
  },
  {
   "cell_type": "code",
   "execution_count": 7,
   "metadata": {},
   "outputs": [],
   "source": [
    "struct MLP <: NeuralNet\n",
    "    L::Int # num. of layers\n",
    "    W::Vector{Param}; #b::Vector{Param}   # weights and bias\n",
    "    z::Vector{Array}; ϵ::Vector{Array}   # state of forward/backward activity\n",
    "    f::Vector{ActivationFunction} # activation functions of layers\n",
    "\n",
    "    function MLP(n_units::Vector{Int}; f_hid::ActivationFunction=Sigmoid, f_out::ActivationFunction=Identity)\n",
    "        L = length(n_units) - 1\n",
    "        # initialization of parameters\n",
    "        #W = [Param(2 * (rand(n_units[l], n_units[l+1]) .- 0.5) * sqrt(6/n_units[l])) for l in 1:L] # He\n",
    "        W = [Param(2 * (rand(n_units[l], n_units[l+1]) .- 0.5) * sqrt(6/(n_units[l]+n_units[l+1]))) for l in 1:L] # Xavier\n",
    "        \n",
    "        # initialization of forward / backward states\n",
    "        z, ϵ = Vector{Array}(undef, L+1), Vector{Array}(undef, L)\n",
    "        f = vcat([repeat([f_hid], L-1)..., f_out])\n",
    "        new(L, W, z, ϵ, f)\n",
    "    end\n",
    "end"
   ]
  },
  {
   "cell_type": "markdown",
   "metadata": {},
   "source": [
    "### 順伝播 (forward propagation)\n",
    "$f(\\cdot)$を活性化関数とする．順伝播(feedforward propagation)は以下のようになる．$(\\ell=1,\\ldots,L)$\n",
    "\n",
    "$$\n",
    "\\begin{align}\n",
    "\\text{入力層 : }&\\mathbf{z}_1=\\mathbf{x}\\\\\n",
    "\\text{隠れ層 : }&\\mathbf{a}_\\ell=W_\\ell \\mathbf{z}_\\ell +\\mathbf{b}_\\ell\\\\\n",
    "&\\mathbf{z}_{\\ell+1}=f_\\ell\\left(\\mathbf{a}_\\ell\\right)\\\\\n",
    "\\text{出力層 : }&\\hat{\\mathbf{y}}=\\mathbf{z}_{L+1}\n",
    "\\end{align}\n",
    "$$"
   ]
  },
  {
   "cell_type": "markdown",
   "metadata": {},
   "source": [
    "## 予測符号化による訓練\n",
    "入出力を固定 (clamp) する．電位固定法のようなものか？predictive codingと文字を合わせる．(Song et al., 2023)\n",
    "\n",
    "$\\mathbf{z}_1=\\mathbf{x}_{\\textrm{in}}, \\mathbf{z}_{L+1}=\\mathbf{x}_{\\textrm{target}}$とする．状態$\\mathbf{z}_\\ell(t=0)=\\mathbf{0} (\\ell=2, \\ldots, L)$に初期化する．予測誤差 $\\boldsymbol{\\epsilon}_\\ell(t)$ を次式で計算する．\n",
    "\n",
    "$$\n",
    "\\begin{equation}\n",
    "\\boldsymbol{\\epsilon}_{\\ell}(t)=\\mathbf{z}_{\\ell+1}(t)-\\mathbf{W}_{\\ell}f(\\mathbf{z}_{\\ell}(t))\\quad(\\ell=1, \\ldots, L)\n",
    "\\end{equation}\n",
    "$$\n",
    "\n",
    "次に状態 $\\mathbf{z}_\\ell(t)\\quad (\\ell=2, \\ldots, L;\\  t=0, \\ldots, \\mathcal{T}-1)$ を次式で更新する．\n",
    "\n",
    "$$\n",
    "\\begin{equation}\n",
    "\\mathbf{z}_\\ell(t+1)=\\mathbf{z}_\\ell(t)+\\gamma (-\\boldsymbol{\\epsilon}_{\\ell-1} + f'(\\mathbf{z}_\\ell(t))) \\circ (\\mathbf{w}_\\ell^\\top \\boldsymbol{\\epsilon}_{\\ell}(t))\n",
    "\\end{equation}\n",
    "$$\n",
    "\n",
    "収束後，重みを次式で更新する．$n$を一つのsampleの番号として，\n",
    "\n",
    "$$\n",
    "\\begin{equation}\n",
    "\\mathbf{w}_l(n+1)=\\mathbf{w}_l(n)+\\eta \\mathbf{\\epsilon}_l(\\mathcal{T}) f(\\mathbf{z}_l(\\mathcal{T}))^\\top\n",
    "\\end{equation}\n",
    "$$\n",
    "\n",
    "として重みを更新する．"
   ]
  },
  {
   "cell_type": "markdown",
   "metadata": {},
   "source": [
    "実装における取り回しの都合上，以下では$f:=f_\\ell\\ (1, \\ldots, L-1)$ とし，$g:=f_{L}$ は損失関数において記述されることとする．以下では`z[l]`は$\\mathbf{z}_\\ell \\ (1, \\ldots, L)$に対応するが，`z[L+1]`は$\\mathbf{z}_{L+1}$ではなく$\\mathbf{a}_{L}$に対応することに注意．\n",
    "\n",
    "とするか？混乱をきたしかねないし，余計な計算が増える．softmaxをどうするか．"
   ]
  },
  {
   "cell_type": "code",
   "execution_count": null,
   "metadata": {},
   "outputs": [],
   "source": []
  },
  {
   "cell_type": "code",
   "execution_count": 8,
   "metadata": {},
   "outputs": [
    {
     "data": {
      "text/plain": [
       "forward! (generic function with 1 method)"
      ]
     },
     "execution_count": 8,
     "metadata": {},
     "output_type": "execute_result"
    }
   ],
   "source": [
    "# forward computation of MLP (clamp out)\n",
    "function forward!(mlp::MLP, x::Array, y::Array; n_max_step=10)\n",
    "    (;L, f, W, z, ϵ) = mlp\n",
    "    γ = 0.1\n",
    "    n_batch = size(x)[1]\n",
    "\n",
    "    # initialize states\n",
    "    z[1] = x # input (n_batch x n_neurons)\n",
    "    z[L+1] = y # output (n_batch x n_neurons)\n",
    "    for l in 2:L\n",
    "        z[l] = zeros(n_batch, size(W[l].v)[1])\n",
    "    end\n",
    "    z_tm1 = copy(z)\n",
    "    for t in 1:n_max_step\n",
    "        for l in 1:L\n",
    "            ϵ[l] = z[l+1] - f[l](z[l]) * W[l].v #f[l](z[l] * W[l].v .+ b[l].v)\n",
    "        end\n",
    "        \n",
    "        for l in L:-1:2\n",
    "            z[l] += γ * (-ϵ[l-1] + f[l].backward(z[l])) .* (ϵ[l] * W[l].v')\n",
    "        end\n",
    "        z_diff = (z[2:L] - z_tm1[2:L])\n",
    "        converged = all([maximum(abs.(zd)) < 1e-3 for zd in z_diff])\n",
    "        if converged\n",
    "            break\n",
    "        end\n",
    "    end\n",
    "    return f[end](z[L+1]) # output\n",
    "end"
   ]
  },
  {
   "cell_type": "code",
   "execution_count": null,
   "metadata": {},
   "outputs": [],
   "source": []
  },
  {
   "cell_type": "code",
   "execution_count": 9,
   "metadata": {},
   "outputs": [],
   "source": [
    "mlp = MLP([2, 32, 3], f_hid=Sigmoid, f_out=Sigmoid);#Softmax);"
   ]
  },
  {
   "cell_type": "code",
   "execution_count": 10,
   "metadata": {},
   "outputs": [],
   "source": [
    "x = randn(10, 2);\n",
    "y = randn(10, 3);"
   ]
  },
  {
   "cell_type": "code",
   "execution_count": 11,
   "metadata": {},
   "outputs": [],
   "source": [
    "out = forward!(mlp, x, y); "
   ]
  },
  {
   "cell_type": "code",
   "execution_count": 12,
   "metadata": {},
   "outputs": [
    {
     "data": {
      "text/plain": [
       "2-element Vector{Array}:\n",
       " [-0.23546949431270373 -0.11880233404445262 … -0.12891355520215983 0.03527253435241197; -0.23090404361929034 -0.25315603611114884 … -0.2121869260909925 0.05592960601147596; … ; -0.20928644098328503 -0.19671082619269636 … -0.08182337395660332 0.05049802996367864; -0.266684254023098 -0.12704237545986644 … -0.4815242923476136 0.05099658955779743]\n",
       " [0.26405494887825803 -1.0594956080658595 1.605671029136648; -2.4711395139544057 -0.046021536083585446 -0.5627802882370626; … ; -1.2049051262747583 -0.6279316255489089 -0.29923454403044325; -0.0014332585939779707 -1.7142347857863067 1.3296750770326495]"
      ]
     },
     "execution_count": 12,
     "metadata": {},
     "output_type": "execute_result"
    }
   ],
   "source": [
    "mlp.ϵ"
   ]
  },
  {
   "cell_type": "code",
   "execution_count": 13,
   "metadata": {},
   "outputs": [
    {
     "data": {
      "text/plain": [
       "backward! (generic function with 1 method)"
      ]
     },
     "execution_count": 13,
     "metadata": {},
     "output_type": "execute_result"
    }
   ],
   "source": [
    "function backward!(mlp::MLP)\n",
    "    (;L, W, z, ϵ, f) = mlp\n",
    "    n_batch = size(z[1])[1]\n",
    "    # backprop\n",
    "    for l in L:-1:1\n",
    "        W[l].grad = f[l](z[l])' * ϵ[l] / n_batch\n",
    "    end\n",
    "end"
   ]
  },
  {
   "cell_type": "code",
   "execution_count": 14,
   "metadata": {},
   "outputs": [],
   "source": [
    "backward!(mlp)"
   ]
  },
  {
   "cell_type": "markdown",
   "metadata": {},
   "source": [
    "Softmaxのbackwardは基本的に使用しないため，適当に`identity`関数などを入れておく．"
   ]
  },
  {
   "cell_type": "markdown",
   "metadata": {},
   "source": [
    "### オプティマイザ\n",
    "abstract typeとして`Optimizer`タイプを作成する．"
   ]
  },
  {
   "cell_type": "code",
   "execution_count": 15,
   "metadata": {},
   "outputs": [],
   "source": [
    "abstract type Optimizer end"
   ]
  },
  {
   "cell_type": "code",
   "execution_count": 16,
   "metadata": {},
   "outputs": [
    {
     "data": {
      "text/plain": [
       "optimizer_update! (generic function with 1 method)"
      ]
     },
     "execution_count": 16,
     "metadata": {},
     "output_type": "execute_result"
    }
   ],
   "source": [
    "# SGD optimizer\n",
    "@kwdef struct SGD{FT} <: Optimizer\n",
    "    lr::FT=1e-2 # learning rate\n",
    "end\n",
    "\n",
    "function optimizer_update!(param::Param, optimizer::SGD; weight_decay=0)\n",
    "    (;lr) = optimizer\n",
    "    if weight_decay > 0\n",
    "        param.grad += weight_decay * param.v\n",
    "    end\n",
    "    param.v -= lr * param.grad\n",
    "end"
   ]
  },
  {
   "cell_type": "markdown",
   "metadata": {},
   "source": [
    "次に**Adam** {cite:p}`Kingma2014-fm` を実装する．"
   ]
  },
  {
   "cell_type": "code",
   "execution_count": 17,
   "metadata": {},
   "outputs": [
    {
     "data": {
      "text/plain": [
       "optimizer_update! (generic function with 2 methods)"
      ]
     },
     "execution_count": 17,
     "metadata": {},
     "output_type": "execute_result"
    }
   ],
   "source": [
    "# Adam optimizer\n",
    "@kwdef mutable struct Adam <: Optimizer\n",
    "    lr=1e-4; β1=0.9; β2=0.999; ϵ=1e-8\n",
    "    ms=Dict(); vs=Dict();\n",
    "end\n",
    "\n",
    "# Adam optimizer\n",
    "function optimizer_update!(param::Param, optimizer::Adam; weight_decay=0)\n",
    "    (;lr, β1, β2, ϵ, ms, vs) = optimizer\n",
    "    key = objectid(param)\n",
    "    if !haskey(ms, key) \n",
    "        ms[key], vs[key] = zero(param.v), zero(param.v)\n",
    "    end\n",
    "    if weight_decay > 0\n",
    "        param.v -= lr * weight_decay * param.v\n",
    "    end\n",
    "    m, v = ms[key], vs[key]\n",
    "    m += (1 - β1) * (param.grad - m)\n",
    "    v += (1 - β2) * (param.grad .* param.grad - v)\n",
    "    param.v -= lr * m ./ (sqrt.(v) .+ ϵ)\n",
    "end"
   ]
  },
  {
   "cell_type": "markdown",
   "metadata": {},
   "source": [
    "重みのL2正則化 (Weight decay) を加える．正則化があることにより，実際のニューロンの活動を人工神経回路で再現できる研究も複数ある．バイアス項にはweight decayをしないため，optimizerの構造体の外からweight decayの値を与えることとする．"
   ]
  },
  {
   "cell_type": "code",
   "execution_count": 18,
   "metadata": {},
   "outputs": [
    {
     "data": {
      "text/plain": [
       "optim_step! (generic function with 1 method)"
      ]
     },
     "execution_count": 18,
     "metadata": {},
     "output_type": "execute_result"
    }
   ],
   "source": [
    "function optim_step!(nn::NeuralNet, optimizer::Optimizer; weight_decay=0)\n",
    "    (;L, W) = nn\n",
    "    # update weights\n",
    "    for param in W\n",
    "        optimizer_update!(param, optimizer, weight_decay=weight_decay)\n",
    "    end\n",
    "end"
   ]
  },
  {
   "cell_type": "code",
   "execution_count": 19,
   "metadata": {},
   "outputs": [
    {
     "data": {
      "text/plain": [
       "train_step! (generic function with 1 method)"
      ]
     },
     "execution_count": 19,
     "metadata": {},
     "output_type": "execute_result"
    }
   ],
   "source": [
    "function train_step!(nn::NeuralNet, x::Array, y::Array; optimizer::Optimizer=SGD(), weight_decay=0)\n",
    "    _ = forward!(nn, x, y)#nn(x, y)\n",
    "    #loss = loss_fun(nn, y)\n",
    "    backward!(nn)\n",
    "    optim_step!(nn, optimizer, weight_decay=weight_decay) # update params\n",
    "    #return loss\n",
    "end"
   ]
  },
  {
   "cell_type": "markdown",
   "metadata": {},
   "source": [
    "### スパイラルデータセット\n",
    "スパイラルデータセットは渦巻状をしており，$k$番目$(k=1, \\ldots, K)$のクラスに属するサンプルは次の式で表される:\n",
    "\n",
    "$$\n",
    "\\begin{align}\n",
    "&\\phi_k = \\theta+\\delta\\theta+\\frac{2\\pi k}{K}\\quad (\\theta=[0, \\pi])\\ \\\\\n",
    "&\\mathbf{x}_k=[r\\cos(\\phi_k),\\ r\\sin(\\phi_k)]\\in \\mathbb{R}^2\\quad (r=[0, 1])\n",
    "\\end{align}\n",
    "$$\n",
    "ただし，$\\theta/r=\\pi$であり，$\\delta\\theta \\sim \\mathcal{N}(0, \\sigma^2=0.2^2)$である．"
   ]
  },
  {
   "cell_type": "code",
   "execution_count": 20,
   "metadata": {},
   "outputs": [
    {
     "data": {
      "text/plain": [
       "generate_spiral_dataset (generic function with 5 methods)"
      ]
     },
     "execution_count": 20,
     "metadata": {},
     "output_type": "execute_result"
    }
   ],
   "source": [
    "function generate_spiral_dataset(num_classes=4, num_samples_per_class=100, dims=2, σ_θ=0.2)\n",
    "    rs = range(0, 1, length=num_samples_per_class)\n",
    "    θs = rs .* pi\n",
    "    rotθ = 2pi / num_classes\n",
    "    \n",
    "    x_ = zeros(num_samples_per_class, num_classes, dims);\n",
    "    for i in 1:num_classes\n",
    "        δθ = randn(num_samples_per_class) * σ_θ\n",
    "        ϕ = θs + δθ .+ (i-1) * rotθ\n",
    "        x_[:, i, :] = rs .* [cos.(ϕ) sin.(ϕ)]\n",
    "    end\n",
    "    x = reshape(x_, (:, dims));\n",
    "    t = repeat(1:num_classes, inner=(num_samples_per_class, 1)); # class label\n",
    "    return x, vec(t)\n",
    "end"
   ]
  },
  {
   "cell_type": "code",
   "execution_count": 21,
   "metadata": {},
   "outputs": [],
   "source": [
    "n_classes = 4\n",
    "x_train, t_train = generate_spiral_dataset(n_classes);"
   ]
  },
  {
   "cell_type": "code",
   "execution_count": 22,
   "metadata": {},
   "outputs": [
    {
     "data": {
      "text/plain": [
       "(400,)"
      ]
     },
     "execution_count": 22,
     "metadata": {},
     "output_type": "execute_result"
    }
   ],
   "source": [
    "size(t_train)"
   ]
  },
  {
   "cell_type": "code",
   "execution_count": 23,
   "metadata": {},
   "outputs": [
    {
     "data": {
      "image/png": "[encoded data removed]",
      "text/plain": [
       "Figure(PyObject <Figure size 400x400 with 1 Axes>)"
      ]
     },
     "metadata": {},
     "output_type": "display_data"
    },
    {
     "data": {
      "text/plain": [
       "PyObject <matplotlib.collections.PathCollection object at 0x0000016E4BA2FCE0>"
      ]
     },
     "execution_count": 23,
     "metadata": {},
     "output_type": "execute_result"
    }
   ],
   "source": [
    "figure(figsize=(4,4))\n",
    "scatter(x_train[:, 1], x_train[:, 2], c=t_train, lw=0.5, ec=\"k\")"
   ]
  },
  {
   "cell_type": "code",
   "execution_count": 24,
   "metadata": {},
   "outputs": [],
   "source": [
    "# training θeter\n",
    "n_traindata = size(x_train)[1]\n",
    "n_batch = 10 # batch size\n",
    "n_iter_per_epoch = round(Int, n_traindata/n_batch)\n",
    "n_epoch = 100; # number of epoch"
   ]
  },
  {
   "cell_type": "code",
   "execution_count": 25,
   "metadata": {},
   "outputs": [
    {
     "data": {
      "text/plain": [
       "4×4 Diagonal{Bool, Vector{Bool}}:\n",
       " 1  ⋅  ⋅  ⋅\n",
       " ⋅  1  ⋅  ⋅\n",
       " ⋅  ⋅  1  ⋅\n",
       " ⋅  ⋅  ⋅  1"
      ]
     },
     "execution_count": 25,
     "metadata": {},
     "output_type": "execute_result"
    }
   ],
   "source": [
    "I_c = I(n_classes)"
   ]
  },
  {
   "cell_type": "code",
   "execution_count": 26,
   "metadata": {},
   "outputs": [],
   "source": [
    "y_train = 1.0*I_c[t_train, :];"
   ]
  },
  {
   "cell_type": "code",
   "execution_count": 27,
   "metadata": {},
   "outputs": [
    {
     "data": {
      "text/plain": [
       "SGD{Float64}(0.1)"
      ]
     },
     "execution_count": 27,
     "metadata": {},
     "output_type": "execute_result"
    }
   ],
   "source": [
    "nn1 = MLP([2, 32, n_classes], f_hid=Sigmoid, f_out=Sigmoid)#Softmax)\n",
    "#loss_fun1 = cross_entropy_loss!\n",
    "\n",
    "lr = 0.1#1e-3  # learning rate\n",
    "weight_decay = 0 # weight decay (L2 norm) strength\n",
    "optimizer1 = SGD(lr=lr)# Adam(lr=lr);"
   ]
  },
  {
   "cell_type": "markdown",
   "metadata": {},
   "source": [
    "loss計算のlogを取る用の関数\n",
    "biasの学習はprediction errorで引かれるので不要．"
   ]
  },
  {
   "cell_type": "code",
   "execution_count": 28,
   "metadata": {},
   "outputs": [
    {
     "name": "stderr",
     "output_type": "stream",
     "text": [
      "\u001b[32mTraining... 100%|████████████████████████████████████████| Time: 0:00:07\u001b[39m\n"
     ]
    }
   ],
   "source": [
    "#error_arr = zeros(n_epoch); # memory array of each epoch error\n",
    "\n",
    "@showprogress \"Training...\" for e in 1:n_epoch\n",
    "    for iter in 1:n_iter_per_epoch\n",
    "        idx = (iter-1)*n_batch+1:iter*n_batch\n",
    "        x, y = x_train[idx, :], y_train[idx, :]\n",
    "        train_step!(nn1, x, y, optimizer=optimizer1, weight_decay=weight_decay)\n",
    "        #error_arr[e] += loss\n",
    "    end \n",
    "    #error_arr[e] /= n_traindata\n",
    "end"
   ]
  },
  {
   "cell_type": "code",
   "execution_count": null,
   "metadata": {},
   "outputs": [],
   "source": [
    "figure(figsize=(3,2))\n",
    "semilogy(1:n_epoch, error_arr)\n",
    "ylabel(\"Train loss\"); xlabel(\"Epoch\"); xlim(0, n_epoch)\n",
    "tight_layout()"
   ]
  },
  {
   "cell_type": "code",
   "execution_count": null,
   "metadata": {},
   "outputs": [
    {
     "data": {
      "text/plain": [
       "forward! (generic function with 2 methods)"
      ]
     },
     "execution_count": 30,
     "metadata": {},
     "output_type": "execute_result"
    }
   ],
   "source": [
    "# forward computation of MLP (clamp out)\n",
    "function forward2!(mlp::MLP, x::Array; n_max_step=10)\n",
    "    (;L, f, W, z, ϵ) = mlp\n",
    "    γ = 0.1\n",
    "    n_batch = size(x)[1]\n",
    "\n",
    "    # initialize states\n",
    "    z[1] = x # input (n_batch x n_neurons)\n",
    "    #z[L+1] = y # output (n_batch x n_neurons)\n",
    "    for l in 2:L+1\n",
    "        z[l] = zeros(n_batch, size(W[l].v)[1])\n",
    "    end\n",
    "    z_tm1 = copy(z)\n",
    "    for t in 1:n_max_step\n",
    "        for l in 1:L\n",
    "            ϵ[l] = z[l+1] - f[l](z[l]) * W[l].v #f[l](z[l] * W[l].v .+ b[l].v)\n",
    "        end\n",
    "        \n",
    "        for l in L:-1:2\n",
    "            z[l] += γ * (-ϵ[l-1] + f[l].backward(z[l])) .* (ϵ[l] * W[l].v')\n",
    "        end\n",
    "        z_diff = (z[2:L] - z_tm1[2:L])\n",
    "        converged = all([maximum(abs.(zd)) < 1e-3 for zd in z_diff])\n",
    "        if converged\n",
    "            break\n",
    "        end\n",
    "    end\n",
    "    return f[end](z[L+1]) # output\n",
    "end"
   ]
  },
  {
   "cell_type": "code",
   "execution_count": null,
   "metadata": {},
   "outputs": [
    {
     "name": "stdout",
     "output_type": "stream",
     "text": [
      "32\n"
     ]
    },
    {
     "ename": "LoadError",
     "evalue": "BoundsError: attempt to access 2-element Vector{Param} at index [3]",
     "output_type": "error",
     "traceback": [
      "BoundsError: attempt to access 2-element Vector{Param} at index [3]",
      "",
      "Stacktrace:",
      " [1] getindex(A::Vector{Param}, i1::Int64)",
      "   @ Base .\\essentials.jl:13",
      " [2] top-level scope",
      "   @ .\\In[33]:2"
     ]
    }
   ],
   "source": [
    "for l in 2:nn1.L+1\n",
    "    println(size(nn1.W[l].v)[1])\n",
    "end"
   ]
  },
  {
   "cell_type": "code",
   "execution_count": null,
   "metadata": {},
   "outputs": [
    {
     "ename": "LoadError",
     "evalue": "BoundsError: attempt to access 2-element Vector{Param} at index [3]",
     "output_type": "error",
     "traceback": [
      "BoundsError: attempt to access 2-element Vector{Param} at index [3]",
      "",
      "Stacktrace:",
      " [1] getindex",
      "   @ .\\essentials.jl:13 [inlined]",
      " [2] forward!(mlp::MLP, x::Matrix{Float64}; n_max_step::Int64)",
      "   @ Main .\\In[30]:11",
      " [3] forward!(mlp::MLP, x::Matrix{Float64})",
      "   @ Main .\\In[30]:2",
      " [4] top-level scope",
      "   @ In[31]:7"
     ]
    }
   ],
   "source": [
    "x = -1.1:0.05:1.1\n",
    "y = -1.1:0.05:1.1\n",
    "X = ones(length(x)) * x'\n",
    "Y = y * ones(length(y))'\n",
    "\n",
    "x_test = Matrix(hcat([[xx, yy] for xx in x for yy in y]...)')\n",
    "y_pred = forward!(nn1, x_test)\n",
    "t_pred = 1.0*vec([inds[2] for inds in argmax(y_pred, dims=2)]);\n",
    "T = reshape(t_pred, (length(x), length(y)))"
   ]
  },
  {
   "cell_type": "code",
   "execution_count": null,
   "metadata": {},
   "outputs": [],
   "source": [
    "figure(figsize=(4,4))\n",
    "contourf(X, Y, T, alpha=0.8)\n",
    "scatter(x_train[:, 1], x_train[:, 2], c=t_train, lw=0.5, ec=\"k\", label=\"train data\")\n",
    "legend()"
   ]
  },
  {
   "cell_type": "markdown",
   "metadata": {},
   "source": [
    "## 参考文献\n",
    "```{bibliography}\n",
    ":filter: docname in docnames\n",
    "```"
   ]
  }
 ],
 "metadata": {
  "celltoolbar": "Tags",
  "kernelspec": {
   "display_name": "Julia 1.10.4",
   "language": "julia",
   "name": "julia-1.10"
  },
  "language_info": {
   "file_extension": ".jl",
   "mimetype": "application/julia",
   "name": "julia",
   "version": "1.10.4"
  }
 },
 "nbformat": 4,
 "nbformat_minor": 4
}
