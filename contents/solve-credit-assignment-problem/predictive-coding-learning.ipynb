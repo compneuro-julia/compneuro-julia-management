{
 "cells": [
  {
   "cell_type": "code",
   "execution_count": null,
   "id": "c591097d-ebb8-4fa0-886f-63c9a8d1bdfe",
   "metadata": {},
   "outputs": [],
   "source": []
  },
  {
   "cell_type": "markdown",
   "id": "265731da-c15d-467b-90c2-0c64c79f7dd5",
   "metadata": {},
   "source": [
    "入出力を固定 (clamp) する．電位固定法のようなものか？predictive codingと文字を合わせる．(Song et al., 2023)\n",
    "\n",
    "$x_0=s_{in}, x_{L+1}=s_{target}$とする．状態$x_l(t=0)=\\mathbf{0} (l=2, \\ldots, L)$に初期化する．予測誤差 $\\mathbf{\\epsilon}_l$ を次式で計算する．\n",
    "\n",
    "$$\n",
    "\\begin{equation}\n",
    "\\mathbf{\\epsilon}_l(t)=\\mathbf{z}_l(t)-\\mathbf{w}_{l-1}f(\\mathbf{z}_{l-1}(t))\\quad(l=1, \\ldots, L)\n",
    "\\end{equation}\n",
    "$$\n",
    "\n",
    "次に状態 $\\mathbf{z}_l(t)\\ (t=0, \\ldots, \\mathcal{T}-1)$ を次式で更新する．\n",
    "\n",
    "$$\n",
    "\\begin{equation}\n",
    "\\mathbf{z}_l(t+1)=\\mathbf{z}_l(t)+\\gamma (-\\mathbf{\\epsilon}_l + f'(\\mathbf{z}_l(t))) \\circ (\\mathbf{w}_l^\\top \\mathbf{\\epsilon}_{l+1}(t))\n",
    "\\end{equation}\n",
    "$$\n",
    "\n",
    "収束後，重みを次式で更新する．$n$を一つのsampleの番号として，\n",
    "\n",
    "$$\n",
    "\\begin{equation}\n",
    "\\mathbf{w}_l(n+1)=\\mathbf{w}_l(n)+\\eta \\mathbf{\\epsilon}_l(\\mathcal{T}) f(\\mathbf{z}_l(\\mathcal{T}))^\\top\n",
    "\\end{equation}\n",
    "$$\n",
    "\n",
    "として重みを更新する．"
   ]
  },
  {
   "cell_type": "markdown",
   "id": "9e4ca954-f149-4f69-ae53-d0207c5ab401",
   "metadata": {},
   "source": [
    "これではweight transport problemを解決できていない．"
   ]
  },
  {
   "cell_type": "code",
   "execution_count": null,
   "id": "2c6b1db4-0277-4dd3-9f98-621802e0dc76",
   "metadata": {},
   "outputs": [],
   "source": []
  },
  {
   "cell_type": "code",
   "execution_count": null,
   "id": "e4b0bc88-aeeb-441a-80d1-6b180c3aff63",
   "metadata": {},
   "outputs": [],
   "source": []
  }
 ],
 "metadata": {
  "kernelspec": {
   "display_name": "Julia 1.10.4",
   "language": "julia",
   "name": "julia-1.10"
  },
  "language_info": {
   "file_extension": ".jl",
   "mimetype": "application/julia",
   "name": "julia",
   "version": "1.10.4"
  }
 },
 "nbformat": 4,
 "nbformat_minor": 5
}
