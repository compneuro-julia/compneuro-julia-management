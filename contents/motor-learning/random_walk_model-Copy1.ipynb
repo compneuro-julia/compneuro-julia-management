{
 "cells": [
  {
   "cell_type": "markdown",
   "metadata": {},
   "source": [
    "# 無限時間最適フィードバック制御モデル\n",
    "## モデルの構造\n",
    "**無限時間最適フィードバック制御モデル** (**infinite-horizon optimal feedback control model**) {cite:p}`Qian2013-zy`\n",
    "\n",
    "$$\n",
    "\\begin{align}\n",
    "d x&=(\\mathbf{A} x+\\mathbf{B} u) dt +\\mathbf{Y} u d \\gamma+\\mathbf{G} d \\omega \\\\\n",
    "d y&=\\mathbf{C} x dt+\\mathbf{D} d \\xi\\\\\n",
    "d \\hat{x}&=(\\mathbf{A} \\hat{x}+\\mathbf{B} u) dt+\\mathbf{K}(dy-\\mathbf{C} \\hat{x} dt)\n",
    "\\end{align}\n",
    "$$"
   ]
  },
  {
   "cell_type": "markdown",
   "metadata": {},
   "source": [
    "## 実装\n",
    "ライブラリの読み込みと関数の定義．"
   ]
  },
  {
   "cell_type": "code",
   "execution_count": 1,
   "metadata": {},
   "outputs": [],
   "source": [
    "using Parameters: @unpack\n",
    "using LinearAlgebra, Kronecker, Random, BlockDiagonals, PyPlot\n",
    "rc(\"axes.spines\", top=false, right=false)\n",
    "rc(\"font\", family=\"Arial\") "
   ]
  },
  {
   "cell_type": "markdown",
   "metadata": {},
   "source": [
    "定数の定義\n",
    "\n",
    "$$\n",
    "\\begin{align}\n",
    "\\alpha_{1}&=\\frac{b}{t_{a} t_{e} I},\\quad \\alpha_{2}=\\frac{1}{t_{a} t_{e}}+\\left(\\frac{1}{t_{a}}+\\frac{1}{t_{e}}\\right) \\frac{b}{I} \\\\\n",
    "\\alpha_{3}&=\\frac{b}{I}+\\frac{1}{t_{a}}+\\frac{1}{t_{e}},\\quad b_{u}=\\frac{1}{t_{a} t_{e} I}\n",
    "\\end{align}\n",
    "$$"
   ]
  },
  {
   "cell_type": "code",
   "execution_count": 2,
   "metadata": {},
   "outputs": [
    {
     "data": {
      "text/plain": [
       "SaccadeModelParameter"
      ]
     },
     "execution_count": 2,
     "metadata": {},
     "output_type": "execute_result"
    }
   ],
   "source": [
    "@kwdef struct SaccadeModelParameter\n",
    "    n = 4 # number of dims\n",
    "    i = 0.25 # kgm^2, \n",
    "    b = 0.2 # kgm^2/s\n",
    "    ta = 0.03 # s\n",
    "    te = 0.04 # s\n",
    "    L0 = 0.35 # m\n",
    "\n",
    "    bu = 1 / (ta * te * i)\n",
    "    α1 = bu * b\n",
    "    α2 = 1/(ta * te) + (1/ta + 1/te) * b/i\n",
    "    α3 = b/i + 1/ta + 1/te\n",
    "\n",
    "    A = [zeros(3) I(3); -[0, α1, α2, α3]']\n",
    "    B = [zeros(3); bu]\n",
    "    C = [I(3) zeros(3)]\n",
    "    D = Diagonal([1e-3, 1e-2, 5e-2])\n",
    "\n",
    "    Y = 0.02 * B\n",
    "    G = 0.03 * I(n)\n",
    "\n",
    "    Q = Diagonal([1.0, 0.01, 0, 0]) \n",
    "    R = 0.0001\n",
    "    U = Diagonal([1.0, 0.1, 0.01, 0])\n",
    "end"
   ]
  },
  {
   "cell_type": "markdown",
   "metadata": {},
   "source": [
    "$$\n",
    "\\begin{align}\n",
    "\\mathbf{X}:=\\begin{bmatrix}\n",
    "x \\\\\n",
    "\\tilde{x}\n",
    "\\end{bmatrix}, d \\bar{\\omega} :=\\begin{bmatrix}\n",
    "d \\omega \\\\\n",
    "d \\xi\n",
    "\\end{bmatrix}, \\bar{\\mathbf{A}} :=\\begin{bmatrix}\n",
    "\\mathbf{A}-\\mathbf{B} \\mathbf{L} & \\mathbf{B} \\mathbf{L} \\\\\n",
    "\\mathbf{0} & \\mathbf{A}-\\mathbf{K} \\mathbf{C}\n",
    "\\end{bmatrix}\\\\\n",
    "\\bar{\\mathbf{Y}} :=\\begin{bmatrix}\n",
    "-\\mathbf{Y} \\mathbf{L} & \\mathbf{Y} \\mathbf{L} \\\\\n",
    "-\\mathbf{Y} \\mathbf{L} & \\mathbf{Y} \\mathbf{L}\n",
    "\\end{bmatrix}, \\bar{G} :=\\begin{bmatrix}\n",
    "\\mathbf{G} & \\mathbf{0} \\\\\n",
    "\\mathbf{G} & -\\mathbf{K} \\mathbf{D}\n",
    "\\end{bmatrix}\n",
    "\\end{align}\n",
    "$$\n",
    "\n",
    "とする．元論文では$F, \\bar{F}$が定義されていたが，$F=0$とするため，以後の式から削除した．\n",
    "\n",
    "$$\n",
    "\\begin{align}\n",
    "\\mathbf{P} &:=\\begin{bmatrix}\n",
    "\\mathbf{P}_{11} & \\mathbf{P}_{12} \\\\\n",
    "\\mathbf{P}_{12} & \\mathbf{P}_{22}\n",
    "\\end{bmatrix} = \\mathbb{E}\\left[\\mathbf{X} \\mathbf{X}^\\top\\right] \\\\\n",
    "\\mathbf{V} &:=\\begin{bmatrix}\n",
    "\\mathbf{Q}+\\mathbf{L}^\\top R \\mathbf{L} & -\\mathbf{L}^\\top R \\mathbf{L} \\\\\n",
    "-\\mathbf{L}^\\top R \\mathbf{L} & \\mathbf{L}^\\top R \\mathbf{L}+\\mathbf{U}\n",
    "\\end{bmatrix}\n",
    "\\end{align}\n",
    "$$\n",
    "\n",
    "aaa\n",
    "$$\n",
    "\\begin{align}\n",
    "&K=\\mathbf{P}_{22} \\mathbf{C}^\\top\\left(\\mathbf{D} \\mathbf{D}^\\top\\right)^{-1} \\\\\n",
    "&\\mathbf{L}=\\left(R+\\mathbf{Y}^\\top\\left(\\mathbf{S}_{11}+\\mathbf{S}_{22}\\right) \\mathbf{Y}\\right)^{-1} \\mathbf{B}^\\top \\mathbf{S}_{11} \\\\\n",
    "&\\bar{\\mathbf{A}}^\\top \\mathbf{S}+\\mathbf{S} \\bar{\\mathbf{A}}+\\bar{\\mathbf{Y}}^\\top \\mathbf{S} \\bar{\\mathbf{Y}}+\\mathbf{V}=0 \\\\\n",
    "&\\bar{\\mathbf{A}} \\mathbf{P}+\\mathbf{P} \\bar{\\mathbf{A}}^\\top+\\bar{\\mathbf{Y}} \\mathbf{P} \\bar{\\mathbf{Y}}^\\top+\\bar{\\mathbf{G}} \\bar{\\mathbf{G}}^\\top=0\n",
    "\\end{align}\n",
    "$$\n",
    "\n",
    "\n",
    "$\\mathbf{A} = (a_{ij})$ を $m \\times n$ 行列，$\\mathbf{B} = (b_{kl})$ を $p \\times q$ 行列とすると、それらのクロネッカー積 $\\mathbf{A} \\otimes \\mathbf{B}$ は\n",
    "\n",
    "$$\n",
    "\\begin{equation}\n",
    "\\mathbf{A}\\otimes \\mathbf{B}={\\begin{bmatrix}a_{11}\\mathbf{B}&\\cdots &a_{1n}\\mathbf{B}\\\\\\vdots &\\ddots &\\vdots \\\\a_{m1}\\mathbf{B}&\\cdots &a_{mn}\\mathbf{B}\\end{bmatrix}}\n",
    "\\end{equation}\n",
    "$$\n",
    "\n",
    "で与えられる $mp \\times nq$ 区分行列である．\n",
    "\n",
    "Roth's column lemma (vec-trick) \n",
    "\n",
    "$$\n",
    "\\begin{equation}\n",
    "(\\mathbf{B}^\\top \\otimes \\mathbf{A})\\text{vec}(\\mathbf{X}) = \\text{vec}(\\mathbf{A}\\mathbf{X}\\mathbf{B})=\\text{vec}(\\mathbf{C})\n",
    "\\end{equation}\n",
    "$$\n",
    "\n",
    "によりこれを解くと，\n",
    "\n",
    "$$\n",
    "\\begin{align}\n",
    "\\mathbf{S} &= -\\text{vec}^{-1}\\left(\\left(\\mathbf{I} \\otimes \\bar{\\mathbf{A}}^\\top + \\bar{\\mathbf{A}}^\\top \\otimes \\mathbf{I} + \\bar{\\mathbf{Y}}^\\top \\otimes \\bar{\\mathbf{Y}}^\\top\\right)^{-1}\\text{vec}(\\mathbf{V})\\right)\\\\\n",
    "\\mathbf{P} &= -\\text{vec}^{-1}\\left(\\left(\\mathbf{I} \\otimes \\bar{\\mathbf{A}} + \\bar{\\mathbf{A}} \\otimes \\mathbf{I} + \\bar{\\mathbf{Y}} \\otimes \\bar{\\mathbf{Y}}\\right)^{-1}\\text{vec}(\\bar{\\mathbf{G}}\\bar{\\mathbf{G}}^\\top)\\right)\n",
    "\\end{align}\n",
    "$$\n",
    "\n",
    "となる．ここで$\\mathbf{I}=\\mathbf{I}^\\top$を用いた．"
   ]
  },
  {
   "cell_type": "markdown",
   "metadata": {},
   "source": [
    "### K, L, S, Pの計算\n",
    "K, L, S, Pの計算は次のようにする．\n",
    "1. LとKをランダムに初期化\n",
    "1. SとPを計算\n",
    "1. LとKを更新\n",
    "1. 収束するまで2と3を繰り返す．\n",
    "\n",
    "収束スピードはかなり速い．"
   ]
  },
  {
   "cell_type": "code",
   "execution_count": 3,
   "metadata": {},
   "outputs": [],
   "source": [
    "using ProgressMeter"
   ]
  },
  {
   "cell_type": "code",
   "execution_count": null,
   "metadata": {},
   "outputs": [],
   "source": []
  },
  {
   "cell_type": "code",
   "execution_count": 4,
   "metadata": {},
   "outputs": [],
   "source": [
    "param = SaccadeModelParameter();"
   ]
  },
  {
   "cell_type": "markdown",
   "metadata": {},
   "source": [
    "### シミュレーション\n",
    "関数を書く．"
   ]
  },
  {
   "cell_type": "code",
   "execution_count": 40,
   "metadata": {},
   "outputs": [
    {
     "data": {
      "text/plain": [
       "simulation (generic function with 4 methods)"
      ]
     },
     "execution_count": 40,
     "metadata": {},
     "output_type": "execute_result"
    }
   ],
   "source": [
    "function simulation(param::SaccadeModelParameter, L, grad, dt=0.001, T=2.0, init_pos=-1)\n",
    "    @unpack n, A, B, C, D, Y, G, Q, R, U = param\n",
    "    nt = round(Int, T/dt)\n",
    "    X = zeros(n, nt)\n",
    "    u = zeros(nt)\n",
    "    X[1, 1] = init_pos # m; initial position (target position is zero)\n",
    "    sqrtdt = √dt\n",
    "    z = zeros(1, n)\n",
    "    grad = zeros(1, n)\n",
    "    cost_sum = 0\n",
    "    for t in 1:nt-1\n",
    "        xi = 0.2*randn()\n",
    "        u[t] = -L * X[:, t] .+ xi\n",
    "        z .+= xi .* X[:, t]'\n",
    "        X[:, t+1] = X[:,t] + (A * X[:,t] + B * u[t]) * dt #+ sqrtdt * (Y * u[t] * randn() + G * randn(n))\n",
    "        cost = X[:, t]' * Q * X[:, t] + u[t] * R * u[t]\n",
    "        #println(cost)\n",
    "        cost_sum += cost\n",
    "        grad = 0.99 * grad + cost * z * 0.005\n",
    "        L[:, :] += 2.3e-6 * grad\n",
    "    end\n",
    "    return X, u, L, grad, cost_sum\n",
    "end"
   ]
  },
  {
   "cell_type": "code",
   "execution_count": 41,
   "metadata": {},
   "outputs": [
    {
     "data": {
      "text/plain": [
       "5000"
      ]
     },
     "execution_count": 41,
     "metadata": {},
     "output_type": "execute_result"
    }
   ],
   "source": [
    "dt = 1e-2\n",
    "T = 1.0\n",
    "n = 4\n",
    "η = 5e-5\n",
    "\n",
    "FW = rand(n);# .- 0.5;\n",
    "num_iter = 5000"
   ]
  },
  {
   "cell_type": "code",
   "execution_count": 7,
   "metadata": {},
   "outputs": [
    {
     "data": {
      "text/plain": [
       "100"
      ]
     },
     "execution_count": 7,
     "metadata": {},
     "output_type": "execute_result"
    }
   ],
   "source": [
    "nt = round(Int, T/dt)"
   ]
  },
  {
   "cell_type": "code",
   "execution_count": 42,
   "metadata": {
    "scrolled": true
   },
   "outputs": [
    {
     "name": "stderr",
     "output_type": "stream",
     "text": [
      "\u001b[32mProgress: 100%|█████████████████████████████████████████| Time: 0:00:01\u001b[39m\n"
     ]
    }
   ],
   "source": [
    "error_arr = zeros(num_iter);\n",
    "\n",
    "L = zeros(n)'#1e-2*randn(n)';\n",
    "grad = zeros(n)'\n",
    "X_ = nothing\n",
    "@showprogress for i in 1:num_iter\n",
    "    X, u, L, grad, cost_sum = simulation(param::SaccadeModelParameter, L, grad, dt, T)\n",
    "    #println(cost_sum)\n",
    "    error_arr[i] = cost_sum# / nt\n",
    "    if i == num_iter\n",
    "        X_ = X\n",
    "    end\n",
    "end;"
   ]
  },
  {
   "cell_type": "code",
   "execution_count": 43,
   "metadata": {},
   "outputs": [
    {
     "data": {
      "text/plain": [
       "1×4 adjoint(::Vector{Float64}) with eltype Float64:\n",
       " 0.00166938  -2.62364e-5  -1.48609e-5  0.0089157"
      ]
     },
     "execution_count": 43,
     "metadata": {},
     "output_type": "execute_result"
    }
   ],
   "source": [
    "L"
   ]
  },
  {
   "cell_type": "code",
   "execution_count": 44,
   "metadata": {},
   "outputs": [
    {
     "data": {
      "image/png": "[encoded data removed]",
      "text/plain": [
       "Figure(PyObject <Figure size 640x480 with 1 Axes>)"
      ]
     },
     "metadata": {},
     "output_type": "display_data"
    },
    {
     "data": {
      "text/plain": [
       "1-element Vector{PyCall.PyObject}:\n",
       " PyObject <matplotlib.lines.Line2D object at 0x000001E6C61B2F60>"
      ]
     },
     "execution_count": 44,
     "metadata": {},
     "output_type": "execute_result"
    }
   ],
   "source": [
    "plot(error_arr)"
   ]
  },
  {
   "cell_type": "code",
   "execution_count": 45,
   "metadata": {},
   "outputs": [
    {
     "data": {
      "image/png": "[encoded data removed]",
      "text/plain": [
       "Figure(PyObject <Figure size 640x480 with 1 Axes>)"
      ]
     },
     "metadata": {},
     "output_type": "display_data"
    },
    {
     "data": {
      "text/plain": [
       "1-element Vector{PyCall.PyObject}:\n",
       " PyObject <matplotlib.lines.Line2D object at 0x000001E6C7B847A0>"
      ]
     },
     "execution_count": 45,
     "metadata": {},
     "output_type": "execute_result"
    }
   ],
   "source": [
    "plot(X_[1, :])"
   ]
  }
 ],
 "metadata": {
  "kernelspec": {
   "display_name": "Julia 1.10.4",
   "language": "julia",
   "name": "julia-1.10"
  },
  "language_info": {
   "file_extension": ".jl",
   "mimetype": "application/julia",
   "name": "julia",
   "version": "1.10.4"
  }
 },
 "nbformat": 4,
 "nbformat_minor": 4
}
