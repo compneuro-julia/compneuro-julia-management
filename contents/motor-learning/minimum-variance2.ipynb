{
 "cells": [
  {
   "cell_type": "markdown",
   "metadata": {},
   "source": [
    "# 終点誤差分散最小モデル\n",
    "**終点誤差分散最小モデル** (minimum-variance model; {cite:p}`Harris1998-gj`)を実装する．\n",
    "\n",
    "$\\mathbf{A}\\in \\mathbb{R}^{n\\times n}$, $\\mathbf{B}\\in \\mathbb{R}^{n}$とする．$\\dot{x}=\\mathbf{A}_{c}\\mathbf{x}+\\mathbf{B}_{c}(u + w)$について，差分化すると\n",
    "\n",
    "$$\n",
    "\\begin{align}\n",
    "\\mathbf{x}(t+dt)&=\\mathbf{x}(t)+\\dot{\\mathbf{x}}dt\\\\\n",
    "\\mathbf{x}_{t+1}&=\\mathbf{I}\\mathbf{x}_t+(\\mathbf{A}_{c}dt)\\mathbf{x}_t+(\\mathbf{B}_{c}dt)(u + w)\n",
    "\\end{align}\n",
    "$$\n",
    "\n",
    "となる．ここで$\\mathbf{I}$は単位行列である．よって $\\mathbf{A}=\\mathbf{I}+\\mathbf{A}_{c}dt,\\ \\mathbf{B}=\\mathbf{B}_cdt$ として\n",
    "\n",
    "$$\n",
    "\\begin{equation}\n",
    "\\mathbf{x}_{t+1} = \\mathbf{A} \\mathbf{x}_t + \\mathbf{B}(u_t + w_t)\n",
    "\\end{equation}\n",
    "$$\n",
    "\n",
    "と表せる． $\\mathbf{x}_t$の平均は\n",
    "\n",
    "$$\n",
    "\\begin{equation}\n",
    "\\mathbb{E}\\left[\\mathbf{x}_{t}\\right]=\\mathbf{A}^{t} \\mathbf{x}_{0}+\\sum_{i=0}^{t-1} \\mathbf{A}^{t-1-i} \\mathbf{B} u_{i}\n",
    "\\end{equation}\n",
    "$$\n",
    "\n",
    "$\\mathbf{x}_t$の分散は\n",
    "\n",
    "$$\n",
    "\\begin{equation}\n",
    "\\operatorname{Cov}\\left[\\mathbf{x}_{t}\\right]=k \\sum_{i=0}^{t-1}\\left(\\mathbf{A}^{t-1-i} \\mathbf{B}\\right)\\left(\\mathbf{A}^{t-1-i} \\mathbf{B}\\right)^{\\top} u_{i}^{2}\n",
    "\\end{equation}\n",
    "$$\n",
    "\n",
    "となる．"
   ]
  },
  {
   "cell_type": "markdown",
   "metadata": {},
   "source": [
    "## 終点誤差分散最小モデルの実装"
   ]
  },
  {
   "cell_type": "code",
   "execution_count": 1,
   "metadata": {},
   "outputs": [],
   "source": [
    "using LinearAlgebra, Random, PyPlot\n",
    "rc(\"axes.spines\", top=false, right=false)"
   ]
  },
  {
   "cell_type": "code",
   "execution_count": 2,
   "metadata": {},
   "outputs": [],
   "source": [
    "# Equality Constrained Quadratic Programming\n",
    "function solve_quad_prog(P, q, A, b)\n",
    "    \"\"\"\n",
    "    minimize   : 1/2 * x'*P*x + q'*x\n",
    "    subject to : A*x = b\n",
    "    \"\"\"\n",
    "    K = [P A'; A zeros(size(A)[1], size(A)[1])] # KKT matrix\n",
    "    sol = K \\ [-q; b]\n",
    "    return sol[1:size(A)[2]]\n",
    "end;"
   ]
  },
  {
   "cell_type": "code",
   "execution_count": 3,
   "metadata": {},
   "outputs": [
    {
     "data": {
      "text/plain": [
       "minimum_variance_model (generic function with 1 method)"
      ]
     },
     "execution_count": 3,
     "metadata": {},
     "output_type": "execute_result"
    }
   ],
   "source": [
    "function minimum_variance_model(Ac, Bc, x0, xf, tf, tp, dt)\n",
    "    dims = size(x0)[1]\n",
    "    ntf = round(Int, tf/dt)\n",
    "    ntp = round(Int, tp/dt)\n",
    "    nt = ntf + ntp # total time steps    \n",
    "    \n",
    "    A = I(dims) + Ac * dt\n",
    "    B = Bc*dt\n",
    "    #A = exp(Ac*dt);\n",
    "    #B = Ac^-1 * (I(dims) - A) *Bc; \n",
    "    \n",
    "    # calculation of V\n",
    "    diagV = zeros(nt);\n",
    "    for t=0:nt-1\n",
    "        if t < ntf\n",
    "            diagV[t+1] = sum([(A^(k-t-1) * B * B' * A'^(k-t-1))[1,1] for k=ntf:nt-1])\n",
    "        else\n",
    "            diagV[t+1] = diagV[t] + (A^(nt-t-2) * B * B' * A'^(nt-t-2))[1,1]\n",
    "        end\n",
    "    end\n",
    "    diagV /= maximum(diagV) # for numerical stability\n",
    "    V = Diagonal(diagV); \n",
    "    \n",
    "    # 制約条件における行列Cとベクトルdの計算\n",
    "    #calculation of C\n",
    "    C = zeros(dims*(ntp+1), nt);\n",
    "    for p=1:ntp+1\n",
    "        for q=1:nt\n",
    "            if ntf-1+(p-1)-(q-1) >= 0\n",
    "                idx = dims*(p-1)+1:dims*p\n",
    "                C[idx, q] = A^(ntf-1-(q-1)+(p-1)) * B # if ntf-1-(q-1)+(p-1) == 0; A^(ntf-1-(q-1)+(p-1))*B equal to B\n",
    "            end\n",
    "        end\n",
    "    end\n",
    "    \n",
    "    # calculation of d\n",
    "    d = vcat([xf - A^(ntf+t) * x0 for t=0:ntp]...);\n",
    "    \n",
    "    # 制御信号を二次計画法で計算 (solution by quadratic programming)\n",
    "    u = solve_quad_prog(V, zeros(nt), C, d);\n",
    "    \n",
    "    # 制御信号を二次計画法で計算 (forward solution)\n",
    "    x = zeros(dims, nt);\n",
    "    x[:,1] = x0;\n",
    "    Σ = zeros(dims, dims, nt);\n",
    "    Σ[:, :, 1] = B * u[1]^2 * B'\n",
    "    for t=1:nt-1\n",
    "        x[:,t+1] = A*x[:, t] + B*u[t] # update\n",
    "        Σ[:, :, t+1] = A * Σ[:, :, t] * A' + B * u[t]^2 * B' # variance\n",
    "    end\n",
    "    return x, u, Σ\n",
    "end"
   ]
  },
  {
   "cell_type": "code",
   "execution_count": 80,
   "metadata": {},
   "outputs": [
    {
     "data": {
      "text/plain": [
       "2-element Vector{Int64}:\n",
       " 0\n",
       " 1"
      ]
     },
     "execution_count": 80,
     "metadata": {},
     "output_type": "execute_result"
    }
   ],
   "source": [
    "t1 = 224*1e-3 # time const of eye dynamics (s)\n",
    "t2 = 13*1e-3  # another time const of eye dynamics (s)\n",
    "tm = 10*1e-3\n",
    "dt = 1e-3     # simulation time step (s)\n",
    "tf = 50*1e-3  # movement duration (s)\n",
    "tp = 40*1e-3  # post-movement duration (s)\n",
    "nt = round(Int, (tf+tp)/dt) # total time steps\n",
    "trange = (1:nt) * dt * 1e3 # ms\n",
    "\n",
    "# 2nd order\n",
    "x0 = zeros(2) # initial state (pos=0, vel=0)\n",
    "xf = [10, 0]  # final state (pos=10, vel=0)\n",
    "Ac = [0 1; -1/(t1*t2) -1/t1-1/t2];\n",
    "Bc = [0, 1]\n",
    "\n",
    "#x0 = zeros(3)   # initial state (pos=0, vel=0, acc=0)\n",
    "#xf = [10, 0, 0] # final state (pos=10, vel=0, acc=0)\n",
    "#Ac = [0 1 0; 0 0 1; -1/(t1*t2*tm) -1/(t1*t2)-1/(t1*tm)-1/(t2*tm) -1/t1-1/t2-1/tm];\n",
    "#Bc = [0, 0, 1/tm];\n"
   ]
  },
  {
   "cell_type": "code",
   "execution_count": 81,
   "metadata": {},
   "outputs": [],
   "source": [
    "x_opt, u_opt, Σ_opt = minimum_variance_model(Ac, Bc, x0, xf, tf, tp, dt);"
   ]
  },
  {
   "cell_type": "code",
   "execution_count": 83,
   "metadata": {},
   "outputs": [
    {
     "data": {
      "text/plain": [
       "90-element Vector{Float64}:\n",
       " 30369.854472008505\n",
       " 30181.869162094703\n",
       " 29990.649720641642\n",
       " 29795.87620941572\n",
       " 29597.199881184257\n",
       " 29394.24014755196\n",
       " 29186.581167783716\n",
       " 28973.768003002242\n",
       " 28755.302270863347\n",
       " 28530.637224822793\n",
       " 28299.17216905024\n",
       " 28060.246104506077\n",
       " 27813.130483158944\n",
       "     ⋮\n",
       "  3434.0659340657617\n",
       "  3434.065934066069\n",
       "  3434.0659340659554\n",
       "  3434.0659340659486\n",
       "  3434.065934065748\n",
       "  3434.0659340659226\n",
       "  3434.065934066118\n",
       "  3434.065934066016\n",
       "  3434.065934065701\n",
       "  3434.0659340660222\n",
       "  3434.065934065897\n",
       "  3434.065934065928"
      ]
     },
     "execution_count": 83,
     "metadata": {},
     "output_type": "execute_result"
    }
   ],
   "source": [
    "u_opt"
   ]
  },
  {
   "cell_type": "markdown",
   "metadata": {},
   "source": [
    "結果の描画．"
   ]
  },
  {
   "cell_type": "code",
   "execution_count": 82,
   "metadata": {},
   "outputs": [
    {
     "data": {
      "image/png": "[encoded data removed]",
      "text/plain": [
       "Figure(PyObject <Figure size 600x400 with 4 Axes>)"
      ]
     },
     "metadata": {},
     "output_type": "display_data"
    }
   ],
   "source": [
    "figure(figsize=(6, 4))\n",
    "subplot(2,2,1); plot(trange, x_opt[1, :], label=\"2nd order\")\n",
    "ylabel(\"Eye position (deg)\"); grid(); legend()\n",
    "subplot(2,2,2); plot(trange, x_opt[2, :]); \n",
    "ylabel(\"Eye velocity (deg/s)\"); grid();\n",
    "subplot(2,2,3); plot(trange, u_opt);\n",
    "ylabel(\"Control signal\"); xlabel(\"Time (ms)\"); grid();\n",
    "ax = gca(); ax[:ticklabel_format](style=\"sci\",axis=\"y\",scilimits=(0,0))\n",
    "subplot(2,2,4); plot(trange, Σ_opt[1,1,:]);\n",
    "ylabel(\"Positional Variance\"); xlabel(\"Time (ms)\"); grid()\n",
    "tight_layout()"
   ]
  },
  {
   "cell_type": "code",
   "execution_count": null,
   "metadata": {},
   "outputs": [],
   "source": []
  },
  {
   "cell_type": "code",
   "execution_count": 67,
   "metadata": {},
   "outputs": [
    {
     "data": {
      "text/plain": [
       "minimum_variance_model2 (generic function with 1 method)"
      ]
     },
     "execution_count": 67,
     "metadata": {},
     "output_type": "execute_result"
    }
   ],
   "source": [
    "function minimum_variance_model2(Ac, Bc, x0, xf, tf, tp, dt)\n",
    "    dims = size(x0)[1]\n",
    "    ntf = round(Int, tf/dt)\n",
    "    ntp = round(Int, tp/dt)\n",
    "    nt = ntf + ntp # total time steps    \n",
    "    \n",
    "    A = I(dims) + Ac * dt\n",
    "    B = Bc*dt\n",
    "    #A = exp(Ac*dt);\n",
    "    #B = Ac^-1 * (I(dims) - A) *Bc; \n",
    "    \n",
    "    # calculation of V\n",
    "    diagV = zeros(nt);\n",
    "    for t=0:nt-1\n",
    "        if t < ntf\n",
    "            diagV[t+1] = sum([(A^(k-t-1) * B * B' * A'^(k-t-1))[1,1] for k=ntf:nt-1])\n",
    "        else\n",
    "            diagV[t+1] = diagV[t] + (A^(nt-t-2) * B * B' * A'^(nt-t-2))[1,1]\n",
    "        end\n",
    "    end\n",
    "    diagV /= maximum(diagV) # for numerical stability\n",
    "    V = Diagonal(diagV); \n",
    "    \n",
    "    # 制約条件における行列Cとベクトルdの計算\n",
    "    #calculation of C\n",
    "    C = zeros(dims*(ntp+1), nt);\n",
    "    for p=1:ntp+1\n",
    "        for q=1:nt\n",
    "            if ntf-1+(p-1)-(q-1) >= 0\n",
    "                idx = dims*(p-1)+1:dims*p\n",
    "                C[idx, q] = A^(ntf-1-(q-1)+(p-1)) * B # if ntf-1-(q-1)+(p-1) == 0; A^(ntf-1-(q-1)+(p-1))*B equal to B\n",
    "            end\n",
    "        end\n",
    "    end\n",
    "    \n",
    "    # calculation of d\n",
    "    d = vcat([xf - A^(ntf+t) * x0 for t=0:ntp]...);\n",
    "    return C, d\n",
    "end"
   ]
  },
  {
   "cell_type": "code",
   "execution_count": 68,
   "metadata": {},
   "outputs": [],
   "source": [
    "C, d =  minimum_variance_model2(Ac, Bc, x0, xf, tf, tp, dt);\n",
    "u = C \\ d;"
   ]
  },
  {
   "cell_type": "code",
   "execution_count": 69,
   "metadata": {},
   "outputs": [
    {
     "data": {
      "text/plain": [
       "(82, 90)"
      ]
     },
     "execution_count": 69,
     "metadata": {},
     "output_type": "execute_result"
    }
   ],
   "source": [
    "size(C)"
   ]
  },
  {
   "cell_type": "code",
   "execution_count": 70,
   "metadata": {},
   "outputs": [
    {
     "data": {
      "text/plain": [
       "(82,)"
      ]
     },
     "execution_count": 70,
     "metadata": {},
     "output_type": "execute_result"
    }
   ],
   "source": [
    "size(d)"
   ]
  },
  {
   "cell_type": "code",
   "execution_count": 71,
   "metadata": {},
   "outputs": [
    {
     "data": {
      "image/png": "[encoded data removed]",
      "text/plain": [
       "Figure(PyObject <Figure size 640x480 with 1 Axes>)"
      ]
     },
     "metadata": {},
     "output_type": "display_data"
    },
    {
     "data": {
      "text/plain": [
       "PyObject <matplotlib.legend.Legend object at 0x000001F5CF2088F0>"
      ]
     },
     "execution_count": 71,
     "metadata": {},
     "output_type": "execute_result"
    }
   ],
   "source": [
    "plot(trange, u)\n",
    "plot(trange, u_opt, label=\"optimal\");\n",
    "legend()"
   ]
  },
  {
   "cell_type": "code",
   "execution_count": 72,
   "metadata": {},
   "outputs": [
    {
     "data": {
      "text/plain": [
       "minimum_variance_model3 (generic function with 1 method)"
      ]
     },
     "execution_count": 72,
     "metadata": {},
     "output_type": "execute_result"
    }
   ],
   "source": [
    "function minimum_variance_model3(Ac, Bc, u, x0, xf, tf, tp, dt)\n",
    "    dims = size(x0)[1]\n",
    "    ntf = round(Int, tf/dt)\n",
    "    ntp = round(Int, tp/dt)\n",
    "    nt = ntf + ntp # total time steps    \n",
    "    \n",
    "    A = I(dims) + Ac * dt\n",
    "    B = Bc*dt\n",
    "    \n",
    "    # 制御信号を二次計画法で計算 (forward solution)\n",
    "    x = zeros(dims, nt);\n",
    "    x[:,1] = x0;\n",
    "    Σ = zeros(dims, dims, nt);\n",
    "    Σ[:, :, 1] = B * u[1]^2 * B'\n",
    "    for t=1:nt-1\n",
    "        x[:,t+1] = A*x[:, t] + B*u[t] # update\n",
    "        Σ[:, :, t+1] = A * Σ[:, :, t] * A' + B * u[t]^2 * B' # variance\n",
    "    end\n",
    "    return x, Σ\n",
    "end"
   ]
  },
  {
   "cell_type": "code",
   "execution_count": 73,
   "metadata": {},
   "outputs": [],
   "source": [
    "x, Σ =  minimum_variance_model3(Ac, Bc, u, x0, xf, tf, tp, dt);"
   ]
  },
  {
   "cell_type": "code",
   "execution_count": 74,
   "metadata": {},
   "outputs": [
    {
     "data": {
      "text/plain": [
       "90"
      ]
     },
     "execution_count": 74,
     "metadata": {},
     "output_type": "execute_result"
    }
   ],
   "source": [
    "dims = size(x0)[1]\n",
    "ntf = round(Int, tf/dt)\n",
    "ntp = round(Int, tp/dt)\n",
    "nt = ntf + ntp # total time steps   "
   ]
  },
  {
   "cell_type": "code",
   "execution_count": 75,
   "metadata": {},
   "outputs": [
    {
     "data": {
      "text/plain": [
       "40"
      ]
     },
     "execution_count": 75,
     "metadata": {},
     "output_type": "execute_result"
    }
   ],
   "source": [
    "ntp"
   ]
  },
  {
   "cell_type": "code",
   "execution_count": 76,
   "metadata": {},
   "outputs": [
    {
     "data": {
      "image/png": "[encoded data removed]",
      "text/plain": [
       "Figure(PyObject <Figure size 640x480 with 1 Axes>)"
      ]
     },
     "metadata": {},
     "output_type": "display_data"
    }
   ],
   "source": [
    "plot(trange, Σ[1,1,:]);\n",
    "plot(trange, Σ_opt[1,1,:]);"
   ]
  },
  {
   "cell_type": "code",
   "execution_count": 77,
   "metadata": {},
   "outputs": [
    {
     "data": {
      "text/plain": [
       "116.3944456907929"
      ]
     },
     "execution_count": 77,
     "metadata": {},
     "output_type": "execute_result"
    }
   ],
   "source": [
    "sum(Σ[1,1, ntf+1:end])"
   ]
  },
  {
   "cell_type": "code",
   "execution_count": 78,
   "metadata": {},
   "outputs": [
    {
     "data": {
      "text/plain": [
       "12139.399362142318"
      ]
     },
     "execution_count": 78,
     "metadata": {},
     "output_type": "execute_result"
    }
   ],
   "source": [
    "sum(Σ[2,2, ntf:end])"
   ]
  },
  {
   "cell_type": "code",
   "execution_count": 79,
   "metadata": {},
   "outputs": [
    {
     "data": {
      "text/plain": [
       "116.51677978865425"
      ]
     },
     "execution_count": 79,
     "metadata": {},
     "output_type": "execute_result"
    }
   ],
   "source": [
    "sum(Σ_opt[1,1, ntf+1:end])"
   ]
  },
  {
   "cell_type": "code",
   "execution_count": 61,
   "metadata": {},
   "outputs": [
    {
     "data": {
      "text/plain": [
       "46817.79140112046"
      ]
     },
     "execution_count": 61,
     "metadata": {},
     "output_type": "execute_result"
    }
   ],
   "source": [
    "sum(Σ_opt[2,2, ntf:end])"
   ]
  },
  {
   "cell_type": "code",
   "execution_count": 62,
   "metadata": {},
   "outputs": [
    {
     "data": {
      "text/plain": [
       "3.406797804633017e-5"
      ]
     },
     "execution_count": 62,
     "metadata": {},
     "output_type": "execute_result"
    }
   ],
   "source": [
    "sum((x[1, ntf:end] .- 10) .^2)"
   ]
  },
  {
   "cell_type": "code",
   "execution_count": 63,
   "metadata": {},
   "outputs": [
    {
     "data": {
      "text/plain": [
       "7.261172528806294e-5"
      ]
     },
     "execution_count": 63,
     "metadata": {},
     "output_type": "execute_result"
    }
   ],
   "source": [
    "sum((x_opt[1, ntf:end] .- 10) .^2)"
   ]
  },
  {
   "cell_type": "code",
   "execution_count": 28,
   "metadata": {},
   "outputs": [
    {
     "data": {
      "text/plain": [
       "0.0008255702338574076"
      ]
     },
     "execution_count": 28,
     "metadata": {},
     "output_type": "execute_result"
    }
   ],
   "source": [
    "sum((x[1, ntf:end] .- 10) .^2)"
   ]
  },
  {
   "cell_type": "code",
   "execution_count": 29,
   "metadata": {},
   "outputs": [
    {
     "data": {
      "image/png": "[encoded data removed]",
      "text/plain": [
       "Figure(PyObject <Figure size 640x480 with 1 Axes>)"
      ]
     },
     "metadata": {},
     "output_type": "display_data"
    },
    {
     "data": {
      "text/plain": [
       "1-element Vector{PyCall.PyObject}:\n",
       " PyObject <matplotlib.lines.Line2D object at 0x000001F5CCFB9BB0>"
      ]
     },
     "execution_count": 29,
     "metadata": {},
     "output_type": "execute_result"
    }
   ],
   "source": [
    "plot(trange, x[1, :])\n",
    "plot(trange, x_opt[1, :], label=\"2nd order\")"
   ]
  },
  {
   "cell_type": "code",
   "execution_count": null,
   "metadata": {},
   "outputs": [],
   "source": []
  },
  {
   "cell_type": "markdown",
   "metadata": {},
   "source": [
    "## 参考文献\n",
    "```{bibliography}\n",
    ":filter: docname in docnames\n",
    "```"
   ]
  }
 ],
 "metadata": {
  "kernelspec": {
   "display_name": "Julia 1.10.4",
   "language": "julia",
   "name": "julia-1.10"
  },
  "language_info": {
   "file_extension": ".jl",
   "mimetype": "application/julia",
   "name": "julia",
   "version": "1.10.4"
  }
 },
 "nbformat": 4,
 "nbformat_minor": 4
}
