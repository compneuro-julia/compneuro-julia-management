{
 "cells": [
  {
   "cell_type": "markdown",
   "metadata": {},
   "source": [
    "# 終点誤差分散最小モデル\n",
    "HarrisおよびWolpertは制御信号の大きさに従い，ノイズが生じるモデルを提案した．さらにこのモデルにおいて，状態の分散が可能な限り小さくなるような制御信号を求めた．これを**終点誤差分散最小モデル** (minimum-variance model; {cite:p}`Harris1998-gj`)と呼ぶ．\n",
    "\n",
    "\n",
    "終点誤差分散最小モデルは状態$\\mathbf{x}_t\\in \\mathbb{R}^n$, 制御信号$\\mathbf{u}_t \\in \\mathbb{R}^p$とし，$\\mathbf{A}\\in \\mathbb{R}^{n\\times n}$, $\\mathbf{B}\\in \\mathbb{R}^{n \\times p}$とすると，\n",
    "\n",
    "$$\n",
    "\\begin{equation}\n",
    "\\mathbf{x}_{t+1} = \\mathbf{A} \\mathbf{x}_t + \\mathbf{B}\\mathbf{u}_t (1+\\xi_t)\n",
    "\\end{equation}\n",
    "$$\n",
    "\n",
    "と表せる．ただし，$\\xi_t \\sim \\mathcal{N}(0, k)\\ (k>0)$ である．このため，$\\mathbf{u}_t (1+\\xi_t)$ の平均は $\\mathbf{u}_t$, 分散共分散行列は $k\\mathbf{u}_t \\mathbf{u}_t^\\top$ となる．\n",
    "$\\mathbf{x}_t$ を $x_{t'}\\ (t'=0, \\ldots, t-1)$ で表すと，\n",
    "\n",
    "$$\n",
    "\\begin{align}\n",
    "\\mathbf{x}_{t} &= \\mathbf{A} \\mathbf{x}_{t-1} + \\mathbf{B}\\mathbf{u}_{t-1} (1+\\xi_{t-1})\\\\\n",
    "&=\\mathbf{A}^2 \\mathbf{x}_{t-2} + \\mathbf{A}\\mathbf{B}\\mathbf{u}_{t-2} (1+\\xi_{t-2})) + \\mathbf{B}\\mathbf{u}_{t-1} (1+\\xi_{t-1})\\\\\n",
    "&=\\cdots\\\\\n",
    "&=\\mathbf{A}^t \\mathbf{x}_{0} + \\sum_{t'=0}^{t-1} \\mathbf{A}^{t-t'-1}\\mathbf{B}\\mathbf{u}_{t'} (1+\\xi_{t'})\\\\\n",
    "\\end{align}\n",
    "$$\n",
    "\n",
    "となるので，$\\mathbf{x}_t$ の平均と分散共分散行列はそれぞれ，\n",
    "\n",
    "$$\n",
    "\\begin{align}\n",
    "\\mathbb{E}\\left[\\mathbf{x}_{t}\\right]&=\\mathbf{A}^{t} \\mathbf{x}_{0}+\\sum_{t'=0}^{t-1} \\mathbf{A}^{t-t'-1} \\mathbf{B} \\mathbf{u}_{t'}\\\\\n",
    "\\operatorname{Cov}\\left[\\mathbf{x}_{t}\\right]&=k\\sum_{t'=0}^{t-1}\\left(\\mathbf{A}^{t-t'-1} \\mathbf{B}\\right) \\mathbf{u}_{t'} \\mathbf{u}_{t'}^\\top \\left(\\mathbf{A}^{t-t'-1} \\mathbf{B}\\right)^{\\top}\n",
    "\\end{align}\n",
    "$$\n",
    "\n",
    "となる．状態の平均と分散共分散行列は $\\{\\mathbf{u}_t\\}$ が与えられている場合には，$\\mathbb{E}\\left[\\mathbf{x}_{0}\\right]=\\mathbf{x}_0, \\operatorname{Cov}\\left[\\mathbf{x}_{0}\\right]=\\mathbf{0}\\in\\mathbb{R}^{n\\times n}$ として，\n",
    "\n",
    "$$\n",
    "\\begin{align}\n",
    "\\mathbb{E}\\left[\\mathbf{x}_{t}\\right] &=\\mathbf{A}\\mathbb{E}\\left[\\mathbf{x}_{t-1}\\right] + \\mathbf{B} \\mathbf{u}_{t-1}\\\\\n",
    "\\operatorname{Cov}\\left[\\mathbf{x}_{t}\\right]&=\\mathbf{A}\\operatorname{Cov}\\left[\\mathbf{x}_{t-1}\\right]\\mathbf{A}^\\top + k\\mathbf{B} \\mathbf{u}_{t-1} \\mathbf{u}_{t-1}^\\top \\mathbf{B}^\\top\n",
    "\\end{align}\n",
    "$$\n",
    "\n",
    "と逐次的に計算が可能である．\n",
    "\n",
    "ここで，初期状態を$\\mathbf{x}_0$, 目標状態を $\\mathbf{x}_f$ とする．また，運動時間を $T$, 運動後時間 (post-movement time) を $T_p$ とする（1試行にかかる時間は$T + T_p$となる）．運動後の停留期間である時刻 $T+1\\leq t \\leq T+T_p$ において，状態の平均が目標状態と一致する，すなわち\n",
    "\n",
    "$$\n",
    "\\mathbb{E}\\left[\\mathbf{x}_{t}\\right] = \\mathbf{x}_f\\quad (T+1\\leq t \\leq T+T_p)\n",
    "$$\n",
    "\n",
    "を満たし，位置の分散\n",
    "\n",
    "$$\n",
    "\\mathcal{F}=\\sum_{i\\in \\mathrm{Pos.}}\\left[\\sum_{t=T+1}^{T+T_p} \\operatorname{Cov}\\left[\\mathbf{x}_{t}\\right]\\right]_{i, i}\n",
    "$$\n",
    "\n",
    "を最小にするような制御信号 $\\mathbf{u}_t$ を求める．ただし，$\\mathrm{Pos.}$ は状態 $\\mathbf{x}_t$ の中で位置を表す次元の番号 (インデックス) の集合を意味し，$(\\cdot)_{i,i}$は行列の$(i,i)$成分を取り出す操作を意味する．この最適化問題を（躍度最小モデルの際にも用いた）等式制約下の二次計画問題で解くことを考える．簡単のため，$p=1$ の場合を考慮すると，$\\mathbf{u}_t \\to u_{t} \\in \\mathbb{R}$ となる．状態信号の時系列をベクトル化し，$\\mathbf{u}=[u_t]_{t=0, \\ldots, T+T_p-1} \\in \\mathbf{R}^{T+T_p}$ とする．また，後の結果に影響しないため，$k=1$ とする．さらに位置のインデックスを$\\mathrm{Pos.}=\\{1\\}$のみとする．二次計画問題で解くには，目的関数と等式制約をそれぞれ\n",
    "\n",
    "$$\n",
    "\\begin{align}\n",
    "&{\\text{Minimize}}\\quad {\\frac {1}{2}}\\mathbf{u}^\\top \\mathbf{P}\\mathbf{u} +\\mathbf{q} ^{\\top}\\mathbf{u}\\\\\n",
    "&{\\text{subject to}}\\quad \\mathbf{C}\\mathbf{u} =\\mathbf{d}\n",
    "\\end{align}\n",
    "$$\n",
    "\n",
    "の形にする必要がある．ただし，$\\mathbf{P}, \\mathbf{C}$は行列，$\\mathbf{q}, \\mathbf{d}$ はベクトルである．この形になるように式変形すると，目的関数 $\\mathcal{F}$ は\n",
    "\n",
    "\n",
    "\n",
    "$$\n",
    "\\begin{align}\n",
    "\\mathcal{F}=\\left[\\sum_{t=T+1}^{T+T_p} \\operatorname{Cov}\\left[\\mathbf{x}_{t}\\right]\\right]_{1,1}\n",
    "&=\\left[\\sum_{t=T+1}^{T+T_p}\\sum_{t'=0}^{t-1}u_{t'}^2\\left(\\mathbf{A}^{t-t'-1} \\mathbf{B}\\right) \\left(\\mathbf{A}^{t-t'-1} \\mathbf{B}\\right)^{\\top}\\right]_{1,1}\\\\\n",
    "&=\\sum_{t=0}^{T+T_p-1} u_{t}^2 \\sum_{t'=\\max(t, T)+1}^{T+T_p} \\left[\\left(\\mathbf{A}^{t' -t-1} \\mathbf{B}\\right)\\left(\\mathbf{A}^{t'-t-1} \\mathbf{B}\\right)^{\\top} \\right]_{1,1}\n",
    "\\end{align}\n",
    "$$\n",
    "\n",
    "と書ける．$V_t:=\\sum_{t'=\\max(t, T)+1}^{T+T_p} \\left[\\left(\\mathbf{A}^{t' -t-1} \\mathbf{B}\\right)\\left(\\mathbf{A}^{t'-t-1} \\mathbf{B}\\right)^{\\top} \\right]_{1,1}$ とすると，$\\mathbf{P}=\\mathrm{diag}(V_0, \\ldots, V_{T+T_p-1})\\in \\mathbf{R}^{(T+T_p)\\times (T+T_p)}$ および $\\mathbf{q}=\\mathbf{0} \\in \\mathbf{R}^{T+T_p}$となり，$\\mathcal{F}=\\mathbf{u}^\\top \\mathbf{P}\\mathbf{u}+\\mathbf{q} ^{\\top}\\mathbf{u}$と書ける (第2項は無視できるので，第1項の係数は結果に影響しない)．\n",
    "\n",
    "次に等式制約を求める．$\\mathbb{E}\\left[\\mathbf{x}_{t}\\right] = \\mathbf{x}_f\\quad (T+1\\leq t \\leq T+T_p)$を変形すると，\n",
    "\n",
    "$$\n",
    "\\begin{equation}\n",
    "\\sum_{t'=0}^{t-1} \\mathbf{A}^{t-t'-1} \\mathbf{B} u_{t'}=\\mathbf{x}_f-\\mathbf{A}^{t} \\mathbf{x}_{0}\n",
    "\\end{equation}\n",
    "$$\n",
    "\n",
    "となるので，\n",
    "\n",
    "$$\n",
    "\\begin{equation}\n",
    "\\mathbf{C}_{(t-T-1)n:(t-T)n,t'}=\n",
    "\\begin{cases}\n",
    "    \\mathbf{A}^{t-t'-1} \\mathbf{B} & (0\\leq t'\\leq t-1) \\\\\n",
    "    \\mathbf{0} & (t\\leq t'\\leq T+T_p-1)\n",
    "\\end{cases}\\in \\mathbb{R}^n \n",
    "\\end{equation}\n",
    "$$\n",
    "\n",
    "および，\n",
    "\n",
    "$$\n",
    "\\begin{equation}\n",
    "\\mathbf{d}_{(t-T-1)n:(t-T)n}=\\mathbf{x}_f-\\mathbf{A}^{t} \\mathbf{x}_{0} \\in \\mathbb{R}^n \n",
    "\\end{equation}\n",
    "$$\n",
    "\n",
    "とすることで，等式制約が書き下せる．ただし，$(\\cdot)_{i:j}$ はベクトルあるいは行列の $i$ 番目から $j$ 番目までを取り出す操作を意味する．こうして，$\\mathbf{P}, \\mathbf{q}, \\mathbf{C}, \\mathbf{d}$ が求まったので，等式制約下の二次計画問題を用いて $\\mathbf{u}$ を求める．"
   ]
  },
  {
   "cell_type": "markdown",
   "metadata": {},
   "source": [
    "## 終点誤差分散最小モデルの実装"
   ]
  },
  {
   "cell_type": "code",
   "execution_count": 1,
   "metadata": {},
   "outputs": [],
   "source": [
    "using LinearAlgebra, Random, PyPlot\n",
    "rc(\"axes.spines\", top=false, right=false)"
   ]
  },
  {
   "cell_type": "code",
   "execution_count": 2,
   "metadata": {},
   "outputs": [],
   "source": [
    "# Equality Constrained Quadratic Programming\n",
    "function solve_quad_prog(P, q, A, b)\n",
    "    \"\"\"\n",
    "    minimize   : 1/2 * x'*P*x + q'*x\n",
    "    subject to : A*x = b\n",
    "    \"\"\"\n",
    "    K = [P A'; A zeros(size(A)[1], size(A)[1])] # KKT matrix\n",
    "    sol = K \\ [-q; b]\n",
    "    return sol[1:size(A)[2]]\n",
    "end;"
   ]
  },
  {
   "cell_type": "code",
   "execution_count": 7,
   "metadata": {},
   "outputs": [
    {
     "data": {
      "text/plain": [
       "eye_saccade (generic function with 2 methods)"
      ]
     },
     "execution_count": 7,
     "metadata": {},
     "output_type": "execute_result"
    }
   ],
   "source": [
    "function minimum_variance_model(Ac, Bc, x0, xf, T, Tp, dt)\n",
    "    n = size(x0)[1]\n",
    "    ntm = round(Int, T/dt)\n",
    "    ntp = round(Int, Tp/dt)\n",
    "    nt = ntm + ntp # total time steps    \n",
    "    \n",
    "    A = I(n) + Ac * dt\n",
    "    B = Bc*dt\n",
    "    \n",
    "    # Compute A^p * B and store\n",
    "    Apow_B = zeros(n, nt)\n",
    "    Apow_B[:, 1] = B\n",
    "    for t in 1:nt-1\n",
    "        Apow_B[:, t+1] = A * Apow_B[:, t]\n",
    "    end\n",
    "    \n",
    "    # Compute matrix P for cost function\n",
    "    V = [(Apow_B[:, t] * Apow_B[:, t]')[1, 1] for t in 1:nt]\n",
    "    diagP = [sum([V[tt-t] for tt in max(t, ntm)+1:nt]) for t in 0:nt-1]\n",
    "    diagP /= maximum(diagP) # for numerical stability\n",
    "    P = Diagonal(diagP)\n",
    "    \n",
    "    # Compute matrix C for constraints\n",
    "    C_ = zeros(n, ntp, nt)\n",
    "    for t in 1:ntp\n",
    "        C_[:, t, 1:ntm+t] = Apow_B[:, ntm+t:-1:1]\n",
    "    end\n",
    "    C = reshape(C_, (:, nt))\n",
    "    \n",
    "    # calculation of d\n",
    "    if all(x0 .== 0)\n",
    "        d = repeat(xf, ntp)\n",
    "    else\n",
    "        d = vcat([xf - A^(ntm+t) * x0 for t=1:ntp]...)\n",
    "    end\n",
    "\n",
    "    # 制御信号を二次計画法で計算 (solution by quadratic programming)\n",
    "    u = solve_quad_prog(P, zeros(nt), C, d);\n",
    "    return u, P, C, d\n",
    "end \n",
    "\n",
    "function eye_saccade(u, Ac, Bc, x0, xf, T, Tp, dt)\n",
    "    n = size(x0)[1]\n",
    "    ntm = round(Int, T/dt)\n",
    "    ntp = round(Int, Tp/dt)\n",
    "    nt = ntm + ntp # total time steps    \n",
    "    \n",
    "    A = I(n) + Ac * dt\n",
    "    B = Bc*dt\n",
    "\n",
    "    # 制御信号を二次計画法で計算 (forward solution)\n",
    "    x = zeros(n, nt)\n",
    "    Σ = zeros(n, n, nt)\n",
    "    \n",
    "    x[:,1] = x0\n",
    "    Σ[:, :, 1] .= 0\n",
    "    for t=1:nt-1\n",
    "        x[:,t+1] = A*x[:, t] + B*u[t] # mean\n",
    "        Σ[:, :, t+1] = A * Σ[:, :, t] * A' + B * u[t]^2 * B' # (co-)variance\n",
    "    end\n",
    "    return x, u, Σ\n",
    "end"
   ]
  },
  {
   "cell_type": "code",
   "execution_count": 4,
   "metadata": {},
   "outputs": [
    {
     "data": {
      "text/plain": [
       "2-element Vector{Int64}:\n",
       " 0\n",
       " 1"
      ]
     },
     "execution_count": 4,
     "metadata": {},
     "output_type": "execute_result"
    }
   ],
   "source": [
    "t1 = 224*1e-3 # time const of eye dynamics (s)\n",
    "t2 = 13*1e-3  # another time const of eye dynamics (s)\n",
    "tm = 10*1e-3\n",
    "dt = 1e-3     # simulation time step (s)\n",
    "T = 50*1e-3  # movement duration (s)\n",
    "Tp = 40*1e-3  # post-movement duration (s)\n",
    "nt = round(Int, (T+Tp)/dt) # total time steps\n",
    "trange = (1:nt) * dt * 1e3 # ms\n",
    "\n",
    "# 2nd order\n",
    "x0 = zeros(2) # initial state (pos=0, vel=0)\n",
    "xf = [10, 0]  # final state (pos=10, vel=0)\n",
    "Ac = [0 1; -1/(t1*t2) -1/t1-1/t2];\n",
    "Bc = [0, 1]"
   ]
  },
  {
   "cell_type": "code",
   "execution_count": 6,
   "metadata": {},
   "outputs": [],
   "source": [
    "u_opt, P, C, d = minimum_variance_model(Ac, Bc, x0, xf, T, Tp, dt);"
   ]
  },
  {
   "cell_type": "code",
   "execution_count": 8,
   "metadata": {},
   "outputs": [
    {
     "data": {
      "text/plain": [
       "([0.0 0.0 … 9.999999999999995 9.999999999999995; 0.0 29.5564994213415 … 5.417888360170764e-14 -3.108624468950438e-14], [29556.499421341498, 29377.684182451732, 29196.037926980538, 29011.277484091577, 28823.09451914201, 28631.15292991966, 28435.08592347918, 28234.49272751294, 28028.934882620357, 27817.93205288983  …  3434.0659340659145, 3434.065934065993, 3434.065934065942, 3434.0659340659013, 3434.065934065935, 3434.065934065927, 3434.0659340659563, 3434.065934065922, 3434.065934065851, 3434.0659340659336], [0.0 0.0; 0.0 0.0;;; 0.0 0.0; 0.0 873.5866580437604;;; 0.0008735866580437605 0.8024877439103911; 0.8024877439103911 1600.223710808592;;; … ;;; 2.5791207530659053 -8.593535226833259; -8.593535226833257 110.00328297560277;;; 2.562043685895214 -8.675815648234307; -8.675815648234305 110.34493210631365;;; 2.5448023995308517 -8.745193006830139; -8.745193006830137 110.68313055290164])"
      ]
     },
     "execution_count": 8,
     "metadata": {},
     "output_type": "execute_result"
    }
   ],
   "source": [
    "x_opt, u_opt, Σ_opt = eye_saccade(u_opt, Ac, Bc, x0, xf, T, Tp, dt)"
   ]
  },
  {
   "cell_type": "code",
   "execution_count": 10,
   "metadata": {},
   "outputs": [],
   "source": [
    "u = C \\ d;"
   ]
  },
  {
   "cell_type": "code",
   "execution_count": 11,
   "metadata": {},
   "outputs": [
    {
     "data": {
      "text/plain": [
       "([0.0 0.0 … 9.999999999999998 9.999999999999998; 0.0 27.61862409572814 … 3.9968028886505635e-14 3.6415315207705135e-14], [27618.62409572814, 27658.8845947714, 27692.359814733725, 27718.43884340174, 27736.45965529928, 27745.70485133454, 27745.397043413504, 27734.693854433895, 27712.682501607636, 27678.373928389527  …  3434.065934065943, 3434.0659340659304, 3434.0659340659386, 3434.065934065932, 3434.065934065935, 3434.0659340659395, 3434.0659340659367, 3434.065934065939, 3434.0659340659327, 3434.0659340659386], [0.0 0.0; 0.0 0.0;;; 0.0 0.0; 0.0 762.788396941135;;; 0.0007627883969411352 0.7007070610637144; 0.7007070610637144 1408.692258409244;;; … ;;; 2.573195202595935 -8.722967600625424; -8.722967600625426 110.38775971127083;;; 2.555859655154395 -8.792281356263965; -8.792281356263967 110.75033455607911;;; 2.538385842776423 -8.849643838209728; -8.84964383820973 111.09797979974513])"
      ]
     },
     "execution_count": 11,
     "metadata": {},
     "output_type": "execute_result"
    }
   ],
   "source": [
    "x, _, Σ = eye_saccade(u, Ac, Bc, x0, xf, T, Tp, dt)"
   ]
  },
  {
   "cell_type": "code",
   "execution_count": 13,
   "metadata": {},
   "outputs": [
    {
     "data": {
      "text/plain": [
       "90"
      ]
     },
     "execution_count": 13,
     "metadata": {},
     "output_type": "execute_result"
    }
   ],
   "source": [
    "n = size(x0)[1]\n",
    "ntm = round(Int, T/dt)\n",
    "ntp = round(Int, Tp/dt)\n",
    "nt = ntm + ntp # total time steps   "
   ]
  },
  {
   "cell_type": "code",
   "execution_count": 14,
   "metadata": {},
   "outputs": [
    {
     "data": {
      "text/plain": [
       "109.57770737836614"
      ]
     },
     "execution_count": 14,
     "metadata": {},
     "output_type": "execute_result"
    }
   ],
   "source": [
    "sum(Σ[1,1,ntm+1:end])"
   ]
  },
  {
   "cell_type": "code",
   "execution_count": 15,
   "metadata": {},
   "outputs": [
    {
     "data": {
      "text/plain": [
       "109.23170707291503"
      ]
     },
     "execution_count": 15,
     "metadata": {},
     "output_type": "execute_result"
    }
   ],
   "source": [
    "sum(Σ_opt[1,1,ntm+1:end])"
   ]
  },
  {
   "cell_type": "markdown",
   "metadata": {},
   "source": [
    "結果の描画．"
   ]
  },
  {
   "cell_type": "code",
   "execution_count": 12,
   "metadata": {},
   "outputs": [
    {
     "data": {
      "image/png": "[encoded data removed]",
      "text/plain": [
       "Figure(PyObject <Figure size 600x400 with 4 Axes>)"
      ]
     },
     "metadata": {},
     "output_type": "display_data"
    }
   ],
   "source": [
    "fig, axes = subplots(2, 2, figsize=(6, 4), sharex=true)\n",
    "axf = axes[:]\n",
    "ylabels = [\"Eye position (deg)\", \"Eye velocity (deg/s)\", \"Control signal\", \"Positional Variance\"]\n",
    "axf[1].plot(trange, x_opt[1, :], label=\"opt\"); \n",
    "axf[1].plot(trange, x[1, :], \"--\", label=\"control\"); \n",
    "axf[1].legend()\n",
    "\n",
    "axf[2].plot(trange, x_opt[2, :])\n",
    "axf[2].plot(trange, x[2, :], \"--\"); \n",
    "\n",
    "axf[3].plot(trange, u_opt)\n",
    "axf[3].plot(trange, u, \"--\");\n",
    "axf[3][:ticklabel_format](style=\"sci\",axis=\"y\", useMathText=true, scilimits=(0,0))\n",
    "\n",
    "axf[4].plot(trange, Σ_opt[1,1,:]); \n",
    "axf[4].plot(trange, Σ[1,1,:], \"--\");\n",
    "for i in 1:4\n",
    "    axf[i].set_ylabel(ylabels[i])\n",
    "    axf[i].set_xlim(trange[1], trange[end])\n",
    "    axf[i].grid()\n",
    "    if i % 2 == 0\n",
    "        axf[i].set_xlabel(\"Time (ms)\");\n",
    "    end\n",
    "end\n",
    "fig.align_ylabels()\n",
    "fig.tight_layout()"
   ]
  },
  {
   "cell_type": "markdown",
   "metadata": {},
   "source": [
    "## 参考文献\n",
    "```{bibliography}\n",
    ":filter: docname in docnames\n",
    "```"
   ]
  }
 ],
 "metadata": {
  "kernelspec": {
   "display_name": "Julia 1.10.4",
   "language": "julia",
   "name": "julia-1.10"
  },
  "language_info": {
   "file_extension": ".jl",
   "mimetype": "application/julia",
   "name": "julia",
   "version": "1.10.4"
  }
 },
 "nbformat": 4,
 "nbformat_minor": 4
}
