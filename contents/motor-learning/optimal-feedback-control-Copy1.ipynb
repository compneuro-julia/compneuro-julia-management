{
 "cells": [
  {
   "cell_type": "markdown",
   "metadata": {},
   "source": [
    "# 最適フィードバック制御モデル\n",
    "ToDo: infiniteOFCと数式の統一を行う．\n",
    "\n",
    "## 最適フィードバック制御モデルの構造\n",
    "**最適フィードバック制御モデル (optimal feedback control; OFC)** の特徴として目標軌道を必要としないことが挙げられる．**Kalman フィルタ**による状態推定と**線形2次レギュレーター(LQR: linear-quadratic regurator)** により推定された状態に基づいて運動指令を生成という2つの流れが基本となる．"
   ]
  },
  {
   "cell_type": "markdown",
   "metadata": {},
   "source": [
    "### 系の状態変化\n",
    "\n",
    "$$\n",
    "\\begin{align}\n",
    "&\\text {Dynamics} \\quad \\mathbf{x}_{t+1}=A \\mathbf{x}_{t}+B \\mathbf{u}_{t}+\\boldsymbol{\\xi}_{t}+\\sum_{i=1}^{c} \\varepsilon_{t}^{i} C_{i} \\mathbf{u}_{t}\\\\\n",
    "&\\text {Feedback} \\quad \\mathbf{y}_{t}=H \\mathbf{x}_{t}+\\omega_{t}+\\sum_{i=1}^{d} \\epsilon_{t}^{i} D_{i} \\mathbf{x}_{t}\\\\\n",
    "&\\text{Cost per step}\\quad \\mathbf{x}_{t}^\\top Q_{t} \\mathbf{x}_{t}+\\mathbf{u}_{t}^\\top R \\mathbf{u}_{t}\n",
    "\\end{align}\n",
    "$$\n",
    "\n",
    "### LQG\n",
    "加法ノイズしかない場合($C=D=0$)，制御問題は**線形2次ガウシアン(LQG: linear-quadratic-Gaussian)制御**と呼ばれる．\n",
    "\n",
    "\n",
    "#### 運動制御 (Linear-Quadratic Regulator)\n",
    "\n",
    "$$\n",
    "\\begin{align}\n",
    "\\mathbf{u}_{t}&=-L_{t} \\widehat{\\mathbf{x}}_{t}\\\\\n",
    "L_{t}&=\\left(R+B^{\\top} S_{t+1} B\\right)^{-1} B^{\\top} S_{t+1} A\\\\\n",
    "S_{t}&=Q_{t}+A^{\\top} S_{t+1}\\left(A-B L_{t}\\right)\\\\\n",
    "s_t &= \\mathrm{tr}(S_{t+1}\\Omega^\\xi) + s_{t+1}; s_T=0\n",
    "\\end{align}\n",
    "$$\n",
    "\n",
    "$\\boldsymbol{S}_{T}=Q$\n",
    "\n",
    "#### 状態推定 (Kalman Filter)\n",
    "\n",
    "$$\n",
    "\\begin{align}\n",
    "\\widehat{\\mathbf{x}}_{t+1}&=A \\widehat{\\mathbf{x}}_{t}+B \\mathbf{u}_{t}+K_{t}\\left(\\mathbf{y}_{t}-H \\widehat{\\mathbf{x}}_{t}\\right)+\\boldsymbol{\\eta}_{t} \\\\ \n",
    "K_{t}&=A \\Sigma_{t} H^{\\top}\\left(H \\Sigma_{t} H^{\\top}+\\Omega^{\\omega}\\right)^{-1} \\\\ \n",
    "\\Sigma_{t+1}&=\\Omega^{\\xi}+\\left(A-K_{t} H\\right) \\Sigma_{t} A^{\\top}\n",
    "\\end{align}\n",
    "$$\n",
    "\n",
    "この場合に限り，運動制御と状態推定を独立させることができる．"
   ]
  },
  {
   "cell_type": "markdown",
   "metadata": {},
   "source": [
    "### 一般化LQG\n",
    "状態および制御依存ノイズがある場合，"
   ]
  },
  {
   "cell_type": "markdown",
   "metadata": {},
   "source": [
    "## 実装\n",
    "ライブラリの読み込みと関数の定義．"
   ]
  },
  {
   "cell_type": "code",
   "execution_count": 1,
   "metadata": {},
   "outputs": [],
   "source": [
    "using Base: @kwdef\n",
    "using Parameters: @unpack\n",
    "using LinearAlgebra, Kronecker, Random, ToeplitzMatrices, BlockDiagonals, PyPlot\n",
    "rc(\"axes.spines\", top=false, right=false)\n",
    "rc(\"font\", family=\"Arial\") "
   ]
  },
  {
   "cell_type": "code",
   "execution_count": null,
   "metadata": {},
   "outputs": [],
   "source": []
  },
  {
   "cell_type": "code",
   "execution_count": 2,
   "metadata": {},
   "outputs": [
    {
     "data": {
      "text/plain": [
       "Reaching2DModelCostParameter"
      ]
     },
     "execution_count": 2,
     "metadata": {},
     "output_type": "execute_result"
    }
   ],
   "source": [
    "@kwdef struct Reaching2DModelParameter\n",
    "    v = 1e-4\n",
    "    #force = 2e-3\n",
    "    #delay = 5\n",
    "    dt = 1.0  # 10 msec\n",
    "    n = 6\n",
    "    p = 6\n",
    "    A = TriangularToeplitz([1.0, 0, dt, 0, 0, 0], :U)\n",
    "    B = [zeros(4, 2); I*dt]\n",
    "    C = I(n)\n",
    "    D = v * diagm([1, 1, .1, .1, .01, .01])\n",
    "    G = D\n",
    "    # V to D, W to G\n",
    "end\n",
    "\n",
    "@kwdef struct Reaching2DModelCostParameter\n",
    "    n = 6\n",
    "    T = 111\n",
    "    dt = 1\n",
    "    q = 200\n",
    "    nt = round(Int, T/dt) # num time steps\n",
    "    Q = 1e-5 * diagm([1, 1, q, q, 0, 0])\n",
    "    R = I(2)\n",
    "    i = 1\n",
    "    alpha = i*pi/4\n",
    "    init_pos = 10 * [cos(alpha), sin(alpha)]\n",
    "    x₁ = [init_pos; zeros(n-2)]  # [cm]\n",
    "    Σ₁ = zeros(n, n)\n",
    "end"
   ]
  },
  {
   "cell_type": "code",
   "execution_count": 47,
   "metadata": {},
   "outputs": [
    {
     "data": {
      "text/plain": [
       "LQG (generic function with 1 method)"
      ]
     },
     "execution_count": 47,
     "metadata": {},
     "output_type": "execute_result"
    }
   ],
   "source": [
    "function LQG(param, cost_param; discrete=false)\n",
    "    (;n, p, A, B, C, D, G) = param\n",
    "    (;Q, R, x₁, Σ₁, dt, nt) = cost_param\n",
    "    \n",
    "    L = zeros(nt-1, n, 2) # Feedback gains\n",
    "    K = zeros(nt-1, n, p) # Kalman gains\n",
    "    S = Q # S_T = Q\n",
    "    #S = copy(Q[end, :, :]) # S_T = Q\n",
    "    Σ = copy(Σ₁);\n",
    "    \n",
    "    for t in 1:nt-1\n",
    "        K[t, :, :] = A * Σ * C' / (C * Σ * C' + D) # update K\n",
    "        Σ = G + (A - K[t, :, :] * C) * Σ * A'      # update Σ\n",
    "    end　\n",
    "    \n",
    "    cost = 0\n",
    "    for t in nt-1:-1:1\n",
    "        cost += tr(S * G)\n",
    "        L[t, :, :] = ((R + B' * S * B) \\ B' * S * A)' # update L\n",
    "        S = Q + A' * S * (A - B * L[t, :, :]')     # update S\n",
    "    end\n",
    "    \n",
    "    # adjust cost\n",
    "    cost += x₁' * S * x₁\n",
    "    return L, K, cost\n",
    "end"
   ]
  },
  {
   "cell_type": "code",
   "execution_count": 48,
   "metadata": {},
   "outputs": [],
   "source": [
    "param = Reaching2DModelParameter()\n",
    "cost_param = Reaching2DModelCostParameter();"
   ]
  },
  {
   "cell_type": "code",
   "execution_count": 50,
   "metadata": {},
   "outputs": [],
   "source": [
    "L, K, cost = LQG(param, cost_param);"
   ]
  },
  {
   "cell_type": "code",
   "execution_count": 55,
   "metadata": {},
   "outputs": [
    {
     "ename": "LoadError",
     "evalue": "UndefVarError: `X` not defined",
     "output_type": "error",
     "traceback": [
      "UndefVarError: `X` not defined",
      "",
      "Stacktrace:",
      " [1] top-level scope",
      "   @ In[55]:14"
     ]
    }
   ],
   "source": [
    "function simulation(param, cost_param, \n",
    "                    L, K; noisy=false)\n",
    "    @unpack n, p, A, B, C, D, G = param\n",
    "    @unpack Q, R, x₁, dt, nt = cost_param\n",
    "    \n",
    "    X = zeros(n, nt)\n",
    "    u = zeros(nt)\n",
    "    X[:, 1] = x₁ # m; initial position (target position is zero)\n",
    "\n",
    "    for t in 1:nt-1\n",
    "        u[t] = -L[t, :]' * X[:, t]\n",
    "        X[:, t+1] = X[:, t] + (A * X[:, t] + B * u[t]) * dt\n",
    "    end\n",
    "    return X, u\n",
    "end"
   ]
  },
  {
   "cell_type": "code",
   "execution_count": 76,
   "metadata": {},
   "outputs": [
    {
     "data": {
      "text/plain": [
       "6-element Vector{Float64}:\n",
       " 7.0710678118654755\n",
       " 7.071067811865475\n",
       " 0.0\n",
       " 0.0\n",
       " 0.0\n",
       " 0.0"
      ]
     },
     "execution_count": 76,
     "metadata": {},
     "output_type": "execute_result"
    }
   ],
   "source": [
    "(;n, p, A, B, C, D, G) = param\n",
    "(;Q, R, x₁, Σ₁, dt, nt) = cost_param\n",
    "\n",
    "X = zeros(n, nt)\n",
    "u = zeros(nt, 2)\n",
    "X[:, 1] = x₁ # m; initial position (target position is zero)"
   ]
  },
  {
   "cell_type": "code",
   "execution_count": 77,
   "metadata": {},
   "outputs": [
    {
     "data": {
      "text/plain": [
       "6×2 Matrix{Float64}:\n",
       "  0.000726389  4.5864e-21\n",
       " -2.3877e-19   0.000726389\n",
       "  0.0436708    6.53831e-18\n",
       " -4.85091e-18  0.0436708\n",
       "  0.291503     2.64486e-17\n",
       " -1.09514e-17  0.291503"
      ]
     },
     "execution_count": 77,
     "metadata": {},
     "output_type": "execute_result"
    }
   ],
   "source": [
    "L[100, :, :]"
   ]
  },
  {
   "cell_type": "code",
   "execution_count": 69,
   "metadata": {},
   "outputs": [],
   "source": [
    "for t in 1:nt-1\n",
    "    u[t, :] = -L[t, :, :]' * X[:, t]\n",
    "    X[:, t+1] = X[:, t] + (A * X[:, t] + B * u[t, :]) * dt\n",
    "end"
   ]
  },
  {
   "cell_type": "code",
   "execution_count": 70,
   "metadata": {},
   "outputs": [
    {
     "data": {
      "text/plain": [
       "111×2 Matrix{Float64}:\n",
       " -1.86538e-5   -1.86538e-5\n",
       " -3.05897e-5   -3.05897e-5\n",
       " -4.90677e-5   -4.90677e-5\n",
       " -7.64288e-5   -7.64288e-5\n",
       " -0.000114202  -0.000114202\n",
       " -0.000160038  -0.000160038\n",
       " -0.000200086  -0.000200086\n",
       " -0.000191352  -0.000191352\n",
       " -2.27881e-5   -2.27881e-5\n",
       "  0.000567863   0.000567863\n",
       "  0.00216751    0.00216751\n",
       "  0.00604271    0.00604271\n",
       "  0.0148551     0.0148551\n",
       "  ⋮            \n",
       "  1.00968e22    1.00968e22\n",
       "  4.54048e22    4.54048e22\n",
       "  1.39937e23    1.39937e23\n",
       "  3.62198e23    3.62198e23\n",
       "  8.23054e23    8.23054e23\n",
       "  1.65389e24    1.65389e24\n",
       "  2.91381e24    2.91381e24\n",
       "  4.38772e24    4.38772e24\n",
       "  5.28772e24    5.28772e24\n",
       "  4.12232e24    4.12232e24\n",
       "  0.0           0.0\n",
       "  0.0           0.0"
      ]
     },
     "execution_count": 70,
     "metadata": {},
     "output_type": "execute_result"
    }
   ],
   "source": [
    "u"
   ]
  },
  {
   "cell_type": "code",
   "execution_count": 62,
   "metadata": {},
   "outputs": [
    {
     "data": {
      "text/plain": [
       "6×2 Matrix{Float64}:\n",
       " 0.00263805   -8.34955e-18\n",
       " 1.34555e-17   0.00263805\n",
       " 0.0587101    -3.75113e-17\n",
       " 1.02963e-16   0.0587101\n",
       " 0.360139      3.44156e-17\n",
       " 6.68061e-17   0.360139"
      ]
     },
     "execution_count": 62,
     "metadata": {},
     "output_type": "execute_result"
    }
   ],
   "source": [
    "L[1, :, :]"
   ]
  },
  {
   "cell_type": "code",
   "execution_count": 54,
   "metadata": {},
   "outputs": [
    {
     "ename": "LoadError",
     "evalue": "BoundsError: attempt to access 110×6×2 Array{Float64, 3} at index [1, 1:6]",
     "output_type": "error",
     "traceback": [
      "BoundsError: attempt to access 110×6×2 Array{Float64, 3} at index [1, 1:6]",
      "",
      "Stacktrace:",
      " [1] throw_boundserror(A::Array{Float64, 3}, I::Tuple{Int64, Base.Slice{Base.OneTo{Int64}}})",
      "   @ Base .\\abstractarray.jl:737",
      " [2] checkbounds(::Array{Float64, 3}, ::Int64, ::Base.Slice{Base.OneTo{Int64}})",
      "   @ Base .\\abstractarray.jl:702",
      " [3] _getindex(::IndexLinear, ::Array{Float64, 3}, ::Int64, ::Base.Slice{Base.OneTo{Int64}}, ::Vararg{Base.Slice{Base.OneTo{Int64}}})",
      "   @ Base .\\multidimensional.jl:888",
      " [4] getindex",
      "   @ .\\abstractarray.jl:1291 [inlined]",
      " [5] simulation(param::Reaching2DModelParameter, cost_param::Reaching2DModelCostParameter, L::Array{Float64, 3}, K::Array{Float64, 3}; noisy::Bool)",
      "   @ Main .\\In[53]:22",
      " [6] simulation(param::Reaching2DModelParameter, cost_param::Reaching2DModelCostParameter, L::Array{Float64, 3}, K::Array{Float64, 3})",
      "   @ Main .\\In[53]:1",
      " [7] top-level scope",
      "   @ In[54]:1"
     ]
    }
   ],
   "source": [
    "X, u = simulation(param, cost_param, \n",
    "                    L, K)"
   ]
  },
  {
   "cell_type": "markdown",
   "metadata": {},
   "source": [
    "ToDo: struct 修正（nが両方に入っている）"
   ]
  },
  {
   "cell_type": "code",
   "execution_count": null,
   "metadata": {},
   "outputs": [],
   "source": [
    "@kwdef struct Reaching1DModelParameter\n",
    "    n = 4 # number of dims\n",
    "    p = 3 # \n",
    "    i = 0.25 # kgm^2, \n",
    "    b = 0.2 # kgm^2/s\n",
    "    ta = 0.03 # s\n",
    "    te = 0.04 # s\n",
    "    L0 = 0.35 # m\n",
    "\n",
    "    bu = 1 / (ta * te * i)\n",
    "    α1 = bu * b\n",
    "    α2 = 1/(ta * te) + (1/ta + 1/te) * b/i\n",
    "    α3 = b/i + 1/ta + 1/te\n",
    "\n",
    "    A = [zeros(p) I(p); -[0, α1, α2, α3]']\n",
    "    B = [zeros(p); bu]\n",
    "    C = [I(p) zeros(p)]\n",
    "    D = Diagonal([1e-3, 1e-2, 5e-2])\n",
    "\n",
    "    Y = 0.02 * B\n",
    "    G = 0.03 * I(n)\n",
    "end\n",
    "\n",
    "@kwdef struct Reaching1DModelCostParameter\n",
    "    n = 4\n",
    "    dt = 1e-2 # sec\n",
    "    T = 0.5 # sec\n",
    "    nt = round(Int, T/dt) # num time steps\n",
    "    Q = [zeros(nt-1, n, n); reshape(Diagonal([1.0, 0.1, 1e-3, 1e-4]), (1, n, n))]\n",
    "    R = 1e-4 / nt\n",
    "    \n",
    "    init_pos = -0.5\n",
    "    x₁ = [init_pos; zeros(n-1)]#zeros(n)\n",
    "    Σ₁ = zeros(n, n)\n",
    "end"
   ]
  },
  {
   "cell_type": "markdown",
   "metadata": {},
   "source": [
    "Qの値は各時刻において一般座標 (位置，速度，加速度，躍度)のそれぞれを0にするコストに対する重みづけである．例えば，速度も0にすることを重視すれば2番目の係数を上げる．"
   ]
  },
  {
   "cell_type": "markdown",
   "metadata": {},
   "source": [
    "$S$と$\\Sigma$は各時点での値を一時的にしか必要としないので更新する．"
   ]
  },
  {
   "cell_type": "code",
   "execution_count": null,
   "metadata": {},
   "outputs": [],
   "source": [
    "#function LQG(param::Reaching1DModelParameter, cost_param::Reaching1DModelCostParameter; discrete=true)\n",
    "function LQG(param, cost_param; discrete=true)\n",
    "    @unpack n, p, A, B, C, D, G = param\n",
    "    @unpack Q, R, x₁, Σ₁, dt, nt = cost_param\n",
    "\n",
    "    if discrete\n",
    "        A = I + A * dt\n",
    "        B = B * dt\n",
    "        C = C * dt\n",
    "        D = sqrt(dt) * D\n",
    "        G = sqrt(dt) * G\n",
    "    end\n",
    "    \n",
    "    L = zeros(nt-1, n) # Feedback gains\n",
    "    K = zeros(nt-1, n, p) # Kalman gains\n",
    "    S = copy(Q[end, :, :]) # S_T = Q\n",
    "    Σ = copy(Σ₁);\n",
    "\n",
    "    for t in 1:nt-1\n",
    "        K[t, :, :] = A * Σ * C' / (C * Σ * C' + D) # update K\n",
    "        Σ = G + (A - K[t, :, :] * C) * Σ * A'      # update Σ\n",
    "    end　\n",
    "\n",
    "    cost = 0\n",
    "    for t in nt-1:-1:1\n",
    "        cost += tr(S * G)\n",
    "        L[t, :] = (R + B' * S * B) \\ B' * S * A # update L\n",
    "        S = Q[t, :, :] + A' * S * (A - B * L[t, :]')     # update S\n",
    "    end\n",
    "    \n",
    "    # adjust cost\n",
    "    cost += x₁' * S * x₁\n",
    "    return L, K, cost\n",
    "end"
   ]
  },
  {
   "cell_type": "markdown",
   "metadata": {},
   "source": [
    "### シミュレーション\n",
    "信号依存ノイズ Yが入っている場合はLQGとは異なってくる．\n",
    "\n",
    "$$\n",
    "\\begin{align}\n",
    "&\\mathbf{u}_{t}=-L_{t} \\hat{\\mathbf{x}}_{t} \\\\\n",
    "&L_{t}=\\left(B^\\top S_{t+1}^{\\mathbf{x}} B+R+\\sum_{n} C_{n}^\\top\\left(S_{t+1}^{\\mathbf{x}}+S_{t+1}^{\\mathrm{e}}\\right) C_{n}\\right)^{-1} B^\\top S_{t+1}^{\\mathbf{x}} A \\\\\n",
    "&S_{t}^{\\mathbf{x}}=Q_{t}+A^\\top S_{t+1}^{\\mathbf{x}}\\left(A-B L_{t}\\right) ; \\quad S_{T}^{\\mathbf{x}}=Q_{T} \\\\\n",
    "&S_{t}^{\\mathrm{e}}=A^\\top S_{t+1}^{\\mathbf{x}} B L_t+\\left(A-K_{t} H\\right)^\\top S_{t+1}^{\\mathrm{e}}\\left(A-K_{t} H\\right) ; \\quad S_{T}^{\\mathrm{e}}=0\\\\\n",
    "&s_{t}=\\operatorname{tr}\\left(S_{t+1}^{\\mathrm{x}}\\Omega^{\\xi}+S_{t+1}^{\\mathrm{e}}\\left(\\Omega^{\\xi}+\\Omega^{\\eta}+K_{t} \\Omega^{\\omega} K_{t}^{\\top}\\right)\\right)+s_{t+1} ; \\quad s_{n}=0 .\n",
    "\\end{align}\n",
    "$$\n",
    "\n",
    "$$\n",
    "\\begin{align}\n",
    "\\hat{\\mathbf{x}}_{t+1} &=A \\hat{\\mathbf{x}}_{t}+B \\mathbf{u}_{t}+K_{t}\\left(\\mathbf{y}_{t}-H \\hat{\\mathbf{x}}_{t}\\right) \\\\\n",
    "K_{t} &=A \\Sigma_{t}^{\\mathrm{e}} H^\\top\\left(H \\Sigma_{t}^{\\mathrm{e}} H^\\top+\\Omega^{\\omega}\\right)^{-1} \\\\\n",
    "\\Sigma_{t+1}^{\\mathrm{e}} &=\\left(A-K_{t} H\\right) \\Sigma_{t}^{\\mathrm{e}} A^\\top+\\sum_{n} C_{n} L_{t} \\Sigma_{t}^{\\hat{x}} L_{t}^\\top C_{n}^\\top ; \\quad \\Sigma_{1}^{\\mathrm{e}}=\\Sigma_{1} \\\\\n",
    "\\Sigma_{t+1}^{\\hat{\\mathbf{x}}} &=K_{t} H \\Sigma_{t}^{\\mathrm{e}} A^\\top+\\left(A-B L_{t}\\right) \\Sigma_{t}^{\\hat{\\mathbf{x}}}\\left(A-B L_{t}\\right)^\\top ; \\quad \\Sigma_{1}^{\\hat{\\mathbf{x}}}=\\hat{\\mathbf{x}}_{1} \\hat{\\mathbf{x}}_{1}^\\top\n",
    "\\end{align}\n",
    "$$"
   ]
  },
  {
   "cell_type": "code",
   "execution_count": null,
   "metadata": {},
   "outputs": [],
   "source": [
    "function gLQG(param::Reaching1DModelParameter, cost_param::Reaching1DModelCostParameter, maxiter=200, ϵ=1e-8)\n",
    "    @unpack n, p, A, B, C, D, Y, G = param\n",
    "    @unpack Q, R, x₁, Σ₁, dt, nt = cost_param\n",
    "\n",
    "    A = I + A * dt\n",
    "    B = B * dt\n",
    "    C = C * dt\n",
    "    D = sqrt(dt) * D\n",
    "    G = sqrt(dt) * G\n",
    "    Y = sqrt(dt) * Y\n",
    "    \n",
    "    L = zeros(nt-1, n) # Feedback gains\n",
    "    K = zeros(nt-1, n, p) # Kalman gains\n",
    "    \n",
    "    cost = zeros(maxiter)\n",
    "    for i in 1:maxiter\n",
    "        Sˣ = copy(Q[end, :, :])\n",
    "        Sᵉ = zeros(n, n)\n",
    "        Σˣ̂ = x₁ * x₁' # \\Sigma TAB \\^x TAB \\hat TAB\n",
    "        Σᵉ = copy(Σ₁)\n",
    "        \n",
    "        for t in 1:nt-1\n",
    "            K[t, :, :] = A * Σᵉ * C' / (C * Σᵉ * C' + D)\n",
    "\n",
    "            AmBL = A - B * L[t, :]'\n",
    "            LΣˣ̂L = L[t, :]' * Σˣ̂ * L[t, :]\n",
    "\n",
    "            Σˣ̂ = K[t, :, :] * C * Σᵉ * A' + AmBL * Σˣ̂ * AmBL'\n",
    "            Σᵉ = G + (A - K[t, :, :] * C) * Σᵉ * A' + Y * LΣˣ̂L * Y'\n",
    "        end\n",
    "        \n",
    "        for t in nt-1:-1:1\n",
    "            cost[i] += tr(Sˣ * G + Sᵉ * (G + K[t, :, :] * D * K[t, :, :]'))\n",
    "            \n",
    "            L[t, :] = (R + B' * Sˣ * B + Y' * (Sˣ + Sᵉ) * Y) \\ B' * Sˣ * A\n",
    "\n",
    "            AmKC = A - K[t, :, :] * C\n",
    "            Sᵉ = A' * Sˣ * B * L[t, :]' + AmKC' * Sᵉ * AmKC\n",
    "            Sˣ = Q[t, :, :] + A' * Sˣ * (A - B * L[t, :]')\n",
    "        end\n",
    "        \n",
    "        # adjust cost\n",
    "        cost[i] += x₁' * Sˣ * x₁ + tr((Sˣ + Sᵉ) * Σ₁)\n",
    "        if i > 1 && abs(cost[i] - cost[i-1]) < ϵ\n",
    "            cost = cost[1:i]\n",
    "            break\n",
    "        end\n",
    "    end\n",
    "    return L, K, cost\n",
    "end"
   ]
  },
  {
   "cell_type": "markdown",
   "metadata": {},
   "source": [
    "状態ノイズがある場合に関してはTodorovのMATLABコード <https://homes.cs.washington.edu/~todorov/software/gLQG.zip>を参照．\n",
    "\n",
    "位置は目標位置を基準とする座標で表現し，位置が0になるように運動を行う．状態の中に標的位置を含めコストパラメータを修正することで初期位置を基準とする座標系での運動を記述できる．モデルに関してはTodorov2005を参照．"
   ]
  },
  {
   "cell_type": "code",
   "execution_count": null,
   "metadata": {},
   "outputs": [],
   "source": [
    "function simulation(param::Reaching1DModelParameter, cost_param::Reaching1DModelCostParameter, \n",
    "                    L, K; noisy=false)\n",
    "    @unpack n, p, A, B, C, D, Y, G = param\n",
    "    @unpack Q, R, x₁, dt, nt = cost_param\n",
    "    \n",
    "    X = zeros(n, nt)\n",
    "    u = zeros(nt)\n",
    "    X[:, 1] = x₁ # m; initial position (target position is zero)\n",
    "\n",
    "    if noisy\n",
    "        sqrtdt = √dt\n",
    "        X̂ = zeros(n, nt)\n",
    "        X̂[1, 1] = X[1, 1]\n",
    "        for t in 1:nt-1\n",
    "            u[t] = -L[t, :]' * X̂[:, t]\n",
    "            X[:, t+1] = X[:,t] + (A * X[:,t] + B * u[t]) * dt + sqrtdt * (Y * u[t] * randn() + G * randn(n))\n",
    "            dy = C * X[:,t] * dt + D * sqrtdt * randn(n-1)\n",
    "            X̂[:, t+1] = X̂[:,t] + (A * X̂[:,t] + B * u[t]) * dt + K[t, :, :] * (dy - C * X̂[:,t] * dt)\n",
    "        end\n",
    "    else\n",
    "        for t in 1:nt-1\n",
    "            u[t] = -L[t, :]' * X[:, t]\n",
    "            X[:, t+1] = X[:, t] + (A * X[:, t] + B * u[t]) * dt\n",
    "        end\n",
    "    end\n",
    "    return X, u\n",
    "end"
   ]
  },
  {
   "cell_type": "code",
   "execution_count": null,
   "metadata": {},
   "outputs": [],
   "source": [
    "function simulation_all(param, cost_param, L, K)\n",
    "    Xa, ua = simulation(param, cost_param, L, K, noisy=false);\n",
    "    \n",
    "    # noisy\n",
    "    nsim = 10\n",
    "    XSimAll = []\n",
    "    uSimAll = []\n",
    "    for i in 1:nsim\n",
    "        XSim, u = simulation(param, cost_param, L, K, noisy=true);\n",
    "        push!(XSimAll, XSim)\n",
    "        push!(uSimAll, u)\n",
    "    end\n",
    "    \n",
    "    # visualization\n",
    "    @unpack dt, T = cost_param\n",
    "    tarray = collect(dt:dt:T)\n",
    "    label = [L\"Position ($m$)\", L\"Velocity ($m/s$)\", L\"Acceleration ($m/s^2$)\", L\"Jerk ($m/s^3$)\"]\n",
    "\n",
    "    fig, ax = subplots(1, 3, figsize=(10, 3))\n",
    "    for i in 1:2\n",
    "        for j in 1:nsim\n",
    "            ax[i].plot(tarray, XSimAll[j][i,:]', \"tab:gray\", alpha=0.5)\n",
    "        end\n",
    "\n",
    "        ax[i].plot(tarray, Xa[i,:], \"tab:red\")\n",
    "        ax[i].set_ylabel(label[i]); ax[i].set_xlabel(L\"Time ($s$)\"); \n",
    "        ax[i].set_xlim(0, T); ax[i].grid()\n",
    "    end\n",
    "\n",
    "    for j in 1:nsim\n",
    "        ax[3].plot(tarray, uSimAll[j], \"tab:gray\", alpha=0.5)\n",
    "    end\n",
    "    ax[3].plot(tarray, ua, \"tab:red\")\n",
    "    ax[3].set_ylabel(L\"Control signal ($N\\cdot m$)\"); ax[3].set_xlabel(L\"Time ($s$)\"); \n",
    "    ax[3].set_xlim(0, T); ax[3].grid()\n",
    "\n",
    "    tight_layout()\n",
    "end"
   ]
  },
  {
   "cell_type": "code",
   "execution_count": null,
   "metadata": {},
   "outputs": [],
   "source": [
    "param = Reaching1DModelParameter()\n",
    "cost_param = Reaching1DModelCostParameter();"
   ]
  },
  {
   "cell_type": "code",
   "execution_count": null,
   "metadata": {},
   "outputs": [],
   "source": [
    "L, K, cost = LQG(param, cost_param);\n",
    "simulation_all(param, cost_param, L, K)"
   ]
  },
  {
   "cell_type": "code",
   "execution_count": null,
   "metadata": {},
   "outputs": [],
   "source": [
    "L, K, cost = gLQG(param, cost_param);\n",
    "simulation_all(param, cost_param, L, K)"
   ]
  },
  {
   "cell_type": "markdown",
   "metadata": {},
   "source": [
    "## 参考文献\n",
    "```{bibliography}\n",
    ":filter: docname in docnames\n",
    "```"
   ]
  }
 ],
 "metadata": {
  "kernelspec": {
   "display_name": "Julia 1.10.2",
   "language": "julia",
   "name": "julia-1.10"
  },
  "language_info": {
   "file_extension": ".jl",
   "mimetype": "application/julia",
   "name": "julia",
   "version": "1.10.2"
  }
 },
 "nbformat": 4,
 "nbformat_minor": 4
}
