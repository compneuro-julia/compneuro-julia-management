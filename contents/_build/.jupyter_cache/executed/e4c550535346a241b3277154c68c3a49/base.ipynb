{
 "cells": [
  {
   "cell_type": "code",
   "execution_count": 1,
   "metadata": {},
   "outputs": [
    {
     "data": {
      "text/plain": [
       "right! (generic function with 1 method)"
      ]
     },
     "execution_count": 1,
     "metadata": {},
     "output_type": "execute_result"
    }
   ],
   "source": [
    "function wrong!(a::Array)\n",
    "    a = ones(size(a))\n",
    "end\n",
    "\n",
    "function right!(a::Array)\n",
    "    a[:] = ones(size(a))\n",
    "end"
   ]
  },
  {
   "cell_type": "code",
   "execution_count": 2,
   "metadata": {},
   "outputs": [
    {
     "name": "stdout",
     "output_type": "stream",
     "text": [
      "v : "
     ]
    },
    {
     "name": "stdout",
     "output_type": "stream",
     "text": [
      "[0.005267290785053502 0.43379396626954914; 0.1696259987499149 0.6084087875201685]\n",
      "wrong : [0.005267290785053502 0.43379396626954914; 0.1696259987499149 0.6084087875201685]\n",
      "right : [1.0 1.0; 1.0 1.0]\n"
     ]
    }
   ],
   "source": [
    "using Random\n",
    "v = rand(2, 2)\n",
    "println(\"v : \", v)\n",
    "\n",
    "wrong!(v)\n",
    "println(\"wrong : \", v)\n",
    "\n",
    "right!(v)\n",
    "println(\"right : \", v)"
   ]
  },
  {
   "cell_type": "code",
   "execution_count": 3,
   "metadata": {},
   "outputs": [
    {
     "data": {
      "text/plain": [
       "2×2×2 Array{Float64, 3}:\n",
       "[:, :, 1] =\n",
       " 0.243269  0.932779\n",
       " 0.520383  0.0242472\n",
       "\n",
       "[:, :, 2] =\n",
       " 0.119226  0.531315\n",
       " 0.79391   0.893931"
      ]
     },
     "execution_count": 3,
     "metadata": {},
     "output_type": "execute_result"
    }
   ],
   "source": [
    "B = rand(2, 2, 2)"
   ]
  },
  {
   "cell_type": "code",
   "execution_count": 4,
   "metadata": {},
   "outputs": [
    {
     "data": {
      "text/plain": [
       "8-element Vector{Float64}:\n",
       " 0.2432690778540889\n",
       " 0.5203832392202838\n",
       " 0.9327785412153073\n",
       " 0.024247193093797303\n",
       " 0.11922647240783002\n",
       " 0.7939096911754226\n",
       " 0.5313148268279924\n",
       " 0.8939305428143489"
      ]
     },
     "execution_count": 4,
     "metadata": {},
     "output_type": "execute_result"
    }
   ],
   "source": [
    "import Base.Iterators: flatten\n",
    "collect(flatten(B))"
   ]
  },
  {
   "cell_type": "code",
   "execution_count": 5,
   "metadata": {},
   "outputs": [
    {
     "data": {
      "text/plain": [
       "8-element Vector{Float64}:\n",
       " 0.2432690778540889\n",
       " 0.5203832392202838\n",
       " 0.9327785412153073\n",
       " 0.024247193093797303\n",
       " 0.11922647240783002\n",
       " 0.7939096911754226\n",
       " 0.5313148268279924\n",
       " 0.8939305428143489"
      ]
     },
     "execution_count": 5,
     "metadata": {},
     "output_type": "execute_result"
    }
   ],
   "source": [
    "B[:]"
   ]
  },
  {
   "cell_type": "code",
   "execution_count": 6,
   "metadata": {},
   "outputs": [
    {
     "data": {
      "text/plain": [
       "3×3 Matrix{Float64}:\n",
       " 0.128056  0.432833  0.613254\n",
       " 0.294777  0.962931  0.553476\n",
       " 0.67827   0.87947   0.854013"
      ]
     },
     "execution_count": 6,
     "metadata": {},
     "output_type": "execute_result"
    }
   ],
   "source": [
    "W = rand(3,3)"
   ]
  },
  {
   "cell_type": "code",
   "execution_count": 7,
   "metadata": {},
   "outputs": [
    {
     "data": {
      "text/plain": [
       "3×3 Matrix{Float64}:\n",
       " 0.116298  0.190237  0.303479\n",
       " 0.267711  0.423223  0.273897\n",
       " 0.615991  0.386541  0.422623"
      ]
     },
     "execution_count": 7,
     "metadata": {},
     "output_type": "execute_result"
    }
   ],
   "source": [
    "Wnormed = W ./ sum(W, dims=1)"
   ]
  },
  {
   "cell_type": "code",
   "execution_count": 8,
   "metadata": {},
   "outputs": [
    {
     "name": "stdout",
     "output_type": "stream",
     "text": [
      "[1.0 0.9999999999999998 1.0]\n"
     ]
    }
   ],
   "source": [
    "println(sum(Wnormed, dims=1))"
   ]
  },
  {
   "cell_type": "code",
   "execution_count": 9,
   "metadata": {},
   "outputs": [
    {
     "data": {
      "text/plain": [
       "2×2 Matrix{Int64}:\n",
       " 1  2\n",
       " 3  4"
      ]
     },
     "execution_count": 9,
     "metadata": {},
     "output_type": "execute_result"
    }
   ],
   "source": [
    "A = [1 2; 3 4]"
   ]
  },
  {
   "cell_type": "code",
   "execution_count": 10,
   "metadata": {},
   "outputs": [
    {
     "data": {
      "text/plain": [
       "2×3 Matrix{Int64}:\n",
       " 4  5  6\n",
       " 7  8  9"
      ]
     },
     "execution_count": 10,
     "metadata": {},
     "output_type": "execute_result"
    }
   ],
   "source": [
    "B = [4 5 6; 7 8 9]"
   ]
  },
  {
   "cell_type": "code",
   "execution_count": 11,
   "metadata": {},
   "outputs": [
    {
     "data": {
      "text/plain": [
       "2×5 Matrix{Int64}:\n",
       " 1  2  4  5  6\n",
       " 3  4  7  8  9"
      ]
     },
     "execution_count": 11,
     "metadata": {},
     "output_type": "execute_result"
    }
   ],
   "source": [
    "H1 = hcat(A,B)"
   ]
  },
  {
   "cell_type": "code",
   "execution_count": 12,
   "metadata": {},
   "outputs": [
    {
     "data": {
      "text/plain": [
       "2×5 Matrix{Int64}:\n",
       " 1  2  4  5  6\n",
       " 3  4  7  8  9"
      ]
     },
     "execution_count": 12,
     "metadata": {},
     "output_type": "execute_result"
    }
   ],
   "source": [
    "H2 = [A B]"
   ]
  },
  {
   "cell_type": "code",
   "execution_count": 13,
   "metadata": {},
   "outputs": [
    {
     "data": {
      "text/plain": [
       "2-element Vector{Matrix{Int64}}:\n",
       " [1 2; 3 4]\n",
       " [4 5 6; 7 8 9]"
      ]
     },
     "execution_count": 13,
     "metadata": {},
     "output_type": "execute_result"
    }
   ],
   "source": [
    "H3 = [A, B]"
   ]
  },
  {
   "cell_type": "code",
   "execution_count": 14,
   "metadata": {},
   "outputs": [
    {
     "data": {
      "text/plain": [
       "5×2 Matrix{Int64}:\n",
       " 1  2\n",
       " 3  4\n",
       " 4  7\n",
       " 5  8\n",
       " 6  9"
      ]
     },
     "execution_count": 14,
     "metadata": {},
     "output_type": "execute_result"
    }
   ],
   "source": [
    "V1 = vcat(A, B')"
   ]
  },
  {
   "cell_type": "code",
   "execution_count": 15,
   "metadata": {},
   "outputs": [
    {
     "data": {
      "text/plain": [
       "5×2 Matrix{Int64}:\n",
       " 1  2\n",
       " 3  4\n",
       " 4  7\n",
       " 5  8\n",
       " 6  9"
      ]
     },
     "execution_count": 15,
     "metadata": {},
     "output_type": "execute_result"
    }
   ],
   "source": [
    "V2 = [A; B']"
   ]
  },
  {
   "cell_type": "code",
   "execution_count": 16,
   "metadata": {},
   "outputs": [
    {
     "data": {
      "text/plain": [
       "5×4 Matrix{Int64}:\n",
       " 1  2  1  2\n",
       " 3  4  3  4\n",
       " 4  7  4  7\n",
       " 5  8  5  8\n",
       " 6  9  6  9"
      ]
     },
     "execution_count": 16,
     "metadata": {},
     "output_type": "execute_result"
    }
   ],
   "source": [
    "[V2 [A;B']]"
   ]
  },
  {
   "cell_type": "code",
   "execution_count": 17,
   "metadata": {},
   "outputs": [
    {
     "data": {
      "text/plain": [
       "3-element Vector{Float64}:\n",
       " 0.7595133636159019\n",
       " 0.68392254312918\n",
       " 0.28155316035514866"
      ]
     },
     "execution_count": 17,
     "metadata": {},
     "output_type": "execute_result"
    }
   ],
   "source": [
    "v = rand(3)"
   ]
  },
  {
   "cell_type": "code",
   "execution_count": 18,
   "metadata": {},
   "outputs": [
    {
     "data": {
      "text/plain": [
       "1×3 Matrix{Float64}:\n",
       " 0.759513  0.683923  0.281553"
      ]
     },
     "execution_count": 18,
     "metadata": {},
     "output_type": "execute_result"
    }
   ],
   "source": [
    "newaxis = [CartesianIndex()]\n",
    "v1 = v[newaxis, :]"
   ]
  },
  {
   "cell_type": "code",
   "execution_count": 19,
   "metadata": {},
   "outputs": [
    {
     "name": "stdout",
     "output_type": "stream",
     "text": [
      "Type : Vector"
     ]
    },
    {
     "name": "stdout",
     "output_type": "stream",
     "text": [
      "{Vector{Float64}}\n",
      "Size : (5,)\n"
     ]
    }
   ],
   "source": [
    "A1 = [i*rand(3) for i=1:5]\n",
    "\n",
    "println(\"Type : \", typeof(A1))\n",
    "println(\"Size : \", size(A1))"
   ]
  },
  {
   "cell_type": "code",
   "execution_count": 20,
   "metadata": {},
   "outputs": [
    {
     "name": "stdout",
     "output_type": "stream",
     "text": [
      "Type : LinearAlgebra.Adjoint{Float64, Matrix{Float64}}\n",
      "Size : (5, 3)\n"
     ]
    }
   ],
   "source": [
    "A2 = hcat(A1...)'\n",
    "\n",
    "println(\"Type : \", typeof(A2))\n",
    "println(\"Size : \", size(A2))"
   ]
  },
  {
   "cell_type": "code",
   "execution_count": 21,
   "metadata": {},
   "outputs": [
    {
     "name": "stdout",
     "output_type": "stream",
     "text": [
      "Type : Vector{Array{Float64, 3}}\n",
      "Size : (6,)\n"
     ]
    }
   ],
   "source": [
    "B1 = [i*rand(3, 4, 5) for i=1:6]\n",
    "\n",
    "println(\"Type : \", typeof(B1))\n",
    "println(\"Size : \", size(B1))"
   ]
  },
  {
   "cell_type": "code",
   "execution_count": 22,
   "metadata": {},
   "outputs": [
    {
     "name": "stdout",
     "output_type": "stream",
     "text": [
      "Type : Array{Float64, 4}\n",
      "Size : (6, 3, 4, 5)\n"
     ]
    }
   ],
   "source": [
    "B2 = permutedims(cat(B1..., dims=4), [4, 1, 2, 3])\n",
    "\n",
    "println(\"Type : \", typeof(B2))\n",
    "println(\"Size : \", size(B2))"
   ]
  },
  {
   "cell_type": "code",
   "execution_count": 23,
   "metadata": {},
   "outputs": [
    {
     "data": {
      "text/plain": [
       "100"
      ]
     },
     "execution_count": 23,
     "metadata": {},
     "output_type": "execute_result"
    }
   ],
   "source": [
    "p = 0.7\n",
    "N = 100"
   ]
  },
  {
   "cell_type": "code",
   "execution_count": 24,
   "metadata": {},
   "outputs": [],
   "source": [
    "using BenchmarkTools"
   ]
  },
  {
   "cell_type": "code",
   "execution_count": 25,
   "metadata": {},
   "outputs": [
    {
     "data": {
      "text/plain": [
       "BenchmarkTools.Trial: \n",
       "  memory estimate:  1.91 KiB\n",
       "  allocs estimate:  7\n",
       "  --------------\n",
       "  minimum time:     862.667 ns (0.00% GC)\n",
       "  median time:      893.333 ns (0.00% GC)\n",
       "  mean time:        941.192 ns (2.78% GC)\n",
       "  maximum time:     13.239 μs (92.12% GC)\n",
       "  --------------\n",
       "  samples:          10000\n",
       "  evals/sample:     75"
      ]
     },
     "execution_count": 25,
     "metadata": {},
     "output_type": "execute_result"
    }
   ],
   "source": [
    "@benchmark floor.(p .+ rand(N))"
   ]
  },
  {
   "cell_type": "code",
   "execution_count": 26,
   "metadata": {},
   "outputs": [
    {
     "name": "stdout",
     "output_type": "stream",
     "text": [
      "0.59\n"
     ]
    }
   ],
   "source": [
    "println(sum(floor.(p .+ rand(N)) .== 1.0) / N) "
   ]
  },
  {
   "cell_type": "code",
   "execution_count": 27,
   "metadata": {},
   "outputs": [
    {
     "data": {
      "text/plain": [
       "BenchmarkTools.Trial: \n",
       "  memory estimate:  1.55 KiB\n",
       "  allocs estimate:  6\n",
       "  --------------\n",
       "  minimum time:     914.815 ns (0.00% GC)\n",
       "  median time:      966.667 ns (0.00% GC)\n",
       "  mean time:        1.043 μs (2.91% GC)\n",
       "  maximum time:     38.878 μs (96.46% GC)\n",
       "  --------------\n",
       "  samples:          10000\n",
       "  evals/sample:     27"
      ]
     },
     "execution_count": 27,
     "metadata": {},
     "output_type": "execute_result"
    }
   ],
   "source": [
    "@benchmark 1.0f0 * (p .≥ rand(N))"
   ]
  },
  {
   "cell_type": "code",
   "execution_count": 28,
   "metadata": {},
   "outputs": [
    {
     "name": "stdout",
     "output_type": "stream",
     "text": [
      "0.66\n"
     ]
    }
   ],
   "source": [
    "println(sum(1.0f0 * (p .≥ rand(N)) .== 1.0) / N) "
   ]
  },
  {
   "cell_type": "code",
   "execution_count": 29,
   "metadata": {},
   "outputs": [],
   "source": [
    "using LinearAlgebra, Kronecker, Random"
   ]
  },
  {
   "cell_type": "code",
   "execution_count": 30,
   "metadata": {},
   "outputs": [
    {
     "data": {
      "text/plain": [
       "4×4 Matrix{Float64}:\n",
       " 1.0  5.0   9.0  13.0\n",
       " 2.0  6.0  10.0  14.0\n",
       " 3.0  7.0  11.0  15.0\n",
       " 4.0  8.0  12.0  16.0"
      ]
     },
     "execution_count": 30,
     "metadata": {},
     "output_type": "execute_result"
    }
   ],
   "source": [
    "m = 4\n",
    "A = randn(m, m)\n",
    "B = randn(m, m)\n",
    "C = convert(Array{Float64}, reshape(1:16, (m, m)))"
   ]
  },
  {
   "cell_type": "code",
   "execution_count": 31,
   "metadata": {},
   "outputs": [
    {
     "data": {
      "text/plain": [
       "vec (generic function with 1 method)"
      ]
     },
     "execution_count": 31,
     "metadata": {},
     "output_type": "execute_result"
    }
   ],
   "source": [
    "vec(X) = vcat(X...)"
   ]
  },
  {
   "cell_type": "code",
   "execution_count": 32,
   "metadata": {},
   "outputs": [
    {
     "data": {
      "text/plain": [
       "4×4 Matrix{Float64}:\n",
       " -0.0437291  -3.80727     6.2288   -2.79825\n",
       " -0.96497    -5.3306      9.40564  -4.49945\n",
       "  2.69899    14.1014    -24.9922   11.9968\n",
       "  0.280477   -0.944033    1.32377  -0.50637"
      ]
     },
     "execution_count": 32,
     "metadata": {},
     "output_type": "execute_result"
    }
   ],
   "source": [
    "X = reshape((B' ⊗ A)^-1 * vec(C), (m, m))"
   ]
  },
  {
   "cell_type": "code",
   "execution_count": 33,
   "metadata": {},
   "outputs": [
    {
     "data": {
      "text/plain": [
       "4×4 Matrix{Float64}:\n",
       " 1.0  5.0   9.0  13.0\n",
       " 2.0  6.0  10.0  14.0\n",
       " 3.0  7.0  11.0  15.0\n",
       " 4.0  8.0  12.0  16.0"
      ]
     },
     "execution_count": 33,
     "metadata": {},
     "output_type": "execute_result"
    }
   ],
   "source": [
    "A * X * B"
   ]
  }
 ],
 "metadata": {
  "kernelspec": {
   "display_name": "Julia 1.6.0-beta1",
   "language": "julia",
   "name": "julia-1.6"
  },
  "language_info": {
   "file_extension": ".jl",
   "mimetype": "application/julia",
   "name": "julia",
   "version": "1.6.0"
  }
 },
 "nbformat": 4,
 "nbformat_minor": 4
}