{
 "cells": [
  {
   "cell_type": "code",
   "execution_count": 1,
   "metadata": {},
   "outputs": [],
   "source": [
    "using Base: @kwdef\n",
    "using Parameters: @unpack # or using UnPack\n",
    "using Random\n",
    "using ProgressMeter\n",
    "using PyPlot"
   ]
  },
  {
   "cell_type": "code",
   "execution_count": 2,
   "metadata": {},
   "outputs": [
    {
     "data": {
      "text/plain": [
       "df (generic function with 1 method)"
      ]
     },
     "execution_count": 2,
     "metadata": {},
     "output_type": "execute_result"
    }
   ],
   "source": [
    "f(x) = tanh(x)\n",
    "df(x) = 1 - tanh(x)^2"
   ]
  },
  {
   "cell_type": "code",
   "execution_count": 3,
   "metadata": {},
   "outputs": [],
   "source": [
    "@kwdef struct RNNParameter{FT}\n",
    "    dt::FT = 1 # time step (ms)\n",
    "    τ::FT = 10 # time constant (ms)\n",
    "    α::FT = dt / τ \n",
    "    η::FT = 1e-2 # learning rate\n",
    "end"
   ]
  },
  {
   "cell_type": "code",
   "execution_count": 4,
   "metadata": {},
   "outputs": [],
   "source": [
    "@kwdef mutable struct RNN{FT}\n",
    "    param::RNNParameter = RNNParameter{FT}()\n",
    "    \n",
    "    n_batch::UInt32 # batch size\n",
    "    n_in::UInt32 # number of input units\n",
    "    n_rec::UInt32 # number of recurrent units\n",
    "    n_out::UInt32 # number of output units\n",
    "    \n",
    "    h0::Array{FT} = zeros(n_batch, n_rec) # initial state of recurrent units\n",
    "\n",
    "    # weights\n",
    "    w_in::Array{FT} = 0.1*(rand(n_in, n_rec) .- 1)\n",
    "    w_rec::Array{FT} = 1.5*randn(n_rec, n_rec)/sqrt(n_rec)\n",
    "    w_out::Array{FT} = 0.1*(2*rand(n_rec, n_out) .- 1)/sqrt(n_rec)\n",
    "    bias::Array{FT} = zeros(1, n_rec)\n",
    "    \n",
    "    # changes to weights\n",
    "    dw_in::Array{FT} = zero(w_in)\n",
    "    dw_rec::Array{FT} = zero(w_rec)\n",
    "    dw_out::Array{FT} = zero(w_out)\n",
    "    dbias::Array{FT} = zero(bias)\n",
    "end"
   ]
  },
  {
   "cell_type": "code",
   "execution_count": 5,
   "metadata": {},
   "outputs": [
    {
     "data": {
      "text/plain": [
       "update! (generic function with 1 method)"
      ]
     },
     "execution_count": 5,
     "metadata": {},
     "output_type": "execute_result"
    }
   ],
   "source": [
    "function update!(variable::RNN, param::RNNParameter, x::Array, y::Array, training::Bool)\n",
    "    @unpack n_batch, n_in, n_rec, n_out, h0, w_in, w_rec, w_out, bias, dw_in, dw_rec, dw_out, dbias = variable \n",
    "    @unpack dt, τ, α, η = param\n",
    "\n",
    "    t_max = size(x)[2]  # number of timesteps\n",
    "    \n",
    "    u = zeros(n_batch, t_max, n_rec) # input (feedforward + recurrent)\n",
    "    h = zeros(n_batch, t_max, n_rec)  # time-dependent RNN activity vector\n",
    "    h[:, 1, :] = h0  # initial state\n",
    "\n",
    "    ŷ = zeros(n_batch, t_max, n_out)  # RNN output\n",
    "    error = zeros(n_batch, t_max, n_out)  # readout error\n",
    "\n",
    "    for t in 1:t_max-1\n",
    "        u[:, t+1, :] = h[:, t, :] * w_rec + x[:, t+1, :] * w_in .+ bias\n",
    "        h[:, t+1, :] = h[:, t, :] + α * (-h[:, t, :] + f.(u[:, t+1, :]))\n",
    "        ŷ[:, t+1, :] = h[:, t+1, :] * w_out \n",
    "        error[:, t+1, :] = y[:, t+1, :] - ŷ[:, t+1, :]  # readout error\n",
    "    end\n",
    "    \n",
    "    \n",
    "    # backward\n",
    "    if training \n",
    "        z = zero(h)\n",
    "        z[:, end, :] = error[:, end, :] * w_out' \n",
    "\n",
    "        for t in t_max:-1:1\n",
    "            zu = z[:, t, :] .* df.(u[:, t, :])\n",
    "            if t ≥ 2\n",
    "                z[:, t-1, :] = z[:, t, :] * (1 - α) + error[:, t, :] * w_out' + zu * w_rec * α\n",
    "                dw_rec[:, :] += h[:, t-1, :]' * zu\n",
    "            end\n",
    "\n",
    "            # Updates  Δweights:\n",
    "            dw_out[:, :] += h[:, t, :]' * error[:, t, :]\n",
    "            dw_in[:, :]  += x[:, t, :]' * zu\n",
    "            dbias[:, :] .+= sum(zu)\n",
    "        end\n",
    "        \n",
    "        # update weights\n",
    "        w_out[:, :] += η / t_max * dw_out\n",
    "        w_rec[:, :] += η / t_max * α * dw_rec\n",
    "        w_in[:, :]  += η / t_max * α * dw_in\n",
    "        bias[:, :]  += η / t_max * α * dbias\n",
    "        \n",
    "        # reset\n",
    "        dw_in[:, :]  = zero(w_in)\n",
    "        dw_rec[:, :] = zero(w_rec)\n",
    "        dw_out[:, :] = zero(w_out)\n",
    "        dbias[:, :]  = zero(bias)\n",
    "    end\n",
    "\n",
    "    return error, ŷ, h\n",
    "end"
   ]
  },
  {
   "cell_type": "code",
   "execution_count": 6,
   "metadata": {},
   "outputs": [],
   "source": [
    "nt = 100  # number of timesteps in one period\n",
    "n_batch = 1 # batch size\n",
    "n_in = 1 # number of inputs\n",
    "n_out = 2 # number of outputs\n",
    "\n",
    "begin_input = 0 # begin time steps of input\n",
    "end_input = 30  # end time steps of input\n",
    "\n",
    "tsteps = 0:nt-1　# array of time steps\n",
    "x = ones(n_batch) * (begin_input .≤ tsteps .≤ end_input)'  # input array\n",
    "\n",
    "y = zeros(n_batch, nt, n_out) # target array\n",
    "y[:, begin_input+1:end, 1] = sin.(tsteps[1:end-begin_input]*0.1)\n",
    "y[:, begin_input+1:end, 2] = sin.(tsteps[1:end-begin_input]*0.2)\n",
    "\n",
    "n_epoch = 25000 # number of epoch\n",
    "error_arr = zeros(Float32, n_epoch); # memory array of each epoch error"
   ]
  },
  {
   "cell_type": "code",
   "execution_count": 7,
   "metadata": {},
   "outputs": [
    {
     "data": {
      "image/png": "[encoded data removed]",
      "text/plain": [
       "Figure(PyObject <Figure size 500x400 with 2 Axes>)"
      ]
     },
     "metadata": {},
     "output_type": "display_data"
    }
   ],
   "source": [
    "figure(figsize=(5, 4))\n",
    "subplot(2,1,1)\n",
    "plot(x[1, :])\n",
    "ylabel(\"x\")\n",
    "\n",
    "subplot(2,1,2)\n",
    "plot(tsteps, y[1, :, 1], label=\"Target1\")\n",
    "plot(tsteps, y[1, :, 2], label=\"Target2\")\n",
    "xlabel(\"Time steps\"); ylabel(\"y\"); xlim(0, tsteps[end])\n",
    "legend(loc=\"upper right\", fontsize=8)\n",
    "tight_layout()"
   ]
  },
  {
   "cell_type": "code",
   "execution_count": 8,
   "metadata": {},
   "outputs": [],
   "source": [
    "rnn = RNN{Float32}(n_batch=n_batch, n_in=n_in, n_rec=32, n_out=n_out);"
   ]
  },
  {
   "cell_type": "code",
   "execution_count": 9,
   "metadata": {
    "tags": [
     "remove-output"
    ]
   },
   "outputs": [
    {
     "name": "stderr",
     "output_type": "stream",
     "text": [
      "\r",
      "\u001b[32mTraining...  0%|█                                       |  ETA: 1 days, 1:29:56\u001b[39m"
     ]
    },
    {
     "name": "stderr",
     "output_type": "stream",
     "text": [
      "\r",
      "\u001b[32mTraining...  1%|█                                       |  ETA: 0:11:27\u001b[39m"
     ]
    },
    {
     "name": "stderr",
     "output_type": "stream",
     "text": [
      "\r",
      "\u001b[32mTraining...  1%|█                                       |  ETA: 0:09:30\u001b[39m"
     ]
    },
    {
     "name": "stderr",
     "output_type": "stream",
     "text": [
      "\r",
      "\u001b[32mTraining...  1%|█                                       |  ETA: 0:08:08\u001b[39m"
     ]
    },
    {
     "name": "stderr",
     "output_type": "stream",
     "text": [
      "\r",
      "\u001b[32mTraining...  1%|█                                       |  ETA: 0:07:11\u001b[39m"
     ]
    },
    {
     "name": "stderr",
     "output_type": "stream",
     "text": [
      "\r",
      "\u001b[32mTraining...  1%|█                                       |  ETA: 0:06:27\u001b[39m"
     ]
    },
    {
     "name": "stderr",
     "output_type": "stream",
     "text": [
      "\r",
      "\u001b[32mTraining...  1%|█                                       |  ETA: 0:05:52\u001b[39m"
     ]
    },
    {
     "name": "stderr",
     "output_type": "stream",
     "text": [
      "\r",
      "\u001b[32mTraining...  2%|█                                       |  ETA: 0:05:23\u001b[39m"
     ]
    },
    {
     "name": "stderr",
     "output_type": "stream",
     "text": [
      "\r",
      "\u001b[32mTraining...  2%|█                                       |  ETA: 0:05:01\u001b[39m"
     ]
    },
    {
     "name": "stderr",
     "output_type": "stream",
     "text": [
      "\r",
      "\u001b[32mTraining...  2%|█                                       |  ETA: 0:04:41\u001b[39m"
     ]
    },
    {
     "name": "stderr",
     "output_type": "stream",
     "text": [
      "\r",
      "\u001b[32mTraining...  2%|█                                       |  ETA: 0:04:25\u001b[39m"
     ]
    },
    {
     "name": "stderr",
     "output_type": "stream",
     "text": [
      "\r",
      "\u001b[32mTraining...  2%|█                                       |  ETA: 0:04:11\u001b[39m"
     ]
    },
    {
     "name": "stderr",
     "output_type": "stream",
     "text": [
      "\r",
      "\u001b[32mTraining...  2%|█                                       |  ETA: 0:03:58\u001b[39m"
     ]
    },
    {
     "name": "stderr",
     "output_type": "stream",
     "text": [
      "\r",
      "\u001b[32mTraining...  2%|█                                       |  ETA: 0:03:47\u001b[39m"
     ]
    },
    {
     "name": "stderr",
     "output_type": "stream",
     "text": [
      "\r",
      "\u001b[32mTraining...  3%|██                                      |  ETA: 0:03:37\u001b[39m"
     ]
    },
    {
     "name": "stderr",
     "output_type": "stream",
     "text": [
      "\r",
      "\u001b[32mTraining...  3%|██                                      |  ETA: 0:03:28\u001b[39m"
     ]
    },
    {
     "name": "stderr",
     "output_type": "stream",
     "text": [
      "\r",
      "\u001b[32mTraining...  3%|██                                      |  ETA: 0:03:21\u001b[39m"
     ]
    },
    {
     "name": "stderr",
     "output_type": "stream",
     "text": [
      "\r",
      "\u001b[32mTraining...  3%|██                                      |  ETA: 0:03:14\u001b[39m"
     ]
    },
    {
     "name": "stderr",
     "output_type": "stream",
     "text": [
      "\r",
      "\u001b[32mTraining...  3%|██                                      |  ETA: 0:03:07\u001b[39m"
     ]
    },
    {
     "name": "stderr",
     "output_type": "stream",
     "text": [
      "\r",
      "\u001b[32mTraining...  3%|██                                      |  ETA: 0:03:02\u001b[39m"
     ]
    },
    {
     "name": "stderr",
     "output_type": "stream",
     "text": [
      "\r",
      "\u001b[32mTraining...  4%|██                                      |  ETA: 0:02:56\u001b[39m"
     ]
    },
    {
     "name": "stderr",
     "output_type": "stream",
     "text": [
      "\r",
      "\u001b[32mTraining...  4%|██                                      |  ETA: 0:02:52\u001b[39m"
     ]
    },
    {
     "name": "stderr",
     "output_type": "stream",
     "text": [
      "\r",
      "\u001b[32mTraining...  4%|██                                      |  ETA: 0:02:47\u001b[39m"
     ]
    },
    {
     "name": "stderr",
     "output_type": "stream",
     "text": [
      "\r",
      "\u001b[32mTraining...  4%|██                                      |  ETA: 0:02:43\u001b[39m"
     ]
    },
    {
     "name": "stderr",
     "output_type": "stream",
     "text": [
      "\r",
      "\u001b[32mTraining...  4%|██                                      |  ETA: 0:02:40\u001b[39m"
     ]
    },
    {
     "name": "stderr",
     "output_type": "stream",
     "text": [
      "\r",
      "\u001b[32mTraining...  4%|██                                      |  ETA: 0:02:36\u001b[39m"
     ]
    },
    {
     "name": "stderr",
     "output_type": "stream",
     "text": [
      "\r",
      "\u001b[32mTraining...  4%|██                                      |  ETA: 0:02:33\u001b[39m"
     ]
    },
    {
     "name": "stderr",
     "output_type": "stream",
     "text": [
      "\r",
      "\u001b[32mTraining...  5%|██                                      |  ETA: 0:02:30\u001b[39m"
     ]
    },
    {
     "name": "stderr",
     "output_type": "stream",
     "text": [
      "\r",
      "\u001b[32mTraining...  5%|██                                      |  ETA: 0:02:26\u001b[39m"
     ]
    },
    {
     "name": "stderr",
     "output_type": "stream",
     "text": [
      "\r",
      "\u001b[32mTraining...  5%|██                                      |  ETA: 0:02:23\u001b[39m"
     ]
    },
    {
     "name": "stderr",
     "output_type": "stream",
     "text": [
      "\r",
      "\u001b[32mTraining...  5%|███                                     |  ETA: 0:02:20\u001b[39m"
     ]
    },
    {
     "name": "stderr",
     "output_type": "stream",
     "text": [
      "\r",
      "\u001b[32mTraining...  5%|███                                     |  ETA: 0:02:17\u001b[39m"
     ]
    },
    {
     "name": "stderr",
     "output_type": "stream",
     "text": [
      "\r",
      "\u001b[32mTraining...  5%|███                                     |  ETA: 0:02:14\u001b[39m"
     ]
    },
    {
     "name": "stderr",
     "output_type": "stream",
     "text": [
      "\r",
      "\u001b[32mTraining...  6%|███                                     |  ETA: 0:02:12\u001b[39m"
     ]
    },
    {
     "name": "stderr",
     "output_type": "stream",
     "text": [
      "\r",
      "\u001b[32mTraining...  6%|███                                     |  ETA: 0:02:09\u001b[39m"
     ]
    },
    {
     "name": "stderr",
     "output_type": "stream",
     "text": [
      "\r",
      "\u001b[32mTraining...  6%|███                                     |  ETA: 0:02:06\u001b[39m"
     ]
    },
    {
     "name": "stderr",
     "output_type": "stream",
     "text": [
      "\r",
      "\u001b[32mTraining...  6%|███                                     |  ETA: 0:02:03\u001b[39m"
     ]
    },
    {
     "name": "stderr",
     "output_type": "stream",
     "text": [
      "\r",
      "\u001b[32mTraining...  6%|███                                     |  ETA: 0:02:00\u001b[39m"
     ]
    },
    {
     "name": "stderr",
     "output_type": "stream",
     "text": [
      "\r",
      "\u001b[32mTraining...  7%|███                                     |  ETA: 0:01:57\u001b[39m"
     ]
    },
    {
     "name": "stderr",
     "output_type": "stream",
     "text": [
      "\r",
      "\u001b[32mTraining...  7%|███                                     |  ETA: 0:01:55\u001b[39m"
     ]
    },
    {
     "name": "stderr",
     "output_type": "stream",
     "text": [
      "\r",
      "\u001b[32mTraining...  7%|███                                     |  ETA: 0:01:52\u001b[39m"
     ]
    },
    {
     "name": "stderr",
     "output_type": "stream",
     "text": [
      "\r",
      "\u001b[32mTraining...  7%|███                                     |  ETA: 0:01:50\u001b[39m"
     ]
    },
    {
     "name": "stderr",
     "output_type": "stream",
     "text": [
      "\r",
      "\u001b[32mTraining...  7%|███                                     |  ETA: 0:01:48\u001b[39m"
     ]
    },
    {
     "name": "stderr",
     "output_type": "stream",
     "text": [
      "\r",
      "\u001b[32mTraining...  8%|████                                    |  ETA: 0:01:46\u001b[39m"
     ]
    },
    {
     "name": "stderr",
     "output_type": "stream",
     "text": [
      "\r",
      "\u001b[32mTraining...  8%|████                                    |  ETA: 0:01:43\u001b[39m"
     ]
    },
    {
     "name": "stderr",
     "output_type": "stream",
     "text": [
      "\r",
      "\u001b[32mTraining...  8%|████                                    |  ETA: 0:01:41\u001b[39m"
     ]
    },
    {
     "name": "stderr",
     "output_type": "stream",
     "text": [
      "\r",
      "\u001b[32mTraining...  8%|████                                    |  ETA: 0:01:39\u001b[39m"
     ]
    },
    {
     "name": "stderr",
     "output_type": "stream",
     "text": [
      "\r",
      "\u001b[32mTraining...  9%|████                                    |  ETA: 0:01:37\u001b[39m"
     ]
    },
    {
     "name": "stderr",
     "output_type": "stream",
     "text": [
      "\r",
      "\u001b[32mTraining...  9%|████                                    |  ETA: 0:01:36\u001b[39m"
     ]
    },
    {
     "name": "stderr",
     "output_type": "stream",
     "text": [
      "\r",
      "\u001b[32mTraining...  9%|████                                    |  ETA: 0:01:34\u001b[39m"
     ]
    },
    {
     "name": "stderr",
     "output_type": "stream",
     "text": [
      "\r",
      "\u001b[32mTraining...  9%|████                                    |  ETA: 0:01:32\u001b[39m"
     ]
    },
    {
     "name": "stderr",
     "output_type": "stream",
     "text": [
      "\r",
      "\u001b[32mTraining... 10%|████                                    |  ETA: 0:01:31\u001b[39m"
     ]
    },
    {
     "name": "stderr",
     "output_type": "stream",
     "text": [
      "\r",
      "\u001b[32mTraining... 10%|████                                    |  ETA: 0:01:30\u001b[39m"
     ]
    },
    {
     "name": "stderr",
     "output_type": "stream",
     "text": [
      "\r",
      "\u001b[32mTraining... 10%|████                                    |  ETA: 0:01:29\u001b[39m"
     ]
    },
    {
     "name": "stderr",
     "output_type": "stream",
     "text": [
      "\r",
      "\u001b[32mTraining... 10%|█████                                   |  ETA: 0:01:27\u001b[39m"
     ]
    },
    {
     "name": "stderr",
     "output_type": "stream",
     "text": [
      "\r",
      "\u001b[32mTraining... 10%|█████                                   |  ETA: 0:01:26\u001b[39m"
     ]
    },
    {
     "name": "stderr",
     "output_type": "stream",
     "text": [
      "\r",
      "\u001b[32mTraining... 11%|█████                                   |  ETA: 0:01:25\u001b[39m"
     ]
    },
    {
     "name": "stderr",
     "output_type": "stream",
     "text": [
      "\r",
      "\u001b[32mTraining... 11%|█████                                   |  ETA: 0:01:24\u001b[39m"
     ]
    },
    {
     "name": "stderr",
     "output_type": "stream",
     "text": [
      "\r",
      "\u001b[32mTraining... 11%|█████                                   |  ETA: 0:01:22\u001b[39m"
     ]
    },
    {
     "name": "stderr",
     "output_type": "stream",
     "text": [
      "\r",
      "\u001b[32mTraining... 11%|█████                                   |  ETA: 0:01:21\u001b[39m"
     ]
    },
    {
     "name": "stderr",
     "output_type": "stream",
     "text": [
      "\r",
      "\u001b[32mTraining... 12%|█████                                   |  ETA: 0:01:20\u001b[39m"
     ]
    },
    {
     "name": "stderr",
     "output_type": "stream",
     "text": [
      "\r",
      "\u001b[32mTraining... 12%|█████                                   |  ETA: 0:01:19\u001b[39m"
     ]
    },
    {
     "name": "stderr",
     "output_type": "stream",
     "text": [
      "\r",
      "\u001b[32mTraining... 12%|█████                                   |  ETA: 0:01:18\u001b[39m"
     ]
    },
    {
     "name": "stderr",
     "output_type": "stream",
     "text": [
      "\r",
      "\u001b[32mTraining... 12%|█████                                   |  ETA: 0:01:17\u001b[39m"
     ]
    },
    {
     "name": "stderr",
     "output_type": "stream",
     "text": [
      "\r",
      "\u001b[32mTraining... 13%|██████                                  |  ETA: 0:01:16\u001b[39m"
     ]
    },
    {
     "name": "stderr",
     "output_type": "stream",
     "text": [
      "\r",
      "\u001b[32mTraining... 13%|██████                                  |  ETA: 0:01:15\u001b[39m"
     ]
    },
    {
     "name": "stderr",
     "output_type": "stream",
     "text": [
      "\r",
      "\u001b[32mTraining... 13%|██████                                  |  ETA: 0:01:15\u001b[39m"
     ]
    },
    {
     "name": "stderr",
     "output_type": "stream",
     "text": [
      "\r",
      "\u001b[32mTraining... 13%|██████                                  |  ETA: 0:01:14\u001b[39m"
     ]
    },
    {
     "name": "stderr",
     "output_type": "stream",
     "text": [
      "\r",
      "\u001b[32mTraining... 13%|██████                                  |  ETA: 0:01:13\u001b[39m"
     ]
    },
    {
     "name": "stderr",
     "output_type": "stream",
     "text": [
      "\r",
      "\u001b[32mTraining... 14%|██████                                  |  ETA: 0:01:12\u001b[39m"
     ]
    },
    {
     "name": "stderr",
     "output_type": "stream",
     "text": [
      "\r",
      "\u001b[32mTraining... 14%|██████                                  |  ETA: 0:01:11\u001b[39m"
     ]
    },
    {
     "name": "stderr",
     "output_type": "stream",
     "text": [
      "\r",
      "\u001b[32mTraining... 14%|██████                                  |  ETA: 0:01:11\u001b[39m"
     ]
    },
    {
     "name": "stderr",
     "output_type": "stream",
     "text": [
      "\r",
      "\u001b[32mTraining... 14%|██████                                  |  ETA: 0:01:10\u001b[39m"
     ]
    },
    {
     "name": "stderr",
     "output_type": "stream",
     "text": [
      "\r",
      "\u001b[32mTraining... 15%|██████                                  |  ETA: 0:01:09\u001b[39m"
     ]
    },
    {
     "name": "stderr",
     "output_type": "stream",
     "text": [
      "\r",
      "\u001b[32mTraining... 15%|██████                                  |  ETA: 0:01:08\u001b[39m"
     ]
    },
    {
     "name": "stderr",
     "output_type": "stream",
     "text": [
      "\r",
      "\u001b[32mTraining... 15%|███████                                 |  ETA: 0:01:08\u001b[39m"
     ]
    },
    {
     "name": "stderr",
     "output_type": "stream",
     "text": [
      "\r",
      "\u001b[32mTraining... 15%|███████                                 |  ETA: 0:01:07\u001b[39m"
     ]
    },
    {
     "name": "stderr",
     "output_type": "stream",
     "text": [
      "\r",
      "\u001b[32mTraining... 16%|███████                                 |  ETA: 0:01:06\u001b[39m"
     ]
    },
    {
     "name": "stderr",
     "output_type": "stream",
     "text": [
      "\r",
      "\u001b[32mTraining... 16%|███████                                 |  ETA: 0:01:06\u001b[39m"
     ]
    },
    {
     "name": "stderr",
     "output_type": "stream",
     "text": [
      "\r",
      "\u001b[32mTraining... 16%|███████                                 |  ETA: 0:01:05\u001b[39m"
     ]
    },
    {
     "name": "stderr",
     "output_type": "stream",
     "text": [
      "\r",
      "\u001b[32mTraining... 16%|███████                                 |  ETA: 0:01:05\u001b[39m"
     ]
    },
    {
     "name": "stderr",
     "output_type": "stream",
     "text": [
      "\r",
      "\u001b[32mTraining... 16%|███████                                 |  ETA: 0:01:04\u001b[39m"
     ]
    },
    {
     "name": "stderr",
     "output_type": "stream",
     "text": [
      "\r",
      "\u001b[32mTraining... 17%|███████                                 |  ETA: 0:01:04\u001b[39m"
     ]
    },
    {
     "name": "stderr",
     "output_type": "stream",
     "text": [
      "\r",
      "\u001b[32mTraining... 17%|███████                                 |  ETA: 0:01:03\u001b[39m"
     ]
    },
    {
     "name": "stderr",
     "output_type": "stream",
     "text": [
      "\r",
      "\u001b[32mTraining... 17%|███████                                 |  ETA: 0:01:03\u001b[39m"
     ]
    },
    {
     "name": "stderr",
     "output_type": "stream",
     "text": [
      "\r",
      "\u001b[32mTraining... 17%|███████                                 |  ETA: 0:01:02\u001b[39m"
     ]
    },
    {
     "name": "stderr",
     "output_type": "stream",
     "text": [
      "\r",
      "\u001b[32mTraining... 18%|████████                                |  ETA: 0:01:02\u001b[39m"
     ]
    },
    {
     "name": "stderr",
     "output_type": "stream",
     "text": [
      "\r",
      "\u001b[32mTraining... 18%|████████                                |  ETA: 0:01:01\u001b[39m"
     ]
    },
    {
     "name": "stderr",
     "output_type": "stream",
     "text": [
      "\r",
      "\u001b[32mTraining... 18%|████████                                |  ETA: 0:01:01\u001b[39m"
     ]
    },
    {
     "name": "stderr",
     "output_type": "stream",
     "text": [
      "\r",
      "\u001b[32mTraining... 18%|████████                                |  ETA: 0:01:00\u001b[39m"
     ]
    },
    {
     "name": "stderr",
     "output_type": "stream",
     "text": [
      "\r",
      "\u001b[32mTraining... 19%|████████                                |  ETA: 0:01:00\u001b[39m"
     ]
    },
    {
     "name": "stderr",
     "output_type": "stream",
     "text": [
      "\r",
      "\u001b[32mTraining... 19%|████████                                |  ETA: 0:00:59\u001b[39m"
     ]
    },
    {
     "name": "stderr",
     "output_type": "stream",
     "text": [
      "\r",
      "\u001b[32mTraining... 19%|████████                                |  ETA: 0:00:59\u001b[39m"
     ]
    },
    {
     "name": "stderr",
     "output_type": "stream",
     "text": [
      "\r",
      "\u001b[32mTraining... 19%|████████                                |  ETA: 0:00:58\u001b[39m"
     ]
    },
    {
     "name": "stderr",
     "output_type": "stream",
     "text": [
      "\r",
      "\u001b[32mTraining... 19%|████████                                |  ETA: 0:00:58\u001b[39m"
     ]
    },
    {
     "name": "stderr",
     "output_type": "stream",
     "text": [
      "\r",
      "\u001b[32mTraining... 20%|████████                                |  ETA: 0:00:57\u001b[39m"
     ]
    },
    {
     "name": "stderr",
     "output_type": "stream",
     "text": [
      "\r",
      "\u001b[32mTraining... 20%|████████                                |  ETA: 0:00:57\u001b[39m"
     ]
    },
    {
     "name": "stderr",
     "output_type": "stream",
     "text": [
      "\r",
      "\u001b[32mTraining... 20%|█████████                               |  ETA: 0:00:57\u001b[39m"
     ]
    },
    {
     "name": "stderr",
     "output_type": "stream",
     "text": [
      "\r",
      "\u001b[32mTraining... 20%|█████████                               |  ETA: 0:00:56\u001b[39m"
     ]
    },
    {
     "name": "stderr",
     "output_type": "stream",
     "text": [
      "\r",
      "\u001b[32mTraining... 21%|█████████                               |  ETA: 0:00:56\u001b[39m"
     ]
    },
    {
     "name": "stderr",
     "output_type": "stream",
     "text": [
      "\r",
      "\u001b[32mTraining... 21%|█████████                               |  ETA: 0:00:55\u001b[39m"
     ]
    },
    {
     "name": "stderr",
     "output_type": "stream",
     "text": [
      "\r",
      "\u001b[32mTraining... 21%|█████████                               |  ETA: 0:00:55\u001b[39m"
     ]
    },
    {
     "name": "stderr",
     "output_type": "stream",
     "text": [
      "\r",
      "\u001b[32mTraining... 21%|█████████                               |  ETA: 0:00:55\u001b[39m"
     ]
    },
    {
     "name": "stderr",
     "output_type": "stream",
     "text": [
      "\r",
      "\u001b[32mTraining... 22%|█████████                               |  ETA: 0:00:54\u001b[39m"
     ]
    },
    {
     "name": "stderr",
     "output_type": "stream",
     "text": [
      "\r",
      "\u001b[32mTraining... 22%|█████████                               |  ETA: 0:00:54\u001b[39m"
     ]
    },
    {
     "name": "stderr",
     "output_type": "stream",
     "text": [
      "\r"
     ]
    },
    {
     "name": "stderr",
     "output_type": "stream",
     "text": [
      "\u001b[32mTraining... 22%|█████████                               |  ETA: 0:00:53\u001b[39m\r",
      "\u001b[32mTraining... 22%|█████████                               |  ETA: 0:00:53\u001b[39m"
     ]
    },
    {
     "name": "stderr",
     "output_type": "stream",
     "text": [
      "\r",
      "\u001b[32mTraining... 23%|██████████                              |  ETA: 0:00:53\u001b[39m"
     ]
    },
    {
     "name": "stderr",
     "output_type": "stream",
     "text": [
      "\r",
      "\u001b[32mTraining... 23%|██████████                              |  ETA: 0:00:52\u001b[39m"
     ]
    },
    {
     "name": "stderr",
     "output_type": "stream",
     "text": [
      "\r",
      "\u001b[32mTraining... 23%|██████████                              |  ETA: 0:00:52\u001b[39m"
     ]
    },
    {
     "name": "stderr",
     "output_type": "stream",
     "text": [
      "\r",
      "\u001b[32mTraining... 23%|██████████                              |  ETA: 0:00:52\u001b[39m"
     ]
    },
    {
     "name": "stderr",
     "output_type": "stream",
     "text": [
      "\r",
      "\u001b[32mTraining... 23%|██████████                              |  ETA: 0:00:51\u001b[39m"
     ]
    },
    {
     "name": "stderr",
     "output_type": "stream",
     "text": [
      "\r",
      "\u001b[32mTraining... 24%|██████████                              |  ETA: 0:00:51\u001b[39m"
     ]
    },
    {
     "name": "stderr",
     "output_type": "stream",
     "text": [
      "\r",
      "\u001b[32mTraining... 24%|██████████                              |  ETA: 0:00:51\u001b[39m"
     ]
    },
    {
     "name": "stderr",
     "output_type": "stream",
     "text": [
      "\r",
      "\u001b[32mTraining... 24%|██████████                              |  ETA: 0:00:50\u001b[39m"
     ]
    },
    {
     "name": "stderr",
     "output_type": "stream",
     "text": [
      "\r",
      "\u001b[32mTraining... 24%|██████████                              |  ETA: 0:00:50\u001b[39m"
     ]
    },
    {
     "name": "stderr",
     "output_type": "stream",
     "text": [
      "\r",
      "\u001b[32mTraining... 25%|██████████                              |  ETA: 0:00:50\u001b[39m"
     ]
    },
    {
     "name": "stderr",
     "output_type": "stream",
     "text": [
      "\r",
      "\u001b[32mTraining... 25%|██████████                              |  ETA: 0:00:49\u001b[39m"
     ]
    },
    {
     "name": "stderr",
     "output_type": "stream",
     "text": [
      "\r",
      "\u001b[32mTraining... 25%|███████████                             |  ETA: 0:00:49\u001b[39m"
     ]
    },
    {
     "name": "stderr",
     "output_type": "stream",
     "text": [
      "\r",
      "\u001b[32mTraining... 25%|███████████                             |  ETA: 0:00:49\u001b[39m"
     ]
    },
    {
     "name": "stderr",
     "output_type": "stream",
     "text": [
      "\r",
      "\u001b[32mTraining... 26%|███████████                             |  ETA: 0:00:48\u001b[39m"
     ]
    },
    {
     "name": "stderr",
     "output_type": "stream",
     "text": [
      "\r",
      "\u001b[32mTraining... 26%|███████████                             |  ETA: 0:00:48\u001b[39m"
     ]
    },
    {
     "name": "stderr",
     "output_type": "stream",
     "text": [
      "\r",
      "\u001b[32mTraining... 26%|███████████                             |  ETA: 0:00:48\u001b[39m"
     ]
    },
    {
     "name": "stderr",
     "output_type": "stream",
     "text": [
      "\r",
      "\u001b[32mTraining... 26%|███████████                             |  ETA: 0:00:48\u001b[39m"
     ]
    },
    {
     "name": "stderr",
     "output_type": "stream",
     "text": [
      "\r",
      "\u001b[32mTraining... 26%|███████████                             |  ETA: 0:00:47\u001b[39m"
     ]
    },
    {
     "name": "stderr",
     "output_type": "stream",
     "text": [
      "\r",
      "\u001b[32mTraining... 27%|███████████                             |  ETA: 0:00:47\u001b[39m"
     ]
    },
    {
     "name": "stderr",
     "output_type": "stream",
     "text": [
      "\r",
      "\u001b[32mTraining... 27%|███████████                             |  ETA: 0:00:47\u001b[39m"
     ]
    },
    {
     "name": "stderr",
     "output_type": "stream",
     "text": [
      "\r",
      "\u001b[32mTraining... 27%|███████████                             |  ETA: 0:00:47\u001b[39m"
     ]
    },
    {
     "name": "stderr",
     "output_type": "stream",
     "text": [
      "\r",
      "\u001b[32mTraining... 27%|███████████                             |  ETA: 0:00:46\u001b[39m"
     ]
    },
    {
     "name": "stderr",
     "output_type": "stream",
     "text": [
      "\r",
      "\u001b[32mTraining... 28%|████████████                            |  ETA: 0:00:46\u001b[39m"
     ]
    },
    {
     "name": "stderr",
     "output_type": "stream",
     "text": [
      "\r",
      "\u001b[32mTraining... 28%|████████████                            |  ETA: 0:00:46\u001b[39"
     ]
    },
    {
     "name": "stderr",
     "output_type": "stream",
     "text": [
      "m\r",
      "\u001b[32mTraining... 28%|████████████                            |  ETA: 0:00:46\u001b[39m"
     ]
    },
    {
     "name": "stderr",
     "output_type": "stream",
     "text": [
      "\r",
      "\u001b[32mTraining... 28%|████████████                            |  ETA: 0:00:45\u001b[39m"
     ]
    },
    {
     "name": "stderr",
     "output_type": "stream",
     "text": [
      "\r",
      "\u001b[32mTraining... 29%|████████████                            |  ETA: 0:00:45\u001b[39m"
     ]
    },
    {
     "name": "stderr",
     "output_type": "stream",
     "text": [
      "\r",
      "\u001b[32mTraining... 29%|████████████                            |  ETA: 0:00:45\u001b[39m"
     ]
    },
    {
     "name": "stderr",
     "output_type": "stream",
     "text": [
      "\r",
      "\u001b[32mTraining... 29%|████████████                            |  ETA: 0:00:45\u001b[39m"
     ]
    },
    {
     "name": "stderr",
     "output_type": "stream",
     "text": [
      "\r",
      "\u001b[32mTraining... 29%|████████████                            |  ETA: 0:00:44\u001b[39m"
     ]
    },
    {
     "name": "stderr",
     "output_type": "stream",
     "text": [
      "\r",
      "\u001b[32mTraining... 30%|████████████                            |  ETA: 0:00:44\u001b[39m"
     ]
    },
    {
     "name": "stderr",
     "output_type": "stream",
     "text": [
      "\r",
      "\u001b[32mTraining... 30%|████████████                            |  ETA: 0:00:44\u001b[39m"
     ]
    },
    {
     "name": "stderr",
     "output_type": "stream",
     "text": [
      "\r",
      "\u001b[32mTraining... 30%|█████████████                           |  ETA: 0:00:43\u001b[39m"
     ]
    },
    {
     "name": "stderr",
     "output_type": "stream",
     "text": [
      "\r",
      "\u001b[32mTraining... 30%|█████████████                           |  ETA: 0:00:43\u001b[39m"
     ]
    },
    {
     "name": "stderr",
     "output_type": "stream",
     "text": [
      "\r",
      "\u001b[32mTraining... 30%|█████████████                           |  ETA: 0:00:43\u001b[39m"
     ]
    },
    {
     "name": "stderr",
     "output_type": "stream",
     "text": [
      "\r",
      "\u001b[32mTraining... 31%|█████████████                           |  ETA: 0:00:43\u001b[39"
     ]
    },
    {
     "name": "stderr",
     "output_type": "stream",
     "text": [
      "m\r",
      "\u001b[32mTraining... 31%|█████████████                           |  ETA: 0:00:43\u001b[39m"
     ]
    },
    {
     "name": "stderr",
     "output_type": "stream",
     "text": [
      "\r",
      "\u001b[32mTraining... 31%|█████████████                           |  ETA: 0:00:42\u001b[39m"
     ]
    },
    {
     "name": "stderr",
     "output_type": "stream",
     "text": [
      "\r",
      "\u001b[32mTraining... 31%|█████████████                           |  ETA: 0:00:42\u001b[39m"
     ]
    },
    {
     "name": "stderr",
     "output_type": "stream",
     "text": [
      "\r",
      "\u001b[32mTraining... 32%|█████████████                           |  ETA: 0:00:42\u001b[39m"
     ]
    },
    {
     "name": "stderr",
     "output_type": "stream",
     "text": [
      "\r",
      "\u001b[32mTraining... 32%|█████████████                           |  ETA: 0:00:42\u001b[39m"
     ]
    },
    {
     "name": "stderr",
     "output_type": "stream",
     "text": [
      "\r",
      "\u001b[32mTraining... 32%|█████████████                           |  ETA: 0:00:41\u001b[39m"
     ]
    },
    {
     "name": "stderr",
     "output_type": "stream",
     "text": [
      "\r",
      "\u001b[32mTraining... 32%|█████████████                           |  ETA: 0:00:41\u001b[39"
     ]
    },
    {
     "name": "stderr",
     "output_type": "stream",
     "text": [
      "m"
     ]
    },
    {
     "name": "stderr",
     "output_type": "stream",
     "text": [
      "\r",
      "\u001b[32mTraining... 33%|██████████████                          |  ETA: 0:00:41\u001b[39m"
     ]
    },
    {
     "name": "stderr",
     "output_type": "stream",
     "text": [
      "\r",
      "\u001b[32mTraining... 33%|██████████████                          |  ETA: 0:00:41\u001b[39m"
     ]
    },
    {
     "name": "stderr",
     "output_type": "stream",
     "text": [
      "\r",
      "\u001b[32mTraining... 33%|██████████████                          |  ETA: 0:00:41\u001b[39m"
     ]
    },
    {
     "name": "stderr",
     "output_type": "stream",
     "text": [
      "\r",
      "\u001b[32mTraining... 33%|██████████████                          |  ETA: 0:00:40\u001b[39m"
     ]
    },
    {
     "name": "stderr",
     "output_type": "stream",
     "text": [
      "\r",
      "\u001b[32mTraining... 33%|██████████████                          |  ETA: 0:00:40\u001b[39m"
     ]
    },
    {
     "name": "stderr",
     "output_type": "stream",
     "text": [
      "\r",
      "\u001b[32mTraining... 34%|██████████████                          |  ETA: 0:00:40\u001b[39m"
     ]
    },
    {
     "name": "stderr",
     "output_type": "stream",
     "text": [
      "\r"
     ]
    },
    {
     "name": "stderr",
     "output_type": "stream",
     "text": [
      "\u001b[32mTraining... 34%|██████████████                          |  ETA: 0:00:40\u001b[39m"
     ]
    },
    {
     "name": "stderr",
     "output_type": "stream",
     "text": [
      "\r",
      "\u001b[32mTraining... 34%|██████████████                          |  ETA: 0:00:39\u001b[39m"
     ]
    },
    {
     "name": "stderr",
     "output_type": "stream",
     "text": [
      "\r",
      "\u001b[32mTraining... 34%|██████████████                          |  ETA: 0:00:39\u001b[39m"
     ]
    },
    {
     "name": "stderr",
     "output_type": "stream",
     "text": [
      "\r",
      "\u001b[32mTraining... 35%|██████████████                          |  ETA: 0:00:39\u001b[39m"
     ]
    },
    {
     "name": "stderr",
     "output_type": "stream",
     "text": [
      "\r",
      "\u001b[32mTraining... 35%|██████████████                          |  ETA: 0:00:39\u001b[39m"
     ]
    },
    {
     "name": "stderr",
     "output_type": "stream",
     "text": [
      "\r",
      "\u001b[32mTraining... 35%|███████████████                         |  ETA: 0:00:39\u001b[39m"
     ]
    },
    {
     "name": "stderr",
     "output_type": "stream",
     "text": [
      "\r",
      "\u001b[32mTraining... 35%|███████████████                         |  ETA: 0:00:38\u001b[39m"
     ]
    },
    {
     "name": "stderr",
     "output_type": "stream",
     "text": [
      "\r",
      "\u001b[32mTraining... 36%|███████████████                         |  ETA: 0:00:38\u001b[39"
     ]
    },
    {
     "name": "stderr",
     "output_type": "stream",
     "text": [
      "m"
     ]
    },
    {
     "name": "stderr",
     "output_type": "stream",
     "text": [
      "\r",
      "\u001b[32mTraining... 36%|███████████████                         |  ETA: 0:00:38\u001b[39m"
     ]
    },
    {
     "name": "stderr",
     "output_type": "stream",
     "text": [
      "\r",
      "\u001b[32mTraining... 36%|███████████████                         |  ETA: 0:00:38\u001b[39m"
     ]
    },
    {
     "name": "stderr",
     "output_type": "stream",
     "text": [
      "\r",
      "\u001b[32mTraining... 36%|███████████████                         |  ETA: 0:00:38\u001b[39m"
     ]
    },
    {
     "name": "stderr",
     "output_type": "stream",
     "text": [
      "\r",
      "\u001b[32mTraining... 37%|███████████████                         |  ETA: 0:00:37\u001b[39m"
     ]
    },
    {
     "name": "stderr",
     "output_type": "stream",
     "text": [
      "\r",
      "\u001b[32mTraining... 37%|███████████████                         |  ETA: 0:00:37\u001b[39m"
     ]
    },
    {
     "name": "stderr",
     "output_type": "stream",
     "text": [
      "\r",
      "\u001b[32mTraining... 37%|███████████████                         |  ETA: 0:00:37\u001b[39m"
     ]
    },
    {
     "name": "stderr",
     "output_type": "stream",
     "text": [
      "\r",
      "\u001b[32mTraining... 37%|███████████████                         |  ETA: 0:00:37\u001b[39m"
     ]
    },
    {
     "name": "stderr",
     "output_type": "stream",
     "text": [
      "\r",
      "\u001b[32mTraining... 37%|███████████████                         |  ETA: 0:00:37\u001b[39m"
     ]
    },
    {
     "name": "stderr",
     "output_type": "stream",
     "text": [
      "\r",
      "\u001b[32mTraining... 38%|████████████████                        |  ETA: 0:00:36\u001b[39m"
     ]
    },
    {
     "name": "stderr",
     "output_type": "stream",
     "text": [
      "\r",
      "\u001b[32mTraining... 38%|████████████████                        |  ETA: 0:00:36\u001b[39m"
     ]
    },
    {
     "name": "stderr",
     "output_type": "stream",
     "text": [
      "\r",
      "\u001b[32mTraining... 38%|████████████████                        |  ETA: 0:00:36\u001b[39m"
     ]
    },
    {
     "name": "stderr",
     "output_type": "stream",
     "text": [
      "\r",
      "\u001b[32mTraining... 38%|████████████████                        |  ETA: 0:00:36\u001b[39m"
     ]
    },
    {
     "name": "stderr",
     "output_type": "stream",
     "text": [
      "\r",
      "\u001b[32mTraining... 39%|████████████████                        |  ETA: 0:00:36\u001b[39m"
     ]
    },
    {
     "name": "stderr",
     "output_type": "stream",
     "text": [
      "\r",
      "\u001b[32mTraining... 39%|████████████████                        |  ETA: 0:00:36\u001b[39m"
     ]
    },
    {
     "name": "stderr",
     "output_type": "stream",
     "text": [
      "\r",
      "\u001b[32mTraining... 39%|████████████████                        |  ETA: 0:00:35\u001b[39m"
     ]
    },
    {
     "name": "stderr",
     "output_type": "stream",
     "text": [
      "\r",
      "\u001b[32mTraining... 39%|████████████████                        |  ETA: 0:00:35\u001b[39m"
     ]
    },
    {
     "name": "stderr",
     "output_type": "stream",
     "text": [
      "\r",
      "\u001b[32mTraining... 40%|████████████████                        |  ETA: 0:00:35\u001b[39m"
     ]
    },
    {
     "name": "stderr",
     "output_type": "stream",
     "text": [
      "\r",
      "\u001b[32mTraining... 40%|████████████████                        |  ETA: 0:00:35\u001b[39m"
     ]
    },
    {
     "name": "stderr",
     "output_type": "stream",
     "text": [
      "\r",
      "\u001b[32mTraining... 40%|█████████████████                       |  ETA: 0:00:35\u001b[39m"
     ]
    },
    {
     "name": "stderr",
     "output_type": "stream",
     "text": [
      "\r",
      "\u001b[32mTraining... 40%|█████████████████                       |  ETA: 0:00:34\u001b[39m"
     ]
    },
    {
     "name": "stderr",
     "output_type": "stream",
     "text": [
      "\r",
      "\u001b[32mTraining... 41%|█████████████████                       |  ETA: 0:00:34\u001b[39m"
     ]
    },
    {
     "name": "stderr",
     "output_type": "stream",
     "text": [
      "\r",
      "\u001b[32mTraining... 41%|█████████████████                       |  ETA: 0:00:34\u001b[39m"
     ]
    },
    {
     "name": "stderr",
     "output_type": "stream",
     "text": [
      "\r",
      "\u001b[32mTraining... 41%|█████████████████                       |  ETA: 0:00:34\u001b[39m"
     ]
    },
    {
     "name": "stderr",
     "output_type": "stream",
     "text": [
      "\r",
      "\u001b[32mTraining... 41%|█████████████████                       |  ETA: 0:00:34\u001b[39m"
     ]
    },
    {
     "name": "stderr",
     "output_type": "stream",
     "text": [
      "\r",
      "\u001b[32mTraining... 41%|█████████████████                       |  ETA: 0:00:34\u001b[39m"
     ]
    },
    {
     "name": "stderr",
     "output_type": "stream",
     "text": [
      "\r",
      "\u001b[32mTraining... 42%|█████████████████                       |  ETA: 0:00:33\u001b[39m"
     ]
    },
    {
     "name": "stderr",
     "output_type": "stream",
     "text": [
      "\r",
      "\u001b[32mTraining... 42%|█████████████████                       |  ETA: 0:00:33\u001b[39m"
     ]
    },
    {
     "name": "stderr",
     "output_type": "stream",
     "text": [
      "\r",
      "\u001b[32mTraining... 42%|█████████████████                       |  ETA: 0:00:33\u001b[39m"
     ]
    },
    {
     "name": "stderr",
     "output_type": "stream",
     "text": [
      "\r",
      "\u001b[32mTraining... 42%|█████████████████                       |  ETA: 0:00:33\u001b[39m"
     ]
    },
    {
     "name": "stderr",
     "output_type": "stream",
     "text": [
      "\r",
      "\u001b[32mTraining... 43%|██████████████████                      |  ETA: 0:00:33\u001b[39m"
     ]
    },
    {
     "name": "stderr",
     "output_type": "stream",
     "text": [
      "\r",
      "\u001b[32mTraining... 43%|██████████████████                      |  ETA: 0:00:33\u001b[39m"
     ]
    },
    {
     "name": "stderr",
     "output_type": "stream",
     "text": [
      "\r",
      "\u001b[32mTraining... 43%|██████████████████                      |  ETA: 0:00:32\u001b[39m"
     ]
    },
    {
     "name": "stderr",
     "output_type": "stream",
     "text": [
      "\r",
      "\u001b[32mTraining... 43%|██████████████████                      |  ETA: 0:00:32\u001b[39m"
     ]
    },
    {
     "name": "stderr",
     "output_type": "stream",
     "text": [
      "\r",
      "\u001b[32mTraining... 44%|██████████████████                      |  ETA: 0:00:32\u001b[39m"
     ]
    },
    {
     "name": "stderr",
     "output_type": "stream",
     "text": [
      "\r",
      "\u001b[32mTraining... 44%|██████████████████                      |  ETA: 0:00:32\u001b[39m"
     ]
    },
    {
     "name": "stderr",
     "output_type": "stream",
     "text": [
      "\r",
      "\u001b[32mTraining... 44%|██████████████████                      |  ETA: 0:00:32\u001b[39m"
     ]
    },
    {
     "name": "stderr",
     "output_type": "stream",
     "text": [
      "\r",
      "\u001b[32mTraining... 44%|██████████████████                      |  ETA: 0:00:32\u001b[39m"
     ]
    },
    {
     "name": "stderr",
     "output_type": "stream",
     "text": [
      "\r",
      "\u001b[32mTraining... 44%|██████████████████                      |  ETA: 0:00:31\u001b[39m"
     ]
    },
    {
     "name": "stderr",
     "output_type": "stream",
     "text": [
      "\r",
      "\u001b[32mTraining... 45%|██████████████████                      |  ETA: 0:00:31\u001b[39m"
     ]
    },
    {
     "name": "stderr",
     "output_type": "stream",
     "text": [
      "\r",
      "\u001b[32mTraining... 45%|██████████████████                      |  ETA: 0:00:31\u001b[39m"
     ]
    },
    {
     "name": "stderr",
     "output_type": "stream",
     "text": [
      "\r",
      "\u001b[32mTraining... 45%|███████████████████                     |  ETA: 0:00:31\u001b[39m"
     ]
    },
    {
     "name": "stderr",
     "output_type": "stream",
     "text": [
      "\r",
      "\u001b[32mTraining... 45%|███████████████████                     |  ETA: 0:00:31\u001b[39m"
     ]
    },
    {
     "name": "stderr",
     "output_type": "stream",
     "text": [
      "\r",
      "\u001b[32mTraining... 46%|███████████████████                     |  ETA: 0:00:31\u001b[39m"
     ]
    },
    {
     "name": "stderr",
     "output_type": "stream",
     "text": [
      "\r",
      "\u001b[32mTraining... 46%|███████████████████                     |  ETA: 0:00:30\u001b[39m"
     ]
    },
    {
     "name": "stderr",
     "output_type": "stream",
     "text": [
      "\r",
      "\u001b[32mTraining... 46%|███████████████████                     |  ETA: 0:00:30\u001b[39m"
     ]
    },
    {
     "name": "stderr",
     "output_type": "stream",
     "text": [
      "\r",
      "\u001b[32mTraining... 46%|███████████████████                     |  ETA: 0:00:30\u001b[39m"
     ]
    },
    {
     "name": "stderr",
     "output_type": "stream",
     "text": [
      "\r",
      "\u001b[32mTraining... 47%|███████████████████                     |  ETA: 0:00:30\u001b[39"
     ]
    },
    {
     "name": "stderr",
     "output_type": "stream",
     "text": [
      "m\r",
      "\u001b[32mTraining... 47%|███████████████████                     |  ETA: 0:00:30\u001b[39m"
     ]
    },
    {
     "name": "stderr",
     "output_type": "stream",
     "text": [
      "\r",
      "\u001b[32mTraining... 47%|███████████████████                     |  ETA: 0:00:30\u001b[39"
     ]
    },
    {
     "name": "stderr",
     "output_type": "stream",
     "text": [
      "m"
     ]
    },
    {
     "name": "stderr",
     "output_type": "stream",
     "text": [
      "\r",
      "\u001b[32mTraining... 47%|███████████████████                     |  ETA: 0:00:29\u001b[39m"
     ]
    },
    {
     "name": "stderr",
     "output_type": "stream",
     "text": [
      "\r",
      "\u001b[32mTraining... 47%|███████████████████                     |  ETA: 0:00:29\u001b[39m"
     ]
    },
    {
     "name": "stderr",
     "output_type": "stream",
     "text": [
      "\r",
      "\u001b[32mTraining... 48%|████████████████████                    |  ETA: 0:00:29\u001b[39m"
     ]
    },
    {
     "name": "stderr",
     "output_type": "stream",
     "text": [
      "\r",
      "\u001b[32mTraining... 48%|████████████████████                    |  ETA: 0:00:29\u001b[39m"
     ]
    },
    {
     "name": "stderr",
     "output_type": "stream",
     "text": [
      "\r",
      "\u001b[32mTraining... 48%|████████████████████                    |  ETA: 0:00:29\u001b[39m"
     ]
    },
    {
     "name": "stderr",
     "output_type": "stream",
     "text": [
      "\r",
      "\u001b[32mTraining... 48%|████████████████████                    |  ETA: 0:00:29\u001b[39m"
     ]
    },
    {
     "name": "stderr",
     "output_type": "stream",
     "text": [
      "\r",
      "\u001b[32mTraining... 49%|████████████████████                    |  ETA: 0:00:28\u001b[39m"
     ]
    },
    {
     "name": "stderr",
     "output_type": "stream",
     "text": [
      "\r",
      "\u001b[32mTraining... 49%|████████████████████                    |  ETA: 0:00:28\u001b[39m"
     ]
    },
    {
     "name": "stderr",
     "output_type": "stream",
     "text": [
      "\r",
      "\u001b[32mTraining... 49%|████████████████████                    |  ETA: 0:00:28\u001b[39m"
     ]
    },
    {
     "name": "stderr",
     "output_type": "stream",
     "text": [
      "\r",
      "\u001b[32mTraining... 49%|████████████████████                    |  ETA: 0:00:28\u001b[39m"
     ]
    },
    {
     "name": "stderr",
     "output_type": "stream",
     "text": [
      "\r",
      "\u001b[32mTraining... 50%|████████████████████                    |  ETA: 0:00:28\u001b[39m"
     ]
    },
    {
     "name": "stderr",
     "output_type": "stream",
     "text": [
      "\r",
      "\u001b[32mTraining... 50%|████████████████████                    |  ETA: 0:00:28\u001b[39m"
     ]
    },
    {
     "name": "stderr",
     "output_type": "stream",
     "text": [
      "\r",
      "\u001b[32mTraining... 50%|█████████████████████                   |  ETA: 0:00:28\u001b[39m"
     ]
    },
    {
     "name": "stderr",
     "output_type": "stream",
     "text": [
      "\r",
      "\u001b[32mTraining... 50%|█████████████████████                   |  ETA: 0:00:27\u001b[39m"
     ]
    },
    {
     "name": "stderr",
     "output_type": "stream",
     "text": [
      "\r",
      "\u001b[32mTraining... 51%|█████████████████████                   |  ETA: 0:00:27\u001b[39m"
     ]
    },
    {
     "name": "stderr",
     "output_type": "stream",
     "text": [
      "\r",
      "\u001b[32mTraining... 51%|█████████████████████                   |  ETA: 0:00:27\u001b[39m"
     ]
    },
    {
     "name": "stderr",
     "output_type": "stream",
     "text": [
      "\r",
      "\u001b[32mTraining... 51%|█████████████████████                   |  ETA: 0:00:27\u001b[39m"
     ]
    },
    {
     "name": "stderr",
     "output_type": "stream",
     "text": [
      "\r",
      "\u001b[32mTraining... 51%|█████████████████████                   |  ETA: 0:00:27\u001b[39m"
     ]
    },
    {
     "name": "stderr",
     "output_type": "stream",
     "text": [
      "\r",
      "\u001b[32mTraining... 51%|█████████████████████                   |  ETA: 0:00:27\u001b[39m"
     ]
    },
    {
     "name": "stderr",
     "output_type": "stream",
     "text": [
      "\r",
      "\u001b[32mTraining... 52%|█████████████████████                   |  ETA: 0:00:26\u001b[39m"
     ]
    },
    {
     "name": "stderr",
     "output_type": "stream",
     "text": [
      "\r",
      "\u001b[32mTraining... 52%|█████████████████████                   |  ETA: 0:00:26\u001b[39m"
     ]
    },
    {
     "name": "stderr",
     "output_type": "stream",
     "text": [
      "\r",
      "\u001b[32mTraining... 52%|█████████████████████                   |  ETA: 0:00:26\u001b[39m"
     ]
    },
    {
     "name": "stderr",
     "output_type": "stream",
     "text": [
      "\r",
      "\u001b[32mTraining... 52%|█████████████████████                   |  ETA: 0:00:26\u001b[39m"
     ]
    },
    {
     "name": "stderr",
     "output_type": "stream",
     "text": [
      "\r",
      "\u001b[32mTraining... 53%|██████████████████████                  |  ETA: 0:00:26\u001b[39m"
     ]
    },
    {
     "name": "stderr",
     "output_type": "stream",
     "text": [
      "\r",
      "\u001b[32mTraining... 53%|██████████████████████                  |  ETA: 0:00:26\u001b[39m"
     ]
    },
    {
     "name": "stderr",
     "output_type": "stream",
     "text": [
      "\r",
      "\u001b[32mTraining... 53%|██████████████████████                  |  ETA: 0:00:26\u001b[39m"
     ]
    },
    {
     "name": "stderr",
     "output_type": "stream",
     "text": [
      "\r",
      "\u001b[32mTraining... 53%|██████████████████████                  |  ETA: 0:00:25\u001b[39m"
     ]
    },
    {
     "name": "stderr",
     "output_type": "stream",
     "text": [
      "\r",
      "\u001b[32mTraining... 54%|██████████████████████                  |  ETA: 0:00:25\u001b[39m"
     ]
    },
    {
     "name": "stderr",
     "output_type": "stream",
     "text": [
      "\r",
      "\u001b[32mTraining... 54%|██████████████████████                  |  ETA: 0:00:25\u001b[39m"
     ]
    },
    {
     "name": "stderr",
     "output_type": "stream",
     "text": [
      "\r",
      "\u001b[32mTraining... 54%|██████████████████████                  |  ETA: 0:00:25\u001b[39m"
     ]
    },
    {
     "name": "stderr",
     "output_type": "stream",
     "text": [
      "\r",
      "\u001b[32mTraining... 54%|██████████████████████                  |  ETA: 0:00:25\u001b[39m"
     ]
    },
    {
     "name": "stderr",
     "output_type": "stream",
     "text": [
      "\r",
      "\u001b[32mTraining... 55%|██████████████████████                  |  ETA: 0:00:25\u001b[39m"
     ]
    },
    {
     "name": "stderr",
     "output_type": "stream",
     "text": [
      "\r",
      "\u001b[32mTraining... 55%|██████████████████████                  |  ETA: 0:00:24\u001b[39m"
     ]
    },
    {
     "name": "stderr",
     "output_type": "stream",
     "text": [
      "\r",
      "\u001b[32mTraining... 55%|██████████████████████                  |  ETA: 0:00:24\u001b[39m"
     ]
    },
    {
     "name": "stderr",
     "output_type": "stream",
     "text": [
      "\r",
      "\u001b[32mTraining... 55%|███████████████████████                 |  ETA: 0:00:24\u001b[39m"
     ]
    },
    {
     "name": "stderr",
     "output_type": "stream",
     "text": [
      "\r",
      "\u001b[32mTraining... 55%|███████████████████████                 |  ETA: 0:00:24\u001b[39m"
     ]
    },
    {
     "name": "stderr",
     "output_type": "stream",
     "text": [
      "\r",
      "\u001b[32mTraining... 56%|███████████████████████                 |  ETA: 0:00:24\u001b[39m"
     ]
    },
    {
     "name": "stderr",
     "output_type": "stream",
     "text": [
      "\r",
      "\u001b[32mTraining... 56%|███████████████████████                 |  ETA: 0:00:24\u001b[39m"
     ]
    },
    {
     "name": "stderr",
     "output_type": "stream",
     "text": [
      "\r",
      "\u001b[32mTraining... 56%|███████████████████████                 |  ETA: 0:00:24\u001b[39m"
     ]
    },
    {
     "name": "stderr",
     "output_type": "stream",
     "text": [
      "\r",
      "\u001b[32mTraining... 56%|███████████████████████                 |  ETA: 0:00:23\u001b[39m"
     ]
    },
    {
     "name": "stderr",
     "output_type": "stream",
     "text": [
      "\r",
      "\u001b[32mTraining... 57%|███████████████████████                 |  ETA: 0:00:23\u001b[39m"
     ]
    },
    {
     "name": "stderr",
     "output_type": "stream",
     "text": [
      "\r",
      "\u001b[32mTraining... 57%|███████████████████████                 |  ETA: 0:00:23\u001b[39m"
     ]
    },
    {
     "name": "stderr",
     "output_type": "stream",
     "text": [
      "\r",
      "\u001b[32mTraining... 57%|███████████████████████                 |  ETA: 0:00:23\u001b[39m"
     ]
    },
    {
     "name": "stderr",
     "output_type": "stream",
     "text": [
      "\r",
      "\u001b[32mTraining... 57%|███████████████████████                 |  ETA: 0:00:23\u001b[39m"
     ]
    },
    {
     "name": "stderr",
     "output_type": "stream",
     "text": [
      "\r",
      "\u001b[32mTraining... 58%|████████████████████████                |  ETA: 0:00:23\u001b[39m"
     ]
    },
    {
     "name": "stderr",
     "output_type": "stream",
     "text": [
      "\r",
      "\u001b[32mTraining... 58%|████████████████████████                |  ETA: 0:00:23\u001b[39m"
     ]
    },
    {
     "name": "stderr",
     "output_type": "stream",
     "text": [
      "\r",
      "\u001b[32mTraining... 58%|████████████████████████                |  ETA: 0:00:22\u001b[39m"
     ]
    },
    {
     "name": "stderr",
     "output_type": "stream",
     "text": [
      "\r",
      "\u001b[32mTraining... 58%|████████████████████████                |  ETA: 0:00:22\u001b[39m"
     ]
    },
    {
     "name": "stderr",
     "output_type": "stream",
     "text": [
      "\r",
      "\u001b[32mTraining... 58%|████████████████████████                |  ETA: 0:00:22\u001b[39m"
     ]
    },
    {
     "name": "stderr",
     "output_type": "stream",
     "text": [
      "\r",
      "\u001b[32mTraining... 59%|████████████████████████                |  ETA: 0:00:22\u001b[39m"
     ]
    },
    {
     "name": "stderr",
     "output_type": "stream",
     "text": [
      "\r",
      "\u001b[32mTraining... 59%|████████████████████████                |  ETA: 0:00:22\u001b[39m"
     ]
    },
    {
     "name": "stderr",
     "output_type": "stream",
     "text": [
      "\r",
      "\u001b[32mTraining... 59%|████████████████████████                |  ETA: 0:00:22\u001b[39m"
     ]
    },
    {
     "name": "stderr",
     "output_type": "stream",
     "text": [
      "\r",
      "\u001b[32mTraining... 59%|████████████████████████                |  ETA: 0:00:22\u001b[39m"
     ]
    },
    {
     "name": "stderr",
     "output_type": "stream",
     "text": [
      "\r",
      "\u001b[32mTraining... 60%|████████████████████████                |  ETA: 0:00:21\u001b[39m"
     ]
    },
    {
     "name": "stderr",
     "output_type": "stream",
     "text": [
      "\r",
      "\u001b[32mTraining... 60%|████████████████████████                |  ETA: 0:00:21\u001b[39m"
     ]
    },
    {
     "name": "stderr",
     "output_type": "stream",
     "text": [
      "\r",
      "\u001b[32mTraining... 60%|█████████████████████████               |  ETA: 0:00:21\u001b[39m"
     ]
    },
    {
     "name": "stderr",
     "output_type": "stream",
     "text": [
      "\r",
      "\u001b[32mTraining... 60%|█████████████████████████               |  ETA: 0:00:21\u001b[39m"
     ]
    },
    {
     "name": "stderr",
     "output_type": "stream",
     "text": [
      "\r",
      "\u001b[32mTraining... 61%|█████████████████████████               |  ETA: 0:00:21\u001b[39m"
     ]
    },
    {
     "name": "stderr",
     "output_type": "stream",
     "text": [
      "\r",
      "\u001b[32mTraining... 61%|█████████████████████████               |  ETA: 0:00:21\u001b[39m"
     ]
    },
    {
     "name": "stderr",
     "output_type": "stream",
     "text": [
      "\r",
      "\u001b[32mTraining... 61%|█████████████████████████               |  ETA: 0:00:21\u001b[39m"
     ]
    },
    {
     "name": "stderr",
     "output_type": "stream",
     "text": [
      "\r",
      "\u001b[32mTraining... 61%|█████████████████████████               |  ETA: 0:00:21\u001b[39m"
     ]
    },
    {
     "name": "stderr",
     "output_type": "stream",
     "text": [
      "\r",
      "\u001b[32mTraining... 62%|█████████████████████████               |  ETA: 0:00:20\u001b[39m"
     ]
    },
    {
     "name": "stderr",
     "output_type": "stream",
     "text": [
      "\r",
      "\u001b[32mTraining... 62%|█████████████████████████               |  ETA: 0:00:20\u001b[39m"
     ]
    },
    {
     "name": "stderr",
     "output_type": "stream",
     "text": [
      "\r",
      "\u001b[32mTraining... 62%|█████████████████████████               |  ETA: 0:00:20\u001b[39m"
     ]
    },
    {
     "name": "stderr",
     "output_type": "stream",
     "text": [
      "\r",
      "\u001b[32mTraining... 62%|█████████████████████████               |  ETA: 0:00:20\u001b[39m"
     ]
    },
    {
     "name": "stderr",
     "output_type": "stream",
     "text": [
      "\r",
      "\u001b[32mTraining... 62%|█████████████████████████               |  ETA: 0:00:20\u001b[39m"
     ]
    },
    {
     "name": "stderr",
     "output_type": "stream",
     "text": [
      "\r",
      "\u001b[32mTraining... 63%|██████████████████████████              |  ETA: 0:00:20\u001b[39m"
     ]
    },
    {
     "name": "stderr",
     "output_type": "stream",
     "text": [
      "\r",
      "\u001b[32mTraining... 63%|██████████████████████████              |  ETA: 0:00:20\u001b[39m"
     ]
    },
    {
     "name": "stderr",
     "output_type": "stream",
     "text": [
      "\r",
      "\u001b[32mTraining... 63%|██████████████████████████              |  ETA: 0:00:19\u001b[39m"
     ]
    },
    {
     "name": "stderr",
     "output_type": "stream",
     "text": [
      "\r",
      "\u001b[32mTraining... 63%|██████████████████████████              |  ETA: 0:00:19\u001b[39m"
     ]
    },
    {
     "name": "stderr",
     "output_type": "stream",
     "text": [
      "\r",
      "\u001b[32mTraining... 64%|██████████████████████████              |  ETA: 0:00:19\u001b[39m"
     ]
    },
    {
     "name": "stderr",
     "output_type": "stream",
     "text": [
      "\r",
      "\u001b[32mTraining... 64%|██████████████████████████              |  ETA: 0:00:19\u001b[39m"
     ]
    },
    {
     "name": "stderr",
     "output_type": "stream",
     "text": [
      "\r",
      "\u001b[32mTraining... 64%|██████████████████████████              |  ETA: 0:00:19\u001b[39m"
     ]
    },
    {
     "name": "stderr",
     "output_type": "stream",
     "text": [
      "\r",
      "\u001b[32mTraining... 64%|██████████████████████████              |  ETA: 0:00:19\u001b[39m"
     ]
    },
    {
     "name": "stderr",
     "output_type": "stream",
     "text": [
      "\r",
      "\u001b[32mTraining... 65%|██████████████████████████              |  ETA: 0:00:19\u001b[39m"
     ]
    },
    {
     "name": "stderr",
     "output_type": "stream",
     "text": [
      "\r",
      "\u001b[32mTraining... 65%|██████████████████████████              |  ETA: 0:00:19\u001b[39m"
     ]
    },
    {
     "name": "stderr",
     "output_type": "stream",
     "text": [
      "\r",
      "\u001b[32mTraining... 65%|██████████████████████████              |  ETA: 0:00:18\u001b[39m"
     ]
    },
    {
     "name": "stderr",
     "output_type": "stream",
     "text": [
      "\r",
      "\u001b[32mTraining... 65%|███████████████████████████             |  ETA: 0:00:18\u001b[39m"
     ]
    },
    {
     "name": "stderr",
     "output_type": "stream",
     "text": [
      "\r",
      "\u001b[32mTraining... 65%|███████████████████████████             |  ETA: 0:00:18\u001b[39m"
     ]
    },
    {
     "name": "stderr",
     "output_type": "stream",
     "text": [
      "\r",
      "\u001b[32mTraining... 66%|███████████████████████████             |  ETA: 0:00:18\u001b[39m"
     ]
    },
    {
     "name": "stderr",
     "output_type": "stream",
     "text": [
      "\r",
      "\u001b[32mTraining... 66%|███████████████████████████             |  ETA: 0:00:18\u001b[39m"
     ]
    },
    {
     "name": "stderr",
     "output_type": "stream",
     "text": [
      "\r",
      "\u001b[32mTraining... 66%|███████████████████████████             |  ETA: 0:00:18\u001b[39m"
     ]
    },
    {
     "name": "stderr",
     "output_type": "stream",
     "text": [
      "\r",
      "\u001b[32mTraining... 66%|███████████████████████████             |  ETA: 0:00:18\u001b[39m"
     ]
    },
    {
     "name": "stderr",
     "output_type": "stream",
     "text": [
      "\r",
      "\u001b[32mTraining... 67%|███████████████████████████             |  ETA: 0:00:17\u001b[39m"
     ]
    },
    {
     "name": "stderr",
     "output_type": "stream",
     "text": [
      "\r",
      "\u001b[32mTraining... 67%|███████████████████████████             |  ETA: 0:00:17\u001b[39m"
     ]
    },
    {
     "name": "stderr",
     "output_type": "stream",
     "text": [
      "\r",
      "\u001b[32mTraining... 67%|███████████████████████████             |  ETA: 0:00:17\u001b[39m"
     ]
    },
    {
     "name": "stderr",
     "output_type": "stream",
     "text": [
      "\r",
      "\u001b[32mTraining... 67%|███████████████████████████             |  ETA: 0:00:17\u001b[39m"
     ]
    },
    {
     "name": "stderr",
     "output_type": "stream",
     "text": [
      "\r",
      "\u001b[32mTraining... 68%|████████████████████████████            |  ETA: 0:00:17\u001b[39m"
     ]
    },
    {
     "name": "stderr",
     "output_type": "stream",
     "text": [
      "\r",
      "\u001b[32mTraining... 68%|████████████████████████████            |  ETA: 0:00:17\u001b[39m"
     ]
    },
    {
     "name": "stderr",
     "output_type": "stream",
     "text": [
      "\r",
      "\u001b[32mTraining... 68%|████████████████████████████            |  ETA: 0:00:17\u001b[39m"
     ]
    },
    {
     "name": "stderr",
     "output_type": "stream",
     "text": [
      "\r",
      "\u001b[32mTraining... 68%|████████████████████████████            |  ETA: 0:00:17\u001b[39m"
     ]
    },
    {
     "name": "stderr",
     "output_type": "stream",
     "text": [
      "\r",
      "\u001b[32mTraining... 68%|████████████████████████████            |  ETA: 0:00:16\u001b[39m"
     ]
    },
    {
     "name": "stderr",
     "output_type": "stream",
     "text": [
      "\r",
      "\u001b[32mTraining... 69%|████████████████████████████            |  ETA: 0:00:16\u001b[39m"
     ]
    },
    {
     "name": "stderr",
     "output_type": "stream",
     "text": [
      "\r",
      "\u001b[32mTraining... 69%|████████████████████████████            |  ETA: 0:00:16\u001b[39m"
     ]
    },
    {
     "name": "stderr",
     "output_type": "stream",
     "text": [
      "\r",
      "\u001b[32mTraining... 69%|████████████████████████████            |  ETA: 0:00:16\u001b[39m"
     ]
    },
    {
     "name": "stderr",
     "output_type": "stream",
     "text": [
      "\r",
      "\u001b[32mTraining... 69%|████████████████████████████            |  ETA: 0:00:16\u001b[39m"
     ]
    },
    {
     "name": "stderr",
     "output_type": "stream",
     "text": [
      "\r",
      "\u001b[32mTraining... 70%|████████████████████████████            |  ETA: 0:00:16\u001b[39m"
     ]
    },
    {
     "name": "stderr",
     "output_type": "stream",
     "text": [
      "\r",
      "\u001b[32mTraining... 70%|████████████████████████████            |  ETA: 0:00:16\u001b[39m"
     ]
    },
    {
     "name": "stderr",
     "output_type": "stream",
     "text": [
      "\r",
      "\u001b[32mTraining... 70%|█████████████████████████████           |  ETA: 0:00:16\u001b[39m"
     ]
    },
    {
     "name": "stderr",
     "output_type": "stream",
     "text": [
      "\r",
      "\u001b[32mTraining... 70%|█████████████████████████████           |  ETA: 0:00:15\u001b[39m"
     ]
    },
    {
     "name": "stderr",
     "output_type": "stream",
     "text": [
      "\r",
      "\u001b[32mTraining... 71%|█████████████████████████████           |  ETA: 0:00:15\u001b[39m"
     ]
    },
    {
     "name": "stderr",
     "output_type": "stream",
     "text": [
      "\r",
      "\u001b[32mTraining... 71%|█████████████████████████████           |  ETA: 0:00:15\u001b[39m"
     ]
    },
    {
     "name": "stderr",
     "output_type": "stream",
     "text": [
      "\r",
      "\u001b[32mTraining... 71%|█████████████████████████████           |  ETA: 0:00:15\u001b[39m"
     ]
    },
    {
     "name": "stderr",
     "output_type": "stream",
     "text": [
      "\r",
      "\u001b[32mTraining... 71%|█████████████████████████████           |  ETA: 0:00:15\u001b[39m"
     ]
    },
    {
     "name": "stderr",
     "output_type": "stream",
     "text": [
      "\r",
      "\u001b[32mTraining... 71%|█████████████████████████████           |  ETA: 0:00:15\u001b[39m"
     ]
    },
    {
     "name": "stderr",
     "output_type": "stream",
     "text": [
      "\r",
      "\u001b[32mTraining... 72%|█████████████████████████████           |  ETA: 0:00:15\u001b[39m"
     ]
    },
    {
     "name": "stderr",
     "output_type": "stream",
     "text": [
      "\r",
      "\u001b[32mTraining... 72%|█████████████████████████████           |  ETA: 0:00:15\u001b[39m"
     ]
    },
    {
     "name": "stderr",
     "output_type": "stream",
     "text": [
      "\r",
      "\u001b[32mTraining... 72%|█████████████████████████████           |  ETA: 0:00:14\u001b[39m"
     ]
    },
    {
     "name": "stderr",
     "output_type": "stream",
     "text": [
      "\r",
      "\u001b[32mTraining... 72%|█████████████████████████████           |  ETA: 0:00:14\u001b[39m"
     ]
    },
    {
     "name": "stderr",
     "output_type": "stream",
     "text": [
      "\r",
      "\u001b[32mTraining... 73%|██████████████████████████████          |  ETA: 0:00:14\u001b[39m"
     ]
    },
    {
     "name": "stderr",
     "output_type": "stream",
     "text": [
      "\r",
      "\u001b[32mTraining... 73%|██████████████████████████████          |  ETA: 0:00:14\u001b[39m"
     ]
    },
    {
     "name": "stderr",
     "output_type": "stream",
     "text": [
      "\r",
      "\u001b[32mTraining... 73%|██████████████████████████████          |  ETA: 0:00:14\u001b[39m"
     ]
    },
    {
     "name": "stderr",
     "output_type": "stream",
     "text": [
      "\r",
      "\u001b[32mTraining... 73%|██████████████████████████████          |  ETA: 0:00:14\u001b[39m"
     ]
    },
    {
     "name": "stderr",
     "output_type": "stream",
     "text": [
      "\r",
      "\u001b[32mTraining... 74%|██████████████████████████████          |  ETA: 0:00:14\u001b[39m"
     ]
    },
    {
     "name": "stderr",
     "output_type": "stream",
     "text": [
      "\r",
      "\u001b[32mTraining... 74%|██████████████████████████████          |  ETA: 0:00:13\u001b[39m"
     ]
    },
    {
     "name": "stderr",
     "output_type": "stream",
     "text": [
      "\r",
      "\u001b[32mTraining... 74%|██████████████████████████████          |  ETA: 0:00:13\u001b[39m"
     ]
    },
    {
     "name": "stderr",
     "output_type": "stream",
     "text": [
      "\r",
      "\u001b[32mTraining... 74%|██████████████████████████████          |  ETA: 0:00:13\u001b[39m"
     ]
    },
    {
     "name": "stderr",
     "output_type": "stream",
     "text": [
      "\r",
      "\u001b[32mTraining... 75%|██████████████████████████████          |  ETA: 0:00:13\u001b[39m"
     ]
    },
    {
     "name": "stderr",
     "output_type": "stream",
     "text": [
      "\r",
      "\u001b[32mTraining... 75%|██████████████████████████████          |  ETA: 0:00:13\u001b[39m"
     ]
    },
    {
     "name": "stderr",
     "output_type": "stream",
     "text": [
      "\r",
      "\u001b[32mTraining... 75%|██████████████████████████████          |  ETA: 0:00:13\u001b[39m"
     ]
    },
    {
     "name": "stderr",
     "output_type": "stream",
     "text": [
      "\r",
      "\u001b[32mTraining... 75%|███████████████████████████████         |  ETA: 0:00:13\u001b[39m"
     ]
    },
    {
     "name": "stderr",
     "output_type": "stream",
     "text": [
      "\r",
      "\u001b[32mTraining... 75%|███████████████████████████████         |  ETA: 0:00:13\u001b[39m"
     ]
    },
    {
     "name": "stderr",
     "output_type": "stream",
     "text": [
      "\r",
      "\u001b[32mTraining... 76%|███████████████████████████████         |  ETA: 0:00:12\u001b[39m"
     ]
    },
    {
     "name": "stderr",
     "output_type": "stream",
     "text": [
      "\r",
      "\u001b[32mTraining... 76%|███████████████████████████████         |  ETA: 0:00:12\u001b[39m"
     ]
    },
    {
     "name": "stderr",
     "output_type": "stream",
     "text": [
      "\r",
      "\u001b[32mTraining... 76%|███████████████████████████████         |  ETA: 0:00:12\u001b[39m"
     ]
    },
    {
     "name": "stderr",
     "output_type": "stream",
     "text": [
      "\r",
      "\u001b[32mTraining... 76%|███████████████████████████████         |  ETA: 0:00:12\u001b[39m"
     ]
    },
    {
     "name": "stderr",
     "output_type": "stream",
     "text": [
      "\r",
      "\u001b[32mTraining... 77%|███████████████████████████████         |  ETA: 0:00:12\u001b[39m"
     ]
    },
    {
     "name": "stderr",
     "output_type": "stream",
     "text": [
      "\r",
      "\u001b[32mTraining... 77%|███████████████████████████████         |  ETA: 0:00:12\u001b[39m"
     ]
    },
    {
     "name": "stderr",
     "output_type": "stream",
     "text": [
      "\r",
      "\u001b[32mTraining... 77%|███████████████████████████████         |  ETA: 0:00:12\u001b[39m"
     ]
    },
    {
     "name": "stderr",
     "output_type": "stream",
     "text": [
      "\r",
      "\u001b[32mTraining... 77%|███████████████████████████████         |  ETA: 0:00:12\u001b[39m"
     ]
    },
    {
     "name": "stderr",
     "output_type": "stream",
     "text": [
      "\r",
      "\u001b[32mTraining... 78%|████████████████████████████████        |  ETA: 0:00:11\u001b[39m"
     ]
    },
    {
     "name": "stderr",
     "output_type": "stream",
     "text": [
      "\r",
      "\u001b[32mTraining... 78%|████████████████████████████████        |  ETA: 0:00:11\u001b[39m"
     ]
    },
    {
     "name": "stderr",
     "output_type": "stream",
     "text": [
      "\r",
      "\u001b[32mTraining... 78%|████████████████████████████████        |  ETA: 0:00:11\u001b[39m"
     ]
    },
    {
     "name": "stderr",
     "output_type": "stream",
     "text": [
      "\r",
      "\u001b[32mTraining... 78%|████████████████████████████████        |  ETA: 0:00:11\u001b[39m"
     ]
    },
    {
     "name": "stderr",
     "output_type": "stream",
     "text": [
      "\r",
      "\u001b[32mTraining... 78%|████████████████████████████████        |  ETA: 0:00:11\u001b[39m"
     ]
    },
    {
     "name": "stderr",
     "output_type": "stream",
     "text": [
      "\r",
      "\u001b[32mTraining... 79%|████████████████████████████████        |  ETA: 0:00:11\u001b[39m"
     ]
    },
    {
     "name": "stderr",
     "output_type": "stream",
     "text": [
      "\r",
      "\u001b[32mTraining... 79%|████████████████████████████████        |  ETA: 0:00:11\u001b[39m"
     ]
    },
    {
     "name": "stderr",
     "output_type": "stream",
     "text": [
      "\r",
      "\u001b[32mTraining... 79%|████████████████████████████████        |  ETA: 0:00:11\u001b[39m"
     ]
    },
    {
     "name": "stderr",
     "output_type": "stream",
     "text": [
      "\r",
      "\u001b[32mTraining... 79%|████████████████████████████████        |  ETA: 0:00:10\u001b[39m"
     ]
    },
    {
     "name": "stderr",
     "output_type": "stream",
     "text": [
      "\r",
      "\u001b[32mTraining... 80%|████████████████████████████████        |  ETA: 0:00:10\u001b[39m"
     ]
    },
    {
     "name": "stderr",
     "output_type": "stream",
     "text": [
      "\r",
      "\u001b[32mTraining... 80%|████████████████████████████████        |  ETA: 0:00:10\u001b[39m"
     ]
    },
    {
     "name": "stderr",
     "output_type": "stream",
     "text": [
      "\r",
      "\u001b[32mTraining... 80%|█████████████████████████████████       |  ETA: 0:00:10\u001b[39m"
     ]
    },
    {
     "name": "stderr",
     "output_type": "stream",
     "text": [
      "\r",
      "\u001b[32mTraining... 80%|█████████████████████████████████       |  ETA: 0:00:10\u001b[39m"
     ]
    },
    {
     "name": "stderr",
     "output_type": "stream",
     "text": [
      "\r",
      "\u001b[32mTraining... 81%|█████████████████████████████████       |  ETA: 0:00:10\u001b[39m"
     ]
    },
    {
     "name": "stderr",
     "output_type": "stream",
     "text": [
      "\r",
      "\u001b[32mTraining... 81%|█████████████████████████████████       |  ETA: 0:00:10\u001b[39m"
     ]
    },
    {
     "name": "stderr",
     "output_type": "stream",
     "text": [
      "\r",
      "\u001b[32mTraining... 81%|█████████████████████████████████       |  ETA: 0:00:10\u001b[39m"
     ]
    },
    {
     "name": "stderr",
     "output_type": "stream",
     "text": [
      "\r",
      "\u001b[32mTraining... 81%|█████████████████████████████████       |  ETA: 0:00:09\u001b[39m"
     ]
    },
    {
     "name": "stderr",
     "output_type": "stream",
     "text": [
      "\r",
      "\u001b[32mTraining... 82%|█████████████████████████████████       |  ETA: 0:00:09\u001b[39m"
     ]
    },
    {
     "name": "stderr",
     "output_type": "stream",
     "text": [
      "\r",
      "\u001b[32mTraining... 82%|█████████████████████████████████       |  ETA: 0:00:09\u001b[39m"
     ]
    },
    {
     "name": "stderr",
     "output_type": "stream",
     "text": [
      "\r",
      "\u001b[32mTraining... 82%|█████████████████████████████████       |  ETA: 0:00:09\u001b[39m"
     ]
    },
    {
     "name": "stderr",
     "output_type": "stream",
     "text": [
      "\r",
      "\u001b[32mTraining... 82%|█████████████████████████████████       |  ETA: 0:00:09\u001b[39m"
     ]
    },
    {
     "name": "stderr",
     "output_type": "stream",
     "text": [
      "\r",
      "\u001b[32mTraining... 83%|██████████████████████████████████      |  ETA: 0:00:09\u001b[39m"
     ]
    },
    {
     "name": "stderr",
     "output_type": "stream",
     "text": [
      "\r",
      "\u001b[32mTraining... 83%|██████████████████████████████████      |  ETA: 0:00:09\u001b[39m"
     ]
    },
    {
     "name": "stderr",
     "output_type": "stream",
     "text": [
      "\r",
      "\u001b[32mTraining... 83%|██████████████████████████████████      |  ETA: 0:00:09\u001b[39m"
     ]
    },
    {
     "name": "stderr",
     "output_type": "stream",
     "text": [
      "\r",
      "\u001b[32mTraining... 83%|██████████████████████████████████      |  ETA: 0:00:08\u001b[39m"
     ]
    },
    {
     "name": "stderr",
     "output_type": "stream",
     "text": [
      "\r",
      "\u001b[32mTraining... 83%|██████████████████████████████████      |  ETA: 0:00:08\u001b[39m"
     ]
    },
    {
     "name": "stderr",
     "output_type": "stream",
     "text": [
      "\r",
      "\u001b[32mTraining... 84%|██████████████████████████████████      |  ETA: 0:00:08\u001b[39m"
     ]
    },
    {
     "name": "stderr",
     "output_type": "stream",
     "text": [
      "\r",
      "\u001b[32mTraining... 84%|██████████████████████████████████      |  ETA: 0:00:08\u001b[39m"
     ]
    },
    {
     "name": "stderr",
     "output_type": "stream",
     "text": [
      "\r",
      "\u001b[32mTraining... 84%|██████████████████████████████████      |  ETA: 0:00:08\u001b[39m"
     ]
    },
    {
     "name": "stderr",
     "output_type": "stream",
     "text": [
      "\r",
      "\u001b[32mTraining... 84%|██████████████████████████████████      |  ETA: 0:00:08\u001b[39m"
     ]
    },
    {
     "name": "stderr",
     "output_type": "stream",
     "text": [
      "\r",
      "\u001b[32mTraining... 85%|██████████████████████████████████      |  ETA: 0:00:08\u001b[39m"
     ]
    },
    {
     "name": "stderr",
     "output_type": "stream",
     "text": [
      "\r",
      "\u001b[32mTraining... 85%|██████████████████████████████████      |  ETA: 0:00:08\u001b[39m"
     ]
    },
    {
     "name": "stderr",
     "output_type": "stream",
     "text": [
      "\r",
      "\u001b[32mTraining... 85%|███████████████████████████████████     |  ETA: 0:00:08\u001b[39m"
     ]
    },
    {
     "name": "stderr",
     "output_type": "stream",
     "text": [
      "\r",
      "\u001b[32mTraining... 85%|███████████████████████████████████     |  ETA: 0:00:07\u001b[39m"
     ]
    },
    {
     "name": "stderr",
     "output_type": "stream",
     "text": [
      "\r",
      "\u001b[32mTraining... 86%|███████████████████████████████████     |  ETA: 0:00:07\u001b[39m"
     ]
    },
    {
     "name": "stderr",
     "output_type": "stream",
     "text": [
      "\r",
      "\u001b[32mTraining... 86%|███████████████████████████████████     |  ETA: 0:00:07\u001b[39m"
     ]
    },
    {
     "name": "stderr",
     "output_type": "stream",
     "text": [
      "\r",
      "\u001b[32mTraining... 86%|███████████████████████████████████     |  ETA: 0:00:07\u001b[39m"
     ]
    },
    {
     "name": "stderr",
     "output_type": "stream",
     "text": [
      "\r",
      "\u001b[32mTraining... 86%|███████████████████████████████████     |  ETA: 0:00:07\u001b[39m"
     ]
    },
    {
     "name": "stderr",
     "output_type": "stream",
     "text": [
      "\r",
      "\u001b[32mTraining... 87%|███████████████████████████████████     |  ETA: 0:00:07\u001b[39m"
     ]
    },
    {
     "name": "stderr",
     "output_type": "stream",
     "text": [
      "\r",
      "\u001b[32mTraining... 87%|███████████████████████████████████     |  ETA: 0:00:07\u001b[39m"
     ]
    },
    {
     "name": "stderr",
     "output_type": "stream",
     "text": [
      "\r",
      "\u001b[32mTraining... 87%|███████████████████████████████████     |  ETA: 0:00:07\u001b[39m"
     ]
    },
    {
     "name": "stderr",
     "output_type": "stream",
     "text": [
      "\r",
      "\u001b[32mTraining... 87%|███████████████████████████████████     |  ETA: 0:00:06\u001b[39m"
     ]
    },
    {
     "name": "stderr",
     "output_type": "stream",
     "text": [
      "\r",
      "\u001b[32mTraining... 87%|███████████████████████████████████     |  ETA: 0:00:06\u001b[39m"
     ]
    },
    {
     "name": "stderr",
     "output_type": "stream",
     "text": [
      "\r",
      "\u001b[32mTraining... 88%|████████████████████████████████████    |  ETA: 0:00:06\u001b[39m"
     ]
    },
    {
     "name": "stderr",
     "output_type": "stream",
     "text": [
      "\r",
      "\u001b[32mTraining... 88%|████████████████████████████████████    |  ETA: 0:00:06\u001b[39m"
     ]
    },
    {
     "name": "stderr",
     "output_type": "stream",
     "text": [
      "\r",
      "\u001b[32mTraining... 88%|████████████████████████████████████    |  ETA: 0:00:06\u001b[39m"
     ]
    },
    {
     "name": "stderr",
     "output_type": "stream",
     "text": [
      "\r",
      "\u001b[32mTraining... 88%|████████████████████████████████████    |  ETA: 0:00:06\u001b[39m"
     ]
    },
    {
     "name": "stderr",
     "output_type": "stream",
     "text": [
      "\r",
      "\u001b[32mTraining... 89%|████████████████████████████████████    |  ETA: 0:00:06\u001b[39m"
     ]
    },
    {
     "name": "stderr",
     "output_type": "stream",
     "text": [
      "\r",
      "\u001b[32mTraining... 89%|████████████████████████████████████    |  ETA: 0:00:06\u001b[39m"
     ]
    },
    {
     "name": "stderr",
     "output_type": "stream",
     "text": [
      "\r",
      "\u001b[32mTraining... 89%|████████████████████████████████████    |  ETA: 0:00:05\u001b[39m"
     ]
    },
    {
     "name": "stderr",
     "output_type": "stream",
     "text": [
      "\r",
      "\u001b[32mTraining... 89%|████████████████████████████████████    |  ETA: 0:00:05\u001b[39m"
     ]
    },
    {
     "name": "stderr",
     "output_type": "stream",
     "text": [
      "\r",
      "\u001b[32mTraining... 90%|████████████████████████████████████    |  ETA: 0:00:05\u001b[39m"
     ]
    },
    {
     "name": "stderr",
     "output_type": "stream",
     "text": [
      "\r",
      "\u001b[32mTraining... 90%|████████████████████████████████████    |  ETA: 0:00:05\u001b[39m"
     ]
    },
    {
     "name": "stderr",
     "output_type": "stream",
     "text": [
      "\r",
      "\u001b[32mTraining... 90%|████████████████████████████████████    |  ETA: 0:00:05\u001b[39m"
     ]
    },
    {
     "name": "stderr",
     "output_type": "stream",
     "text": [
      "\r",
      "\u001b[32mTraining... 90%|█████████████████████████████████████   |  ETA: 0:00:05\u001b[39m"
     ]
    },
    {
     "name": "stderr",
     "output_type": "stream",
     "text": [
      "\r",
      "\u001b[32mTraining... 90%|█████████████████████████████████████   |  ETA: 0:00:05\u001b[39m"
     ]
    },
    {
     "name": "stderr",
     "output_type": "stream",
     "text": [
      "\r",
      "\u001b[32mTraining... 91%|█████████████████████████████████████   |  ETA: 0:00:05\u001b[39m"
     ]
    },
    {
     "name": "stderr",
     "output_type": "stream",
     "text": [
      "\r",
      "\u001b[32mTraining... 91%|█████████████████████████████████████   |  ETA: 0:00:05\u001b[39m"
     ]
    },
    {
     "name": "stderr",
     "output_type": "stream",
     "text": [
      "\r",
      "\u001b[32mTraining... 91%|█████████████████████████████████████   |  ETA: 0:00:04\u001b[39m"
     ]
    },
    {
     "name": "stderr",
     "output_type": "stream",
     "text": [
      "\r",
      "\u001b[32mTraining... 91%|█████████████████████████████████████   |  ETA: 0:00:04\u001b[39m"
     ]
    },
    {
     "name": "stderr",
     "output_type": "stream",
     "text": [
      "\r",
      "\u001b[32mTraining... 92%|█████████████████████████████████████   |  ETA: 0:00:04\u001b[39m"
     ]
    },
    {
     "name": "stderr",
     "output_type": "stream",
     "text": [
      "\r",
      "\u001b[32mTraining... 92%|█████████████████████████████████████   |  ETA: 0:00:04\u001b[39m"
     ]
    },
    {
     "name": "stderr",
     "output_type": "stream",
     "text": [
      "\r",
      "\u001b[32mTraining... 92%|█████████████████████████████████████   |  ETA: 0:00:04\u001b[39m"
     ]
    },
    {
     "name": "stderr",
     "output_type": "stream",
     "text": [
      "\r",
      "\u001b[32mTraining... 92%|█████████████████████████████████████   |  ETA: 0:00:04\u001b[39m"
     ]
    },
    {
     "name": "stderr",
     "output_type": "stream",
     "text": [
      "\r",
      "\u001b[32mTraining... 93%|██████████████████████████████████████  |  ETA: 0:00:04\u001b[39m"
     ]
    },
    {
     "name": "stderr",
     "output_type": "stream",
     "text": [
      "\r",
      "\u001b[32mTraining... 93%|██████████████████████████████████████  |  ETA: 0:00:04\u001b[39m"
     ]
    },
    {
     "name": "stderr",
     "output_type": "stream",
     "text": [
      "\r",
      "\u001b[32mTraining... 93%|██████████████████████████████████████  |  ETA: 0:00:03\u001b[39m"
     ]
    },
    {
     "name": "stderr",
     "output_type": "stream",
     "text": [
      "\r",
      "\u001b[32mTraining... 93%|██████████████████████████████████████  |  ETA: 0:00:03\u001b[39m"
     ]
    },
    {
     "name": "stderr",
     "output_type": "stream",
     "text": [
      "\r",
      "\u001b[32mTraining... 94%|██████████████████████████████████████  |  ETA: 0:00:03\u001b[39m"
     ]
    },
    {
     "name": "stderr",
     "output_type": "stream",
     "text": [
      "\r",
      "\u001b[32mTraining... 94%|██████████████████████████████████████  |  ETA: 0:00:03\u001b[39m"
     ]
    },
    {
     "name": "stderr",
     "output_type": "stream",
     "text": [
      "\r",
      "\u001b[32mTraining... 94%|██████████████████████████████████████  |  ETA: 0:00:03\u001b[39m"
     ]
    },
    {
     "name": "stderr",
     "output_type": "stream",
     "text": [
      "\r",
      "\u001b[32mTraining... 94%|██████████████████████████████████████  |  ETA: 0:00:03\u001b[39m"
     ]
    },
    {
     "name": "stderr",
     "output_type": "stream",
     "text": [
      "\r",
      "\u001b[32mTraining... 94%|██████████████████████████████████████  |  ETA: 0:00:03\u001b[39m"
     ]
    },
    {
     "name": "stderr",
     "output_type": "stream",
     "text": [
      "\r",
      "\u001b[32mTraining... 95%|██████████████████████████████████████  |  ETA: 0:00:03\u001b[39m"
     ]
    },
    {
     "name": "stderr",
     "output_type": "stream",
     "text": [
      "\r",
      "\u001b[32mTraining... 95%|██████████████████████████████████████  |  ETA: 0:00:03\u001b[39m"
     ]
    },
    {
     "name": "stderr",
     "output_type": "stream",
     "text": [
      "\r",
      "\u001b[32mTraining... 95%|███████████████████████████████████████ |  ETA: 0:00:02\u001b[39m"
     ]
    },
    {
     "name": "stderr",
     "output_type": "stream",
     "text": [
      "\r",
      "\u001b[32mTraining... 95%|███████████████████████████████████████ |  ETA: 0:00:02\u001b[39m"
     ]
    },
    {
     "name": "stderr",
     "output_type": "stream",
     "text": [
      "\r",
      "\u001b[32mTraining... 96%|███████████████████████████████████████ |  ETA: 0:00:02\u001b[39m"
     ]
    },
    {
     "name": "stderr",
     "output_type": "stream",
     "text": [
      "\r",
      "\u001b[32mTraining... 96%|███████████████████████████████████████ |  ETA: 0:00:02\u001b[39m"
     ]
    },
    {
     "name": "stderr",
     "output_type": "stream",
     "text": [
      "\r",
      "\u001b[32mTraining... 96%|███████████████████████████████████████ |  ETA: 0:00:02\u001b[39m"
     ]
    },
    {
     "name": "stderr",
     "output_type": "stream",
     "text": [
      "\r",
      "\u001b[32mTraining... 96%|███████████████████████████████████████ |  ETA: 0:00:02\u001b[39m"
     ]
    },
    {
     "name": "stderr",
     "output_type": "stream",
     "text": [
      "\r",
      "\u001b[32mTraining... 97%|███████████████████████████████████████ |  ETA: 0:00:02\u001b[39m"
     ]
    },
    {
     "name": "stderr",
     "output_type": "stream",
     "text": [
      "\r",
      "\u001b[32mTraining... 97%|███████████████████████████████████████ |  ETA: 0:00:02\u001b[39m"
     ]
    },
    {
     "name": "stderr",
     "output_type": "stream",
     "text": [
      "\r",
      "\u001b[32mTraining... 97%|███████████████████████████████████████ |  ETA: 0:00:01\u001b[39m"
     ]
    },
    {
     "name": "stderr",
     "output_type": "stream",
     "text": [
      "\r",
      "\u001b[32mTraining... 97%|███████████████████████████████████████ |  ETA: 0:00:01\u001b[39m"
     ]
    },
    {
     "name": "stderr",
     "output_type": "stream",
     "text": [
      "\r",
      "\u001b[32mTraining... 98%|████████████████████████████████████████|  ETA: 0:00:01\u001b[39m"
     ]
    },
    {
     "name": "stderr",
     "output_type": "stream",
     "text": [
      "\r",
      "\u001b[32mTraining... 98%|████████████████████████████████████████|  ETA: 0:00:01\u001b[39m"
     ]
    },
    {
     "name": "stderr",
     "output_type": "stream",
     "text": [
      "\r",
      "\u001b[32mTraining... 98%|████████████████████████████████████████|  ETA: 0:00:01\u001b[39m"
     ]
    },
    {
     "name": "stderr",
     "output_type": "stream",
     "text": [
      "\r",
      "\u001b[32mTraining... 98%|████████████████████████████████████████|  ETA: 0:00:01\u001b[39m"
     ]
    },
    {
     "name": "stderr",
     "output_type": "stream",
     "text": [
      "\r",
      "\u001b[32mTraining... 98%|████████████████████████████████████████|  ETA: 0:00:01\u001b[39m"
     ]
    },
    {
     "name": "stderr",
     "output_type": "stream",
     "text": [
      "\r",
      "\u001b[32mTraining... 99%|████████████████████████████████████████|  ETA: 0:00:01\u001b[39m"
     ]
    },
    {
     "name": "stderr",
     "output_type": "stream",
     "text": [
      "\r",
      "\u001b[32mTraining... 99%|████████████████████████████████████████|  ETA: 0:00:01\u001b[39m"
     ]
    },
    {
     "name": "stderr",
     "output_type": "stream",
     "text": [
      "\r",
      "\u001b[32mTraining... 99%|████████████████████████████████████████|  ETA: 0:00:00\u001b[39m"
     ]
    },
    {
     "name": "stderr",
     "output_type": "stream",
     "text": [
      "\r",
      "\u001b[32mTraining... 99%|████████████████████████████████████████|  ETA: 0:00:00\u001b[39m"
     ]
    },
    {
     "name": "stderr",
     "output_type": "stream",
     "text": [
      "\r",
      "\u001b[32mTraining...100%|████████████████████████████████████████|  ETA: 0:00:00\u001b[39m"
     ]
    },
    {
     "name": "stderr",
     "output_type": "stream",
     "text": [
      "\r",
      "\u001b[32mTraining...100%|████████████████████████████████████████|  ETA: 0:00:00\u001b[39m"
     ]
    },
    {
     "name": "stderr",
     "output_type": "stream",
     "text": [
      "\r",
      "\u001b[32mTraining...100%|████████████████████████████████████████| Time: 0:00:49\u001b[39m\n"
     ]
    }
   ],
   "source": [
    "@showprogress \"Training...\" for e in 1:n_epoch\n",
    "    error, ŷ, h = update!(rnn, rnn.param, x, y, true)\n",
    "    error_arr[e] = sum(error .^ 2)\n",
    "end"
   ]
  },
  {
   "cell_type": "code",
   "execution_count": 10,
   "metadata": {},
   "outputs": [
    {
     "data": {
      "image/png": "[encoded data removed]",
      "text/plain": [
       "Figure(PyObject <Figure size 400x300 with 1 Axes>)"
      ]
     },
     "metadata": {},
     "output_type": "display_data"
    }
   ],
   "source": [
    "figure(figsize=(4,3))\n",
    "semilogy(error_arr)\n",
    "ylabel(\"Error\"); xlabel(\"Epoch\"); xlim(0, n_epoch)\n",
    "tight_layout()"
   ]
  },
  {
   "cell_type": "code",
   "execution_count": 11,
   "metadata": {},
   "outputs": [
    {
     "name": "stdout",
     "output_type": "stream",
     "text": [
      "Error : 0.234959363555495\n"
     ]
    }
   ],
   "source": [
    "error, ŷ, h = update!(rnn, rnn.param, x, y, false)\n",
    "println(\"Error : \", sum(error.^2))"
   ]
  },
  {
   "cell_type": "code",
   "execution_count": 12,
   "metadata": {},
   "outputs": [],
   "source": [
    "max_idx = Tuple.(argmax(h[1, :, :]', dims=2))\n",
    "h_ = h[1, :, sortperm(last.(max_idx)[:, 1])];"
   ]
  },
  {
   "cell_type": "code",
   "execution_count": 13,
   "metadata": {},
   "outputs": [
    {
     "data": {
      "image/png": "[encoded data removed]",
      "text/plain": [
       "Figure(PyObject <Figure size 500x400 with 2 Axes>)"
      ]
     },
     "metadata": {},
     "output_type": "display_data"
    }
   ],
   "source": [
    "figure(figsize=(5, 4))\n",
    "subplot(2,1,1)\n",
    "plot(tsteps, y[1, :, 1], \"--k\", alpha=.5, label=\"Target1\")\n",
    "plot(tsteps, y[1, :, 2], \"-.k\", alpha=.5, label=\"Target2\")\n",
    "plot(tsteps, ŷ[1, :, 1], label=\"Output1\")\n",
    "plot(tsteps, ŷ[1, :, 2], label=\"Output2\")\n",
    "ylabel(\"y\"); xlim(0, tsteps[end])\n",
    "legend(loc=\"upper right\", ncol=2, fontsize=8)\n",
    "\n",
    "subplot(2,1,2)\n",
    "imshow(h_', cmap=\"jet\", aspect=0.85)\n",
    "xlabel(\"Time steps\"); ylabel(\"# hidden units\")\n",
    "\n",
    "tight_layout()"
   ]
  }
 ],
 "metadata": {
  "celltoolbar": "Tags",
  "kernelspec": {
   "display_name": "Julia 1.6.0-beta1",
   "language": "julia",
   "name": "julia-1.6"
  },
  "language_info": {
   "file_extension": ".jl",
   "mimetype": "application/julia",
   "name": "julia",
   "version": "1.6.0"
  }
 },
 "nbformat": 4,
 "nbformat_minor": 4
}