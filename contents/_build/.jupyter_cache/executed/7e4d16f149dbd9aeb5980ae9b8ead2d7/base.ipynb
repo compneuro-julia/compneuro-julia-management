{
 "cells": [
  {
   "cell_type": "code",
   "execution_count": 1,
   "metadata": {},
   "outputs": [],
   "source": [
    "using MAT\n",
    "\n",
    "# datasets from http://www.rctn.org/bruno/sparsenet/\n",
    "mat_images = matopen(\"../_static/datasets/IMAGES.mat\")\n",
    "imgs = read(mat_images, \"IMAGES\")\n",
    "\n",
    "close(mat_images)"
   ]
  },
  {
   "cell_type": "code",
   "execution_count": 2,
   "metadata": {},
   "outputs": [],
   "source": [
    "using Base: @kwdef\n",
    "using Parameters: @unpack # or using UnPack\n",
    "using LinearAlgebra\n",
    "using Random\n",
    "using Statistics\n",
    "using ProgressMeter\n",
    "using PyPlot"
   ]
  },
  {
   "cell_type": "code",
   "execution_count": 3,
   "metadata": {},
   "outputs": [],
   "source": [
    "@kwdef struct RBParameter{FT}\n",
    "    α::FT = 1.0\n",
    "    αh::FT = 0.05\n",
    "    var::FT = 1.0\n",
    "    vartd::FT = 10\n",
    "    inv_var::FT = 1/var       \n",
    "    inv_vartd::FT = 1/vartd\n",
    "    k1::FT = 0.3 # k_1: update rate\n",
    "    λ::FT = 0.02 # regularization parameter\n",
    "end\n",
    "\n",
    "@kwdef mutable struct RaoBallard1999Model{FT}\n",
    "    param::RBParameter = RBParameter{FT}()\n",
    "    num_units_lv0::UInt16 = 256 # number of units of level0\n",
    "    num_units_lv1::UInt16 = 32\n",
    "    num_units_lv2::UInt16 = 128\n",
    "    num_lv1::UInt16 = 3\n",
    "    k2::FT = 0.2 # k_2: learning rate\n",
    "    r::Array{FT} = zeros(num_lv1, num_units_lv1) # activity of neurons\n",
    "    rh::Array{FT} = zeros(num_units_lv2) # activity of neurons\n",
    "    U::Array{FT} = randn(num_units_lv0, num_units_lv1) .* sqrt(2.0 / (num_units_lv0+num_units_lv1))\n",
    "    Uh::Array{FT} = randn(num_lv1*num_units_lv1, num_units_lv2) .* sqrt(2.0 / (num_lv1*num_units_lv1+num_units_lv2))\n",
    "end"
   ]
  },
  {
   "cell_type": "code",
   "execution_count": 4,
   "metadata": {},
   "outputs": [
    {
     "data": {
      "text/plain": [
       "update! (generic function with 1 method)"
      ]
     },
     "execution_count": 4,
     "metadata": {},
     "output_type": "execute_result"
    }
   ],
   "source": [
    "function update!(variable::RaoBallard1999Model, param::RBParameter, inputs::Array, training::Bool)\n",
    "    @unpack num_units_lv0, num_units_lv1, num_units_lv2, num_lv1, k2, r, rh, U, Uh = variable\n",
    "    @unpack α, αh, var, vartd, inv_var, inv_vartd, k1, λ = param\n",
    "\n",
    "    r_reshaped = r[:] # (96)\n",
    "\n",
    "    fx = r * U' # (3, 256)\n",
    "    fxh = Uh * rh # (96, )\n",
    "\n",
    "    # Calculate errors\n",
    "    error = inputs - fx # (3, 256)\n",
    "    errorh = r_reshaped - fxh # (96, ) \n",
    "    errorh_reshaped = reshape(errorh, (num_lv1, num_units_lv1)) # (3, 32)\n",
    "\n",
    "    g_r = α * r ./ (1.0 .+ r .^ 2) # (3, 32)\n",
    "    g_rh = αh * rh ./ (1.0 .+ rh .^ 2) # (64, )\n",
    "\n",
    "    # Update r and rh\n",
    "    dr = k1 * (inv_var * error * U - inv_vartd * errorh_reshaped - g_r)\n",
    "    drh = k1 * (inv_vartd * Uh' * errorh - g_rh)\n",
    "    \n",
    "    r[:, :] += dr\n",
    "    rh[:] += drh\n",
    "    \n",
    "    if training \n",
    "        U[:, :] += k2 * (inv_var * error' * r - num_lv1 * λ * U)\n",
    "        Uh[:, :] += k2 * (inv_vartd * errorh * rh' - λ * Uh)\n",
    "    end\n",
    "\n",
    "    return error, errorh, dr, drh\n",
    "end"
   ]
  },
  {
   "cell_type": "code",
   "execution_count": 5,
   "metadata": {},
   "outputs": [
    {
     "data": {
      "text/plain": [
       "GaussianMask (generic function with 4 methods)"
      ]
     },
     "execution_count": 5,
     "metadata": {},
     "output_type": "execute_result"
    }
   ],
   "source": [
    "# Gaussian mask for inputs\n",
    "function GaussianMask(sizex=16, sizey=16, sigma=5)\n",
    "    x = 0:sizex-1\n",
    "    y = 0:sizey-1\n",
    "    X = [i for i in x, j in 1:length(y)]\n",
    "    Y = [j for i in 1:length(x), j in y]\n",
    "    \n",
    "    x0 = (sizex-1) / 2\n",
    "    y0 = (sizey-1) / 2\n",
    "    mask = exp.(-((X .- x0) .^2 + (Y .- y0) .^2) / (2.0*(sigma^2)))\n",
    "    return mask ./ sum(mask)\n",
    "end"
   ]
  },
  {
   "cell_type": "code",
   "execution_count": 6,
   "metadata": {},
   "outputs": [
    {
     "data": {
      "image/png": "[encoded data removed]",
      "text/plain": [
       "Figure(PyObject <Figure size 200x200 with 1 Axes>)"
      ]
     },
     "metadata": {},
     "output_type": "display_data"
    }
   ],
   "source": [
    "gau = GaussianMask()\n",
    "figure(figsize=(2,2))\n",
    "title(\"Gaussian mask\")\n",
    "imshow(gau)\n",
    "tight_layout()"
   ]
  },
  {
   "cell_type": "code",
   "execution_count": 7,
   "metadata": {},
   "outputs": [
    {
     "data": {
      "text/plain": [
       "calculate_total_error (generic function with 1 method)"
      ]
     },
     "execution_count": 7,
     "metadata": {},
     "output_type": "execute_result"
    }
   ],
   "source": [
    "function calculate_total_error(error, errorh, variable::RaoBallard1999Model, param::RBParameter)\n",
    "    @unpack num_units_lv0, num_units_lv1, num_units_lv2, num_lv1, k2, r, rh, U, Uh = variable\n",
    "    @unpack α, αh, var, vartd, inv_var, inv_vartd, k1, λ = param\n",
    "    recon_error = inv_var * sum(error.^2) + inv_vartd * sum(errorh.^2)\n",
    "    sparsity_r = α * sum(r.^2) + αh * sum(rh.^2)\n",
    "    sparsity_U = λ * (sum(U.^2) + sum(Uh.^2))\n",
    "    return recon_error + sparsity_r + sparsity_U\n",
    "end"
   ]
  },
  {
   "cell_type": "code",
   "execution_count": 8,
   "metadata": {},
   "outputs": [
    {
     "data": {
      "text/plain": [
       "run_simulation (generic function with 1 method)"
      ]
     },
     "execution_count": 8,
     "metadata": {},
     "output_type": "execute_result"
    }
   ],
   "source": [
    "function run_simulation(imgs, num_iter, nt_max, eps)\n",
    "    # Define model\n",
    "    model = RaoBallard1999Model{Float32}()\n",
    "    \n",
    "    # Simulation constants\n",
    "    H, W, num_images = size(imgs)\n",
    "    input_scale = 40 # scale factor of inputs\n",
    "    gmask = GaussianMask() # Gaussian mask\n",
    "    errorarr = zeros(num_iter) # Vector to save errors    \n",
    "    \n",
    "    # Run simulation\n",
    "    @showprogress \"Computing...\" for iter in 1:num_iter\n",
    "        # Get images randomly\n",
    "        idx = rand(1:num_images)\n",
    "        img = imgs[:, :, idx]\n",
    "\n",
    "        # Get the coordinates of the upper left corner of clopping image randomly.\n",
    "        beginx = rand(1:W-27)\n",
    "        beginy = rand(1:H-17)\n",
    "        img_clopped = img[beginy:beginy+15, beginx:beginx+25]\n",
    "\n",
    "        # Clop three patches\n",
    "        inputs = hcat([(gmask .* img_clopped[:, 1+i*5:i*5+16])[:] for i = 0:2]...)'\n",
    "        inputs = (inputs .- mean(inputs)) .* input_scale\n",
    "\n",
    "        # Reset states\n",
    "        model.r = inputs * model.U \n",
    "        model.rh = model.Uh' * model.r[:]\n",
    "\n",
    "        # Input an image patch until latent variables are converged \n",
    "        for i in 1:nt_max\n",
    "            # Update r and rh without update weights \n",
    "            error, errorh, dr, drh = update!(model, model.param, inputs, false)\n",
    "\n",
    "            # Compute norm of r and rh\n",
    "            dr_norm = sqrt(sum(dr.^2))\n",
    "            drh_norm = sqrt(sum(drh.^2))\n",
    "\n",
    "            # Check convergence of r and rh, then update weights\n",
    "            if dr_norm < eps && drh_norm < eps\n",
    "                error, errorh, dr, drh = update!(model, model.param, inputs, true)\n",
    "                errorarr[iter] = calculate_total_error(error, errorh, model, model.param) # Append errors\n",
    "                break\n",
    "            end\n",
    "\n",
    "            # If failure to convergence, break and print error\n",
    "            if i >= nt_max-2\n",
    "                println(\"Error at patch:\", iter)\n",
    "                println(dr_norm, drh_norm)\n",
    "                break\n",
    "            end\n",
    "        end\n",
    "\n",
    "\n",
    "        # Decay learning rate         \n",
    "        if iter % 40 == 39\n",
    "            model.k2 /= 1.015\n",
    "        end\n",
    "\n",
    "        # Print moving average error\n",
    "        if iter % 1000 == 0\n",
    "            moving_average_error = mean(errorarr[iter-999:iter])\n",
    "            println(\"iter: \", iter, \"/\", num_iter, \", Moving average error:\", moving_average_error)\n",
    "        end\n",
    "    end\n",
    "    return model, errorarr\n",
    "end"
   ]
  },
  {
   "cell_type": "code",
   "execution_count": 9,
   "metadata": {
    "tags": [
     "remove-output"
    ]
   },
   "outputs": [
    {
     "name": "stderr",
     "output_type": "stream",
     "text": [
      "\r",
      "\u001b[32mComputing...  0%|█                                      |  ETA: 3:38:57\u001b[39m"
     ]
    },
    {
     "name": "stderr",
     "output_type": "stream",
     "text": [
      "\r",
      "\u001b[32mComputing...  1%|█                                      |  ETA: 0:04:59\u001b[39m"
     ]
    },
    {
     "name": "stderr",
     "output_type": "stream",
     "text": [
      "\r",
      "\u001b[32mComputing...  1%|█                                      |  ETA: 0:04:09\u001b[39m"
     ]
    },
    {
     "name": "stderr",
     "output_type": "stream",
     "text": [
      "\r",
      "\u001b[32mComputing...  2%|█                                      |  ETA: 0:03:21\u001b[39m"
     ]
    },
    {
     "name": "stderr",
     "output_type": "stream",
     "text": [
      "\r",
      "\u001b[32mComputing...  2%|█                                      |  ETA: 0:02:54\u001b[39m"
     ]
    },
    {
     "name": "stderr",
     "output_type": "stream",
     "text": [
      "\r",
      "\u001b[32mComputing...  3%|██                                     |  ETA: 0:02:26\u001b[39m"
     ]
    },
    {
     "name": "stderr",
     "output_type": "stream",
     "text": [
      "\r",
      "\u001b[32mComputing...  3%|██                                     |  ETA: 0:02:04\u001b[39m"
     ]
    },
    {
     "name": "stderr",
     "output_type": "stream",
     "text": [
      "\r",
      "\u001b[32mComputing...  4%|██                                     |  ETA: 0:01:44\u001b[39m"
     ]
    },
    {
     "name": "stderr",
     "output_type": "stream",
     "text": [
      "\r",
      "\u001b[32mComputing...  5%|██                                     |  ETA: 0:01:28\u001b[39m"
     ]
    },
    {
     "name": "stderr",
     "output_type": "stream",
     "text": [
      "\r",
      "\u001b[32mComputing...  6%|███                                    |  ETA: 0:01:17\u001b[39m"
     ]
    },
    {
     "name": "stderr",
     "output_type": "stream",
     "text": [
      "\r",
      "\u001b[32mComputing...  6%|███                                    |  ETA: 0:01:09\u001b[39m"
     ]
    },
    {
     "name": "stderr",
     "output_type": "stream",
     "text": [
      "\r",
      "\u001b[32mComputing...  7%|███                                    |  ETA: 0:01:04\u001b[39m"
     ]
    },
    {
     "name": "stderr",
     "output_type": "stream",
     "text": [
      "\r",
      "\u001b[32mComputing...  8%|████                                   |  ETA: 0:00:58\u001b[39m"
     ]
    },
    {
     "name": "stderr",
     "output_type": "stream",
     "text": [
      "\r",
      "\u001b[32mComputing...  8%|████                                   |  ETA: 0:00:54\u001b[39m"
     ]
    },
    {
     "name": "stderr",
     "output_type": "stream",
     "text": [
      "\r",
      "\u001b[32mComputing...  9%|████                                   |  ETA: 0:00:50\u001b[39m"
     ]
    },
    {
     "name": "stderr",
     "output_type": "stream",
     "text": [
      "\r",
      "\u001b[32mComputing... 10%|████                                   |  ETA: 0:00:47\u001b[39m"
     ]
    },
    {
     "name": "stderr",
     "output_type": "stream",
     "text": [
      "\r",
      "\u001b[32mComputing... 11%|█████                                  |  ETA: 0:00:45\u001b[39m"
     ]
    },
    {
     "name": "stderr",
     "output_type": "stream",
     "text": [
      "\r",
      "\u001b[32mComputing... 11%|█████                                  |  ETA: 0:00:42\u001b[39m"
     ]
    },
    {
     "name": "stderr",
     "output_type": "stream",
     "text": [
      "\r",
      "\u001b[32mComputing... 12%|█████                                  |  ETA: 0:00:40\u001b[39m"
     ]
    },
    {
     "name": "stderr",
     "output_type": "stream",
     "text": [
      "\r",
      "\u001b[32mComputing... 13%|██████                                 |  ETA: 0:00:38\u001b[39m"
     ]
    },
    {
     "name": "stderr",
     "output_type": "stream",
     "text": [
      "\r",
      "\u001b[32mComputing... 14%|██████                                 |  ETA: 0:00:36\u001b[39m"
     ]
    },
    {
     "name": "stderr",
     "output_type": "stream",
     "text": [
      "\r",
      "\u001b[32mComputing... 14%|██████                                 |  ETA: 0:00:35\u001b[39m"
     ]
    },
    {
     "name": "stderr",
     "output_type": "stream",
     "text": [
      "\r",
      "\u001b[32mComputing... 15%|██████                                 |  ETA: 0:00:33\u001b[39m"
     ]
    },
    {
     "name": "stderr",
     "output_type": "stream",
     "text": [
      "\r",
      "\u001b[32mComputing... 16%|███████                                |  ETA: 0:00:32\u001b[39m"
     ]
    },
    {
     "name": "stderr",
     "output_type": "stream",
     "text": [
      "\r",
      "\u001b[32mComputing... 17%|███████                                |  ETA: 0:00:31\u001b[39m"
     ]
    },
    {
     "name": "stderr",
     "output_type": "stream",
     "text": [
      "\r",
      "\u001b[32mComputing... 17%|███████                                |  ETA: 0:00:30\u001b[39m"
     ]
    },
    {
     "name": "stderr",
     "output_type": "stream",
     "text": [
      "\r",
      "\u001b[32mComputing... 18%|████████                               |  ETA: 0:00:29\u001b[39m"
     ]
    },
    {
     "name": "stderr",
     "output_type": "stream",
     "text": [
      "\r",
      "\u001b[32mComputing... 19%|████████                               |  ETA: 0:00:28\u001b[39m"
     ]
    },
    {
     "name": "stderr",
     "output_type": "stream",
     "text": [
      "\r",
      "\u001b[32mComputing... 20%|████████                               |  ETA: 0:00:27\u001b[39m"
     ]
    },
    {
     "name": "stdout",
     "output_type": "stream",
     "text": [
      "iter: 1000/5000, Moving average error:"
     ]
    },
    {
     "name": "stderr",
     "output_type": "stream",
     "text": [
      "\r",
      "\u001b[32mComputing... 20%|████████                               |  ETA: 0:00:27\u001b[39m"
     ]
    },
    {
     "name": "stdout",
     "output_type": "stream",
     "text": [
      "1.9797044688305134\n"
     ]
    },
    {
     "name": "stderr",
     "output_type": "stream",
     "text": [
      "\r",
      "\u001b[32mComputing... 21%|█████████                              |  ETA: 0:00:26\u001b[39m"
     ]
    },
    {
     "name": "stderr",
     "output_type": "stream",
     "text": [
      "\r",
      "\u001b[32mComputing... 21%|█████████                              |  ETA: 0:00:26\u001b[39m"
     ]
    },
    {
     "name": "stderr",
     "output_type": "stream",
     "text": [
      "\r",
      "\u001b[32mComputing... 22%|█████████                              |  ETA: 0:00:25\u001b[39m"
     ]
    },
    {
     "name": "stderr",
     "output_type": "stream",
     "text": [
      "\r",
      "\u001b[32mComputing... 23%|█████████                              |  ETA: 0:00:24\u001b[39m"
     ]
    },
    {
     "name": "stderr",
     "output_type": "stream",
     "text": [
      "\r",
      "\u001b[32mComputing... 24%|██████████                             |  ETA: 0:00:24\u001b[39m"
     ]
    },
    {
     "name": "stderr",
     "output_type": "stream",
     "text": [
      "\r",
      "\u001b[32mComputing... 24%|██████████                             |  ETA: 0:00:23\u001b[39m"
     ]
    },
    {
     "name": "stderr",
     "output_type": "stream",
     "text": [
      "\r",
      "\u001b[32mComputing... 25%|██████████                             |  ETA: 0:00:23\u001b[39m"
     ]
    },
    {
     "name": "stderr",
     "output_type": "stream",
     "text": [
      "\r",
      "\u001b[32mComputing... 26%|███████████                            |  ETA: 0:00:22\u001b[39m"
     ]
    },
    {
     "name": "stderr",
     "output_type": "stream",
     "text": [
      "\r",
      "\u001b[32mComputing... 27%|███████████                            |  ETA: 0:00:21\u001b[39m"
     ]
    },
    {
     "name": "stderr",
     "output_type": "stream",
     "text": [
      "\r",
      "\u001b[32mComputing... 27%|███████████                            |  ETA: 0:00:21\u001b[39m"
     ]
    },
    {
     "name": "stderr",
     "output_type": "stream",
     "text": [
      "\r",
      "\u001b[32mComputing... 28%|███████████                            |  ETA: 0:00:20\u001b[39"
     ]
    },
    {
     "name": "stderr",
     "output_type": "stream",
     "text": [
      "m\r",
      "\u001b[32mComputing... 29%|████████████                           |  ETA: 0:00:20\u001b[39m"
     ]
    },
    {
     "name": "stderr",
     "output_type": "stream",
     "text": [
      "\r",
      "\u001b[32mComputing... 29%|████████████                           |  ETA: 0:00:20\u001b[39m"
     ]
    },
    {
     "name": "stderr",
     "output_type": "stream",
     "text": [
      "\r",
      "\u001b[32mComputing... 30%|████████████                           |  ETA: 0:00:19\u001b[39m"
     ]
    },
    {
     "name": "stderr",
     "output_type": "stream",
     "text": [
      "\r",
      "\u001b[32mComputing... 31%|█████████████                          |  ETA: 0:00:19\u001b[39m"
     ]
    },
    {
     "name": "stderr",
     "output_type": "stream",
     "text": [
      "\r",
      "\u001b[32mComputing... 32%|█████████████                          |  ETA: 0:00:18\u001b[39m"
     ]
    },
    {
     "name": "stderr",
     "output_type": "stream",
     "text": [
      "\r",
      "\u001b[32mComputing... 33%|█████████████                          |  ETA: 0:00:18\u001b[39m"
     ]
    },
    {
     "name": "stderr",
     "output_type": "stream",
     "text": [
      "\r",
      "\u001b[32mComputing... 33%|██████████████                         |  ETA: 0:00:17\u001b[39m"
     ]
    },
    {
     "name": "stderr",
     "output_type": "stream",
     "text": [
      "\r",
      "\u001b[32mComputing... 34%|██████████████                         |  ETA: 0:00:17\u001b[39m"
     ]
    },
    {
     "name": "stderr",
     "output_type": "stream",
     "text": [
      "\r",
      "\u001b[32mComputing... 35%|██████████████                         |  ETA: 0:00:17\u001b[39m"
     ]
    },
    {
     "name": "stderr",
     "output_type": "stream",
     "text": [
      "\r",
      "\u001b[32mComputing... 36%|██████████████                         |  ETA: 0:00:16\u001b[39m"
     ]
    },
    {
     "name": "stderr",
     "output_type": "stream",
     "text": [
      "\r",
      "\u001b[32mComputing... 36%|███████████████                        |  ETA: 0:00:16\u001b[39m"
     ]
    },
    {
     "name": "stderr",
     "output_type": "stream",
     "text": [
      "\r",
      "\u001b[32mComputing... 37%|███████████████                        |  ETA: 0:00:16\u001b[39m"
     ]
    },
    {
     "name": "stderr",
     "output_type": "stream",
     "text": [
      "\r",
      "\u001b[32mComputing... 38%|███████████████                        |  ETA: 0:00:15\u001b[39m"
     ]
    },
    {
     "name": "stderr",
     "output_type": "stream",
     "text": [
      "\r",
      "\u001b[32mComputing... 39%|████████████████                       |  ETA: 0:00:15\u001b[39m"
     ]
    },
    {
     "name": "stderr",
     "output_type": "stream",
     "text": [
      "\r",
      "\u001b[32mComputing... 39%|████████████████                       |  ETA: 0:00:15\u001b[39m"
     ]
    },
    {
     "name": "stdout",
     "output_type": "stream",
     "text": [
      "iter: 2000/5000, Moving average error:1.6853419812843329\n"
     ]
    },
    {
     "name": "stderr",
     "output_type": "stream",
     "text": [
      "\r",
      "\u001b[32mComputing... 40%|████████████████                       |  ETA: 0:00:15\u001b[39m"
     ]
    },
    {
     "name": "stderr",
     "output_type": "stream",
     "text": [
      "\r",
      "\u001b[32mComputing... 41%|████████████████                       |  ETA: 0:00:14\u001b[39m"
     ]
    },
    {
     "name": "stderr",
     "output_type": "stream",
     "text": [
      "\r",
      "\u001b[32mComputing... 42%|█████████████████                      |  ETA: 0:00:14\u001b[39m"
     ]
    },
    {
     "name": "stderr",
     "output_type": "stream",
     "text": [
      "\r",
      "\u001b[32mComputing... 42%|█████████████████                      |  ETA: 0:00:14\u001b[39m"
     ]
    },
    {
     "name": "stderr",
     "output_type": "stream",
     "text": [
      "\r",
      "\u001b[32mComputing... 43%|█████████████████                      |  ETA: 0:00:13\u001b[39m"
     ]
    },
    {
     "name": "stderr",
     "output_type": "stream",
     "text": [
      "\r",
      "\u001b[32mComputing... 44%|██████████████████                     |  ETA: 0:00:13\u001b[39m"
     ]
    },
    {
     "name": "stderr",
     "output_type": "stream",
     "text": [
      "\r",
      "\u001b[32mComputing... 45%|██████████████████                     |  ETA: 0:00:13\u001b[39m"
     ]
    },
    {
     "name": "stderr",
     "output_type": "stream",
     "text": [
      "\r",
      "\u001b[32mComputing... 46%|██████████████████                     |  ETA: 0:00:13\u001b[39m"
     ]
    },
    {
     "name": "stderr",
     "output_type": "stream",
     "text": [
      "\r",
      "\u001b[32mComputing... 46%|███████████████████                    |  ETA: 0:00:12\u001b[39m"
     ]
    },
    {
     "name": "stderr",
     "output_type": "stream",
     "text": [
      "\r",
      "\u001b[32mComputing... 47%|███████████████████                    |  ETA: 0:00:12\u001b[39m"
     ]
    },
    {
     "name": "stderr",
     "output_type": "stream",
     "text": [
      "\r",
      "\u001b[32mComputing... 48%|███████████████████                    |  ETA: 0:00:12\u001b[39m"
     ]
    },
    {
     "name": "stderr",
     "output_type": "stream",
     "text": [
      "\r",
      "\u001b[32mComputing... 49%|███████████████████                    |  ETA: 0:00:12\u001b[39m"
     ]
    },
    {
     "name": "stderr",
     "output_type": "stream",
     "text": [
      "\r",
      "\u001b[32mComputing... 49%|████████████████████                   |  ETA: 0:00:12\u001b[39m"
     ]
    },
    {
     "name": "stderr",
     "output_type": "stream",
     "text": [
      "\r",
      "\u001b[32mComputing... 50%|████████████████████                   |  ETA: 0:00:11\u001b[39m"
     ]
    },
    {
     "name": "stderr",
     "output_type": "stream",
     "text": [
      "\r",
      "\u001b[32mComputing... 51%|████████████████████                   |  ETA: 0:00:11\u001b[39m"
     ]
    },
    {
     "name": "stderr",
     "output_type": "stream",
     "text": [
      "\r",
      "\u001b[32mComputing... 52%|█████████████████████                  |  ETA: 0:00:11\u001b[39m"
     ]
    },
    {
     "name": "stderr",
     "output_type": "stream",
     "text": [
      "\r",
      "\u001b[32mComputing... 52%|█████████████████████                  |  ETA: 0:00:11\u001b[39m"
     ]
    },
    {
     "name": "stderr",
     "output_type": "stream",
     "text": [
      "\r",
      "\u001b[32mComputing... 53%|█████████████████████                  |  ETA: 0:00:10\u001b[39m"
     ]
    },
    {
     "name": "stderr",
     "output_type": "stream",
     "text": [
      "\r",
      "\u001b[32mComputing... 54%|█████████████████████                  |  ETA: 0:00:10\u001b[39m"
     ]
    },
    {
     "name": "stderr",
     "output_type": "stream",
     "text": [
      "\r",
      "\u001b[32mComputing... 55%|██████████████████████                 |  ETA: 0:00:10\u001b[39m"
     ]
    },
    {
     "name": "stderr",
     "output_type": "stream",
     "text": [
      "\r",
      "\u001b[32mComputing... 55%|██████████████████████                 |  ETA: 0:00:10\u001b[39m"
     ]
    },
    {
     "name": "stderr",
     "output_type": "stream",
     "text": [
      "\r",
      "\u001b[32mComputing... 56%|██████████████████████                 |  ETA: 0:00:10\u001b[39m"
     ]
    },
    {
     "name": "stderr",
     "output_type": "stream",
     "text": [
      "\r",
      "\u001b[32mComputing... 57%|███████████████████████                |  ETA: 0:00:09\u001b[39m"
     ]
    },
    {
     "name": "stderr",
     "output_type": "stream",
     "text": [
      "\r",
      "\u001b[32mComputing... 58%|███████████████████████                |  ETA: 0:00:09\u001b[39m"
     ]
    },
    {
     "name": "stderr",
     "output_type": "stream",
     "text": [
      "\r",
      "\u001b[32mComputing... 59%|███████████████████████                |  ETA: 0:00:09\u001b[39m"
     ]
    },
    {
     "name": "stderr",
     "output_type": "stream",
     "text": [
      "\r",
      "\u001b[32mComputing... 60%|████████████████████████               |  ETA: 0:00:09\u001b[39m"
     ]
    },
    {
     "name": "stdout",
     "output_type": "stream",
     "text": [
      "iter: 3000/5000, Moving average error:1.652419074067605\n"
     ]
    },
    {
     "name": "stderr",
     "output_type": "stream",
     "text": [
      "\r",
      "\u001b[32mComputing... 60%|████████████████████████               |  ETA: 0:00:08\u001b[39m"
     ]
    },
    {
     "name": "stderr",
     "output_type": "stream",
     "text": [
      "\r",
      "\u001b[32mComputing... 61%|████████████████████████               |  ETA: 0:00:08\u001b[39m"
     ]
    },
    {
     "name": "stderr",
     "output_type": "stream",
     "text": [
      "\r",
      "\u001b[32mComputing... 62%|█████████████████████████              |  ETA: 0:00:08\u001b[39m"
     ]
    },
    {
     "name": "stderr",
     "output_type": "stream",
     "text": [
      "\r",
      "\u001b[32mComputing... 63%|█████████████████████████              |  ETA: 0:00:08\u001b[39m"
     ]
    },
    {
     "name": "stderr",
     "output_type": "stream",
     "text": [
      "\r",
      "\u001b[32mComputing... 64%|█████████████████████████              |  ETA: 0:00:08\u001b[39m"
     ]
    },
    {
     "name": "stderr",
     "output_type": "stream",
     "text": [
      "\r",
      "\u001b[32mComputing... 64%|██████████████████████████             |  ETA: 0:00:07\u001b[39m"
     ]
    },
    {
     "name": "stderr",
     "output_type": "stream",
     "text": [
      "\r",
      "\u001b[32mComputing... 65%|██████████████████████████             |  ETA: 0:00:07\u001b[39m"
     ]
    },
    {
     "name": "stderr",
     "output_type": "stream",
     "text": [
      "\r",
      "\u001b[32mComputing... 66%|██████████████████████████             |  ETA: 0:00:07\u001b[39m"
     ]
    },
    {
     "name": "stderr",
     "output_type": "stream",
     "text": [
      "\r",
      "\u001b[32mComputing... 67%|███████████████████████████            |  ETA: 0:00:07\u001b[39m"
     ]
    },
    {
     "name": "stderr",
     "output_type": "stream",
     "text": [
      "\r",
      "\u001b[32mComputing... 68%|███████████████████████████            |  ETA: 0:00:07\u001b[39m"
     ]
    },
    {
     "name": "stderr",
     "output_type": "stream",
     "text": [
      "\r",
      "\u001b[32mComputing... 69%|███████████████████████████            |  ETA: 0:00:06\u001b[39m"
     ]
    },
    {
     "name": "stderr",
     "output_type": "stream",
     "text": [
      "\r",
      "\u001b[32mComputing... 69%|████████████████████████████           |  ETA: 0:00:06\u001b[39m"
     ]
    },
    {
     "name": "stderr",
     "output_type": "stream",
     "text": [
      "\r",
      "\u001b[32mComputing... 70%|████████████████████████████           |  ETA: 0:00:06\u001b[39m"
     ]
    },
    {
     "name": "stderr",
     "output_type": "stream",
     "text": [
      "\r",
      "\u001b[32mComputing... 71%|████████████████████████████           |  ETA: 0:00:06\u001b[39m"
     ]
    },
    {
     "name": "stderr",
     "output_type": "stream",
     "text": [
      "\r",
      "\u001b[32mComputing... 72%|█████████████████████████████          |  ETA: 0:00:06\u001b[39m"
     ]
    },
    {
     "name": "stderr",
     "output_type": "stream",
     "text": [
      "\r",
      "\u001b[32mComputing... 73%|█████████████████████████████          |  ETA: 0:00:05\u001b[39m"
     ]
    },
    {
     "name": "stderr",
     "output_type": "stream",
     "text": [
      "\r",
      "\u001b[32mComputing... 73%|█████████████████████████████          |  ETA: 0:00:05\u001b[39m"
     ]
    },
    {
     "name": "stderr",
     "output_type": "stream",
     "text": [
      "\r",
      "\u001b[32mComputing... 74%|█████████████████████████████          |  ETA: 0:00:05\u001b[39m"
     ]
    },
    {
     "name": "stderr",
     "output_type": "stream",
     "text": [
      "\r",
      "\u001b[32mComputing... 75%|██████████████████████████████         |  ETA: 0:00:05\u001b[39m"
     ]
    },
    {
     "name": "stderr",
     "output_type": "stream",
     "text": [
      "\r",
      "\u001b[32mComputing... 76%|██████████████████████████████         |  ETA: 0:00:05\u001b[39m"
     ]
    },
    {
     "name": "stderr",
     "output_type": "stream",
     "text": [
      "\r",
      "\u001b[32mComputing... 77%|██████████████████████████████         |  ETA: 0:00:05\u001b[39m"
     ]
    },
    {
     "name": "stderr",
     "output_type": "stream",
     "text": [
      "\r",
      "\u001b[32mComputing... 78%|███████████████████████████████        |  ETA: 0:00:04\u001b[39m"
     ]
    },
    {
     "name": "stderr",
     "output_type": "stream",
     "text": [
      "\r",
      "\u001b[32mComputing... 78%|███████████████████████████████        |  ETA: 0:00:04\u001b[39m"
     ]
    },
    {
     "name": "stderr",
     "output_type": "stream",
     "text": [
      "\r",
      "\u001b[32mComputing... 79%|███████████████████████████████        |  ETA: 0:00:04\u001b[39m"
     ]
    },
    {
     "name": "stderr",
     "output_type": "stream",
     "text": [
      "\r",
      "\u001b[32mComputing... 80%|████████████████████████████████       |  ETA: 0:00:04\u001b[39m"
     ]
    },
    {
     "name": "stdout",
     "output_type": "stream",
     "text": [
      "iter: 4000/5000, Moving average error:1.7317394951896998"
     ]
    },
    {
     "name": "stderr",
     "output_type": "stream",
     "text": [
      "\r",
      "\u001b[32mComputing... 81%|████████████████████████████████       |  ETA: 0:00:04\u001b[39m"
     ]
    },
    {
     "name": "stdout",
     "output_type": "stream",
     "text": [
      "\n"
     ]
    },
    {
     "name": "stderr",
     "output_type": "stream",
     "text": [
      "\r",
      "\u001b[32mComputing... 81%|████████████████████████████████       |  ETA: 0:00:04\u001b[39m"
     ]
    },
    {
     "name": "stderr",
     "output_type": "stream",
     "text": [
      "\r",
      "\u001b[32mComputing... 82%|█████████████████████████████████      |  ETA: 0:00:03\u001b[39m"
     ]
    },
    {
     "name": "stderr",
     "output_type": "stream",
     "text": [
      "\r",
      "\u001b[32mComputing... 83%|█████████████████████████████████      |  ETA: 0:00:03\u001b[39m"
     ]
    },
    {
     "name": "stderr",
     "output_type": "stream",
     "text": [
      "\r",
      "\u001b[32mComputing... 84%|█████████████████████████████████      |  ETA: 0:00:03\u001b[39m"
     ]
    },
    {
     "name": "stderr",
     "output_type": "stream",
     "text": [
      "\r",
      "\u001b[32mComputing... 85%|██████████████████████████████████     |  ETA: 0:00:03\u001b[39m"
     ]
    },
    {
     "name": "stderr",
     "output_type": "stream",
     "text": [
      "\r",
      "\u001b[32mComputing... 86%|██████████████████████████████████     |  ETA: 0:00:03\u001b[39m"
     ]
    },
    {
     "name": "stderr",
     "output_type": "stream",
     "text": [
      "\r",
      "\u001b[32mComputing... 86%|██████████████████████████████████     |  ETA: 0:00:03\u001b[39m"
     ]
    },
    {
     "name": "stderr",
     "output_type": "stream",
     "text": [
      "\r",
      "\u001b[32mComputing... 87%|██████████████████████████████████     |  ETA: 0:00:02\u001b[39m"
     ]
    },
    {
     "name": "stderr",
     "output_type": "stream",
     "text": [
      "\r",
      "\u001b[32mComputing... 88%|███████████████████████████████████    |  ETA: 0:00:02\u001b[39m"
     ]
    },
    {
     "name": "stderr",
     "output_type": "stream",
     "text": [
      "\r",
      "\u001b[32mComputing... 89%|███████████████████████████████████    |  ETA: 0:00:02\u001b[39m"
     ]
    },
    {
     "name": "stderr",
     "output_type": "stream",
     "text": [
      "\r",
      "\u001b[32mComputing... 90%|███████████████████████████████████    |  ETA: 0:00:02\u001b[39m"
     ]
    },
    {
     "name": "stderr",
     "output_type": "stream",
     "text": [
      "\r",
      "\u001b[32mComputing... 90%|████████████████████████████████████   |  ETA: 0:00:02\u001b[39m"
     ]
    },
    {
     "name": "stderr",
     "output_type": "stream",
     "text": [
      "\r",
      "\u001b[32mComputing... 91%|████████████████████████████████████   |  ETA: 0:00:02\u001b[39m"
     ]
    },
    {
     "name": "stderr",
     "output_type": "stream",
     "text": [
      "\r",
      "\u001b[32mComputing... 92%|████████████████████████████████████   |  ETA: 0:00:01\u001b[39m"
     ]
    },
    {
     "name": "stderr",
     "output_type": "stream",
     "text": [
      "\r",
      "\u001b[32mComputing... 93%|█████████████████████████████████████  |  ETA: 0:00:01\u001b[39m"
     ]
    },
    {
     "name": "stderr",
     "output_type": "stream",
     "text": [
      "\r",
      "\u001b[32mComputing... 94%|█████████████████████████████████████  |  ETA: 0:00:01\u001b[39m"
     ]
    },
    {
     "name": "stderr",
     "output_type": "stream",
     "text": [
      "\r",
      "\u001b[32mComputing... 94%|█████████████████████████████████████  |  ETA: 0:00:01\u001b[39m"
     ]
    },
    {
     "name": "stderr",
     "output_type": "stream",
     "text": [
      "\r",
      "\u001b[32mComputing... 95%|██████████████████████████████████████ |  ETA: 0:00:01\u001b[39m"
     ]
    },
    {
     "name": "stderr",
     "output_type": "stream",
     "text": [
      "\r",
      "\u001b[32mComputing... 96%|██████████████████████████████████████ |  ETA: 0:00:01\u001b[39m"
     ]
    },
    {
     "name": "stderr",
     "output_type": "stream",
     "text": [
      "\r",
      "\u001b[32mComputing... 97%|██████████████████████████████████████ |  ETA: 0:00:01\u001b[39m"
     ]
    },
    {
     "name": "stderr",
     "output_type": "stream",
     "text": [
      "\r",
      "\u001b[32mComputing... 98%|███████████████████████████████████████|  ETA: 0:00:00\u001b[39m"
     ]
    },
    {
     "name": "stderr",
     "output_type": "stream",
     "text": [
      "\r",
      "\u001b[32mComputing... 98%|███████████████████████████████████████|  ETA: 0:00:00\u001b[39m"
     ]
    },
    {
     "name": "stderr",
     "output_type": "stream",
     "text": [
      "\r",
      "\u001b[32mComputing... 99%|███████████████████████████████████████|  ETA: 0:00:00\u001b[39m"
     ]
    },
    {
     "name": "stderr",
     "output_type": "stream",
     "text": [
      "\r",
      "\u001b[32mComputing...100%|███████████████████████████████████████|  ETA: 0:00:00\u001b[39m"
     ]
    },
    {
     "name": "stderr",
     "output_type": "stream",
     "text": [
      "\r",
      "\u001b[32mComputing...100%|███████████████████████████████████████| Time: 0:00:18\u001b[39m\n"
     ]
    },
    {
     "name": "stdout",
     "output_type": "stream",
     "text": [
      "iter: 5000/5000, Moving average error:1.7983781034931767\n"
     ]
    },
    {
     "data": {
      "text/plain": [
       "(RaoBallard1999Model{Float32}(RBParameter{Float32}(1.0f0, 0.05f0, 1.0f0, 10.0f0, 1.0f0, 0.1f0, 0.3f0, 0.02f0), 0x0100, 0x0020, 0x0080, 0x0003, 0.03110101f0, Float32[0.0052111926 0.0017184515 … -0.005599512 0.040851712; 0.01075233 -0.0011359707 … 0.0043062437 0.041861344; 0.0021726761 -0.023635898 … 0.009119993 0.014498257], Float32[-3.831068f-6, 1.6308351f-6, -2.0886478f-7, -5.2551163f-6, -2.6719931f-6, 2.383043f-6, -4.1301863f-7, -2.3835107f-6, -9.027948f-7, 2.6465844f-7  …  -5.24504f-6, -5.683877f-6, -1.263239f-6, -6.145961f-6, 5.8857063f-7, -4.12264f-6, 5.816134f-6, -2.537266f-6, 7.3597533f-7, -7.663694f-7], Float32[-0.00024046203 0.00025060287 … -0.0001231963 -0.0012133052; -0.00033044806 7.355749f-5 … -0.00020898526 -0.0011145832; … ; -0.00037766565 0.00031791045 … -0.0005245694 -0.00077616033; -0.00036897013 0.0002489269 … -0.0004448572 -0.00089810893], Float32[-3.1483018f-5 6.7704304f-6 … -3.4571683f-6 4.564738f-6; 4.659608f-6 -9.017645f-6 … 1.4579384f-5 8.541837f-6; … ; -9.694586f-6 1.8201255f-5 … 4.573954f-6 3.7077257f-6; 5.3976783f-6 -3.5316444f-7 … -5.002477f-6 -1.9008225f-5]), [3.42760513506778, 3.3833564710053476, 4.28742185855664, 3.597592423048291, 3.1610610024186405, 7.544792982270782, 3.138600490825434, 4.0587594743329065, 3.2283538255733886, 3.043526662716048  …  5.06133929678442, 10.522205104178072, 2.3755131532325415, 1.396360014279362, 0.07066042650749987, 2.3224355939981915, 1.0853168512854856, 0.47441911361365374, 2.350110455205762, 1.7538454496423406])"
      ]
     },
     "execution_count": 9,
     "metadata": {},
     "output_type": "execute_result"
    }
   ],
   "source": [
    "# Simulation constants\n",
    "num_iter = 5000 # number of iterations\n",
    "nt_max = 1000 # Maximum number of simulation time\n",
    "eps = 1e-3 # small value which determines convergence\n",
    "\n",
    "model, errorarr = run_simulation(imgs, num_iter, nt_max, eps)"
   ]
  },
  {
   "cell_type": "code",
   "execution_count": 10,
   "metadata": {},
   "outputs": [
    {
     "data": {
      "image/png": "[encoded data removed]",
      "text/plain": [
       "Figure(PyObject <Figure size 400x200 with 1 Axes>)"
      ]
     },
     "metadata": {},
     "output_type": "display_data"
    }
   ],
   "source": [
    "function moving_average(x, n=100)\n",
    "    ret = cumsum(x)\n",
    "    ret[n:end] = ret[n:end] - ret[1:end-n+1]\n",
    "    return ret[n - 1:end] / n\n",
    "end\n",
    "\n",
    "# Plot error\n",
    "moving_average_error = moving_average(errorarr)\n",
    "figure(figsize=(4, 2))\n",
    "ylabel(\"Moving error\")\n",
    "xlabel(\"Iterations\")\n",
    "plot(1:size(moving_average_error)[1], moving_average_error)\n",
    "tight_layout()"
   ]
  },
  {
   "cell_type": "code",
   "execution_count": 11,
   "metadata": {},
   "outputs": [
    {
     "data": {
      "image/png": "[encoded data removed]",
      "text/plain": [
       "Figure(PyObject <Figure size 600x300 with 32 Axes>)"
      ]
     },
     "metadata": {},
     "output_type": "display_data"
    }
   ],
   "source": [
    "# Plot Receptive fields\n",
    "figure(figsize=(6, 3))\n",
    "subplots_adjust(hspace=0.1, wspace=0.1)\n",
    "for i in 1:32\n",
    "    subplot(4, 8, i)\n",
    "    imshow(reshape(model.U[:, i], (16, 16)), cmap=\"gray\")\n",
    "    axis(\"off\")\n",
    "end\n",
    "suptitle(\"Receptive fields of level 1\", fontsize=14)\n",
    "subplots_adjust(top=0.9)"
   ]
  },
  {
   "cell_type": "code",
   "execution_count": 12,
   "metadata": {},
   "outputs": [
    {
     "data": {
      "image/png": "[encoded data removed]",
      "text/plain": [
       "Figure(PyObject <Figure size 700x300 with 24 Axes>)"
      ]
     },
     "metadata": {},
     "output_type": "display_data"
    }
   ],
   "source": [
    "# Plot Receptive fields of level 2\n",
    "zero_padding = zeros(80, 32)\n",
    "U0 = [model.U; zero_padding; zero_padding]\n",
    "U1 = [zero_padding; model.U; zero_padding]\n",
    "U2 = [zero_padding; zero_padding; model.U]\n",
    "U_ = [U0 U1 U2]\n",
    "Uh_ = U_ * model.Uh \n",
    "\n",
    "figure(figsize=(7, 3))\n",
    "subplots_adjust(hspace=0.1, wspace=0.1)\n",
    "for i in 1:24\n",
    "    subplot(4, 6, i)\n",
    "    imshow(reshape(Uh_[:, i], (16, 26)), cmap=\"gray\")\n",
    "    axis(\"off\")\n",
    "end\n",
    "\n",
    "suptitle(\"Receptive fields of level 2\", fontsize=14)\n",
    "subplots_adjust(top=0.9)"
   ]
  }
 ],
 "metadata": {
  "celltoolbar": "Tags",
  "kernelspec": {
   "display_name": "Julia 1.6.0-beta1",
   "language": "julia",
   "name": "julia-1.6"
  },
  "language_info": {
   "file_extension": ".jl",
   "mimetype": "application/julia",
   "name": "julia",
   "version": "1.6.0"
  }
 },
 "nbformat": 4,
 "nbformat_minor": 4
}