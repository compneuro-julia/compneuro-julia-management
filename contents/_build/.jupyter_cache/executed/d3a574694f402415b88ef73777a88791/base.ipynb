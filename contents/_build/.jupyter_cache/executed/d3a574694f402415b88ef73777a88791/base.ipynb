{
 "cells": [
  {
   "cell_type": "code",
   "execution_count": 1,
   "metadata": {},
   "outputs": [],
   "source": [
    "using LinearAlgebra, Kronecker, Random, BlockDiagonals, PyPlot"
   ]
  },
  {
   "cell_type": "code",
   "execution_count": 2,
   "metadata": {},
   "outputs": [
    {
     "data": {
      "text/plain": [
       "vec (generic function with 1 method)"
      ]
     },
     "execution_count": 2,
     "metadata": {},
     "output_type": "execute_result"
    }
   ],
   "source": [
    "eye(T::Type, n) = Diagonal{T}(I, n)\n",
    "eye(n) = eye(Float64, n)\n",
    "vec(X) = vcat(X...)"
   ]
  },
  {
   "cell_type": "code",
   "execution_count": 3,
   "metadata": {},
   "outputs": [],
   "source": [
    "n = 4 # number of dims\n",
    "i = 0.25 # kgm^2, \n",
    "b = 0.2 # kgm^2/s\n",
    "ta = 0.03 # s\n",
    "te = 0.04 # s\n",
    "L0 = 0.35 # m\n",
    "\n",
    "bu = 1 / (ta * te * i)\n",
    "α1 = bu * b\n",
    "α2 = 1/(ta * te) + (1/ta + 1/te) * b/i\n",
    "α3 = b/i + 1/ta + 1/te\n",
    "\n",
    "A = [zeros(3) eye(3); -[0, α1, α2, α3]']\n",
    "B = [zeros(3); bu]\n",
    "C = [eye(3) zeros(3)]\n",
    "D = Diagonal([1e-3, 1e-2, 5e-2])\n",
    "\n",
    "Y = 0.02 * B\n",
    "G = 0.03 * eye(n)\n",
    "\n",
    "Q = Diagonal([1.0, 0.01, 0, 0]) \n",
    "R = 0.0001\n",
    "U = Diagonal([1.0, 0.1, 0.01, 0]);"
   ]
  },
  {
   "cell_type": "code",
   "execution_count": null,
   "metadata": {},
   "outputs": [],
   "source": []
  },
  {
   "cell_type": "code",
   "execution_count": 4,
   "metadata": {},
   "outputs": [
    {
     "data": {
      "text/plain": [
       "8×8 Diagonal{Float64, Vector{Float64}}:\n",
       " 1.0   ⋅    ⋅    ⋅    ⋅    ⋅    ⋅    ⋅ \n",
       "  ⋅   1.0   ⋅    ⋅    ⋅    ⋅    ⋅    ⋅ \n",
       "  ⋅    ⋅   1.0   ⋅    ⋅    ⋅    ⋅    ⋅ \n",
       "  ⋅    ⋅    ⋅   1.0   ⋅    ⋅    ⋅    ⋅ \n",
       "  ⋅    ⋅    ⋅    ⋅   1.0   ⋅    ⋅    ⋅ \n",
       "  ⋅    ⋅    ⋅    ⋅    ⋅   1.0   ⋅    ⋅ \n",
       "  ⋅    ⋅    ⋅    ⋅    ⋅    ⋅   1.0   ⋅ \n",
       "  ⋅    ⋅    ⋅    ⋅    ⋅    ⋅    ⋅   1.0"
      ]
     },
     "execution_count": 4,
     "metadata": {},
     "output_type": "execute_result"
    }
   ],
   "source": [
    "maxiter = 1000\n",
    "eps = 1e-8\n",
    "\n",
    "# initialize\n",
    "L = rand(n)' # Feedback gains\n",
    "K = rand(n, 3) # Kalman gains\n",
    "I2n = eye(2n)"
   ]
  },
  {
   "cell_type": "code",
   "execution_count": 5,
   "metadata": {},
   "outputs": [
    {
     "data": {
      "text/plain": [
       "8×8 Matrix{Float64}:\n",
       "  1.00006      6.72676e-5   4.29771e-5  …  -4.29771e-5  -5.57975e-5\n",
       "  6.72676e-5   0.0100822    5.25155e-5     -5.25155e-5  -6.81812e-5\n",
       "  4.29771e-5   5.25155e-5   3.35521e-5     -3.35521e-5  -4.35608e-5\n",
       "  5.57975e-5   6.81812e-5   4.35608e-5     -4.35608e-5  -5.65553e-5\n",
       " -5.50498e-5  -6.72676e-5  -4.29771e-5      4.29771e-5   5.57975e-5\n",
       " -6.72676e-5  -8.21971e-5  -5.25155e-5  …   5.25155e-5   6.81812e-5\n",
       " -4.29771e-5  -5.25155e-5  -3.35521e-5      0.0100336    4.35608e-5\n",
       " -5.57975e-5  -6.81812e-5  -4.35608e-5      4.35608e-5   5.65553e-5"
      ]
     },
     "execution_count": 5,
     "metadata": {},
     "output_type": "execute_result"
    }
   ],
   "source": [
    "Ā = [A-B*L B*L; zeros(size(A)) (A-K*C)]\n",
    "Ȳ = [-ones(2) ones(2)] ⊗ (Y*L) \n",
    "Ḡ = [G zeros(size(K)); G (-K*D)]\n",
    "V = BlockDiagonal([Q, U]) + [1 -1; -1 1] ⊗ (L'* R * L)"
   ]
  },
  {
   "cell_type": "code",
   "execution_count": 6,
   "metadata": {},
   "outputs": [
    {
     "data": {
      "text/plain": [
       "64×64 Matrix{Float64}:\n",
       " -1.72945       0.5           0.86563      …  -0.0031229     -3.07323\n",
       " -1.46691      -0.982564      1.79089         -0.00390102    -3.83896\n",
       " -0.519098     -0.897237      0.000310178     -8.98399e-6    -0.00884109\n",
       " -0.0002037    -0.000349676   1.09954e-6      -4.21129e-6    -0.0041443\n",
       " -0.145996     -1.4511       -0.566495         0.00292        2.87355\n",
       "  1.05991      -0.516047     -1.65225      …   0.00683748     6.72872\n",
       "  0.432914      0.811568      0.0190815       -0.000131297   -0.129209\n",
       " -0.00122915   -0.00110431    0.000309079      1.89992e-6     0.0018697\n",
       " -1.46691       0.982564      0.790888        -0.00390102    -3.83896\n",
       " -1.93851      -1.11022e-15   2.16258         -0.00736067    -7.24358\n",
       " -1.02085      -0.819133      0.89851      …  -0.00311492    -3.06537\n",
       " -0.000399205  -0.000319373   0.000351053     -5.27347e-6    -0.00518958\n",
       " -1.06208      -2.01726       0.607572        -0.000988627   -0.972901\n",
       "  ⋮                                        ⋱                \n",
       "  1.40051       0.524733     -1.31057         -0.00533173     5.98746\n",
       "  0.483868      1.60252       0.00330443      -0.368035      -6.09146\n",
       " -0.765177      1.66533e-15   0.700886         0.458728     -10.4759\n",
       "  0.000997539  -0.000315277  -0.000662539  …   0.00786161     0.00500235\n",
       " -0.00122915    0.00110431    0.000309079      1.89992e-6     0.0018697\n",
       " -0.00157616    0.000417238   0.0015662       -6.0364e-7     -0.000594039\n",
       " -0.00114597   -0.000320882   0.00076917      -3.6865e-7     -0.000362786\n",
       "  1.07006e-6   -1.25173e-7   -7.89135e-7       4.16997e-6     0.00410364\n",
       " -0.00123892   -0.000813177   0.000598589  …  -4.61608e-5     0.0029757\n",
       " -0.000677019  -0.00120215   -0.000723852     -0.00599001     0.00770533\n",
       "  0.000997539   0.000315277  -0.000662539     -0.0088676      0.00500235\n",
       " -3.57803e-6    2.54745e-18   2.58759e-6      -1.26824e-5    -0.0124807"
      ]
     },
     "execution_count": 6,
     "metadata": {},
     "output_type": "execute_result"
    }
   ],
   "source": [
    "# update S, P\n",
    "S = (I2n' ⊗ Ā' +  Ā' ⊗ I2n + Ȳ' ⊗  Ȳ')^-1"
   ]
  },
  {
   "cell_type": "code",
   "execution_count": 7,
   "metadata": {},
   "outputs": [
    {
     "data": {
      "text/plain": [
       "64×64 Matrix{Float64}:\n",
       " 0.0  0.0  0.0  -2473.19   0.0       …     0.0          0.0        2446.66\n",
       " 1.0  0.0  0.0  -3688.75   0.0             0.0          0.0        2989.67\n",
       " 0.0  1.0  0.0  -2810.8    0.0             0.0          0.0        1910.1\n",
       " 0.0  0.0  1.0  -2565.91   0.0             0.0          0.0        2479.89\n",
       " 0.0  0.0  0.0   2473.19  -0.198614        0.0          0.0       -2446.66\n",
       " 0.0  0.0  0.0   3022.09   0.719659  …     0.0          0.0       -2989.67\n",
       " 0.0  0.0  0.0   1930.8   -0.50372         0.0          0.0       -1910.1\n",
       " 0.0  0.0  0.0   2506.77   0.0             0.0          0.0       -2479.89\n",
       " 1.0  0.0  0.0      0.0    0.0             0.0          0.0        2989.67\n",
       " 0.0  1.0  0.0      0.0    0.0             0.0          0.0        3653.2\n",
       " 0.0  0.0  1.0      0.0    0.0       …     0.0          0.0        2334.02\n",
       " 0.0  0.0  0.0      1.0    0.0             0.0          0.0        3030.28\n",
       " 0.0  0.0  0.0      0.0    1.0             0.0          0.0       -2989.67\n",
       " ⋮                                   ⋱                            \n",
       " 0.0  0.0  0.0      0.0    0.0             0.0          0.0        1910.1\n",
       " 0.0  0.0  0.0      0.0    0.0          -880.098        0.0        2334.02\n",
       " 0.0  0.0  0.0      0.0    0.0             0.0       -880.098      1491.2\n",
       " 0.0  0.0  0.0      0.0    0.0       …     0.0          0.0        1055.94\n",
       " 0.0  0.0  0.0      0.0    0.0             0.0          0.0       -2479.89\n",
       " 0.0  0.0  0.0      0.0    0.0             0.0          0.0       -3030.28\n",
       " 0.0  0.0  0.0      0.0    0.0             0.0          0.0       -1936.04\n",
       " 0.0  0.0  0.0      0.0    0.0             0.0          0.0       -2513.57\n",
       " 0.0  0.0  0.0      0.0    0.0       …    -0.740033    -0.457488   2479.65\n",
       " 0.0  0.0  0.0      0.0    0.0           -59.4838      -0.575463   2363.11\n",
       " 0.0  0.0  0.0      0.0    0.0             0.437871   -60.0977     1055.94\n",
       " 0.0  0.0  0.0      0.0    0.0             0.0          1.0        2395.3"
      ]
     },
     "execution_count": 7,
     "metadata": {},
     "output_type": "execute_result"
    }
   ],
   "source": [
    "S = (I2n' ⊗ Ā' +  Ā' ⊗ I2n + Ȳ' ⊗  Ȳ')"
   ]
  },
  {
   "cell_type": "code",
   "execution_count": 8,
   "metadata": {},
   "outputs": [
    {
     "data": {
      "text/plain": [
       "8×8 adjoint(::Matrix{Float64}) with eltype Float64:\n",
       " -1.4915        1.0   0.0   0.0   0.0          …   0.0           0.0\n",
       " -1.13651       0.0   1.0   0.0   0.0              0.0           0.0\n",
       " -1.03749      -0.0  -0.0   1.0   0.0              0.0           0.0\n",
       " -0.000404337   0.0   0.0   0.0   0.0              0.0           0.0\n",
       " -0.620077      0.0   0.0   0.0  -0.713633        -0.571995     -0.422216\n",
       " -1.72485       0.0   0.0   0.0  -1.15402      …   0.178454     -0.46725\n",
       "  0.874689     -0.0  -0.0  -0.0  -0.00920272      -0.0399891     0.939655\n",
       " -0.00234879    0.0   0.0   0.0  -0.000155627     -0.000676253  -0.00102049"
      ]
     },
     "execution_count": 8,
     "metadata": {},
     "output_type": "execute_result"
    }
   ],
   "source": [
    "# update S, P\n",
    "S = (Ā')^-1"
   ]
  },
  {
   "cell_type": "code",
   "execution_count": 9,
   "metadata": {},
   "outputs": [
    {
     "data": {
      "text/plain": [
       "8×8 adjoint(::Matrix{Float64}) with eltype Float64:\n",
       " -1.4915        1.0   0.0   0.0   0.0          …   0.0           0.0\n",
       " -1.13651       0.0   1.0   0.0   0.0              0.0           0.0\n",
       " -1.03749      -0.0  -0.0   1.0   0.0              0.0           0.0\n",
       " -0.000404337   0.0   0.0   0.0   0.0              0.0           0.0\n",
       " -0.620077      0.0   0.0   0.0  -0.713633        -0.571995     -0.422216\n",
       " -1.72485       0.0   0.0   0.0  -1.15402      …   0.178454     -0.46725\n",
       "  0.874689     -0.0  -0.0  -0.0  -0.00920272      -0.0399891     0.939655\n",
       " -0.00234879    0.0   0.0   0.0  -0.000155627     -0.000676253  -0.00102049"
      ]
     },
     "execution_count": 9,
     "metadata": {},
     "output_type": "execute_result"
    }
   ],
   "source": [
    "S = ((Ā)')^-1"
   ]
  },
  {
   "cell_type": "code",
   "execution_count": 10,
   "metadata": {},
   "outputs": [
    {
     "data": {
      "text/plain": [
       "8×8 Matrix{Float64}:\n",
       "  0.0154873    -0.00045      -0.0122889    …   0.00151315    0.000986847\n",
       " -0.00045       0.0122889    -0.00045          4.50977e-5    0.000994369\n",
       " -0.0122889    -0.00045       0.0142709       -0.000258545   0.00211143\n",
       "  0.00045      -0.0142709    -0.00045         -0.00288489    0.0871396\n",
       "  0.00168561    0.00169581    0.000463926      2.35117e-5    0.00139105\n",
       " -0.00208267   -0.000145066   0.000284365  …  -0.000996517  -0.0022848\n",
       "  0.00151315    4.50977e-5   -0.000258545      0.000951631  -0.00127421\n",
       "  0.000986847   0.000994369   0.00211143      -0.00127421    0.0951742"
      ]
     },
     "execution_count": 10,
     "metadata": {},
     "output_type": "execute_result"
    }
   ],
   "source": [
    "P = reshape((I2n' ⊗ Ā +  Ā ⊗ I2n + Ȳ ⊗  Ȳ)^-1 * vec(-Ḡ * Ḡ'), (2n, 2n))"
   ]
  },
  {
   "cell_type": "code",
   "execution_count": 11,
   "metadata": {},
   "outputs": [
    {
     "data": {
      "text/plain": [
       "4×4 Matrix{Float64}:\n",
       " -0.713633      0.792232     -0.571995     -0.422216\n",
       " -1.15402      -0.193584      0.178454     -0.46725\n",
       " -0.00920272   -0.0305299    -0.0399891     0.939655\n",
       " -0.000155627  -0.000516289  -0.000676253  -0.00102049"
      ]
     },
     "execution_count": 11,
     "metadata": {},
     "output_type": "execute_result"
    }
   ],
   "source": [
    "# update K, L\n",
    "P22 = P[n+1:2n, n+1:2n]\n",
    "S11 = S[1:n, 1:n]\n",
    "S22 = S[n+1:2n, n+1:2n]"
   ]
  },
  {
   "cell_type": "code",
   "execution_count": 12,
   "metadata": {},
   "outputs": [
    {
     "data": {
      "text/plain": [
       "1×4 adjoint(::Vector{Float64}) with eltype Float64:\n",
       " 0.741956  0.906626  0.579241  0.752032"
      ]
     },
     "execution_count": 12,
     "metadata": {},
     "output_type": "execute_result"
    }
   ],
   "source": [
    "Ktm1 = copy(K)\n",
    "Ltm1 = copy(L)"
   ]
  },
  {
   "cell_type": "code",
   "execution_count": 13,
   "metadata": {},
   "outputs": [
    {
     "data": {
      "text/plain": [
       "1×4 adjoint(::Vector{Float64}) with eltype Float64:\n",
       " 0.297171  0.0  0.0  0.0"
      ]
     },
     "execution_count": 13,
     "metadata": {},
     "output_type": "execute_result"
    }
   ],
   "source": [
    "K = P22 * C' * (D * D')^-1\n",
    "L = (R + Y' * (S11 + S22) * Y)^-1 * B' * S11"
   ]
  },
  {
   "cell_type": "code",
   "execution_count": 14,
   "metadata": {},
   "outputs": [],
   "source": [
    "for i in 1:maxiter\n",
    "    Ā = [A-B*L B*L; zeros(size(A)) (A-K*C)]\n",
    "    Ȳ = [-ones(2) ones(2)] ⊗ (Y*L) \n",
    "    Ḡ = [G zeros(size(K)); G (-K*D)]\n",
    "    V = BlockDiagonal([Q, U]) + [1 -1; -1 1] ⊗ (L'* R * L)\n",
    "    \n",
    "    # update S, P\n",
    "    S = -reshape((I2n' ⊗ Ā' +  Ā' ⊗ I2n + Ȳ' ⊗  Ȳ')^-1 * vec(V), (2n, 2n))\n",
    "    P = -reshape((I2n' ⊗ Ā +  Ā ⊗ I2n + Ȳ ⊗  Ȳ)^-1 * vec(Ḡ * Ḡ'), (2n, 2n))\n",
    "\n",
    "    # update K, L\n",
    "    P22 = P[n+1:2n, n+1:2n]\n",
    "    S11 = S[1:n, 1:n]\n",
    "    S22 = S[n+1:2n, n+1:2n]\n",
    "\n",
    "    Ktm1 = copy(K)\n",
    "    Ltm1 = copy(L)\n",
    "\n",
    "    K = P22 * C' * (D * D')^-1\n",
    "    L = (R + Y' * (S11 + S22) * Y)^-1 * B' * S11\n",
    "    if sum(abs.(K - Ktm1)) < eps && sum(abs.(L - Ltm1)) < eps\n",
    "        break\n",
    "    end\n",
    "end"
   ]
  },
  {
   "cell_type": "code",
   "execution_count": 15,
   "metadata": {},
   "outputs": [],
   "source": [
    "dt = 0.001 # sec\n",
    "T = 2.0 # sec\n",
    "nt = round(Int, T/dt)\n",
    "Xa = zeros(4, nt)\n",
    "ua = zeros(nt)\n",
    "Xa[1, 1] = -0.5 # m; initial position (target position is zero)\n",
    "\n",
    "for k=1:nt-1\n",
    "    ua[k] = -L * Xa[:, k]\n",
    "    Xa[:, k+1] = Xa[:,k] + (A * Xa[:,k] + B * ua[k]) * dt\n",
    "end"
   ]
  },
  {
   "cell_type": "code",
   "execution_count": 16,
   "metadata": {},
   "outputs": [],
   "source": [
    "sqrtdt = √dt\n",
    "nsim = 10\n",
    "XSimAll = zeros(nsim, 4, nt)\n",
    "uSimAll = zeros(nsim, nt)\n",
    "for i in 1:nsim\n",
    "    XSim = zeros(4, nt)\n",
    "    Xhat = zeros(4, nt)\n",
    "    u = zeros(nt)\n",
    "    XSim[1, 1] = -0.5 # m; initial position (target position is zero)\n",
    "    Xhat[1, 1] = XSim[1, 1]\n",
    "    \n",
    "    for k=1:nt-1\n",
    "        u[k] = -L * Xhat[:, k]\n",
    "        XSim[:, k+1] = XSim[:,k] + (A * XSim[:,k] + B * u[k]) * dt + sqrtdt * (Y * u[k] * randn() + G * randn(n))\n",
    "        dy = C * XSim[:,k] * dt + D * sqrtdt * randn(n-1)\n",
    "        Xhat[:, k+1] = Xhat[:,k] + (A * Xhat[:,k] + B * u[k]) * dt + K * (dy - C * Xhat[:,k] * dt)\n",
    "    end\n",
    "    XSimAll[i,:,:] = XSim\n",
    "    uSimAll[i, :] = u\n",
    "end"
   ]
  },
  {
   "cell_type": "code",
   "execution_count": 17,
   "metadata": {},
   "outputs": [
    {
     "data": {
      "image/png": "[encoded data removed]",
      "text/plain": [
       "Figure(PyObject <Figure size 1000x300 with 3 Axes>)"
      ]
     },
     "metadata": {},
     "output_type": "display_data"
    }
   ],
   "source": [
    "tarray = (1:nt) * dt\n",
    "label = [L\"Position ($m$)\", L\"Velocity ($m/s$)\", L\"Acceleration ($m/s^2$)\", L\"Jerk ($m/s^3$)\"]\n",
    "figure(figsize=(10, 3))\n",
    "for i in 1:2\n",
    "    subplot(1,3,i)\n",
    "    plot(tarray, XSimAll[:,i,:]', \"tab:red\", alpha=0.5)\n",
    "    plot(tarray, Xa[i,:], \"k\")\n",
    "    ylabel(label[i]); grid()\n",
    "    xlabel(L\"Time ($s$)\")\n",
    "end\n",
    "subplot(1,3,3)\n",
    "plot(tarray, uSimAll', \"tab:red\", alpha=0.5)\n",
    "plot(tarray, ua, \"k\")\n",
    "ylabel(L\"Control signal ($N\\cdot m$)\"); grid()\n",
    "xlabel(L\"Time ($s$)\")\n",
    "tight_layout()"
   ]
  }
 ],
 "metadata": {
  "kernelspec": {
   "display_name": "Julia 1.6.0-beta1",
   "language": "julia",
   "name": "julia-1.6"
  },
  "language_info": {
   "file_extension": ".jl",
   "mimetype": "application/julia",
   "name": "julia",
   "version": "1.6.0"
  }
 },
 "nbformat": 4,
 "nbformat_minor": 4
}