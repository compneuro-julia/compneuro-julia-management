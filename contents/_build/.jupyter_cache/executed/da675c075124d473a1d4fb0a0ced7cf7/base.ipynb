{
 "cells": [
  {
   "cell_type": "code",
   "execution_count": 1,
   "metadata": {},
   "outputs": [
    {
     "data": {
      "text/plain": [
       "right! (generic function with 1 method)"
      ]
     },
     "execution_count": 1,
     "metadata": {},
     "output_type": "execute_result"
    }
   ],
   "source": [
    "function wrong!(a::Array)\n",
    "    a = ones(size(a))\n",
    "end\n",
    "\n",
    "function right!(a::Array)\n",
    "    a[:] = ones(size(a))\n",
    "end"
   ]
  },
  {
   "cell_type": "code",
   "execution_count": 2,
   "metadata": {},
   "outputs": [
    {
     "name": "stdout",
     "output_type": "stream",
     "text": [
      "v : "
     ]
    },
    {
     "name": "stdout",
     "output_type": "stream",
     "text": [
      "[0.9260629725247853 0.03603047943915172; 0.4257272042455853 0.3276915437718575]\n",
      "wrong : [0.9260629725247853 0.03603047943915172; 0.4257272042455853 0.3276915437718575]\n",
      "right : [1.0 1.0; 1.0 1.0]\n"
     ]
    }
   ],
   "source": [
    "using Random\n",
    "v = rand(2, 2)\n",
    "println(\"v : \", v)\n",
    "\n",
    "wrong!(v)\n",
    "println(\"wrong : \", v)\n",
    "\n",
    "right!(v)\n",
    "println(\"right : \", v)"
   ]
  },
  {
   "cell_type": "code",
   "execution_count": 3,
   "metadata": {},
   "outputs": [
    {
     "data": {
      "text/plain": [
       "2×2×2 Array{Float64, 3}:\n",
       "[:, :, 1] =\n",
       " 0.979104  0.957247\n",
       " 0.130638  0.747744\n",
       "\n",
       "[:, :, 2] =\n",
       " 0.601915  0.230052\n",
       " 0.264066  0.210893"
      ]
     },
     "execution_count": 3,
     "metadata": {},
     "output_type": "execute_result"
    }
   ],
   "source": [
    "B = rand(2, 2, 2)"
   ]
  },
  {
   "cell_type": "code",
   "execution_count": 4,
   "metadata": {},
   "outputs": [
    {
     "data": {
      "text/plain": [
       "8-element Vector{Float64}:\n",
       " 0.9791037472597044\n",
       " 0.130638212083938\n",
       " 0.9572469034641975\n",
       " 0.7477443173968323\n",
       " 0.6019150914630806\n",
       " 0.2640658794403452\n",
       " 0.230052259097423\n",
       " 0.21089287814851665"
      ]
     },
     "execution_count": 4,
     "metadata": {},
     "output_type": "execute_result"
    }
   ],
   "source": [
    "import Base.Iterators: flatten\n",
    "collect(flatten(B))"
   ]
  },
  {
   "cell_type": "code",
   "execution_count": 5,
   "metadata": {},
   "outputs": [
    {
     "data": {
      "text/plain": [
       "8-element Vector{Float64}:\n",
       " 0.9791037472597044\n",
       " 0.130638212083938\n",
       " 0.9572469034641975\n",
       " 0.7477443173968323\n",
       " 0.6019150914630806\n",
       " 0.2640658794403452\n",
       " 0.230052259097423\n",
       " 0.21089287814851665"
      ]
     },
     "execution_count": 5,
     "metadata": {},
     "output_type": "execute_result"
    }
   ],
   "source": [
    "B[:]"
   ]
  },
  {
   "cell_type": "code",
   "execution_count": 6,
   "metadata": {},
   "outputs": [
    {
     "data": {
      "text/plain": [
       "3×3 Matrix{Float64}:\n",
       " 0.603262  0.688243   0.729117\n",
       " 0.764048  0.975049   0.585761\n",
       " 0.258784  0.0572537  0.0725289"
      ]
     },
     "execution_count": 6,
     "metadata": {},
     "output_type": "execute_result"
    }
   ],
   "source": [
    "W = rand(3,3)"
   ]
  },
  {
   "cell_type": "code",
   "execution_count": 7,
   "metadata": {},
   "outputs": [
    {
     "data": {
      "text/plain": [
       "3×3 Matrix{Float64}:\n",
       " 0.370989  0.400014   0.525525\n",
       " 0.469867  0.566709   0.422198\n",
       " 0.159144  0.0332765  0.0522766"
      ]
     },
     "execution_count": 7,
     "metadata": {},
     "output_type": "execute_result"
    }
   ],
   "source": [
    "Wnormed = W ./ sum(W, dims=1)"
   ]
  },
  {
   "cell_type": "code",
   "execution_count": 8,
   "metadata": {},
   "outputs": [
    {
     "name": "stdout",
     "output_type": "stream",
     "text": [
      "[1.0 1.0 1.0]\n"
     ]
    }
   ],
   "source": [
    "println(sum(Wnormed, dims=1))"
   ]
  },
  {
   "cell_type": "code",
   "execution_count": 9,
   "metadata": {},
   "outputs": [
    {
     "data": {
      "text/plain": [
       "2×2 Matrix{Int64}:\n",
       " 1  2\n",
       " 3  4"
      ]
     },
     "execution_count": 9,
     "metadata": {},
     "output_type": "execute_result"
    }
   ],
   "source": [
    "A = [1 2; 3 4]"
   ]
  },
  {
   "cell_type": "code",
   "execution_count": 10,
   "metadata": {},
   "outputs": [
    {
     "data": {
      "text/plain": [
       "2×3 Matrix{Int64}:\n",
       " 4  5  6\n",
       " 7  8  9"
      ]
     },
     "execution_count": 10,
     "metadata": {},
     "output_type": "execute_result"
    }
   ],
   "source": [
    "B = [4 5 6; 7 8 9]"
   ]
  },
  {
   "cell_type": "code",
   "execution_count": 11,
   "metadata": {},
   "outputs": [
    {
     "data": {
      "text/plain": [
       "2×5 Matrix{Int64}:\n",
       " 1  2  4  5  6\n",
       " 3  4  7  8  9"
      ]
     },
     "execution_count": 11,
     "metadata": {},
     "output_type": "execute_result"
    }
   ],
   "source": [
    "H1 = hcat(A,B)"
   ]
  },
  {
   "cell_type": "code",
   "execution_count": 12,
   "metadata": {},
   "outputs": [
    {
     "data": {
      "text/plain": [
       "2×5 Matrix{Int64}:\n",
       " 1  2  4  5  6\n",
       " 3  4  7  8  9"
      ]
     },
     "execution_count": 12,
     "metadata": {},
     "output_type": "execute_result"
    }
   ],
   "source": [
    "H2 = [A B]"
   ]
  },
  {
   "cell_type": "code",
   "execution_count": 13,
   "metadata": {},
   "outputs": [
    {
     "data": {
      "text/plain": [
       "2-element Vector{Matrix{Int64}}:\n",
       " [1 2; 3 4]\n",
       " [4 5 6; 7 8 9]"
      ]
     },
     "execution_count": 13,
     "metadata": {},
     "output_type": "execute_result"
    }
   ],
   "source": [
    "H3 = [A, B]"
   ]
  },
  {
   "cell_type": "code",
   "execution_count": 14,
   "metadata": {},
   "outputs": [
    {
     "data": {
      "text/plain": [
       "5×2 Matrix{Int64}:\n",
       " 1  2\n",
       " 3  4\n",
       " 4  7\n",
       " 5  8\n",
       " 6  9"
      ]
     },
     "execution_count": 14,
     "metadata": {},
     "output_type": "execute_result"
    }
   ],
   "source": [
    "V1 = vcat(A, B')"
   ]
  },
  {
   "cell_type": "code",
   "execution_count": 15,
   "metadata": {},
   "outputs": [
    {
     "data": {
      "text/plain": [
       "5×2 Matrix{Int64}:\n",
       " 1  2\n",
       " 3  4\n",
       " 4  7\n",
       " 5  8\n",
       " 6  9"
      ]
     },
     "execution_count": 15,
     "metadata": {},
     "output_type": "execute_result"
    }
   ],
   "source": [
    "V2 = [A; B']"
   ]
  },
  {
   "cell_type": "code",
   "execution_count": 16,
   "metadata": {},
   "outputs": [
    {
     "data": {
      "text/plain": [
       "5×4 Matrix{Int64}:\n",
       " 1  2  1  2\n",
       " 3  4  3  4\n",
       " 4  7  4  7\n",
       " 5  8  5  8\n",
       " 6  9  6  9"
      ]
     },
     "execution_count": 16,
     "metadata": {},
     "output_type": "execute_result"
    }
   ],
   "source": [
    "[V2 [A;B']]"
   ]
  },
  {
   "cell_type": "code",
   "execution_count": 17,
   "metadata": {},
   "outputs": [
    {
     "data": {
      "text/plain": [
       "3-element Vector{Float64}:\n",
       " 0.26191750042117445\n",
       " 0.7680331216652516\n",
       " 0.40519272523745187"
      ]
     },
     "execution_count": 17,
     "metadata": {},
     "output_type": "execute_result"
    }
   ],
   "source": [
    "v = rand(3)"
   ]
  },
  {
   "cell_type": "code",
   "execution_count": 18,
   "metadata": {},
   "outputs": [
    {
     "data": {
      "text/plain": [
       "1×3 Matrix{Float64}:\n",
       " 0.261918  0.768033  0.405193"
      ]
     },
     "execution_count": 18,
     "metadata": {},
     "output_type": "execute_result"
    }
   ],
   "source": [
    "newaxis = [CartesianIndex()]\n",
    "v1 = v[newaxis, :]"
   ]
  },
  {
   "cell_type": "code",
   "execution_count": 19,
   "metadata": {},
   "outputs": [
    {
     "name": "stdout",
     "output_type": "stream",
     "text": [
      "Type : Vector"
     ]
    },
    {
     "name": "stdout",
     "output_type": "stream",
     "text": [
      "{Vector{Float64}}\n",
      "Size : (5,)\n"
     ]
    }
   ],
   "source": [
    "A1 = [i*rand(3) for i=1:5]\n",
    "\n",
    "println(\"Type : \", typeof(A1))\n",
    "println(\"Size : \", size(A1))"
   ]
  },
  {
   "cell_type": "code",
   "execution_count": 20,
   "metadata": {},
   "outputs": [
    {
     "name": "stdout",
     "output_type": "stream",
     "text": [
      "Type : LinearAlgebra.Adjoint{Float64, Matrix{Float64}}\n",
      "Size : (5, 3)\n"
     ]
    }
   ],
   "source": [
    "A2 = hcat(A1...)'\n",
    "\n",
    "println(\"Type : \", typeof(A2))\n",
    "println(\"Size : \", size(A2))"
   ]
  },
  {
   "cell_type": "code",
   "execution_count": 21,
   "metadata": {},
   "outputs": [
    {
     "name": "stdout",
     "output_type": "stream",
     "text": [
      "Type : Vector{Array{Float64, 3}}\n",
      "Size : (6,)\n"
     ]
    }
   ],
   "source": [
    "B1 = [i*rand(3, 4, 5) for i=1:6]\n",
    "\n",
    "println(\"Type : \", typeof(B1))\n",
    "println(\"Size : \", size(B1))"
   ]
  },
  {
   "cell_type": "code",
   "execution_count": 22,
   "metadata": {},
   "outputs": [
    {
     "name": "stdout",
     "output_type": "stream",
     "text": [
      "Type : Array{Float64, 4}\n",
      "Size : (6, 3, 4, 5)\n"
     ]
    }
   ],
   "source": [
    "B2 = permutedims(cat(B1..., dims=4), [4, 1, 2, 3])\n",
    "\n",
    "println(\"Type : \", typeof(B2))\n",
    "println(\"Size : \", size(B2))"
   ]
  },
  {
   "cell_type": "code",
   "execution_count": 23,
   "metadata": {},
   "outputs": [
    {
     "data": {
      "text/plain": [
       "100"
      ]
     },
     "execution_count": 23,
     "metadata": {},
     "output_type": "execute_result"
    }
   ],
   "source": [
    "p = 0.7\n",
    "N = 100"
   ]
  },
  {
   "cell_type": "code",
   "execution_count": 24,
   "metadata": {},
   "outputs": [],
   "source": [
    "using BenchmarkTools"
   ]
  },
  {
   "cell_type": "code",
   "execution_count": 25,
   "metadata": {},
   "outputs": [
    {
     "data": {
      "text/plain": [
       "BenchmarkTools.Trial: \n",
       "  memory estimate:  1.91 KiB\n",
       "  allocs estimate:  7\n",
       "  --------------\n",
       "  minimum time:     852.941 ns (0.00% GC)\n",
       "  median time:      881.176 ns (0.00% GC)\n",
       "  mean time:        944.774 ns (2.63% GC)\n",
       "  maximum time:     8.999 μs (87.37% GC)\n",
       "  --------------\n",
       "  samples:          10000\n",
       "  evals/sample:     85"
      ]
     },
     "execution_count": 25,
     "metadata": {},
     "output_type": "execute_result"
    }
   ],
   "source": [
    "@benchmark floor.(p .+ rand(N))"
   ]
  },
  {
   "cell_type": "code",
   "execution_count": 26,
   "metadata": {},
   "outputs": [
    {
     "name": "stdout",
     "output_type": "stream",
     "text": [
      "0.71\n"
     ]
    }
   ],
   "source": [
    "println(sum(floor.(p .+ rand(N)) .== 1.0) / N) "
   ]
  },
  {
   "cell_type": "code",
   "execution_count": 27,
   "metadata": {},
   "outputs": [
    {
     "data": {
      "text/plain": [
       "BenchmarkTools.Trial: \n",
       "  memory estimate:  1.55 KiB\n",
       "  allocs estimate:  6\n",
       "  --------------\n",
       "  minimum time:     944.186 ns (0.00% GC)\n",
       "  median time:      983.721 ns (0.00% GC)\n",
       "  mean time:        1.047 μs (2.42% GC)\n",
       "  maximum time:     20.321 μs (92.94% GC)\n",
       "  --------------\n",
       "  samples:          10000\n",
       "  evals/sample:     43"
      ]
     },
     "execution_count": 27,
     "metadata": {},
     "output_type": "execute_result"
    }
   ],
   "source": [
    "@benchmark 1.0f0 * (p .≥ rand(N))"
   ]
  },
  {
   "cell_type": "code",
   "execution_count": 28,
   "metadata": {},
   "outputs": [
    {
     "name": "stdout",
     "output_type": "stream",
     "text": [
      "0.72\n"
     ]
    }
   ],
   "source": [
    "println(sum(1.0f0 * (p .≥ rand(N)) .== 1.0) / N) "
   ]
  },
  {
   "cell_type": "code",
   "execution_count": 29,
   "metadata": {},
   "outputs": [],
   "source": [
    "using LinearAlgebra, Kronecker, Random"
   ]
  },
  {
   "cell_type": "code",
   "execution_count": 30,
   "metadata": {},
   "outputs": [
    {
     "data": {
      "text/plain": [
       "4×4 Matrix{Float64}:\n",
       " 1.0  5.0   9.0  13.0\n",
       " 2.0  6.0  10.0  14.0\n",
       " 3.0  7.0  11.0  15.0\n",
       " 4.0  8.0  12.0  16.0"
      ]
     },
     "execution_count": 30,
     "metadata": {},
     "output_type": "execute_result"
    }
   ],
   "source": [
    "m = 4\n",
    "A = randn(m, m)\n",
    "B = randn(m, m)\n",
    "C = convert(Array{Float64}, reshape(1:16, (m, m)))"
   ]
  },
  {
   "cell_type": "code",
   "execution_count": 31,
   "metadata": {},
   "outputs": [
    {
     "data": {
      "text/plain": [
       "vec (generic function with 1 method)"
      ]
     },
     "execution_count": 31,
     "metadata": {},
     "output_type": "execute_result"
    }
   ],
   "source": [
    "vec(X) = vcat(X...)"
   ]
  },
  {
   "cell_type": "code",
   "execution_count": 32,
   "metadata": {},
   "outputs": [
    {
     "data": {
      "text/plain": [
       "4×4 Matrix{Float64}:\n",
       "  13.6197    27.2844   2.045    -17.8671\n",
       " -10.5188   -22.7872  -3.08732   14.8822\n",
       "  28.8625    59.1315   5.48664  -38.6917\n",
       "   4.69645   10.4046   1.58114   -6.7902"
      ]
     },
     "execution_count": 32,
     "metadata": {},
     "output_type": "execute_result"
    }
   ],
   "source": [
    "X = reshape((B' ⊗ A)^-1 * vec(C), (m, m))"
   ]
  },
  {
   "cell_type": "code",
   "execution_count": 33,
   "metadata": {},
   "outputs": [
    {
     "data": {
      "text/plain": [
       "4×4 Matrix{Float64}:\n",
       " 1.0  5.0   9.0  13.0\n",
       " 2.0  6.0  10.0  14.0\n",
       " 3.0  7.0  11.0  15.0\n",
       " 4.0  8.0  12.0  16.0"
      ]
     },
     "execution_count": 33,
     "metadata": {},
     "output_type": "execute_result"
    }
   ],
   "source": [
    "A * X * B"
   ]
  },
  {
   "cell_type": "code",
   "execution_count": 34,
   "metadata": {},
   "outputs": [
    {
     "data": {
      "text/plain": [
       "foo (generic function with 1 method)"
      ]
     },
     "execution_count": 34,
     "metadata": {},
     "output_type": "execute_result"
    }
   ],
   "source": [
    "foo(a,b) = sum(a) + b"
   ]
  },
  {
   "cell_type": "code",
   "execution_count": 35,
   "metadata": {},
   "outputs": [
    {
     "name": "stdout",
     "output_type": "stream",
     "text": [
      "[6, 7, 8]\n",
      "[6, 7, 8]"
     ]
    },
    {
     "name": "stdout",
     "output_type": "stream",
     "text": [
      "\n",
      "[6, 7, 8]\n"
     ]
    }
   ],
   "source": [
    "println(foo.(Ref([1,2]),[3,4,5]))\n",
    "println(foo.(([1,2],), [3,4,5]))\n",
    "println(foo.([[1,2]], [3,4,5]))"
   ]
  },
  {
   "cell_type": "code",
   "execution_count": 36,
   "metadata": {},
   "outputs": [
    {
     "data": {
      "text/plain": [
       "10"
      ]
     },
     "execution_count": 36,
     "metadata": {},
     "output_type": "execute_result"
    }
   ],
   "source": [
    "var\"log(θ+μ)\" = 10"
   ]
  }
 ],
 "metadata": {
  "kernelspec": {
   "display_name": "Julia 1.6.0",
   "language": "julia",
   "name": "julia-1.6"
  },
  "language_info": {
   "file_extension": ".jl",
   "mimetype": "application/julia",
   "name": "julia",
   "version": "1.6.0"
  }
 },
 "nbformat": 4,
 "nbformat_minor": 4
}