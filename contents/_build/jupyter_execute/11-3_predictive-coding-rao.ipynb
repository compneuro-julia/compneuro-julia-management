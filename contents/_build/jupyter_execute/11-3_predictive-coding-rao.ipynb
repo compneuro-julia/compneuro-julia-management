{
 "cells": [
  {
   "cell_type": "markdown",
   "metadata": {},
   "source": [
    "# 11.3 Predictive coding (Rao & Ballard, 1999) モデル\n",
    "Predictive codingの初めの数理的モデルとなる ([Rao & Ballard, *Nat. Neurosci*. 1999](https://www.nature.com/articles/nn0199_79))を実装する。"
   ]
  },
  {
   "cell_type": "markdown",
   "metadata": {},
   "source": [
    "## 11.3.1 観測世界の階層的予測\n",
    "構築するネットワークは入力層を含め、3層のネットワークとする。網膜への入力として画像 $\\mathbf{x} \\in \\mathbb{R}^{n_0}$を考える。画像 $\\mathbf{x}$ の観測世界における隠れ変数、すなわち**潜在変数** (latent variable)を$\\mathbf{r} \\in \\mathbb{R}^{n_1}$とし、ニューロン群によって発火率で表現されているとする (真の変数と $\\mathbf{r}$は異なるので文字を分けるべきだが簡単のためにこう表す)。このとき、\n",
    "\n",
    "$$\n",
    "\\mathbf{x} = f(\\mathbf{U}\\mathbf{r}) + \\boldsymbol{\\epsilon} \\tag{1}\n",
    "$$\n",
    "\n",
    "が成立しているとする。ただし、$f(\\cdot)$は活性化関数 (activation function)、$\\mathbf{U} \\in \\mathbb{R}^{n_0 \\times n_1}$は重み行列である。\n",
    "$\\boldsymbol{\\epsilon} \\in \\mathbb{R}^{n_0}$ は $\\mathcal{N}(\\mathbf{0}, \\sigma^2 \\mathbf{I})$ からサンプリングされるとする。\n",
    "\n",
    "潜在変数 $\\mathbf{r}$はさらに高次 (higher-level)の潜在変数 $\\mathbf{r}^h$により、次式で表現される。\n",
    "\n",
    "$$\n",
    "\\mathbf{r} = \\mathbf{r}^{td}+\\boldsymbol{\\epsilon}^{td}=f(\\mathbf{U}^h \\mathbf{r}^h)+\\boldsymbol{\\epsilon}^{td} \\tag{2}\n",
    "$$\n",
    "\n",
    "ただし、Top-downの予測信号を $\\mathbf{r}^{td}:=f(\\mathbf{U}^h \\mathbf{r}^h)$とした。また、$\\mathbf{r}^{td} \\in \\mathbb{R}^{n_1}$, $\\mathbf{r}^{h} \\in \\mathbb{R}^{n_2}$, $\\mathbf{U}^h \\in \\mathbb{R}^{n_1 \\times n_2}$ である。\n",
    "$\\boldsymbol{\\epsilon}^{td} \\in \\mathbb{R}^{n_1}$は$\\mathcal{N}(\\mathbf{0}$, $\\sigma_{td}^2 \\mathbf{I}$) からサンプリングされるとする。\n",
    "\n",
    "話は飛ぶが、Predictive codingのネットワークの特徴は\n",
    "- 階層的な構造\n",
    "- 高次による低次の予測 (Feedback or Top-down信号)\n",
    "- 低次から高次への誤差信号の伝搬 (Feedforward or Bottom-up 信号)\n",
    "\n",
    "である。ここまでは高次表現による低次表現の予測、というFeedback信号について説明してきたが、この部分はSparse codingでも同じである。それではPredictive codingのもう一つの要となる、低次から高次への予測誤差の伝搬というFeedforward信号はどのように導かれるのだろうか。結論から言えば、これは**復元誤差 (reconstruction error)の最小化を行う再帰的ネットワーク (recurrent network)を考慮することで自然に導かれる**。"
   ]
  },
  {
   "cell_type": "markdown",
   "metadata": {},
   "source": [
    "## 11.3.2 損失関数と学習則\n",
    "### 事前分布の設定\n",
    "$\\mathbf{r}$の事前分布$p(\\mathbf{r})$はCauchy分布を用いる。$p(\\mathbf{r})$の負の対数事前分布を$g(\\mathbf{r}):=-\\log p(\\mathbf{r})$としておく。\n",
    "\n",
    "$$\n",
    "\\begin{align}\n",
    "p(\\mathbf{r})&=\\prod_i p(r_i)=\\prod_i \\exp\\left[-\\alpha \\ln(1+r_i^2)\\right]\\\\\n",
    "g(\\mathbf{r})&=-\\ln p(\\mathbf{r})=\\alpha \\sum_i \\ln(1+r_i^2)\\\\\n",
    "g'(\\mathbf{r})&=\\frac{\\partial g(\\mathbf{r})}{\\partial \\mathbf{r}}=\\left[\\frac{2\\alpha r_i}{1+r_i^2}\\right]_i\n",
    "\\end{align}\n",
    "$$\n",
    "\n",
    "次に重み行列$\\mathbf{U}$の事前分布 $p(\\mathbf{U})$はGaussian分布とする。$p(\\mathbf{U})$の負の対数事前分布を$h(\\mathbf{U}):=-\\ln p(\\mathbf{U})$とすると、次のように表される。\n",
    "\n",
    "$$\n",
    "\\begin{align}\n",
    "p(\\mathbf{U})&=\\exp(-\\lambda\\|\\mathbf{U}\\|^2_F)\\\\\n",
    "h(\\mathbf{U})&=-\\ln p(\\mathbf{U})=\\lambda\\|\\mathbf{U}\\|^2_F\\\\\n",
    "h'(\\mathbf{U})&=\\frac{\\partial h(\\mathbf{U})}{\\partial \\mathbf{U}}=2\\lambda \\mathbf{U}\n",
    "\\end{align}\n",
    "$$\n",
    "\n",
    "ただし、$\\|\\cdot \\| _ F^2$はフロベニウスノルムを意味する。\n",
    "\n",
    "### 損失関数の設定\n",
    "[11-2](https://compneuro-julia.github.io/11-2_sparse-coding.html)と同様に考えることにより、損失関数 $E$を次のように定義する。\n",
    "\n",
    "$$\n",
    "\\begin{align}\n",
    "E=\\underbrace{\\frac{1}{\\sigma^{2}}\\|\\mathbf{x}-f(\\mathbf{U} \\mathbf{r})\\|^2+\\frac{1}{\\sigma_{t d}^{2}}\\left\\|\\mathbf{r}-f(\\mathbf{U}^h \\mathbf{r}^h)\\right\\|^2}_{\\text{reconstruction error}}+\\underbrace{g(\\mathbf{r})+g(\\mathbf{r}^{h})+h(\\mathbf{U})+h(\\mathbf{U}^h)}_{\\text{sparsity penalty}}\\tag{4}\n",
    "\\end{align}\n",
    "$$\n",
    "\n",
    "潜在変数 $\\mathbf{r}, \\mathbf{r}^h$ と 重み行列 $\\mathbf{U}, \\mathbf{U}^h$ のそれぞれに事前分布を仮定しているため、これらについてのMAP推定を行うことに相当する。\n",
    "\n",
    "### 再帰ネットワークの更新則\n",
    "簡単のために$\\mathbf{z}:=\\mathbf{U}\\mathbf{r}, \\mathbf{z}^h:=\\mathbf{U}^h\\mathbf{r}^h$とする。\n",
    "\n",
    "$$\n",
    "\\begin{align}\n",
    "\\frac{d \\mathbf{r}}{d t}&=-\\frac{k_{1}}{2} \\frac{\\partial E}{\\partial \\mathbf{r}}=k_{1}\\cdot\\Bigg(\\frac{1}{\\sigma^{2}} \\mathbf{U}^{T}\\bigg[\\frac{\\partial f(\\mathbf{z})}{\\partial \\mathbf{z}}\\odot\\underbrace{(\\mathbf{x}-f(\\mathbf{z}))}_{\\text{bottom-up error}}\\bigg]-\\frac{1}{\\sigma_{t d}^{2}}\\underbrace{\\left(\\mathbf{r}-f(\\mathbf{z}^h)\\right)}_{\\text{top-down error}}-\\frac{1}{2}g'(\\mathbf{r})\\Bigg)\\tag{5}\\\\\n",
    "\\frac{d \\mathbf{r}^h}{d t}&=-\\frac{k_{1}}{2} \\frac{\\partial E}{\\partial \\mathbf{r}^h}=k_{1}\\cdot\\Bigg(\\frac{1}{\\sigma_{t d}^{2}}(\\mathbf{U}^h)^T\\bigg[\\frac{\\partial f(\\mathbf{z}^h)}{\\partial \\mathbf{z}^h}\\odot\\underbrace{\\left(\\mathbf{r}-f(\\mathbf{z}^h)\\right)}_{\\text{bottom-up error}}\\bigg]-\\frac{1}{2}g'(\\mathbf{r}^h)\\Bigg)\\tag{6}\n",
    "\\end{align}\n",
    "$$\n",
    "\n",
    "ただし、$k_1$は更新率 (updating rate)である。または、発火率の時定数を$\\tau:=1/k_1$として、$k_1$は発火率の時定数$\\tau$の逆数であると捉えることもできる。ここで(5)式において、中間表現 $\\mathbf{r}$ のダイナミクスはbottom-up errorとtop-down errorで記述されている。このようにbottom-up errorが $\\mathbf{r}$ への入力となることは自然に導出される。なお、top-down errorに関しては高次からの予測 (prediction)の項 $f(\\mathbf{x}^h)$とleaky-integratorとしての項 $-\\mathbf{r}$に分割することができる。また$\\mathbf{U}^T, (\\mathbf{U}^h)^T$は重み行列の転置となっており、bottom-upとtop-downの投射において対称な重み行列を用いることを意味している。$-g'(\\mathbf{r})$は発火率を抑制してスパースにすることを目的とする項だが、無理やり解釈をすると自己再帰的な抑制と言える。"
   ]
  },
  {
   "cell_type": "markdown",
   "metadata": {},
   "source": [
    "### 画像データの読み込み\n",
    "11-2と同様にデータは<http://www.rctn.org/bruno/sparsenet/>からダウンロードできるファイルを用いる。"
   ]
  },
  {
   "cell_type": "code",
   "execution_count": 1,
   "metadata": {
    "execution": {
     "iopub.execute_input": "2020-08-22T00:54:26.882723Z",
     "iopub.status.busy": "2020-08-22T00:54:26.461848Z",
     "iopub.status.idle": "2020-08-22T00:54:30.933951Z",
     "shell.execute_reply": "2020-08-22T00:54:30.932953Z"
    }
   },
   "outputs": [],
   "source": [
    "using MAT\n",
    "\n",
    "# datasets from http://www.rctn.org/bruno/sparsenet/\n",
    "mat_images = matopen(\"_static/datasets/IMAGES.mat\")\n",
    "imgs = read(mat_images, \"IMAGES\")\n",
    "\n",
    "close(mat_images)"
   ]
  },
  {
   "cell_type": "markdown",
   "metadata": {},
   "source": [
    "### モデルの定義\n",
    "必要なパッケージを読み込む。"
   ]
  },
  {
   "cell_type": "code",
   "execution_count": 2,
   "metadata": {
    "execution": {
     "iopub.execute_input": "2020-08-22T00:54:30.934948Z",
     "iopub.status.busy": "2020-08-22T00:54:30.934948Z",
     "iopub.status.idle": "2020-08-22T00:54:34.672951Z",
     "shell.execute_reply": "2020-08-22T00:54:34.672951Z"
    }
   },
   "outputs": [],
   "source": [
    "using Base: @kwdef\n",
    "using Parameters: @unpack # or using UnPack\n",
    "using LinearAlgebra\n",
    "using Random\n",
    "using Statistics\n",
    "using ProgressMeter\n",
    "using PyPlot"
   ]
  },
  {
   "cell_type": "markdown",
   "metadata": {},
   "source": [
    "モデルを定義する。"
   ]
  },
  {
   "cell_type": "code",
   "execution_count": 3,
   "metadata": {
    "execution": {
     "iopub.execute_input": "2020-08-22T00:54:34.944226Z",
     "iopub.status.busy": "2020-08-22T00:54:34.673949Z",
     "iopub.status.idle": "2020-08-22T00:54:35.045954Z",
     "shell.execute_reply": "2020-08-22T00:54:35.045954Z"
    }
   },
   "outputs": [],
   "source": [
    "@kwdef struct RBParameter{FT}\n",
    "    α::FT = 1.0\n",
    "    αh::FT = 0.05\n",
    "    var::FT = 1.0\n",
    "    vartd::FT = 10\n",
    "    inv_var::FT = 1/var       \n",
    "    inv_vartd::FT = 1/vartd\n",
    "    k1::FT = 0.3 # k_1: update rate\n",
    "    λ::FT = 0.02 # regularization parameter\n",
    "end\n",
    "\n",
    "@kwdef mutable struct RaoBallard1999Model{FT}\n",
    "    param::RBParameter = RBParameter{FT}()\n",
    "    num_units_lv0::UInt16 = 256 # number of units of level0\n",
    "    num_units_lv1::UInt16 = 32\n",
    "    num_units_lv2::UInt16 = 128\n",
    "    num_lv1::UInt16 = 3\n",
    "    k2::FT = 0.2 # k_2: learning rate\n",
    "    r::Array{FT} = zeros(num_lv1, num_units_lv1) # activity of neurons\n",
    "    rh::Array{FT} = zeros(num_units_lv2) # activity of neurons\n",
    "    U::Array{FT} = randn(num_units_lv0, num_units_lv1) .* sqrt(2.0 / (num_units_lv0+num_units_lv1))\n",
    "    Uh::Array{FT} = randn(num_lv1*num_units_lv1, num_units_lv2) .* sqrt(2.0 / (num_lv1*num_units_lv1+num_units_lv2))\n",
    "end"
   ]
  },
  {
   "cell_type": "markdown",
   "metadata": {},
   "source": [
    "パラメータを更新する関数を定義する。"
   ]
  },
  {
   "cell_type": "code",
   "execution_count": 4,
   "metadata": {
    "execution": {
     "iopub.execute_input": "2020-08-22T00:54:35.047977Z",
     "iopub.status.busy": "2020-08-22T00:54:35.046951Z",
     "iopub.status.idle": "2020-08-22T00:54:35.463836Z",
     "shell.execute_reply": "2020-08-22T00:54:35.462839Z"
    }
   },
   "outputs": [
    {
     "data": {
      "text/plain": [
       "update! (generic function with 1 method)"
      ]
     },
     "execution_count": 4,
     "metadata": {},
     "output_type": "execute_result"
    }
   ],
   "source": [
    "function update!(variable::RaoBallard1999Model, param::RBParameter, inputs::Array, training::Bool)\n",
    "    @unpack num_units_lv0, num_units_lv1, num_units_lv2, num_lv1, k2, r, rh, U, Uh = variable\n",
    "    @unpack α, αh, var, vartd, inv_var, inv_vartd, k1, λ = param\n",
    "\n",
    "    r_reshaped = r[:] # (96)\n",
    "\n",
    "    fx = r * U' # (3, 256)\n",
    "    fxh = Uh * rh # (96, )\n",
    "\n",
    "    # Calculate errors\n",
    "    error = inputs - fx # (3, 256)\n",
    "    errorh = r_reshaped - fxh # (96, ) \n",
    "    errorh_reshaped = reshape(errorh, (num_lv1, num_units_lv1)) # (3, 32)\n",
    "\n",
    "    g_r = α * r ./ (1.0 .+ r .^ 2) # (3, 32)\n",
    "    g_rh = αh * rh ./ (1.0 .+ rh .^ 2) # (64, )\n",
    "\n",
    "    # Update r and rh\n",
    "    dr = k1 * (inv_var * error * U - inv_vartd * errorh_reshaped - g_r)\n",
    "    drh = k1 * (inv_vartd * Uh' * errorh - g_rh)\n",
    "    \n",
    "    r[:, :] += dr\n",
    "    rh[:] += drh\n",
    "    \n",
    "    if training \n",
    "        U[:, :] += k2 * (inv_var * error' * r - num_lv1 * λ * U)\n",
    "        Uh[:, :] += k2 * (inv_vartd * errorh * rh' - λ * Uh)\n",
    "    end\n",
    "\n",
    "    return error, errorh, dr, drh\n",
    "end"
   ]
  },
  {
   "cell_type": "markdown",
   "metadata": {},
   "source": [
    "入力に乗じるGaussianフィルタを定義する。"
   ]
  },
  {
   "cell_type": "code",
   "execution_count": 5,
   "metadata": {
    "execution": {
     "iopub.execute_input": "2020-08-22T00:54:35.464834Z",
     "iopub.status.busy": "2020-08-22T00:54:35.464834Z",
     "iopub.status.idle": "2020-08-22T00:54:35.527693Z",
     "shell.execute_reply": "2020-08-22T00:54:35.527693Z"
    }
   },
   "outputs": [
    {
     "data": {
      "text/plain": [
       "GaussianMask (generic function with 4 methods)"
      ]
     },
     "execution_count": 5,
     "metadata": {},
     "output_type": "execute_result"
    }
   ],
   "source": [
    "# Gaussian mask for inputs\n",
    "function GaussianMask(sizex=16, sizey=16, sigma=5)\n",
    "    x = 0:sizex-1\n",
    "    y = 0:sizey-1\n",
    "    X = [i for i in x, j in 1:length(y)]\n",
    "    Y = [j for i in 1:length(x), j in y]\n",
    "    \n",
    "    x0 = (sizex-1) / 2\n",
    "    y0 = (sizey-1) / 2\n",
    "    mask = exp.(-((X .- x0) .^2 + (Y .- y0) .^2) / (2.0*(sigma^2)))\n",
    "    return mask ./ sum(mask)\n",
    "end"
   ]
  },
  {
   "cell_type": "code",
   "execution_count": 6,
   "metadata": {
    "execution": {
     "iopub.execute_input": "2020-08-22T00:54:35.529660Z",
     "iopub.status.busy": "2020-08-22T00:54:35.528691Z",
     "iopub.status.idle": "2020-08-22T00:54:38.454844Z",
     "shell.execute_reply": "2020-08-22T00:54:38.453848Z"
    }
   },
   "outputs": [
    {
     "data": {
      "image/png": "[encoded data removed]",
      "text/plain": [
       "Figure(PyObject <Figure size 200x200 with 1 Axes>)"
      ]
     },
     "metadata": {
      "filenames": {
       "image/png": "D:\\data\\Github\\compneuro-julia-management\\contents\\_build\\jupyter_execute\\11-3_predictive-coding-rao_13_0.png"
      }
     },
     "output_type": "display_data"
    }
   ],
   "source": [
    "gau = GaussianMask()\n",
    "figure(figsize=(2,2))\n",
    "title(\"Gaussian mask\")\n",
    "imshow(gau)\n",
    "tight_layout()"
   ]
  },
  {
   "cell_type": "markdown",
   "metadata": {},
   "source": [
    "損失関数を定義する。"
   ]
  },
  {
   "cell_type": "code",
   "execution_count": 7,
   "metadata": {
    "execution": {
     "iopub.execute_input": "2020-08-22T00:54:38.455841Z",
     "iopub.status.busy": "2020-08-22T00:54:38.455841Z",
     "iopub.status.idle": "2020-08-22T00:54:38.518673Z",
     "shell.execute_reply": "2020-08-22T00:54:38.517676Z"
    }
   },
   "outputs": [
    {
     "data": {
      "text/plain": [
       "calculate_total_error (generic function with 1 method)"
      ]
     },
     "execution_count": 7,
     "metadata": {},
     "output_type": "execute_result"
    }
   ],
   "source": [
    "function calculate_total_error(error, errorh, variable::RaoBallard1999Model, param::RBParameter)\n",
    "    @unpack num_units_lv0, num_units_lv1, num_units_lv2, num_lv1, k2, r, rh, U, Uh = variable\n",
    "    @unpack α, αh, var, vartd, inv_var, inv_vartd, k1, λ = param\n",
    "    recon_error = inv_var * sum(error.^2) + inv_vartd * sum(errorh.^2)\n",
    "    sparsity_r = α * sum(r.^2) + αh * sum(rh.^2)\n",
    "    sparsity_U = λ * (sum(U.^2) + sum(Uh.^2))\n",
    "    return recon_error + sparsity_r + sparsity_U\n",
    "end"
   ]
  },
  {
   "cell_type": "markdown",
   "metadata": {},
   "source": [
    "シミュレーションを実行する関数を定義する。外側の`for loop`では画像パッチの作成と`r`の初期化を行う。内側の`for loop`では`r`が収束するまで更新を行い、収束したときに重み行列`Phi`を更新する。"
   ]
  },
  {
   "cell_type": "code",
   "execution_count": 8,
   "metadata": {
    "execution": {
     "iopub.execute_input": "2020-08-22T00:54:38.519671Z",
     "iopub.status.busy": "2020-08-22T00:54:38.519671Z",
     "iopub.status.idle": "2020-08-22T00:54:38.757036Z",
     "shell.execute_reply": "2020-08-22T00:54:38.757036Z"
    }
   },
   "outputs": [
    {
     "data": {
      "text/plain": [
       "run_simulation (generic function with 1 method)"
      ]
     },
     "execution_count": 8,
     "metadata": {},
     "output_type": "execute_result"
    }
   ],
   "source": [
    "function run_simulation(imgs, num_iter, nt_max, eps)\n",
    "    # Define model\n",
    "    model = RaoBallard1999Model{Float32}()\n",
    "    \n",
    "    # Simulation constants\n",
    "    H, W, num_images = size(imgs)\n",
    "    input_scale = 40 # scale factor of inputs\n",
    "    gmask = GaussianMask() # Gaussian mask\n",
    "    errorarr = zeros(num_iter) # Vector to save errors    \n",
    "    \n",
    "    # Run simulation\n",
    "    @showprogress \"Computing...\" for iter in 1:num_iter\n",
    "        # Get images randomly\n",
    "        idx = rand(1:num_images)\n",
    "        img = imgs[:, :, idx]\n",
    "\n",
    "        # Get the coordinates of the upper left corner of clopping image randomly.\n",
    "        beginx = rand(1:W-27)\n",
    "        beginy = rand(1:H-17)\n",
    "        img_clopped = img[beginy:beginy+15, beginx:beginx+25]\n",
    "\n",
    "        # Clop three patches\n",
    "        inputs = hcat([(gmask .* img_clopped[:, 1+i*5:i*5+16])[:] for i = 0:2]...)'\n",
    "        inputs = (inputs .- mean(inputs)) .* input_scale\n",
    "\n",
    "        # Reset states\n",
    "        model.r = inputs * model.U \n",
    "        model.rh = model.Uh' * model.r[:]\n",
    "\n",
    "        # Input an image patch until latent variables are converged \n",
    "        for i in 1:nt_max\n",
    "            # Update r and rh without update weights \n",
    "            error, errorh, dr, drh = update!(model, model.param, inputs, false)\n",
    "\n",
    "            # Compute norm of r and rh\n",
    "            dr_norm = sqrt(sum(dr.^2))\n",
    "            drh_norm = sqrt(sum(drh.^2))\n",
    "\n",
    "            # Check convergence of r and rh, then update weights\n",
    "            if dr_norm < eps && drh_norm < eps\n",
    "                error, errorh, dr, drh = update!(model, model.param, inputs, true)\n",
    "                errorarr[iter] = calculate_total_error(error, errorh, model, model.param) # Append errors\n",
    "                break\n",
    "            end\n",
    "\n",
    "            # If failure to convergence, break and print error\n",
    "            if i >= nt_max-2\n",
    "                println(\"Error at patch:\", iter)\n",
    "                println(dr_norm, drh_norm)\n",
    "                break\n",
    "            end\n",
    "        end\n",
    "\n",
    "\n",
    "        # Decay learning rate         \n",
    "        if iter % 40 == 39\n",
    "            model.k2 /= 1.015\n",
    "        end\n",
    "\n",
    "        # Print moving average error\n",
    "        if iter % 1000 == 0\n",
    "            moving_average_error = mean(errorarr[iter-999:iter])\n",
    "            println(\"iter: \", iter, \"/\", num_iter, \", Moving average error:\", moving_average_error)\n",
    "        end\n",
    "    end\n",
    "    return model, errorarr\n",
    "end"
   ]
  },
  {
   "cell_type": "markdown",
   "metadata": {},
   "source": [
    "### シミュレーションの実行"
   ]
  },
  {
   "cell_type": "code",
   "execution_count": 9,
   "metadata": {
    "execution": {
     "iopub.execute_input": "2020-08-22T00:54:38.758062Z",
     "iopub.status.busy": "2020-08-22T00:54:38.758062Z",
     "iopub.status.idle": "2020-08-22T00:54:57.367547Z",
     "shell.execute_reply": "2020-08-22T00:54:57.367547Z"
    },
    "tags": [
     "remove-output"
    ]
   },
   "outputs": [
    {
     "name": "stderr",
     "output_type": "stream",
     "text": [
      "\r",
      "\u001b[32mComputing...  0%|█                                      |  ETA: 4:13:12\u001b[39m"
     ]
    },
    {
     "name": "stderr",
     "output_type": "stream",
     "text": [
      "\r",
      "\u001b[32mComputing...  0%|█                                      |  ETA: 0:12:44\u001b[39m"
     ]
    },
    {
     "name": "stderr",
     "output_type": "stream",
     "text": [
      "\r",
      "\u001b[32mComputing...  1%|█                                      |  ETA: 0:08:16\u001b[39m"
     ]
    },
    {
     "name": "stderr",
     "output_type": "stream",
     "text": [
      "\r",
      "\u001b[32mComputing...  1%|█                                      |  ETA: 0:06:20\u001b[39m"
     ]
    },
    {
     "name": "stderr",
     "output_type": "stream",
     "text": [
      "\r",
      "\u001b[32mComputing...  1%|█                                      |  ETA: 0:05:01\u001b[39m"
     ]
    },
    {
     "name": "stderr",
     "output_type": "stream",
     "text": [
      "\r",
      "\u001b[32mComputing...  2%|█                                      |  ETA: 0:04:04\u001b[39m"
     ]
    },
    {
     "name": "stderr",
     "output_type": "stream",
     "text": [
      "\r",
      "\u001b[32mComputing...  2%|█                                      |  ETA: 0:03:26\u001b[39m"
     ]
    },
    {
     "name": "stderr",
     "output_type": "stream",
     "text": [
      "\r",
      "\u001b[32mComputing...  2%|█                                      |  ETA: 0:03:02\u001b[39m"
     ]
    },
    {
     "name": "stderr",
     "output_type": "stream",
     "text": [
      "\r",
      "\u001b[32mComputing...  3%|██                                     |  ETA: 0:02:36\u001b[39m"
     ]
    },
    {
     "name": "stderr",
     "output_type": "stream",
     "text": [
      "\r",
      "\u001b[32mComputing...  3%|██                                     |  ETA: 0:02:09\u001b[39m"
     ]
    },
    {
     "name": "stderr",
     "output_type": "stream",
     "text": [
      "\r",
      "\u001b[32mComputing...  4%|██                                     |  ETA: 0:01:46\u001b[39m"
     ]
    },
    {
     "name": "stderr",
     "output_type": "stream",
     "text": [
      "\r",
      "\u001b[32mComputing...  5%|██                                     |  ETA: 0:01:32\u001b[39m"
     ]
    },
    {
     "name": "stderr",
     "output_type": "stream",
     "text": [
      "\r",
      "\u001b[32mComputing...  6%|███                                    |  ETA: 0:01:19\u001b[39m"
     ]
    },
    {
     "name": "stderr",
     "output_type": "stream",
     "text": [
      "\r",
      "\u001b[32mComputing...  6%|███                                    |  ETA: 0:01:09\u001b[39m"
     ]
    },
    {
     "name": "stderr",
     "output_type": "stream",
     "text": [
      "\r",
      "\u001b[32mComputing...  7%|███                                    |  ETA: 0:01:01\u001b[39m"
     ]
    },
    {
     "name": "stderr",
     "output_type": "stream",
     "text": [
      "\r",
      "\u001b[32mComputing...  8%|████                                   |  ETA: 0:00:56\u001b[39m"
     ]
    },
    {
     "name": "stderr",
     "output_type": "stream",
     "text": [
      "\r",
      "\u001b[32mComputing...  9%|████                                   |  ETA: 0:00:51\u001b[39m"
     ]
    },
    {
     "name": "stderr",
     "output_type": "stream",
     "text": [
      "\r",
      "\u001b[32mComputing... 10%|████                                   |  ETA: 0:00:47\u001b[39m"
     ]
    },
    {
     "name": "stderr",
     "output_type": "stream",
     "text": [
      "\r",
      "\u001b[32mComputing... 11%|█████                                  |  ETA: 0:00:44\u001b[39m"
     ]
    },
    {
     "name": "stderr",
     "output_type": "stream",
     "text": [
      "\r",
      "\u001b[32mComputing... 12%|█████                                  |  ETA: 0:00:41\u001b[39m"
     ]
    },
    {
     "name": "stderr",
     "output_type": "stream",
     "text": [
      "\r",
      "\u001b[32mComputing... 13%|█████                                  |  ETA: 0:00:38\u001b[39m"
     ]
    },
    {
     "name": "stderr",
     "output_type": "stream",
     "text": [
      "\r",
      "\u001b[32mComputing... 14%|██████                                 |  ETA: 0:00:36\u001b[39m"
     ]
    },
    {
     "name": "stderr",
     "output_type": "stream",
     "text": [
      "\r",
      "\u001b[32mComputing... 14%|██████                                 |  ETA: 0:00:34\u001b[39m"
     ]
    },
    {
     "name": "stderr",
     "output_type": "stream",
     "text": [
      "\r",
      "\u001b[32mComputing... 15%|██████                                 |  ETA: 0:00:32\u001b[39m"
     ]
    },
    {
     "name": "stderr",
     "output_type": "stream",
     "text": [
      "\r",
      "\u001b[32mComputing... 16%|███████                                |  ETA: 0:00:31\u001b[39m"
     ]
    },
    {
     "name": "stderr",
     "output_type": "stream",
     "text": [
      "\r",
      "\u001b[32mComputing... 17%|███████                                |  ETA: 0:00:29\u001b[39m"
     ]
    },
    {
     "name": "stderr",
     "output_type": "stream",
     "text": [
      "\r",
      "\u001b[32mComputing... 18%|████████                               |  ETA: 0:00:28\u001b[39m"
     ]
    },
    {
     "name": "stderr",
     "output_type": "stream",
     "text": [
      "\r",
      "\u001b[32mComputing... 19%|████████                               |  ETA: 0:00:26\u001b[39m"
     ]
    },
    {
     "name": "stdout",
     "output_type": "stream",
     "text": [
      "iter: 1000/5000"
     ]
    },
    {
     "name": "stderr",
     "output_type": "stream",
     "text": [
      "\r",
      "\u001b[32mComputing... 20%|████████                               |  ETA: 0:00:26\u001b[39m"
     ]
    },
    {
     "name": "stdout",
     "output_type": "stream",
     "text": [
      ", Moving average error:2.0767388664986393\n"
     ]
    },
    {
     "name": "stderr",
     "output_type": "stream",
     "text": [
      "\r",
      "\u001b[32mComputing... 21%|█████████                              |  ETA: 0:00:25\u001b[39m"
     ]
    },
    {
     "name": "stderr",
     "output_type": "stream",
     "text": [
      "\r",
      "\u001b[32mComputing... 22%|█████████                              |  ETA: 0:00:24\u001b[39m"
     ]
    },
    {
     "name": "stderr",
     "output_type": "stream",
     "text": [
      "\r",
      "\u001b[32mComputing... 23%|█████████                              |  ETA: 0:00:23\u001b[39m"
     ]
    },
    {
     "name": "stderr",
     "output_type": "stream",
     "text": [
      "\r",
      "\u001b[32mComputing... 24%|██████████                             |  ETA: 0:00:22\u001b[39m"
     ]
    },
    {
     "name": "stderr",
     "output_type": "stream",
     "text": [
      "\r",
      "\u001b[32mComputing... 25%|██████████                             |  ETA: 0:00:22\u001b[39m"
     ]
    },
    {
     "name": "stderr",
     "output_type": "stream",
     "text": [
      "\r",
      "\u001b[32mComputing... 25%|██████████                             |  ETA: 0:00:21\u001b[39m"
     ]
    },
    {
     "name": "stderr",
     "output_type": "stream",
     "text": [
      "\r",
      "\u001b[32mComputing... 26%|███████████                            |  ETA: 0:00:20\u001b[39m"
     ]
    },
    {
     "name": "stderr",
     "output_type": "stream",
     "text": [
      "\r",
      "\u001b[32mComputing... 27%|███████████                            |  ETA: 0:00:20\u001b[39m"
     ]
    },
    {
     "name": "stderr",
     "output_type": "stream",
     "text": [
      "\r",
      "\u001b[32mComputing... 28%|████████████                           |  ETA: 0:00:19\u001b[39m"
     ]
    },
    {
     "name": "stderr",
     "output_type": "stream",
     "text": [
      "\r",
      "\u001b[32mComputing... 29%|████████████                           |  ETA: 0:00:18\u001b[39m"
     ]
    },
    {
     "name": "stderr",
     "output_type": "stream",
     "text": [
      "\r",
      "\u001b[32mComputing... 30%|████████████                           |  ETA: 0:00:18\u001b[39m"
     ]
    },
    {
     "name": "stderr",
     "output_type": "stream",
     "text": [
      "\r",
      "\u001b[32mComputing... 31%|█████████████                          |  ETA: 0:00:17\u001b[39m"
     ]
    },
    {
     "name": "stderr",
     "output_type": "stream",
     "text": [
      "\r",
      "\u001b[32mComputing... 32%|█████████████                          |  ETA: 0:00:17\u001b[39m"
     ]
    },
    {
     "name": "stderr",
     "output_type": "stream",
     "text": [
      "\r",
      "\u001b[32mComputing... 33%|█████████████                          |  ETA: 0:00:16\u001b[39m"
     ]
    },
    {
     "name": "stderr",
     "output_type": "stream",
     "text": [
      "\r",
      "\u001b[32mComputing... 34%|██████████████                         |  ETA: 0:00:16\u001b[39m"
     ]
    },
    {
     "name": "stderr",
     "output_type": "stream",
     "text": [
      "\r",
      "\u001b[32mComputing... 35%|██████████████                         |  ETA: 0:00:15\u001b[39m"
     ]
    },
    {
     "name": "stderr",
     "output_type": "stream",
     "text": [
      "\r",
      "\u001b[32mComputing... 36%|██████████████                         |  ETA: 0:00:15\u001b[39m"
     ]
    },
    {
     "name": "stderr",
     "output_type": "stream",
     "text": [
      "\r",
      "\u001b[32mComputing... 37%|███████████████                        |  ETA: 0:00:15\u001b[39m"
     ]
    },
    {
     "name": "stderr",
     "output_type": "stream",
     "text": [
      "\r",
      "\u001b[32mComputing... 38%|███████████████                        |  ETA: 0:00:14\u001b[39m"
     ]
    },
    {
     "name": "stderr",
     "output_type": "stream",
     "text": [
      "\r",
      "\u001b[32mComputing... 39%|████████████████                       |  ETA: 0:00:14\u001b[39m"
     ]
    },
    {
     "name": "stderr",
     "output_type": "stream",
     "text": [
      "\r",
      "\u001b[32mComputing... 40%|████████████████                       |  ETA: 0:00:13\u001b[39m"
     ]
    },
    {
     "name": "stdout",
     "output_type": "stream",
     "text": [
      "iter: 2000/5000, Moving average error:1.676491918707395\n"
     ]
    },
    {
     "name": "stderr",
     "output_type": "stream",
     "text": [
      "\r",
      "\u001b[32mComputing... 41%|████████████████                       |  ETA: 0:00:13\u001b[39m"
     ]
    },
    {
     "name": "stderr",
     "output_type": "stream",
     "text": [
      "\r",
      "\u001b[32mComputing... 42%|█████████████████                      |  ETA: 0:00:13\u001b[39m"
     ]
    },
    {
     "name": "stderr",
     "output_type": "stream",
     "text": [
      "\r",
      "\u001b[32mComputing... 43%|█████████████████                      |  ETA: 0:00:12\u001b[39m"
     ]
    },
    {
     "name": "stderr",
     "output_type": "stream",
     "text": [
      "\r",
      "\u001b[32mComputing... 43%|█████████████████                      |  ETA: 0:00:12\u001b[39m"
     ]
    },
    {
     "name": "stderr",
     "output_type": "stream",
     "text": [
      "\r",
      "\u001b[32mComputing... 44%|██████████████████                     |  ETA: 0:00:12\u001b[39m"
     ]
    },
    {
     "name": "stderr",
     "output_type": "stream",
     "text": [
      "\r",
      "\u001b[32mComputing... 45%|██████████████████                     |  ETA: 0:00:11\u001b[39m"
     ]
    },
    {
     "name": "stderr",
     "output_type": "stream",
     "text": [
      "\r",
      "\u001b[32mComputing... 46%|███████████████████                    |  ETA: 0:00:11\u001b[39m"
     ]
    },
    {
     "name": "stderr",
     "output_type": "stream",
     "text": [
      "\r",
      "\u001b[32mComputing... 47%|███████████████████                    |  ETA: 0:00:11\u001b[39m"
     ]
    },
    {
     "name": "stderr",
     "output_type": "stream",
     "text": [
      "\r",
      "\u001b[32mComputing... 48%|███████████████████                    |  ETA: 0:00:11\u001b[39m"
     ]
    },
    {
     "name": "stderr",
     "output_type": "stream",
     "text": [
      "\r",
      "\u001b[32mComputing... 49%|████████████████████                   |  ETA: 0:00:10\u001b[39m"
     ]
    },
    {
     "name": "stderr",
     "output_type": "stream",
     "text": [
      "\r",
      "\u001b[32mComputing... 50%|████████████████████                   |  ETA: 0:00:10\u001b[39m"
     ]
    },
    {
     "name": "stderr",
     "output_type": "stream",
     "text": [
      "\r",
      "\u001b[32mComputing... 51%|████████████████████                   |  ETA: 0:00:10\u001b[39m"
     ]
    },
    {
     "name": "stderr",
     "output_type": "stream",
     "text": [
      "\r",
      "\u001b[32mComputing... 52%|█████████████████████                  |  ETA: 0:00:09\u001b[39m"
     ]
    },
    {
     "name": "stderr",
     "output_type": "stream",
     "text": [
      "\r",
      "\u001b[32mComputing... 53%|█████████████████████                  |  ETA: 0:00:09\u001b[39m"
     ]
    },
    {
     "name": "stderr",
     "output_type": "stream",
     "text": [
      "\r",
      "\u001b[32mComputing... 54%|██████████████████████                 |  ETA: 0:00:09\u001b[39m"
     ]
    },
    {
     "name": "stderr",
     "output_type": "stream",
     "text": [
      "\r",
      "\u001b[32mComputing... 55%|██████████████████████                 |  ETA: 0:00:09\u001b[39m"
     ]
    },
    {
     "name": "stderr",
     "output_type": "stream",
     "text": [
      "\r",
      "\u001b[32mComputing... 56%|██████████████████████                 |  ETA: 0:00:08\u001b[39m"
     ]
    },
    {
     "name": "stderr",
     "output_type": "stream",
     "text": [
      "\r",
      "\u001b[32mComputing... 57%|███████████████████████                |  ETA: 0:00:08\u001b[39m"
     ]
    },
    {
     "name": "stderr",
     "output_type": "stream",
     "text": [
      "\r",
      "\u001b[32mComputing... 58%|███████████████████████                |  ETA: 0:00:08\u001b[39m"
     ]
    },
    {
     "name": "stderr",
     "output_type": "stream",
     "text": [
      "\r",
      "\u001b[32mComputing... 59%|███████████████████████                |  ETA: 0:00:08\u001b[39m"
     ]
    },
    {
     "name": "stderr",
     "output_type": "stream",
     "text": [
      "\r",
      "\u001b[32mComputing... 60%|████████████████████████               |  ETA: 0:00:08\u001b[39m"
     ]
    },
    {
     "name": "stdout",
     "output_type": "stream",
     "text": [
      "iter: 3000/5000, Moving average error:1.778622703356088\n"
     ]
    },
    {
     "name": "stderr",
     "output_type": "stream",
     "text": [
      "\r",
      "\u001b[32mComputing... 61%|████████████████████████               |  ETA: 0:00:07\u001b[39m"
     ]
    },
    {
     "name": "stderr",
     "output_type": "stream",
     "text": [
      "\r",
      "\u001b[32mComputing... 62%|█████████████████████████              |  ETA: 0:00:07\u001b[39m"
     ]
    },
    {
     "name": "stderr",
     "output_type": "stream",
     "text": [
      "\r",
      "\u001b[32mComputing... 63%|█████████████████████████              |  ETA: 0:00:07\u001b[39m"
     ]
    },
    {
     "name": "stderr",
     "output_type": "stream",
     "text": [
      "\r",
      "\u001b[32mComputing... 63%|█████████████████████████              |  ETA: 0:00:07\u001b[39m"
     ]
    },
    {
     "name": "stderr",
     "output_type": "stream",
     "text": [
      "\r",
      "\u001b[32mComputing... 64%|██████████████████████████             |  ETA: 0:00:07\u001b[39m"
     ]
    },
    {
     "name": "stderr",
     "output_type": "stream",
     "text": [
      "\r",
      "\u001b[32mComputing... 65%|██████████████████████████             |  ETA: 0:00:06\u001b[39m"
     ]
    },
    {
     "name": "stderr",
     "output_type": "stream",
     "text": [
      "\r",
      "\u001b[32mComputing... 66%|██████████████████████████             |  ETA: 0:00:06\u001b[39m"
     ]
    },
    {
     "name": "stderr",
     "output_type": "stream",
     "text": [
      "\r",
      "\u001b[32mComputing... 67%|███████████████████████████            |  ETA: 0:00:06\u001b[39m"
     ]
    },
    {
     "name": "stderr",
     "output_type": "stream",
     "text": [
      "\r",
      "\u001b[32mComputing... 68%|███████████████████████████            |  ETA: 0:00:06\u001b[39m"
     ]
    },
    {
     "name": "stderr",
     "output_type": "stream",
     "text": [
      "\r",
      "\u001b[32mComputing... 69%|███████████████████████████            |  ETA: 0:00:06\u001b[39m"
     ]
    },
    {
     "name": "stderr",
     "output_type": "stream",
     "text": [
      "\r",
      "\u001b[32mComputing... 70%|████████████████████████████           |  ETA: 0:00:05\u001b[39m"
     ]
    },
    {
     "name": "stderr",
     "output_type": "stream",
     "text": [
      "\r",
      "\u001b[32mComputing... 71%|████████████████████████████           |  ETA: 0:00:05\u001b[39m"
     ]
    },
    {
     "name": "stderr",
     "output_type": "stream",
     "text": [
      "\r",
      "\u001b[32mComputing... 72%|█████████████████████████████          |  ETA: 0:00:05\u001b[39m"
     ]
    },
    {
     "name": "stderr",
     "output_type": "stream",
     "text": [
      "\r",
      "\u001b[32mComputing... 73%|█████████████████████████████          |  ETA: 0:00:05\u001b[39m"
     ]
    },
    {
     "name": "stderr",
     "output_type": "stream",
     "text": [
      "\r",
      "\u001b[32mComputing... 74%|█████████████████████████████          |  ETA: 0:00:05\u001b[39m"
     ]
    },
    {
     "name": "stderr",
     "output_type": "stream",
     "text": [
      "\r",
      "\u001b[32mComputing... 75%|██████████████████████████████         |  ETA: 0:00:04\u001b[39m"
     ]
    },
    {
     "name": "stderr",
     "output_type": "stream",
     "text": [
      "\r",
      "\u001b[32mComputing... 76%|██████████████████████████████         |  ETA: 0:00:04\u001b[39m"
     ]
    },
    {
     "name": "stderr",
     "output_type": "stream",
     "text": [
      "\r",
      "\u001b[32mComputing... 77%|██████████████████████████████         |  ETA: 0:00:04\u001b[39m"
     ]
    },
    {
     "name": "stderr",
     "output_type": "stream",
     "text": [
      "\r",
      "\u001b[32mComputing... 78%|███████████████████████████████        |  ETA: 0:00:04\u001b[39m"
     ]
    },
    {
     "name": "stderr",
     "output_type": "stream",
     "text": [
      "\r",
      "\u001b[32mComputing... 79%|███████████████████████████████        |  ETA: 0:00:04\u001b[39m"
     ]
    },
    {
     "name": "stderr",
     "output_type": "stream",
     "text": [
      "\r",
      "\u001b[32mComputing... 80%|████████████████████████████████       |  ETA: 0:00:03\u001b[39m"
     ]
    },
    {
     "name": "stdout",
     "output_type": "stream",
     "text": [
      "iter: 4000/5000, Moving average error:1.6650046982845492\n"
     ]
    },
    {
     "name": "stderr",
     "output_type": "stream",
     "text": [
      "\r",
      "\u001b[32mComputing... 81%|████████████████████████████████       |  ETA: 0:00:03\u001b[39m"
     ]
    },
    {
     "name": "stderr",
     "output_type": "stream",
     "text": [
      "\r",
      "\u001b[32mComputing... 82%|████████████████████████████████       |  ETA: 0:00:03\u001b[39m"
     ]
    },
    {
     "name": "stderr",
     "output_type": "stream",
     "text": [
      "\r",
      "\u001b[32mComputing... 82%|█████████████████████████████████      |  ETA: 0:00:03\u001b[39m"
     ]
    },
    {
     "name": "stderr",
     "output_type": "stream",
     "text": [
      "\r",
      "\u001b[32mComputing... 83%|█████████████████████████████████      |  ETA: 0:00:03\u001b[39m"
     ]
    },
    {
     "name": "stderr",
     "output_type": "stream",
     "text": [
      "\r",
      "\u001b[32mComputing... 84%|█████████████████████████████████      |  ETA: 0:00:03\u001b[39m"
     ]
    },
    {
     "name": "stderr",
     "output_type": "stream",
     "text": [
      "\r",
      "\u001b[32mComputing... 85%|██████████████████████████████████     |  ETA: 0:00:02\u001b[39m"
     ]
    },
    {
     "name": "stderr",
     "output_type": "stream",
     "text": [
      "\r",
      "\u001b[32mComputing... 86%|██████████████████████████████████     |  ETA: 0:00:02\u001b[39m"
     ]
    },
    {
     "name": "stderr",
     "output_type": "stream",
     "text": [
      "\r",
      "\u001b[32mComputing... 87%|███████████████████████████████████    |  ETA: 0:00:02\u001b[39m"
     ]
    },
    {
     "name": "stderr",
     "output_type": "stream",
     "text": [
      "\r",
      "\u001b[32mComputing... 88%|███████████████████████████████████    |  ETA: 0:00:02\u001b[39m"
     ]
    },
    {
     "name": "stderr",
     "output_type": "stream",
     "text": [
      "\r",
      "\u001b[32mComputing... 89%|███████████████████████████████████    |  ETA: 0:00:02\u001b[39m"
     ]
    },
    {
     "name": "stderr",
     "output_type": "stream",
     "text": [
      "\r",
      "\u001b[32mComputing... 90%|████████████████████████████████████   |  ETA: 0:00:02\u001b[39m"
     ]
    },
    {
     "name": "stderr",
     "output_type": "stream",
     "text": [
      "\r"
     ]
    },
    {
     "name": "stderr",
     "output_type": "stream",
     "text": [
      "\u001b[32mComputing... 91%|████████████████████████████████████   |  ETA: 0:00:01\u001b[39m\r",
      "\u001b[32mComputing... 92%|████████████████████████████████████   |  ETA: 0:00:01\u001b[39m"
     ]
    },
    {
     "name": "stderr",
     "output_type": "stream",
     "text": [
      "\r",
      "\u001b[32mComputing... 93%|█████████████████████████████████████  |  ETA: 0:00:01\u001b[39m"
     ]
    },
    {
     "name": "stderr",
     "output_type": "stream",
     "text": [
      "\r",
      "\u001b[32mComputing... 94%|█████████████████████████████████████  |  ETA: 0:00:01\u001b[39m"
     ]
    },
    {
     "name": "stderr",
     "output_type": "stream",
     "text": [
      "\r",
      "\u001b[32mComputing... 95%|█████████████████████████████████████  |  ETA: 0:00:01\u001b[39m"
     ]
    },
    {
     "name": "stderr",
     "output_type": "stream",
     "text": [
      "\r",
      "\u001b[32mComputing... 96%|██████████████████████████████████████ |  ETA: 0:00:01\u001b[39m"
     ]
    },
    {
     "name": "stderr",
     "output_type": "stream",
     "text": [
      "\r",
      "\u001b[32mComputing... 97%|██████████████████████████████████████ |  ETA: 0:00:01\u001b[39m"
     ]
    },
    {
     "name": "stderr",
     "output_type": "stream",
     "text": [
      "\r",
      "\u001b[32mComputing... 98%|███████████████████████████████████████|  ETA: 0:00:00\u001b[39m"
     ]
    },
    {
     "name": "stderr",
     "output_type": "stream",
     "text": [
      "\r",
      "\u001b[32mComputing... 99%|███████████████████████████████████████|  ETA: 0:00:00\u001b[39m"
     ]
    },
    {
     "name": "stderr",
     "output_type": "stream",
     "text": [
      "\r",
      "\u001b[32mComputing...100%|███████████████████████████████████████|  ETA: 0:00:00\u001b[39m"
     ]
    },
    {
     "name": "stderr",
     "output_type": "stream",
     "text": [
      "\r",
      "\u001b[32mComputing...100%|███████████████████████████████████████| Time: 0:00:16\u001b[39m\n"
     ]
    },
    {
     "name": "stdout",
     "output_type": "stream",
     "text": [
      "iter: 5000/5000, Moving average error:1.7595161324455144\n"
     ]
    },
    {
     "data": {
      "text/plain": [
       "(RaoBallard1999Model{Float32}(RBParameter{Float32}(1.0f0, 0.05f0, 1.0f0, 10.0f0, 1.0f0, 0.1f0, 0.3f0, 0.02f0), 0x0100, 0x0020, 0x0080, 0x0003, 0.03110101f0, Float32[-0.0038612373 -0.006742841 … 0.011532625 -0.030401237; -0.015692364 -0.01781646 … -0.026923755 -0.01364581; -0.012794561 -0.01303798 … -0.030284166 0.0014514955], Float32[1.4268925f-6, 4.4761764f-6, 3.7151422f-6, -3.2583466f-6, 3.046976f-6, 2.4050573f-6, -3.2361086f-6, 2.1446674f-6, 1.1381227f-6, 5.529365f-7  …  -1.1090411f-6, 2.3294235f-6, 1.1453402f-6, 2.3244738f-7, 3.1927782f-6, 2.2182967f-6, -6.052531f-7, 8.6342715f-7, 2.9291784f-6, 3.3370688f-6], Float32[0.0008147691 0.00079882506 … 0.0009949693 0.0011610145; 0.0006633902 0.00088628015 … 0.0009673286 0.0010391695; … ; 0.00067234825 0.000859068 … 0.00091814756 0.0010089738; 0.0006910009 0.0008187713 … 0.00068574207 0.0013655933], Float32[-1.2262226f-5 -7.478029f-6 … -1.7101798f-5 -1.76539f-5; -8.074121f-6 1.0774716f-5 … 1.2664319f-5 -1.0152508f-5; … ; 4.401915f-6 -5.803945f-6 … -6.5785025f-6 1.0564523f-5; -2.2520135f-6 -2.164289f-5 … 1.5330275f-5 -8.309299f-6]), [6.6011508764613245, 3.8319187541467916, 6.344712717105214, 4.658060678591666, 4.011575236860203, 4.108374707761562, 4.377912816681608, 6.265609901091231, 4.596527448807269, 4.916389949899431  …  1.0212823180808455, 3.697095386771301, 0.5252956854821831, 2.240936572078093, 3.2079679451680194, 0.9070185527649844, 2.9135089634382707, 0.1661014084744095, 0.07114305135704468, 1.098340204758983])"
      ]
     },
     "execution_count": 9,
     "metadata": {},
     "output_type": "execute_result"
    }
   ],
   "source": [
    "# Simulation constants\n",
    "num_iter = 5000 # number of iterations\n",
    "nt_max = 1000 # Maximum number of simulation time\n",
    "eps = 1e-3 # small value which determines convergence\n",
    "\n",
    "model, errorarr = run_simulation(imgs, num_iter, nt_max, eps)"
   ]
  },
  {
   "cell_type": "markdown",
   "metadata": {},
   "source": [
    "### 訓練中の損失の描画\n",
    "訓練中の損失の変化を描画してみよう。損失が低下し、学習が進行したことが分かる。"
   ]
  },
  {
   "cell_type": "code",
   "execution_count": 10,
   "metadata": {
    "execution": {
     "iopub.execute_input": "2020-08-22T00:54:57.369513Z",
     "iopub.status.busy": "2020-08-22T00:54:57.368544Z",
     "iopub.status.idle": "2020-08-22T00:54:57.684671Z",
     "shell.execute_reply": "2020-08-22T00:54:57.684671Z"
    }
   },
   "outputs": [
    {
     "data": {
      "image/png": "[encoded data removed]",
      "text/plain": [
       "Figure(PyObject <Figure size 400x200 with 1 Axes>)"
      ]
     },
     "metadata": {
      "filenames": {
       "image/png": "D:\\data\\Github\\compneuro-julia-management\\contents\\_build\\jupyter_execute\\11-3_predictive-coding-rao_21_0.png"
      }
     },
     "output_type": "display_data"
    }
   ],
   "source": [
    "function moving_average(x, n=100)\n",
    "    ret = cumsum(x)\n",
    "    ret[n:end] = ret[n:end] - ret[1:end-n+1]\n",
    "    return ret[n - 1:end] / n\n",
    "end\n",
    "\n",
    "# Plot error\n",
    "moving_average_error = moving_average(errorarr)\n",
    "figure(figsize=(4, 2))\n",
    "ylabel(\"Moving error\")\n",
    "xlabel(\"Iterations\")\n",
    "plot(1:size(moving_average_error)[1], moving_average_error)\n",
    "tight_layout()"
   ]
  },
  {
   "cell_type": "markdown",
   "metadata": {},
   "source": [
    "### 重み行列 (受容野)の描画\n",
    "学習後の重み行列 ($\\mathbf{U}$)を可視化してみよう。"
   ]
  },
  {
   "cell_type": "code",
   "execution_count": 11,
   "metadata": {
    "execution": {
     "iopub.execute_input": "2020-08-22T00:54:57.686665Z",
     "iopub.status.busy": "2020-08-22T00:54:57.685696Z",
     "iopub.status.idle": "2020-08-22T00:54:58.447630Z",
     "shell.execute_reply": "2020-08-22T00:54:58.448628Z"
    }
   },
   "outputs": [
    {
     "data": {
      "image/png": "[encoded data removed]",
      "text/plain": [
       "Figure(PyObject <Figure size 600x300 with 32 Axes>)"
      ]
     },
     "metadata": {
      "filenames": {
       "image/png": "D:\\data\\Github\\compneuro-julia-management\\contents\\_build\\jupyter_execute\\11-3_predictive-coding-rao_23_0.png"
      }
     },
     "output_type": "display_data"
    }
   ],
   "source": [
    "# Plot Receptive fields\n",
    "figure(figsize=(6, 3))\n",
    "subplots_adjust(hspace=0.1, wspace=0.1)\n",
    "for i in 1:32\n",
    "    subplot(4, 8, i)\n",
    "    imshow(reshape(model.U[:, i], (16, 16)), cmap=\"gray\")\n",
    "    axis(\"off\")\n",
    "end\n",
    "suptitle(\"Receptive fields of level 1\", fontsize=14)\n",
    "subplots_adjust(top=0.9)"
   ]
  },
  {
   "cell_type": "markdown",
   "metadata": {},
   "source": [
    "白色が**ON領域**(興奮)、黒色が**OFF領域**(抑制)を表す。Gaborフィルタ様の局所受容野が得られている。次に、Level2のニューロンの受容野は$\\mathbf{U}$と$\\mathbf{U}^h$の積を計算することで描画できる。"
   ]
  },
  {
   "cell_type": "code",
   "execution_count": 12,
   "metadata": {
    "execution": {
     "iopub.execute_input": "2020-08-22T00:54:58.449625Z",
     "iopub.status.busy": "2020-08-22T00:54:58.449625Z",
     "iopub.status.idle": "2020-08-22T00:54:59.002177Z",
     "shell.execute_reply": "2020-08-22T00:54:59.001180Z"
    }
   },
   "outputs": [
    {
     "data": {
      "image/png": "[encoded data removed]",
      "text/plain": [
       "Figure(PyObject <Figure size 700x300 with 24 Axes>)"
      ]
     },
     "metadata": {
      "filenames": {
       "image/png": "D:\\data\\Github\\compneuro-julia-management\\contents\\_build\\jupyter_execute\\11-3_predictive-coding-rao_25_0.png"
      }
     },
     "output_type": "display_data"
    }
   ],
   "source": [
    "# Plot Receptive fields of level 2\n",
    "zero_padding = zeros(80, 32)\n",
    "U0 = [model.U; zero_padding; zero_padding]\n",
    "U1 = [zero_padding; model.U; zero_padding]\n",
    "U2 = [zero_padding; zero_padding; model.U]\n",
    "U_ = [U0 U1 U2]\n",
    "Uh_ = U_ * model.Uh \n",
    "\n",
    "figure(figsize=(7, 3))\n",
    "subplots_adjust(hspace=0.1, wspace=0.1)\n",
    "for i in 1:24\n",
    "    subplot(4, 6, i)\n",
    "    imshow(reshape(Uh_[:, i], (16, 26)), cmap=\"gray\")\n",
    "    axis(\"off\")\n",
    "end\n",
    "\n",
    "suptitle(\"Receptive fields of level 2\", fontsize=14)\n",
    "subplots_adjust(top=0.9)"
   ]
  }
 ],
 "metadata": {
  "celltoolbar": "Tags",
  "kernelspec": {
   "display_name": "Julia 1.5.0",
   "language": "julia",
   "name": "julia-1.5"
  },
  "language_info": {
   "file_extension": ".jl",
   "mimetype": "application/julia",
   "name": "julia",
   "version": "1.5.0"
  }
 },
 "nbformat": 4,
 "nbformat_minor": 4
}