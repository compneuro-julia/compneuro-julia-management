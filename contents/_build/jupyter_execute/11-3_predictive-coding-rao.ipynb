{
 "cells": [
  {
   "cell_type": "markdown",
   "metadata": {},
   "source": [
    "# 11.3 Predictive coding (Rao & Ballard, 1999) モデル\n",
    "Predictive codingの初めの数理的モデルとなる ([Rao & Ballard, *Nat. Neurosci*. 1999](https://www.nature.com/articles/nn0199_79))を実装する。"
   ]
  },
  {
   "cell_type": "markdown",
   "metadata": {},
   "source": [
    "## 11.3.1 観測世界の階層的予測\n",
    "構築するネットワークは入力層を含め、3層のネットワークとする。網膜への入力として画像 $\\boldsymbol{I} \\in \\mathbb{R}^{n_0}$を考える。画像 $\\boldsymbol{I}$ の観測世界における隠れ変数、すなわち**潜在変数** (latent variable)を$\\boldsymbol{r} \\in \\mathbb{R}^{n_1}$とし、ニューロン群によって発火率で表現されているとする (真の変数と $\\boldsymbol{r}$は異なるので文字を分けるべきだが簡単のためにこう表す)。このとき、\n",
    "\n",
    "$$\n",
    "\\boldsymbol{I} = f(U\\boldsymbol{r}) + \\boldsymbol{n} \\tag{1}\n",
    "$$\n",
    "\n",
    "が成立しているとする。ただし、$f(\\cdot)$は活性化関数 (activation function)、$U \\in \\mathbb{R}^{n_0 \\times n_1}$は重み行列である。$\\boldsymbol{n} \\in \\mathbb{R}^{n_0} $は平均0, 分散 $\\sigma^2$ のGaussian ノイズ項とする。\n",
    "\n",
    "潜在変数 $\\boldsymbol{r}$はさらに高次 (higher-level)の潜在変数 $\\boldsymbol{r}^h$により、次式で表現される。\n",
    "\n",
    "$$\n",
    "\\boldsymbol{r} = \\boldsymbol{r}^{td}+\\boldsymbol{n}^{td}=f(U^h \\boldsymbol{r}^h)+\\boldsymbol{n}^{td} \\tag{2}\n",
    "$$\n",
    "\n",
    "ただし、Top-downの予測信号を $\\boldsymbol{r}^{td}:=f(U^h \\boldsymbol{r}^h)$とした。また、$\\boldsymbol{r}^{td} \\in \\mathbb{R}^{n_1}, \\boldsymbol{r}^{h} \\in \\mathbb{R}^{n_2}, U^h \\in \\mathbb{R}^{n_1 \\times n_2} $である。$\\boldsymbol{n}^{td} \\in \\mathbb{R}^{n_1} $は平均0, 分散 $\\sigma_{td}^2$ のGaussian ノイズ項とする。\n",
    "\n",
    "話は飛ぶが、Predictive codingのネットワークの特徴は\n",
    "- 階層的な構造\n",
    "- 高次による低次の予測 (Feedback or Top-down信号)\n",
    "- 低次から高次への誤差信号の伝搬 (Feedforward or Bottom-up 信号)\n",
    "\n",
    "である。ここまでは高次表現による低次表現の予測、というFeedback信号について説明してきたが、この部分はSparse codingでも同じである。それではPredictive codingのもう一つの要となる、低次から高次への予測誤差の伝搬というFeedforward信号はどのように導かれるのだろうか。結論から言えば、これは**復元誤差 (reconstruction error)の最小化を行う再帰的ネットワーク (recurrent network)を考慮することで自然に導かれる**。"
   ]
  },
  {
   "cell_type": "markdown",
   "metadata": {},
   "source": [
    "## 損失関数と学習則\n",
    "### 損失関数の設定\n",
    "前節では2層までのパラメータを最適化することを考えました、高次の活動も考慮して損失関数 $E$を次のように再定義する。\n",
    "\n",
    "$$\n",
    "\\begin{align}\n",
    "E=\\underbrace{\\frac{1}{\\sigma^{2}}\\|\\boldsymbol{I}-f(U \\boldsymbol{r})\\|^2+\\frac{1}{\\sigma_{t d}^{2}}\\left\\|\\boldsymbol{r}-f(U^h \\boldsymbol{r}^h)\\right\\|^2}_{\\text{reconstruction error}}+\\underbrace{g(\\boldsymbol{r})+g(\\boldsymbol{r}^{h})+h(U)+h(U^h)}_{\\text{sparsity penalty}}\\tag{8}\n",
    "\\end{align}\n",
    "$$\n",
    "\n",
    "\n",
    "### 再帰ネットワークの更新則\n",
    "簡単のために$\\boldsymbol{x}:=U\\boldsymbol{r}, \\boldsymbol{x}^h:=U^h\\boldsymbol{r}^h$とする。\n",
    "\n",
    "$$\n",
    "\\begin{align}\n",
    "\\frac{d \\boldsymbol{r}}{d t}&=-\\frac{k_{1}}{2} \\frac{\\partial E}{\\partial \\boldsymbol{r}}=k_{1}\\cdot\\Bigg(\\frac{1}{\\sigma^{2}} U^{T}\\bigg[\\frac{\\partial f(\\boldsymbol{x})}{\\partial \\boldsymbol{x}}\\odot\\underbrace{(\\boldsymbol{I}-f(\\boldsymbol{x}))}_{\\text{bottom-up error}}\\bigg]-\\frac{1}{\\sigma_{t d}^{2}}\\underbrace{\\left(\\boldsymbol{r}-f(\\boldsymbol{x}^h)\\right)}_{\\text{top-down error}}-\\frac{1}{2}g'(\\boldsymbol{r})\\Bigg)\\tag{9}\\\\\n",
    "\\frac{d \\boldsymbol{r}^h}{d t}&=-\\frac{k_{1}}{2} \\frac{\\partial E}{\\partial \\boldsymbol{r}^h}=k_{1}\\cdot\\Bigg(\\frac{1}{\\sigma_{t d}^{2}}(U^h)^T\\bigg[\\frac{\\partial f(\\boldsymbol{x}^h)}{\\partial \\boldsymbol{x}^h}\\odot\\underbrace{\\left(\\boldsymbol{r}-f(\\boldsymbol{x}^h)\\right)}_{\\text{bottom-up error}}\\bigg]-\\frac{1}{2}g'(\\boldsymbol{r}^h)\\Bigg)\\tag{10}\n",
    "\\end{align}\n",
    "$$\n",
    "\n",
    "ただし、$k_1$は更新率 (updating rate)である。または、発火率の時定数を$\\tau:=1/k_1$として、$k_1$は発火率の時定数$\\tau$の逆数であると捉えることもできる。ここで(9)式において、中間表現 $\\boldsymbol{r}$ のダイナミクスはbottom-up errorとtop-down errorで記述されている。このようにbottom-up errorが $\\boldsymbol{r}$ への入力となることは自然に導出される。なお、top-down errorに関しては高次からの予測 (prediction)の項 $f(\\boldsymbol{x}^h)$とleaky-integratorとしての項 $-\\boldsymbol{r}$に分割することができる。また$U^T, (U^h)^T$は重み行列の転置となっており、bottom-upとtop-downの投射において対称な重み行列を用いることを意味している。$-g'(\\boldsymbol{r})$は発火率を抑制してスパースにすることを目的とする項だが、無理やり解釈をすると自己再帰的な抑制と言える。"
   ]
  },
  {
   "cell_type": "code",
   "execution_count": 1,
   "metadata": {
    "execution": {
     "iopub.execute_input": "2020-08-10T15:11:23.882871Z",
     "iopub.status.busy": "2020-08-10T15:11:23.488958Z",
     "iopub.status.idle": "2020-08-10T15:11:27.866247Z",
     "shell.execute_reply": "2020-08-10T15:11:27.866247Z"
    }
   },
   "outputs": [],
   "source": [
    "using PyPlot"
   ]
  },
  {
   "cell_type": "markdown",
   "metadata": {},
   "source": [
    "### 画像データの読み込み\n",
    "データは<http://www.rctn.org/bruno/sparsenet/>からダウンロードできる。`IMAGES_RAW.mat`は10枚の自然画像で、`IMAGES.mat`はそれを白色化したものである。`mat`ファイルの読み込みには[MAT.jl](https://github.com/JuliaIO/MAT.jl)を用いる。"
   ]
  },
  {
   "cell_type": "code",
   "execution_count": 2,
   "metadata": {
    "execution": {
     "iopub.execute_input": "2020-08-10T15:11:28.134501Z",
     "iopub.status.busy": "2020-08-10T15:11:27.867243Z",
     "iopub.status.idle": "2020-08-10T15:11:31.680020Z",
     "shell.execute_reply": "2020-08-10T15:11:31.680020Z"
    }
   },
   "outputs": [],
   "source": [
    "using MAT"
   ]
  },
  {
   "cell_type": "code",
   "execution_count": 3,
   "metadata": {
    "execution": {
     "iopub.execute_input": "2020-08-10T15:11:31.682014Z",
     "iopub.status.busy": "2020-08-10T15:11:31.681017Z",
     "iopub.status.idle": "2020-08-10T15:11:33.362549Z",
     "shell.execute_reply": "2020-08-10T15:11:33.361524Z"
    }
   },
   "outputs": [],
   "source": [
    "# datasets from http://www.rctn.org/bruno/sparsenet/\n",
    "mat_images = matopen(\"_static/datasets/IMAGES.mat\")\n",
    "imgs = read(mat_images, \"IMAGES\")\n",
    "\n",
    "close(mat_images)"
   ]
  },
  {
   "cell_type": "markdown",
   "metadata": {},
   "source": [
    "### モデルの定義\n",
    "必要なパッケージを読み込む。"
   ]
  },
  {
   "cell_type": "code",
   "execution_count": 4,
   "metadata": {
    "execution": {
     "iopub.execute_input": "2020-08-10T15:11:33.363518Z",
     "iopub.status.busy": "2020-08-10T15:11:33.363518Z",
     "iopub.status.idle": "2020-08-10T15:11:33.434328Z",
     "shell.execute_reply": "2020-08-10T15:11:33.434328Z"
    }
   },
   "outputs": [],
   "source": [
    "using Base: @kwdef\n",
    "using Parameters: @unpack # or using UnPack\n",
    "using LinearAlgebra\n",
    "using Random\n",
    "using Statistics\n",
    "using ProgressMeter"
   ]
  },
  {
   "cell_type": "markdown",
   "metadata": {},
   "source": [
    "モデルを定義する。"
   ]
  },
  {
   "cell_type": "code",
   "execution_count": 5,
   "metadata": {
    "execution": {
     "iopub.execute_input": "2020-08-10T15:11:33.435326Z",
     "iopub.status.busy": "2020-08-10T15:11:33.435326Z",
     "iopub.status.idle": "2020-08-10T15:11:33.508159Z",
     "shell.execute_reply": "2020-08-10T15:11:33.508159Z"
    }
   },
   "outputs": [],
   "source": [
    "@kwdef struct RBParameter{FT}\n",
    "    α::FT = 1.0\n",
    "    αh::FT = 0.05\n",
    "    var::FT = 1.0\n",
    "    vartd::FT = 10\n",
    "    inv_var::FT = 1/var       \n",
    "    inv_vartd::FT = 1/vartd\n",
    "    k1::FT = 0.3 # k_1: update rate\n",
    "    λ::FT = 0.02 # regularization parameter\n",
    "end\n",
    "\n",
    "@kwdef mutable struct RaoBallard1999Model{FT}\n",
    "    param::RBParameter = RBParameter{FT}()\n",
    "    num_units_lv0::UInt16 = 256 # number of units of level0\n",
    "    num_units_lv1::UInt16 = 32\n",
    "    num_units_lv2::UInt16 = 128\n",
    "    num_lv1::UInt16 = 3\n",
    "    k2::FT = 0.2 # k_2: learning rate\n",
    "    r::Array{FT} = zeros(num_lv1, num_units_lv1) # activity of neurons\n",
    "    rh::Array{FT} = zeros(num_units_lv2) # activity of neurons\n",
    "    U::Array{FT} = randn(num_units_lv0, num_units_lv1) .* sqrt(2.0 / (num_units_lv0+num_units_lv1))\n",
    "    Uh::Array{FT} = randn(num_lv1*num_units_lv1, num_units_lv2) .* sqrt(2.0 / (num_lv1*num_units_lv1+num_units_lv2))\n",
    "end"
   ]
  },
  {
   "cell_type": "markdown",
   "metadata": {},
   "source": [
    "パラメータを更新する関数を定義する。"
   ]
  },
  {
   "cell_type": "code",
   "execution_count": 6,
   "metadata": {
    "execution": {
     "iopub.execute_input": "2020-08-10T15:11:33.509129Z",
     "iopub.status.busy": "2020-08-10T15:11:33.509129Z",
     "iopub.status.idle": "2020-08-10T15:11:33.945989Z",
     "shell.execute_reply": "2020-08-10T15:11:33.944994Z"
    }
   },
   "outputs": [
    {
     "data": {
      "text/plain": [
       "update! (generic function with 1 method)"
      ]
     },
     "execution_count": 6,
     "metadata": {},
     "output_type": "execute_result"
    }
   ],
   "source": [
    "function update!(variable::RaoBallard1999Model, param::RBParameter, inputs::Array, training::Bool)\n",
    "    @unpack num_units_lv0, num_units_lv1, num_units_lv2, num_lv1, k2, r, rh, U, Uh = variable\n",
    "    @unpack α, αh, var, vartd, inv_var, inv_vartd, k1, λ = param\n",
    "\n",
    "    r_reshaped = r[:] # (96)\n",
    "\n",
    "    fx = r * U' # (3, 256)\n",
    "    fxh = Uh * rh # (96, )\n",
    "\n",
    "    # Calculate errors\n",
    "    error = inputs - fx # (3, 256)\n",
    "    errorh = r_reshaped - fxh # (96, ) \n",
    "    errorh_reshaped = reshape(errorh, (num_lv1, num_units_lv1)) # (3, 32)\n",
    "\n",
    "    g_r = α * r ./ (1.0 .+ r .^ 2) # (3, 32)\n",
    "    g_rh = αh * rh ./ (1.0 .+ rh .^ 2) # (64, )\n",
    "\n",
    "    # Update r and rh\n",
    "    dr = k1 * (inv_var * error * U - inv_vartd * errorh_reshaped - g_r)\n",
    "    drh = k1 * (inv_vartd * Uh' * errorh - g_rh)\n",
    "    \n",
    "    r[:, :] += dr\n",
    "    rh[:] += drh\n",
    "    \n",
    "    if training \n",
    "        U[:, :] += k2 * (inv_var * error' * r - num_lv1 * λ * U)\n",
    "        Uh[:, :] += k2 * (inv_vartd * errorh * rh' - λ * Uh)\n",
    "    end\n",
    "\n",
    "    return error, errorh, dr, drh\n",
    "end"
   ]
  },
  {
   "cell_type": "markdown",
   "metadata": {},
   "source": [
    "入力に乗じるGaussianフィルタを定義する。"
   ]
  },
  {
   "cell_type": "code",
   "execution_count": 7,
   "metadata": {
    "execution": {
     "iopub.execute_input": "2020-08-10T15:11:33.946986Z",
     "iopub.status.busy": "2020-08-10T15:11:33.946986Z",
     "iopub.status.idle": "2020-08-10T15:11:34.018793Z",
     "shell.execute_reply": "2020-08-10T15:11:34.017797Z"
    }
   },
   "outputs": [
    {
     "data": {
      "text/plain": [
       "GaussianMask (generic function with 4 methods)"
      ]
     },
     "execution_count": 7,
     "metadata": {},
     "output_type": "execute_result"
    }
   ],
   "source": [
    "# Gaussian mask for inputs\n",
    "function GaussianMask(sizex=16, sizey=16, sigma=5)\n",
    "    x = 0:sizex-1\n",
    "    y = 0:sizey-1\n",
    "    X = [i for i in x, j in 1:length(y)]\n",
    "    Y = [j for i in 1:length(x), j in y]\n",
    "    \n",
    "    x0 = (sizex-1) / 2\n",
    "    y0 = (sizey-1) / 2\n",
    "    mask = exp.(-((X .- x0) .^2 + (Y .- y0) .^2) / (2.0*(sigma^2)))\n",
    "    return mask ./ sum(mask)\n",
    "end"
   ]
  },
  {
   "cell_type": "code",
   "execution_count": 8,
   "metadata": {
    "execution": {
     "iopub.execute_input": "2020-08-10T15:11:34.019791Z",
     "iopub.status.busy": "2020-08-10T15:11:34.019791Z",
     "iopub.status.idle": "2020-08-10T15:11:36.877122Z",
     "shell.execute_reply": "2020-08-10T15:11:36.877122Z"
    }
   },
   "outputs": [
    {
     "data": {
      "image/png": "[encoded data removed]",
      "text/plain": [
       "Figure(PyObject <Figure size 200x200 with 1 Axes>)"
      ]
     },
     "metadata": {
      "filenames": {
       "image/png": "D:\\data\\Github\\compneuro-julia-management\\contents\\_build\\jupyter_execute\\11-3_predictive-coding-rao_15_0.png"
      }
     },
     "output_type": "display_data"
    }
   ],
   "source": [
    "gau = GaussianMask()\n",
    "figure(figsize=(2,2))\n",
    "title(\"Gaussian mask\")\n",
    "imshow(gau)\n",
    "tight_layout()"
   ]
  },
  {
   "cell_type": "markdown",
   "metadata": {},
   "source": [
    "損失関数を定義する。"
   ]
  },
  {
   "cell_type": "code",
   "execution_count": 9,
   "metadata": {
    "execution": {
     "iopub.execute_input": "2020-08-10T15:11:36.878119Z",
     "iopub.status.busy": "2020-08-10T15:11:36.878119Z",
     "iopub.status.idle": "2020-08-10T15:11:36.941978Z",
     "shell.execute_reply": "2020-08-10T15:11:36.940952Z"
    }
   },
   "outputs": [
    {
     "data": {
      "text/plain": [
       "calculate_total_error (generic function with 1 method)"
      ]
     },
     "execution_count": 9,
     "metadata": {},
     "output_type": "execute_result"
    }
   ],
   "source": [
    "function calculate_total_error(error, errorh, variable::RaoBallard1999Model, param::RBParameter)\n",
    "    @unpack num_units_lv0, num_units_lv1, num_units_lv2, num_lv1, k2, r, rh, U, Uh = variable\n",
    "    @unpack α, αh, var, vartd, inv_var, inv_vartd, k1, λ = param\n",
    "    recon_error = inv_var * sum(error.^2) + inv_vartd * sum(errorh.^2)\n",
    "    sparsity_r = α * sum(r.^2) + αh * sum(rh.^2)\n",
    "    sparsity_U = λ * (sum(U.^2) + sum(Uh.^2))\n",
    "    return recon_error + sparsity_r + sparsity_U\n",
    "end"
   ]
  },
  {
   "cell_type": "markdown",
   "metadata": {},
   "source": [
    "シミュレーションを実行する関数を定義する。外側の`for loop`では画像パッチの作成と`r`の初期化を行う。内側の`for loop`では`r`が収束するまで更新を行い、収束したときに重み行列`Phi`を更新する。"
   ]
  },
  {
   "cell_type": "code",
   "execution_count": 10,
   "metadata": {
    "execution": {
     "iopub.execute_input": "2020-08-10T15:11:36.942946Z",
     "iopub.status.busy": "2020-08-10T15:11:36.942946Z",
     "iopub.status.idle": "2020-08-10T15:11:37.182334Z",
     "shell.execute_reply": "2020-08-10T15:11:37.182334Z"
    }
   },
   "outputs": [
    {
     "data": {
      "text/plain": [
       "run_simulation (generic function with 1 method)"
      ]
     },
     "execution_count": 10,
     "metadata": {},
     "output_type": "execute_result"
    }
   ],
   "source": [
    "function run_simulation(imgs, num_iter, nt_max, eps)\n",
    "    # Define model\n",
    "    model = RaoBallard1999Model{Float32}()\n",
    "    \n",
    "    # Simulation constants\n",
    "    H, W, num_images = size(imgs)\n",
    "    input_scale = 40 # scale factor of inputs\n",
    "    gmask = GaussianMask() # Gaussian mask\n",
    "    errorarr = zeros(num_iter) # Vector to save errors    \n",
    "    \n",
    "    # Run simulation\n",
    "    @showprogress \"Computing...\" for iter in 1:num_iter\n",
    "        # Get images randomly\n",
    "        idx = rand(1:num_images)\n",
    "        img = imgs[:, :, idx]\n",
    "\n",
    "        # Get the coordinates of the upper left corner of clopping image randomly.\n",
    "        beginx = rand(1:W-27)\n",
    "        beginy = rand(1:H-17)\n",
    "        img_clopped = img[beginy:beginy+15, beginx:beginx+25]\n",
    "\n",
    "        # Clop three patches\n",
    "        inputs = hcat([(gmask .* img_clopped[:, 1+i*5:i*5+16])[:] for i = 0:2]...)'\n",
    "        inputs = (inputs .- mean(inputs)) .* input_scale\n",
    "\n",
    "        # Reset states\n",
    "        model.r = inputs * model.U \n",
    "        model.rh = model.Uh' * model.r[:]\n",
    "\n",
    "        # Input an image patch until latent variables are converged \n",
    "        for i in 1:nt_max\n",
    "            # Update r and rh without update weights \n",
    "            error, errorh, dr, drh = update!(model, model.param, inputs, false)\n",
    "\n",
    "            # Compute norm of r and rh\n",
    "            dr_norm = sqrt(sum(dr.^2))\n",
    "            drh_norm = sqrt(sum(drh.^2))\n",
    "\n",
    "            # Check convergence of r and rh, then update weights\n",
    "            if dr_norm < eps && drh_norm < eps\n",
    "                error, errorh, dr, drh = update!(model, model.param, inputs, true)\n",
    "                errorarr[iter] = calculate_total_error(error, errorh, model, model.param) # Append errors\n",
    "                break\n",
    "            end\n",
    "\n",
    "            # If failure to convergence, break and print error\n",
    "            if i >= nt_max-2\n",
    "                println(\"Error at patch:\", iter)\n",
    "                println(dr_norm, drh_norm)\n",
    "                break\n",
    "            end\n",
    "        end\n",
    "\n",
    "\n",
    "        # Decay learning rate         \n",
    "        if iter % 40 == 39\n",
    "            model.k2 /= 1.015\n",
    "        end\n",
    "\n",
    "        # Print moving average error\n",
    "        if iter % 1000 == 0\n",
    "            moving_average_error = mean(errorarr[iter-999:iter])\n",
    "            println(\"iter: \", iter, \"/\", num_iter, \", Moving average error:\", moving_average_error)\n",
    "        end\n",
    "    end\n",
    "    return model, errorarr\n",
    "end"
   ]
  },
  {
   "cell_type": "markdown",
   "metadata": {},
   "source": [
    "### シミュレーションの実行"
   ]
  },
  {
   "cell_type": "code",
   "execution_count": 11,
   "metadata": {
    "execution": {
     "iopub.execute_input": "2020-08-10T15:11:37.184300Z",
     "iopub.status.busy": "2020-08-10T15:11:37.183331Z",
     "iopub.status.idle": "2020-08-10T15:11:56.190808Z",
     "shell.execute_reply": "2020-08-10T15:11:56.190808Z"
    },
    "tags": [
     "remove-output"
    ]
   },
   "outputs": [
    {
     "name": "stderr",
     "output_type": "stream",
     "text": [
      "\r",
      "\u001b[32mComputing...  0%|█                                      |  ETA: 4:14:22\u001b[39m"
     ]
    },
    {
     "name": "stderr",
     "output_type": "stream",
     "text": [
      "\r",
      "\u001b[32mComputing...  0%|█                                      |  ETA: 0:11:40\u001b[39m"
     ]
    },
    {
     "name": "stderr",
     "output_type": "stream",
     "text": [
      "\r",
      "\u001b[32mComputing...  1%|█                                      |  ETA: 0:08:01\u001b[39m"
     ]
    },
    {
     "name": "stderr",
     "output_type": "stream",
     "text": [
      "\r",
      "\u001b[32mComputing...  1%|█                                      |  ETA: 0:06:05\u001b[39m"
     ]
    },
    {
     "name": "stderr",
     "output_type": "stream",
     "text": [
      "\r",
      "\u001b[32mComputing...  1%|█                                      |  ETA: 0:04:53\u001b[39m"
     ]
    },
    {
     "name": "stderr",
     "output_type": "stream",
     "text": [
      "\r",
      "\u001b[32mComputing...  2%|█                                      |  ETA: 0:03:57\u001b[39m"
     ]
    },
    {
     "name": "stderr",
     "output_type": "stream",
     "text": [
      "\r",
      "\u001b[32mComputing...  2%|█                                      |  ETA: 0:03:04\u001b[39m"
     ]
    },
    {
     "name": "stderr",
     "output_type": "stream",
     "text": [
      "\r",
      "\u001b[32mComputing...  3%|██                                     |  ETA: 0:02:30\u001b[39m"
     ]
    },
    {
     "name": "stderr",
     "output_type": "stream",
     "text": [
      "\r",
      "\u001b[32mComputing...  3%|██                                     |  ETA: 0:02:06\u001b[39m"
     ]
    },
    {
     "name": "stderr",
     "output_type": "stream",
     "text": [
      "\r",
      "\u001b[32mComputing...  4%|██                                     |  ETA: 0:01:44\u001b[39m"
     ]
    },
    {
     "name": "stderr",
     "output_type": "stream",
     "text": [
      "\r",
      "\u001b[32mComputing...  5%|██                                     |  ETA: 0:01:28\u001b[39m"
     ]
    },
    {
     "name": "stderr",
     "output_type": "stream",
     "text": [
      "\r",
      "\u001b[32mComputing...  6%|███                                    |  ETA: 0:01:16\u001b[39m"
     ]
    },
    {
     "name": "stderr",
     "output_type": "stream",
     "text": [
      "\r",
      "\u001b[32mComputing...  6%|███                                    |  ETA: 0:01:08\u001b[39m"
     ]
    },
    {
     "name": "stderr",
     "output_type": "stream",
     "text": [
      "\r",
      "\u001b[32mComputing...  7%|███                                    |  ETA: 0:01:01\u001b[39m"
     ]
    },
    {
     "name": "stderr",
     "output_type": "stream",
     "text": [
      "\r",
      "\u001b[32mComputing...  8%|████                                   |  ETA: 0:00:55\u001b[39m"
     ]
    },
    {
     "name": "stderr",
     "output_type": "stream",
     "text": [
      "\r",
      "\u001b[32mComputing...  9%|████                                   |  ETA: 0:00:51\u001b[39m"
     ]
    },
    {
     "name": "stderr",
     "output_type": "stream",
     "text": [
      "\r",
      "\u001b[32mComputing... 10%|████                                   |  ETA: 0:00:47\u001b[39m"
     ]
    },
    {
     "name": "stderr",
     "output_type": "stream",
     "text": [
      "\r",
      "\u001b[32mComputing... 11%|█████                                  |  ETA: 0:00:44\u001b[39m"
     ]
    },
    {
     "name": "stderr",
     "output_type": "stream",
     "text": [
      "\r",
      "\u001b[32mComputing... 12%|█████                                  |  ETA: 0:00:40\u001b[39m"
     ]
    },
    {
     "name": "stderr",
     "output_type": "stream",
     "text": [
      "\r",
      "\u001b[32mComputing... 13%|█████                                  |  ETA: 0:00:38\u001b[39m"
     ]
    },
    {
     "name": "stderr",
     "output_type": "stream",
     "text": [
      "\r",
      "\u001b[32mComputing... 13%|██████                                 |  ETA: 0:00:36\u001b[39m"
     ]
    },
    {
     "name": "stderr",
     "output_type": "stream",
     "text": [
      "\r",
      "\u001b[32mComputing... 14%|██████                                 |  ETA: 0:00:35\u001b[39m"
     ]
    },
    {
     "name": "stderr",
     "output_type": "stream",
     "text": [
      "\r",
      "\u001b[32mComputing... 15%|██████                                 |  ETA: 0:00:33\u001b[39m"
     ]
    },
    {
     "name": "stderr",
     "output_type": "stream",
     "text": [
      "\r",
      "\u001b[32mComputing... 16%|███████                                |  ETA: 0:00:31\u001b[39m"
     ]
    },
    {
     "name": "stderr",
     "output_type": "stream",
     "text": [
      "\r",
      "\u001b[32mComputing... 17%|███████                                |  ETA: 0:00:30\u001b[39"
     ]
    },
    {
     "name": "stderr",
     "output_type": "stream",
     "text": [
      "m"
     ]
    },
    {
     "name": "stderr",
     "output_type": "stream",
     "text": [
      "\r",
      "\u001b[32mComputing... 18%|███████                                |  ETA: 0:00:29\u001b[39m"
     ]
    },
    {
     "name": "stderr",
     "output_type": "stream",
     "text": [
      "\r"
     ]
    },
    {
     "name": "stderr",
     "output_type": "stream",
     "text": [
      "\u001b[32mComputing... 18%|████████                               |  ETA: 0:00:28\u001b[39m\r",
      "\u001b[32mComputing... 19%|████████                               |  ETA: 0:00:27\u001b[39m"
     ]
    },
    {
     "name": "stderr",
     "output_type": "stream",
     "text": [
      "\r",
      "\u001b[32mComputing... 20%|████████                               |  ETA: 0:00:26\u001b[39m"
     ]
    },
    {
     "name": "stdout",
     "output_type": "stream",
     "text": [
      "iter: 1000/5000, Moving average error:2.130135205044856\n"
     ]
    },
    {
     "name": "stderr",
     "output_type": "stream",
     "text": [
      "\r",
      "\u001b[32mComputing... 21%|█████████                              |  ETA: 0:00:25\u001b[39m"
     ]
    },
    {
     "name": "stderr",
     "output_type": "stream",
     "text": [
      "\r",
      "\u001b[32mComputing... 22%|█████████                              |  ETA: 0:00:24\u001b[39m"
     ]
    },
    {
     "name": "stderr",
     "output_type": "stream",
     "text": [
      "\r",
      "\u001b[32mComputing... 23%|█████████                              |  ETA: 0:00:23\u001b[39m"
     ]
    },
    {
     "name": "stderr",
     "output_type": "stream",
     "text": [
      "\r",
      "\u001b[32mComputing... 24%|██████████                             |  ETA: 0:00:23\u001b[39m"
     ]
    },
    {
     "name": "stderr",
     "output_type": "stream",
     "text": [
      "\r",
      "\u001b[32mComputing... 25%|██████████                             |  ETA: 0:00:22\u001b[39m"
     ]
    },
    {
     "name": "stderr",
     "output_type": "stream",
     "text": [
      "\r",
      "\u001b[32mComputing... 26%|███████████                            |  ETA: 0:00:21\u001b[39m"
     ]
    },
    {
     "name": "stderr",
     "output_type": "stream",
     "text": [
      "\r",
      "\u001b[32mComputing... 27%|███████████                            |  ETA: 0:00:21\u001b[39m"
     ]
    },
    {
     "name": "stderr",
     "output_type": "stream",
     "text": [
      "\r",
      "\u001b[32mComputing... 28%|███████████                            |  ETA: 0:00:20\u001b[39m"
     ]
    },
    {
     "name": "stderr",
     "output_type": "stream",
     "text": [
      "\r",
      "\u001b[32mComputing... 28%|████████████                           |  ETA: 0:00:19\u001b[39m"
     ]
    },
    {
     "name": "stderr",
     "output_type": "stream",
     "text": [
      "\r",
      "\u001b[32mComputing... 29%|████████████                           |  ETA: 0:00:19\u001b[39m"
     ]
    },
    {
     "name": "stderr",
     "output_type": "stream",
     "text": [
      "\r",
      "\u001b[32mComputing... 30%|████████████                           |  ETA: 0:00:18\u001b[39m"
     ]
    },
    {
     "name": "stderr",
     "output_type": "stream",
     "text": [
      "\r",
      "\u001b[32mComputing... 31%|█████████████                          |  ETA: 0:00:17\u001b[39m"
     ]
    },
    {
     "name": "stderr",
     "output_type": "stream",
     "text": [
      "\r",
      "\u001b[32mComputing... 32%|█████████████                          |  ETA: 0:00:17\u001b[39m"
     ]
    },
    {
     "name": "stderr",
     "output_type": "stream",
     "text": [
      "\r",
      "\u001b[32mComputing... 33%|██████████████                         |  ETA: 0:00:16\u001b[39m"
     ]
    },
    {
     "name": "stderr",
     "output_type": "stream",
     "text": [
      "\r",
      "\u001b[32mComputing... 34%|██████████████                         |  ETA: 0:00:16\u001b[39m"
     ]
    },
    {
     "name": "stderr",
     "output_type": "stream",
     "text": [
      "\r",
      "\u001b[32mComputing... 35%|██████████████                         |  ETA: 0:00:15\u001b[39m"
     ]
    },
    {
     "name": "stderr",
     "output_type": "stream",
     "text": [
      "\r",
      "\u001b[32mComputing... 36%|███████████████                        |  ETA: 0:00:15\u001b[39m"
     ]
    },
    {
     "name": "stderr",
     "output_type": "stream",
     "text": [
      "\r",
      "\u001b[32mComputing... 37%|███████████████                        |  ETA: 0:00:15\u001b[39m"
     ]
    },
    {
     "name": "stderr",
     "output_type": "stream",
     "text": [
      "\r",
      "\u001b[32mComputing... 38%|███████████████                        |  ETA: 0:00:14\u001b[39m"
     ]
    },
    {
     "name": "stderr",
     "output_type": "stream",
     "text": [
      "\r",
      "\u001b[32mComputing... 39%|████████████████                       |  ETA: 0:00:14\u001b[39m"
     ]
    },
    {
     "name": "stdout",
     "output_type": "stream",
     "text": [
      "iter: 2000/5000, Moving average error:1.6259024401174267"
     ]
    },
    {
     "name": "stderr",
     "output_type": "stream",
     "text": [
      "\r",
      "\u001b[32mComputing... 40%|████████████████                       |  ETA: 0:00:13\u001b[39m"
     ]
    },
    {
     "name": "stdout",
     "output_type": "stream",
     "text": [
      "\n"
     ]
    },
    {
     "name": "stderr",
     "output_type": "stream",
     "text": [
      "\r",
      "\u001b[32mComputing... 41%|████████████████                       |  ETA: 0:00:13\u001b[39m"
     ]
    },
    {
     "name": "stderr",
     "output_type": "stream",
     "text": [
      "\r",
      "\u001b[32mComputing... 42%|█████████████████                      |  ETA: 0:00:13\u001b[39m"
     ]
    },
    {
     "name": "stderr",
     "output_type": "stream",
     "text": [
      "\r",
      "\u001b[32mComputing... 43%|█████████████████                      |  ETA: 0:00:12\u001b[39m"
     ]
    },
    {
     "name": "stderr",
     "output_type": "stream",
     "text": [
      "\r",
      "\u001b[32mComputing... 44%|██████████████████                     |  ETA: 0:00:12\u001b[39m"
     ]
    },
    {
     "name": "stderr",
     "output_type": "stream",
     "text": [
      "\r",
      "\u001b[32mComputing... 45%|██████████████████                     |  ETA: 0:00:12\u001b[39m"
     ]
    },
    {
     "name": "stderr",
     "output_type": "stream",
     "text": [
      "\r",
      "\u001b[32mComputing... 46%|██████████████████                     |  ETA: 0:00:12\u001b[39m"
     ]
    },
    {
     "name": "stderr",
     "output_type": "stream",
     "text": [
      "\r",
      "\u001b[32mComputing... 47%|███████████████████                    |  ETA: 0:00:11\u001b[39m"
     ]
    },
    {
     "name": "stderr",
     "output_type": "stream",
     "text": [
      "\r",
      "\u001b[32mComputing... 48%|███████████████████                    |  ETA: 0:00:11\u001b[39m"
     ]
    },
    {
     "name": "stderr",
     "output_type": "stream",
     "text": [
      "\r",
      "\u001b[32mComputing... 49%|███████████████████                    |  ETA: 0:00:11\u001b[39m"
     ]
    },
    {
     "name": "stderr",
     "output_type": "stream",
     "text": [
      "\r",
      "\u001b[32mComputing... 50%|████████████████████                   |  ETA: 0:00:10\u001b[39m"
     ]
    },
    {
     "name": "stderr",
     "output_type": "stream",
     "text": [
      "\r",
      "\u001b[32mComputing... 51%|████████████████████                   |  ETA: 0:00:10\u001b[39m"
     ]
    },
    {
     "name": "stderr",
     "output_type": "stream",
     "text": [
      "\r",
      "\u001b[32mComputing... 52%|█████████████████████                  |  ETA: 0:00:10\u001b[39m"
     ]
    },
    {
     "name": "stderr",
     "output_type": "stream",
     "text": [
      "\r",
      "\u001b[32mComputing... 53%|█████████████████████                  |  ETA: 0:00:10\u001b[39m"
     ]
    },
    {
     "name": "stderr",
     "output_type": "stream",
     "text": [
      "\r",
      "\u001b[32mComputing... 53%|█████████████████████                  |  ETA: 0:00:09\u001b[39m"
     ]
    },
    {
     "name": "stderr",
     "output_type": "stream",
     "text": [
      "\r",
      "\u001b[32mComputing... 54%|██████████████████████                 |  ETA: 0:00:09\u001b[39m"
     ]
    },
    {
     "name": "stderr",
     "output_type": "stream",
     "text": [
      "\r",
      "\u001b[32mComputing... 55%|██████████████████████                 |  ETA: 0:00:09\u001b[39m"
     ]
    },
    {
     "name": "stderr",
     "output_type": "stream",
     "text": [
      "\r",
      "\u001b[32mComputing... 56%|██████████████████████                 |  ETA: 0:00:09\u001b[39m"
     ]
    },
    {
     "name": "stderr",
     "output_type": "stream",
     "text": [
      "\r",
      "\u001b[32mComputing... 57%|███████████████████████                |  ETA: 0:00:08\u001b[39m"
     ]
    },
    {
     "name": "stderr",
     "output_type": "stream",
     "text": [
      "\r",
      "\u001b[32mComputing... 58%|███████████████████████                |  ETA: 0:00:08\u001b[39m"
     ]
    },
    {
     "name": "stderr",
     "output_type": "stream",
     "text": [
      "\r",
      "\u001b[32mComputing... 59%|████████████████████████               |  ETA: 0:00:08\u001b[39m"
     ]
    },
    {
     "name": "stderr",
     "output_type": "stream",
     "text": [
      "\r",
      "\u001b[32mComputing... 60%|████████████████████████               |  ETA: 0:00:08\u001b[39m"
     ]
    },
    {
     "name": "stdout",
     "output_type": "stream",
     "text": [
      "iter: 3000/5000, Moving average error:1.79941826131841\n"
     ]
    },
    {
     "name": "stderr",
     "output_type": "stream",
     "text": [
      "\r",
      "\u001b[32mComputing... 61%|████████████████████████               |  ETA: 0:00:07\u001b[39m"
     ]
    },
    {
     "name": "stderr",
     "output_type": "stream",
     "text": [
      "\r",
      "\u001b[32mComputing... 62%|█████████████████████████              |  ETA: 0:00:07\u001b[39m"
     ]
    },
    {
     "name": "stderr",
     "output_type": "stream",
     "text": [
      "\r",
      "\u001b[32mComputing... 63%|█████████████████████████              |  ETA: 0:00:07\u001b[39m"
     ]
    },
    {
     "name": "stderr",
     "output_type": "stream",
     "text": [
      "\r",
      "\u001b[32mComputing... 64%|█████████████████████████              |  ETA: 0:00:07\u001b[39m"
     ]
    },
    {
     "name": "stderr",
     "output_type": "stream",
     "text": [
      "\r",
      "\u001b[32mComputing... 64%|██████████████████████████             |  ETA: 0:00:07\u001b[39m"
     ]
    },
    {
     "name": "stderr",
     "output_type": "stream",
     "text": [
      "\r",
      "\u001b[32mComputing... 66%|██████████████████████████             |  ETA: 0:00:06\u001b[39m"
     ]
    },
    {
     "name": "stderr",
     "output_type": "stream",
     "text": [
      "\r",
      "\u001b[32mComputing... 66%|██████████████████████████             |  ETA: 0:00:06\u001b[39m"
     ]
    },
    {
     "name": "stderr",
     "output_type": "stream",
     "text": [
      "\r",
      "\u001b[32mComputing... 67%|███████████████████████████            |  ETA: 0:00:06\u001b[39m"
     ]
    },
    {
     "name": "stderr",
     "output_type": "stream",
     "text": [
      "\r",
      "\u001b[32mComputing... 68%|███████████████████████████            |  ETA: 0:00:06\u001b[39m"
     ]
    },
    {
     "name": "stderr",
     "output_type": "stream",
     "text": [
      "\r",
      "\u001b[32mComputing... 69%|████████████████████████████           |  ETA: 0:00:06\u001b[39m"
     ]
    },
    {
     "name": "stderr",
     "output_type": "stream",
     "text": [
      "\r",
      "\u001b[32mComputing... 70%|████████████████████████████           |  ETA: 0:00:05\u001b[39m"
     ]
    },
    {
     "name": "stderr",
     "output_type": "stream",
     "text": [
      "\r",
      "\u001b[32mComputing... 71%|████████████████████████████           |  ETA: 0:00:05\u001b[39m"
     ]
    },
    {
     "name": "stderr",
     "output_type": "stream",
     "text": [
      "\r",
      "\u001b[32mComputing... 72%|█████████████████████████████          |  ETA: 0:00:05\u001b[39m"
     ]
    },
    {
     "name": "stderr",
     "output_type": "stream",
     "text": [
      "\r",
      "\u001b[32mComputing... 73%|█████████████████████████████          |  ETA: 0:00:05\u001b[39m"
     ]
    },
    {
     "name": "stderr",
     "output_type": "stream",
     "text": [
      "\r",
      "\u001b[32mComputing... 74%|█████████████████████████████          |  ETA: 0:00:05\u001b[39m"
     ]
    },
    {
     "name": "stderr",
     "output_type": "stream",
     "text": [
      "\r",
      "\u001b[32mComputing... 75%|██████████████████████████████         |  ETA: 0:00:04\u001b[39m"
     ]
    },
    {
     "name": "stderr",
     "output_type": "stream",
     "text": [
      "\r",
      "\u001b[32mComputing... 76%|██████████████████████████████         |  ETA: 0:00:04\u001b[39m"
     ]
    },
    {
     "name": "stderr",
     "output_type": "stream",
     "text": [
      "\r",
      "\u001b[32mComputing... 77%|██████████████████████████████         |  ETA: 0:00:04\u001b[39m"
     ]
    },
    {
     "name": "stderr",
     "output_type": "stream",
     "text": [
      "\r",
      "\u001b[32mComputing... 78%|███████████████████████████████        |  ETA: 0:00:04\u001b[39m"
     ]
    },
    {
     "name": "stderr",
     "output_type": "stream",
     "text": [
      "\r",
      "\u001b[32mComputing... 79%|███████████████████████████████        |  ETA: 0:00:04\u001b[39m"
     ]
    },
    {
     "name": "stderr",
     "output_type": "stream",
     "text": [
      "\r",
      "\u001b[32mComputing... 80%|████████████████████████████████       |  ETA: 0:00:04\u001b[39m"
     ]
    },
    {
     "name": "stdout",
     "output_type": "stream",
     "text": [
      "iter: 4000/5000, Moving average error:1.696708635387807\n"
     ]
    },
    {
     "name": "stderr",
     "output_type": "stream",
     "text": [
      "\r",
      "\u001b[32mComputing... 81%|████████████████████████████████       |  ETA: 0:00:03\u001b[39m"
     ]
    },
    {
     "name": "stderr",
     "output_type": "stream",
     "text": [
      "\r",
      "\u001b[32mComputing... 82%|████████████████████████████████       |  ETA: 0:00:03\u001b[39m"
     ]
    },
    {
     "name": "stderr",
     "output_type": "stream",
     "text": [
      "\r",
      "\u001b[32mComputing... 82%|█████████████████████████████████      |  ETA: 0:00:03\u001b[39m"
     ]
    },
    {
     "name": "stderr",
     "output_type": "stream",
     "text": [
      "\r",
      "\u001b[32mComputing... 83%|█████████████████████████████████      |  ETA: 0:00:03\u001b[39m"
     ]
    },
    {
     "name": "stderr",
     "output_type": "stream",
     "text": [
      "\r",
      "\u001b[32mComputing... 84%|█████████████████████████████████      |  ETA: 0:00:03\u001b[39m"
     ]
    },
    {
     "name": "stderr",
     "output_type": "stream",
     "text": [
      "\r",
      "\u001b[32mComputing... 85%|██████████████████████████████████     |  ETA: 0:00:03\u001b[39m"
     ]
    },
    {
     "name": "stderr",
     "output_type": "stream",
     "text": [
      "\r",
      "\u001b[32mComputing... 86%|██████████████████████████████████     |  ETA: 0:00:02\u001b[39m"
     ]
    },
    {
     "name": "stderr",
     "output_type": "stream",
     "text": [
      "\r",
      "\u001b[32mComputing... 87%|██████████████████████████████████     |  ETA: 0:00:02\u001b[39m"
     ]
    },
    {
     "name": "stderr",
     "output_type": "stream",
     "text": [
      "\r",
      "\u001b[32mComputing... 88%|███████████████████████████████████    |  ETA: 0:00:02\u001b[39m"
     ]
    },
    {
     "name": "stderr",
     "output_type": "stream",
     "text": [
      "\r",
      "\u001b[32mComputing... 89%|███████████████████████████████████    |  ETA: 0:00:02\u001b[39m"
     ]
    },
    {
     "name": "stderr",
     "output_type": "stream",
     "text": [
      "\r",
      "\u001b[32mComputing... 90%|████████████████████████████████████   |  ETA: 0:00:02\u001b[39m"
     ]
    },
    {
     "name": "stderr",
     "output_type": "stream",
     "text": [
      "\r",
      "\u001b[32mComputing... 91%|████████████████████████████████████   |  ETA: 0:00:02\u001b[39m"
     ]
    },
    {
     "name": "stderr",
     "output_type": "stream",
     "text": [
      "\r",
      "\u001b[32mComputing... 92%|████████████████████████████████████   |  ETA: 0:00:01\u001b[39m"
     ]
    },
    {
     "name": "stderr",
     "output_type": "stream",
     "text": [
      "\r",
      "\u001b[32mComputing... 93%|█████████████████████████████████████  |  ETA: 0:00:01\u001b[39m"
     ]
    },
    {
     "name": "stderr",
     "output_type": "stream",
     "text": [
      "\r",
      "\u001b[32mComputing... 94%|█████████████████████████████████████  |  ETA: 0:00:01\u001b[39m"
     ]
    },
    {
     "name": "stderr",
     "output_type": "stream",
     "text": [
      "\r",
      "\u001b[32mComputing... 95%|█████████████████████████████████████  |  ETA: 0:00:01\u001b[39m"
     ]
    },
    {
     "name": "stderr",
     "output_type": "stream",
     "text": [
      "\r",
      "\u001b[32mComputing... 95%|██████████████████████████████████████ |  ETA: 0:00:01\u001b[39m"
     ]
    },
    {
     "name": "stderr",
     "output_type": "stream",
     "text": [
      "\r",
      "\u001b[32mComputing... 96%|██████████████████████████████████████ |  ETA: 0:00:01\u001b[39m"
     ]
    },
    {
     "name": "stderr",
     "output_type": "stream",
     "text": [
      "\r",
      "\u001b[32mComputing... 97%|██████████████████████████████████████ |  ETA: 0:00:00\u001b[39m"
     ]
    },
    {
     "name": "stderr",
     "output_type": "stream",
     "text": [
      "\r",
      "\u001b[32mComputing... 98%|███████████████████████████████████████|  ETA: 0:00:00\u001b[39m"
     ]
    },
    {
     "name": "stderr",
     "output_type": "stream",
     "text": [
      "\r",
      "\u001b[32mComputing... 99%|███████████████████████████████████████|  ETA: 0:00:00\u001b[39m"
     ]
    },
    {
     "name": "stderr",
     "output_type": "stream",
     "text": [
      "\r",
      "\u001b[32mComputing...100%|███████████████████████████████████████|  ETA: 0:00:00\u001b[39m"
     ]
    },
    {
     "name": "stderr",
     "output_type": "stream",
     "text": [
      "\r",
      "\u001b[32mComputing...100%|███████████████████████████████████████| Time: 0:00:16\u001b[39m\n"
     ]
    },
    {
     "name": "stdout",
     "output_type": "stream",
     "text": [
      "iter: 5000/5000, Moving average error:1.7630328352692728\n"
     ]
    },
    {
     "data": {
      "text/plain": [
       "(RaoBallard1999Model{Float32}(RBParameter{Float32}(1.0f0, 0.05f0, 1.0f0, 10.0f0, 1.0f0, 0.1f0, 0.3f0, 0.02f0), 0x0100, 0x0020, 0x0080, 0x0003, 0.03110101f0, Float32[-0.0029299846 -0.0018224587 … 0.010620413 -0.0037444024; -0.003188891 0.0009527088 … -0.0033828553 0.00019204534; 0.0027065116 -0.0002469945 … -0.001867258 -0.0034333537], Float32[-1.6622683f-6, -7.4378636f-7, -7.439964f-7, -3.8173764f-7, 2.2772608f-6, 2.8188856f-6, -4.263102f-7, -8.434866f-7, 2.198794f-6, -2.9554374f-7  …  -1.1245392f-6, -6.0167486f-7, -1.3446304f-6, -1.0654827f-6, 2.1892413f-7, -3.445976f-7, -4.2912288f-7, -1.1692374f-6, 3.0845518f-7, -1.8055447f-6], Float32[-0.0004951813 -0.000100356854 … 0.00086303306 -0.000113682836; -0.00044043484 -0.00014440979 … 0.0009071924 -3.7321257f-5; … ; -0.00035172334 -3.640009f-5 … 0.0005269892 -8.724453f-5; -0.00032411786 -4.8330054f-5 … 0.00058582996 -1.05284935f-5], Float32[-2.258454f-6 3.0348065f-6 … -2.1290755f-6 1.2151898f-5; 5.855326f-6 -3.0653316f-6 … -2.2363042f-7 1.3536431f-5; … ; -1.8285682f-5 -8.2980605f-6 … 8.946699f-6 -1.2297404f-5; -1.1955266f-5 1.4862653f-5 … -4.8352226f-6 -1.3042948f-5]), [4.504709693477672, 3.3267046590035703, 3.5923074153563794, 4.43163704146788, 3.966117724677322, 6.335774654690811, 4.6672600913548985, 3.6020274655251368, 8.234898252302962, 5.911450821608322  …  0.8547172959312991, 0.7617914625058351, 0.6575926649966058, 4.502901512100278, 0.48527054055435154, 4.061445280409979, 1.2066998038620809, 1.2863070326115147, 1.9694253975843514, 0.36762874913453947])"
      ]
     },
     "execution_count": 11,
     "metadata": {},
     "output_type": "execute_result"
    }
   ],
   "source": [
    "# Simulation constants\n",
    "num_iter = 5000 # number of iterations\n",
    "nt_max = 1000 # Maximum number of simulation time\n",
    "eps = 1e-3 # small value which determines convergence\n",
    "\n",
    "model, errorarr = run_simulation(imgs, num_iter, nt_max, eps)"
   ]
  },
  {
   "cell_type": "markdown",
   "metadata": {},
   "source": [
    "### 訓練中の損失の描画\n",
    "訓練中の損失の変化を描画してみよう。損失が低下し、学習が進行したことが分かる。"
   ]
  },
  {
   "cell_type": "code",
   "execution_count": 12,
   "metadata": {
    "execution": {
     "iopub.execute_input": "2020-08-10T15:11:56.192803Z",
     "iopub.status.busy": "2020-08-10T15:11:56.191805Z",
     "iopub.status.idle": "2020-08-10T15:11:56.522952Z",
     "shell.execute_reply": "2020-08-10T15:11:56.522952Z"
    }
   },
   "outputs": [
    {
     "data": {
      "image/png": "[encoded data removed]",
      "text/plain": [
       "Figure(PyObject <Figure size 400x200 with 1 Axes>)"
      ]
     },
     "metadata": {
      "filenames": {
       "image/png": "D:\\data\\Github\\compneuro-julia-management\\contents\\_build\\jupyter_execute\\11-3_predictive-coding-rao_23_0.png"
      }
     },
     "output_type": "display_data"
    }
   ],
   "source": [
    "function moving_average(x, n=100)\n",
    "    ret = cumsum(x)\n",
    "    ret[n:end] = ret[n:end] - ret[1:end-n+1]\n",
    "    return ret[n - 1:end] / n\n",
    "end\n",
    "\n",
    "# Plot error\n",
    "moving_average_error = moving_average(errorarr)\n",
    "figure(figsize=(4, 2))\n",
    "ylabel(\"Moving error\")\n",
    "xlabel(\"Iterations\")\n",
    "plot(1:size(moving_average_error)[1], moving_average_error)\n",
    "tight_layout()"
   ]
  },
  {
   "cell_type": "markdown",
   "metadata": {},
   "source": [
    "### 重み行列 (受容野)の描画\n",
    "学習後の重み行列 `Phi` ($\\Phi$)を可視化してみよう。"
   ]
  },
  {
   "cell_type": "code",
   "execution_count": 13,
   "metadata": {
    "execution": {
     "iopub.execute_input": "2020-08-10T15:11:56.523918Z",
     "iopub.status.busy": "2020-08-10T15:11:56.523918Z",
     "iopub.status.idle": "2020-08-10T15:11:57.278899Z",
     "shell.execute_reply": "2020-08-10T15:11:57.278899Z"
    }
   },
   "outputs": [
    {
     "data": {
      "image/png": "[encoded data removed]",
      "text/plain": [
       "Figure(PyObject <Figure size 600x300 with 32 Axes>)"
      ]
     },
     "metadata": {
      "filenames": {
       "image/png": "D:\\data\\Github\\compneuro-julia-management\\contents\\_build\\jupyter_execute\\11-3_predictive-coding-rao_25_0.png"
      }
     },
     "output_type": "display_data"
    }
   ],
   "source": [
    "# Plot Receptive fields\n",
    "figure(figsize=(6, 3))\n",
    "subplots_adjust(hspace=0.1, wspace=0.1)\n",
    "for i in 1:32\n",
    "    subplot(4, 8, i)\n",
    "    imshow(reshape(model.U[:, i], (16, 16)), cmap=\"gray\")\n",
    "    axis(\"off\")\n",
    "end\n",
    "suptitle(\"Receptive fields\", fontsize=14)\n",
    "subplots_adjust(top=0.9)"
   ]
  },
  {
   "cell_type": "markdown",
   "metadata": {},
   "source": [
    "白色が**ON領域**(興奮)、黒色が**OFF領域**(抑制)を表す。Gaborフィルタ様の局所受容野が得られており、これは一次視覚野(V1)における単純型細胞(simple cells)の受容野に類似している。"
   ]
  },
  {
   "cell_type": "code",
   "execution_count": 14,
   "metadata": {
    "execution": {
     "iopub.execute_input": "2020-08-10T15:11:57.280928Z",
     "iopub.status.busy": "2020-08-10T15:11:57.279924Z",
     "iopub.status.idle": "2020-08-10T15:11:57.852365Z",
     "shell.execute_reply": "2020-08-10T15:11:57.853362Z"
    }
   },
   "outputs": [
    {
     "data": {
      "image/png": "[encoded data removed]",
      "text/plain": [
       "Figure(PyObject <Figure size 700x300 with 24 Axes>)"
      ]
     },
     "metadata": {
      "filenames": {
       "image/png": "D:\\data\\Github\\compneuro-julia-management\\contents\\_build\\jupyter_execute\\11-3_predictive-coding-rao_27_0.png"
      }
     },
     "output_type": "display_data"
    }
   ],
   "source": [
    "# Plot Receptive fields of level 2\n",
    "zero_padding = zeros(80, 32)\n",
    "U0 = [model.U; zero_padding; zero_padding]\n",
    "U1 = [zero_padding; model.U; zero_padding]\n",
    "U2 = [zero_padding; zero_padding; model.U]\n",
    "U_ = [U0 U1 U2]\n",
    "Uh_ = U_ * model.Uh \n",
    "\n",
    "figure(figsize=(7, 3))\n",
    "subplots_adjust(hspace=0.1, wspace=0.1)\n",
    "for i in 1:24\n",
    "    subplot(4, 6, i)\n",
    "    imshow(reshape(Uh_[:, i], (16, 26)), cmap=\"gray\")\n",
    "    axis(\"off\")\n",
    "end\n",
    "\n",
    "suptitle(\"Receptive fields of level 2\", fontsize=14)\n",
    "subplots_adjust(top=0.9)"
   ]
  }
 ],
 "metadata": {
  "celltoolbar": "Tags",
  "kernelspec": {
   "display_name": "Julia 1.5.0",
   "language": "julia",
   "name": "julia-1.5"
  },
  "language_info": {
   "file_extension": ".jl",
   "mimetype": "application/julia",
   "name": "julia",
   "version": "1.5.0"
  }
 },
 "nbformat": 4,
 "nbformat_minor": 4
}