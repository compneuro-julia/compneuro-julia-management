{
 "cells": [
  {
   "cell_type": "markdown",
   "metadata": {},
   "source": [
    "# 13.1 Sparse coding (Olshausen & Field, 1996) モデル\n",
    "視覚におけるSparse codingのモデル ([Olshausen & Field, *Nature*. 1996](https://www.nature.com/articles/381607a0))の実装を目標とする。\n",
    "\n",
    "```{note}\n",
    "Sparse codingをどこに入れるかは迷ったが、生成モデルではあるのでこの章に入れた。\n",
    "```"
   ]
  },
  {
   "cell_type": "markdown",
   "metadata": {},
   "source": [
    "## 13.1.1 画像のsparse coding\n",
    "\n",
    "画像 $\\boldsymbol{I} (\\boldsymbol{x})$が基底関数(basis function) $\\Phi = [\\phi_i(\\boldsymbol{x})]$ の線形和で表されるとする。\n",
    "\n",
    "$$\n",
    "\\boldsymbol{I}(\\boldsymbol{x}) = \\sum_i r_i \\phi_i (\\boldsymbol{x}) + \\epsilon(\\boldsymbol{x})= \\Phi \\boldsymbol{r} + \\epsilon(\\boldsymbol{x})\n",
    "$$\n",
    "\n",
    "ただし、$\\boldsymbol{x}$は画像上の座標, $\\epsilon$は平均0のGaussianノイズを表す。また、$\\boldsymbol{r}$は係数であるが、モデルにおいては入力よりも高次の神経細胞の活動とみなす。この場合、$\\Phi$は重み行列となる。\n",
    "\n",
    "Sparse codingは、少数の基底で画像 (や目的変数)を表すことを目的とする。要は(1)式において、ほとんどが0で、一部だけ0以外の値を取るという疎 (=sparse)な係数$\\boldsymbol{r}$を求めたい。"
   ]
  },
  {
   "cell_type": "markdown",
   "metadata": {},
   "source": [
    "## 13.1.2 目的関数の設定\n",
    "Sparse codingのための目的関数(cost function) $E$は(2)式のようになる。\n",
    "\n",
    "$$\n",
    "E = \\underbrace{\\left\\|\\boldsymbol{I}-\\Phi \\boldsymbol{r}\\right\\|^2}_{\\text{preserve information}} + \\lambda \\underbrace{\\sum_i S\\left(\\frac{r_i}{\\sigma}\\right)}_{\\text{sparseness of}\\ r_i}\n",
    "$$\n",
    "\n",
    "ただし、$\\lambda$は正則化係数、$\\sigma$は定数(scaling constant)である。ここで、第一項が復元損失、第二項が罰則項 (係数が大きな値とならないようにする項)となっている。\n",
    "\n",
    "$S(x)$としては $-\\exp(-x^2), \\ln(1+x^2), |x|$ などの関数が用いられる。これらの関数は原点において尖った形状をしており、解が0になりやすくなっている。"
   ]
  },
  {
   "cell_type": "markdown",
   "metadata": {},
   "source": [
    "##  13.1.3 Locally Competitive Algorithm (LCA) \n",
    "$\\boldsymbol{r}$の勾配法による更新則は、目的関数 $E$の微分により次のように得られる。\n",
    "\n",
    "$$\n",
    "\\begin{align}\n",
    "\\frac{d \\boldsymbol{r}}{dt} &= -\\frac{\\eta_\\boldsymbol{r}}{2}\\frac{\\partial E}{\\partial \\boldsymbol{r}}\\\\\n",
    "&=\\eta_\\boldsymbol{r} \\cdot\\left[\\Phi^T (\\boldsymbol{I}-\\Phi\\boldsymbol{r})- \\frac{\\lambda}{2\\sigma}S'\\left(\\frac{r_i}{\\sigma}\\right)\\right]\n",
    "\\end{align}\n",
    "$$\n",
    "\n",
    "ただし、$\\eta_{\\boldsymbol{r}}$は学習率である。この式により$\\boldsymbol{r}$が収束するまで最適化するが、単なる勾配法ではなく、(Olshausen & Field, 1996)では**共役勾配法** (conjugate gradient method)を用いている。しかし、共役勾配法は実装が煩雑で非効率であるため、より効率的かつ生理学的な妥当性の高い学習法として、**LCA**  (locally competitive algorithm)が提案されている ([Rozell et al., *Neural Comput*. 2008](https://www.ece.rice.edu/~eld1/papers/Rozell08.pdf))。LCAは**側抑制** (local competition, lateral inhibition)と**閾値関数** (thresholding function)を用いる更新則である。LCAによる更新を行うRNNは通常のRNNとは異なり、コスト関数(またはエネルギー関数)を最小化する動的システムである。このような機構はHopfield networkで用いられているために、Olshausenは**Hopfield trick**と呼んでいる。"
   ]
  },
  {
   "cell_type": "markdown",
   "metadata": {},
   "source": [
    "### 軟判定閾値関数を用いる場合 (ISTA)\n",
    "$S(x)=|x|$とした場合の閾値関数を用いる手法として**ISTA**(Iterative Shrinkage Thresholding Algorithm)がある。ISTAはL1-norm正則化項に対する近接勾配法で、要はLasso回帰に用いる勾配法である。\n",
    "\n",
    "解くべき問題は次式で表される。\n",
    "\n",
    "$$\n",
    "\\boldsymbol{r} = \\mathop{\\rm arg~min}\\limits_{\\boldsymbol{r}}\\left\\{\\|\\boldsymbol{I}-\\Phi\\boldsymbol{r}\\|^2_2+\\lambda\\|\\boldsymbol{r}\\|_1\\right\\}\n",
    "$$\n",
    "\n",
    "詳細は後述するが、次のように更新することで解が得られる。\n",
    "\n",
    "1. $\\boldsymbol{r}(0)$を要素が全て0のベクトルで初期化\n",
    "2. $\\boldsymbol{r}_*(t+1)=\\boldsymbol{r}(t)+\\eta_\\boldsymbol{r}\\cdot \\Phi^T(\\boldsymbol{I}-\\Phi\\boldsymbol{r}(t))$\n",
    "3. $\\boldsymbol{r}(t+1) = S_\\lambda(\\boldsymbol{r}_*(t+1))$\n",
    "4. $\\boldsymbol{r}$が収束するまで2と3を繰り返す\n",
    "\n",
    "ここで$S_\\lambda(\\cdot)$は**軟判定閾値関数** (Soft thresholding function)と呼ばれ、次式で表される。\n",
    "\n",
    "$$\n",
    "S_\\lambda(y)= \n",
    "\\begin{cases} \n",
    "y-\\lambda & (y>\\lambda)\\\\ \n",
    "0 & (-\\lambda\\leq y\\leq\\lambda)\\\\ \n",
    " y+\\lambda & (y<-\\lambda) \n",
    "\\end{cases}\n",
    "$$\n",
    "\n",
    "$S_\\lambda(\\cdot)$を関数として定義すると次のようになる。"
   ]
  },
  {
   "cell_type": "code",
   "execution_count": 1,
   "metadata": {
    "execution": {
     "iopub.execute_input": "2020-07-25T15:40:30.345924Z",
     "iopub.status.busy": "2020-07-25T15:40:29.545068Z",
     "iopub.status.idle": "2020-07-25T15:40:31.275437Z",
     "shell.execute_reply": "2020-07-25T15:40:31.274443Z"
    }
   },
   "outputs": [
    {
     "data": {
      "text/plain": [
       "soft_thresholding_func (generic function with 1 method)"
      ]
     },
     "execution_count": 1,
     "metadata": {},
     "output_type": "execute_result"
    }
   ],
   "source": [
    "# thresholding function of S(x)=|x|\n",
    "function soft_thresholding_func(x, lmda)\n",
    "    max(x - lmda, 0) - max(-x - lmda, 0)\n",
    "end"
   ]
  },
  {
   "cell_type": "markdown",
   "metadata": {},
   "source": [
    "次に$S_\\lambda(\\cdot)$を描画すると次のようになる。ただし、先に`PyPlot`を読み込んでおく。"
   ]
  },
  {
   "cell_type": "code",
   "execution_count": 2,
   "metadata": {
    "execution": {
     "iopub.execute_input": "2020-07-25T15:40:31.276436Z",
     "iopub.status.busy": "2020-07-25T15:40:31.276436Z",
     "iopub.status.idle": "2020-07-25T15:40:35.574914Z",
     "shell.execute_reply": "2020-07-25T15:40:35.574914Z"
    }
   },
   "outputs": [],
   "source": [
    "using PyPlot"
   ]
  },
  {
   "cell_type": "code",
   "execution_count": 3,
   "metadata": {
    "execution": {
     "iopub.execute_input": "2020-07-25T15:40:36.019723Z",
     "iopub.status.busy": "2020-07-25T15:40:35.575910Z",
     "iopub.status.idle": "2020-07-25T15:40:39.286981Z",
     "shell.execute_reply": "2020-07-25T15:40:39.286981Z"
    }
   },
   "outputs": [
    {
     "data": {
      "image/png": "[encoded data removed]",
      "text/plain": [
       "Figure(PyObject <Figure size 500x400 with 1 Axes>)"
      ]
     },
     "metadata": {
      "filenames": {
       "image/png": "D:\\data\\Github\\compneuro-julia-management\\contents\\_build\\jupyter_execute\\13-1_sparse-coding_8_0.png"
      }
     },
     "output_type": "display_data"
    },
    {
     "data": {
      "text/plain": [
       "PyObject <matplotlib.legend.Legend object at 0x000000003EF2CD48>"
      ]
     },
     "execution_count": 3,
     "metadata": {},
     "output_type": "execute_result"
    }
   ],
   "source": [
    "x = range(-5, 5, length=100)\n",
    "y = soft_thresholding_func.(x, 1)\n",
    "\n",
    "\n",
    "figure(figsize=(5,4))\n",
    "plot(x, x, \"k--\", label=\"y=x\")\n",
    "plot(x, y, label=\"Soft thresholding (lambda=1)\")\n",
    "xlabel(\"x\")\n",
    "ylabel(\"S (x)\")\n",
    "legend()"
   ]
  },
  {
   "cell_type": "markdown",
   "metadata": {},
   "source": [
    "なお、Soft thresholding関数は次の目的関数$C$を最小化する$x$を求めることで導出できる。\n",
    "\n",
    "$$\n",
    "C=\\frac{1}{2}(y-x)^2+\\lambda |x|\n",
    "$$\n",
    "\n",
    "ただし、$x, y, \\lambda$はスカラー値とする。$|x|$が微分できないが、これは場合分けを考えることで解決する。$x\\geq 0$を考えると、(6)式は\n",
    "\n",
    "$$\n",
    "C=\\frac{1}{2}(y-x)^2+\\lambda x = \\{x-(y-\\lambda)\\}^2+\\lambda(y-\\lambda)\n",
    "$$\n",
    "\n",
    "となる。(7)式の最小値を与える$x$は場合分けをして考えると、$y-\\lambda\\geq0$のとき二次関数の頂点を考えて$x=y-\\lambda$となる。 一方で$y-\\lambda<0$のときは$x\\geq0$において単調増加な関数となるので、最小となるのは$x=0$のときである。同様の議論を$x\\leq0$に対しても行うことで (5)式が得られる。"
   ]
  },
  {
   "cell_type": "markdown",
   "metadata": {},
   "source": [
    "## 13.1.4 重み行列の更新則\n",
    "$\\boldsymbol{r}$が収束したら勾配法により$\\Phi$を更新する。\n",
    "\n",
    "$$\n",
    "\\begin{aligned}\n",
    "\\Delta \\phi_i(\\boldsymbol{x}) &= -\\eta \\frac{\\partial E}{\\partial \\Phi}\\\\\n",
    "&=\\eta\\cdot\\left[\\left([\\boldsymbol{I}-\\Phi\\boldsymbol{r}\\right)\\boldsymbol{r}^T\\right]\n",
    "\\end{aligned}\n",
    "$$"
   ]
  },
  {
   "cell_type": "markdown",
   "metadata": {},
   "source": [
    "## 13.1.5 Sparse coding networkの実装\n",
    "ネットワークは入力層を含め2層の単純な構造である。今回は、入力はランダムに切り出した16×16 (＝256)の画像パッチとし、これを入力層の256個のニューロンが受け取るとする。入力層のニューロンは次層の100個のニューロンに投射するとする。100個のニューロンが入力をSparseに符号化するようにその活動および重み行列を最適化する。"
   ]
  },
  {
   "cell_type": "markdown",
   "metadata": {},
   "source": [
    "### 画像データの読み込み\n",
    "データは<http://www.rctn.org/bruno/sparsenet/>からダウンロードできる。`IMAGES_RAW.mat`は10枚の自然画像で、`IMAGES.mat`はそれを白色化したものである。`mat`ファイルの読み込みには[MAT.jl](https://github.com/JuliaIO/MAT.jl)を用いる。"
   ]
  },
  {
   "cell_type": "code",
   "execution_count": 4,
   "metadata": {
    "execution": {
     "iopub.execute_input": "2020-07-25T15:40:39.288975Z",
     "iopub.status.busy": "2020-07-25T15:40:39.287978Z",
     "iopub.status.idle": "2020-07-25T15:40:42.918265Z",
     "shell.execute_reply": "2020-07-25T15:40:42.918265Z"
    }
   },
   "outputs": [],
   "source": [
    "using MAT"
   ]
  },
  {
   "cell_type": "code",
   "execution_count": 5,
   "metadata": {
    "execution": {
     "iopub.execute_input": "2020-07-25T15:40:42.920259Z",
     "iopub.status.busy": "2020-07-25T15:40:42.919261Z",
     "iopub.status.idle": "2020-07-25T15:40:44.542917Z",
     "shell.execute_reply": "2020-07-25T15:40:44.542917Z"
    }
   },
   "outputs": [],
   "source": [
    "# datasets from http://www.rctn.org/bruno/sparsenet/\n",
    "mat_images_raw = matopen(\"_static/datasets/IMAGES_RAW.mat\")\n",
    "imgs_raw = read(mat_images_raw, \"IMAGESr\")\n",
    "\n",
    "mat_images = matopen(\"_static/datasets/IMAGES.mat\")\n",
    "imgs = read(mat_images, \"IMAGES\")\n",
    "\n",
    "close(mat_images_raw)\n",
    "close(mat_images)"
   ]
  },
  {
   "cell_type": "markdown",
   "metadata": {},
   "source": [
    "画像データを描画する。"
   ]
  },
  {
   "cell_type": "code",
   "execution_count": 6,
   "metadata": {
    "execution": {
     "iopub.execute_input": "2020-07-25T15:40:44.544912Z",
     "iopub.status.busy": "2020-07-25T15:40:44.543914Z",
     "iopub.status.idle": "2020-07-25T15:40:45.469438Z",
     "shell.execute_reply": "2020-07-25T15:40:45.468440Z"
    }
   },
   "outputs": [
    {
     "data": {
      "image/png": "[encoded data removed]",
      "text/plain": [
       "Figure(PyObject <Figure size 800x300 with 10 Axes>)"
      ]
     },
     "metadata": {
      "filenames": {
       "image/png": "D:\\data\\Github\\compneuro-julia-management\\contents\\_build\\jupyter_execute\\13-1_sparse-coding_16_0.png"
      }
     },
     "output_type": "display_data"
    }
   ],
   "source": [
    "figure(figsize=(8, 3))\n",
    "subplots_adjust(hspace=0.1, wspace=0.1)\n",
    "for i=1:10\n",
    "    subplot(2, 5, i)\n",
    "    imshow(imgs_raw[:,:,i], cmap=\"gray\")\n",
    "    axis(\"off\")\n",
    "end\n",
    "suptitle(\"Natural Images\", fontsize=12)\n",
    "subplots_adjust(top=0.9)  "
   ]
  },
  {
   "cell_type": "markdown",
   "metadata": {},
   "source": [
    "### モデルの定義\n",
    "必要なパッケージを読み込む。"
   ]
  },
  {
   "cell_type": "code",
   "execution_count": 7,
   "metadata": {
    "execution": {
     "iopub.execute_input": "2020-07-25T15:40:45.470435Z",
     "iopub.status.busy": "2020-07-25T15:40:45.470435Z",
     "iopub.status.idle": "2020-07-25T15:40:45.556205Z",
     "shell.execute_reply": "2020-07-25T15:40:45.556205Z"
    }
   },
   "outputs": [],
   "source": [
    "using Base: @kwdef\n",
    "using Parameters: @unpack # or using UnPack\n",
    "using LinearAlgebra\n",
    "using Random\n",
    "using Statistics\n",
    "using ProgressMeter"
   ]
  },
  {
   "cell_type": "markdown",
   "metadata": {},
   "source": [
    "モデルを定義する。"
   ]
  },
  {
   "cell_type": "code",
   "execution_count": 8,
   "metadata": {
    "execution": {
     "iopub.execute_input": "2020-07-25T15:40:45.558200Z",
     "iopub.status.busy": "2020-07-25T15:40:45.557203Z",
     "iopub.status.idle": "2020-07-25T15:40:45.678877Z",
     "shell.execute_reply": "2020-07-25T15:40:45.678877Z"
    }
   },
   "outputs": [],
   "source": [
    "@kwdef struct OFParameter{FT}\n",
    "    lr_r::FT = 1e-2 # learning rate of r\n",
    "    lr_Phi::FT = 1e-2 # learning rate of Phi\n",
    "    lmda::FT = 5e-3 # regularization parameter\n",
    "end\n",
    "\n",
    "@kwdef mutable struct OlshausenField1996Model{FT}\n",
    "    param::OFParameter = OFParameter{FT}()\n",
    "    num_inputs::Int32\n",
    "    num_units::Int32\n",
    "    batch_size::Int32\n",
    "    r::Array{FT} = zeros(batch_size, num_units) # activity of neurons\n",
    "    Phi::Array{FT} = randn(num_inputs, num_units) .* sqrt(1/num_units)\n",
    "end"
   ]
  },
  {
   "cell_type": "markdown",
   "metadata": {},
   "source": [
    "パラメータを更新する関数を定義する。"
   ]
  },
  {
   "cell_type": "code",
   "execution_count": 9,
   "metadata": {
    "execution": {
     "iopub.execute_input": "2020-07-25T15:40:45.679875Z",
     "iopub.status.busy": "2020-07-25T15:40:45.679875Z",
     "iopub.status.idle": "2020-07-25T15:40:45.852413Z",
     "shell.execute_reply": "2020-07-25T15:40:45.851416Z"
    }
   },
   "outputs": [
    {
     "data": {
      "text/plain": [
       "updateOF! (generic function with 1 method)"
      ]
     },
     "execution_count": 9,
     "metadata": {},
     "output_type": "execute_result"
    }
   ],
   "source": [
    "function updateOF!(variable::OlshausenField1996Model, param::OFParameter, inputs::Array, training::Bool)\n",
    "    @unpack num_inputs, num_units, batch_size, r, Phi = variable\n",
    "    @unpack lr_r, lr_Phi, lmda = param\n",
    "\n",
    "    # Updates                \n",
    "    error = inputs .- r * Phi'\n",
    "    r_ = r +lr_r .* error * Phi\n",
    "\n",
    "    r[:, :] = soft_thresholding_func.(r_, lmda)\n",
    "\n",
    "    if training \n",
    "        error = inputs - r * Phi'\n",
    "        dPhi = error' * r\n",
    "        Phi[:, :] += lr_Phi * dPhi\n",
    "    end\n",
    "    \n",
    "    return error\n",
    "end"
   ]
  },
  {
   "cell_type": "markdown",
   "metadata": {},
   "source": [
    "行ごとに正規化する関数を定義する。"
   ]
  },
  {
   "cell_type": "code",
   "execution_count": 10,
   "metadata": {
    "execution": {
     "iopub.execute_input": "2020-07-25T15:40:45.853410Z",
     "iopub.status.busy": "2020-07-25T15:40:45.853410Z",
     "iopub.status.idle": "2020-07-25T15:40:45.920232Z",
     "shell.execute_reply": "2020-07-25T15:40:45.919234Z"
    }
   },
   "outputs": [
    {
     "data": {
      "text/plain": [
       "normalize_rows (generic function with 1 method)"
      ]
     },
     "execution_count": 10,
     "metadata": {},
     "output_type": "execute_result"
    }
   ],
   "source": [
    "function normalize_rows(A::Array)\n",
    "    return A ./ sqrt.(sum(A.^2, dims=1) .+ 1e-8)\n",
    "end"
   ]
  },
  {
   "cell_type": "markdown",
   "metadata": {},
   "source": [
    "損失関数を定義する。"
   ]
  },
  {
   "cell_type": "code",
   "execution_count": 11,
   "metadata": {
    "execution": {
     "iopub.execute_input": "2020-07-25T15:40:45.921229Z",
     "iopub.status.busy": "2020-07-25T15:40:45.921229Z",
     "iopub.status.idle": "2020-07-25T15:40:45.989048Z",
     "shell.execute_reply": "2020-07-25T15:40:45.989048Z"
    }
   },
   "outputs": [
    {
     "data": {
      "text/plain": [
       "calculate_total_error (generic function with 1 method)"
      ]
     },
     "execution_count": 11,
     "metadata": {},
     "output_type": "execute_result"
    }
   ],
   "source": [
    "function calculate_total_error(error, r, lmda)\n",
    "    recon_error = mean(error.^2)\n",
    "    sparsity_r = lmda*mean(abs.(r)) \n",
    "    return recon_error + sparsity_r\n",
    "end"
   ]
  },
  {
   "cell_type": "markdown",
   "metadata": {},
   "source": [
    "シミュレーションを実行する関数を定義する。外側の`for loop`では画像パッチの作成と`r`の初期化を行う。内側の`for loop`では`r`が収束するまで更新を行い、収束したときに重み行列`Phi`を更新する。"
   ]
  },
  {
   "cell_type": "code",
   "execution_count": 12,
   "metadata": {
    "execution": {
     "iopub.execute_input": "2020-07-25T15:40:45.991042Z",
     "iopub.status.busy": "2020-07-25T15:40:45.990044Z",
     "iopub.status.idle": "2020-07-25T15:40:46.290242Z",
     "shell.execute_reply": "2020-07-25T15:40:46.290242Z"
    }
   },
   "outputs": [
    {
     "data": {
      "text/plain": [
       "run_simulation (generic function with 1 method)"
      ]
     },
     "execution_count": 12,
     "metadata": {},
     "output_type": "execute_result"
    }
   ],
   "source": [
    "function run_simulation(imgs, num_iter, nt_max, batch_size, sz, num_units, eps)\n",
    "    H, W, num_images = size(imgs)\n",
    "    num_inputs = sz^2\n",
    "\n",
    "    model = OlshausenField1996Model{Float32}(num_inputs=num_inputs, num_units=num_units, batch_size=batch_size)\n",
    "    errorarr = zeros(num_iter) # Vector to save errors    \n",
    "    \n",
    "    # Run simulation\n",
    "    @showprogress \"Computing...\" for iter in 1:num_iter\n",
    "        # Get the coordinates of the upper left corner of clopping image randomly.\n",
    "        beginx = rand(1:W-sz, batch_size)\n",
    "        beginy = rand(1:H-sz, batch_size)\n",
    "\n",
    "        inputs = zeros(batch_size, num_inputs)  # Input image patches\n",
    "\n",
    "        # Get images randomly\n",
    "        for i in 1:batch_size        \n",
    "            idx = rand(1:num_images)\n",
    "            img = imgs[:, :, idx]\n",
    "            clop = img[beginy[i]:beginy[i]+sz-1, beginx[i]:beginx[i]+sz-1][:]\n",
    "            #clop = collect(flatten(img[beginy[i]:beginy[i]+sz-1, beginx[i]:beginx[i]+sz-1]))\n",
    "            inputs[i, :] = clop .- mean(clop)\n",
    "        end\n",
    "\n",
    "        model.r = zeros(batch_size, num_units) # Reset r states\n",
    "        model.Phi = normalize_rows(model.Phi) # Normalize weights\n",
    "        # Input image patches until latent variables are converged \n",
    "        r_tm1 = zeros(batch_size, num_units)  # set previous r (t minus 1)\n",
    "\n",
    "        for t in 1:nt_max\n",
    "            # Update r without update weights \n",
    "            error = updateOF!(model, model.param, inputs, false)\n",
    "\n",
    "            dr = model.r - r_tm1 \n",
    "\n",
    "            # Compute norm of r\n",
    "            dr_norm = sqrt(sum(dr.^2)) / sqrt(sum(r_tm1.^2) + 1e-8)\n",
    "            r_tm1 = copy(model.r) # update r_tm1\n",
    "\n",
    "            # Check convergence of r, then update weights\n",
    "            if dr_norm < eps\n",
    "                error = updateOF!(model, model.param, inputs, true)\n",
    "                errorarr[iter] = calculate_total_error(error, model.r, model.param.lmda) # Append errors\n",
    "                break\n",
    "            end\n",
    "\n",
    "            # If failure to convergence, break and print error\n",
    "            if t >= nt_max-1\n",
    "                print(\"Error at patch:\", iter_, dr_norm)\n",
    "                errorarr[iter] = calculate_total_error(error, model.r, model.param.lmda) # Append errors\n",
    "                break\n",
    "            end\n",
    "        end\n",
    "        \"\"\"\n",
    "        # Print moving average error\n",
    "        if iter % 100 == 0\n",
    "            moving_average_error = mean(errorarr[iter-99:iter])\n",
    "            println(\"iter: \", iter, \"/\", num_iter, \", Moving average error:\", moving_average_error)\n",
    "        end\n",
    "        \"\"\"\n",
    "    end\n",
    "    return model, errorarr\n",
    "end"
   ]
  },
  {
   "cell_type": "markdown",
   "metadata": {},
   "source": [
    "### シミュレーションの実行"
   ]
  },
  {
   "cell_type": "code",
   "execution_count": 13,
   "metadata": {
    "execution": {
     "iopub.execute_input": "2020-07-25T15:40:46.292236Z",
     "iopub.status.busy": "2020-07-25T15:40:46.291239Z",
     "iopub.status.idle": "2020-07-25T15:43:01.739884Z",
     "shell.execute_reply": "2020-07-25T15:43:01.739884Z"
    },
    "tags": [
     "remove-output"
    ]
   },
   "outputs": [
    {
     "name": "stderr",
     "output_type": "stream",
     "text": [
      "\r",
      "\u001b[32mComputing...  0%|█                                      |  ETA: 0:18:05\u001b[39m"
     ]
    },
    {
     "name": "stderr",
     "output_type": "stream",
     "text": [
      "\r",
      "\u001b[32mComputing...  0%|█                                      |  ETA: 0:10:48\u001b[39m"
     ]
    },
    {
     "name": "stderr",
     "output_type": "stream",
     "text": [
      "\r",
      "\u001b[32mComputing...  1%|█                                      |  ETA: 0:08:00\u001b[39m"
     ]
    },
    {
     "name": "stderr",
     "output_type": "stream",
     "text": [
      "\r",
      "\u001b[32mComputing...  1%|█                                      |  ETA: 0:06:35\u001b[39m"
     ]
    },
    {
     "name": "stderr",
     "output_type": "stream",
     "text": [
      "\r",
      "\u001b[32mComputing...  1%|█                                      |  ETA: 0:05:46\u001b[39m"
     ]
    },
    {
     "name": "stderr",
     "output_type": "stream",
     "text": [
      "\r",
      "\u001b[32mComputing...  1%|█                                      |  ETA: 0:05:12\u001b[39m"
     ]
    },
    {
     "name": "stderr",
     "output_type": "stream",
     "text": [
      "\r",
      "\u001b[32mComputing...  1%|█                                      |  ETA: 0:04:47\u001b[39m"
     ]
    },
    {
     "name": "stderr",
     "output_type": "stream",
     "text": [
      "\r",
      "\u001b[32mComputing...  2%|█                                      |  ETA: 0:04:29\u001b[39m"
     ]
    },
    {
     "name": "stderr",
     "output_type": "stream",
     "text": [
      "\r",
      "\u001b[32mComputing...  2%|█                                      |  ETA: 0:04:14\u001b[39m"
     ]
    },
    {
     "name": "stderr",
     "output_type": "stream",
     "text": [
      "\r",
      "\u001b[32mComputing...  2%|█                                      |  ETA: 0:04:03\u001b[39m"
     ]
    },
    {
     "name": "stderr",
     "output_type": "stream",
     "text": [
      "\r",
      "\u001b[32mComputing...  2%|█                                      |  ETA: 0:03:53\u001b[39m"
     ]
    },
    {
     "name": "stderr",
     "output_type": "stream",
     "text": [
      "\r",
      "\u001b[32mComputing...  2%|█                                      |  ETA: 0:03:45\u001b[39m"
     ]
    },
    {
     "name": "stderr",
     "output_type": "stream",
     "text": [
      "\r",
      "\u001b[32mComputing...  3%|██                                     |  ETA: 0:03:38\u001b[39m"
     ]
    },
    {
     "name": "stderr",
     "output_type": "stream",
     "text": [
      "\r",
      "\u001b[32mComputing...  3%|██                                     |  ETA: 0:03:32\u001b[39m"
     ]
    },
    {
     "name": "stderr",
     "output_type": "stream",
     "text": [
      "\r",
      "\u001b[32mComputing...  3%|██                                     |  ETA: 0:03:27\u001b[39m"
     ]
    },
    {
     "name": "stderr",
     "output_type": "stream",
     "text": [
      "\r",
      "\u001b[32mComputing...  3%|██                                     |  ETA: 0:03:22\u001b[39m"
     ]
    },
    {
     "name": "stderr",
     "output_type": "stream",
     "text": [
      "\r",
      "\u001b[32mComputing...  3%|██                                     |  ETA: 0:03:19\u001b[39m"
     ]
    },
    {
     "name": "stderr",
     "output_type": "stream",
     "text": [
      "\r",
      "\u001b[32mComputing...  4%|██                                     |  ETA: 0:03:15\u001b[39m"
     ]
    },
    {
     "name": "stderr",
     "output_type": "stream",
     "text": [
      "\r",
      "\u001b[32mComputing...  4%|██                                     |  ETA: 0:03:12\u001b[39m"
     ]
    },
    {
     "name": "stderr",
     "output_type": "stream",
     "text": [
      "\r",
      "\u001b[32mComputing...  4%|██                                     |  ETA: 0:03:09\u001b[39m"
     ]
    },
    {
     "name": "stderr",
     "output_type": "stream",
     "text": [
      "\r",
      "\u001b[32mComputing...  4%|██                                     |  ETA: 0:03:06\u001b[39m"
     ]
    },
    {
     "name": "stderr",
     "output_type": "stream",
     "text": [
      "\r",
      "\u001b[32mComputing...  4%|██                                     |  ETA: 0:03:03\u001b[39m"
     ]
    },
    {
     "name": "stderr",
     "output_type": "stream",
     "text": [
      "\r",
      "\u001b[32mComputing...  5%|██                                     |  ETA: 0:03:01\u001b[39m"
     ]
    },
    {
     "name": "stderr",
     "output_type": "stream",
     "text": [
      "\r",
      "\u001b[32mComputing...  5%|██                                     |  ETA: 0:02:59\u001b[39m"
     ]
    },
    {
     "name": "stderr",
     "output_type": "stream",
     "text": [
      "\r",
      "\u001b[32mComputing...  5%|██                                     |  ETA: 0:02:57\u001b[39m"
     ]
    },
    {
     "name": "stderr",
     "output_type": "stream",
     "text": [
      "\r",
      "\u001b[32mComputing...  5%|███                                    |  ETA: 0:02:55\u001b[39m"
     ]
    },
    {
     "name": "stderr",
     "output_type": "stream",
     "text": [
      "\r",
      "\u001b[32mComputing...  5%|███                                    |  ETA: 0:02:53\u001b[39m"
     ]
    },
    {
     "name": "stderr",
     "output_type": "stream",
     "text": [
      "\r",
      "\u001b[32mComputing...  6%|███                                    |  ETA: 0:02:51\u001b[39m"
     ]
    },
    {
     "name": "stderr",
     "output_type": "stream",
     "text": [
      "\r",
      "\u001b[32mComputing...  6%|███                                    |  ETA: 0:02:49\u001b[39m"
     ]
    },
    {
     "name": "stderr",
     "output_type": "stream",
     "text": [
      "\r",
      "\u001b[32mComputing...  6%|███                                    |  ETA: 0:02:48\u001b[39m"
     ]
    },
    {
     "name": "stderr",
     "output_type": "stream",
     "text": [
      "\r",
      "\u001b[32mComputing...  6%|███                                    |  ETA: 0:02:46\u001b[39m"
     ]
    },
    {
     "name": "stderr",
     "output_type": "stream",
     "text": [
      "\r",
      "\u001b[32mComputing...  6%|███                                    |  ETA: 0:02:45\u001b[39m"
     ]
    },
    {
     "name": "stderr",
     "output_type": "stream",
     "text": [
      "\r",
      "\u001b[32mComputing...  7%|███                                    |  ETA: 0:02:43\u001b[39m"
     ]
    },
    {
     "name": "stderr",
     "output_type": "stream",
     "text": [
      "\r",
      "\u001b[32mComputing...  7%|███                                    |  ETA: 0:02:42\u001b[39m"
     ]
    },
    {
     "name": "stderr",
     "output_type": "stream",
     "text": [
      "\r",
      "\u001b[32mComputing...  7%|███                                    |  ETA: 0:02:40\u001b[39m"
     ]
    },
    {
     "name": "stderr",
     "output_type": "stream",
     "text": [
      "\r",
      "\u001b[32mComputing...  7%|███                                    |  ETA: 0:02:39\u001b[39m"
     ]
    },
    {
     "name": "stderr",
     "output_type": "stream",
     "text": [
      "\r",
      "\u001b[32mComputing...  7%|███                                    |  ETA: 0:02:37\u001b[39m"
     ]
    },
    {
     "name": "stderr",
     "output_type": "stream",
     "text": [
      "\r",
      "\u001b[32mComputing...  8%|███                                    |  ETA: 0:02:36\u001b[39m"
     ]
    },
    {
     "name": "stderr",
     "output_type": "stream",
     "text": [
      "\r",
      "\u001b[32mComputing...  8%|████                                   |  ETA: 0:02:35\u001b[39m"
     ]
    },
    {
     "name": "stderr",
     "output_type": "stream",
     "text": [
      "\r",
      "\u001b[32mComputing...  8%|████                                   |  ETA: 0:02:34\u001b[39m"
     ]
    },
    {
     "name": "stderr",
     "output_type": "stream",
     "text": [
      "\r",
      "\u001b[32mComputing...  8%|████                                   |  ETA: 0:02:33\u001b[39m"
     ]
    },
    {
     "name": "stderr",
     "output_type": "stream",
     "text": [
      "\r",
      "\u001b[32mComputing...  8%|████                                   |  ETA: 0:02:32\u001b[39m"
     ]
    },
    {
     "name": "stderr",
     "output_type": "stream",
     "text": [
      "\r",
      "\u001b[32mComputing...  9%|████                                   |  ETA: 0:02:31\u001b[39m"
     ]
    },
    {
     "name": "stderr",
     "output_type": "stream",
     "text": [
      "\r",
      "\u001b[32mComputing...  9%|████                                   |  ETA: 0:02:30\u001b[39m"
     ]
    },
    {
     "name": "stderr",
     "output_type": "stream",
     "text": [
      "\r",
      "\u001b[32mComputing...  9%|████                                   |  ETA: 0:02:29\u001b[39m"
     ]
    },
    {
     "name": "stderr",
     "output_type": "stream",
     "text": [
      "\r",
      "\u001b[32mComputing...  9%|████                                   |  ETA: 0:02:28\u001b[39m"
     ]
    },
    {
     "name": "stderr",
     "output_type": "stream",
     "text": [
      "\r",
      "\u001b[32mComputing...  9%|████                                   |  ETA: 0:02:27\u001b[39m"
     ]
    },
    {
     "name": "stderr",
     "output_type": "stream",
     "text": [
      "\r",
      "\u001b[32mComputing... 10%|████                                   |  ETA: 0:02:26\u001b[39m"
     ]
    },
    {
     "name": "stderr",
     "output_type": "stream",
     "text": [
      "\r",
      "\u001b[32mComputing... 10%|████                                   |  ETA: 0:02:25\u001b[39m"
     ]
    },
    {
     "name": "stderr",
     "output_type": "stream",
     "text": [
      "\r",
      "\u001b[32mComputing... 10%|████                                   |  ETA: 0:02:24\u001b[39m"
     ]
    },
    {
     "name": "stderr",
     "output_type": "stream",
     "text": [
      "\r",
      "\u001b[32mComputing... 10%|████                                   |  ETA: 0:02:23\u001b[39m"
     ]
    },
    {
     "name": "stderr",
     "output_type": "stream",
     "text": [
      "\r",
      "\u001b[32mComputing... 10%|█████                                  |  ETA: 0:02:23\u001b[39m"
     ]
    },
    {
     "name": "stderr",
     "output_type": "stream",
     "text": [
      "\r",
      "\u001b[32mComputing... 11%|█████                                  |  ETA: 0:02:22\u001b[39m"
     ]
    },
    {
     "name": "stderr",
     "output_type": "stream",
     "text": [
      "\r",
      "\u001b[32mComputing... 11%|█████                                  |  ETA: 0:02:21\u001b[39m"
     ]
    },
    {
     "name": "stderr",
     "output_type": "stream",
     "text": [
      "\r",
      "\u001b[32mComputing... 11%|█████                                  |  ETA: 0:02:20\u001b[39m"
     ]
    },
    {
     "name": "stderr",
     "output_type": "stream",
     "text": [
      "\r",
      "\u001b[32mComputing... 11%|█████                                  |  ETA: 0:02:20\u001b[39m"
     ]
    },
    {
     "name": "stderr",
     "output_type": "stream",
     "text": [
      "\r",
      "\u001b[32mComputing... 11%|█████                                  |  ETA: 0:02:19\u001b[39m"
     ]
    },
    {
     "name": "stderr",
     "output_type": "stream",
     "text": [
      "\r",
      "\u001b[32mComputing... 12%|█████                                  |  ETA: 0:02:18\u001b[39m"
     ]
    },
    {
     "name": "stderr",
     "output_type": "stream",
     "text": [
      "\r",
      "\u001b[32mComputing... 12%|█████                                  |  ETA: 0:02:18\u001b[39m"
     ]
    },
    {
     "name": "stderr",
     "output_type": "stream",
     "text": [
      "\r",
      "\u001b[32mComputing... 12%|█████                                  |  ETA: 0:02:17\u001b[39m"
     ]
    },
    {
     "name": "stderr",
     "output_type": "stream",
     "text": [
      "\r",
      "\u001b[32mComputing... 12%|█████                                  |  ETA: 0:02:16\u001b[39m"
     ]
    },
    {
     "name": "stderr",
     "output_type": "stream",
     "text": [
      "\r",
      "\u001b[32mComputing... 12%|█████                                  |  ETA: 0:02:16\u001b[39m"
     ]
    },
    {
     "name": "stderr",
     "output_type": "stream",
     "text": [
      "\r",
      "\u001b[32mComputing... 13%|█████                                  |  ETA: 0:02:15\u001b[39m"
     ]
    },
    {
     "name": "stderr",
     "output_type": "stream",
     "text": [
      "\r",
      "\u001b[32mComputing... 13%|█████                                  |  ETA: 0:02:16\u001b[39m"
     ]
    },
    {
     "name": "stderr",
     "output_type": "stream",
     "text": [
      "\r",
      "\u001b[32mComputing... 13%|██████                                 |  ETA: 0:02:15\u001b[3"
     ]
    },
    {
     "name": "stderr",
     "output_type": "stream",
     "text": [
      "9m\r",
      "\u001b[32mComputing... 13%|██████                                 |  ETA: 0:02:14\u001b[39m"
     ]
    },
    {
     "name": "stderr",
     "output_type": "stream",
     "text": [
      "\r",
      "\u001b[32mComputing... 13%|██████                                 |  ETA: 0:02:14\u001b[39m"
     ]
    },
    {
     "name": "stderr",
     "output_type": "stream",
     "text": [
      "\r",
      "\u001b[32mComputing... 14%|██████                                 |  ETA: 0:02:13\u001b[39m"
     ]
    },
    {
     "name": "stderr",
     "output_type": "stream",
     "text": [
      "\r",
      "\u001b[32mComputing... 14%|██████                                 |  ETA: 0:02:12\u001b[39m"
     ]
    },
    {
     "name": "stderr",
     "output_type": "stream",
     "text": [
      "\r",
      "\u001b[32mComputing... 14%|██████                                 |  ETA: 0:02:12\u001b[39m"
     ]
    },
    {
     "name": "stderr",
     "output_type": "stream",
     "text": [
      "\r",
      "\u001b[32mComputing... 14%|██████                                 |  ETA: 0:02:11\u001b[39m"
     ]
    },
    {
     "name": "stderr",
     "output_type": "stream",
     "text": [
      "\r",
      "\u001b[32mComputing... 14%|██████                                 |  ETA: 0:02:11\u001b[39m"
     ]
    },
    {
     "name": "stderr",
     "output_type": "stream",
     "text": [
      "\r",
      "\u001b[32mComputing... 15%|██████                                 |  ETA: 0:02:10\u001b[39m"
     ]
    },
    {
     "name": "stderr",
     "output_type": "stream",
     "text": [
      "\r",
      "\u001b[32mComputing... 15%|██████                                 |  ETA: 0:02:09\u001b[39m"
     ]
    },
    {
     "name": "stderr",
     "output_type": "stream",
     "text": [
      "\r",
      "\u001b[32mComputing... 15%|██████                                 |  ETA: 0:02:09\u001b[39m"
     ]
    },
    {
     "name": "stderr",
     "output_type": "stream",
     "text": [
      "\r",
      "\u001b[32mComputing... 15%|██████                                 |  ETA: 0:02:08\u001b[39m"
     ]
    },
    {
     "name": "stderr",
     "output_type": "stream",
     "text": [
      "\r",
      "\u001b[32mComputing... 15%|███████                                |  ETA: 0:02:08\u001b[39m"
     ]
    },
    {
     "name": "stderr",
     "output_type": "stream",
     "text": [
      "\r",
      "\u001b[32mComputing... 16%|███████                                |  ETA: 0:02:07\u001b[39m"
     ]
    },
    {
     "name": "stderr",
     "output_type": "stream",
     "text": [
      "\r",
      "\u001b[32mComputing... 16%|███████                                |  ETA: 0:02:07\u001b[39m"
     ]
    },
    {
     "name": "stderr",
     "output_type": "stream",
     "text": [
      "\r",
      "\u001b[32mComputing... 16%|███████                                |  ETA: 0:02:06\u001b[39m"
     ]
    },
    {
     "name": "stderr",
     "output_type": "stream",
     "text": [
      "\r",
      "\u001b[32mComputing... 16%|███████                                |  ETA: 0:02:05\u001b[39m"
     ]
    },
    {
     "name": "stderr",
     "output_type": "stream",
     "text": [
      "\r",
      "\u001b[32mComputing... 16%|███████                                |  ETA: 0:02:05\u001b[39m"
     ]
    },
    {
     "name": "stderr",
     "output_type": "stream",
     "text": [
      "\r",
      "\u001b[32mComputing... 17%|███████                                |  ETA: 0:02:04\u001b[39m"
     ]
    },
    {
     "name": "stderr",
     "output_type": "stream",
     "text": [
      "\r",
      "\u001b[32mComputing... 17%|███████                                |  ETA: 0:02:04\u001b[39m"
     ]
    },
    {
     "name": "stderr",
     "output_type": "stream",
     "text": [
      "\r",
      "\u001b[32mComputing... 17%|███████                                |  ETA: 0:02:03\u001b[39m"
     ]
    },
    {
     "name": "stderr",
     "output_type": "stream",
     "text": [
      "\r",
      "\u001b[32mComputing... 17%|███████                                |  ETA: 0:02:03\u001b[39m"
     ]
    },
    {
     "name": "stderr",
     "output_type": "stream",
     "text": [
      "\r",
      "\u001b[32mComputing... 17%|███████                                |  ETA: 0:02:02\u001b[39m"
     ]
    },
    {
     "name": "stderr",
     "output_type": "stream",
     "text": [
      "\r",
      "\u001b[32mComputing... 18%|███████                                |  ETA: 0:02:02\u001b[39m"
     ]
    },
    {
     "name": "stderr",
     "output_type": "stream",
     "text": [
      "\r",
      "\u001b[32mComputing... 18%|███████                                |  ETA: 0:02:02\u001b[39m"
     ]
    },
    {
     "name": "stderr",
     "output_type": "stream",
     "text": [
      "\r",
      "\u001b[32mComputing... 18%|████████                               |  ETA: 0:02:01\u001b[39m"
     ]
    },
    {
     "name": "stderr",
     "output_type": "stream",
     "text": [
      "\r",
      "\u001b[32mComputing... 18%|████████                               |  ETA: 0:02:01\u001b[39m"
     ]
    },
    {
     "name": "stderr",
     "output_type": "stream",
     "text": [
      "\r",
      "\u001b[32mComputing... 18%|████████                               |  ETA: 0:02:00\u001b[39m"
     ]
    },
    {
     "name": "stderr",
     "output_type": "stream",
     "text": [
      "\r",
      "\u001b[32mComputing... 19%|████████                               |  ETA: 0:02:00\u001b[39m"
     ]
    },
    {
     "name": "stderr",
     "output_type": "stream",
     "text": [
      "\r",
      "\u001b[32mComputing... 19%|████████                               |  ETA: 0:01:59\u001b[39m"
     ]
    },
    {
     "name": "stderr",
     "output_type": "stream",
     "text": [
      "\r",
      "\u001b[32mComputing... 19%|████████                               |  ETA: 0:01:59\u001b[39m"
     ]
    },
    {
     "name": "stderr",
     "output_type": "stream",
     "text": [
      "\r",
      "\u001b[32mComputing... 19%|████████                               |  ETA: 0:01:58\u001b[39m"
     ]
    },
    {
     "name": "stderr",
     "output_type": "stream",
     "text": [
      "\r",
      "\u001b[32mComputing... 19%|████████                               |  ETA: 0:01:58\u001b[39m"
     ]
    },
    {
     "name": "stderr",
     "output_type": "stream",
     "text": [
      "\r",
      "\u001b[32mComputing... 20%|████████                               |  ETA: 0:01:57\u001b[39m"
     ]
    },
    {
     "name": "stderr",
     "output_type": "stream",
     "text": [
      "\r",
      "\u001b[32mComputing... 20%|████████                               |  ETA: 0:01:57\u001b[39m"
     ]
    },
    {
     "name": "stderr",
     "output_type": "stream",
     "text": [
      "\r",
      "\u001b[32mComputing... 20%|████████                               |  ETA: 0:01:57\u001b[39m"
     ]
    },
    {
     "name": "stderr",
     "output_type": "stream",
     "text": [
      "\r",
      "\u001b[32mComputing... 20%|████████                               |  ETA: 0:01:56\u001b[39m"
     ]
    },
    {
     "name": "stderr",
     "output_type": "stream",
     "text": [
      "\r",
      "\u001b[32mComputing... 20%|████████                               |  ETA: 0:01:56\u001b[39m"
     ]
    },
    {
     "name": "stderr",
     "output_type": "stream",
     "text": [
      "\r",
      "\u001b[32mComputing... 21%|█████████                              |  ETA: 0:01:55\u001b[39m"
     ]
    },
    {
     "name": "stderr",
     "output_type": "stream",
     "text": [
      "\r",
      "\u001b[32mComputing... 21%|█████████                              |  ETA: 0:01:55\u001b[39m"
     ]
    },
    {
     "name": "stderr",
     "output_type": "stream",
     "text": [
      "\r",
      "\u001b[32mComputing... 21%|█████████                              |  ETA: 0:01:55\u001b[39m"
     ]
    },
    {
     "name": "stderr",
     "output_type": "stream",
     "text": [
      "\r",
      "\u001b[32mComputing... 21%|█████████                              |  ETA: 0:01:54\u001b[39m"
     ]
    },
    {
     "name": "stderr",
     "output_type": "stream",
     "text": [
      "\r",
      "\u001b[32mComputing... 21%|█████████                              |  ETA: 0:01:54\u001b[39m"
     ]
    },
    {
     "name": "stderr",
     "output_type": "stream",
     "text": [
      "\r",
      "\u001b[32mComputing... 22%|█████████                              |  ETA: 0:01:53\u001b[39m"
     ]
    },
    {
     "name": "stderr",
     "output_type": "stream",
     "text": [
      "\r",
      "\u001b[32mComputing... 22%|█████████                              |  ETA: 0:01:53\u001b[39m"
     ]
    },
    {
     "name": "stderr",
     "output_type": "stream",
     "text": [
      "\r",
      "\u001b[32mComputing... 22%|█████████                              |  ETA: 0:01:53\u001b[39m"
     ]
    },
    {
     "name": "stderr",
     "output_type": "stream",
     "text": [
      "\r",
      "\u001b[32mComputing... 22%|█████████                              |  ETA: 0:01:52\u001b[39m"
     ]
    },
    {
     "name": "stderr",
     "output_type": "stream",
     "text": [
      "\r",
      "\u001b[32mComputing... 22%|█████████                              |  ETA: 0:01:52\u001b[39m"
     ]
    },
    {
     "name": "stderr",
     "output_type": "stream",
     "text": [
      "\r",
      "\u001b[32mComputing... 23%|█████████                              |  ETA: 0:01:51\u001b[39m"
     ]
    },
    {
     "name": "stderr",
     "output_type": "stream",
     "text": [
      "\r",
      "\u001b[32mComputing... 23%|█████████                              |  ETA: 0:01:51\u001b[39m"
     ]
    },
    {
     "name": "stderr",
     "output_type": "stream",
     "text": [
      "\r",
      "\u001b[32mComputing... 23%|█████████                              |  ETA: 0:01:51\u001b[39m"
     ]
    },
    {
     "name": "stderr",
     "output_type": "stream",
     "text": [
      "\r",
      "\u001b[32mComputing... 23%|██████████                             |  ETA: 0:01:50\u001b[39m"
     ]
    },
    {
     "name": "stderr",
     "output_type": "stream",
     "text": [
      "\r",
      "\u001b[32mComputing... 23%|██████████                             |  ETA: 0:01:50\u001b[39m"
     ]
    },
    {
     "name": "stderr",
     "output_type": "stream",
     "text": [
      "\r",
      "\u001b[32mComputing... 24%|██████████                             |  ETA: 0:01:49\u001b[39m"
     ]
    },
    {
     "name": "stderr",
     "output_type": "stream",
     "text": [
      "\r",
      "\u001b[32mComputing... 24%|██████████                             |  ETA: 0:01:49\u001b[39m"
     ]
    },
    {
     "name": "stderr",
     "output_type": "stream",
     "text": [
      "\r",
      "\u001b[32mComputing... 24%|██████████                             |  ETA: 0:01:49\u001b[39m"
     ]
    },
    {
     "name": "stderr",
     "output_type": "stream",
     "text": [
      "\r",
      "\u001b[32mComputing... 24%|██████████                             |  ETA: 0:01:48\u001b[39m"
     ]
    },
    {
     "name": "stderr",
     "output_type": "stream",
     "text": [
      "\r",
      "\u001b[32mComputing... 24%|██████████                             |  ETA: 0:01:48\u001b[39m"
     ]
    },
    {
     "name": "stderr",
     "output_type": "stream",
     "text": [
      "\r",
      "\u001b[32mComputing... 25%|██████████                             |  ETA: 0:01:48\u001b[39m"
     ]
    },
    {
     "name": "stderr",
     "output_type": "stream",
     "text": [
      "\r",
      "\u001b[32mComputing... 25%|██████████                             |  ETA: 0:01:47\u001b[39m"
     ]
    },
    {
     "name": "stderr",
     "output_type": "stream",
     "text": [
      "\r",
      "\u001b[32mComputing... 25%|██████████                             |  ETA: 0:01:47\u001b[39m"
     ]
    },
    {
     "name": "stderr",
     "output_type": "stream",
     "text": [
      "\r",
      "\u001b[32mComputing... 25%|██████████                             |  ETA: 0:01:47\u001b[39m"
     ]
    },
    {
     "name": "stderr",
     "output_type": "stream",
     "text": [
      "\r",
      "\u001b[32mComputing... 25%|██████████                             |  ETA: 0:01:46\u001b[39m"
     ]
    },
    {
     "name": "stderr",
     "output_type": "stream",
     "text": [
      "\r",
      "\u001b[32mComputing... 26%|██████████                             |  ETA: 0:01:46\u001b[39m"
     ]
    },
    {
     "name": "stderr",
     "output_type": "stream",
     "text": [
      "\r",
      "\u001b[32mComputing... 26%|███████████                            |  ETA: 0:01:45\u001b[39m"
     ]
    },
    {
     "name": "stderr",
     "output_type": "stream",
     "text": [
      "\r",
      "\u001b[32mComputing... 26%|███████████                            |  ETA: 0:01:45\u001b[39m"
     ]
    },
    {
     "name": "stderr",
     "output_type": "stream",
     "text": [
      "\r",
      "\u001b[32mComputing... 26%|███████████                            |  ETA: 0:01:45\u001b[39"
     ]
    },
    {
     "name": "stderr",
     "output_type": "stream",
     "text": [
      "m\r",
      "\u001b[32mComputing... 26%|███████████                            |  ETA: 0:01:44\u001b[39m"
     ]
    },
    {
     "name": "stderr",
     "output_type": "stream",
     "text": [
      "\r",
      "\u001b[32mComputing... 27%|███████████                            |  ETA: 0:01:44\u001b[39"
     ]
    },
    {
     "name": "stderr",
     "output_type": "stream",
     "text": [
      "m\r",
      "\u001b[32mComputing... 27%|███████████                            |  ETA: 0:01:44\u001b[39m"
     ]
    },
    {
     "name": "stderr",
     "output_type": "stream",
     "text": [
      "\r",
      "\u001b[32mComputing... 27%|███████████                            |  ETA: 0:01:43\u001b[39"
     ]
    },
    {
     "name": "stderr",
     "output_type": "stream",
     "text": [
      "m\r",
      "\u001b[32mComputing... 27%|███████████                            |  ETA: 0:01:43\u001b[39m"
     ]
    },
    {
     "name": "stderr",
     "output_type": "stream",
     "text": [
      "\r",
      "\u001b[32mComputing... 27%|███████████                            |  ETA: 0:01:43\u001b[39m"
     ]
    },
    {
     "name": "stderr",
     "output_type": "stream",
     "text": [
      "\r",
      "\u001b[32mComputing... 28%|███████████                            |  ETA: 0:01:42\u001b[39m"
     ]
    },
    {
     "name": "stderr",
     "output_type": "stream",
     "text": [
      "\r",
      "\u001b[32mComputing... 28%|███████████                            |  ETA: 0:01:42\u001b[39m"
     ]
    },
    {
     "name": "stderr",
     "output_type": "stream",
     "text": [
      "\r",
      "\u001b[32mComputing... 28%|███████████                            |  ETA: 0:01:42\u001b[39m"
     ]
    },
    {
     "name": "stderr",
     "output_type": "stream",
     "text": [
      "\r",
      "\u001b[32mComputing... 28%|███████████                            |  ETA: 0:01:41\u001b[39m"
     ]
    },
    {
     "name": "stderr",
     "output_type": "stream",
     "text": [
      "\r",
      "\u001b[32mComputing... 28%|████████████                           |  ETA: 0:01:41\u001b[39m"
     ]
    },
    {
     "name": "stderr",
     "output_type": "stream",
     "text": [
      "\r",
      "\u001b[32mComputing... 29%|████████████                           |  ETA: 0:01:41\u001b[39m"
     ]
    },
    {
     "name": "stderr",
     "output_type": "stream",
     "text": [
      "\r",
      "\u001b[32mComputing... 29%|████████████                           |  ETA: 0:01:40\u001b[39m"
     ]
    },
    {
     "name": "stderr",
     "output_type": "stream",
     "text": [
      "\r",
      "\u001b[32mComputing... 29%|████████████                           |  ETA: 0:01:40\u001b[39m"
     ]
    },
    {
     "name": "stderr",
     "output_type": "stream",
     "text": [
      "\r",
      "\u001b[32mComputing... 29%|████████████                           |  ETA: 0:01:40\u001b[39m"
     ]
    },
    {
     "name": "stderr",
     "output_type": "stream",
     "text": [
      "\r",
      "\u001b[32mComputing... 29%|████████████                           |  ETA: 0:01:39\u001b[39m"
     ]
    },
    {
     "name": "stderr",
     "output_type": "stream",
     "text": [
      "\r",
      "\u001b[32mComputing... 30%|████████████                           |  ETA: 0:01:39\u001b[39m"
     ]
    },
    {
     "name": "stderr",
     "output_type": "stream",
     "text": [
      "\r",
      "\u001b[32mComputing... 30%|████████████                           |  ETA: 0:01:39\u001b[39m"
     ]
    },
    {
     "name": "stderr",
     "output_type": "stream",
     "text": [
      "\r",
      "\u001b[32mComputing... 30%|████████████                           |  ETA: 0:01:38\u001b[39m"
     ]
    },
    {
     "name": "stderr",
     "output_type": "stream",
     "text": [
      "\r",
      "\u001b[32mComputing... 30%|████████████                           |  ETA: 0:01:38\u001b[39m"
     ]
    },
    {
     "name": "stderr",
     "output_type": "stream",
     "text": [
      "\r",
      "\u001b[32mComputing... 30%|████████████                           |  ETA: 0:01:38\u001b[39m"
     ]
    },
    {
     "name": "stderr",
     "output_type": "stream",
     "text": [
      "\r",
      "\u001b[32mComputing... 31%|████████████                           |  ETA: 0:01:37\u001b[39m"
     ]
    },
    {
     "name": "stderr",
     "output_type": "stream",
     "text": [
      "\r",
      "\u001b[32mComputing... 31%|█████████████                          |  ETA: 0:01:37\u001b[39m"
     ]
    },
    {
     "name": "stderr",
     "output_type": "stream",
     "text": [
      "\r",
      "\u001b[32mComputing... 31%|█████████████                          |  ETA: 0:01:37\u001b[39m"
     ]
    },
    {
     "name": "stderr",
     "output_type": "stream",
     "text": [
      "\r",
      "\u001b[32mComputing... 31%|█████████████                          |  ETA: 0:01:36\u001b[39m"
     ]
    },
    {
     "name": "stderr",
     "output_type": "stream",
     "text": [
      "\r",
      "\u001b[32mComputing... 31%|█████████████                          |  ETA: 0:01:36\u001b[39m"
     ]
    },
    {
     "name": "stderr",
     "output_type": "stream",
     "text": [
      "\r",
      "\u001b[32mComputing... 32%|█████████████                          |  ETA: 0:01:36\u001b[39m"
     ]
    },
    {
     "name": "stderr",
     "output_type": "stream",
     "text": [
      "\r",
      "\u001b[32mComputing... 32%|█████████████                          |  ETA: 0:01:35\u001b[39m"
     ]
    },
    {
     "name": "stderr",
     "output_type": "stream",
     "text": [
      "\r",
      "\u001b[32mComputing... 32%|█████████████                          |  ETA: 0:01:35\u001b[39m"
     ]
    },
    {
     "name": "stderr",
     "output_type": "stream",
     "text": [
      "\r",
      "\u001b[32mComputing... 32%|█████████████                          |  ETA: 0:01:35\u001b[39m"
     ]
    },
    {
     "name": "stderr",
     "output_type": "stream",
     "text": [
      "\r",
      "\u001b[32mComputing... 32%|█████████████                          |  ETA: 0:01:34\u001b[39m"
     ]
    },
    {
     "name": "stderr",
     "output_type": "stream",
     "text": [
      "\r",
      "\u001b[32mComputing... 33%|█████████████                          |  ETA: 0:01:34\u001b[39m"
     ]
    },
    {
     "name": "stderr",
     "output_type": "stream",
     "text": [
      "\r",
      "\u001b[32mComputing... 33%|█████████████                          |  ETA: 0:01:34\u001b[39m"
     ]
    },
    {
     "name": "stderr",
     "output_type": "stream",
     "text": [
      "\r",
      "\u001b[32mComputing... 33%|█████████████                          |  ETA: 0:01:33\u001b[39m"
     ]
    },
    {
     "name": "stderr",
     "output_type": "stream",
     "text": [
      "\r",
      "\u001b[32mComputing... 33%|█████████████                          |  ETA: 0:01:33\u001b[39m"
     ]
    },
    {
     "name": "stderr",
     "output_type": "stream",
     "text": [
      "\r",
      "\u001b[32mComputing... 33%|██████████████                         |  ETA: 0:01:33\u001b[39m"
     ]
    },
    {
     "name": "stderr",
     "output_type": "stream",
     "text": [
      "\r",
      "\u001b[32mComputing... 34%|██████████████                         |  ETA: 0:01:32\u001b[39m"
     ]
    },
    {
     "name": "stderr",
     "output_type": "stream",
     "text": [
      "\r",
      "\u001b[32mComputing... 34%|██████████████                         |  ETA: 0:01:32\u001b[39m"
     ]
    },
    {
     "name": "stderr",
     "output_type": "stream",
     "text": [
      "\r",
      "\u001b[32mComputing... 34%|██████████████                         |  ETA: 0:01:32\u001b[39m"
     ]
    },
    {
     "name": "stderr",
     "output_type": "stream",
     "text": [
      "\r",
      "\u001b[32mComputing... 34%|██████████████                         |  ETA: 0:01:31\u001b[39m"
     ]
    },
    {
     "name": "stderr",
     "output_type": "stream",
     "text": [
      "\r",
      "\u001b[32mComputing... 34%|██████████████                         |  ETA: 0:01:31\u001b[39m"
     ]
    },
    {
     "name": "stderr",
     "output_type": "stream",
     "text": [
      "\r",
      "\u001b[32mComputing... 35%|██████████████                         |  ETA: 0:01:31\u001b[39m"
     ]
    },
    {
     "name": "stderr",
     "output_type": "stream",
     "text": [
      "\r",
      "\u001b[32mComputing... 35%|██████████████                         |  ETA: 0:01:31\u001b[39m"
     ]
    },
    {
     "name": "stderr",
     "output_type": "stream",
     "text": [
      "\r",
      "\u001b[32mComputing... 35%|██████████████                         |  ETA: 0:01:30\u001b[39m"
     ]
    },
    {
     "name": "stderr",
     "output_type": "stream",
     "text": [
      "\r",
      "\u001b[32mComputing... 35%|██████████████                         |  ETA: 0:01:30\u001b[39m"
     ]
    },
    {
     "name": "stderr",
     "output_type": "stream",
     "text": [
      "\r",
      "\u001b[32mComputing... 35%|██████████████                         |  ETA: 0:01:30\u001b[39m"
     ]
    },
    {
     "name": "stderr",
     "output_type": "stream",
     "text": [
      "\r",
      "\u001b[32mComputing... 36%|██████████████                         |  ETA: 0:01:29\u001b[39m"
     ]
    },
    {
     "name": "stderr",
     "output_type": "stream",
     "text": [
      "\r",
      "\u001b[32mComputing... 36%|██████████████                         |  ETA: 0:01:29\u001b[39m"
     ]
    },
    {
     "name": "stderr",
     "output_type": "stream",
     "text": [
      "\r",
      "\u001b[32mComputing... 36%|███████████████                        |  ETA: 0:01:29\u001b[39m"
     ]
    },
    {
     "name": "stderr",
     "output_type": "stream",
     "text": [
      "\r",
      "\u001b[32mComputing... 36%|███████████████                        |  ETA: 0:01:29\u001b[39m"
     ]
    },
    {
     "name": "stderr",
     "output_type": "stream",
     "text": [
      "\r",
      "\u001b[32mComputing... 36%|███████████████                        |  ETA: 0:01:28\u001b[39m"
     ]
    },
    {
     "name": "stderr",
     "output_type": "stream",
     "text": [
      "\r",
      "\u001b[32mComputing... 37%|███████████████                        |  ETA: 0:01:28\u001b[39m"
     ]
    },
    {
     "name": "stderr",
     "output_type": "stream",
     "text": [
      "\r",
      "\u001b[32mComputing... 37%|███████████████                        |  ETA: 0:01:28\u001b[39m"
     ]
    },
    {
     "name": "stderr",
     "output_type": "stream",
     "text": [
      "\r",
      "\u001b[32mComputing... 37%|███████████████                        |  ETA: 0:01:27\u001b[39m"
     ]
    },
    {
     "name": "stderr",
     "output_type": "stream",
     "text": [
      "\r",
      "\u001b[32mComputing... 37%|███████████████                        |  ETA: 0:01:27\u001b[39m"
     ]
    },
    {
     "name": "stderr",
     "output_type": "stream",
     "text": [
      "\r",
      "\u001b[32mComputing... 37%|███████████████                        |  ETA: 0:01:27\u001b[39m"
     ]
    },
    {
     "name": "stderr",
     "output_type": "stream",
     "text": [
      "\r",
      "\u001b[32mComputing... 38%|███████████████                        |  ETA: 0:01:26\u001b[39m"
     ]
    },
    {
     "name": "stderr",
     "output_type": "stream",
     "text": [
      "\r",
      "\u001b[32mComputing... 38%|███████████████                        |  ETA: 0:01:26\u001b[39m"
     ]
    },
    {
     "name": "stderr",
     "output_type": "stream",
     "text": [
      "\r",
      "\u001b[32mComputing... 38%|███████████████                        |  ETA: 0:01:26\u001b[39m"
     ]
    },
    {
     "name": "stderr",
     "output_type": "stream",
     "text": [
      "\r",
      "\u001b[32mComputing... 38%|███████████████                        |  ETA: 0:01:25\u001b[39m"
     ]
    },
    {
     "name": "stderr",
     "output_type": "stream",
     "text": [
      "\r",
      "\u001b[32mComputing... 38%|███████████████                        |  ETA: 0:01:25\u001b[39m"
     ]
    },
    {
     "name": "stderr",
     "output_type": "stream",
     "text": [
      "\r",
      "\u001b[32mComputing... 39%|████████████████                       |  ETA: 0:01:25\u001b[3"
     ]
    },
    {
     "name": "stderr",
     "output_type": "stream",
     "text": [
      "9m\r",
      "\u001b[32mComputing... 39%|████████████████                       |  ETA: 0:01:24\u001b[39m"
     ]
    },
    {
     "name": "stderr",
     "output_type": "stream",
     "text": [
      "\r",
      "\u001b[32mComputing... 39%|████████████████                       |  ETA: 0:01:24\u001b[39"
     ]
    },
    {
     "name": "stderr",
     "output_type": "stream",
     "text": [
      "m\r",
      "\u001b[32mComputing... 39%|████████████████                       |  ETA: 0:01:24\u001b[39m"
     ]
    },
    {
     "name": "stderr",
     "output_type": "stream",
     "text": [
      "\r",
      "\u001b[32mComputing... 39%|████████████████                       |  ETA: 0:01:24\u001b[39"
     ]
    },
    {
     "name": "stderr",
     "output_type": "stream",
     "text": [
      "m\r",
      "\u001b[32mComputing... 40%|████████████████                       |  ETA: 0:01:23\u001b[39m"
     ]
    },
    {
     "name": "stderr",
     "output_type": "stream",
     "text": [
      "\r",
      "\u001b[32mComputing... 40%|████████████████                       |  ETA: 0:01:23\u001b[39m"
     ]
    },
    {
     "name": "stderr",
     "output_type": "stream",
     "text": [
      "\r",
      "\u001b[32mComputing... 40%|████████████████                       |  ETA: 0:01:23\u001b[39m"
     ]
    },
    {
     "name": "stderr",
     "output_type": "stream",
     "text": [
      "\r",
      "\u001b[32mComputing... 40%|████████████████                       |  ETA: 0:01:22\u001b[39m"
     ]
    },
    {
     "name": "stderr",
     "output_type": "stream",
     "text": [
      "\r",
      "\u001b[32mComputing... 40%|████████████████                       |  ETA: 0:01:22\u001b[39m"
     ]
    },
    {
     "name": "stderr",
     "output_type": "stream",
     "text": [
      "\r",
      "\u001b[32mComputing... 41%|████████████████                       |  ETA: 0:01:22\u001b[39m"
     ]
    },
    {
     "name": "stderr",
     "output_type": "stream",
     "text": [
      "\r",
      "\u001b[32mComputing... 41%|████████████████                       |  ETA: 0:01:21\u001b[39m"
     ]
    },
    {
     "name": "stderr",
     "output_type": "stream",
     "text": [
      "\r",
      "\u001b[32mComputing... 41%|████████████████                       |  ETA: 0:01:21\u001b[39m"
     ]
    },
    {
     "name": "stderr",
     "output_type": "stream",
     "text": [
      "\r",
      "\u001b[32mComputing... 41%|█████████████████                      |  ETA: 0:01:21\u001b[39m"
     ]
    },
    {
     "name": "stderr",
     "output_type": "stream",
     "text": [
      "\r",
      "\u001b[32mComputing... 41%|█████████████████                      |  ETA: 0:01:20\u001b[39m"
     ]
    },
    {
     "name": "stderr",
     "output_type": "stream",
     "text": [
      "\r",
      "\u001b[32mComputing... 42%|█████████████████                      |  ETA: 0:01:20\u001b[39m"
     ]
    },
    {
     "name": "stderr",
     "output_type": "stream",
     "text": [
      "\r",
      "\u001b[32mComputing... 42%|█████████████████                      |  ETA: 0:01:20\u001b[39m"
     ]
    },
    {
     "name": "stderr",
     "output_type": "stream",
     "text": [
      "\r",
      "\u001b[32mComputing... 42%|█████████████████                      |  ETA: 0:01:20\u001b[39m"
     ]
    },
    {
     "name": "stderr",
     "output_type": "stream",
     "text": [
      "\r",
      "\u001b[32mComputing... 42%|█████████████████                      |  ETA: 0:01:19\u001b[39m"
     ]
    },
    {
     "name": "stderr",
     "output_type": "stream",
     "text": [
      "\r",
      "\u001b[32mComputing... 42%|█████████████████                      |  ETA: 0:01:19\u001b[39m"
     ]
    },
    {
     "name": "stderr",
     "output_type": "stream",
     "text": [
      "\r",
      "\u001b[32mComputing... 43%|█████████████████                      |  ETA: 0:01:19\u001b[39m"
     ]
    },
    {
     "name": "stderr",
     "output_type": "stream",
     "text": [
      "\r",
      "\u001b[32mComputing... 43%|█████████████████                      |  ETA: 0:01:18\u001b[39m"
     ]
    },
    {
     "name": "stderr",
     "output_type": "stream",
     "text": [
      "\r",
      "\u001b[32mComputing... 43%|█████████████████                      |  ETA: 0:01:18\u001b[39m"
     ]
    },
    {
     "name": "stderr",
     "output_type": "stream",
     "text": [
      "\r",
      "\u001b[32mComputing... 43%|█████████████████                      |  ETA: 0:01:18\u001b[39m"
     ]
    },
    {
     "name": "stderr",
     "output_type": "stream",
     "text": [
      "\r",
      "\u001b[32mComputing... 43%|█████████████████                      |  ETA: 0:01:17\u001b[39m"
     ]
    },
    {
     "name": "stderr",
     "output_type": "stream",
     "text": [
      "\r",
      "\u001b[32mComputing... 44%|██████████████████                     |  ETA: 0:01:17\u001b[39m"
     ]
    },
    {
     "name": "stderr",
     "output_type": "stream",
     "text": [
      "\r",
      "\u001b[32mComputing... 44%|██████████████████                     |  ETA: 0:01:17\u001b[39m"
     ]
    },
    {
     "name": "stderr",
     "output_type": "stream",
     "text": [
      "\r",
      "\u001b[32mComputing... 44%|██████████████████                     |  ETA: 0:01:17\u001b[39m"
     ]
    },
    {
     "name": "stderr",
     "output_type": "stream",
     "text": [
      "\r",
      "\u001b[32mComputing... 44%|██████████████████                     |  ETA: 0:01:16\u001b[39m"
     ]
    },
    {
     "name": "stderr",
     "output_type": "stream",
     "text": [
      "\r",
      "\u001b[32mComputing... 44%|██████████████████                     |  ETA: 0:01:16\u001b[39"
     ]
    },
    {
     "name": "stderr",
     "output_type": "stream",
     "text": [
      "m\r",
      "\u001b[32mComputing... 45%|██████████████████                     |  ETA: 0:01:16\u001b[39m"
     ]
    },
    {
     "name": "stderr",
     "output_type": "stream",
     "text": [
      "\r",
      "\u001b[32mComputing... 45%|██████████████████                     |  ETA: 0:01:15\u001b[39m"
     ]
    },
    {
     "name": "stderr",
     "output_type": "stream",
     "text": [
      "\r",
      "\u001b[32mComputing... 45%|██████████████████                     |  ETA: 0:01:15\u001b[39m"
     ]
    },
    {
     "name": "stderr",
     "output_type": "stream",
     "text": [
      "\r",
      "\u001b[32mComputing... 45%|██████████████████                     |  ETA: 0:01:15\u001b[39m"
     ]
    },
    {
     "name": "stderr",
     "output_type": "stream",
     "text": [
      "\r",
      "\u001b[32mComputing... 45%|██████████████████                     |  ETA: 0:01:15\u001b[39m"
     ]
    },
    {
     "name": "stderr",
     "output_type": "stream",
     "text": [
      "\r",
      "\u001b[32mComputing... 46%|██████████████████                     |  ETA: 0:01:14\u001b[39m"
     ]
    },
    {
     "name": "stderr",
     "output_type": "stream",
     "text": [
      "\r",
      "\u001b[32mComputing... 46%|██████████████████                     |  ETA: 0:01:14\u001b[39m"
     ]
    },
    {
     "name": "stderr",
     "output_type": "stream",
     "text": [
      "\r",
      "\u001b[32mComputing... 46%|██████████████████                     |  ETA: 0:01:14\u001b[39m"
     ]
    },
    {
     "name": "stderr",
     "output_type": "stream",
     "text": [
      "\r",
      "\u001b[32mComputing... 46%|███████████████████                    |  ETA: 0:01:13\u001b[39m"
     ]
    },
    {
     "name": "stderr",
     "output_type": "stream",
     "text": [
      "\r",
      "\u001b[32mComputing... 46%|███████████████████                    |  ETA: 0:01:13\u001b[39m"
     ]
    },
    {
     "name": "stderr",
     "output_type": "stream",
     "text": [
      "\r",
      "\u001b[32mComputing... 47%|███████████████████                    |  ETA: 0:01:13\u001b[39m"
     ]
    },
    {
     "name": "stderr",
     "output_type": "stream",
     "text": [
      "\r",
      "\u001b[32mComputing... 47%|███████████████████                    |  ETA: 0:01:13\u001b[39m"
     ]
    },
    {
     "name": "stderr",
     "output_type": "stream",
     "text": [
      "\r",
      "\u001b[32mComputing... 47%|███████████████████                    |  ETA: 0:01:12\u001b[39m"
     ]
    },
    {
     "name": "stderr",
     "output_type": "stream",
     "text": [
      "\r",
      "\u001b[32mComputing... 47%|███████████████████                    |  ETA: 0:01:12\u001b[39m"
     ]
    },
    {
     "name": "stderr",
     "output_type": "stream",
     "text": [
      "\r",
      "\u001b[32mComputing... 47%|███████████████████                    |  ETA: 0:01:12\u001b[39m"
     ]
    },
    {
     "name": "stderr",
     "output_type": "stream",
     "text": [
      "\r",
      "\u001b[32mComputing... 48%|███████████████████                    |  ETA: 0:01:11\u001b[39m"
     ]
    },
    {
     "name": "stderr",
     "output_type": "stream",
     "text": [
      "\r",
      "\u001b[32mComputing... 48%|███████████████████                    |  ETA: 0:01:11\u001b[39m"
     ]
    },
    {
     "name": "stderr",
     "output_type": "stream",
     "text": [
      "\r",
      "\u001b[32mComputing... 48%|███████████████████                    |  ETA: 0:01:11\u001b[39m"
     ]
    },
    {
     "name": "stderr",
     "output_type": "stream",
     "text": [
      "\r",
      "\u001b[32mComputing... 48%|███████████████████                    |  ETA: 0:01:11\u001b[39m"
     ]
    },
    {
     "name": "stderr",
     "output_type": "stream",
     "text": [
      "\r",
      "\u001b[32mComputing... 48%|███████████████████                    |  ETA: 0:01:10\u001b[39m"
     ]
    },
    {
     "name": "stderr",
     "output_type": "stream",
     "text": [
      "\r",
      "\u001b[32mComputing... 49%|███████████████████                    |  ETA: 0:01:10\u001b[39m"
     ]
    },
    {
     "name": "stderr",
     "output_type": "stream",
     "text": [
      "\r",
      "\u001b[32mComputing... 49%|████████████████████                   |  ETA: 0:01:10\u001b[39m"
     ]
    },
    {
     "name": "stderr",
     "output_type": "stream",
     "text": [
      "\r",
      "\u001b[32mComputing... 49%|████████████████████                   |  ETA: 0:01:09\u001b[39m"
     ]
    },
    {
     "name": "stderr",
     "output_type": "stream",
     "text": [
      "\r",
      "\u001b[32mComputing... 49%|████████████████████                   |  ETA: 0:01:09\u001b[39m"
     ]
    },
    {
     "name": "stderr",
     "output_type": "stream",
     "text": [
      "\r",
      "\u001b[32mComputing... 49%|████████████████████                   |  ETA: 0:01:09\u001b[39m"
     ]
    },
    {
     "name": "stderr",
     "output_type": "stream",
     "text": [
      "\r",
      "\u001b[32mComputing... 50%|████████████████████                   |  ETA: 0:01:09\u001b[39m"
     ]
    },
    {
     "name": "stderr",
     "output_type": "stream",
     "text": [
      "\r",
      "\u001b[32mComputing... 50%|████████████████████                   |  ETA: 0:01:08\u001b[39m"
     ]
    },
    {
     "name": "stderr",
     "output_type": "stream",
     "text": [
      "\r",
      "\u001b[32mComputing... 50%|████████████████████                   |  ETA: 0:01:08\u001b[39m"
     ]
    },
    {
     "name": "stderr",
     "output_type": "stream",
     "text": [
      "\r",
      "\u001b[32mComputing... 50%|████████████████████                   |  ETA: 0:01:08\u001b[39m"
     ]
    },
    {
     "name": "stderr",
     "output_type": "stream",
     "text": [
      "\r",
      "\u001b[32mComputing... 50%|████████████████████                   |  ETA: 0:01:07\u001b[39m"
     ]
    },
    {
     "name": "stderr",
     "output_type": "stream",
     "text": [
      "\r",
      "\u001b[32mComputing... 51%|████████████████████                   |  ETA: 0:01:07\u001b[39m"
     ]
    },
    {
     "name": "stderr",
     "output_type": "stream",
     "text": [
      "\r",
      "\u001b[32mComputing... 51%|████████████████████                   |  ETA: 0:01:07\u001b[39m"
     ]
    },
    {
     "name": "stderr",
     "output_type": "stream",
     "text": [
      "\r",
      "\u001b[32mComputing... 51%|████████████████████                   |  ETA: 0:01:06\u001b[39m"
     ]
    },
    {
     "name": "stderr",
     "output_type": "stream",
     "text": [
      "\r",
      "\u001b[32mComputing... 51%|████████████████████                   |  ETA: 0:01:06\u001b[39m"
     ]
    },
    {
     "name": "stderr",
     "output_type": "stream",
     "text": [
      "\r",
      "\u001b[32mComputing... 51%|█████████████████████                  |  ETA: 0:01:06\u001b[39m"
     ]
    },
    {
     "name": "stderr",
     "output_type": "stream",
     "text": [
      "\r",
      "\u001b[32mComputing... 52%|█████████████████████                  |  ETA: 0:01:06\u001b[39m"
     ]
    },
    {
     "name": "stderr",
     "output_type": "stream",
     "text": [
      "\r",
      "\u001b[32mComputing... 52%|█████████████████████                  |  ETA: 0:01:05\u001b[39m"
     ]
    },
    {
     "name": "stderr",
     "output_type": "stream",
     "text": [
      "\r",
      "\u001b[32mComputing... 52%|█████████████████████                  |  ETA: 0:01:05\u001b[39m"
     ]
    },
    {
     "name": "stderr",
     "output_type": "stream",
     "text": [
      "\r",
      "\u001b[32mComputing... 52%|█████████████████████                  |  ETA: 0:01:05\u001b[39m"
     ]
    },
    {
     "name": "stderr",
     "output_type": "stream",
     "text": [
      "\r",
      "\u001b[32mComputing... 52%|█████████████████████                  |  ETA: 0:01:05\u001b[39m"
     ]
    },
    {
     "name": "stderr",
     "output_type": "stream",
     "text": [
      "\r",
      "\u001b[32mComputing... 53%|█████████████████████                  |  ETA: 0:01:04\u001b[39m"
     ]
    },
    {
     "name": "stderr",
     "output_type": "stream",
     "text": [
      "\r",
      "\u001b[32mComputing... 53%|█████████████████████                  |  ETA: 0:01:04\u001b[39m"
     ]
    },
    {
     "name": "stderr",
     "output_type": "stream",
     "text": [
      "\r",
      "\u001b[32mComputing... 53%|█████████████████████                  |  ETA: 0:01:04\u001b[39m"
     ]
    },
    {
     "name": "stderr",
     "output_type": "stream",
     "text": [
      "\r",
      "\u001b[32mComputing... 53%|█████████████████████                  |  ETA: 0:01:03\u001b[39m"
     ]
    },
    {
     "name": "stderr",
     "output_type": "stream",
     "text": [
      "\r",
      "\u001b[32mComputing... 53%|█████████████████████                  |  ETA: 0:01:03\u001b[39m"
     ]
    },
    {
     "name": "stderr",
     "output_type": "stream",
     "text": [
      "\r",
      "\u001b[32mComputing... 54%|█████████████████████                  |  ETA: 0:01:03\u001b[39m"
     ]
    },
    {
     "name": "stderr",
     "output_type": "stream",
     "text": [
      "\r",
      "\u001b[32mComputing... 54%|█████████████████████                  |  ETA: 0:01:03\u001b[39m"
     ]
    },
    {
     "name": "stderr",
     "output_type": "stream",
     "text": [
      "\r",
      "\u001b[32mComputing... 54%|██████████████████████                 |  ETA: 0:01:02\u001b[39m"
     ]
    },
    {
     "name": "stderr",
     "output_type": "stream",
     "text": [
      "\r",
      "\u001b[32mComputing... 54%|██████████████████████                 |  ETA: 0:01:02\u001b[39m"
     ]
    },
    {
     "name": "stderr",
     "output_type": "stream",
     "text": [
      "\r",
      "\u001b[32mComputing... 54%|██████████████████████                 |  ETA: 0:01:02\u001b[39m"
     ]
    },
    {
     "name": "stderr",
     "output_type": "stream",
     "text": [
      "\r",
      "\u001b[32mComputing... 55%|██████████████████████                 |  ETA: 0:01:01\u001b[39m"
     ]
    },
    {
     "name": "stderr",
     "output_type": "stream",
     "text": [
      "\r",
      "\u001b[32mComputing... 55%|██████████████████████                 |  ETA: 0:01:01\u001b[39m"
     ]
    },
    {
     "name": "stderr",
     "output_type": "stream",
     "text": [
      "\r",
      "\u001b[32mComputing... 55%|██████████████████████                 |  ETA: 0:01:01\u001b[39m"
     ]
    },
    {
     "name": "stderr",
     "output_type": "stream",
     "text": [
      "\r",
      "\u001b[32mComputing... 55%|██████████████████████                 |  ETA: 0:01:01\u001b[39m"
     ]
    },
    {
     "name": "stderr",
     "output_type": "stream",
     "text": [
      "\r",
      "\u001b[32mComputing... 55%|██████████████████████                 |  ETA: 0:01:00\u001b[39m"
     ]
    },
    {
     "name": "stderr",
     "output_type": "stream",
     "text": [
      "\r",
      "\u001b[32mComputing... 56%|██████████████████████                 |  ETA: 0:01:00\u001b[39m"
     ]
    },
    {
     "name": "stderr",
     "output_type": "stream",
     "text": [
      "\r",
      "\u001b[32mComputing... 56%|██████████████████████                 |  ETA: 0:01:00\u001b[39m"
     ]
    },
    {
     "name": "stderr",
     "output_type": "stream",
     "text": [
      "\r",
      "\u001b[32mComputing... 56%|██████████████████████                 |  ETA: 0:00:59\u001b[39m"
     ]
    },
    {
     "name": "stderr",
     "output_type": "stream",
     "text": [
      "\r",
      "\u001b[32mComputing... 56%|██████████████████████                 |  ETA: 0:00:59\u001b[39m"
     ]
    },
    {
     "name": "stderr",
     "output_type": "stream",
     "text": [
      "\r",
      "\u001b[32mComputing... 56%|██████████████████████                 |  ETA: 0:00:59\u001b[39m"
     ]
    },
    {
     "name": "stderr",
     "output_type": "stream",
     "text": [
      "\r",
      "\u001b[32mComputing... 57%|███████████████████████                |  ETA: 0:00:59\u001b[39m"
     ]
    },
    {
     "name": "stderr",
     "output_type": "stream",
     "text": [
      "\r",
      "\u001b[32mComputing... 57%|███████████████████████                |  ETA: 0:00:58\u001b[39m"
     ]
    },
    {
     "name": "stderr",
     "output_type": "stream",
     "text": [
      "\r",
      "\u001b[32mComputing... 57%|███████████████████████                |  ETA: 0:00:58\u001b[39m"
     ]
    },
    {
     "name": "stderr",
     "output_type": "stream",
     "text": [
      "\r",
      "\u001b[32mComputing... 57%|███████████████████████                |  ETA: 0:00:58\u001b[39m"
     ]
    },
    {
     "name": "stderr",
     "output_type": "stream",
     "text": [
      "\r",
      "\u001b[32mComputing... 57%|███████████████████████                |  ETA: 0:00:58\u001b[39m"
     ]
    },
    {
     "name": "stderr",
     "output_type": "stream",
     "text": [
      "\r",
      "\u001b[32mComputing... 58%|███████████████████████                |  ETA: 0:00:57\u001b[39m"
     ]
    },
    {
     "name": "stderr",
     "output_type": "stream",
     "text": [
      "\r",
      "\u001b[32mComputing... 58%|███████████████████████                |  ETA: 0:00:57\u001b[39m"
     ]
    },
    {
     "name": "stderr",
     "output_type": "stream",
     "text": [
      "\r",
      "\u001b[32mComputing... 58%|███████████████████████                |  ETA: 0:00:57\u001b[39m"
     ]
    },
    {
     "name": "stderr",
     "output_type": "stream",
     "text": [
      "\r",
      "\u001b[32mComputing... 58%|███████████████████████                |  ETA: 0:00:56\u001b[39m"
     ]
    },
    {
     "name": "stderr",
     "output_type": "stream",
     "text": [
      "\r"
     ]
    },
    {
     "name": "stderr",
     "output_type": "stream",
     "text": [
      "\u001b[32mComputing... 58%|███████████████████████                |  ETA: 0:00:56\u001b[39m\r",
      "\u001b[32mComputing... 59%|███████████████████████                |  ETA: 0:00:56\u001b[39m"
     ]
    },
    {
     "name": "stderr",
     "output_type": "stream",
     "text": [
      "\r",
      "\u001b[32mComputing... 59%|███████████████████████                |  ETA: 0:00:56\u001b[39m"
     ]
    },
    {
     "name": "stderr",
     "output_type": "stream",
     "text": [
      "\r",
      "\u001b[32mComputing... 59%|████████████████████████               |  ETA: 0:00:55\u001b[39m"
     ]
    },
    {
     "name": "stderr",
     "output_type": "stream",
     "text": [
      "\r",
      "\u001b[32mComputing... 59%|████████████████████████               |  ETA: 0:00:55\u001b[39"
     ]
    },
    {
     "name": "stderr",
     "output_type": "stream",
     "text": [
      "m\r",
      "\u001b[32mComputing... 59%|████████████████████████               |  ETA: 0:00:55\u001b[39m"
     ]
    },
    {
     "name": "stderr",
     "output_type": "stream",
     "text": [
      "\r",
      "\u001b[32mComputing... 60%|████████████████████████               |  ETA: 0:00:55\u001b[39m"
     ]
    },
    {
     "name": "stderr",
     "output_type": "stream",
     "text": [
      "\r",
      "\u001b[32mComputing... 60%|████████████████████████               |  ETA: 0:00:54\u001b[39m"
     ]
    },
    {
     "name": "stderr",
     "output_type": "stream",
     "text": [
      "\r",
      "\u001b[32mComputing... 60%|████████████████████████               |  ETA: 0:00:54\u001b[39m"
     ]
    },
    {
     "name": "stderr",
     "output_type": "stream",
     "text": [
      "\r",
      "\u001b[32mComputing... 60%|████████████████████████               |  ETA: 0:00:54\u001b[39m"
     ]
    },
    {
     "name": "stderr",
     "output_type": "stream",
     "text": [
      "\r",
      "\u001b[32mComputing... 60%|████████████████████████               |  ETA: 0:00:53\u001b[39m"
     ]
    },
    {
     "name": "stderr",
     "output_type": "stream",
     "text": [
      "\r",
      "\u001b[32mComputing... 61%|████████████████████████               |  ETA: 0:00:53\u001b[39m"
     ]
    },
    {
     "name": "stderr",
     "output_type": "stream",
     "text": [
      "\r",
      "\u001b[32mComputing... 61%|████████████████████████               |  ETA: 0:00:53\u001b[39m"
     ]
    },
    {
     "name": "stderr",
     "output_type": "stream",
     "text": [
      "\r",
      "\u001b[32mComputing... 61%|████████████████████████               |  ETA: 0:00:53\u001b[39m"
     ]
    },
    {
     "name": "stderr",
     "output_type": "stream",
     "text": [
      "\r",
      "\u001b[32mComputing... 61%|████████████████████████               |  ETA: 0:00:52\u001b[39m"
     ]
    },
    {
     "name": "stderr",
     "output_type": "stream",
     "text": [
      "\r",
      "\u001b[32mComputing... 61%|████████████████████████               |  ETA: 0:00:52\u001b[39m"
     ]
    },
    {
     "name": "stderr",
     "output_type": "stream",
     "text": [
      "\r",
      "\u001b[32mComputing... 62%|█████████████████████████              |  ETA: 0:00:52\u001b[3"
     ]
    },
    {
     "name": "stderr",
     "output_type": "stream",
     "text": [
      "9m"
     ]
    },
    {
     "name": "stderr",
     "output_type": "stream",
     "text": [
      "\r",
      "\u001b[32mComputing... 62%|█████████████████████████              |  ETA: 0:00:51\u001b[39m"
     ]
    },
    {
     "name": "stderr",
     "output_type": "stream",
     "text": [
      "\r",
      "\u001b[32mComputing... 62%|█████████████████████████              |  ETA: 0:00:51\u001b[39m"
     ]
    },
    {
     "name": "stderr",
     "output_type": "stream",
     "text": [
      "\r"
     ]
    },
    {
     "name": "stderr",
     "output_type": "stream",
     "text": [
      "\u001b[32mComputing... 62%|█████████████████████████              |  ETA: 0:00:51\u001b[39m\r",
      "\u001b[32mComputing... 62%|█████████████████████████              |  ETA: 0:00:51\u001b[39"
     ]
    },
    {
     "name": "stderr",
     "output_type": "stream",
     "text": [
      "m\r",
      "\u001b[32mComputing... 63%|█████████████████████████              |  ETA: 0:00:50\u001b[39m"
     ]
    },
    {
     "name": "stderr",
     "output_type": "stream",
     "text": [
      "\r",
      "\u001b[32mComputing... 63%|█████████████████████████              |  ETA: 0:00:50\u001b[39m"
     ]
    },
    {
     "name": "stderr",
     "output_type": "stream",
     "text": [
      "\r",
      "\u001b[32mComputing... 63%|█████████████████████████              |  ETA: 0:00:50\u001b[39m"
     ]
    },
    {
     "name": "stderr",
     "output_type": "stream",
     "text": [
      "\r",
      "\u001b[32mComputing... 63%|█████████████████████████              |  ETA: 0:00:49\u001b[39m"
     ]
    },
    {
     "name": "stderr",
     "output_type": "stream",
     "text": [
      "\r",
      "\u001b[32mComputing... 63%|█████████████████████████              |  ETA: 0:00:49\u001b[39m"
     ]
    },
    {
     "name": "stderr",
     "output_type": "stream",
     "text": [
      "\r",
      "\u001b[32mComputing... 64%|█████████████████████████              |  ETA: 0:00:49\u001b[39m"
     ]
    },
    {
     "name": "stderr",
     "output_type": "stream",
     "text": [
      "\r",
      "\u001b[32mComputing... 64%|█████████████████████████              |  ETA: 0:00:49\u001b[39m"
     ]
    },
    {
     "name": "stderr",
     "output_type": "stream",
     "text": [
      "\r",
      "\u001b[32mComputing... 64%|█████████████████████████              |  ETA: 0:00:48\u001b[39m"
     ]
    },
    {
     "name": "stderr",
     "output_type": "stream",
     "text": [
      "\r",
      "\u001b[32mComputing... 64%|██████████████████████████             |  ETA: 0:00:48\u001b[39m"
     ]
    },
    {
     "name": "stderr",
     "output_type": "stream",
     "text": [
      "\r",
      "\u001b[32mComputing... 64%|██████████████████████████             |  ETA: 0:00:48\u001b[39m"
     ]
    },
    {
     "name": "stderr",
     "output_type": "stream",
     "text": [
      "\r",
      "\u001b[32mComputing... 65%|██████████████████████████             |  ETA: 0:00:48\u001b[39m"
     ]
    },
    {
     "name": "stderr",
     "output_type": "stream",
     "text": [
      "\r",
      "\u001b[32mComputing... 65%|██████████████████████████             |  ETA: 0:00:47\u001b[39m"
     ]
    },
    {
     "name": "stderr",
     "output_type": "stream",
     "text": [
      "\r",
      "\u001b[32mComputing... 65%|██████████████████████████             |  ETA: 0:00:47\u001b[39m"
     ]
    },
    {
     "name": "stderr",
     "output_type": "stream",
     "text": [
      "\r",
      "\u001b[32mComputing... 65%|██████████████████████████             |  ETA: 0:00:47\u001b[39m"
     ]
    },
    {
     "name": "stderr",
     "output_type": "stream",
     "text": [
      "\r",
      "\u001b[32mComputing... 65%|██████████████████████████             |  ETA: 0:00:46\u001b[39m"
     ]
    },
    {
     "name": "stderr",
     "output_type": "stream",
     "text": [
      "\r",
      "\u001b[32mComputing... 66%|██████████████████████████             |  ETA: 0:00:46\u001b[39m"
     ]
    },
    {
     "name": "stderr",
     "output_type": "stream",
     "text": [
      "\r",
      "\u001b[32mComputing... 66%|██████████████████████████             |  ETA: 0:00:46\u001b[39m"
     ]
    },
    {
     "name": "stderr",
     "output_type": "stream",
     "text": [
      "\r",
      "\u001b[32mComputing... 66%|██████████████████████████             |  ETA: 0:00:46\u001b[39m"
     ]
    },
    {
     "name": "stderr",
     "output_type": "stream",
     "text": [
      "\r",
      "\u001b[32mComputing... 66%|██████████████████████████             |  ETA: 0:00:45\u001b[39m"
     ]
    },
    {
     "name": "stderr",
     "output_type": "stream",
     "text": [
      "\r",
      "\u001b[32mComputing... 66%|██████████████████████████             |  ETA: 0:00:45\u001b[39m"
     ]
    },
    {
     "name": "stderr",
     "output_type": "stream",
     "text": [
      "\r",
      "\u001b[32mComputing... 67%|██████████████████████████             |  ETA: 0:00:45\u001b[39m"
     ]
    },
    {
     "name": "stderr",
     "output_type": "stream",
     "text": [
      "\r",
      "\u001b[32mComputing... 67%|███████████████████████████            |  ETA: 0:00:44\u001b[39m"
     ]
    },
    {
     "name": "stderr",
     "output_type": "stream",
     "text": [
      "\r",
      "\u001b[32mComputing... 67%|███████████████████████████            |  ETA: 0:00:44\u001b[39m"
     ]
    },
    {
     "name": "stderr",
     "output_type": "stream",
     "text": [
      "\r",
      "\u001b[32mComputing... 67%|███████████████████████████            |  ETA: 0:00:44\u001b[39m"
     ]
    },
    {
     "name": "stderr",
     "output_type": "stream",
     "text": [
      "\r",
      "\u001b[32mComputing... 67%|███████████████████████████            |  ETA: 0:00:44\u001b[39m"
     ]
    },
    {
     "name": "stderr",
     "output_type": "stream",
     "text": [
      "\r",
      "\u001b[32mComputing... 68%|███████████████████████████            |  ETA: 0:00:43\u001b[39m"
     ]
    },
    {
     "name": "stderr",
     "output_type": "stream",
     "text": [
      "\r",
      "\u001b[32mComputing... 68%|███████████████████████████            |  ETA: 0:00:43\u001b[39m"
     ]
    },
    {
     "name": "stderr",
     "output_type": "stream",
     "text": [
      "\r",
      "\u001b[32mComputing... 68%|███████████████████████████            |  ETA: 0:00:43\u001b[39m"
     ]
    },
    {
     "name": "stderr",
     "output_type": "stream",
     "text": [
      "\r",
      "\u001b[32mComputing... 68%|███████████████████████████            |  ETA: 0:00:43\u001b[39m"
     ]
    },
    {
     "name": "stderr",
     "output_type": "stream",
     "text": [
      "\r",
      "\u001b[32mComputing... 68%|███████████████████████████            |  ETA: 0:00:42\u001b[39m"
     ]
    },
    {
     "name": "stderr",
     "output_type": "stream",
     "text": [
      "\r",
      "\u001b[32mComputing... 69%|███████████████████████████            |  ETA: 0:00:42\u001b[39m"
     ]
    },
    {
     "name": "stderr",
     "output_type": "stream",
     "text": [
      "\r",
      "\u001b[32mComputing... 69%|███████████████████████████            |  ETA: 0:00:42\u001b[39m"
     ]
    },
    {
     "name": "stderr",
     "output_type": "stream",
     "text": [
      "\r",
      "\u001b[32mComputing... 69%|███████████████████████████            |  ETA: 0:00:41\u001b[39m"
     ]
    },
    {
     "name": "stderr",
     "output_type": "stream",
     "text": [
      "\r",
      "\u001b[32mComputing... 69%|███████████████████████████            |  ETA: 0:00:41\u001b[39m"
     ]
    },
    {
     "name": "stderr",
     "output_type": "stream",
     "text": [
      "\r",
      "\u001b[32mComputing... 69%|████████████████████████████           |  ETA: 0:00:41\u001b[39m"
     ]
    },
    {
     "name": "stderr",
     "output_type": "stream",
     "text": [
      "\r",
      "\u001b[32mComputing... 70%|████████████████████████████           |  ETA: 0:00:41\u001b[39m"
     ]
    },
    {
     "name": "stderr",
     "output_type": "stream",
     "text": [
      "\r",
      "\u001b[32mComputing... 70%|████████████████████████████           |  ETA: 0:00:40\u001b[39m"
     ]
    },
    {
     "name": "stderr",
     "output_type": "stream",
     "text": [
      "\r",
      "\u001b[32mComputing... 70%|████████████████████████████           |  ETA: 0:00:40\u001b[39m"
     ]
    },
    {
     "name": "stderr",
     "output_type": "stream",
     "text": [
      "\r",
      "\u001b[32mComputing... 70%|████████████████████████████           |  ETA: 0:00:40\u001b[39m"
     ]
    },
    {
     "name": "stderr",
     "output_type": "stream",
     "text": [
      "\r",
      "\u001b[32mComputing... 70%|████████████████████████████           |  ETA: 0:00:40\u001b[39m"
     ]
    },
    {
     "name": "stderr",
     "output_type": "stream",
     "text": [
      "\r",
      "\u001b[32mComputing... 71%|████████████████████████████           |  ETA: 0:00:39\u001b[39m"
     ]
    },
    {
     "name": "stderr",
     "output_type": "stream",
     "text": [
      "\r",
      "\u001b[32mComputing... 71%|████████████████████████████           |  ETA: 0:00:39\u001b[39m"
     ]
    },
    {
     "name": "stderr",
     "output_type": "stream",
     "text": [
      "\r",
      "\u001b[32mComputing... 71%|████████████████████████████           |  ETA: 0:00:39\u001b[39m"
     ]
    },
    {
     "name": "stderr",
     "output_type": "stream",
     "text": [
      "\r",
      "\u001b[32mComputing... 71%|████████████████████████████           |  ETA: 0:00:38\u001b[39m"
     ]
    },
    {
     "name": "stderr",
     "output_type": "stream",
     "text": [
      "\r",
      "\u001b[32mComputing... 71%|████████████████████████████           |  ETA: 0:00:38\u001b[39m"
     ]
    },
    {
     "name": "stderr",
     "output_type": "stream",
     "text": [
      "\r",
      "\u001b[32mComputing... 72%|████████████████████████████           |  ETA: 0:00:38\u001b[39m"
     ]
    },
    {
     "name": "stderr",
     "output_type": "stream",
     "text": [
      "\r",
      "\u001b[32mComputing... 72%|█████████████████████████████          |  ETA: 0:00:38\u001b[39m"
     ]
    },
    {
     "name": "stderr",
     "output_type": "stream",
     "text": [
      "\r",
      "\u001b[32mComputing... 72%|█████████████████████████████          |  ETA: 0:00:37\u001b[39m"
     ]
    },
    {
     "name": "stderr",
     "output_type": "stream",
     "text": [
      "\r",
      "\u001b[32mComputing... 72%|█████████████████████████████          |  ETA: 0:00:37\u001b[39m"
     ]
    },
    {
     "name": "stderr",
     "output_type": "stream",
     "text": [
      "\r",
      "\u001b[32mComputing... 72%|█████████████████████████████          |  ETA: 0:00:37\u001b[39m"
     ]
    },
    {
     "name": "stderr",
     "output_type": "stream",
     "text": [
      "\r",
      "\u001b[32mComputing... 73%|█████████████████████████████          |  ETA: 0:00:37\u001b[39m"
     ]
    },
    {
     "name": "stderr",
     "output_type": "stream",
     "text": [
      "\r",
      "\u001b[32mComputing... 73%|█████████████████████████████          |  ETA: 0:00:36\u001b[39m"
     ]
    },
    {
     "name": "stderr",
     "output_type": "stream",
     "text": [
      "\r",
      "\u001b[32mComputing... 73%|█████████████████████████████          |  ETA: 0:00:36\u001b[39m"
     ]
    },
    {
     "name": "stderr",
     "output_type": "stream",
     "text": [
      "\r",
      "\u001b[32mComputing... 73%|█████████████████████████████          |  ETA: 0:00:36\u001b[39m"
     ]
    },
    {
     "name": "stderr",
     "output_type": "stream",
     "text": [
      "\r",
      "\u001b[32mComputing... 73%|█████████████████████████████          |  ETA: 0:00:36\u001b[39m"
     ]
    },
    {
     "name": "stderr",
     "output_type": "stream",
     "text": [
      "\r",
      "\u001b[32mComputing... 74%|█████████████████████████████          |  ETA: 0:00:35\u001b[39m"
     ]
    },
    {
     "name": "stderr",
     "output_type": "stream",
     "text": [
      "\r",
      "\u001b[32mComputing... 74%|█████████████████████████████          |  ETA: 0:00:35\u001b[39m"
     ]
    },
    {
     "name": "stderr",
     "output_type": "stream",
     "text": [
      "\r",
      "\u001b[32mComputing... 74%|█████████████████████████████          |  ETA: 0:00:35\u001b[39m"
     ]
    },
    {
     "name": "stderr",
     "output_type": "stream",
     "text": [
      "\r",
      "\u001b[32mComputing... 74%|█████████████████████████████          |  ETA: 0:00:34\u001b[39m"
     ]
    },
    {
     "name": "stderr",
     "output_type": "stream",
     "text": [
      "\r",
      "\u001b[32mComputing... 74%|██████████████████████████████         |  ETA: 0:00:34\u001b[39m"
     ]
    },
    {
     "name": "stderr",
     "output_type": "stream",
     "text": [
      "\r",
      "\u001b[32mComputing... 75%|██████████████████████████████         |  ETA: 0:00:34\u001b[39m"
     ]
    },
    {
     "name": "stderr",
     "output_type": "stream",
     "text": [
      "\r",
      "\u001b[32mComputing... 75%|██████████████████████████████         |  ETA: 0:00:34\u001b[39m"
     ]
    },
    {
     "name": "stderr",
     "output_type": "stream",
     "text": [
      "\r",
      "\u001b[32mComputing... 75%|██████████████████████████████         |  ETA: 0:00:33\u001b[39m"
     ]
    },
    {
     "name": "stderr",
     "output_type": "stream",
     "text": [
      "\r",
      "\u001b[32mComputing... 75%|██████████████████████████████         |  ETA: 0:00:33\u001b[39m"
     ]
    },
    {
     "name": "stderr",
     "output_type": "stream",
     "text": [
      "\r",
      "\u001b[32mComputing... 75%|██████████████████████████████         |  ETA: 0:00:33\u001b[39m"
     ]
    },
    {
     "name": "stderr",
     "output_type": "stream",
     "text": [
      "\r",
      "\u001b[32mComputing... 76%|██████████████████████████████         |  ETA: 0:00:33\u001b[39m"
     ]
    },
    {
     "name": "stderr",
     "output_type": "stream",
     "text": [
      "\r",
      "\u001b[32mComputing... 76%|██████████████████████████████         |  ETA: 0:00:32\u001b[39m"
     ]
    },
    {
     "name": "stderr",
     "output_type": "stream",
     "text": [
      "\r",
      "\u001b[32mComputing... 76%|██████████████████████████████         |  ETA: 0:00:32\u001b[39m"
     ]
    },
    {
     "name": "stderr",
     "output_type": "stream",
     "text": [
      "\r",
      "\u001b[32mComputing... 76%|██████████████████████████████         |  ETA: 0:00:32\u001b[39m"
     ]
    },
    {
     "name": "stderr",
     "output_type": "stream",
     "text": [
      "\r",
      "\u001b[32mComputing... 76%|██████████████████████████████         |  ETA: 0:00:31\u001b[39m"
     ]
    },
    {
     "name": "stderr",
     "output_type": "stream",
     "text": [
      "\r",
      "\u001b[32mComputing... 77%|██████████████████████████████         |  ETA: 0:00:31\u001b[39m"
     ]
    },
    {
     "name": "stderr",
     "output_type": "stream",
     "text": [
      "\r",
      "\u001b[32mComputing... 77%|██████████████████████████████         |  ETA: 0:00:31\u001b[39m"
     ]
    },
    {
     "name": "stderr",
     "output_type": "stream",
     "text": [
      "\r",
      "\u001b[32mComputing... 77%|███████████████████████████████        |  ETA: 0:00:31\u001b[39m"
     ]
    },
    {
     "name": "stderr",
     "output_type": "stream",
     "text": [
      "\r",
      "\u001b[32mComputing... 77%|███████████████████████████████        |  ETA: 0:00:30\u001b[39m"
     ]
    },
    {
     "name": "stderr",
     "output_type": "stream",
     "text": [
      "\r",
      "\u001b[32mComputing... 77%|███████████████████████████████        |  ETA: 0:00:30\u001b[39m"
     ]
    },
    {
     "name": "stderr",
     "output_type": "stream",
     "text": [
      "\r",
      "\u001b[32mComputing... 78%|███████████████████████████████        |  ETA: 0:00:30\u001b[39m"
     ]
    },
    {
     "name": "stderr",
     "output_type": "stream",
     "text": [
      "\r",
      "\u001b[32mComputing... 78%|███████████████████████████████        |  ETA: 0:00:30\u001b[39m"
     ]
    },
    {
     "name": "stderr",
     "output_type": "stream",
     "text": [
      "\r",
      "\u001b[32mComputing... 78%|███████████████████████████████        |  ETA: 0:00:29\u001b[39m"
     ]
    },
    {
     "name": "stderr",
     "output_type": "stream",
     "text": [
      "\r",
      "\u001b[32mComputing... 78%|███████████████████████████████        |  ETA: 0:00:29\u001b[39m"
     ]
    },
    {
     "name": "stderr",
     "output_type": "stream",
     "text": [
      "\r",
      "\u001b[32mComputing... 78%|███████████████████████████████        |  ETA: 0:00:29\u001b[39m"
     ]
    },
    {
     "name": "stderr",
     "output_type": "stream",
     "text": [
      "\r",
      "\u001b[32mComputing... 79%|███████████████████████████████        |  ETA: 0:00:29\u001b[39m"
     ]
    },
    {
     "name": "stderr",
     "output_type": "stream",
     "text": [
      "\r",
      "\u001b[32mComputing... 79%|███████████████████████████████        |  ETA: 0:00:28\u001b[39m"
     ]
    },
    {
     "name": "stderr",
     "output_type": "stream",
     "text": [
      "\r",
      "\u001b[32mComputing... 79%|███████████████████████████████        |  ETA: 0:00:28\u001b[39m"
     ]
    },
    {
     "name": "stderr",
     "output_type": "stream",
     "text": [
      "\r",
      "\u001b[32mComputing... 79%|███████████████████████████████        |  ETA: 0:00:28\u001b[39m"
     ]
    },
    {
     "name": "stderr",
     "output_type": "stream",
     "text": [
      "\r",
      "\u001b[32mComputing... 79%|███████████████████████████████        |  ETA: 0:00:27\u001b[39m"
     ]
    },
    {
     "name": "stderr",
     "output_type": "stream",
     "text": [
      "\r",
      "\u001b[32mComputing... 80%|████████████████████████████████       |  ETA: 0:00:27\u001b[39m"
     ]
    },
    {
     "name": "stderr",
     "output_type": "stream",
     "text": [
      "\r",
      "\u001b[32mComputing... 80%|████████████████████████████████       |  ETA: 0:00:27\u001b[39m"
     ]
    },
    {
     "name": "stderr",
     "output_type": "stream",
     "text": [
      "\r",
      "\u001b[32mComputing... 80%|████████████████████████████████       |  ETA: 0:00:27\u001b[39m"
     ]
    },
    {
     "name": "stderr",
     "output_type": "stream",
     "text": [
      "\r",
      "\u001b[32mComputing... 80%|████████████████████████████████       |  ETA: 0:00:26\u001b[39m"
     ]
    },
    {
     "name": "stderr",
     "output_type": "stream",
     "text": [
      "\r",
      "\u001b[32mComputing... 80%|████████████████████████████████       |  ETA: 0:00:26\u001b[39m"
     ]
    },
    {
     "name": "stderr",
     "output_type": "stream",
     "text": [
      "\r",
      "\u001b[32mComputing... 81%|████████████████████████████████       |  ETA: 0:00:26\u001b[39m"
     ]
    },
    {
     "name": "stderr",
     "output_type": "stream",
     "text": [
      "\r",
      "\u001b[32mComputing... 81%|████████████████████████████████       |  ETA: 0:00:26\u001b[39m"
     ]
    },
    {
     "name": "stderr",
     "output_type": "stream",
     "text": [
      "\r",
      "\u001b[32mComputing... 81%|████████████████████████████████       |  ETA: 0:00:25\u001b[39m"
     ]
    },
    {
     "name": "stderr",
     "output_type": "stream",
     "text": [
      "\r",
      "\u001b[32mComputing... 81%|████████████████████████████████       |  ETA: 0:00:25\u001b[39m"
     ]
    },
    {
     "name": "stderr",
     "output_type": "stream",
     "text": [
      "\r",
      "\u001b[32mComputing... 81%|████████████████████████████████       |  ETA: 0:00:25\u001b[39m"
     ]
    },
    {
     "name": "stderr",
     "output_type": "stream",
     "text": [
      "\r",
      "\u001b[32mComputing... 82%|████████████████████████████████       |  ETA: 0:00:24\u001b[39m"
     ]
    },
    {
     "name": "stderr",
     "output_type": "stream",
     "text": [
      "\r",
      "\u001b[32mComputing... 82%|████████████████████████████████       |  ETA: 0:00:24\u001b[39m"
     ]
    },
    {
     "name": "stderr",
     "output_type": "stream",
     "text": [
      "\r",
      "\u001b[32mComputing... 82%|████████████████████████████████       |  ETA: 0:00:24\u001b[39m"
     ]
    },
    {
     "name": "stderr",
     "output_type": "stream",
     "text": [
      "\r",
      "\u001b[32mComputing... 82%|█████████████████████████████████      |  ETA: 0:00:24\u001b[39m"
     ]
    },
    {
     "name": "stderr",
     "output_type": "stream",
     "text": [
      "\r",
      "\u001b[32mComputing... 82%|█████████████████████████████████      |  ETA: 0:00:23\u001b[39m"
     ]
    },
    {
     "name": "stderr",
     "output_type": "stream",
     "text": [
      "\r",
      "\u001b[32mComputing... 83%|█████████████████████████████████      |  ETA: 0:00:23\u001b[39m"
     ]
    },
    {
     "name": "stderr",
     "output_type": "stream",
     "text": [
      "\r",
      "\u001b[32mComputing... 83%|█████████████████████████████████      |  ETA: 0:00:23\u001b[39m"
     ]
    },
    {
     "name": "stderr",
     "output_type": "stream",
     "text": [
      "\r",
      "\u001b[32mComputing... 83%|█████████████████████████████████      |  ETA: 0:00:23\u001b[39m"
     ]
    },
    {
     "name": "stderr",
     "output_type": "stream",
     "text": [
      "\r",
      "\u001b[32mComputing... 83%|█████████████████████████████████      |  ETA: 0:00:22\u001b[39m"
     ]
    },
    {
     "name": "stderr",
     "output_type": "stream",
     "text": [
      "\r",
      "\u001b[32mComputing... 83%|█████████████████████████████████      |  ETA: 0:00:22\u001b[39m"
     ]
    },
    {
     "name": "stderr",
     "output_type": "stream",
     "text": [
      "\r",
      "\u001b[32mComputing... 84%|█████████████████████████████████      |  ETA: 0:00:22\u001b[39m"
     ]
    },
    {
     "name": "stderr",
     "output_type": "stream",
     "text": [
      "\r",
      "\u001b[32mComputing... 84%|█████████████████████████████████      |  ETA: 0:00:22\u001b[39m"
     ]
    },
    {
     "name": "stderr",
     "output_type": "stream",
     "text": [
      "\r",
      "\u001b[32mComputing... 84%|█████████████████████████████████      |  ETA: 0:00:21\u001b[39m"
     ]
    },
    {
     "name": "stderr",
     "output_type": "stream",
     "text": [
      "\r",
      "\u001b[32mComputing... 84%|█████████████████████████████████      |  ETA: 0:00:21\u001b[39m"
     ]
    },
    {
     "name": "stderr",
     "output_type": "stream",
     "text": [
      "\r",
      "\u001b[32mComputing... 84%|█████████████████████████████████      |  ETA: 0:00:21\u001b[39m"
     ]
    },
    {
     "name": "stderr",
     "output_type": "stream",
     "text": [
      "\r",
      "\u001b[32mComputing... 85%|█████████████████████████████████      |  ETA: 0:00:21\u001b[39m"
     ]
    },
    {
     "name": "stderr",
     "output_type": "stream",
     "text": [
      "\r",
      "\u001b[32mComputing... 85%|██████████████████████████████████     |  ETA: 0:00:20\u001b[39m"
     ]
    },
    {
     "name": "stderr",
     "output_type": "stream",
     "text": [
      "\r",
      "\u001b[32mComputing... 85%|██████████████████████████████████     |  ETA: 0:00:20\u001b[39m"
     ]
    },
    {
     "name": "stderr",
     "output_type": "stream",
     "text": [
      "\r",
      "\u001b[32mComputing... 85%|██████████████████████████████████     |  ETA: 0:00:20\u001b[39m"
     ]
    },
    {
     "name": "stderr",
     "output_type": "stream",
     "text": [
      "\r",
      "\u001b[32mComputing... 85%|██████████████████████████████████     |  ETA: 0:00:19\u001b[39m"
     ]
    },
    {
     "name": "stderr",
     "output_type": "stream",
     "text": [
      "\r",
      "\u001b[32mComputing... 86%|██████████████████████████████████     |  ETA: 0:00:19\u001b[39m"
     ]
    },
    {
     "name": "stderr",
     "output_type": "stream",
     "text": [
      "\r",
      "\u001b[32mComputing... 86%|██████████████████████████████████     |  ETA: 0:00:19\u001b[39m"
     ]
    },
    {
     "name": "stderr",
     "output_type": "stream",
     "text": [
      "\r",
      "\u001b[32mComputing... 86%|██████████████████████████████████     |  ETA: 0:00:19\u001b[39m"
     ]
    },
    {
     "name": "stderr",
     "output_type": "stream",
     "text": [
      "\r",
      "\u001b[32mComputing... 86%|██████████████████████████████████     |  ETA: 0:00:18\u001b[39m"
     ]
    },
    {
     "name": "stderr",
     "output_type": "stream",
     "text": [
      "\r",
      "\u001b[32mComputing... 86%|██████████████████████████████████     |  ETA: 0:00:18\u001b[39m"
     ]
    },
    {
     "name": "stderr",
     "output_type": "stream",
     "text": [
      "\r",
      "\u001b[32mComputing... 87%|██████████████████████████████████     |  ETA: 0:00:18\u001b[39m"
     ]
    },
    {
     "name": "stderr",
     "output_type": "stream",
     "text": [
      "\r",
      "\u001b[32mComputing... 87%|██████████████████████████████████     |  ETA: 0:00:18\u001b[39m"
     ]
    },
    {
     "name": "stderr",
     "output_type": "stream",
     "text": [
      "\r",
      "\u001b[32mComputing... 87%|██████████████████████████████████     |  ETA: 0:00:17\u001b[39m"
     ]
    },
    {
     "name": "stderr",
     "output_type": "stream",
     "text": [
      "\r",
      "\u001b[32mComputing... 87%|███████████████████████████████████    |  ETA: 0:00:17\u001b[39m"
     ]
    },
    {
     "name": "stderr",
     "output_type": "stream",
     "text": [
      "\r",
      "\u001b[32mComputing... 87%|███████████████████████████████████    |  ETA: 0:00:17\u001b[39m"
     ]
    },
    {
     "name": "stderr",
     "output_type": "stream",
     "text": [
      "\r",
      "\u001b[32mComputing... 88%|███████████████████████████████████    |  ETA: 0:00:16\u001b[39m"
     ]
    },
    {
     "name": "stderr",
     "output_type": "stream",
     "text": [
      "\r",
      "\u001b[32mComputing... 88%|███████████████████████████████████    |  ETA: 0:00:16\u001b[39m"
     ]
    },
    {
     "name": "stderr",
     "output_type": "stream",
     "text": [
      "\r",
      "\u001b[32mComputing... 88%|███████████████████████████████████    |  ETA: 0:00:16\u001b[39m"
     ]
    },
    {
     "name": "stderr",
     "output_type": "stream",
     "text": [
      "\r",
      "\u001b[32mComputing... 88%|███████████████████████████████████    |  ETA: 0:00:16\u001b[39m"
     ]
    },
    {
     "name": "stderr",
     "output_type": "stream",
     "text": [
      "\r",
      "\u001b[32mComputing... 88%|███████████████████████████████████    |  ETA: 0:00:15\u001b[39m"
     ]
    },
    {
     "name": "stderr",
     "output_type": "stream",
     "text": [
      "\r",
      "\u001b[32mComputing... 89%|███████████████████████████████████    |  ETA: 0:00:15\u001b[39m"
     ]
    },
    {
     "name": "stderr",
     "output_type": "stream",
     "text": [
      "\r",
      "\u001b[32mComputing... 89%|███████████████████████████████████    |  ETA: 0:00:15\u001b[39m"
     ]
    },
    {
     "name": "stderr",
     "output_type": "stream",
     "text": [
      "\r",
      "\u001b[32mComputing... 89%|███████████████████████████████████    |  ETA: 0:00:15\u001b[39m"
     ]
    },
    {
     "name": "stderr",
     "output_type": "stream",
     "text": [
      "\r",
      "\u001b[32mComputing... 89%|███████████████████████████████████    |  ETA: 0:00:14\u001b[39m"
     ]
    },
    {
     "name": "stderr",
     "output_type": "stream",
     "text": [
      "\r",
      "\u001b[32mComputing... 89%|███████████████████████████████████    |  ETA: 0:00:14\u001b[39m"
     ]
    },
    {
     "name": "stderr",
     "output_type": "stream",
     "text": [
      "\r",
      "\u001b[32mComputing... 90%|███████████████████████████████████    |  ETA: 0:00:14\u001b[39m"
     ]
    },
    {
     "name": "stderr",
     "output_type": "stream",
     "text": [
      "\r",
      "\u001b[32mComputing... 90%|████████████████████████████████████   |  ETA: 0:00:14\u001b[39m"
     ]
    },
    {
     "name": "stderr",
     "output_type": "stream",
     "text": [
      "\r",
      "\u001b[32mComputing... 90%|████████████████████████████████████   |  ETA: 0:00:13\u001b[39m"
     ]
    },
    {
     "name": "stderr",
     "output_type": "stream",
     "text": [
      "\r",
      "\u001b[32mComputing... 90%|████████████████████████████████████   |  ETA: 0:00:13\u001b[39m"
     ]
    },
    {
     "name": "stderr",
     "output_type": "stream",
     "text": [
      "\r",
      "\u001b[32mComputing... 90%|████████████████████████████████████   |  ETA: 0:00:13\u001b[39m"
     ]
    },
    {
     "name": "stderr",
     "output_type": "stream",
     "text": [
      "\r",
      "\u001b[32mComputing... 91%|████████████████████████████████████   |  ETA: 0:00:12\u001b[39m"
     ]
    },
    {
     "name": "stderr",
     "output_type": "stream",
     "text": [
      "\r",
      "\u001b[32mComputing... 91%|████████████████████████████████████   |  ETA: 0:00:12\u001b[39m"
     ]
    },
    {
     "name": "stderr",
     "output_type": "stream",
     "text": [
      "\r",
      "\u001b[32mComputing... 91%|████████████████████████████████████   |  ETA: 0:00:12\u001b[39m"
     ]
    },
    {
     "name": "stderr",
     "output_type": "stream",
     "text": [
      "\r",
      "\u001b[32mComputing... 91%|████████████████████████████████████   |  ETA: 0:00:12\u001b[39m"
     ]
    },
    {
     "name": "stderr",
     "output_type": "stream",
     "text": [
      "\r",
      "\u001b[32mComputing... 91%|████████████████████████████████████   |  ETA: 0:00:11\u001b[39m"
     ]
    },
    {
     "name": "stderr",
     "output_type": "stream",
     "text": [
      "\r",
      "\u001b[32mComputing... 92%|████████████████████████████████████   |  ETA: 0:00:11\u001b[39m"
     ]
    },
    {
     "name": "stderr",
     "output_type": "stream",
     "text": [
      "\r",
      "\u001b[32mComputing... 92%|████████████████████████████████████   |  ETA: 0:00:11\u001b[39m"
     ]
    },
    {
     "name": "stderr",
     "output_type": "stream",
     "text": [
      "\r",
      "\u001b[32mComputing... 92%|████████████████████████████████████   |  ETA: 0:00:11\u001b[39m"
     ]
    },
    {
     "name": "stderr",
     "output_type": "stream",
     "text": [
      "\r",
      "\u001b[32mComputing... 92%|████████████████████████████████████   |  ETA: 0:00:10\u001b[39m"
     ]
    },
    {
     "name": "stderr",
     "output_type": "stream",
     "text": [
      "\r",
      "\u001b[32mComputing... 92%|█████████████████████████████████████  |  ETA: 0:00:10\u001b[39m"
     ]
    },
    {
     "name": "stderr",
     "output_type": "stream",
     "text": [
      "\r",
      "\u001b[32mComputing... 93%|█████████████████████████████████████  |  ETA: 0:00:10\u001b[39m"
     ]
    },
    {
     "name": "stderr",
     "output_type": "stream",
     "text": [
      "\r",
      "\u001b[32mComputing... 93%|█████████████████████████████████████  |  ETA: 0:00:10\u001b[39m"
     ]
    },
    {
     "name": "stderr",
     "output_type": "stream",
     "text": [
      "\r",
      "\u001b[32mComputing... 93%|█████████████████████████████████████  |  ETA: 0:00:09\u001b[39m"
     ]
    },
    {
     "name": "stderr",
     "output_type": "stream",
     "text": [
      "\r",
      "\u001b[32mComputing... 93%|█████████████████████████████████████  |  ETA: 0:00:09\u001b[39m"
     ]
    },
    {
     "name": "stderr",
     "output_type": "stream",
     "text": [
      "\r",
      "\u001b[32mComputing... 93%|█████████████████████████████████████  |  ETA: 0:00:09\u001b[39m"
     ]
    },
    {
     "name": "stderr",
     "output_type": "stream",
     "text": [
      "\r",
      "\u001b[32mComputing... 94%|█████████████████████████████████████  |  ETA: 0:00:08\u001b[39m"
     ]
    },
    {
     "name": "stderr",
     "output_type": "stream",
     "text": [
      "\r",
      "\u001b[32mComputing... 94%|█████████████████████████████████████  |  ETA: 0:00:08\u001b[39m"
     ]
    },
    {
     "name": "stderr",
     "output_type": "stream",
     "text": [
      "\r",
      "\u001b[32mComputing... 94%|█████████████████████████████████████  |  ETA: 0:00:08\u001b[39m"
     ]
    },
    {
     "name": "stderr",
     "output_type": "stream",
     "text": [
      "\r",
      "\u001b[32mComputing... 94%|█████████████████████████████████████  |  ETA: 0:00:08\u001b[39m"
     ]
    },
    {
     "name": "stderr",
     "output_type": "stream",
     "text": [
      "\r",
      "\u001b[32mComputing... 94%|█████████████████████████████████████  |  ETA: 0:00:07\u001b[39m"
     ]
    },
    {
     "name": "stderr",
     "output_type": "stream",
     "text": [
      "\r",
      "\u001b[32mComputing... 95%|█████████████████████████████████████  |  ETA: 0:00:07\u001b[39m"
     ]
    },
    {
     "name": "stderr",
     "output_type": "stream",
     "text": [
      "\r",
      "\u001b[32mComputing... 95%|█████████████████████████████████████  |  ETA: 0:00:07\u001b[39m"
     ]
    },
    {
     "name": "stderr",
     "output_type": "stream",
     "text": [
      "\r",
      "\u001b[32mComputing... 95%|██████████████████████████████████████ |  ETA: 0:00:07\u001b[39m"
     ]
    },
    {
     "name": "stderr",
     "output_type": "stream",
     "text": [
      "\r",
      "\u001b[32mComputing... 95%|██████████████████████████████████████ |  ETA: 0:00:06\u001b[39m"
     ]
    },
    {
     "name": "stderr",
     "output_type": "stream",
     "text": [
      "\r",
      "\u001b[32mComputing... 95%|██████████████████████████████████████ |  ETA: 0:00:06\u001b[39m"
     ]
    },
    {
     "name": "stderr",
     "output_type": "stream",
     "text": [
      "\r",
      "\u001b[32mComputing... 96%|██████████████████████████████████████ |  ETA: 0:00:06\u001b[39m"
     ]
    },
    {
     "name": "stderr",
     "output_type": "stream",
     "text": [
      "\r",
      "\u001b[32mComputing... 96%|██████████████████████████████████████ |  ETA: 0:00:06\u001b[39m"
     ]
    },
    {
     "name": "stderr",
     "output_type": "stream",
     "text": [
      "\r",
      "\u001b[32mComputing... 96%|██████████████████████████████████████ |  ETA: 0:00:05\u001b[39m"
     ]
    },
    {
     "name": "stderr",
     "output_type": "stream",
     "text": [
      "\r",
      "\u001b[32mComputing... 96%|██████████████████████████████████████ |  ETA: 0:00:05\u001b[39m"
     ]
    },
    {
     "name": "stderr",
     "output_type": "stream",
     "text": [
      "\r",
      "\u001b[32mComputing... 96%|██████████████████████████████████████ |  ETA: 0:00:05\u001b[39m"
     ]
    },
    {
     "name": "stderr",
     "output_type": "stream",
     "text": [
      "\r",
      "\u001b[32mComputing... 97%|██████████████████████████████████████ |  ETA: 0:00:04\u001b[39m"
     ]
    },
    {
     "name": "stderr",
     "output_type": "stream",
     "text": [
      "\r",
      "\u001b[32mComputing... 97%|██████████████████████████████████████ |  ETA: 0:00:04\u001b[39m"
     ]
    },
    {
     "name": "stderr",
     "output_type": "stream",
     "text": [
      "\r",
      "\u001b[32mComputing... 97%|██████████████████████████████████████ |  ETA: 0:00:04\u001b[39m"
     ]
    },
    {
     "name": "stderr",
     "output_type": "stream",
     "text": [
      "\r",
      "\u001b[32mComputing... 97%|██████████████████████████████████████ |  ETA: 0:00:04\u001b[39m"
     ]
    },
    {
     "name": "stderr",
     "output_type": "stream",
     "text": [
      "\r",
      "\u001b[32mComputing... 97%|██████████████████████████████████████ |  ETA: 0:00:03\u001b[39m"
     ]
    },
    {
     "name": "stderr",
     "output_type": "stream",
     "text": [
      "\r",
      "\u001b[32mComputing... 98%|███████████████████████████████████████|  ETA: 0:00:03\u001b[39m"
     ]
    },
    {
     "name": "stderr",
     "output_type": "stream",
     "text": [
      "\r",
      "\u001b[32mComputing... 98%|███████████████████████████████████████|  ETA: 0:00:03\u001b[39m"
     ]
    },
    {
     "name": "stderr",
     "output_type": "stream",
     "text": [
      "\r",
      "\u001b[32mComputing... 98%|███████████████████████████████████████|  ETA: 0:00:03\u001b[39m"
     ]
    },
    {
     "name": "stderr",
     "output_type": "stream",
     "text": [
      "\r",
      "\u001b[32mComputing... 98%|███████████████████████████████████████|  ETA: 0:00:02\u001b[39m"
     ]
    },
    {
     "name": "stderr",
     "output_type": "stream",
     "text": [
      "\r",
      "\u001b[32mComputing... 98%|███████████████████████████████████████|  ETA: 0:00:02\u001b[39m"
     ]
    },
    {
     "name": "stderr",
     "output_type": "stream",
     "text": [
      "\r",
      "\u001b[32mComputing... 99%|███████████████████████████████████████|  ETA: 0:00:02\u001b[39m"
     ]
    },
    {
     "name": "stderr",
     "output_type": "stream",
     "text": [
      "\r",
      "\u001b[32mComputing... 99%|███████████████████████████████████████|  ETA: 0:00:02\u001b[39m"
     ]
    },
    {
     "name": "stderr",
     "output_type": "stream",
     "text": [
      "\r",
      "\u001b[32mComputing... 99%|███████████████████████████████████████|  ETA: 0:00:01\u001b[39m"
     ]
    },
    {
     "name": "stderr",
     "output_type": "stream",
     "text": [
      "\r",
      "\u001b[32mComputing... 99%|███████████████████████████████████████|  ETA: 0:00:01\u001b[39m"
     ]
    },
    {
     "name": "stderr",
     "output_type": "stream",
     "text": [
      "\r",
      "\u001b[32mComputing... 99%|███████████████████████████████████████|  ETA: 0:00:01\u001b[39m"
     ]
    },
    {
     "name": "stderr",
     "output_type": "stream",
     "text": [
      "\r",
      "\u001b[32mComputing...100%|███████████████████████████████████████|  ETA: 0:00:01\u001b[39m"
     ]
    },
    {
     "name": "stderr",
     "output_type": "stream",
     "text": [
      "\r",
      "\u001b[32mComputing...100%|███████████████████████████████████████|  ETA: 0:00:00\u001b[39m"
     ]
    },
    {
     "name": "stderr",
     "output_type": "stream",
     "text": [
      "\r",
      "\u001b[32mComputing...100%|███████████████████████████████████████| Time: 0:02:12\u001b[39m\n"
     ]
    },
    {
     "data": {
      "text/plain": [
       "(OlshausenField1996Model{Float32}(OFParameter{Float32}(0.01f0, 0.01f0, 0.005f0), 256, 100, 250, Float32[0.10315285 0.18754528 … 0.22811688 0.17537785; 0.0 0.0 … 0.0 0.0; … ; 0.0 -0.07082396 … -0.006810426 0.0; 0.0 0.0 … 0.13619609 0.14590077], Float32[0.010358939 -0.017160017 … -0.014799751 -0.021753488; 0.010888608 -0.0116537 … 0.00042318532 -0.006685987; … ; -0.00044587164 -0.026726874 … -0.01484856 0.009596399; -0.0068683894 -0.036801893 … -0.021046586 0.015627638]), [0.0701894438517186, 0.07182616197702942, 0.06221303426884353, 0.06519824754982273, 0.06437881346713624, 0.05955860732361602, 0.06689671994089963, 0.07317771457433676, 0.05908461864112476, 0.06336798226979476  …  0.04677869143148863, 0.051640376417946936, 0.0527502673549274, 0.04962591021563782, 0.04703875767054511, 0.045652753235376216, 0.042320973302950905, 0.04870149102070417, 0.04820098997647466, 0.04723373170956642])"
      ]
     },
     "execution_count": 13,
     "metadata": {},
     "output_type": "execute_result"
    }
   ],
   "source": [
    "# Simulation constants\n",
    "num_iter = 500 # number of iterations\n",
    "nt_max = 1000 # Maximum number of simulation time\n",
    "batch_size = 250 # Batch size\n",
    "\n",
    "sz = 16 # image patch size\n",
    "num_units = 100 # number of neurons (units)\n",
    "eps = 1e-2 # small value which determines convergence\n",
    "\n",
    "model, errorarr = run_simulation(imgs, num_iter, nt_max, batch_size, sz, num_units, eps)"
   ]
  },
  {
   "cell_type": "markdown",
   "metadata": {},
   "source": [
    "### 訓練中の損失の描画\n",
    "訓練中の損失の変化を描画してみよう。損失が低下し、学習が進行したことが分かる。"
   ]
  },
  {
   "cell_type": "code",
   "execution_count": 14,
   "metadata": {
    "execution": {
     "iopub.execute_input": "2020-07-25T15:43:01.740880Z",
     "iopub.status.busy": "2020-07-25T15:43:01.740880Z",
     "iopub.status.idle": "2020-07-25T15:43:01.916412Z",
     "shell.execute_reply": "2020-07-25T15:43:01.916412Z"
    }
   },
   "outputs": [
    {
     "data": {
      "image/png": "[encoded data removed]",
      "text/plain": [
       "Figure(PyObject <Figure size 400x200 with 1 Axes>)"
      ]
     },
     "metadata": {
      "filenames": {
       "image/png": "D:\\data\\Github\\compneuro-julia-management\\contents\\_build\\jupyter_execute\\13-1_sparse-coding_32_0.png"
      }
     },
     "output_type": "display_data"
    }
   ],
   "source": [
    "# Plot error\n",
    "figure(figsize=(4, 2))\n",
    "ylabel(\"Error\")\n",
    "xlabel(\"Iterations\")\n",
    "plot(1:num_iter, errorarr)\n",
    "tight_layout()"
   ]
  },
  {
   "cell_type": "markdown",
   "metadata": {},
   "source": [
    "### 重み行列 (受容野)の描画\n",
    "学習後の重み行列 `Phi` ($\\Phi$)を可視化してみよう。"
   ]
  },
  {
   "cell_type": "code",
   "execution_count": 15,
   "metadata": {
    "execution": {
     "iopub.execute_input": "2020-07-25T15:43:01.917402Z",
     "iopub.status.busy": "2020-07-25T15:43:01.917402Z",
     "iopub.status.idle": "2020-07-25T15:43:03.554029Z",
     "shell.execute_reply": "2020-07-25T15:43:03.554029Z"
    }
   },
   "outputs": [
    {
     "data": {
      "image/png": "[encoded data removed]",
      "text/plain": [
       "Figure(PyObject <Figure size 420x400 with 100 Axes>)"
      ]
     },
     "metadata": {
      "filenames": {
       "image/png": "D:\\data\\Github\\compneuro-julia-management\\contents\\_build\\jupyter_execute\\13-1_sparse-coding_34_0.png"
      }
     },
     "output_type": "display_data"
    }
   ],
   "source": [
    "# Plot Receptive fields\n",
    "figure(figsize=(4.2, 4))\n",
    "subplots_adjust(hspace=0.1, wspace=0.1)\n",
    "for i in 1:num_units\n",
    "    subplot(10, 10, i)\n",
    "    imshow(reshape(model.Phi[:, i], (sz, sz)), cmap=\"gray\")\n",
    "    axis(\"off\")\n",
    "end\n",
    "suptitle(\"Receptive fields\", fontsize=14)\n",
    "subplots_adjust(top=0.925)"
   ]
  },
  {
   "cell_type": "markdown",
   "metadata": {},
   "source": [
    "白色が**ON領域**(興奮)、黒色が**OFF領域**(抑制)を表す。Gaborフィルタ様の局所受容野が得られており、これは一次視覚野(V1)における単純型細胞(simple cells)の受容野に類似している。"
   ]
  }
 ],
 "metadata": {
  "celltoolbar": "Tags",
  "kernelspec": {
   "display_name": "Julia 1.4.0",
   "language": "julia",
   "name": "julia-1.4"
  },
  "language_info": {
   "file_extension": ".jl",
   "mimetype": "application/julia",
   "name": "julia",
   "version": "1.4.0"
  }
 },
 "nbformat": 4,
 "nbformat_minor": 4
}