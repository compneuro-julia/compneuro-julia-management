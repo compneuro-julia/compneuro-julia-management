{
 "cells": [
  {
   "cell_type": "markdown",
   "metadata": {},
   "source": [
    "# JuliaのTips集"
   ]
  },
  {
   "cell_type": "markdown",
   "metadata": {},
   "source": [
    "## 配列の1次元化"
   ]
  },
  {
   "cell_type": "code",
   "execution_count": 1,
   "metadata": {
    "execution": {
     "iopub.execute_input": "2020-07-24T08:13:50.442838Z",
     "iopub.status.busy": "2020-07-24T08:13:49.648958Z",
     "iopub.status.idle": "2020-07-24T08:13:50.977435Z",
     "shell.execute_reply": "2020-07-24T08:13:50.977435Z"
    }
   },
   "outputs": [],
   "source": [
    "using Random"
   ]
  },
  {
   "cell_type": "code",
   "execution_count": 2,
   "metadata": {
    "execution": {
     "iopub.execute_input": "2020-07-24T08:13:50.979460Z",
     "iopub.status.busy": "2020-07-24T08:13:50.978458Z",
     "iopub.status.idle": "2020-07-24T08:13:51.958836Z",
     "shell.execute_reply": "2020-07-24T08:13:51.958836Z"
    }
   },
   "outputs": [
    {
     "data": {
      "text/plain": [
       "2×2×2 Array{Float64,3}:\n",
       "[:, :, 1] =\n",
       " 0.253362  0.968019\n",
       " 0.532142  0.507388\n",
       "\n",
       "[:, :, 2] =\n",
       " 0.0981171  0.782664\n",
       " 0.128448   0.350107"
      ]
     },
     "execution_count": 2,
     "metadata": {},
     "output_type": "execute_result"
    }
   ],
   "source": [
    "a = rand(2, 2, 2)"
   ]
  },
  {
   "cell_type": "code",
   "execution_count": 3,
   "metadata": {
    "execution": {
     "iopub.execute_input": "2020-07-24T08:13:51.960831Z",
     "iopub.status.busy": "2020-07-24T08:13:51.959833Z",
     "iopub.status.idle": "2020-07-24T08:13:52.554242Z",
     "shell.execute_reply": "2020-07-24T08:13:52.554242Z"
    }
   },
   "outputs": [
    {
     "data": {
      "text/plain": [
       "8-element Array{Float64,1}:\n",
       " 0.2533618273578748\n",
       " 0.5321424593489519\n",
       " 0.9680186716623347\n",
       " 0.5073876288735386\n",
       " 0.09811712970827102\n",
       " 0.12844825565445417\n",
       " 0.7826640380385332\n",
       " 0.3501070353330651"
      ]
     },
     "execution_count": 3,
     "metadata": {},
     "output_type": "execute_result"
    }
   ],
   "source": [
    "import Base.Iterators: flatten\n",
    "collect(flatten(a))"
   ]
  },
  {
   "cell_type": "markdown",
   "metadata": {},
   "source": [
    "単に次のようにするだけでもよい。"
   ]
  },
  {
   "cell_type": "code",
   "execution_count": 4,
   "metadata": {
    "execution": {
     "iopub.execute_input": "2020-07-24T08:13:52.555243Z",
     "iopub.status.busy": "2020-07-24T08:13:52.555243Z",
     "iopub.status.idle": "2020-07-24T08:13:52.564216Z",
     "shell.execute_reply": "2020-07-24T08:13:52.564216Z"
    }
   },
   "outputs": [
    {
     "data": {
      "text/plain": [
       "8-element Array{Float64,1}:\n",
       " 0.2533618273578748\n",
       " 0.5321424593489519\n",
       " 0.9680186716623347\n",
       " 0.5073876288735386\n",
       " 0.09811712970827102\n",
       " 0.12844825565445417\n",
       " 0.7826640380385332\n",
       " 0.3501070353330651"
      ]
     },
     "execution_count": 4,
     "metadata": {},
     "output_type": "execute_result"
    }
   ],
   "source": [
    "a[:]"
   ]
  },
  {
   "cell_type": "markdown",
   "metadata": {},
   "source": [
    "## 行列の正規化"
   ]
  },
  {
   "cell_type": "code",
   "execution_count": 5,
   "metadata": {
    "execution": {
     "iopub.execute_input": "2020-07-24T08:13:52.566211Z",
     "iopub.status.busy": "2020-07-24T08:13:52.565213Z",
     "iopub.status.idle": "2020-07-24T08:13:53.102775Z",
     "shell.execute_reply": "2020-07-24T08:13:53.102775Z"
    }
   },
   "outputs": [
    {
     "data": {
      "text/plain": [
       "3×3 Array{Float64,2}:\n",
       " 0.300354  0.0885653  0.441135\n",
       " 0.407555  0.53293    0.597422\n",
       " 0.160025  0.609892   0.342932"
      ]
     },
     "execution_count": 5,
     "metadata": {},
     "output_type": "execute_result"
    }
   ],
   "source": [
    "A = rand(3,3)"
   ]
  },
  {
   "cell_type": "code",
   "execution_count": 6,
   "metadata": {
    "execution": {
     "iopub.execute_input": "2020-07-24T08:13:53.103774Z",
     "iopub.status.busy": "2020-07-24T08:13:53.103774Z",
     "iopub.status.idle": "2020-07-24T08:13:53.261350Z",
     "shell.execute_reply": "2020-07-24T08:13:53.261350Z"
    }
   },
   "outputs": [
    {
     "data": {
      "text/plain": [
       "3×3 Array{Float64,2}:\n",
       " 0.346057  0.0719232  0.319318\n",
       " 0.469569  0.432788   0.432448\n",
       " 0.184374  0.495289   0.248234"
      ]
     },
     "execution_count": 6,
     "metadata": {},
     "output_type": "execute_result"
    }
   ],
   "source": [
    "B = A ./ sum(A, dims=1)"
   ]
  },
  {
   "cell_type": "code",
   "execution_count": 7,
   "metadata": {
    "execution": {
     "iopub.execute_input": "2020-07-24T08:13:53.263345Z",
     "iopub.status.busy": "2020-07-24T08:13:53.262359Z",
     "iopub.status.idle": "2020-07-24T08:13:53.376040Z",
     "shell.execute_reply": "2020-07-24T08:13:53.376040Z"
    }
   },
   "outputs": [
    {
     "name": "stdout",
     "output_type": "stream",
     "text": [
      "[1.0 1.0 1.0]"
     ]
    }
   ],
   "source": [
    "print(sum(B, dims=1))"
   ]
  }
 ],
 "metadata": {
  "kernelspec": {
   "display_name": "Julia 1.4.0",
   "language": "julia",
   "name": "julia-1.4"
  },
  "language_info": {
   "file_extension": ".jl",
   "mimetype": "application/julia",
   "name": "julia",
   "version": "1.4.0"
  }
 },
 "nbformat": 4,
 "nbformat_minor": 4
}