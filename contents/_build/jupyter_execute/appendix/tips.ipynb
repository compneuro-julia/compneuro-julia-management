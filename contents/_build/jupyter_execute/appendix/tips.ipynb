{
 "cells": [
  {
   "cell_type": "markdown",
   "metadata": {},
   "source": [
    "# JuliaのTips集\n",
    "このページはJuliaでの実装におけるTips (詰まったところの解決策)をまとめたものである。体系的にまとまってはいない。"
   ]
  },
  {
   "cell_type": "markdown",
   "metadata": {},
   "source": [
    "## 1. 関数名の!記号\n",
    "単なる**慣習**として関数への入力を変更する場合に!を付ける。\n",
    "\n",
    "関数内で配列を変更する場合には注意が必要である。以下に入力された配列を同じサイズの要素1の配列で置き換える、ということを目的として書かれた2つの関数がある。違いは`v`の後に`[:]`としているかどうかである。"
   ]
  },
  {
   "cell_type": "code",
   "execution_count": 1,
   "metadata": {},
   "outputs": [
    {
     "data": {
      "text/plain": [
       "right! (generic function with 1 method)"
      ]
     },
     "execution_count": 1,
     "metadata": {},
     "output_type": "execute_result"
    }
   ],
   "source": [
    "function wrong!(a::Array)\n",
    "    a = ones(size(a))\n",
    "end\n",
    "\n",
    "function right!(a::Array)\n",
    "    a[:] = ones(size(a))\n",
    "end"
   ]
  },
  {
   "cell_type": "markdown",
   "metadata": {},
   "source": [
    "実行すると`wrong!`の場合には入力された配列が変更されていないことがわかる。"
   ]
  },
  {
   "cell_type": "code",
   "execution_count": 2,
   "metadata": {},
   "outputs": [
    {
     "name": "stdout",
     "output_type": "stream",
     "text": [
      "v : "
     ]
    },
    {
     "name": "stdout",
     "output_type": "stream",
     "text": [
      "[0.3090368990432588 0.28505372035635523; 0.36039892643656835 0.678223689591329]\n",
      "wrong : [0.3090368990432588 0.28505372035635523; 0.36039892643656835 0.678223689591329]\n",
      "right : [1.0 1.0; 1.0 1.0]\n"
     ]
    }
   ],
   "source": [
    "using Random\n",
    "v = rand(2, 2)\n",
    "println(\"v : \", v)\n",
    "\n",
    "wrong!(v)\n",
    "println(\"wrong : \", v)\n",
    "\n",
    "right!(v)\n",
    "println(\"right : \", v)"
   ]
  },
  {
   "cell_type": "markdown",
   "metadata": {},
   "source": [
    "## 2. 配列の1次元化\n",
    "配列を一次元化(flatten)する方法。まずは3次元配列を作成する。"
   ]
  },
  {
   "cell_type": "code",
   "execution_count": 3,
   "metadata": {},
   "outputs": [
    {
     "data": {
      "text/plain": [
       "2×2×2 Array{Float64,3}:\n",
       "[:, :, 1] =\n",
       " 0.00534986  0.4856\n",
       " 0.438555    0.744457\n",
       "\n",
       "[:, :, 2] =\n",
       " 0.810031  0.162148\n",
       " 0.753313  0.0655913"
      ]
     },
     "execution_count": 3,
     "metadata": {},
     "output_type": "execute_result"
    }
   ],
   "source": [
    "B = rand(2, 2, 2)"
   ]
  },
  {
   "cell_type": "markdown",
   "metadata": {},
   "source": [
    "用意されている`flatten`を素直に用いると次のようになる。"
   ]
  },
  {
   "cell_type": "code",
   "execution_count": 4,
   "metadata": {},
   "outputs": [
    {
     "data": {
      "text/plain": [
       "8-element Array{Float64,1}:\n",
       " 0.005349859924772105\n",
       " 0.43855482864877393\n",
       " 0.48559963845290754\n",
       " 0.7444570141514844\n",
       " 0.8100312582206968\n",
       " 0.7533126121452021\n",
       " 0.1621477669172322\n",
       " 0.06559133429633146"
      ]
     },
     "execution_count": 4,
     "metadata": {},
     "output_type": "execute_result"
    }
   ],
   "source": [
    "import Base.Iterators: flatten\n",
    "collect(flatten(B))"
   ]
  },
  {
   "cell_type": "markdown",
   "metadata": {},
   "source": [
    "ただし、単に`B[:]`とするだけでもよい。"
   ]
  },
  {
   "cell_type": "code",
   "execution_count": 5,
   "metadata": {},
   "outputs": [
    {
     "data": {
      "text/plain": [
       "8-element Array{Float64,1}:\n",
       " 0.005349859924772105\n",
       " 0.43855482864877393\n",
       " 0.48559963845290754\n",
       " 0.7444570141514844\n",
       " 0.8100312582206968\n",
       " 0.7533126121452021\n",
       " 0.1621477669172322\n",
       " 0.06559133429633146"
      ]
     },
     "execution_count": 5,
     "metadata": {},
     "output_type": "execute_result"
    }
   ],
   "source": [
    "B[:]"
   ]
  },
  {
   "cell_type": "markdown",
   "metadata": {},
   "source": [
    "## 3. 行列の行・列ごとの正規化\n",
    "シミュレーションにおいてニューロン間の重み行列を行あるいは列ごとに正規化 (weight normalization)する場合がある。これは各ニューロンへの入力の大きさを同じにする働きや重みの発散を防ぐ役割がある。以下では行ごとの和を1にする。"
   ]
  },
  {
   "cell_type": "code",
   "execution_count": 6,
   "metadata": {},
   "outputs": [
    {
     "data": {
      "text/plain": [
       "3×3 Array{Float64,2}:\n",
       " 0.149263  0.842437   0.690403\n",
       " 0.497057  0.41185    0.638995\n",
       " 0.757788  0.0330631  4.52843e-5"
      ]
     },
     "execution_count": 6,
     "metadata": {},
     "output_type": "execute_result"
    }
   ],
   "source": [
    "W = rand(3,3)"
   ]
  },
  {
   "cell_type": "code",
   "execution_count": 7,
   "metadata": {},
   "outputs": [
    {
     "data": {
      "text/plain": [
       "3×3 Array{Float64,2}:\n",
       " 0.106305  0.654396   0.519318\n",
       " 0.354002  0.319921   0.480648\n",
       " 0.539693  0.0256831  3.40626e-5"
      ]
     },
     "execution_count": 7,
     "metadata": {},
     "output_type": "execute_result"
    }
   ],
   "source": [
    "Wnormed = W ./ sum(W, dims=1)"
   ]
  },
  {
   "cell_type": "code",
   "execution_count": 8,
   "metadata": {},
   "outputs": [
    {
     "name": "stdout",
     "output_type": "stream",
     "text": [
      "[1.0 1.0 0.9999999999999999]\n"
     ]
    }
   ],
   "source": [
    "println(sum(Wnormed, dims=1))"
   ]
  },
  {
   "cell_type": "markdown",
   "metadata": {},
   "source": [
    "## 4. 行列の結合 (concatenate)\n",
    "行列の結合はMATLABに近い形式で行うことができる。まず、2つの行列A, Bを用意する。"
   ]
  },
  {
   "cell_type": "code",
   "execution_count": 9,
   "metadata": {},
   "outputs": [
    {
     "data": {
      "text/plain": [
       "2×2 Array{Int64,2}:\n",
       " 1  2\n",
       " 3  4"
      ]
     },
     "execution_count": 9,
     "metadata": {},
     "output_type": "execute_result"
    }
   ],
   "source": [
    "A = [1 2; 3 4]"
   ]
  },
  {
   "cell_type": "code",
   "execution_count": 10,
   "metadata": {},
   "outputs": [
    {
     "data": {
      "text/plain": [
       "2×3 Array{Int64,2}:\n",
       " 4  5  6\n",
       " 7  8  9"
      ]
     },
     "execution_count": 10,
     "metadata": {},
     "output_type": "execute_result"
    }
   ],
   "source": [
    "B = [4 5 6; 7 8 9]"
   ]
  },
  {
   "cell_type": "markdown",
   "metadata": {},
   "source": [
    "### 4.1 水平結合 (Horizontal concatenation)\n",
    "`hcat`を使うやり方と、`[ ]`を使うやり方がある。"
   ]
  },
  {
   "cell_type": "code",
   "execution_count": 11,
   "metadata": {},
   "outputs": [
    {
     "data": {
      "text/plain": [
       "2×5 Array{Int64,2}:\n",
       " 1  2  4  5  6\n",
       " 3  4  7  8  9"
      ]
     },
     "execution_count": 11,
     "metadata": {},
     "output_type": "execute_result"
    }
   ],
   "source": [
    "H1 = hcat(A,B)"
   ]
  },
  {
   "cell_type": "code",
   "execution_count": 12,
   "metadata": {},
   "outputs": [
    {
     "data": {
      "text/plain": [
       "2×5 Array{Int64,2}:\n",
       " 1  2  4  5  6\n",
       " 3  4  7  8  9"
      ]
     },
     "execution_count": 12,
     "metadata": {},
     "output_type": "execute_result"
    }
   ],
   "source": [
    "H2 = [A B]"
   ]
  },
  {
   "cell_type": "markdown",
   "metadata": {},
   "source": [
    "なお、MATLABのように次のようにすると正しく結合はされない。"
   ]
  },
  {
   "cell_type": "code",
   "execution_count": 13,
   "metadata": {},
   "outputs": [
    {
     "data": {
      "text/plain": [
       "2-element Array{Array{Int64,2},1}:\n",
       " [1 2; 3 4]\n",
       " [4 5 6; 7 8 9]"
      ]
     },
     "execution_count": 13,
     "metadata": {},
     "output_type": "execute_result"
    }
   ],
   "source": [
    "H3 = [A, B]"
   ]
  },
  {
   "cell_type": "markdown",
   "metadata": {},
   "source": [
    "### 4.2 垂直結合 (Vertical concatenation)"
   ]
  },
  {
   "cell_type": "code",
   "execution_count": 14,
   "metadata": {},
   "outputs": [
    {
     "data": {
      "text/plain": [
       "5×2 Array{Int64,2}:\n",
       " 1  2\n",
       " 3  4\n",
       " 4  7\n",
       " 5  8\n",
       " 6  9"
      ]
     },
     "execution_count": 14,
     "metadata": {},
     "output_type": "execute_result"
    }
   ],
   "source": [
    "V1 = vcat(A, B')"
   ]
  },
  {
   "cell_type": "code",
   "execution_count": 15,
   "metadata": {},
   "outputs": [
    {
     "data": {
      "text/plain": [
       "5×2 Array{Int64,2}:\n",
       " 1  2\n",
       " 3  4\n",
       " 4  7\n",
       " 5  8\n",
       " 6  9"
      ]
     },
     "execution_count": 15,
     "metadata": {},
     "output_type": "execute_result"
    }
   ],
   "source": [
    "V2 = [A; B']"
   ]
  },
  {
   "cell_type": "code",
   "execution_count": 16,
   "metadata": {},
   "outputs": [
    {
     "data": {
      "text/plain": [
       "5×4 Array{Int64,2}:\n",
       " 1  2  1  2\n",
       " 3  4  3  4\n",
       " 4  7  4  7\n",
       " 5  8  5  8\n",
       " 6  9  6  9"
      ]
     },
     "execution_count": 16,
     "metadata": {},
     "output_type": "execute_result"
    }
   ],
   "source": [
    "[V2 [A;B']]"
   ]
  },
  {
   "cell_type": "markdown",
   "metadata": {},
   "source": [
    "## 5. 配列に新しい軸を追加\n",
    "要はnumpyでの`A[None, :]`や`A[np.newaxis, :]`のようなことがしたい場合。やや面倒だが、`reshape`を使うか、`[CartesianIndex()]`を用いる。"
   ]
  },
  {
   "cell_type": "code",
   "execution_count": 17,
   "metadata": {},
   "outputs": [
    {
     "data": {
      "text/plain": [
       "3-element Array{Float64,1}:\n",
       " 0.9700309221959584\n",
       " 0.9191627169218128\n",
       " 0.8465877425923181"
      ]
     },
     "execution_count": 17,
     "metadata": {},
     "output_type": "execute_result"
    }
   ],
   "source": [
    "v = rand(3)"
   ]
  },
  {
   "cell_type": "code",
   "execution_count": 18,
   "metadata": {},
   "outputs": [
    {
     "data": {
      "text/plain": [
       "1×3 Array{Float64,2}:\n",
       " 0.970031  0.919163  0.846588"
      ]
     },
     "execution_count": 18,
     "metadata": {},
     "output_type": "execute_result"
    }
   ],
   "source": [
    "newaxis = [CartesianIndex()]\n",
    "v1 = v[newaxis, :]"
   ]
  },
  {
   "cell_type": "markdown",
   "metadata": {},
   "source": [
    "## 6. Array{Array{Float64, x},1}をArray{Float64, x+1}に変換\n",
    "numpyでは`array([matrix for i in range()])`などを用いると、1次元配列のリストを2次元配列に変換できた。Juliaでも同様にする場合は`hcat(...)`や`cat(...)`を用いる。"
   ]
  },
  {
   "cell_type": "code",
   "execution_count": 19,
   "metadata": {},
   "outputs": [
    {
     "name": "stdout",
     "output_type": "stream",
     "text": [
      "Type : Array{Array{Float64,1},1}\n",
      "Size : (5,)\n"
     ]
    }
   ],
   "source": [
    "A1 = [i*rand(3) for i=1:5]\n",
    "\n",
    "println(\"Type : \", typeof(A1))\n",
    "println(\"Size : \", size(A1))"
   ]
  },
  {
   "cell_type": "code",
   "execution_count": 20,
   "metadata": {},
   "outputs": [
    {
     "name": "stdout",
     "output_type": "stream",
     "text": [
      "Type : LinearAlgebra.Adjoint{Float64,Array{Float64,2}}\n",
      "Size : (5, 3)\n"
     ]
    }
   ],
   "source": [
    "A2 = hcat(A1...)'\n",
    "\n",
    "println(\"Type : \", typeof(A2))\n",
    "println(\"Size : \", size(A2))"
   ]
  },
  {
   "cell_type": "markdown",
   "metadata": {},
   "source": [
    "以下は多次元配列の場合。`cat(...)`で配列を結合し、`permitedims`で転置する。"
   ]
  },
  {
   "cell_type": "code",
   "execution_count": 21,
   "metadata": {},
   "outputs": [
    {
     "name": "stdout",
     "output_type": "stream",
     "text": [
      "Type : Array{Array{Float64,3},1}\n",
      "Size : (6,)\n"
     ]
    }
   ],
   "source": [
    "B1 = [i*rand(3, 4, 5) for i=1:6]\n",
    "\n",
    "println(\"Type : \", typeof(B1))\n",
    "println(\"Size : \", size(B1))"
   ]
  },
  {
   "cell_type": "code",
   "execution_count": 22,
   "metadata": {},
   "outputs": [
    {
     "name": "stdout",
     "output_type": "stream",
     "text": [
      "Type : Array{Float64,4}\n",
      "Size : (6, 3, 4, 5)\n"
     ]
    }
   ],
   "source": [
    "B2 = permutedims(cat(B1..., dims=4), [4, 1, 2, 3])\n",
    "\n",
    "println(\"Type : \", typeof(B2))\n",
    "println(\"Size : \", size(B2))"
   ]
  },
  {
   "cell_type": "markdown",
   "metadata": {},
   "source": [
    "## 7. 二項分布 (bernoulli distribution)のサンプリング"
   ]
  },
  {
   "cell_type": "code",
   "execution_count": 23,
   "metadata": {},
   "outputs": [
    {
     "data": {
      "text/plain": [
       "100"
      ]
     },
     "execution_count": 23,
     "metadata": {},
     "output_type": "execute_result"
    }
   ],
   "source": [
    "p = 0.7\n",
    "N = 100"
   ]
  },
  {
   "cell_type": "code",
   "execution_count": 24,
   "metadata": {},
   "outputs": [],
   "source": [
    "using BenchmarkTools"
   ]
  },
  {
   "cell_type": "code",
   "execution_count": 25,
   "metadata": {},
   "outputs": [
    {
     "data": {
      "text/plain": [
       "BenchmarkTools.Trial: \n",
       "  memory estimate:  1.91 KiB\n",
       "  allocs estimate:  7\n",
       "  --------------\n",
       "  minimum time:     686.099 ns (0.00% GC)\n",
       "  median time:      715.894 ns (0.00% GC)\n",
       "  mean time:        760.233 ns (3.12% GC)\n",
       "  maximum time:     5.828 μs (84.17% GC)\n",
       "  --------------\n",
       "  samples:          10000\n",
       "  evals/sample:     151"
      ]
     },
     "execution_count": 25,
     "metadata": {},
     "output_type": "execute_result"
    }
   ],
   "source": [
    "@benchmark floor.(p .+ rand(N))"
   ]
  },
  {
   "cell_type": "code",
   "execution_count": 26,
   "metadata": {},
   "outputs": [
    {
     "name": "stdout",
     "output_type": "stream",
     "text": [
      "0.61\n"
     ]
    }
   ],
   "source": [
    "println(sum(floor.(p .+ rand(N)) .== 1.0) / N) "
   ]
  },
  {
   "cell_type": "code",
   "execution_count": 27,
   "metadata": {},
   "outputs": [
    {
     "data": {
      "text/plain": [
       "BenchmarkTools.Trial: \n",
       "  memory estimate:  1.55 KiB\n",
       "  allocs estimate:  6\n",
       "  --------------\n",
       "  minimum time:     868.983 ns (0.00% GC)\n",
       "  median time:      922.414 ns (0.00% GC)\n",
       "  mean time:        976.752 ns (2.83% GC)\n",
       "  maximum time:     16.453 μs (87.74% GC)\n",
       "  --------------\n",
       "  samples:          10000\n",
       "  evals/sample:     58"
      ]
     },
     "execution_count": 27,
     "metadata": {},
     "output_type": "execute_result"
    }
   ],
   "source": [
    "@benchmark 1.0f0 * (p .≥ rand(N))"
   ]
  },
  {
   "cell_type": "code",
   "execution_count": 28,
   "metadata": {},
   "outputs": [
    {
     "name": "stdout",
     "output_type": "stream",
     "text": [
      "0.73\n"
     ]
    }
   ],
   "source": [
    "println(sum(1.0f0 * (p .≥ rand(N)) .== 1.0) / N) "
   ]
  }
 ],
 "metadata": {
  "kernelspec": {
   "display_name": "Julia 1.5.0",
   "language": "julia",
   "name": "julia-1.5"
  },
  "language_info": {
   "file_extension": ".jl",
   "mimetype": "application/julia",
   "name": "julia",
   "version": "1.5.0"
  }
 },
 "nbformat": 4,
 "nbformat_minor": 4
}