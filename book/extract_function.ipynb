{
 "cells": [
  {
   "cell_type": "code",
   "execution_count": 3,
   "id": "5910f347",
   "metadata": {},
   "outputs": [],
   "source": [
    "import codecs\n",
    "import json\n",
    "import re\n",
    "import yaml\n",
    "import os\n",
    "from tqdm.notebook import tqdm\n",
    "import numpy as np\n",
    "import glob"
   ]
  },
  {
   "cell_type": "code",
   "execution_count": 5,
   "id": "340782ce",
   "metadata": {},
   "outputs": [],
   "source": [
    "file_list = glob.glob('./text/**/*.jl', recursive=True)"
   ]
  },
  {
   "cell_type": "code",
   "execution_count": 7,
   "id": "d8032128",
   "metadata": {},
   "outputs": [
    {
     "data": {
      "text/plain": [
       "'./text\\\\bayesian-brain\\\\bayesian-linear-regression\\\\004.jl'"
      ]
     },
     "execution_count": 7,
     "metadata": {},
     "output_type": "execute_result"
    }
   ],
   "source": [
    "file_list[20]"
   ]
  },
  {
   "cell_type": "code",
   "execution_count": 10,
   "id": "92011b67",
   "metadata": {},
   "outputs": [],
   "source": [
    "filename = file_list[20]\n",
    "f = open(filename, 'r', encoding='UTF-8')\n",
    "data = f.read()"
   ]
  },
  {
   "cell_type": "code",
   "execution_count": 11,
   "id": "e9d291ae",
   "metadata": {},
   "outputs": [
    {
     "data": {
      "text/plain": [
       "'α, β = 1e-3, 5.0;\\n\\nblr = BayesianLinearReg(ϕ, y, α, β);\\nμtest, σtest = predict(ϕtest, blr, β);\\n\\nnum_sampling = 5\\nsampled_func = sampling_func(ϕtest, blr, num_sampling);'"
      ]
     },
     "execution_count": 11,
     "metadata": {},
     "output_type": "execute_result"
    }
   ],
   "source": [
    "data"
   ]
  }
 ],
 "metadata": {
  "kernelspec": {
   "display_name": "Python 3 (ipykernel)",
   "language": "python",
   "name": "python3"
  },
  "language_info": {
   "codemirror_mode": {
    "name": "ipython",
    "version": 3
   },
   "file_extension": ".py",
   "mimetype": "text/x-python",
   "name": "python",
   "nbconvert_exporter": "python",
   "pygments_lexer": "ipython3",
   "version": "3.11.3"
  }
 },
 "nbformat": 4,
 "nbformat_minor": 5
}
