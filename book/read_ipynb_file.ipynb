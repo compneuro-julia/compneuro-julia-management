{
 "cells": [
  {
   "cell_type": "code",
   "execution_count": 1,
   "id": "896a4096",
   "metadata": {},
   "outputs": [],
   "source": [
    "import codecs\n",
    "import json\n",
    "import re"
   ]
  },
  {
   "cell_type": "markdown",
   "id": "73fbc147",
   "metadata": {},
   "source": [
    "同じ文字が連続する場合は長い方から処理する．\n",
    "- ToDo: citationをどうにかする．"
   ]
  },
  {
   "cell_type": "code",
   "execution_count": 2,
   "id": "b8c0f624",
   "metadata": {},
   "outputs": [],
   "source": [
    "s = '# aa\\n ## aaa\\n `this` is ``` **sample string** for *extracting substring*. {cite:p}`Echeveste2020-sh` <a>'"
   ]
  },
  {
   "cell_type": "code",
   "execution_count": 3,
   "id": "aed8dd44",
   "metadata": {},
   "outputs": [],
   "source": [
    "def markdown2latex(s):\n",
    "    s = re.sub(r'\\###\\ (.+?)\\n', r'\\\\subsubsection{\\1}', s)  # subsubsection\n",
    "    s = re.sub(r'\\##\\ (.+?)\\n', r'\\\\subsection{\\1}', s)  # subsection\n",
    "    s = re.sub(r'\\#\\ (.+?)\\n', r'\\\\section{\\1}', s)      # section\n",
    "    \n",
    "    s = re.sub(r'\\*\\*(.+?)\\*\\*', r'\\\\textbf{\\1}', s)   # bold\n",
    "    #s = re.sub(r'\\*(.+?)\\*', r'\\\\textit{\\1}', s)       # italic\n",
    "    \n",
    "    s = s.replace(r\"```{note}\", \"\\\\footnote{\") # note to footnote\n",
    "    s = s.replace(r\"```\", \"}\")\n",
    "    s = re.sub(r'<(.+?)>', r'\\\\url{\\1}', s) # url\n",
    "\n",
    "    s = re.sub(r'{cite:p}`(.+?)`', r'\\\\cite{\\1}', s)     \n",
    "    s = re.sub(r'`(.+?)`', r'\\\\jl{\\1}', s) # inline code with \\newcommand{\\jl}{\\lstinline[language=julia]}\n",
    "\n",
    "    s = re.sub(r'<(.+?)>', r'\\\\url{\\1}', s) # url\n",
    "    s = s.replace(r\"\\n\", \"\\\\\")\n",
    "    return s"
   ]
  },
  {
   "cell_type": "code",
   "execution_count": 4,
   "id": "f39487f5",
   "metadata": {},
   "outputs": [
    {
     "data": {
      "text/plain": [
       "'\\\\section{aa} \\\\subsection{aaa} \\\\jl{this} is } \\\\textbf{sample string} for *extracting substring*. \\\\cite{Echeveste2020-sh} \\\\url{a}'"
      ]
     },
     "execution_count": 4,
     "metadata": {},
     "output_type": "execute_result"
    }
   ],
   "source": [
    "markdown2latex(s)"
   ]
  },
  {
   "cell_type": "markdown",
   "id": "14f606d4",
   "metadata": {},
   "source": [
    "変換"
   ]
  },
  {
   "cell_type": "code",
   "execution_count": 5,
   "id": "1352db83",
   "metadata": {},
   "outputs": [],
   "source": [
    "file_path = \"../contents/bayesian-brain/neural-sampling.ipynb\""
   ]
  },
  {
   "cell_type": "code",
   "execution_count": 6,
   "id": "434b4628",
   "metadata": {},
   "outputs": [],
   "source": [
    "f = codecs.open(file_path, 'r', encoding=\"utf8\")"
   ]
  },
  {
   "cell_type": "code",
   "execution_count": 7,
   "id": "436a0da0",
   "metadata": {},
   "outputs": [],
   "source": [
    "source = f.read()\n",
    "y = json.loads(source)"
   ]
  },
  {
   "cell_type": "code",
   "execution_count": 8,
   "id": "c73ef2d7",
   "metadata": {},
   "outputs": [],
   "source": [
    "def all_remove(xlist, remove):\n",
    "    return [value for value in xlist if value != remove]"
   ]
  },
  {
   "cell_type": "code",
   "execution_count": 19,
   "id": "ba46d8ad",
   "metadata": {},
   "outputs": [
    {
     "name": "stdout",
     "output_type": "stream",
     "text": [
      "49\n"
     ]
    }
   ],
   "source": [
    "num_cells = len(y['cells'])\n",
    "master_list = []\n",
    "for cell_idx in range(num_cells):\n",
    "    cell = y['cells'][cell_idx]\n",
    "    if cell['cell_type'] == 'markdown':\n",
    "        # convert\n",
    "        text = [markdown2latex(s) for s in cell['source']]\n",
    "        text = all_remove(text, \"\\n\")\n",
    "        if ':filter: docname in docnames\\n' in text:\n",
    "            print(cell_idx)\n",
    "        else:\n",
    "            # save\n",
    "            parted_file_path = \"./text/test{}.tex\".format(cell_idx)\n",
    "            with open(parted_file_path, 'w', encoding='UTF-8') as f:\n",
    "                f.writelines(text)\n",
    "        master_list.append(r\"\\input{\"+parted_file_path+\"}\\n\")\n",
    "    elif cell['cell_type'] == 'code':\n",
    "        # ToDo:'outputs'\n",
    "        code = cell['source']\n",
    "        parted_file_path = \"./text/test{}.jl\".format(cell_idx)\n",
    "        \"\"\"\n",
    "        if cell['outputs']:\n",
    "            print(cell['outputs'][0])\n",
    "            #'text/plain'\n",
    "            #'image/png'\n",
    "        \"\"\"\n",
    "        with open(parted_file_path, 'w', encoding='UTF-8') as f:\n",
    "            f.writelines(code)\n",
    "        master_list.append(r\"\\lstinputlisting[language=julia]{\"+parted_file_path+\"}\\n\")"
   ]
  },
  {
   "cell_type": "code",
   "execution_count": 20,
   "id": "ed3802e7",
   "metadata": {},
   "outputs": [],
   "source": [
    "file_path = './text/test.tex'\n",
    "with open(file_path, 'w', encoding='UTF-8') as f:\n",
    "        f.writelines(master_list)"
   ]
  }
 ],
 "metadata": {
  "kernelspec": {
   "display_name": "Python 3 (ipykernel)",
   "language": "python",
   "name": "python3"
  },
  "language_info": {
   "codemirror_mode": {
    "name": "ipython",
    "version": 3
   },
   "file_extension": ".py",
   "mimetype": "text/x-python",
   "name": "python",
   "nbconvert_exporter": "python",
   "pygments_lexer": "ipython3",
   "version": "3.10.9"
  }
 },
 "nbformat": 4,
 "nbformat_minor": 5
}
