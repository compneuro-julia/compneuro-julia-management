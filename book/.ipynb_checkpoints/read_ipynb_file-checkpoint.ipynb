{
 "cells": [
  {
   "cell_type": "code",
   "execution_count": 1,
   "id": "896a4096",
   "metadata": {},
   "outputs": [],
   "source": [
    "import codecs\n",
    "import json"
   ]
  },
  {
   "cell_type": "code",
   "execution_count": 9,
   "id": "93c8bf3c",
   "metadata": {},
   "outputs": [],
   "source": [
    "import re"
   ]
  },
  {
   "cell_type": "markdown",
   "id": "73fbc147",
   "metadata": {},
   "source": [
    "同じ文字が連続する場合は長い方から処理する．\n",
    "- ToDo: citationをどうにかする．"
   ]
  },
  {
   "cell_type": "code",
   "execution_count": 172,
   "id": "b8c0f624",
   "metadata": {},
   "outputs": [],
   "source": [
    "s = '#aa\\n ##aaa\\n `this` is ``` **sample string** for *extracting substring*.'"
   ]
  },
  {
   "cell_type": "code",
   "execution_count": 173,
   "id": "aed8dd44",
   "metadata": {},
   "outputs": [],
   "source": [
    "def markdown2latex(s):\n",
    "    s = re.sub(r'\\###\\ (.+?)\\n', r'\\\\subsubsection{\\1}', s)  # subsubsection\n",
    "    s = re.sub(r'\\##\\ (.+?)\\n', r'\\\\subsection{\\1}', s)  # subsection\n",
    "    s = re.sub(r'\\#\\ (.+?)\\n', r'\\\\section{\\1}', s)      # section\n",
    "    \n",
    "    s = re.sub(r'\\*\\*(.+?)\\*\\*', r'\\\\textbf{\\1}', s)   # bold\n",
    "    s = re.sub(r'\\*(.+?)\\*', r'\\\\textit{\\1}', s)       # italic\n",
    "    \n",
    "    # code with \\newcommand{\\jl}{\\lstinline[language=julia]}\n",
    "    s = s.replace(r\"```\", \"\")\n",
    "    s = re.sub(r'`(.+?)`', r'\\\\jl{\\1}', s)     \n",
    "    return s"
   ]
  },
  {
   "cell_type": "code",
   "execution_count": 174,
   "id": "f39487f5",
   "metadata": {},
   "outputs": [
    {
     "data": {
      "text/plain": [
       "'#aa\\n ##aaa\\n \\\\jl{this} is  \\\\textbf{sample string} for \\\\textit{extracting substring}.'"
      ]
     },
     "execution_count": 174,
     "metadata": {},
     "output_type": "execute_result"
    }
   ],
   "source": [
    "markdown2latex(s)"
   ]
  },
  {
   "cell_type": "code",
   "execution_count": 178,
   "id": "908e83dd",
   "metadata": {},
   "outputs": [],
   "source": [
    "path_w = 'text/test.tex'\n",
    "\n",
    "with open(path_w, mode='w', encoding='UTF-8') as f:\n",
    "    f.write(r)"
   ]
  },
  {
   "cell_type": "markdown",
   "id": "14f606d4",
   "metadata": {},
   "source": [
    "変換"
   ]
  },
  {
   "cell_type": "code",
   "execution_count": 2,
   "id": "1352db83",
   "metadata": {},
   "outputs": [],
   "source": [
    "file_path = \"../contents/bayesian-brain/neural-sampling.ipynb\""
   ]
  },
  {
   "cell_type": "code",
   "execution_count": 4,
   "id": "434b4628",
   "metadata": {},
   "outputs": [],
   "source": [
    "f = codecs.open(file_path, 'r', encoding=\"utf8\")"
   ]
  },
  {
   "cell_type": "code",
   "execution_count": 5,
   "id": "436a0da0",
   "metadata": {},
   "outputs": [],
   "source": [
    "source = f.read()\n",
    "y = json.loads(source)"
   ]
  },
  {
   "cell_type": "code",
   "execution_count": 6,
   "id": "e28dc437",
   "metadata": {},
   "outputs": [
    {
     "data": {
      "text/plain": [
       "dict_keys(['cells', 'metadata', 'nbformat', 'nbformat_minor'])"
      ]
     },
     "execution_count": 6,
     "metadata": {},
     "output_type": "execute_result"
    }
   ],
   "source": [
    "y.keys()"
   ]
  },
  {
   "cell_type": "code",
   "execution_count": 7,
   "id": "4a988a8d",
   "metadata": {},
   "outputs": [
    {
     "data": {
      "text/plain": [
       "50"
      ]
     },
     "execution_count": 7,
     "metadata": {},
     "output_type": "execute_result"
    }
   ],
   "source": [
    "len(y['cells'])"
   ]
  },
  {
   "cell_type": "code",
   "execution_count": 128,
   "id": "9af7c38c",
   "metadata": {},
   "outputs": [
    {
     "data": {
      "text/plain": [
       "['# 神経サンプリング\\n',\n",
       " '\\n',\n",
       " 'サンプリングに基づく符号化(sampling-based coding; SBC or neural sampling model)をガウス尺度混合モデルを例にとり実装する．\\n',\n",
       " '\\n',\n",
       " '## ガウス尺度混合モデル\\n',\n",
       " '**ガウス尺度混合 (Gaussian scale mixture; GSM) モデル**は確率的生成モデルの一種である{cite:p}`Wainwright1999-cl`{cite:p}`Orban2016-tm`．GSMモデルでは入力を次式で予測する：\\n',\n",
       " '\\n',\n",
       " '$$\\n',\n",
       " '\\\\text{入力}={z}\\\\left(\\\\sum \\\\text{神経活動} \\\\times \\\\text{基底} \\\\right) + \\\\text{ノイズ}\\n',\n",
       " '$$\\n',\n",
       " '\\n',\n",
       " '前節までのスパース符号化モデル等と同様に，入力が基底の線形和で表されるとしている．ただし，尺度(scale)パラメータ$z$が基底の線形和に乗じられている点が異なる．\\n',\n",
       " '\\n',\n",
       " '```{note}\\n',\n",
       " 'コードは{cite:p}`Orban2016-tm` <https://github.com/gergoorban/sampling_in_gsm>, および{cite:p}`Echeveste2020-sh` <https://bitbucket.org/RSE_1987/ssn_inference_numerical_experiments/src/master/>を参考に作成した．\\n',\n",
       " '```\\n',\n",
       " '\\n',\n",
       " '\\n',\n",
       " '### 事前分布\\n',\n",
       " '$\\\\mathbf{x} \\\\in \\\\mathbb{R}^{N_x}$, $\\\\mathbf{A} \\\\in \\\\mathbb{R}^{N_x\\\\times N_y}$, $\\\\mathbf{y} \\\\in \\\\mathbb{R}^{N_y}$, $\\\\mathbf{z} \\\\in \\\\mathbb{R}$とする．\\n',\n",
       " '\\n',\n",
       " '$$\\n',\n",
       " 'p\\\\left(\\\\mathbf{x}\\\\mid\\\\mathbf{y}, z\\\\right)=\\\\mathcal{N}\\\\left(z \\\\mathbf{A} \\\\mathbf{y}, \\\\sigma_{\\\\mathbf{x}}^{2} \\\\mathbf{I}\\\\right)\\n',\n",
       " '$$\\n',\n",
       " '\\n',\n",
       " '事前分布を\\n',\n",
       " '\\n',\n",
       " '$$\\n',\n",
       " '\\\\begin{aligned}\\n',\n",
       " 'p\\\\left(\\\\mathbf{y}\\\\right)&=\\\\mathcal{N}\\\\left(\\\\mathbf{0}, \\\\mathbf{C}\\\\right)\\\\\\\\\\n',\n",
       " 'p\\\\left(z\\\\right)&=\\\\Gamma (k, \\\\vartheta)\\n',\n",
       " '\\\\end{aligned}\\n',\n",
       " '$$\\n',\n",
       " '\\n',\n",
       " 'とする．$\\\\Gamma(k, \\\\vartheta)$はガンマ分布であり，$k$は形状(shape)パラメータ，$\\\\vartheta$は尺度(scale)パラメータである．$p\\\\left(\\\\mathbf{y}\\\\right)$は$\\\\mathbf{y}$の事前分布であり，刺激がない場合の自発活動の分布を表していると仮定する．']"
      ]
     },
     "execution_count": 128,
     "metadata": {},
     "output_type": "execute_result"
    }
   ],
   "source": [
    "y['cells'][0]['source']"
   ]
  },
  {
   "cell_type": "code",
   "execution_count": 175,
   "id": "7f985caf",
   "metadata": {},
   "outputs": [],
   "source": [
    "converted = [markdown2latex(s) for s in y['cells'][0]['source']]"
   ]
  },
  {
   "cell_type": "code",
   "execution_count": 176,
   "id": "a4e29616",
   "metadata": {},
   "outputs": [
    {
     "data": {
      "text/plain": [
       "['\\\\section{神経サンプリング}',\n",
       " '\\n',\n",
       " 'サンプリングに基づく符号化(sampling-based coding; SBC or neural sampling model)をガウス尺度混合モデルを例にとり実装する．\\n',\n",
       " '\\n',\n",
       " '\\\\subsection{ガウス尺度混合モデル}',\n",
       " '\\\\textbf{ガウス尺度混合 (Gaussian scale mixture; GSM) モデル}は確率的生成モデルの一種である{cite:p}\\\\jl{Wainwright1999-cl}{cite:p}\\\\jl{Orban2016-tm}．GSMモデルでは入力を次式で予測する：\\n',\n",
       " '\\n',\n",
       " '$$\\n',\n",
       " '\\\\text{入力}={z}\\\\left(\\\\sum \\\\text{神経活動} \\\\times \\\\text{基底} \\\\right) + \\\\text{ノイズ}\\n',\n",
       " '$$\\n',\n",
       " '\\n',\n",
       " '前節までのスパース符号化モデル等と同様に，入力が基底の線形和で表されるとしている．ただし，尺度(scale)パラメータ$z$が基底の線形和に乗じられている点が異なる．\\n',\n",
       " '\\n',\n",
       " '{note}\\n',\n",
       " 'コードは{cite:p}\\\\jl{Orban2016-tm} <https://github.com/gergoorban/sampling_in_gsm>, および{cite:p}\\\\jl{Echeveste2020-sh} <https://bitbucket.org/RSE_1987/ssn_inference_numerical_experiments/src/master/>を参考に作成した．\\n',\n",
       " '\\n',\n",
       " '\\n',\n",
       " '\\n',\n",
       " '\\\\subsubsection{事前分布}',\n",
       " '$\\\\mathbf{x} \\\\in \\\\mathbb{R}^{N_x}$, $\\\\mathbf{A} \\\\in \\\\mathbb{R}^{N_x\\\\times N_y}$, $\\\\mathbf{y} \\\\in \\\\mathbb{R}^{N_y}$, $\\\\mathbf{z} \\\\in \\\\mathbb{R}$とする．\\n',\n",
       " '\\n',\n",
       " '$$\\n',\n",
       " 'p\\\\left(\\\\mathbf{x}\\\\mid\\\\mathbf{y}, z\\\\right)=\\\\mathcal{N}\\\\left(z \\\\mathbf{A} \\\\mathbf{y}, \\\\sigma_{\\\\mathbf{x}}^{2} \\\\mathbf{I}\\\\right)\\n',\n",
       " '$$\\n',\n",
       " '\\n',\n",
       " '事前分布を\\n',\n",
       " '\\n',\n",
       " '$$\\n',\n",
       " '\\\\begin{aligned}\\n',\n",
       " 'p\\\\left(\\\\mathbf{y}\\\\right)&=\\\\mathcal{N}\\\\left(\\\\mathbf{0}, \\\\mathbf{C}\\\\right)\\\\\\\\\\n',\n",
       " 'p\\\\left(z\\\\right)&=\\\\Gamma (k, \\\\vartheta)\\n',\n",
       " '\\\\end{aligned}\\n',\n",
       " '$$\\n',\n",
       " '\\n',\n",
       " 'とする．$\\\\Gamma(k, \\\\vartheta)$はガンマ分布であり，$k$は形状(shape)パラメータ，$\\\\vartheta$は尺度(scale)パラメータである．$p\\\\left(\\\\mathbf{y}\\\\right)$は$\\\\mathbf{y}$の事前分布であり，刺激がない場合の自発活動の分布を表していると仮定する．']"
      ]
     },
     "execution_count": 176,
     "metadata": {},
     "output_type": "execute_result"
    }
   ],
   "source": [
    "converted"
   ]
  },
  {
   "cell_type": "code",
   "execution_count": 179,
   "id": "3a979d4a",
   "metadata": {},
   "outputs": [],
   "source": [
    "with open(path_w, 'w', encoding='UTF-8') as f:\n",
    "    f.writelines(converted)"
   ]
  }
 ],
 "metadata": {
  "kernelspec": {
   "display_name": "Python 3 (ipykernel)",
   "language": "python",
   "name": "python3"
  },
  "language_info": {
   "codemirror_mode": {
    "name": "ipython",
    "version": 3
   },
   "file_extension": ".py",
   "mimetype": "text/x-python",
   "name": "python",
   "nbconvert_exporter": "python",
   "pygments_lexer": "ipython3",
   "version": "3.10.9"
  }
 },
 "nbformat": 4,
 "nbformat_minor": 5
}
