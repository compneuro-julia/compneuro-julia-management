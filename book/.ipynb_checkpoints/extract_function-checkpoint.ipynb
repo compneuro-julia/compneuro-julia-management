{
 "cells": [
  {
   "cell_type": "markdown",
   "id": "6c78f3d8",
   "metadata": {},
   "source": [
    "関数リスト作成．"
   ]
  },
  {
   "cell_type": "code",
   "execution_count": 1,
   "id": "95b50544",
   "metadata": {},
   "outputs": [],
   "source": [
    "import codecs\n",
    "import json\n",
    "import re\n",
    "import yaml\n",
    "import os\n",
    "from tqdm.notebook import tqdm\n",
    "import numpy as np\n",
    "import glob"
   ]
  },
  {
   "cell_type": "code",
   "execution_count": 2,
   "id": "340782ce",
   "metadata": {},
   "outputs": [],
   "source": [
    "file_list = glob.glob('./text/**/*.jl', recursive=True)"
   ]
  },
  {
   "cell_type": "code",
   "execution_count": 3,
   "id": "d8032128",
   "metadata": {},
   "outputs": [
    {
     "data": {
      "text/plain": [
       "'./text\\\\bayesian-brain\\\\bayesian-linear-regression\\\\004.jl'"
      ]
     },
     "execution_count": 3,
     "metadata": {},
     "output_type": "execute_result"
    }
   ],
   "source": [
    "file_list[20]"
   ]
  },
  {
   "cell_type": "code",
   "execution_count": 18,
   "id": "92011b67",
   "metadata": {},
   "outputs": [
    {
     "data": {
      "application/vnd.jupyter.widget-view+json": {
       "model_id": "74d5967361ef4b7c80392e357fe1d2d6",
       "version_major": 2,
       "version_minor": 0
      },
      "text/plain": [
       "  0%|          | 0/469 [00:00<?, ?it/s]"
      ]
     },
     "metadata": {},
     "output_type": "display_data"
    }
   ],
   "source": [
    "struct_list = []\n",
    "function_list = []\n",
    "func_stru_list = []\n",
    "for filename in tqdm(file_list):\n",
    "    f = open(filename, 'r', encoding='UTF-8')\n",
    "    s = f.read()\n",
    "    func = re.findall(r'function (.+?)\\(', s)\n",
    "    stru= re.findall(r'struct (.+?)\\{', s)\n",
    "    func_stru = re.findall(r'= (.+?)\\(', s)\n",
    "    struct_list += stru\n",
    "    function_list += func\n",
    "    func_stru_list += func_stru"
   ]
  },
  {
   "cell_type": "code",
   "execution_count": 5,
   "id": "6f917295",
   "metadata": {},
   "outputs": [],
   "source": [
    "func_stru_list = np.unique(np.array(func_stru_list))"
   ]
  },
  {
   "cell_type": "code",
   "execution_count": 6,
   "id": "bfe6ea61",
   "metadata": {},
   "outputs": [],
   "source": [
    "deletes = [\"*\", \"#\", \"+\", \"-\", \"/\", \"?\", \"^\"]"
   ]
  },
  {
   "cell_type": "code",
   "execution_count": 7,
   "id": "a28d873f",
   "metadata": {},
   "outputs": [],
   "source": [
    "for d in deletes:\n",
    "    func_stru_list = [s for s in func_stru_list if d not in s]"
   ]
  },
  {
   "cell_type": "code",
   "execution_count": 8,
   "id": "696b36e4",
   "metadata": {},
   "outputs": [
    {
     "data": {
      "text/plain": [
       "[' generate_trajectory',\n",
       " ' hcat',\n",
       " ' sin.',\n",
       " '(',\n",
       " '(rand',\n",
       " '0.5',\n",
       " '1 else x0[seed % len',\n",
       " '1.0',\n",
       " '2',\n",
       " '2.0',\n",
       " '30',\n",
       " 'A.dot',\n",
       " 'Adam',\n",
       " 'Ahat.dot',\n",
       " 'AmariHopfieldModel',\n",
       " 'Array{Float32}',\n",
       " 'BayesianLinearReg',\n",
       " 'BlockDiagonal',\n",
       " 'C.dot',\n",
       " 'CurrentBasedLIF',\n",
       " 'Diagonal',\n",
       " 'Dict',\n",
       " 'DoG',\n",
       " 'DoubleExponentialSynapse',\n",
       " 'ExpectileGradientDescent',\n",
       " 'FHNParameter{FT}',\n",
       " 'FHN{Float32}',\n",
       " 'FIcurve',\n",
       " 'ForwardDiff.gradient',\n",
       " 'GaussianMH',\n",
       " 'HHIAFIcurve_multi',\n",
       " 'HHIAParameter{FT}',\n",
       " 'HHIA{Float32}',\n",
       " 'HHParameter{FT}',\n",
       " 'HH{Float32}',\n",
       " 'HMC',\n",
       " 'HebbianPCA',\n",
       " 'I',\n",
       " 'IZParameter{FT}',\n",
       " 'IZ{Float32}',\n",
       " 'Int',\n",
       " 'Int32',\n",
       " 'K.',\n",
       " 'Khat.copy',\n",
       " 'LIFParameter{FT}',\n",
       " 'LIF{Float32}',\n",
       " 'LQG',\n",
       " 'Lhat.dot',\n",
       " 'MNIST.traindata',\n",
       " 'MixtureModel',\n",
       " 'MvNormal',\n",
       " 'NN',\n",
       " 'Normal',\n",
       " 'OFParameter{FT}',\n",
       " 'OLSRegGradientDescent',\n",
       " 'OlshausenField1996Model{Float32}',\n",
       " 'PyPlot.axes',\n",
       " 'Pz_x',\n",
       " 'QuantileGradientDescent',\n",
       " 'RBParameter{FT}',\n",
       " 'RNNParameter{FT}',\n",
       " 'RNN{Float32}',\n",
       " 'RaoBallard1999Model{Float32}',\n",
       " 'Reaching1DModelCostParameter',\n",
       " 'Reaching1DModelParameter',\n",
       " 'Riccati',\n",
       " 'SGD',\n",
       " 'SaccadeModelParameter',\n",
       " 'Toeplitz',\n",
       " 'Tuple.',\n",
       " 'UInt',\n",
       " 'UInt32',\n",
       " 'X.copy',\n",
       " '[',\n",
       " '[0.02ones',\n",
       " '[0.2ones',\n",
       " '[0.5rand',\n",
       " '[1; zeros',\n",
       " '[5randn',\n",
       " '[CartesianIndex',\n",
       " '[G zeros',\n",
       " '[I',\n",
       " '[L\"Position ',\n",
       " '[LowRankApprox',\n",
       " \"[P A'; A zeros\",\n",
       " '[ax.inset_axes',\n",
       " '[convert',\n",
       " '[copy',\n",
       " '[correlate_fft',\n",
       " '[findall',\n",
       " '[hcat',\n",
       " '[i for i in urange, j in 1:length',\n",
       " '[i for i in x, j in 1:length',\n",
       " '[init_pos; zeros',\n",
       " '[j for i in 1:length',\n",
       " '[max',\n",
       " '[mean',\n",
       " '[nearest_pos',\n",
       " '[ones',\n",
       " '[randn',\n",
       " '[reshape',\n",
       " '[sqrt',\n",
       " '[std',\n",
       " '[t for t in Base.product',\n",
       " '[zeros',\n",
       " 'abs',\n",
       " 'abs.',\n",
       " 'argmin',\n",
       " 'atan.',\n",
       " 'autocor',\n",
       " 'ax.get_legend_handles_labels',\n",
       " 'ax.plot_surface',\n",
       " 'ax1.inset_axes',\n",
       " 'ax2.inset_axes',\n",
       " 'ax[i].imshow',\n",
       " 'ax[s].imshow',\n",
       " 'branching_prob',\n",
       " 'c',\n",
       " 'calculate_total_error',\n",
       " 'cat',\n",
       " 'ceil',\n",
       " 'cholV.dot',\n",
       " 'clamp.',\n",
       " 'cm.',\n",
       " 'collect',\n",
       " 'convert',\n",
       " 'copy',\n",
       " 'cor',\n",
       " 'correlate_fft',\n",
       " 'cos',\n",
       " 'cos.',\n",
       " 'cumsum',\n",
       " 'deepcopy',\n",
       " 'diagm',\n",
       " 'energy',\n",
       " 'eval',\n",
       " 'exp',\n",
       " 'exp.',\n",
       " 'eye_pos_coding',\n",
       " 'f.',\n",
       " 'fftshift',\n",
       " 'fig.add_subplot',\n",
       " 'fill',\n",
       " 'find_bmu',\n",
       " 'findall',\n",
       " 'findmin',\n",
       " 'first.',\n",
       " 'fit',\n",
       " 'floor.',\n",
       " 'func.',\n",
       " 'gLQG',\n",
       " 'gabor.',\n",
       " 'gamma_spike',\n",
       " 'gaussian2d',\n",
       " 'gaussian_2d',\n",
       " 'gaussian_mask',\n",
       " 'gca',\n",
       " 'get_A',\n",
       " 'get_C',\n",
       " 'get_cmap',\n",
       " 'h[1, :, sortperm',\n",
       " 'hcat',\n",
       " 'ifelse',\n",
       " 'imshow',\n",
       " 'infinite_horizon_ofc',\n",
       " 'init_s, energy',\n",
       " 'inv',\n",
       " 'kde',\n",
       " 'last.',\n",
       " 'leapfrog',\n",
       " 'len',\n",
       " 'length',\n",
       " 'linsfa',\n",
       " 'log_Pz',\n",
       " 'log_joint',\n",
       " 'log_p',\n",
       " 'logpdf',\n",
       " 'logpdf.',\n",
       " 'make_blobs',\n",
       " 'map',\n",
       " 'mapslices',\n",
       " 'matopen',\n",
       " 'matplotlib.collections.LineCollection',\n",
       " 'matplotlib.patches.Ellipse',\n",
       " 'matplotlib.transforms.Affine2D',\n",
       " 'max',\n",
       " 'maximum',\n",
       " 'mean',\n",
       " 'membrane_potential.',\n",
       " 'min_dist_angle',\n",
       " 'minimum',\n",
       " 'minimum_variance_model',\n",
       " 'mod',\n",
       " 'moving_average',\n",
       " 'neural_hmc',\n",
       " 'neural_lmc',\n",
       " 'neurite_growth_model',\n",
       " 'neurons',\n",
       " 'norm',\n",
       " 'normal_equation',\n",
       " 'normalize_rows',\n",
       " 'np.arange',\n",
       " 'np.dot',\n",
       " 'np.empty',\n",
       " 'np.expand_dims',\n",
       " 'np.eye',\n",
       " 'np.linalg.cholesky',\n",
       " 'np.linalg.lstsq',\n",
       " 'np.outer',\n",
       " 'np.sin',\n",
       " 'np.sqrt',\n",
       " 'np.sum',\n",
       " 'np.vstack',\n",
       " 'np.where',\n",
       " 'np.zeros',\n",
       " 'nquantile',\n",
       " 'nx.erdos_renyi_graph',\n",
       " 'nx.spring_layout',\n",
       " 'nx.watts_strogatz_graph',\n",
       " 'objectid',\n",
       " 'ones',\n",
       " 'pd.',\n",
       " 'pdf.',\n",
       " 'permutedims',\n",
       " 'plt.figure',\n",
       " 'plt.subplot_mosaic',\n",
       " 'plt.subplots',\n",
       " 'polynomial_expansion',\n",
       " 'post_moments',\n",
       " 'predict',\n",
       " 'product',\n",
       " 'pyimport',\n",
       " 'rand',\n",
       " 'randn',\n",
       " 'range',\n",
       " 'read',\n",
       " 'relu',\n",
       " 'repeat',\n",
       " 'reshape',\n",
       " 'reverse!',\n",
       " 'round',\n",
       " 'round.',\n",
       " 'run_simulation',\n",
       " 'sample',\n",
       " 'sampling_func',\n",
       " 'segments_lines',\n",
       " 'sigmoid.',\n",
       " 'sign',\n",
       " 'sign.',\n",
       " 'simulation',\n",
       " 'sin.',\n",
       " 'size',\n",
       " 'soft_nonneg_thres.',\n",
       " 'soft_thres.',\n",
       " 'solveEqualityConstrainedQuadProg',\n",
       " 'som',\n",
       " 'som_2d',\n",
       " 'sort',\n",
       " 'sortperm',\n",
       " 'sqrt',\n",
       " 'sqrt.',\n",
       " 'stack',\n",
       " 'std',\n",
       " 'step.',\n",
       " 'stsp',\n",
       " 'subplot',\n",
       " 'subplots',\n",
       " 'sum',\n",
       " 'svd',\n",
       " 'synapses_out',\n",
       " 'synapses_rec',\n",
       " 'tan.',\n",
       " 'tanh',\n",
       " 'target_jump_simulation',\n",
       " 'tr',\n",
       " 'u_matrix2d',\n",
       " 'update!',\n",
       " 'updateOF!',\n",
       " 'vcat',\n",
       " 'whiten',\n",
       " 'x0 if len',\n",
       " 'x0[j % len',\n",
       " 'z_range[argmax',\n",
       " 'zero',\n",
       " 'zeros',\n",
       " '∇log_p',\n",
       " '∇ᵤlogP']"
      ]
     },
     "execution_count": 8,
     "metadata": {},
     "output_type": "execute_result"
    }
   ],
   "source": [
    "func_stru_list"
   ]
  },
  {
   "cell_type": "code",
   "execution_count": 19,
   "id": "265dbce0",
   "metadata": {},
   "outputs": [],
   "source": [
    "function_list = [s for s in function_list if ' ' not in s]\n",
    "function_list = np.unique(np.array(function_list))"
   ]
  },
  {
   "cell_type": "code",
   "execution_count": 20,
   "id": "9dd04d3d",
   "metadata": {},
   "outputs": [
    {
     "data": {
      "text/plain": [
       "array(['AmariHopfieldModel', 'BayesianLinearReg', 'DoG',\n",
       "       'ExpectileGradientDescent', 'FIcurve', 'GammaSpike', 'Gaussian2d',\n",
       "       'GaussianMH', 'HHIAFIcurve_multi', 'HMC', 'HebbianPCA', 'LQG',\n",
       "       'LowRankApprox', 'NN', 'OLSRegGradientDescent', 'Pz_x',\n",
       "       'QuantileGradientDescent', 'branching_prob',\n",
       "       'calculate_total_error', 'confidence_ellipse', 'correlate_fft',\n",
       "       'corrupted', 'find_bmu', 'gLQG', 'gabor', 'gamma_isi_plot',\n",
       "       'gamma_spike', 'gaussian2d', 'gaussian_2d', 'gaussian_func',\n",
       "       'gaussian_mask', 'generate_trajectory', 'get_A', 'get_C',\n",
       "       'infinite_horizon_ofc', 'kde', 'leapfrog', 'linsfa', 'make_blobs',\n",
       "       'min_dist_angle', 'minimum_variance_model', 'moving_average',\n",
       "       'nearest_pos', 'neural_hmc', 'neural_lmc', 'neurite_growth_model',\n",
       "       'normalize_rows', 'optimizer_update!', 'plot_som',\n",
       "       'plot_visual_maps', 'post_moments', 'predict', 'prediction',\n",
       "       'rasterplot', 'right!', 'run_simulation', 'sampling_func',\n",
       "       'segments_lines', 'simulation', 'simulation_all',\n",
       "       'solveEqualityConstrainedQuadProg', 'som', 'som_2d', 'stsp',\n",
       "       'target_jump_simulation', 'u_matrix2d', 'update!', 'updateHH!',\n",
       "       'updateOF!', 'wrong!', '∇ᵤlogP'], dtype='<U32')"
      ]
     },
     "execution_count": 20,
     "metadata": {},
     "output_type": "execute_result"
    }
   ],
   "source": [
    "function_list"
   ]
  },
  {
   "cell_type": "code",
   "execution_count": 12,
   "id": "df84b493",
   "metadata": {},
   "outputs": [],
   "source": [
    "struct_list = np.unique(np.array(struct_list))"
   ]
  },
  {
   "cell_type": "code",
   "execution_count": 13,
   "id": "fc46a060",
   "metadata": {},
   "outputs": [
    {
     "data": {
      "text/plain": [
       "array(['Adam', 'FHN', 'FHNParameter', 'HH', 'HHIA', 'HHIAParameter',\n",
       "       'HHParameter', 'IZ', 'IZParameter', 'LIF', 'LIFParameter', 'NN',\n",
       "       'OFParameter', 'OlshausenField1996Model', 'RBParameter', 'RNN',\n",
       "       'RNNParameter', 'RaoBallard1999Model', 'SGD'], dtype='<U23')"
      ]
     },
     "execution_count": 13,
     "metadata": {},
     "output_type": "execute_result"
    }
   ],
   "source": [
    "struct_list"
   ]
  }
 ],
 "metadata": {
  "kernelspec": {
   "display_name": "Python 3 (ipykernel)",
   "language": "python",
   "name": "python3"
  },
  "language_info": {
   "codemirror_mode": {
    "name": "ipython",
    "version": 3
   },
   "file_extension": ".py",
   "mimetype": "text/x-python",
   "name": "python",
   "nbconvert_exporter": "python",
   "pygments_lexer": "ipython3",
   "version": "3.11.0"
  }
 },
 "nbformat": 4,
 "nbformat_minor": 5
}
