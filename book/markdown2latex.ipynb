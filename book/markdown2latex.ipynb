{
 "cells": [
  {
   "cell_type": "code",
   "execution_count": 1,
   "id": "896a4096",
   "metadata": {},
   "outputs": [],
   "source": [
    "import codecs\n",
    "import json\n",
    "import re\n",
    "import yaml\n",
    "import os\n",
    "from tqdm.notebook import tqdm\n",
    "from PIL import Image\n",
    "from base64 import b64decode\n",
    "from io import BytesIO\n",
    "import numpy as np\n",
    "import pykakasi"
   ]
  },
  {
   "cell_type": "code",
   "execution_count": 2,
   "id": "32d95923",
   "metadata": {},
   "outputs": [],
   "source": [
    "class AutoIndexing():\n",
    "    def __init__(self,):\n",
    "        self.kks = pykakasi.kakasi()\n",
    "    \n",
    "    def japanese_check(self, s):\n",
    "        # s: string\n",
    "        if re.search(r'[ぁ-ん]+|[ァ-ヴー]+|[一-龠]+', s):\n",
    "            return True\n",
    "        else:\n",
    "            return False\n",
    "        \n",
    "    def converter(self, s):\n",
    "        s = s.replace(r\"**\", \"\")\n",
    "        if self.japanese_check(s):\n",
    "            s_hira = \"\".join([word[\"hira\"] for word in self.kks.convert(s)])\n",
    "            return r'\\textbf{'+s+r'}\\index{'+s_hira + r\"@\" + s + r'}'\n",
    "            #return r'\\index{'+s_hira + r\"@\\textbf{\" + s + r'}|textbf}'\n",
    "        else:\n",
    "            return r'\\textbf{'+s+r'}\\index{'+s + r'}'"
   ]
  },
  {
   "cell_type": "code",
   "execution_count": 3,
   "id": "fb10e2a5",
   "metadata": {},
   "outputs": [],
   "source": [
    "auto_indexing = AutoIndexing()"
   ]
  },
  {
   "cell_type": "markdown",
   "id": "73fbc147",
   "metadata": {},
   "source": [
    "同じ文字が連続する場合は長い方から処理する．\n",
    "- ToDo: citationをどうにかする．"
   ]
  },
  {
   "cell_type": "code",
   "execution_count": 4,
   "id": "b8c0f624",
   "metadata": {},
   "outputs": [],
   "source": [
    "s = '# aa\\n ## aaa\\n `this` is ``` **sample string** **漢字です** for *extracting substring*. {cite:p}`Echeveste2020-sh` <a>'"
   ]
  },
  {
   "cell_type": "code",
   "execution_count": 5,
   "id": "822de801",
   "metadata": {},
   "outputs": [
    {
     "data": {
      "text/plain": [
       "'\\\\textbf{漢字です}\\\\index{かんじです@漢字です}'"
      ]
     },
     "execution_count": 5,
     "metadata": {},
     "output_type": "execute_result"
    }
   ],
   "source": [
    "auto_indexing.converter(\"漢字です\")"
   ]
  },
  {
   "cell_type": "code",
   "execution_count": 6,
   "id": "aed8dd44",
   "metadata": {},
   "outputs": [],
   "source": [
    "def markdown2latex(s):\n",
    "    # s: string\n",
    "    s = re.sub(r'\\####\\ (.+?)\\n', r'\\\\paragraph{\\1}\\n', s)  # subsubsection\n",
    "    s = re.sub(r'\\###\\ (.+?)\\n', r'\\\\subsubsection{\\1}\\n', s)  # subsubsection\n",
    "    s = re.sub(r'\\##\\ (.+?)\\n', r'\\\\subsection{\\1}\\n', s)  # subsection\n",
    "    s = re.sub(r'\\#\\ (.+?)\\n', r'\\\\section{\\1}\\n', s)      # section\n",
    "    \n",
    "    #s = re.sub(r'\\*\\*(.+?)\\*\\*', r'\\\\textbf{\\\\index{\\1}}', s)   # bold\n",
    "    s = re.sub(r'\\*\\*(.+?)\\*\\*', lambda m: auto_indexing.converter(m.group()), s)   # bold\n",
    "    #s = re.sub(r'\\*(.+?)\\*', r'\\\\textit{\\1}', s)       # italic\n",
    "    \n",
    "    s = s.replace(r\"```{note}\", \"\\\\footnote{\") # note to footnote\n",
    "    s = s.replace(r\"```\", \"}\")\n",
    "    s = re.sub(r'<(.+?)>', r'\\\\url{\\1}', s) # url\n",
    "\n",
    "    s = re.sub(r'{cite:p}`(.+?)`', r'\\\\citep{\\1}', s)     \n",
    "    s = re.sub(r'`(.+?)`', r'\\\\jl{\\1}', s) # inline code with \\newcommand{\\jl}{\\lstinline[language=julia]}\n",
    "\n",
    "    s = re.sub(r'<(.+?)>', r'\\\\url{\\1}', s) # url\n",
    "    s = s.replace(r\":=\", r\"\\coloneqq \")\n",
    "    s = s.replace(r\"=:\", r\"\\eqqcolon \")\n",
    "    s = s.replace(r\"（\", \" (\") \n",
    "    s = s.replace(r\"）\", \") \") \n",
    "    s = s.replace(r\"$$\", \"\") \n",
    "    s = s.replace(\"\\r\\n\", \"\\n\") \n",
    "    #s = s.replace(r\"．\", \"．\\n\") \n",
    "    return s"
   ]
  },
  {
   "cell_type": "code",
   "execution_count": 7,
   "id": "281faa84",
   "metadata": {},
   "outputs": [],
   "source": [
    "def latex_itemized(text):\n",
    "    #splited_text = text.split('\\n')\n",
    "    #splited_text = all_remove(splited_text, \"\\n\")\n",
    "    splited_text = list(filter(None, text))\n",
    "    # itemize\n",
    "    item_idx = [line[:2] == \"- \" for line in splited_text]\n",
    "    if np.sum(item_idx) > 0:\n",
    "        item_idx += [False]\n",
    "        item_startend = np.where(np.diff(np.array(item_idx)) == True)[0]\n",
    "        item_startend += np.arange(len(item_startend)) + 1\n",
    "\n",
    "        # replace - to \\item\n",
    "        for i in range(len(splited_text)):\n",
    "            if item_idx[i]:\n",
    "                splited_text[i] = splited_text[i].replace('- ', r'\\item ', 1) \n",
    "\n",
    "        # add begin and end\n",
    "        for j in range(len(item_startend)):\n",
    "            if j % 2 == 0:\n",
    "                splited_text.insert(item_startend[j], r\"\\begin{itemize}\")\n",
    "            else:\n",
    "                splited_text.insert(item_startend[j], r\"\\end{itemize}\")\n",
    "    \n",
    "    # enumerate\n",
    "    enum_idx = [line[:3] == \"1. \" for line in splited_text]\n",
    "    if np.sum(enum_idx) > 0:\n",
    "        enum_idx += [False]\n",
    "        enum_startend = np.where(np.diff(np.array(enum_idx)) == True)[0]\n",
    "        enum_startend += np.arange(len(enum_startend)) + 1\n",
    "\n",
    "        # replace 1. to \\item\n",
    "        for i in range(len(splited_text)):\n",
    "            if enum_idx[i]:\n",
    "                splited_text[i] = splited_text[i].replace('1. ', r'\\item ', 1) \n",
    "\n",
    "        # add begin and end\n",
    "        for j in range(len(enum_startend)):\n",
    "            if j % 2 == 0:\n",
    "                splited_text.insert(enum_startend[j], r\"\\begin{enumerate}\")\n",
    "            else:\n",
    "                splited_text.insert(enum_startend[j], r\"\\end{enumerate}\")\n",
    "\n",
    "    for i in range(len(splited_text)):\n",
    "        if splited_text[i][-1:] != \"\\n\":\n",
    "            splited_text[i] += \"\\n\"\n",
    "    return splited_text"
   ]
  },
  {
   "cell_type": "code",
   "execution_count": 8,
   "id": "f39487f5",
   "metadata": {},
   "outputs": [
    {
     "data": {
      "text/plain": [
       "'\\\\section{aa}\\n \\\\subsection{aaa}\\n \\\\jl{this} is } \\\\textbf{sample string}\\\\index{sample string} \\\\textbf{漢字です}\\\\index{かんじです@漢字です} for *extracting substring*. \\\\citep{Echeveste2020-sh} \\\\url{a}'"
      ]
     },
     "execution_count": 8,
     "metadata": {},
     "output_type": "execute_result"
    }
   ],
   "source": [
    "markdown2latex(s)"
   ]
  },
  {
   "cell_type": "markdown",
   "id": "14f606d4",
   "metadata": {},
   "source": [
    "変換"
   ]
  },
  {
   "cell_type": "code",
   "execution_count": 8,
   "id": "c73ef2d7",
   "metadata": {},
   "outputs": [],
   "source": [
    "def all_remove(xlist, remove):\n",
    "    return [value for value in xlist if value != remove]"
   ]
  },
  {
   "cell_type": "code",
   "execution_count": 14,
   "id": "6cf2708f",
   "metadata": {
    "scrolled": true
   },
   "outputs": [],
   "source": [
    "save_dir = \"../tex/\"\n",
    "filename = \"01_introduction\"\n",
    "f = codecs.open(f\"../markdowns/{filename}.md\", 'r', encoding=\"utf8\")\n",
    "md = f.read()\n",
    "# convert\n",
    "text = markdown2latex(md)\n",
    "text = text.split('\\n')\n",
    "text = latex_itemized(text)\n",
    "\n",
    "with open(f\"{save_dir}{filename}.tex\", 'w', encoding='UTF-8') as f:\n",
    "    f.writelines(text)"
   ]
  }
 ],
 "metadata": {
  "kernelspec": {
   "display_name": "Python 3 (ipykernel)",
   "language": "python",
   "name": "python3"
  },
  "language_info": {
   "codemirror_mode": {
    "name": "ipython",
    "version": 3
   },
   "file_extension": ".py",
   "mimetype": "text/x-python",
   "name": "python",
   "nbconvert_exporter": "python",
   "pygments_lexer": "ipython3",
   "version": "3.12.0"
  }
 },
 "nbformat": 4,
 "nbformat_minor": 5
}
