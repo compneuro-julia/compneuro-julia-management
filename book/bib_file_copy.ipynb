{
 "cells": [
  {
   "cell_type": "code",
   "execution_count": 17,
   "id": "9aa4217f",
   "metadata": {},
   "outputs": [],
   "source": [
    "import os \n",
    "import glob\n",
    "import shutil"
   ]
  },
  {
   "cell_type": "code",
   "execution_count": 22,
   "id": "407b5068",
   "metadata": {},
   "outputs": [],
   "source": [
    "dir_path = \"../contents/\"\n",
    "bib_list = glob.glob(dir_path+'**/*.bib', recursive=True)\n",
    "\n",
    "savedir = \"./bibfiles/\""
   ]
  },
  {
   "cell_type": "code",
   "execution_count": 23,
   "id": "3af1cd87",
   "metadata": {},
   "outputs": [
    {
     "data": {
      "text/plain": [
       "['../contents\\\\appendix\\\\references.bib',\n",
       " '../contents\\\\bayesian-brain\\\\references.bib',\n",
       " '../contents\\\\energy-based-model\\\\references.bib',\n",
       " '../contents\\\\introduction\\\\references.bib',\n",
       " '../contents\\\\local-learning-rule\\\\references.bib',\n",
       " '../contents\\\\motor-learning\\\\references.bib',\n",
       " '../contents\\\\neuron-model\\\\references.bib',\n",
       " '../contents\\\\neuronal-computation\\\\references.bib',\n",
       " '../contents\\\\reinforcement-learning\\\\references.bib',\n",
       " '../contents\\\\solve-credit-assignment-problem\\\\references.bib',\n",
       " '../contents\\\\synapse-model\\\\references.bib']"
      ]
     },
     "execution_count": 23,
     "metadata": {},
     "output_type": "execute_result"
    }
   ],
   "source": [
    "bib_list"
   ]
  },
  {
   "cell_type": "code",
   "execution_count": 21,
   "id": "0770b9c1",
   "metadata": {},
   "outputs": [
    {
     "name": "stdout",
     "output_type": "stream",
     "text": [
      "\\addbibresource{bibfiles/appendix-references.bib}\n",
      "\\addbibresource{bibfiles/bayesian-brain-references.bib}\n",
      "\\addbibresource{bibfiles/energy-based-model-references.bib}\n",
      "\\addbibresource{bibfiles/introduction-references.bib}\n",
      "\\addbibresource{bibfiles/local-learning-rule-references.bib}\n",
      "\\addbibresource{bibfiles/motor-learning-references.bib}\n",
      "\\addbibresource{bibfiles/neuron-model-references.bib}\n",
      "\\addbibresource{bibfiles/neuronal-computation-references.bib}\n",
      "\\addbibresource{bibfiles/reinforcement-learning-references.bib}\n",
      "\\addbibresource{bibfiles/solve-credit-assignment-problem-references.bib}\n",
      "\\addbibresource{bibfiles/synapse-model-references.bib}\n"
     ]
    }
   ],
   "source": [
    "for filepath in bib_list:\n",
    "    basename = os.path.basename(filepath)\n",
    "    filepath_split = filepath.split(\"\\\\\")\n",
    "    new_filename = \"-\".join(filepath_split[1:])\n",
    "    shutil.copyfile(filepath, savedir+new_filename)\n",
    "    print(r\"\\addbibresource{\"+savedir[2:]+new_filename+\"}\")"
   ]
  },
  {
   "cell_type": "code",
   "execution_count": 14,
   "id": "ac65def0",
   "metadata": {},
   "outputs": [],
   "source": []
  },
  {
   "cell_type": "code",
   "execution_count": 15,
   "id": "567f88fc",
   "metadata": {},
   "outputs": [],
   "source": []
  },
  {
   "cell_type": "code",
   "execution_count": null,
   "id": "4d697ae7",
   "metadata": {},
   "outputs": [],
   "source": []
  }
 ],
 "metadata": {
  "kernelspec": {
   "display_name": "Python 3 (ipykernel)",
   "language": "python",
   "name": "python3"
  },
  "language_info": {
   "codemirror_mode": {
    "name": "ipython",
    "version": 3
   },
   "file_extension": ".py",
   "mimetype": "text/x-python",
   "name": "python",
   "nbconvert_exporter": "python",
   "pygments_lexer": "ipython3",
   "version": "3.11.3"
  }
 },
 "nbformat": 4,
 "nbformat_minor": 5
}
