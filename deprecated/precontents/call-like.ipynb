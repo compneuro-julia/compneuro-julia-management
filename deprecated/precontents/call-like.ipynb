{
 "cells": [
  {
   "cell_type": "code",
   "execution_count": null,
   "id": "e579f9b0",
   "metadata": {},
   "outputs": [],
   "source": [
    "struct A\n",
    "   α\n",
    "end\n",
    "\n",
    "(a::A)(x) = a.α*x\n",
    "b = A(3)\n",
    "b(2)"
   ]
  },
  {
   "cell_type": "code",
   "execution_count": null,
   "id": "7b6bc381",
   "metadata": {},
   "outputs": [],
   "source": [
    "@kwdef mutable struct RNN{FT} <: Layer\n",
    "    num_input::Int64\n",
    "    num_output::Int64\n",
    "    h::Vector{FT} = randn(num_output)\n",
    "    W_rec::Array{FT} = randn(num_output, num_output)\n",
    "    W_in::Array{FT} = randn(num_output, num_input) \n",
    "end"
   ]
  },
  {
   "cell_type": "code",
   "execution_count": null,
   "id": "46e5bb78",
   "metadata": {},
   "outputs": [],
   "source": [
    "function forward!(layer::RNN, x::Array)\n",
    "    @unpack h, W_rec, W_in = layer\n",
    "    y = W_in * x + h\n",
    "    h[:] = W_rec * h\n",
    "    return y\n",
    "end"
   ]
  },
  {
   "cell_type": "code",
   "execution_count": null,
   "id": "12539d00",
   "metadata": {},
   "outputs": [],
   "source": [
    "rnn = RNN{Float32}(num_input=10, num_output=5);"
   ]
  },
  {
   "cell_type": "code",
   "execution_count": null,
   "id": "91e1ac35",
   "metadata": {},
   "outputs": [],
   "source": [
    "function initialize_states!(variable::RNN)\n",
    "    @unpack h, W_rec, W_in = variable\n",
    "    h[:] = randn(size(h))\n",
    "    W_rec[:, :] = randn(size(W_rec))\n",
    "    W_in[:, :] = randn(size(W_in))\n",
    "end"
   ]
  },
  {
   "cell_type": "code",
   "execution_count": null,
   "id": "86dff8b8",
   "metadata": {},
   "outputs": [],
   "source": []
  }
 ],
 "metadata": {
  "kernelspec": {
   "display_name": "Julia 1.9.4",
   "language": "julia",
   "name": "julia-1.9"
  },
  "language_info": {
   "file_extension": ".jl",
   "mimetype": "application/julia",
   "name": "julia",
   "version": "1.9.4"
  }
 },
 "nbformat": 4,
 "nbformat_minor": 5
}
