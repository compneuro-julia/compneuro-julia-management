{
 "cells": [
  {
   "cell_type": "markdown",
   "id": "5e5b14d8",
   "metadata": {},
   "source": [
    "### 重み行列$\\mathbf{A}$の作成"
   ]
  },
  {
   "cell_type": "code",
   "execution_count": 1,
   "id": "0a57e3d5",
   "metadata": {},
   "outputs": [],
   "source": [
    "using PyPlot, LinearAlgebra, Random, Distributions, KernelDensity, StatsBase\n",
    "using PyPlot: matplotlib\n",
    "Random.seed!(2)\n",
    "rc(\"axes.spines\", top=false, right=false)"
   ]
  },
  {
   "cell_type": "code",
   "execution_count": 2,
   "id": "2e3adc5e",
   "metadata": {},
   "outputs": [],
   "source": [
    "function gabor(x, y, θ, σ=1, λ=2, ψ=0)\n",
    "    xθ = x * cos(θ) + y * sin(θ)\n",
    "    yθ = -x * sin(θ) + y * cos(θ)\n",
    "    return exp(-.5(xθ^2 + yθ^2)/σ^2) * cos(2π/λ * xθ + ψ)\n",
    "end;"
   ]
  },
  {
   "cell_type": "code",
   "execution_count": 3,
   "id": "2ff6ef4d",
   "metadata": {},
   "outputs": [],
   "source": [
    "function get_A(WH, Ny)\n",
    "    Nx = WH^2\n",
    "    A = zeros(Nx, Ny) # weight matrix\n",
    "    p = range(-3, 3, length=WH) # position\n",
    "    θ = (1:Ny) / Ny * π # theta for gabor\n",
    "    for i in 1:Ny\n",
    "        gb = gabor.(p', p, θ[i])\n",
    "        gb /= norm(gb) + 1e-8 # normalization\n",
    "        A[:, i] = gb[:] # flatten and save\n",
    "    end\n",
    "    return A\n",
    "end;"
   ]
  },
  {
   "cell_type": "code",
   "execution_count": 4,
   "id": "1a6e7a79",
   "metadata": {},
   "outputs": [],
   "source": [
    "WH = 16   # width/height of input image\n",
    "Nx = WH^2 # dimension of the observed variable x\n",
    "Ny = 50  # dimension of the hidden variable y\n",
    "\n",
    "A = get_A(WH, Ny);"
   ]
  },
  {
   "cell_type": "markdown",
   "id": "8bc50892",
   "metadata": {},
   "source": [
    "重み行列$\\mathbf{A}$の一部を描画してみよう．"
   ]
  },
  {
   "cell_type": "code",
   "execution_count": 5,
   "id": "0fe00894",
   "metadata": {},
   "outputs": [
    {
     "data": {
      "image/png": "[encoded data removed]",
      "text/plain": [
       "Figure(PyObject <Figure size 200x200 with 4 Axes>)"
      ]
     },
     "metadata": {},
     "output_type": "display_data"
    }
   ],
   "source": [
    "figure(figsize=(2,2))\n",
    "plot_idx = [2,4,6,8]\n",
    "weight_idx = [37,25,50,13]\n",
    "titles = [\"\", \"0°\", \"±90°\", \"\"]\n",
    "for i in 1:4\n",
    "    subplot(3,3,plot_idx[i])\n",
    "    title(titles[i])\n",
    "    imshow(reshape(A[:, weight_idx[i]], WH, WH), cmap=\"gray\")\n",
    "    axis(\"off\")\n",
    "end\n",
    "subplots_adjust(wspace=0.01, hspace=0.01)"
   ]
  },
  {
   "cell_type": "markdown",
   "id": "d746408c",
   "metadata": {},
   "source": [
    "### 分散共分散行列$\\mathbf{C}$の作成\n",
    "$\\mathbf{C}$は$y$の事前分布の分散共分散行列である．{cite:p}`Orban2016-tm`では自然画像を用いて作成しているが，ここでは簡単のため$\\mathbf{A}$と同様に{cite:p}`Echeveste2020-sh`に従って作成する．前項で作成した通り，$\\mathbf{A}$の各基底には周期性があるため，類似した基底を持つニューロン同士は類似した出力をすると考えられる．Echevesteらは$\\theta\\in[-\\pi/2, \\pi/2)$の範囲においてFourier基底を複数作成し，そのグラム行列(Gram matrix)を係数倍したものを$\\mathbf{C}$と設定している．ここではガウス過程(Gaussian process)モデルとの類似性から，周期カーネル(periodic kernel) \n",
    "\n",
    "$$\n",
    "K(\\theta, \\theta')=\\exp\\left[\\phi_1 \\cos \\left(\\dfrac{|\\theta-\\theta'|}{\\phi_2}\\right)\\right]\n",
    "$$\n",
    "\n",
    "を用いる．ここでは$|\\theta-\\theta'|=m\\pi\\ (m=0,1,\\ldots)$の際に類似度が最大になればよいので，$\\phi_2=0.5$とする．これが正定値行列になるように単位行列の係数倍$\\epsilon\\mathbf{I}$を加算し，スケーリングした上で，`Symmetric(C)`や`Matrix(Hermitian(C)))`により実対象行列としたものを$\\mathbf{C}$とする．$\\mathbf{C}$を正定値行列にする理由はJuliaの`MvNormal`がCholesky分解を用いて多変量正規分布の乱数を生成するためである． 事前に`cholesky(C)`が実行できるか確認するのもよい．"
   ]
  },
  {
   "cell_type": "code",
   "execution_count": 6,
   "id": "da9a8e25",
   "metadata": {},
   "outputs": [],
   "source": [
    "function get_C(Ny, C_range=[-0.5, 4.0], eps=0.1, ψ₁=2.0, ψ₂=0.5)\n",
    "    K(x₁, x₂, ψ₁, ψ₂) = exp(ψ₁ * cos(abs(x₁-x₂) / ψ₂)) # periodic kernel\n",
    "    θ = (1:Ny) / Ny * π # theta for gabor\n",
    "    C = K.(θ', θ, ψ₁, ψ₂) # create covariance matrix\n",
    "    C += eps * I # regularization to make C positive definite\n",
    "    C_min, C_max = minimum(C), maximum(C)\n",
    "    C = C_range[1] .+ (C_range[2]-C_range[1]) * (C .- C_min) / (C_max - C_min)\n",
    "    return Symmetric(C); # make symmetric matrix using upper triangular matrix\n",
    "end;"
   ]
  },
  {
   "cell_type": "code",
   "execution_count": 7,
   "id": "185cc1e2",
   "metadata": {},
   "outputs": [
    {
     "data": {
      "image/png": "[encoded data removed]",
      "text/plain": [
       "Figure(PyObject <Figure size 300x200 with 2 Axes>)"
      ]
     },
     "metadata": {},
     "output_type": "display_data"
    }
   ],
   "source": [
    "C = get_C(Ny)\n",
    "\n",
    "figure(figsize=(3,2))\n",
    "title(L\"$\\mathbf{C}$\")\n",
    "ims = imshow(C, origin=\"lower\", cmap=\"bwr\", vmin=-4, vmax=4, extent=(-90, 90, -90, 90))\n",
    "xticks([-90,0,90]); yticks([-90,0,90]); \n",
    "xlabel(L\"$\\theta$ (Pref. ori)\"); ylabel(L\"$\\theta$ (Pref. ori)\")\n",
    "colorbar(ims);\n",
    "tight_layout()"
   ]
  },
  {
   "cell_type": "markdown",
   "id": "af188654",
   "metadata": {},
   "source": [
    "ここでPref. oriは最適方位 (preferred orientation)を意味する．"
   ]
  },
  {
   "cell_type": "markdown",
   "id": "676183be",
   "metadata": {},
   "source": [
    "### 事後分布の計算\n",
    "事後分布は$z$と$\\mathbf{y}$のそれぞれについて次のように求められる．\n",
    "\n",
    "\n",
    "$$\n",
    "\\begin{aligned}\n",
    "p(z \\mid \\mathbf{x}) &\\propto p(z) \\mathcal{N}\\left(0, z^{2} \\mathbf{A C A}^{\\top}+\\sigma_{x}^{2} \\mathbf{I}\\right)\\\\\n",
    "p(\\mathbf{y} \\mid z, \\mathbf{x})& = \\mathcal{N}\\left(\\mu(z, \\mathbf{x}), \\Sigma(z)\\right)\n",
    "\\end{aligned}\n",
    "$$\n",
    "\n",
    "ただし，\n",
    "\n",
    "$$\n",
    "\\begin{aligned}\n",
    "\\Sigma(z)&=\\left(\\mathbf{C}^{-1}+\\frac{z^{2}}{\\sigma_{x}^{2}} \\mathbf{A}^{\\top} \\mathbf{A}\\right)^{-1}\\\\\n",
    "\\mu(z, \\mathbf{x})&=\\frac{z}{\\sigma_{x}^{2}} \\Sigma(z) \\mathbf{A}^{\\top} \\mathbf{x}\n",
    "\\end{aligned}\n",
    "$$\n",
    "\n",
    "である．\n",
    "\n",
    "最終的な予測において$z$の事後分布は必要でないため，$p(\\mathbf{y} \\mid z, \\mathbf{x})$から$z$を消去することを考えよう．厳密に行う場合，次式のように周辺化(marginalization)により，$z$を（積分）消去する必要がある．\n",
    "\n",
    "$$\n",
    "p(\\mathbf{y} \\mid \\mathbf{x}) = \\int dz\\ p(z\\mid \\mathbf{x})\\cdot p(\\mathbf{y} \\mid z, \\mathbf{x})\n",
    "$$\n",
    "\n",
    "周辺化においては，まず$z$のMAP推定（最大事後確率推定）値 $z_{\\mathrm{MAP}}$を求める．\n",
    "\n",
    "$$\n",
    "z_{\\mathrm{MAP}} = \\underset{z}{\\operatorname{argmax}} p(z\\mid \\mathbf{x})\n",
    "$$\n",
    "\n",
    "次に$z_{\\mathrm{MAP}}$の周辺で$p(z\\mid \\mathbf{x})$を積分し，積分値が一定の閾値を超える$z$の範囲を求め，この範囲で$z$を積分消去してやればよい．しかし，$z$は単一のスカラー値であり，この手法で推定するのは煩雑であるために近似手法が{cite:p}`Echeveste2017-wu`において提案されている．Echevesteらは第一の近似として，$z$の分布を$z_{\\mathrm{MAP}}$でのデルタ関数に置き換える，すなわち，$p(z\\mid \\mathbf{x})\\simeq \\delta (z-z_{\\mathrm{MAP}})$とすることを提案している．この場合，$z$は定数とみなせ，$p(\\mathbf{y} \\mid \\mathbf{x})\\simeq p(\\mathbf{y} \\mid \\mathbf{x}, z=z_{\\mathrm{MAP}})$となる．第二の近似として，$z_{\\mathrm{MAP}}$を真のコントラスト$z^*$で置き換えることが提案されている．GSMへの入力$\\mathbf{x}$は元の画像を$\\mathbf{\\tilde x}$とすると，$\\mathbf{x}=z^* \\mathbf{\\tilde x}$としてスケーリングされる．この入力の前処理の際に用いる$z^*$を用いてしまおうということである．この場合，$p(\\mathbf{y} \\mid \\mathbf{x})\\simeq p(\\mathbf{y} \\mid \\mathbf{x}, z=z^*)$となる．しかし，入力を任意の画像とする場合，$z^*$は未知である．簡便さと精度のバランスを取り，ここでは第一の近似，$z=z_{\\mathrm{MAP}}$とする手法を用いることにする．"
   ]
  },
  {
   "cell_type": "markdown",
   "id": "b4fc2014",
   "metadata": {},
   "source": [
    "### シミュレーション"
   ]
  },
  {
   "cell_type": "code",
   "execution_count": 8,
   "id": "1d2d13b0",
   "metadata": {},
   "outputs": [],
   "source": [
    "AᵀA = A' * A\n",
    "ACAᵀ = A * C * A'\n",
    "\n",
    "σₓ = 1.0 # Noise of the x process\n",
    "σₓ² = σₓ^2\n",
    "k, θ = 2.0, 2.0 # Parameter of the gamma dist. for z (Shape, Scale)\n",
    "\n",
    "C⁻¹ = inv(C); # inverse of C"
   ]
  },
  {
   "cell_type": "markdown",
   "id": "518395c2",
   "metadata": {},
   "source": [
    "入力データの作成"
   ]
  },
  {
   "cell_type": "code",
   "execution_count": 9,
   "id": "38090e18",
   "metadata": {},
   "outputs": [],
   "source": [
    "Z = [0.0, 0.25, 0.5, 1.0, 2.0] # true contrasts z^*\n",
    "n_samples = size(Z)[1]\n",
    "y = rand(MvNormal(zeros(Ny), C), 1) # sampling from P(y)=N(0, C)\n",
    "X = hcat([rand(MvNormal(vec(z*A*y), σₓ*I)) for z in Z]...)';"
   ]
  },
  {
   "cell_type": "code",
   "execution_count": 10,
   "id": "f870f752",
   "metadata": {},
   "outputs": [
    {
     "data": {
      "image/png": "[encoded data removed]",
      "text/plain": [
       "Figure(PyObject <Figure size 400x200 with 5 Axes>)"
      ]
     },
     "metadata": {},
     "output_type": "display_data"
    }
   ],
   "source": [
    "x_min, x_max = minimum(X), maximum(X)\n",
    "\n",
    "figure(figsize=(4,2))\n",
    "for s in 1:n_samples\n",
    "    subplot(1, n_samples, s)\n",
    "    title(L\"$z$: \"*string(Z[s]))\n",
    "    imshow(reshape(X[s, :], WH, WH), vmin=x_min, vmax=x_max, cmap=\"gray\")\n",
    "    axis(\"off\")\n",
    "end\n",
    "tight_layout()"
   ]
  },
  {
   "cell_type": "markdown",
   "id": "d247ade1",
   "metadata": {},
   "source": [
    "事後分布の計算をする．"
   ]
  },
  {
   "cell_type": "markdown",
   "id": "5d8b6401",
   "metadata": {},
   "source": [
    "### 出力のサンプリング"
   ]
  },
  {
   "cell_type": "code",
   "execution_count": 11,
   "id": "1c3e49ce",
   "metadata": {},
   "outputs": [
    {
     "data": {
      "text/plain": [
       "membrane_potential (generic function with 4 methods)"
      ]
     },
     "execution_count": 11,
     "metadata": {},
     "output_type": "execute_result"
    }
   ],
   "source": [
    "membrane_potential(y, α=2.4, β=1.9, γ=0.6) = α * max(0, y+β)^γ"
   ]
  },
  {
   "cell_type": "markdown",
   "id": "00c029b3",
   "metadata": {},
   "source": [
    "事後分布から応答をサンプリングする．"
   ]
  },
  {
   "cell_type": "markdown",
   "id": "dabafffb",
   "metadata": {},
   "source": [
    "## 興奮性・抑制性神経回路によるサンプリング\n",
    "前節で実装したMCMCを**興奮性・抑制性神経回路 (excitatory-inhibitory [E-I] network)** で実装する．HMCとLMCの両方を神経回路で実装する．\n",
    "\n",
    "Hamiltonianを用いる場合，一般化座標$\\mathbf{q}$を興奮性神経細胞の活動$\\mathbf{u}$, 一般化運動量$\\mathbf{p}$を抑制性神経細胞の活動$\\mathbf{v}$に対応させる．\n",
    "\n",
    "*ToDo: 詳しい説明*\n",
    "\n",
    "簡単のため，前項で用いた入力刺激のうち，最も$z$が大きいサンプルのみを使用する．"
   ]
  },
  {
   "cell_type": "code",
   "execution_count": 12,
   "id": "70314243",
   "metadata": {},
   "outputs": [],
   "source": [
    "dt = 1e-2 # ms\n",
    "τ, τl = 10.0, 150.0 # ms\n",
    "α_in = [1/τ - 1/τl, 1/τ + 1/τl]\n",
    "α_ext = [1/τl, -1/τ]\n",
    "ρ = sqrt(2*dt/τl);\n",
    "\n",
    "nt = 50000\n",
    "M = cat(ones(1,1), C; dims=(1,2));\n",
    "x_idx = n_samples # get last x\n",
    "x = X[x_idx, :]\n",
    "u_init = [1; zeros(Ny)];"
   ]
  },
  {
   "cell_type": "code",
   "execution_count": 24,
   "id": "1f2933c4",
   "metadata": {},
   "outputs": [
    {
     "data": {
      "text/plain": [
       "∇ᵤlogP (generic function with 1 method)"
      ]
     },
     "execution_count": 24,
     "metadata": {},
     "output_type": "execute_result"
    }
   ],
   "source": [
    "function ∇ᵤlogP(u, x, σₓ², A, C⁻¹)\n",
    "    z, y = abs(u[1]), u[2:end]\n",
    "    pred_error = A' * x / σₓ² # prediction error signal\n",
    "    #pred_error = A' * (x - z*A*y) / σₓ² # prediction error signal\n",
    "    du = zeros(size(u))\n",
    "    #du[1] = 0 #sign(u[1]) * (y' * pred_error)\n",
    "    du[1] = sign(u[1]) * (y' * pred_error - z)\n",
    "    du[2:end] = z * pred_error - C⁻¹*y\n",
    "    return du\n",
    "end"
   ]
  },
  {
   "cell_type": "code",
   "execution_count": 14,
   "id": "e757b318",
   "metadata": {},
   "outputs": [],
   "source": [
    "∇log_p(u) = ∇ᵤlogP(u, x, σₓ², A, C⁻¹);"
   ]
  },
  {
   "cell_type": "code",
   "execution_count": 15,
   "id": "e0956b76",
   "metadata": {},
   "outputs": [],
   "source": [
    "function NeuralLMC(∇log_p::Function, u_init::Vector{Float64}, α::Float64, ρ::Float64, dt::Float64, nt::Int)\n",
    "    d = length(u_init)\n",
    "    u = zeros(nt, d)\n",
    "    u[1, :] = u_init\n",
    "\n",
    "    for t in 1:nt-1\n",
    "        I_ext = ∇log_p(u[t, :]) # external input\n",
    "        u[t+1, :] = u[t, :] + dt * (α * I_ext) + ρ * randn(d) \n",
    "    end\n",
    "    return u\n",
    "end\n",
    "\n",
    "function NeuralHMC(∇log_p::Function, u_init::Vector{Float64}, M::Matrix{Float64}, \n",
    "        α_in::Vector{Float64}, α_ext::Vector{Float64}, ρ::Float64, dt::Float64, nt::Int)\n",
    "    d = length(u_init)\n",
    "    u, v = zeros(nt, d), zeros(nt, d)\n",
    "    u[1, :] = u_init\n",
    "\n",
    "    for t in 1:nt-1\n",
    "        I_ext = ∇log_p(u[t, :]) # external input\n",
    "        I_in = M * (u[t, :] - v[t, :]) # internal input\n",
    "        u[t+1, :] = u[t, :] + dt * (α_in[1] * I_in + α_ext[1] * I_ext) + ρ * randn(d) \n",
    "        v[t+1, :] = v[t, :] + dt * (α_in[2] * I_in + α_ext[2] * I_ext) + ρ * randn(d)\n",
    "    end\n",
    "    return u, v\n",
    "end;"
   ]
  },
  {
   "cell_type": "code",
   "execution_count": 25,
   "id": "c53d53f1",
   "metadata": {},
   "outputs": [
    {
     "name": "stdout",
     "output_type": "stream",
     "text": [
      "  3.310707 seconds (720.97 k allocations: 351.553 MiB, 0.78% gc time, 0.40% compilation time)\n"
     ]
    }
   ],
   "source": [
    "@time u_nlmc = NeuralLMC(∇log_p, u_init, α_ext[1], ρ, dt, nt);"
   ]
  },
  {
   "cell_type": "code",
   "execution_count": 26,
   "id": "8671d2ff",
   "metadata": {},
   "outputs": [
    {
     "name": "stdout",
     "output_type": "stream",
     "text": [
      "  3.640502 seconds (1.40 M allocations: 701.128 MiB, 0.97% gc time)\n"
     ]
    }
   ],
   "source": [
    "@time u_nhmc, v_nhmc = NeuralHMC(∇log_p, u_init, M, α_in, α_ext, ρ, dt, nt);"
   ]
  },
  {
   "cell_type": "markdown",
   "id": "cd757ad9",
   "metadata": {},
   "source": [
    "初めの100msはburn-in期間として除く．またダウンサンプリングする．"
   ]
  },
  {
   "cell_type": "code",
   "execution_count": 27,
   "id": "87a0abb5",
   "metadata": {},
   "outputs": [],
   "source": [
    "L = 100\n",
    "burn_in = 10000\n",
    "mcmc_time = (burn_in*dt):(L*dt):(nt*dt); # time for plot"
   ]
  },
  {
   "cell_type": "code",
   "execution_count": 28,
   "id": "9e14353f",
   "metadata": {},
   "outputs": [],
   "source": [
    "mean_nlmc = mean(u_nlmc[burn_in:L:end, 2:end], dims=2); # pseudo-LFP\n",
    "mean_nhmc = mean(u_nhmc[burn_in:L:end, 2:end], dims=2);\n",
    "\n",
    "autocorr_nlmc = autocor(mean_nlmc, 1:length(mean_nlmc)-1);\n",
    "autocorr_nhmc = autocor(mean_nhmc, 1:length(mean_nhmc)-1);"
   ]
  },
  {
   "cell_type": "markdown",
   "id": "563de3c4",
   "metadata": {},
   "source": [
    "$z$の推定過程を描画する．また，$z$を除いた$\\mathbf{u}$を平均化し，自己相関の度合いを確認する．"
   ]
  },
  {
   "cell_type": "code",
   "execution_count": 29,
   "id": "918ab1b2",
   "metadata": {},
   "outputs": [
    {
     "data": {
      "image/png": "[encoded data removed]",
      "text/plain": [
       "Figure(PyObject <Figure size 600x250 with 2 Axes>)"
      ]
     },
     "metadata": {},
     "output_type": "display_data"
    }
   ],
   "source": [
    "fig, ax = subplots(1,2,figsize=(6,2.5),sharex=\"all\")\n",
    "ax[1].plot(mcmc_time, u_nhmc[burn_in:L:end, 1], color=\"tab:red\")\n",
    "ax[1].plot(mcmc_time, u_nlmc[burn_in:L:end, 1], color=\"tab:blue\")\n",
    "ax[1].axhline(Z[x_idx], linestyle=\"dashed\", color=\"tab:gray\", alpha=0.5)\n",
    "ax[1].set_xlabel(\"Time (ms)\"); ax[1].set_ylabel(L\"Estimated $z$\")\n",
    "ax[1].set_xlim(mcmc_time[1], mcmc_time[end])\n",
    "\n",
    "ax[2].plot(mcmc_time[1:end-1], autocorr_nhmc, color=\"tab:red\", label=\"Hamiltonian\")\n",
    "ax[2].plot(mcmc_time[1:end-1], autocorr_nlmc, color=\"tab:blue\", label=\"Langevin\")\n",
    "ax[2].set_xlabel(\"Time (ms)\"); ax[2].set_ylabel(\"Autocorrelation\")\n",
    "ax[2].set_xlim(mcmc_time[1], mcmc_time[end])\n",
    "ax[2].axhline(0, linestyle=\"dashed\", color=\"tab:gray\", alpha=0.5)\n",
    "ax[2].legend()\n",
    "fig.tight_layout()"
   ]
  },
  {
   "cell_type": "markdown",
   "id": "6dffd047",
   "metadata": {},
   "source": [
    "Hamiltonianネットワークは自己相関を振動により低下させることで，効率の良いサンプリングを実現している．\n",
    "\n",
    "*ToDo: 普通にMCMCやる場合も自己相関は確認したほうがいいという話をどこかに書く．*\n",
    "\n",
    "推定された事後分布を特定の神経細胞のペアについて確認する．"
   ]
  },
  {
   "cell_type": "code",
   "execution_count": 21,
   "id": "0f12fd91",
   "metadata": {},
   "outputs": [
    {
     "data": {
      "text/plain": [
       "2-element Vector{Int64}:\n",
       "  1\n",
       " 25"
      ]
     },
     "execution_count": 21,
     "metadata": {},
     "output_type": "execute_result"
    }
   ],
   "source": [
    "unit_idx = [1, 25]"
   ]
  },
  {
   "cell_type": "code",
   "execution_count": 22,
   "id": "9746d571",
   "metadata": {},
   "outputs": [],
   "source": [
    "h_nhmc = membrane_potential.(u_nhmc[burn_in:L:end, :])\n",
    "h_nlmc = membrane_potential.(u_nlmc[burn_in:L:end, :])\n",
    "\n",
    "kde_bound = ((3,7),(3,7)) # ((xlo,xhi),(ylo,yhi))\n",
    "U_nhmc = kde((h_nhmc[:, unit_idx[1]+1], h_nhmc[:, unit_idx[2]+1]), boundary=kde_bound)\n",
    "U_nlmc = kde((h_nlmc[:, unit_idx[1]+1], h_nlmc[:, unit_idx[2]+1]), boundary=kde_bound);"
   ]
  },
  {
   "cell_type": "code",
   "execution_count": 23,
   "id": "a0712182",
   "metadata": {},
   "outputs": [
    {
     "data": {
      "image/png": "[encoded data removed]",
      "text/plain": [
       "Figure(PyObject <Figure size 600x250 with 2 Axes>)"
      ]
     },
     "metadata": {},
     "output_type": "display_data"
    }
   ],
   "source": [
    "fig, ax = plt.subplots(1,2, figsize=(6, 2.5), sharey=\"all\", sharex=\"all\")\n",
    "ax[1].contourf(U_nhmc.x, U_nhmc.x, U_nhmc.density)\n",
    "ax[1].set_title(\"Hamiltonian\")\n",
    "ax[2].contourf(U_nlmc.x, U_nlmc.x, U_nlmc.density)\n",
    "ax[2].set_title(\"Langevin\")\n",
    "ax[1].set_ylabel(\"Neuron #\"*string(unit_idx[2]))\n",
    "ax[1].set_xlabel(\"Neuron #\"*string(unit_idx[1])) \n",
    "fig.tight_layout()"
   ]
  }
 ],
 "metadata": {
  "jupytext": {
   "cell_metadata_filter": "-all",
   "encoding": "# -*- coding: utf-8 -*-",
   "main_language": "python",
   "notebook_metadata_filter": "-all",
   "text_representation": {
    "extension": ".py",
    "format_name": "light"
   }
  },
  "kernelspec": {
   "display_name": "Julia 1.8.1",
   "language": "julia",
   "name": "julia-1.8"
  },
  "language_info": {
   "file_extension": ".jl",
   "mimetype": "application/julia",
   "name": "julia",
   "version": "1.8.1"
  }
 },
 "nbformat": 4,
 "nbformat_minor": 5
}
